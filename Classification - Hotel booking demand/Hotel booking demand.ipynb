{
 "cells": [
  {
   "cell_type": "markdown",
   "id": "f2795d81-06a8-4500-bc65-a20fa1eb7359",
   "metadata": {},
   "source": [
    "# Hotel booking demand"
   ]
  },
  {
   "cell_type": "markdown",
   "id": "030cc628-486c-48ae-91f4-1fd87807bb9f",
   "metadata": {},
   "source": [
    "İnsanlar her tatile çıktıklarında rezervasyon yaptırmak için uygun bir otel arıyor ve girişimciler de piyasadaki en iyi otel seçeneklerini sunmaya ve otellerini müşteriler için daha cazip hale getirmeye çalışıyor. Oda rezervasyonlarının iptali, otellerin reytingini ve kar üretimini etkilediği için turizm işletmeleri için büyük bir sorun olabilir.\n",
    "\n",
    "Bizde bu projede rezervasyonun iptal edilip edilmediğini bulan bir model gelistirecegiz."
   ]
  },
  {
   "cell_type": "markdown",
   "id": "455088d2-1045-4ac4-b61a-e6424066b739",
   "metadata": {},
   "source": [
    "<img src=\"https://www.yaz-tatili.com/wp-content/uploads/rezervasyon-iptalleri.jpg\">"
   ]
  },
  {
   "cell_type": "markdown",
   "id": "43d85481-ec55-43fb-837c-c7155453db09",
   "metadata": {},
   "source": [
    "<a href=\"https://www.kaggle.com/competitions/hotel-booking-demand-3/data\">Dataya Buradan Erieşbilirsiniz</a>"
   ]
  },
  {
   "cell_type": "code",
   "execution_count": 1,
   "id": "99c992de-35a6-4ac1-8ad8-a977ad1bc612",
   "metadata": {},
   "outputs": [],
   "source": [
    "import pandas as pd\n",
    "import matplotlib.pyplot as plt\n",
    "import seaborn as sns\n",
    "\n",
    "pd.set_option(\"display.max_columns\",100)\n",
    "\n",
    "import warnings\n",
    "warnings.filterwarnings(\"ignore\")"
   ]
  },
  {
   "cell_type": "markdown",
   "id": "871ea0b7-d814-4d2e-a754-48ee8476eee5",
   "metadata": {},
   "source": [
    "### EDA"
   ]
  },
  {
   "cell_type": "code",
   "execution_count": 2,
   "id": "8ecee866-ee77-40e4-b7a1-91ece2260ea5",
   "metadata": {},
   "outputs": [],
   "source": [
    "df=pd.read_csv(\"train_final.csv\")"
   ]
  },
  {
   "cell_type": "code",
   "execution_count": 3,
   "id": "2a932ddc-3083-4d28-915a-85d8bfe84a77",
   "metadata": {},
   "outputs": [
    {
     "data": {
      "text/html": [
       "<div>\n",
       "<style scoped>\n",
       "    .dataframe tbody tr th:only-of-type {\n",
       "        vertical-align: middle;\n",
       "    }\n",
       "\n",
       "    .dataframe tbody tr th {\n",
       "        vertical-align: top;\n",
       "    }\n",
       "\n",
       "    .dataframe thead th {\n",
       "        text-align: right;\n",
       "    }\n",
       "</style>\n",
       "<table border=\"1\" class=\"dataframe\">\n",
       "  <thead>\n",
       "    <tr style=\"text-align: right;\">\n",
       "      <th></th>\n",
       "      <th>hotel</th>\n",
       "      <th>is_canceled</th>\n",
       "      <th>lead_time</th>\n",
       "      <th>arrival_date_year</th>\n",
       "      <th>arrival_date_month</th>\n",
       "      <th>arrival_date_week_number</th>\n",
       "      <th>arrival_date_day_of_month</th>\n",
       "      <th>stays_in_weekend_nights</th>\n",
       "      <th>stays_in_week_nights</th>\n",
       "      <th>adults</th>\n",
       "      <th>children</th>\n",
       "      <th>babies</th>\n",
       "      <th>meal</th>\n",
       "      <th>country</th>\n",
       "      <th>market_segment</th>\n",
       "      <th>distribution_channel</th>\n",
       "      <th>is_repeated_guest</th>\n",
       "      <th>previous_cancellations</th>\n",
       "      <th>previous_bookings_not_canceled</th>\n",
       "      <th>reserved_room_type</th>\n",
       "      <th>assigned_room_type</th>\n",
       "      <th>booking_changes</th>\n",
       "      <th>deposit_type</th>\n",
       "      <th>days_in_waiting_list</th>\n",
       "      <th>customer_type</th>\n",
       "      <th>adr</th>\n",
       "      <th>required_car_parking_spaces</th>\n",
       "      <th>total_of_special_requests</th>\n",
       "      <th>reservation_status_date</th>\n",
       "    </tr>\n",
       "  </thead>\n",
       "  <tbody>\n",
       "    <tr>\n",
       "      <th>0</th>\n",
       "      <td>Resort Hotel</td>\n",
       "      <td>0</td>\n",
       "      <td>3</td>\n",
       "      <td>2016</td>\n",
       "      <td>February</td>\n",
       "      <td>7</td>\n",
       "      <td>12</td>\n",
       "      <td>0</td>\n",
       "      <td>2</td>\n",
       "      <td>2</td>\n",
       "      <td>0.0</td>\n",
       "      <td>0</td>\n",
       "      <td>BB</td>\n",
       "      <td>PRT</td>\n",
       "      <td>Direct</td>\n",
       "      <td>Direct</td>\n",
       "      <td>0</td>\n",
       "      <td>0</td>\n",
       "      <td>0</td>\n",
       "      <td>E</td>\n",
       "      <td>F</td>\n",
       "      <td>0</td>\n",
       "      <td>No Deposit</td>\n",
       "      <td>0</td>\n",
       "      <td>Transient</td>\n",
       "      <td>81.0</td>\n",
       "      <td>1</td>\n",
       "      <td>0</td>\n",
       "      <td>2016-02-14</td>\n",
       "    </tr>\n",
       "    <tr>\n",
       "      <th>1</th>\n",
       "      <td>City Hotel</td>\n",
       "      <td>1</td>\n",
       "      <td>50</td>\n",
       "      <td>2016</td>\n",
       "      <td>November</td>\n",
       "      <td>47</td>\n",
       "      <td>18</td>\n",
       "      <td>1</td>\n",
       "      <td>2</td>\n",
       "      <td>2</td>\n",
       "      <td>0.0</td>\n",
       "      <td>0</td>\n",
       "      <td>BB</td>\n",
       "      <td>BEL</td>\n",
       "      <td>Online TA</td>\n",
       "      <td>TA/TO</td>\n",
       "      <td>0</td>\n",
       "      <td>0</td>\n",
       "      <td>0</td>\n",
       "      <td>A</td>\n",
       "      <td>A</td>\n",
       "      <td>0</td>\n",
       "      <td>No Deposit</td>\n",
       "      <td>0</td>\n",
       "      <td>Transient</td>\n",
       "      <td>93.6</td>\n",
       "      <td>0</td>\n",
       "      <td>2</td>\n",
       "      <td>2016-10-09</td>\n",
       "    </tr>\n",
       "    <tr>\n",
       "      <th>2</th>\n",
       "      <td>City Hotel</td>\n",
       "      <td>0</td>\n",
       "      <td>14</td>\n",
       "      <td>2015</td>\n",
       "      <td>September</td>\n",
       "      <td>37</td>\n",
       "      <td>7</td>\n",
       "      <td>1</td>\n",
       "      <td>5</td>\n",
       "      <td>2</td>\n",
       "      <td>2.0</td>\n",
       "      <td>0</td>\n",
       "      <td>BB</td>\n",
       "      <td>ITA</td>\n",
       "      <td>Online TA</td>\n",
       "      <td>TA/TO</td>\n",
       "      <td>0</td>\n",
       "      <td>0</td>\n",
       "      <td>0</td>\n",
       "      <td>F</td>\n",
       "      <td>F</td>\n",
       "      <td>0</td>\n",
       "      <td>No Deposit</td>\n",
       "      <td>0</td>\n",
       "      <td>Contract</td>\n",
       "      <td>166.0</td>\n",
       "      <td>0</td>\n",
       "      <td>3</td>\n",
       "      <td>2015-09-13</td>\n",
       "    </tr>\n",
       "    <tr>\n",
       "      <th>3</th>\n",
       "      <td>City Hotel</td>\n",
       "      <td>0</td>\n",
       "      <td>18</td>\n",
       "      <td>2015</td>\n",
       "      <td>December</td>\n",
       "      <td>50</td>\n",
       "      <td>6</td>\n",
       "      <td>2</td>\n",
       "      <td>0</td>\n",
       "      <td>2</td>\n",
       "      <td>0.0</td>\n",
       "      <td>0</td>\n",
       "      <td>BB</td>\n",
       "      <td>ESP</td>\n",
       "      <td>Online TA</td>\n",
       "      <td>TA/TO</td>\n",
       "      <td>0</td>\n",
       "      <td>0</td>\n",
       "      <td>0</td>\n",
       "      <td>A</td>\n",
       "      <td>A</td>\n",
       "      <td>0</td>\n",
       "      <td>No Deposit</td>\n",
       "      <td>0</td>\n",
       "      <td>Transient</td>\n",
       "      <td>107.0</td>\n",
       "      <td>0</td>\n",
       "      <td>0</td>\n",
       "      <td>2015-12-08</td>\n",
       "    </tr>\n",
       "    <tr>\n",
       "      <th>4</th>\n",
       "      <td>City Hotel</td>\n",
       "      <td>1</td>\n",
       "      <td>263</td>\n",
       "      <td>2016</td>\n",
       "      <td>September</td>\n",
       "      <td>40</td>\n",
       "      <td>29</td>\n",
       "      <td>2</td>\n",
       "      <td>4</td>\n",
       "      <td>2</td>\n",
       "      <td>0.0</td>\n",
       "      <td>0</td>\n",
       "      <td>BB</td>\n",
       "      <td>DEU</td>\n",
       "      <td>Online TA</td>\n",
       "      <td>TA/TO</td>\n",
       "      <td>0</td>\n",
       "      <td>0</td>\n",
       "      <td>0</td>\n",
       "      <td>A</td>\n",
       "      <td>A</td>\n",
       "      <td>0</td>\n",
       "      <td>No Deposit</td>\n",
       "      <td>0</td>\n",
       "      <td>Transient</td>\n",
       "      <td>100.3</td>\n",
       "      <td>0</td>\n",
       "      <td>0</td>\n",
       "      <td>2016-01-18</td>\n",
       "    </tr>\n",
       "  </tbody>\n",
       "</table>\n",
       "</div>"
      ],
      "text/plain": [
       "          hotel  is_canceled  lead_time  arrival_date_year arrival_date_month  \\\n",
       "0  Resort Hotel            0          3               2016           February   \n",
       "1    City Hotel            1         50               2016           November   \n",
       "2    City Hotel            0         14               2015          September   \n",
       "3    City Hotel            0         18               2015           December   \n",
       "4    City Hotel            1        263               2016          September   \n",
       "\n",
       "   arrival_date_week_number  arrival_date_day_of_month  \\\n",
       "0                         7                         12   \n",
       "1                        47                         18   \n",
       "2                        37                          7   \n",
       "3                        50                          6   \n",
       "4                        40                         29   \n",
       "\n",
       "   stays_in_weekend_nights  stays_in_week_nights  adults  children  babies  \\\n",
       "0                        0                     2       2       0.0       0   \n",
       "1                        1                     2       2       0.0       0   \n",
       "2                        1                     5       2       2.0       0   \n",
       "3                        2                     0       2       0.0       0   \n",
       "4                        2                     4       2       0.0       0   \n",
       "\n",
       "  meal country market_segment distribution_channel  is_repeated_guest  \\\n",
       "0   BB     PRT         Direct               Direct                  0   \n",
       "1   BB     BEL      Online TA                TA/TO                  0   \n",
       "2   BB     ITA      Online TA                TA/TO                  0   \n",
       "3   BB     ESP      Online TA                TA/TO                  0   \n",
       "4   BB     DEU      Online TA                TA/TO                  0   \n",
       "\n",
       "   previous_cancellations  previous_bookings_not_canceled reserved_room_type  \\\n",
       "0                       0                               0                  E   \n",
       "1                       0                               0                  A   \n",
       "2                       0                               0                  F   \n",
       "3                       0                               0                  A   \n",
       "4                       0                               0                  A   \n",
       "\n",
       "  assigned_room_type  booking_changes deposit_type  days_in_waiting_list  \\\n",
       "0                  F                0   No Deposit                     0   \n",
       "1                  A                0   No Deposit                     0   \n",
       "2                  F                0   No Deposit                     0   \n",
       "3                  A                0   No Deposit                     0   \n",
       "4                  A                0   No Deposit                     0   \n",
       "\n",
       "  customer_type    adr  required_car_parking_spaces  \\\n",
       "0     Transient   81.0                            1   \n",
       "1     Transient   93.6                            0   \n",
       "2      Contract  166.0                            0   \n",
       "3     Transient  107.0                            0   \n",
       "4     Transient  100.3                            0   \n",
       "\n",
       "   total_of_special_requests reservation_status_date  \n",
       "0                          0              2016-02-14  \n",
       "1                          2              2016-10-09  \n",
       "2                          3              2015-09-13  \n",
       "3                          0              2015-12-08  \n",
       "4                          0              2016-01-18  "
      ]
     },
     "execution_count": 3,
     "metadata": {},
     "output_type": "execute_result"
    }
   ],
   "source": [
    "df.head()"
   ]
  },
  {
   "cell_type": "code",
   "execution_count": 4,
   "id": "45234f27-5793-4481-8b9d-0b7e6b956e6a",
   "metadata": {},
   "outputs": [
    {
     "data": {
      "text/plain": [
       "(44638, 29)"
      ]
     },
     "execution_count": 4,
     "metadata": {},
     "output_type": "execute_result"
    }
   ],
   "source": [
    "df.shape"
   ]
  },
  {
   "cell_type": "code",
   "execution_count": 5,
   "id": "d0b5847a-b29a-4a7d-a741-7b83aad0ec02",
   "metadata": {},
   "outputs": [
    {
     "name": "stdout",
     "output_type": "stream",
     "text": [
      "<class 'pandas.core.frame.DataFrame'>\n",
      "RangeIndex: 44638 entries, 0 to 44637\n",
      "Data columns (total 29 columns):\n",
      " #   Column                          Non-Null Count  Dtype  \n",
      "---  ------                          --------------  -----  \n",
      " 0   hotel                           44638 non-null  object \n",
      " 1   is_canceled                     44638 non-null  int64  \n",
      " 2   lead_time                       44638 non-null  int64  \n",
      " 3   arrival_date_year               44638 non-null  int64  \n",
      " 4   arrival_date_month              44638 non-null  object \n",
      " 5   arrival_date_week_number        44638 non-null  int64  \n",
      " 6   arrival_date_day_of_month       44638 non-null  int64  \n",
      " 7   stays_in_weekend_nights         44638 non-null  int64  \n",
      " 8   stays_in_week_nights            44638 non-null  int64  \n",
      " 9   adults                          44638 non-null  int64  \n",
      " 10  children                        44638 non-null  float64\n",
      " 11  babies                          44638 non-null  int64  \n",
      " 12  meal                            44638 non-null  object \n",
      " 13  country                         44638 non-null  object \n",
      " 14  market_segment                  44638 non-null  object \n",
      " 15  distribution_channel            44638 non-null  object \n",
      " 16  is_repeated_guest               44638 non-null  int64  \n",
      " 17  previous_cancellations          44638 non-null  int64  \n",
      " 18  previous_bookings_not_canceled  44638 non-null  int64  \n",
      " 19  reserved_room_type              44638 non-null  object \n",
      " 20  assigned_room_type              44638 non-null  object \n",
      " 21  booking_changes                 44638 non-null  int64  \n",
      " 22  deposit_type                    44638 non-null  object \n",
      " 23  days_in_waiting_list            44638 non-null  int64  \n",
      " 24  customer_type                   44638 non-null  object \n",
      " 25  adr                             44638 non-null  float64\n",
      " 26  required_car_parking_spaces     44638 non-null  int64  \n",
      " 27  total_of_special_requests       44638 non-null  int64  \n",
      " 28  reservation_status_date         44638 non-null  object \n",
      "dtypes: float64(2), int64(16), object(11)\n",
      "memory usage: 9.9+ MB\n"
     ]
    }
   ],
   "source": [
    "df.info()"
   ]
  },
  {
   "cell_type": "code",
   "execution_count": 6,
   "id": "fdeeff2e-4c14-45b7-8740-e89bcad7fb1b",
   "metadata": {},
   "outputs": [
    {
     "data": {
      "text/plain": [
       "hotel                             0\n",
       "is_canceled                       0\n",
       "lead_time                         0\n",
       "arrival_date_year                 0\n",
       "arrival_date_month                0\n",
       "arrival_date_week_number          0\n",
       "arrival_date_day_of_month         0\n",
       "stays_in_weekend_nights           0\n",
       "stays_in_week_nights              0\n",
       "adults                            0\n",
       "children                          0\n",
       "babies                            0\n",
       "meal                              0\n",
       "country                           0\n",
       "market_segment                    0\n",
       "distribution_channel              0\n",
       "is_repeated_guest                 0\n",
       "previous_cancellations            0\n",
       "previous_bookings_not_canceled    0\n",
       "reserved_room_type                0\n",
       "assigned_room_type                0\n",
       "booking_changes                   0\n",
       "deposit_type                      0\n",
       "days_in_waiting_list              0\n",
       "customer_type                     0\n",
       "adr                               0\n",
       "required_car_parking_spaces       0\n",
       "total_of_special_requests         0\n",
       "reservation_status_date           0\n",
       "dtype: int64"
      ]
     },
     "execution_count": 6,
     "metadata": {},
     "output_type": "execute_result"
    }
   ],
   "source": [
    "df.isnull().sum()"
   ]
  },
  {
   "cell_type": "code",
   "execution_count": 7,
   "id": "55015518-a4dd-404c-8622-f71b42f9008e",
   "metadata": {},
   "outputs": [
    {
     "data": {
      "text/plain": [
       "2"
      ]
     },
     "execution_count": 7,
     "metadata": {},
     "output_type": "execute_result"
    }
   ],
   "source": [
    "df[\"hotel\"].nunique()"
   ]
  },
  {
   "cell_type": "code",
   "execution_count": 8,
   "id": "fa389a64-a89b-4f5f-96eb-ebf1a6635ce2",
   "metadata": {},
   "outputs": [
    {
     "data": {
      "text/plain": [
       "meal\n",
       "BB           34424\n",
       "HB            5479\n",
       "SC            4038\n",
       "Undefined      445\n",
       "FB             252\n",
       "Name: count, dtype: int64"
      ]
     },
     "execution_count": 8,
     "metadata": {},
     "output_type": "execute_result"
    }
   ],
   "source": [
    "df[\"meal\"].value_counts()"
   ]
  },
  {
   "cell_type": "code",
   "execution_count": 9,
   "id": "a0b9ba75-2a1e-4aac-93bb-85c347ae9b9b",
   "metadata": {},
   "outputs": [
    {
     "data": {
      "text/plain": [
       "country\n",
       "PRT    16999\n",
       "GBR     4914\n",
       "FRA     4207\n",
       "ESP     3382\n",
       "DEU     2957\n",
       "       ...  \n",
       "MRT        1\n",
       "DMA        1\n",
       "LCA        1\n",
       "ETH        1\n",
       "CAF        1\n",
       "Name: count, Length: 156, dtype: int64"
      ]
     },
     "execution_count": 9,
     "metadata": {},
     "output_type": "execute_result"
    }
   ],
   "source": [
    "df[\"country\"].value_counts()"
   ]
  },
  {
   "cell_type": "code",
   "execution_count": 10,
   "id": "c5c58fe3-5dce-4e3d-a468-0e068a234419",
   "metadata": {},
   "outputs": [
    {
     "data": {
      "text/plain": [
       "156"
      ]
     },
     "execution_count": 10,
     "metadata": {},
     "output_type": "execute_result"
    }
   ],
   "source": [
    "df[\"country\"].nunique()"
   ]
  },
  {
   "cell_type": "code",
   "execution_count": 11,
   "id": "17ae7ef9-dfea-4bda-b166-14c6c86c03df",
   "metadata": {},
   "outputs": [
    {
     "data": {
      "text/plain": [
       "market_segment\n",
       "Online TA        21325\n",
       "Offline TA/TO     9085\n",
       "Groups            6868\n",
       "Direct            4922\n",
       "Corporate         2046\n",
       "Complementary      308\n",
       "Aviation            84\n",
       "Name: count, dtype: int64"
      ]
     },
     "execution_count": 11,
     "metadata": {},
     "output_type": "execute_result"
    }
   ],
   "source": [
    "df[\"market_segment\"].value_counts()"
   ]
  },
  {
   "cell_type": "code",
   "execution_count": 12,
   "id": "322a7e50-2343-4549-a34f-48d466e51459",
   "metadata": {},
   "outputs": [
    {
     "data": {
      "text/plain": [
       "distribution_channel\n",
       "TA/TO        36298\n",
       "Direct        5722\n",
       "Corporate     2535\n",
       "GDS             83\n",
       "Name: count, dtype: int64"
      ]
     },
     "execution_count": 12,
     "metadata": {},
     "output_type": "execute_result"
    }
   ],
   "source": [
    "df[\"distribution_channel\"].value_counts()"
   ]
  },
  {
   "cell_type": "code",
   "execution_count": 13,
   "id": "a969e0be-19d5-428b-9bdf-99e6d5ced140",
   "metadata": {},
   "outputs": [
    {
     "data": {
      "text/plain": [
       "reserved_room_type\n",
       "A    31897\n",
       "D     7356\n",
       "E     2488\n",
       "F     1082\n",
       "G      784\n",
       "B      433\n",
       "C      355\n",
       "H      241\n",
       "P        2\n",
       "Name: count, dtype: int64"
      ]
     },
     "execution_count": 13,
     "metadata": {},
     "output_type": "execute_result"
    }
   ],
   "source": [
    "df[\"reserved_room_type\"].value_counts()"
   ]
  },
  {
   "cell_type": "code",
   "execution_count": 14,
   "id": "5c194a43-1758-4be9-9fc1-dbe55e9f3e48",
   "metadata": {},
   "outputs": [
    {
     "data": {
      "text/plain": [
       "assigned_room_type\n",
       "A    27069\n",
       "D     9838\n",
       "E     3022\n",
       "F     1395\n",
       "G      972\n",
       "C      909\n",
       "B      847\n",
       "H      285\n",
       "I      170\n",
       "K      129\n",
       "P        2\n",
       "Name: count, dtype: int64"
      ]
     },
     "execution_count": 14,
     "metadata": {},
     "output_type": "execute_result"
    }
   ],
   "source": [
    "df[\"assigned_room_type\"].value_counts()"
   ]
  },
  {
   "cell_type": "code",
   "execution_count": 15,
   "id": "292b8f97-7605-4c12-a700-bef46693c004",
   "metadata": {},
   "outputs": [
    {
     "data": {
      "text/plain": [
       "deposit_type\n",
       "No Deposit    40235\n",
       "Non Refund     4339\n",
       "Refundable       64\n",
       "Name: count, dtype: int64"
      ]
     },
     "execution_count": 15,
     "metadata": {},
     "output_type": "execute_result"
    }
   ],
   "source": [
    "df[\"deposit_type\"].value_counts()"
   ]
  },
  {
   "cell_type": "code",
   "execution_count": 16,
   "id": "237f5ea8-228b-4175-ba6b-f66dc8f634ab",
   "metadata": {},
   "outputs": [
    {
     "data": {
      "text/plain": [
       "customer_type\n",
       "Transient          32982\n",
       "Transient-Party     9826\n",
       "Contract            1594\n",
       "Group                236\n",
       "Name: count, dtype: int64"
      ]
     },
     "execution_count": 16,
     "metadata": {},
     "output_type": "execute_result"
    }
   ],
   "source": [
    "df[\"customer_type\"].value_counts()"
   ]
  },
  {
   "cell_type": "code",
   "execution_count": 17,
   "id": "3ea630b6-1e82-4f6d-935d-c7e22fa0e337",
   "metadata": {},
   "outputs": [
    {
     "data": {
      "text/plain": [
       "890"
      ]
     },
     "execution_count": 17,
     "metadata": {},
     "output_type": "execute_result"
    }
   ],
   "source": [
    "df[\"reservation_status_date\"].nunique()"
   ]
  },
  {
   "cell_type": "markdown",
   "id": "4545417e-2919-4039-83b5-f6332eb23b17",
   "metadata": {},
   "source": [
    "### Feature Engineering"
   ]
  },
  {
   "cell_type": "code",
   "execution_count": 18,
   "id": "5d3016f5-e7b9-4565-9e9f-3e0fdc1d1fba",
   "metadata": {},
   "outputs": [],
   "source": [
    "from sklearn.preprocessing import LabelEncoder"
   ]
  },
  {
   "cell_type": "code",
   "execution_count": 19,
   "id": "8c59c13a-a7f1-4260-81bd-b940fc27d4b4",
   "metadata": {},
   "outputs": [],
   "source": [
    "le=LabelEncoder()"
   ]
  },
  {
   "cell_type": "code",
   "execution_count": 20,
   "id": "e8aec074-6158-45fc-b909-51c92b455f5b",
   "metadata": {},
   "outputs": [],
   "source": [
    "df[\"arrival_date_month\"]=le.fit_transform(df[\"arrival_date_month\"])"
   ]
  },
  {
   "cell_type": "code",
   "execution_count": 21,
   "id": "92db38f0-e572-4361-ab0d-fce281b29511",
   "metadata": {},
   "outputs": [],
   "source": [
    "d1={\"Resort Hotel\":1,\"City Hotel\":2}"
   ]
  },
  {
   "cell_type": "code",
   "execution_count": 22,
   "id": "753b1136-fe4b-4439-b1b8-1fc21aca3c26",
   "metadata": {},
   "outputs": [],
   "source": [
    "df[\"hotel\"]=df[\"hotel\"].map(d1)"
   ]
  },
  {
   "cell_type": "code",
   "execution_count": 23,
   "id": "42017aa7-bc83-4152-a7e7-71e15942b58b",
   "metadata": {},
   "outputs": [],
   "source": [
    "df[\"meal\"]=le.fit_transform(df[\"meal\"])"
   ]
  },
  {
   "cell_type": "code",
   "execution_count": 24,
   "id": "da0d149d-82db-44fd-8415-fa4f52d7edd1",
   "metadata": {},
   "outputs": [],
   "source": [
    "df[\"country\"]=le.fit_transform(df[\"country\"])"
   ]
  },
  {
   "cell_type": "code",
   "execution_count": 25,
   "id": "0c441098-9f12-49b5-bbcf-4f11f3ac15ec",
   "metadata": {},
   "outputs": [],
   "source": [
    "df[\"market_segment\"]=le.fit_transform(df[\"market_segment\"])"
   ]
  },
  {
   "cell_type": "code",
   "execution_count": 26,
   "id": "76847cf6-479a-4f65-9829-644e072350fb",
   "metadata": {},
   "outputs": [],
   "source": [
    "df[\"distribution_channel\"]=le.fit_transform(df[\"distribution_channel\"])"
   ]
  },
  {
   "cell_type": "code",
   "execution_count": 27,
   "id": "64149941-2a9f-4818-87ff-56189b748965",
   "metadata": {},
   "outputs": [],
   "source": [
    "df[\"reserved_room_type\"]=le.fit_transform(df[\"reserved_room_type\"])"
   ]
  },
  {
   "cell_type": "code",
   "execution_count": 28,
   "id": "00292401-b9d0-4473-83fa-310cfc225c67",
   "metadata": {},
   "outputs": [],
   "source": [
    "df[\"assigned_room_type\"]=le.fit_transform(df[\"assigned_room_type\"])"
   ]
  },
  {
   "cell_type": "code",
   "execution_count": 29,
   "id": "8f5f9aac-018c-44e3-b20e-431516b8e6ae",
   "metadata": {},
   "outputs": [],
   "source": [
    "df[\"deposit_type\"]=le.fit_transform(df[\"deposit_type\"])"
   ]
  },
  {
   "cell_type": "code",
   "execution_count": 30,
   "id": "a4cc1b77-43b7-4d23-82ab-413d8821250e",
   "metadata": {},
   "outputs": [],
   "source": [
    "df[\"customer_type\"]=le.fit_transform(df[\"customer_type\"])"
   ]
  },
  {
   "cell_type": "code",
   "execution_count": 31,
   "id": "91b824a6-db8c-436f-98d5-5a24bc7dc2bd",
   "metadata": {},
   "outputs": [],
   "source": [
    "df[\"reservation_status_date\"]=pd.to_datetime(df[\"reservation_status_date\"])"
   ]
  },
  {
   "cell_type": "code",
   "execution_count": 32,
   "id": "dcfca243-5ad5-4f35-949d-15755ef2db88",
   "metadata": {},
   "outputs": [],
   "source": [
    "df[\"month\"]=df[\"reservation_status_date\"].dt.month"
   ]
  },
  {
   "cell_type": "code",
   "execution_count": 33,
   "id": "874f015b-7abd-4ac3-afe8-479ba9c10595",
   "metadata": {},
   "outputs": [],
   "source": [
    "df[\"day\"]=df[\"reservation_status_date\"].dt.day"
   ]
  },
  {
   "cell_type": "code",
   "execution_count": 40,
   "id": "42a261b0-d344-43d5-9e6a-2c1c713d6429",
   "metadata": {},
   "outputs": [],
   "source": [
    "df=df.drop(\"reservation_status_date\",axis=1)"
   ]
  },
  {
   "cell_type": "code",
   "execution_count": 41,
   "id": "80ca0448-05f6-4196-a9c0-1ab26fe7d9ad",
   "metadata": {},
   "outputs": [
    {
     "data": {
      "image/png": "[encoded data removed]",
      "text/plain": [
       "<Figure size 1000x700 with 2 Axes>"
      ]
     },
     "metadata": {},
     "output_type": "display_data"
    }
   ],
   "source": [
    "plt.figure(figsize=(10,7))\n",
    "sns.heatmap(df.corr(numeric_only=True),annot=False, cmap=\"crest\");"
   ]
  },
  {
   "cell_type": "code",
   "execution_count": 45,
   "id": "60e73715-2294-415e-9695-f75346347845",
   "metadata": {},
   "outputs": [
    {
     "data": {
      "text/plain": [
       "<Axes: xlabel='is_canceled', ylabel='count'>"
      ]
     },
     "execution_count": 45,
     "metadata": {},
     "output_type": "execute_result"
    },
    {
     "data": {
      "image/png": "[encoded data removed]",
      "text/plain": [
       "<Figure size 640x480 with 1 Axes>"
      ]
     },
     "metadata": {},
     "output_type": "display_data"
    }
   ],
   "source": [
    "sns.countplot(x=df[\"is_canceled\"])"
   ]
  },
  {
   "cell_type": "markdown",
   "id": "fa4826c4-f85c-4232-96f1-896821a21549",
   "metadata": {},
   "source": [
    "### Modelling"
   ]
  },
  {
   "cell_type": "code",
   "execution_count": 42,
   "id": "cb69a342-7bd3-45d3-9241-3df72af2e084",
   "metadata": {},
   "outputs": [],
   "source": [
    "x=df.drop(\"is_canceled\",axis=1)\n",
    "y=df[\"is_canceled\"]"
   ]
  },
  {
   "cell_type": "code",
   "execution_count": 43,
   "id": "448643a4-a918-4682-a752-710b0872f068",
   "metadata": {},
   "outputs": [],
   "source": [
    "import pandas as pd\n",
    "import numpy as np\n",
    "from sklearn.linear_model import LogisticRegression\n",
    "from sklearn.svm import SVC\n",
    "from sklearn.neighbors import KNeighborsClassifier\n",
    "from sklearn.tree import DecisionTreeClassifier\n",
    "from sklearn.ensemble import RandomForestClassifier, GradientBoostingClassifier\n",
    "from xgboost import XGBClassifier\n",
    "from sklearn.neural_network import MLPClassifier\n",
    "from sklearn.model_selection import train_test_split\n",
    "from sklearn.metrics import accuracy_score, precision_score, recall_score, f1_score\n",
    "\n",
    "def algo_test_classification(X, y):\n",
    "    # Bütün sınıflandırma modellerini tanımlıyorum\n",
    "    lr = LogisticRegression()\n",
    "    svc = SVC()\n",
    "    knn = KNeighborsClassifier()\n",
    "    dt = DecisionTreeClassifier()\n",
    "    rf = RandomForestClassifier()\n",
    "    gb = GradientBoostingClassifier()\n",
    "    xgb = XGBClassifier()\n",
    "    mlp = MLPClassifier()\n",
    "\n",
    "    algos = [lr, svc, knn, dt, rf, gb, xgb, mlp]\n",
    "    algo_names = ['Logistic Regression', 'SVC', 'KNN', 'Decision Tree', 'Random Forest', 'Gradient Boosting', 'XGBoost', 'MLP']\n",
    "\n",
    "    X_train, X_test, y_train, y_test = train_test_split(X, y, test_size=0.2, random_state=42)\n",
    "\n",
    "    accuracy = []\n",
    "    precision = []\n",
    "    recall = []\n",
    "    f1 = []\n",
    "\n",
    "    # Sonuç tablosunu oluşturuyorum\n",
    "    result = pd.DataFrame(columns=['Accuracy', 'Precision', 'Recall', 'F1'], index=algo_names)\n",
    "\n",
    "    for algo in algos:\n",
    "        algo.fit(X_train, y_train)\n",
    "        y_pred = algo.predict(X_test)\n",
    "        accuracy.append(accuracy_score(y_test, y_pred))\n",
    "        precision.append(precision_score(y_test, y_pred))\n",
    "        recall.append(recall_score(y_test, y_pred))\n",
    "        f1.append(f1_score(y_test, y_pred))\n",
    "\n",
    "    # Sonuçları result tablosuna ekliyorum\n",
    "    result['Accuracy'] = accuracy\n",
    "    result['Precision'] = precision\n",
    "    result['Recall'] = recall\n",
    "    result['F1'] = f1\n",
    "\n",
    "    # Sonuçları doğruluk oranına göre sıralayıp döndürüyorum\n",
    "    return result.sort_values('Accuracy', ascending=False)"
   ]
  },
  {
   "cell_type": "code",
   "execution_count": 44,
   "id": "b6aaa304-05b9-46bd-9947-3b429ef21deb",
   "metadata": {},
   "outputs": [
    {
     "data": {
      "text/html": [
       "<div>\n",
       "<style scoped>\n",
       "    .dataframe tbody tr th:only-of-type {\n",
       "        vertical-align: middle;\n",
       "    }\n",
       "\n",
       "    .dataframe tbody tr th {\n",
       "        vertical-align: top;\n",
       "    }\n",
       "\n",
       "    .dataframe thead th {\n",
       "        text-align: right;\n",
       "    }\n",
       "</style>\n",
       "<table border=\"1\" class=\"dataframe\">\n",
       "  <thead>\n",
       "    <tr style=\"text-align: right;\">\n",
       "      <th></th>\n",
       "      <th>Accuracy</th>\n",
       "      <th>Precision</th>\n",
       "      <th>Recall</th>\n",
       "      <th>F1</th>\n",
       "    </tr>\n",
       "  </thead>\n",
       "  <tbody>\n",
       "    <tr>\n",
       "      <th>XGBoost</th>\n",
       "      <td>0.992496</td>\n",
       "      <td>0.998850</td>\n",
       "      <td>0.976030</td>\n",
       "      <td>0.987308</td>\n",
       "    </tr>\n",
       "    <tr>\n",
       "      <th>Random Forest</th>\n",
       "      <td>0.941308</td>\n",
       "      <td>0.981598</td>\n",
       "      <td>0.819101</td>\n",
       "      <td>0.893018</td>\n",
       "    </tr>\n",
       "    <tr>\n",
       "      <th>Gradient Boosting</th>\n",
       "      <td>0.930220</td>\n",
       "      <td>0.984382</td>\n",
       "      <td>0.779026</td>\n",
       "      <td>0.869747</td>\n",
       "    </tr>\n",
       "    <tr>\n",
       "      <th>Decision Tree</th>\n",
       "      <td>0.928539</td>\n",
       "      <td>0.884266</td>\n",
       "      <td>0.875655</td>\n",
       "      <td>0.879940</td>\n",
       "    </tr>\n",
       "    <tr>\n",
       "      <th>KNN</th>\n",
       "      <td>0.842742</td>\n",
       "      <td>0.811823</td>\n",
       "      <td>0.617228</td>\n",
       "      <td>0.701277</td>\n",
       "    </tr>\n",
       "    <tr>\n",
       "      <th>Logistic Regression</th>\n",
       "      <td>0.776994</td>\n",
       "      <td>0.703904</td>\n",
       "      <td>0.438951</td>\n",
       "      <td>0.540715</td>\n",
       "    </tr>\n",
       "    <tr>\n",
       "      <th>MLP</th>\n",
       "      <td>0.764337</td>\n",
       "      <td>0.573698</td>\n",
       "      <td>0.825094</td>\n",
       "      <td>0.676805</td>\n",
       "    </tr>\n",
       "    <tr>\n",
       "      <th>SVC</th>\n",
       "      <td>0.742496</td>\n",
       "      <td>0.796800</td>\n",
       "      <td>0.186517</td>\n",
       "      <td>0.302276</td>\n",
       "    </tr>\n",
       "  </tbody>\n",
       "</table>\n",
       "</div>"
      ],
      "text/plain": [
       "                     Accuracy  Precision    Recall        F1\n",
       "XGBoost              0.992496   0.998850  0.976030  0.987308\n",
       "Random Forest        0.941308   0.981598  0.819101  0.893018\n",
       "Gradient Boosting    0.930220   0.984382  0.779026  0.869747\n",
       "Decision Tree        0.928539   0.884266  0.875655  0.879940\n",
       "KNN                  0.842742   0.811823  0.617228  0.701277\n",
       "Logistic Regression  0.776994   0.703904  0.438951  0.540715\n",
       "MLP                  0.764337   0.573698  0.825094  0.676805\n",
       "SVC                  0.742496   0.796800  0.186517  0.302276"
      ]
     },
     "execution_count": 44,
     "metadata": {},
     "output_type": "execute_result"
    }
   ],
   "source": [
    "algo_test_classification(x, y)"
   ]
  },
  {
   "cell_type": "code",
   "execution_count": 46,
   "id": "fc082d13-5a54-412b-8bc0-42a855aed2cc",
   "metadata": {},
   "outputs": [],
   "source": [
    "from sklearn.metrics import accuracy_score, confusion_matrix, classification_report"
   ]
  },
  {
   "cell_type": "code",
   "execution_count": 47,
   "id": "9174637c-62f6-49a0-9901-da1fc57baeb6",
   "metadata": {},
   "outputs": [],
   "source": [
    "xgb = XGBClassifier()"
   ]
  },
  {
   "cell_type": "code",
   "execution_count": 48,
   "id": "9fb44be9-257c-412e-aaca-7f704994af62",
   "metadata": {},
   "outputs": [],
   "source": [
    "x_train, x_test, y_train, y_test = train_test_split(x, y, test_size=0.2, random_state=42)"
   ]
  },
  {
   "cell_type": "code",
   "execution_count": 49,
   "id": "66559674-9596-4067-b6c1-fd4756d61298",
   "metadata": {},
   "outputs": [
    {
     "data": {
      "text/html": [
       "<style>#sk-container-id-1 {\n",
       "  /* Definition of color scheme common for light and dark mode */\n",
       "  --sklearn-color-text: black;\n",
       "  --sklearn-color-line: gray;\n",
       "  /* Definition of color scheme for unfitted estimators */\n",
       "  --sklearn-color-unfitted-level-0: #fff5e6;\n",
       "  --sklearn-color-unfitted-level-1: #f6e4d2;\n",
       "  --sklearn-color-unfitted-level-2: #ffe0b3;\n",
       "  --sklearn-color-unfitted-level-3: chocolate;\n",
       "  /* Definition of color scheme for fitted estimators */\n",
       "  --sklearn-color-fitted-level-0: #f0f8ff;\n",
       "  --sklearn-color-fitted-level-1: #d4ebff;\n",
       "  --sklearn-color-fitted-level-2: #b3dbfd;\n",
       "  --sklearn-color-fitted-level-3: cornflowerblue;\n",
       "\n",
       "  /* Specific color for light theme */\n",
       "  --sklearn-color-text-on-default-background: var(--sg-text-color, var(--theme-code-foreground, var(--jp-content-font-color1, black)));\n",
       "  --sklearn-color-background: var(--sg-background-color, var(--theme-background, var(--jp-layout-color0, white)));\n",
       "  --sklearn-color-border-box: var(--sg-text-color, var(--theme-code-foreground, var(--jp-content-font-color1, black)));\n",
       "  --sklearn-color-icon: #696969;\n",
       "\n",
       "  @media (prefers-color-scheme: dark) {\n",
       "    /* Redefinition of color scheme for dark theme */\n",
       "    --sklearn-color-text-on-default-background: var(--sg-text-color, var(--theme-code-foreground, var(--jp-content-font-color1, white)));\n",
       "    --sklearn-color-background: var(--sg-background-color, var(--theme-background, var(--jp-layout-color0, #111)));\n",
       "    --sklearn-color-border-box: var(--sg-text-color, var(--theme-code-foreground, var(--jp-content-font-color1, white)));\n",
       "    --sklearn-color-icon: #878787;\n",
       "  }\n",
       "}\n",
       "\n",
       "#sk-container-id-1 {\n",
       "  color: var(--sklearn-color-text);\n",
       "}\n",
       "\n",
       "#sk-container-id-1 pre {\n",
       "  padding: 0;\n",
       "}\n",
       "\n",
       "#sk-container-id-1 input.sk-hidden--visually {\n",
       "  border: 0;\n",
       "  clip: rect(1px 1px 1px 1px);\n",
       "  clip: rect(1px, 1px, 1px, 1px);\n",
       "  height: 1px;\n",
       "  margin: -1px;\n",
       "  overflow: hidden;\n",
       "  padding: 0;\n",
       "  position: absolute;\n",
       "  width: 1px;\n",
       "}\n",
       "\n",
       "#sk-container-id-1 div.sk-dashed-wrapped {\n",
       "  border: 1px dashed var(--sklearn-color-line);\n",
       "  margin: 0 0.4em 0.5em 0.4em;\n",
       "  box-sizing: border-box;\n",
       "  padding-bottom: 0.4em;\n",
       "  background-color: var(--sklearn-color-background);\n",
       "}\n",
       "\n",
       "#sk-container-id-1 div.sk-container {\n",
       "  /* jupyter's `normalize.less` sets `[hidden] { display: none; }`\n",
       "     but bootstrap.min.css set `[hidden] { display: none !important; }`\n",
       "     so we also need the `!important` here to be able to override the\n",
       "     default hidden behavior on the sphinx rendered scikit-learn.org.\n",
       "     See: https://github.com/scikit-learn/scikit-learn/issues/21755 */\n",
       "  display: inline-block !important;\n",
       "  position: relative;\n",
       "}\n",
       "\n",
       "#sk-container-id-1 div.sk-text-repr-fallback {\n",
       "  display: none;\n",
       "}\n",
       "\n",
       "div.sk-parallel-item,\n",
       "div.sk-serial,\n",
       "div.sk-item {\n",
       "  /* draw centered vertical line to link estimators */\n",
       "  background-image: linear-gradient(var(--sklearn-color-text-on-default-background), var(--sklearn-color-text-on-default-background));\n",
       "  background-size: 2px 100%;\n",
       "  background-repeat: no-repeat;\n",
       "  background-position: center center;\n",
       "}\n",
       "\n",
       "/* Parallel-specific style estimator block */\n",
       "\n",
       "#sk-container-id-1 div.sk-parallel-item::after {\n",
       "  content: \"\";\n",
       "  width: 100%;\n",
       "  border-bottom: 2px solid var(--sklearn-color-text-on-default-background);\n",
       "  flex-grow: 1;\n",
       "}\n",
       "\n",
       "#sk-container-id-1 div.sk-parallel {\n",
       "  display: flex;\n",
       "  align-items: stretch;\n",
       "  justify-content: center;\n",
       "  background-color: var(--sklearn-color-background);\n",
       "  position: relative;\n",
       "}\n",
       "\n",
       "#sk-container-id-1 div.sk-parallel-item {\n",
       "  display: flex;\n",
       "  flex-direction: column;\n",
       "}\n",
       "\n",
       "#sk-container-id-1 div.sk-parallel-item:first-child::after {\n",
       "  align-self: flex-end;\n",
       "  width: 50%;\n",
       "}\n",
       "\n",
       "#sk-container-id-1 div.sk-parallel-item:last-child::after {\n",
       "  align-self: flex-start;\n",
       "  width: 50%;\n",
       "}\n",
       "\n",
       "#sk-container-id-1 div.sk-parallel-item:only-child::after {\n",
       "  width: 0;\n",
       "}\n",
       "\n",
       "/* Serial-specific style estimator block */\n",
       "\n",
       "#sk-container-id-1 div.sk-serial {\n",
       "  display: flex;\n",
       "  flex-direction: column;\n",
       "  align-items: center;\n",
       "  background-color: var(--sklearn-color-background);\n",
       "  padding-right: 1em;\n",
       "  padding-left: 1em;\n",
       "}\n",
       "\n",
       "\n",
       "/* Toggleable style: style used for estimator/Pipeline/ColumnTransformer box that is\n",
       "clickable and can be expanded/collapsed.\n",
       "- Pipeline and ColumnTransformer use this feature and define the default style\n",
       "- Estimators will overwrite some part of the style using the `sk-estimator` class\n",
       "*/\n",
       "\n",
       "/* Pipeline and ColumnTransformer style (default) */\n",
       "\n",
       "#sk-container-id-1 div.sk-toggleable {\n",
       "  /* Default theme specific background. It is overwritten whether we have a\n",
       "  specific estimator or a Pipeline/ColumnTransformer */\n",
       "  background-color: var(--sklearn-color-background);\n",
       "}\n",
       "\n",
       "/* Toggleable label */\n",
       "#sk-container-id-1 label.sk-toggleable__label {\n",
       "  cursor: pointer;\n",
       "  display: block;\n",
       "  width: 100%;\n",
       "  margin-bottom: 0;\n",
       "  padding: 0.5em;\n",
       "  box-sizing: border-box;\n",
       "  text-align: center;\n",
       "}\n",
       "\n",
       "#sk-container-id-1 label.sk-toggleable__label-arrow:before {\n",
       "  /* Arrow on the left of the label */\n",
       "  content: \"▸\";\n",
       "  float: left;\n",
       "  margin-right: 0.25em;\n",
       "  color: var(--sklearn-color-icon);\n",
       "}\n",
       "\n",
       "#sk-container-id-1 label.sk-toggleable__label-arrow:hover:before {\n",
       "  color: var(--sklearn-color-text);\n",
       "}\n",
       "\n",
       "/* Toggleable content - dropdown */\n",
       "\n",
       "#sk-container-id-1 div.sk-toggleable__content {\n",
       "  max-height: 0;\n",
       "  max-width: 0;\n",
       "  overflow: hidden;\n",
       "  text-align: left;\n",
       "  /* unfitted */\n",
       "  background-color: var(--sklearn-color-unfitted-level-0);\n",
       "}\n",
       "\n",
       "#sk-container-id-1 div.sk-toggleable__content.fitted {\n",
       "  /* fitted */\n",
       "  background-color: var(--sklearn-color-fitted-level-0);\n",
       "}\n",
       "\n",
       "#sk-container-id-1 div.sk-toggleable__content pre {\n",
       "  margin: 0.2em;\n",
       "  border-radius: 0.25em;\n",
       "  color: var(--sklearn-color-text);\n",
       "  /* unfitted */\n",
       "  background-color: var(--sklearn-color-unfitted-level-0);\n",
       "}\n",
       "\n",
       "#sk-container-id-1 div.sk-toggleable__content.fitted pre {\n",
       "  /* unfitted */\n",
       "  background-color: var(--sklearn-color-fitted-level-0);\n",
       "}\n",
       "\n",
       "#sk-container-id-1 input.sk-toggleable__control:checked~div.sk-toggleable__content {\n",
       "  /* Expand drop-down */\n",
       "  max-height: 200px;\n",
       "  max-width: 100%;\n",
       "  overflow: auto;\n",
       "}\n",
       "\n",
       "#sk-container-id-1 input.sk-toggleable__control:checked~label.sk-toggleable__label-arrow:before {\n",
       "  content: \"▾\";\n",
       "}\n",
       "\n",
       "/* Pipeline/ColumnTransformer-specific style */\n",
       "\n",
       "#sk-container-id-1 div.sk-label input.sk-toggleable__control:checked~label.sk-toggleable__label {\n",
       "  color: var(--sklearn-color-text);\n",
       "  background-color: var(--sklearn-color-unfitted-level-2);\n",
       "}\n",
       "\n",
       "#sk-container-id-1 div.sk-label.fitted input.sk-toggleable__control:checked~label.sk-toggleable__label {\n",
       "  background-color: var(--sklearn-color-fitted-level-2);\n",
       "}\n",
       "\n",
       "/* Estimator-specific style */\n",
       "\n",
       "/* Colorize estimator box */\n",
       "#sk-container-id-1 div.sk-estimator input.sk-toggleable__control:checked~label.sk-toggleable__label {\n",
       "  /* unfitted */\n",
       "  background-color: var(--sklearn-color-unfitted-level-2);\n",
       "}\n",
       "\n",
       "#sk-container-id-1 div.sk-estimator.fitted input.sk-toggleable__control:checked~label.sk-toggleable__label {\n",
       "  /* fitted */\n",
       "  background-color: var(--sklearn-color-fitted-level-2);\n",
       "}\n",
       "\n",
       "#sk-container-id-1 div.sk-label label.sk-toggleable__label,\n",
       "#sk-container-id-1 div.sk-label label {\n",
       "  /* The background is the default theme color */\n",
       "  color: var(--sklearn-color-text-on-default-background);\n",
       "}\n",
       "\n",
       "/* On hover, darken the color of the background */\n",
       "#sk-container-id-1 div.sk-label:hover label.sk-toggleable__label {\n",
       "  color: var(--sklearn-color-text);\n",
       "  background-color: var(--sklearn-color-unfitted-level-2);\n",
       "}\n",
       "\n",
       "/* Label box, darken color on hover, fitted */\n",
       "#sk-container-id-1 div.sk-label.fitted:hover label.sk-toggleable__label.fitted {\n",
       "  color: var(--sklearn-color-text);\n",
       "  background-color: var(--sklearn-color-fitted-level-2);\n",
       "}\n",
       "\n",
       "/* Estimator label */\n",
       "\n",
       "#sk-container-id-1 div.sk-label label {\n",
       "  font-family: monospace;\n",
       "  font-weight: bold;\n",
       "  display: inline-block;\n",
       "  line-height: 1.2em;\n",
       "}\n",
       "\n",
       "#sk-container-id-1 div.sk-label-container {\n",
       "  text-align: center;\n",
       "}\n",
       "\n",
       "/* Estimator-specific */\n",
       "#sk-container-id-1 div.sk-estimator {\n",
       "  font-family: monospace;\n",
       "  border: 1px dotted var(--sklearn-color-border-box);\n",
       "  border-radius: 0.25em;\n",
       "  box-sizing: border-box;\n",
       "  margin-bottom: 0.5em;\n",
       "  /* unfitted */\n",
       "  background-color: var(--sklearn-color-unfitted-level-0);\n",
       "}\n",
       "\n",
       "#sk-container-id-1 div.sk-estimator.fitted {\n",
       "  /* fitted */\n",
       "  background-color: var(--sklearn-color-fitted-level-0);\n",
       "}\n",
       "\n",
       "/* on hover */\n",
       "#sk-container-id-1 div.sk-estimator:hover {\n",
       "  /* unfitted */\n",
       "  background-color: var(--sklearn-color-unfitted-level-2);\n",
       "}\n",
       "\n",
       "#sk-container-id-1 div.sk-estimator.fitted:hover {\n",
       "  /* fitted */\n",
       "  background-color: var(--sklearn-color-fitted-level-2);\n",
       "}\n",
       "\n",
       "/* Specification for estimator info (e.g. \"i\" and \"?\") */\n",
       "\n",
       "/* Common style for \"i\" and \"?\" */\n",
       "\n",
       ".sk-estimator-doc-link,\n",
       "a:link.sk-estimator-doc-link,\n",
       "a:visited.sk-estimator-doc-link {\n",
       "  float: right;\n",
       "  font-size: smaller;\n",
       "  line-height: 1em;\n",
       "  font-family: monospace;\n",
       "  background-color: var(--sklearn-color-background);\n",
       "  border-radius: 1em;\n",
       "  height: 1em;\n",
       "  width: 1em;\n",
       "  text-decoration: none !important;\n",
       "  margin-left: 1ex;\n",
       "  /* unfitted */\n",
       "  border: var(--sklearn-color-unfitted-level-1) 1pt solid;\n",
       "  color: var(--sklearn-color-unfitted-level-1);\n",
       "}\n",
       "\n",
       ".sk-estimator-doc-link.fitted,\n",
       "a:link.sk-estimator-doc-link.fitted,\n",
       "a:visited.sk-estimator-doc-link.fitted {\n",
       "  /* fitted */\n",
       "  border: var(--sklearn-color-fitted-level-1) 1pt solid;\n",
       "  color: var(--sklearn-color-fitted-level-1);\n",
       "}\n",
       "\n",
       "/* On hover */\n",
       "div.sk-estimator:hover .sk-estimator-doc-link:hover,\n",
       ".sk-estimator-doc-link:hover,\n",
       "div.sk-label-container:hover .sk-estimator-doc-link:hover,\n",
       ".sk-estimator-doc-link:hover {\n",
       "  /* unfitted */\n",
       "  background-color: var(--sklearn-color-unfitted-level-3);\n",
       "  color: var(--sklearn-color-background);\n",
       "  text-decoration: none;\n",
       "}\n",
       "\n",
       "div.sk-estimator.fitted:hover .sk-estimator-doc-link.fitted:hover,\n",
       ".sk-estimator-doc-link.fitted:hover,\n",
       "div.sk-label-container:hover .sk-estimator-doc-link.fitted:hover,\n",
       ".sk-estimator-doc-link.fitted:hover {\n",
       "  /* fitted */\n",
       "  background-color: var(--sklearn-color-fitted-level-3);\n",
       "  color: var(--sklearn-color-background);\n",
       "  text-decoration: none;\n",
       "}\n",
       "\n",
       "/* Span, style for the box shown on hovering the info icon */\n",
       ".sk-estimator-doc-link span {\n",
       "  display: none;\n",
       "  z-index: 9999;\n",
       "  position: relative;\n",
       "  font-weight: normal;\n",
       "  right: .2ex;\n",
       "  padding: .5ex;\n",
       "  margin: .5ex;\n",
       "  width: min-content;\n",
       "  min-width: 20ex;\n",
       "  max-width: 50ex;\n",
       "  color: var(--sklearn-color-text);\n",
       "  box-shadow: 2pt 2pt 4pt #999;\n",
       "  /* unfitted */\n",
       "  background: var(--sklearn-color-unfitted-level-0);\n",
       "  border: .5pt solid var(--sklearn-color-unfitted-level-3);\n",
       "}\n",
       "\n",
       ".sk-estimator-doc-link.fitted span {\n",
       "  /* fitted */\n",
       "  background: var(--sklearn-color-fitted-level-0);\n",
       "  border: var(--sklearn-color-fitted-level-3);\n",
       "}\n",
       "\n",
       ".sk-estimator-doc-link:hover span {\n",
       "  display: block;\n",
       "}\n",
       "\n",
       "/* \"?\"-specific style due to the `<a>` HTML tag */\n",
       "\n",
       "#sk-container-id-1 a.estimator_doc_link {\n",
       "  float: right;\n",
       "  font-size: 1rem;\n",
       "  line-height: 1em;\n",
       "  font-family: monospace;\n",
       "  background-color: var(--sklearn-color-background);\n",
       "  border-radius: 1rem;\n",
       "  height: 1rem;\n",
       "  width: 1rem;\n",
       "  text-decoration: none;\n",
       "  /* unfitted */\n",
       "  color: var(--sklearn-color-unfitted-level-1);\n",
       "  border: var(--sklearn-color-unfitted-level-1) 1pt solid;\n",
       "}\n",
       "\n",
       "#sk-container-id-1 a.estimator_doc_link.fitted {\n",
       "  /* fitted */\n",
       "  border: var(--sklearn-color-fitted-level-1) 1pt solid;\n",
       "  color: var(--sklearn-color-fitted-level-1);\n",
       "}\n",
       "\n",
       "/* On hover */\n",
       "#sk-container-id-1 a.estimator_doc_link:hover {\n",
       "  /* unfitted */\n",
       "  background-color: var(--sklearn-color-unfitted-level-3);\n",
       "  color: var(--sklearn-color-background);\n",
       "  text-decoration: none;\n",
       "}\n",
       "\n",
       "#sk-container-id-1 a.estimator_doc_link.fitted:hover {\n",
       "  /* fitted */\n",
       "  background-color: var(--sklearn-color-fitted-level-3);\n",
       "}\n",
       "</style><div id=\"sk-container-id-1\" class=\"sk-top-container\"><div class=\"sk-text-repr-fallback\"><pre>XGBClassifier(base_score=None, booster=None, callbacks=None,\n",
       "              colsample_bylevel=None, colsample_bynode=None,\n",
       "              colsample_bytree=None, device=None, early_stopping_rounds=None,\n",
       "              enable_categorical=False, eval_metric=None, feature_types=None,\n",
       "              gamma=None, grow_policy=None, importance_type=None,\n",
       "              interaction_constraints=None, learning_rate=None, max_bin=None,\n",
       "              max_cat_threshold=None, max_cat_to_onehot=None,\n",
       "              max_delta_step=None, max_depth=None, max_leaves=None,\n",
       "              min_child_weight=None, missing=nan, monotone_constraints=None,\n",
       "              multi_strategy=None, n_estimators=None, n_jobs=None,\n",
       "              num_parallel_tree=None, random_state=None, ...)</pre><b>In a Jupyter environment, please rerun this cell to show the HTML representation or trust the notebook. <br />On GitHub, the HTML representation is unable to render, please try loading this page with nbviewer.org.</b></div><div class=\"sk-container\" hidden><div class=\"sk-item\"><div class=\"sk-estimator fitted sk-toggleable\"><input class=\"sk-toggleable__control sk-hidden--visually\" id=\"sk-estimator-id-1\" type=\"checkbox\" checked><label for=\"sk-estimator-id-1\" class=\"sk-toggleable__label fitted sk-toggleable__label-arrow fitted\">&nbsp;XGBClassifier<span class=\"sk-estimator-doc-link fitted\">i<span>Fitted</span></span></label><div class=\"sk-toggleable__content fitted\"><pre>XGBClassifier(base_score=None, booster=None, callbacks=None,\n",
       "              colsample_bylevel=None, colsample_bynode=None,\n",
       "              colsample_bytree=None, device=None, early_stopping_rounds=None,\n",
       "              enable_categorical=False, eval_metric=None, feature_types=None,\n",
       "              gamma=None, grow_policy=None, importance_type=None,\n",
       "              interaction_constraints=None, learning_rate=None, max_bin=None,\n",
       "              max_cat_threshold=None, max_cat_to_onehot=None,\n",
       "              max_delta_step=None, max_depth=None, max_leaves=None,\n",
       "              min_child_weight=None, missing=nan, monotone_constraints=None,\n",
       "              multi_strategy=None, n_estimators=None, n_jobs=None,\n",
       "              num_parallel_tree=None, random_state=None, ...)</pre></div> </div></div></div></div>"
      ],
      "text/plain": [
       "XGBClassifier(base_score=None, booster=None, callbacks=None,\n",
       "              colsample_bylevel=None, colsample_bynode=None,\n",
       "              colsample_bytree=None, device=None, early_stopping_rounds=None,\n",
       "              enable_categorical=False, eval_metric=None, feature_types=None,\n",
       "              gamma=None, grow_policy=None, importance_type=None,\n",
       "              interaction_constraints=None, learning_rate=None, max_bin=None,\n",
       "              max_cat_threshold=None, max_cat_to_onehot=None,\n",
       "              max_delta_step=None, max_depth=None, max_leaves=None,\n",
       "              min_child_weight=None, missing=nan, monotone_constraints=None,\n",
       "              multi_strategy=None, n_estimators=None, n_jobs=None,\n",
       "              num_parallel_tree=None, random_state=None, ...)"
      ]
     },
     "execution_count": 49,
     "metadata": {},
     "output_type": "execute_result"
    }
   ],
   "source": [
    "xgb.fit(x_train,y_train)"
   ]
  },
  {
   "cell_type": "code",
   "execution_count": 50,
   "id": "1fa7a5d6-8208-4b52-a2c6-fca3c7263f19",
   "metadata": {},
   "outputs": [],
   "source": [
    "thmn=xgb.predict(x_test)"
   ]
  },
  {
   "cell_type": "code",
   "execution_count": 52,
   "id": "d9f26191-f33a-46f4-a7a3-10282306c896",
   "metadata": {},
   "outputs": [
    {
     "data": {
      "text/plain": [
       "0.9924955197132617"
      ]
     },
     "execution_count": 52,
     "metadata": {},
     "output_type": "execute_result"
    }
   ],
   "source": [
    "accuracy_score(y_test, thmn)"
   ]
  },
  {
   "cell_type": "code",
   "execution_count": 53,
   "id": "39b9a0f3-e098-49b5-8063-3001596ca24a",
   "metadata": {},
   "outputs": [
    {
     "data": {
      "text/plain": [
       "<Axes: >"
      ]
     },
     "execution_count": 53,
     "metadata": {},
     "output_type": "execute_result"
    },
    {
     "data": {
      "image/png": "[encoded data removed]",
      "text/plain": [
       "<Figure size 640x480 with 2 Axes>"
      ]
     },
     "metadata": {},
     "output_type": "display_data"
    }
   ],
   "source": [
    "sns.heatmap(confusion_matrix(thmn,y_test),annot=True)"
   ]
  },
  {
   "cell_type": "code",
   "execution_count": 54,
   "id": "932fd612-cb8c-4a48-9fe7-ce6c11657aea",
   "metadata": {},
   "outputs": [
    {
     "name": "stdout",
     "output_type": "stream",
     "text": [
      "              precision    recall  f1-score   support\n",
      "\n",
      "           0       1.00      0.99      0.99      6319\n",
      "           1       0.98      1.00      0.99      2609\n",
      "\n",
      "    accuracy                           0.99      8928\n",
      "   macro avg       0.99      0.99      0.99      8928\n",
      "weighted avg       0.99      0.99      0.99      8928\n",
      "\n"
     ]
    }
   ],
   "source": [
    "print(classification_report(thmn,y_test))"
   ]
  },
  {
   "cell_type": "code",
   "execution_count": 55,
   "id": "e7cdf7c1-d42d-4769-9b00-dbacf6381d68",
   "metadata": {},
   "outputs": [],
   "source": [
    "import pickle"
   ]
  },
  {
   "cell_type": "code",
   "execution_count": 56,
   "id": "77d39151-47f5-49d6-985b-d53174e9397d",
   "metadata": {},
   "outputs": [],
   "source": [
    "with open('hotel.pkl', 'wb') as file:\n",
    "    pickle.dump(xgb, file)"
   ]
  },
  {
   "cell_type": "markdown",
   "id": "f7be1e43-84df-47aa-ac81-ea5b121c4e9c",
   "metadata": {},
   "source": [
    "Kaggle daki test dosyamızı yükleyip tahmin ettireceğiz."
   ]
  },
  {
   "cell_type": "code",
   "execution_count": 61,
   "id": "12e85dbb-6bed-41a5-96b2-0e54c43ba434",
   "metadata": {},
   "outputs": [],
   "source": [
    "test=pd.read_csv(\"test_final.csv\")"
   ]
  },
  {
   "cell_type": "code",
   "execution_count": 62,
   "id": "85d07e81-eb1b-4859-a65c-71d8ff51e12f",
   "metadata": {},
   "outputs": [],
   "source": [
    "test[\"arrival_date_month\"]=le.fit_transform(test[\"arrival_date_month\"])"
   ]
  },
  {
   "cell_type": "code",
   "execution_count": 63,
   "id": "89c32dc4-721d-4b1d-a7e5-4fe4bbb849b7",
   "metadata": {},
   "outputs": [],
   "source": [
    "d1={\"Resort Hotel\":1,\"City Hotel\":2}"
   ]
  },
  {
   "cell_type": "code",
   "execution_count": 64,
   "id": "b95589af-3d69-4ad0-8d84-a6cb9481b3c1",
   "metadata": {},
   "outputs": [],
   "source": [
    "test[\"hotel\"]=test[\"hotel\"].map(d1)"
   ]
  },
  {
   "cell_type": "code",
   "execution_count": 65,
   "id": "b7c04744-4a8e-40cc-a6bf-855d280afe1c",
   "metadata": {},
   "outputs": [],
   "source": [
    "test[\"meal\"]=le.fit_transform(test[\"meal\"])"
   ]
  },
  {
   "cell_type": "code",
   "execution_count": 66,
   "id": "5c5fdabd-3dbd-46c6-b8d1-eedb13bf121d",
   "metadata": {},
   "outputs": [],
   "source": [
    "test[\"country\"]=le.fit_transform(test[\"country\"])"
   ]
  },
  {
   "cell_type": "code",
   "execution_count": 67,
   "id": "c1d63d2b-02f7-42b2-b10c-9827d0a34f76",
   "metadata": {},
   "outputs": [],
   "source": [
    "test[\"market_segment\"]=le.fit_transform(test[\"market_segment\"])"
   ]
  },
  {
   "cell_type": "code",
   "execution_count": 68,
   "id": "d2318a13-afd3-4048-b507-51428ee03b54",
   "metadata": {},
   "outputs": [],
   "source": [
    "test[\"distribution_channel\"]=le.fit_transform(test[\"distribution_channel\"])"
   ]
  },
  {
   "cell_type": "code",
   "execution_count": 69,
   "id": "a660c5f1-6ecf-49fd-92a7-660af4e52ecc",
   "metadata": {},
   "outputs": [],
   "source": [
    "test[\"reserved_room_type\"]=le.fit_transform(test[\"reserved_room_type\"])"
   ]
  },
  {
   "cell_type": "code",
   "execution_count": 70,
   "id": "83bd5fcb-2aa6-4734-9eb5-3de6f937834b",
   "metadata": {},
   "outputs": [],
   "source": [
    "test[\"assigned_room_type\"]=le.fit_transform(test[\"assigned_room_type\"])"
   ]
  },
  {
   "cell_type": "code",
   "execution_count": 71,
   "id": "f424f0ef-3661-4c30-a2fc-3a26666b016b",
   "metadata": {},
   "outputs": [],
   "source": [
    "test[\"deposit_type\"]=le.fit_transform(test[\"deposit_type\"])"
   ]
  },
  {
   "cell_type": "code",
   "execution_count": 72,
   "id": "ec907a52-31a8-4b1b-b088-e694f4519549",
   "metadata": {},
   "outputs": [],
   "source": [
    "test[\"customer_type\"]=le.fit_transform(test[\"customer_type\"])"
   ]
  },
  {
   "cell_type": "code",
   "execution_count": 73,
   "id": "6e031519-e611-454e-a827-9be236ab1b8a",
   "metadata": {},
   "outputs": [],
   "source": [
    "test[\"reservation_status_date\"]=pd.to_datetime(test[\"reservation_status_date\"])"
   ]
  },
  {
   "cell_type": "code",
   "execution_count": 74,
   "id": "03e92c3f-eacf-47d8-925f-c524316e54d6",
   "metadata": {},
   "outputs": [],
   "source": [
    "test[\"month\"]=test[\"reservation_status_date\"].dt.month"
   ]
  },
  {
   "cell_type": "code",
   "execution_count": 75,
   "id": "5ed6f042-7abc-46de-9147-928ba46c5975",
   "metadata": {},
   "outputs": [],
   "source": [
    "test[\"day\"]=test[\"reservation_status_date\"].dt.day"
   ]
  },
  {
   "cell_type": "code",
   "execution_count": 76,
   "id": "d20d0d50-e53b-4a55-93f7-040c1a4abf6d",
   "metadata": {},
   "outputs": [],
   "source": [
    "test=test.drop(\"reservation_status_date\",axis=1)"
   ]
  },
  {
   "cell_type": "code",
   "execution_count": 77,
   "id": "3a3f9d62-bab4-4405-8b9a-e761595d8255",
   "metadata": {},
   "outputs": [],
   "source": [
    "dosya=pd.DataFrame()"
   ]
  },
  {
   "cell_type": "code",
   "execution_count": 78,
   "id": "a4be5f02-8822-4ce7-a1dd-059f5297fedc",
   "metadata": {},
   "outputs": [],
   "source": [
    "dosya[\"is_canceled\"]=xgb.predict(test)"
   ]
  },
  {
   "cell_type": "code",
   "execution_count": 82,
   "id": "836c1ef7-14cf-4339-a487-2c71e5306576",
   "metadata": {},
   "outputs": [],
   "source": [
    "dosya.to_csv(\"tahmin1.csv\",index=True)"
   ]
  },
  {
   "cell_type": "code",
   "execution_count": 86,
   "id": "bce2e443-df3c-4a90-a596-9f13b708d84d",
   "metadata": {},
   "outputs": [],
   "source": [
    "dosya=pd.read_csv(\"tahmin1.csv\")"
   ]
  },
  {
   "cell_type": "code",
   "execution_count": 87,
   "id": "202ded28-1c24-4657-ae3b-3b3ae3c7ca4f",
   "metadata": {},
   "outputs": [],
   "source": [
    "dosya.columns = [\"index\", \"is_canceled\"]"
   ]
  },
  {
   "cell_type": "code",
   "execution_count": 88,
   "id": "d197a4b3-90ef-4c47-ada5-527aec62fc8e",
   "metadata": {},
   "outputs": [],
   "source": [
    "dosya.to_csv(\"tahmin1.csv\",index=False)"
   ]
  },
  {
   "cell_type": "markdown",
   "id": "45c77b69-f6a4-438b-8742-0becd5be1cc3",
   "metadata": {},
   "source": [
    "### Deep Learning"
   ]
  },
  {
   "cell_type": "code",
   "execution_count": 89,
   "id": "39b65363-9dca-4dca-b158-8878e1d9e891",
   "metadata": {},
   "outputs": [],
   "source": [
    "from tensorflow.keras.models import Sequential\n",
    "from tensorflow.keras.layers import Dense\n",
    "\n",
    "from sklearn.preprocessing import normalize, scale"
   ]
  },
  {
   "cell_type": "code",
   "execution_count": 90,
   "id": "90cd2dd6-de36-41ec-a155-b50259ec6bc5",
   "metadata": {},
   "outputs": [],
   "source": [
    "model=Sequential()\n",
    "model.add(Dense(120,activation=\"relu\"))  # Modele layer ekliyor # Dense bütün nöronlar bütün nöronlara bağlansın demek\n",
    "model.add(Dense(80,activation=\"relu\")) # 120 nöron var \n",
    "model.add(Dense(64,activation=\"relu\"))\n",
    "model.add(Dense(30,activation=\"relu\"))\n",
    "model.add(Dense(20,activation=\"relu\"))\n",
    "model.add(Dense(4,activation=\"relu\"))\n",
    "model.add(Dense(1,activation=\"sigmoid\")) # Binary classification olduğu için sigmoid kullandık ! Regression da yok\n",
    "model.compile(loss=\"binary_crossentropy\", optimizer=\"adam\",metrics=[\"accuracy\"]) # Loss: hata MSE gibi # Optimizer=adam "
   ]
  },
  {
   "cell_type": "code",
   "execution_count": 91,
   "id": "295b3ed3-b063-44aa-ba06-f883bb53e5dc",
   "metadata": {},
   "outputs": [],
   "source": [
    "x=scale(x) # hepsini aynı birime getirdik"
   ]
  },
  {
   "cell_type": "code",
   "execution_count": 92,
   "id": "d750b17c-ab95-49d0-bf6a-ce6a561575e5",
   "metadata": {},
   "outputs": [
    {
     "name": "stdout",
     "output_type": "stream",
     "text": [
      "Epoch 1/75\n",
      "\u001b[1m1553/1553\u001b[0m \u001b[32m━━━━━━━━━━━━━━━━━━━━\u001b[0m\u001b[37m\u001b[0m \u001b[1m4s\u001b[0m 1ms/step - accuracy: 0.8342 - loss: 0.3830 - val_accuracy: 0.9751 - val_loss: 0.0846\n",
      "Epoch 2/75\n",
      "\u001b[1m1553/1553\u001b[0m \u001b[32m━━━━━━━━━━━━━━━━━━━━\u001b[0m\u001b[37m\u001b[0m \u001b[1m1s\u001b[0m 905us/step - accuracy: 0.9743 - loss: 0.0815 - val_accuracy: 0.9860 - val_loss: 0.0451\n",
      "Epoch 3/75\n",
      "\u001b[1m1553/1553\u001b[0m \u001b[32m━━━━━━━━━━━━━━━━━━━━\u001b[0m\u001b[37m\u001b[0m \u001b[1m2s\u001b[0m 959us/step - accuracy: 0.9861 - loss: 0.0440 - val_accuracy: 0.9899 - val_loss: 0.0361\n",
      "Epoch 4/75\n",
      "\u001b[1m1553/1553\u001b[0m \u001b[32m━━━━━━━━━━━━━━━━━━━━\u001b[0m\u001b[37m\u001b[0m \u001b[1m1s\u001b[0m 937us/step - accuracy: 0.9904 - loss: 0.0298 - val_accuracy: 0.9906 - val_loss: 0.0287\n",
      "Epoch 5/75\n",
      "\u001b[1m1553/1553\u001b[0m \u001b[32m━━━━━━━━━━━━━━━━━━━━\u001b[0m\u001b[37m\u001b[0m \u001b[1m2s\u001b[0m 967us/step - accuracy: 0.9921 - loss: 0.0242 - val_accuracy: 0.9928 - val_loss: 0.0270\n",
      "Epoch 6/75\n",
      "\u001b[1m1553/1553\u001b[0m \u001b[32m━━━━━━━━━━━━━━━━━━━━\u001b[0m\u001b[37m\u001b[0m \u001b[1m2s\u001b[0m 1ms/step - accuracy: 0.9933 - loss: 0.0220 - val_accuracy: 0.9948 - val_loss: 0.0192\n",
      "Epoch 7/75\n",
      "\u001b[1m1553/1553\u001b[0m \u001b[32m━━━━━━━━━━━━━━━━━━━━\u001b[0m\u001b[37m\u001b[0m \u001b[1m1s\u001b[0m 909us/step - accuracy: 0.9947 - loss: 0.0178 - val_accuracy: 0.9950 - val_loss: 0.0167\n",
      "Epoch 8/75\n",
      "\u001b[1m1553/1553\u001b[0m \u001b[32m━━━━━━━━━━━━━━━━━━━━\u001b[0m\u001b[37m\u001b[0m \u001b[1m1s\u001b[0m 868us/step - accuracy: 0.9934 - loss: 0.0193 - val_accuracy: 0.9970 - val_loss: 0.0111\n",
      "Epoch 9/75\n",
      "\u001b[1m1553/1553\u001b[0m \u001b[32m━━━━━━━━━━━━━━━━━━━━\u001b[0m\u001b[37m\u001b[0m \u001b[1m1s\u001b[0m 923us/step - accuracy: 0.9959 - loss: 0.0132 - val_accuracy: 0.9925 - val_loss: 0.0250\n",
      "Epoch 10/75\n",
      "\u001b[1m1553/1553\u001b[0m \u001b[32m━━━━━━━━━━━━━━━━━━━━\u001b[0m\u001b[37m\u001b[0m \u001b[1m2s\u001b[0m 963us/step - accuracy: 0.9952 - loss: 0.0167 - val_accuracy: 0.9968 - val_loss: 0.0120\n",
      "Epoch 11/75\n",
      "\u001b[1m1553/1553\u001b[0m \u001b[32m━━━━━━━━━━━━━━━━━━━━\u001b[0m\u001b[37m\u001b[0m \u001b[1m2s\u001b[0m 1ms/step - accuracy: 0.9956 - loss: 0.0147 - val_accuracy: 0.9894 - val_loss: 0.0325\n",
      "Epoch 12/75\n",
      "\u001b[1m1553/1553\u001b[0m \u001b[32m━━━━━━━━━━━━━━━━━━━━\u001b[0m\u001b[37m\u001b[0m \u001b[1m2s\u001b[0m 991us/step - accuracy: 0.9960 - loss: 0.0128 - val_accuracy: 0.9971 - val_loss: 0.0105\n",
      "Epoch 13/75\n",
      "\u001b[1m1553/1553\u001b[0m \u001b[32m━━━━━━━━━━━━━━━━━━━━\u001b[0m\u001b[37m\u001b[0m \u001b[1m1s\u001b[0m 876us/step - accuracy: 0.9954 - loss: 0.0135 - val_accuracy: 0.9953 - val_loss: 0.0166\n",
      "Epoch 14/75\n",
      "\u001b[1m1553/1553\u001b[0m \u001b[32m━━━━━━━━━━━━━━━━━━━━\u001b[0m\u001b[37m\u001b[0m \u001b[1m1s\u001b[0m 897us/step - accuracy: 0.9960 - loss: 0.0121 - val_accuracy: 0.9723 - val_loss: 0.0738\n",
      "Epoch 15/75\n",
      "\u001b[1m1553/1553\u001b[0m \u001b[32m━━━━━━━━━━━━━━━━━━━━\u001b[0m\u001b[37m\u001b[0m \u001b[1m1s\u001b[0m 917us/step - accuracy: 0.9967 - loss: 0.0106 - val_accuracy: 0.9963 - val_loss: 0.0104\n",
      "Epoch 16/75\n",
      "\u001b[1m1553/1553\u001b[0m \u001b[32m━━━━━━━━━━━━━━━━━━━━\u001b[0m\u001b[37m\u001b[0m \u001b[1m2s\u001b[0m 1ms/step - accuracy: 0.9959 - loss: 0.0135 - val_accuracy: 0.9975 - val_loss: 0.0116\n",
      "Epoch 17/75\n",
      "\u001b[1m1553/1553\u001b[0m \u001b[32m━━━━━━━━━━━━━━━━━━━━\u001b[0m\u001b[37m\u001b[0m \u001b[1m1s\u001b[0m 946us/step - accuracy: 0.9966 - loss: 0.0117 - val_accuracy: 0.9957 - val_loss: 0.0136\n",
      "Epoch 18/75\n",
      "\u001b[1m1553/1553\u001b[0m \u001b[32m━━━━━━━━━━━━━━━━━━━━\u001b[0m\u001b[37m\u001b[0m \u001b[1m1s\u001b[0m 913us/step - accuracy: 0.9961 - loss: 0.0117 - val_accuracy: 0.9978 - val_loss: 0.0092\n",
      "Epoch 19/75\n",
      "\u001b[1m1553/1553\u001b[0m \u001b[32m━━━━━━━━━━━━━━━━━━━━\u001b[0m\u001b[37m\u001b[0m \u001b[1m1s\u001b[0m 931us/step - accuracy: 0.9968 - loss: 0.0106 - val_accuracy: 0.9987 - val_loss: 0.0070\n",
      "Epoch 20/75\n",
      "\u001b[1m1553/1553\u001b[0m \u001b[32m━━━━━━━━━━━━━━━━━━━━\u001b[0m\u001b[37m\u001b[0m \u001b[1m2s\u001b[0m 992us/step - accuracy: 0.9966 - loss: 0.0109 - val_accuracy: 0.9934 - val_loss: 0.0157\n",
      "Epoch 21/75\n",
      "\u001b[1m1553/1553\u001b[0m \u001b[32m━━━━━━━━━━━━━━━━━━━━\u001b[0m\u001b[37m\u001b[0m \u001b[1m1s\u001b[0m 951us/step - accuracy: 0.9983 - loss: 0.0063 - val_accuracy: 0.9972 - val_loss: 0.0123\n",
      "Epoch 22/75\n",
      "\u001b[1m1553/1553\u001b[0m \u001b[32m━━━━━━━━━━━━━━━━━━━━\u001b[0m\u001b[37m\u001b[0m \u001b[1m2s\u001b[0m 1ms/step - accuracy: 0.9973 - loss: 0.0094 - val_accuracy: 0.9973 - val_loss: 0.0088\n",
      "Epoch 23/75\n",
      "\u001b[1m1553/1553\u001b[0m \u001b[32m━━━━━━━━━━━━━━━━━━━━\u001b[0m\u001b[37m\u001b[0m \u001b[1m1s\u001b[0m 912us/step - accuracy: 0.9964 - loss: 0.0114 - val_accuracy: 0.9963 - val_loss: 0.0144\n",
      "Epoch 24/75\n",
      "\u001b[1m1553/1553\u001b[0m \u001b[32m━━━━━━━━━━━━━━━━━━━━\u001b[0m\u001b[37m\u001b[0m \u001b[1m1s\u001b[0m 890us/step - accuracy: 0.9983 - loss: 0.0055 - val_accuracy: 0.9975 - val_loss: 0.0106\n",
      "Epoch 25/75\n",
      "\u001b[1m1553/1553\u001b[0m \u001b[32m━━━━━━━━━━━━━━━━━━━━\u001b[0m\u001b[37m\u001b[0m \u001b[1m1s\u001b[0m 870us/step - accuracy: 0.9982 - loss: 0.0059 - val_accuracy: 0.9965 - val_loss: 0.0135\n",
      "Epoch 26/75\n",
      "\u001b[1m1553/1553\u001b[0m \u001b[32m━━━━━━━━━━━━━━━━━━━━\u001b[0m\u001b[37m\u001b[0m \u001b[1m1s\u001b[0m 919us/step - accuracy: 0.9977 - loss: 0.0081 - val_accuracy: 0.9980 - val_loss: 0.0091\n",
      "Epoch 27/75\n",
      "\u001b[1m1553/1553\u001b[0m \u001b[32m━━━━━━━━━━━━━━━━━━━━\u001b[0m\u001b[37m\u001b[0m \u001b[1m2s\u001b[0m 974us/step - accuracy: 0.9977 - loss: 0.0083 - val_accuracy: 0.9989 - val_loss: 0.0075\n",
      "Epoch 28/75\n",
      "\u001b[1m1553/1553\u001b[0m \u001b[32m━━━━━━━━━━━━━━━━━━━━\u001b[0m\u001b[37m\u001b[0m \u001b[1m2s\u001b[0m 975us/step - accuracy: 0.9976 - loss: 0.0069 - val_accuracy: 0.9969 - val_loss: 0.0182\n",
      "Epoch 29/75\n",
      "\u001b[1m1553/1553\u001b[0m \u001b[32m━━━━━━━━━━━━━━━━━━━━\u001b[0m\u001b[37m\u001b[0m \u001b[1m1s\u001b[0m 885us/step - accuracy: 0.9972 - loss: 0.0083 - val_accuracy: 0.9989 - val_loss: 0.0113\n",
      "Epoch 30/75\n",
      "\u001b[1m1553/1553\u001b[0m \u001b[32m━━━━━━━━━━━━━━━━━━━━\u001b[0m\u001b[37m\u001b[0m \u001b[1m1s\u001b[0m 871us/step - accuracy: 0.9975 - loss: 0.0092 - val_accuracy: 0.9948 - val_loss: 0.0157\n",
      "Epoch 31/75\n",
      "\u001b[1m1553/1553\u001b[0m \u001b[32m━━━━━━━━━━━━━━━━━━━━\u001b[0m\u001b[37m\u001b[0m \u001b[1m1s\u001b[0m 878us/step - accuracy: 0.9982 - loss: 0.0065 - val_accuracy: 0.9973 - val_loss: 0.0093\n",
      "Epoch 32/75\n",
      "\u001b[1m1553/1553\u001b[0m \u001b[32m━━━━━━━━━━━━━━━━━━━━\u001b[0m\u001b[37m\u001b[0m \u001b[1m1s\u001b[0m 909us/step - accuracy: 0.9975 - loss: 0.0075 - val_accuracy: 0.9982 - val_loss: 0.0121\n",
      "Epoch 33/75\n",
      "\u001b[1m1553/1553\u001b[0m \u001b[32m━━━━━━━━━━━━━━━━━━━━\u001b[0m\u001b[37m\u001b[0m \u001b[1m1s\u001b[0m 888us/step - accuracy: 0.9987 - loss: 0.0041 - val_accuracy: 0.9968 - val_loss: 0.0150\n",
      "Epoch 34/75\n",
      "\u001b[1m1553/1553\u001b[0m \u001b[32m━━━━━━━━━━━━━━━━━━━━\u001b[0m\u001b[37m\u001b[0m \u001b[1m1s\u001b[0m 900us/step - accuracy: 0.9986 - loss: 0.0067 - val_accuracy: 0.9971 - val_loss: 0.0107\n",
      "Epoch 35/75\n",
      "\u001b[1m1553/1553\u001b[0m \u001b[32m━━━━━━━━━━━━━━━━━━━━\u001b[0m\u001b[37m\u001b[0m \u001b[1m1s\u001b[0m 867us/step - accuracy: 0.9979 - loss: 0.0078 - val_accuracy: 0.9979 - val_loss: 0.0071\n",
      "Epoch 36/75\n",
      "\u001b[1m1553/1553\u001b[0m \u001b[32m━━━━━━━━━━━━━━━━━━━━\u001b[0m\u001b[37m\u001b[0m \u001b[1m1s\u001b[0m 872us/step - accuracy: 0.9987 - loss: 0.0038 - val_accuracy: 0.9980 - val_loss: 0.0078\n",
      "Epoch 37/75\n",
      "\u001b[1m1553/1553\u001b[0m \u001b[32m━━━━━━━━━━━━━━━━━━━━\u001b[0m\u001b[37m\u001b[0m \u001b[1m1s\u001b[0m 891us/step - accuracy: 0.9987 - loss: 0.0046 - val_accuracy: 0.9978 - val_loss: 0.0073\n",
      "Epoch 38/75\n",
      "\u001b[1m1553/1553\u001b[0m \u001b[32m━━━━━━━━━━━━━━━━━━━━\u001b[0m\u001b[37m\u001b[0m \u001b[1m2s\u001b[0m 972us/step - accuracy: 0.9988 - loss: 0.0045 - val_accuracy: 0.9963 - val_loss: 0.0171\n",
      "Epoch 39/75\n",
      "\u001b[1m1553/1553\u001b[0m \u001b[32m━━━━━━━━━━━━━━━━━━━━\u001b[0m\u001b[37m\u001b[0m \u001b[1m1s\u001b[0m 911us/step - accuracy: 0.9984 - loss: 0.0059 - val_accuracy: 0.9983 - val_loss: 0.0090\n",
      "Epoch 40/75\n",
      "\u001b[1m1553/1553\u001b[0m \u001b[32m━━━━━━━━━━━━━━━━━━━━\u001b[0m\u001b[37m\u001b[0m \u001b[1m1s\u001b[0m 902us/step - accuracy: 0.9980 - loss: 0.0091 - val_accuracy: 0.9966 - val_loss: 0.0111\n",
      "Epoch 41/75\n",
      "\u001b[1m1553/1553\u001b[0m \u001b[32m━━━━━━━━━━━━━━━━━━━━\u001b[0m\u001b[37m\u001b[0m \u001b[1m1s\u001b[0m 868us/step - accuracy: 0.9986 - loss: 0.0049 - val_accuracy: 0.9974 - val_loss: 0.0108\n",
      "Epoch 42/75\n",
      "\u001b[1m1553/1553\u001b[0m \u001b[32m━━━━━━━━━━━━━━━━━━━━\u001b[0m\u001b[37m\u001b[0m \u001b[1m1s\u001b[0m 870us/step - accuracy: 0.9989 - loss: 0.0045 - val_accuracy: 0.9966 - val_loss: 0.0111\n",
      "Epoch 43/75\n",
      "\u001b[1m1553/1553\u001b[0m \u001b[32m━━━━━━━━━━━━━━━━━━━━\u001b[0m\u001b[37m\u001b[0m \u001b[1m1s\u001b[0m 896us/step - accuracy: 0.9985 - loss: 0.0049 - val_accuracy: 0.9974 - val_loss: 0.0088\n",
      "Epoch 44/75\n",
      "\u001b[1m1553/1553\u001b[0m \u001b[32m━━━━━━━━━━━━━━━━━━━━\u001b[0m\u001b[37m\u001b[0m \u001b[1m1s\u001b[0m 876us/step - accuracy: 0.9987 - loss: 0.0045 - val_accuracy: 0.9975 - val_loss: 0.0088\n",
      "Epoch 45/75\n",
      "\u001b[1m1553/1553\u001b[0m \u001b[32m━━━━━━━━━━━━━━━━━━━━\u001b[0m\u001b[37m\u001b[0m \u001b[1m1s\u001b[0m 866us/step - accuracy: 0.9990 - loss: 0.0042 - val_accuracy: 0.9979 - val_loss: 0.0081\n",
      "Epoch 46/75\n",
      "\u001b[1m1553/1553\u001b[0m \u001b[32m━━━━━━━━━━━━━━━━━━━━\u001b[0m\u001b[37m\u001b[0m \u001b[1m1s\u001b[0m 862us/step - accuracy: 0.9986 - loss: 0.0053 - val_accuracy: 0.9982 - val_loss: 0.0078\n",
      "Epoch 47/75\n",
      "\u001b[1m1553/1553\u001b[0m \u001b[32m━━━━━━━━━━━━━━━━━━━━\u001b[0m\u001b[37m\u001b[0m \u001b[1m1s\u001b[0m 860us/step - accuracy: 0.9992 - loss: 0.0033 - val_accuracy: 0.9979 - val_loss: 0.0128\n",
      "Epoch 48/75\n",
      "\u001b[1m1553/1553\u001b[0m \u001b[32m━━━━━━━━━━━━━━━━━━━━\u001b[0m\u001b[37m\u001b[0m \u001b[1m1s\u001b[0m 937us/step - accuracy: 0.9983 - loss: 0.0060 - val_accuracy: 0.9969 - val_loss: 0.0173\n",
      "Epoch 49/75\n",
      "\u001b[1m1553/1553\u001b[0m \u001b[32m━━━━━━━━━━━━━━━━━━━━\u001b[0m\u001b[37m\u001b[0m \u001b[1m1s\u001b[0m 929us/step - accuracy: 0.9984 - loss: 0.0048 - val_accuracy: 0.9983 - val_loss: 0.0083\n",
      "Epoch 50/75\n",
      "\u001b[1m1553/1553\u001b[0m \u001b[32m━━━━━━━━━━━━━━━━━━━━\u001b[0m\u001b[37m\u001b[0m \u001b[1m2s\u001b[0m 986us/step - accuracy: 0.9991 - loss: 0.0047 - val_accuracy: 0.9965 - val_loss: 0.0127\n",
      "Epoch 51/75\n",
      "\u001b[1m1553/1553\u001b[0m \u001b[32m━━━━━━━━━━━━━━━━━━━━\u001b[0m\u001b[37m\u001b[0m \u001b[1m1s\u001b[0m 883us/step - accuracy: 0.9982 - loss: 0.0059 - val_accuracy: 0.9973 - val_loss: 0.0134\n",
      "Epoch 52/75\n",
      "\u001b[1m1553/1553\u001b[0m \u001b[32m━━━━━━━━━━━━━━━━━━━━\u001b[0m\u001b[37m\u001b[0m \u001b[1m1s\u001b[0m 877us/step - accuracy: 0.9991 - loss: 0.0031 - val_accuracy: 0.9975 - val_loss: 0.0108\n",
      "Epoch 53/75\n",
      "\u001b[1m1553/1553\u001b[0m \u001b[32m━━━━━━━━━━━━━━━━━━━━\u001b[0m\u001b[37m\u001b[0m \u001b[1m1s\u001b[0m 870us/step - accuracy: 0.9988 - loss: 0.0044 - val_accuracy: 0.9953 - val_loss: 0.0209\n",
      "Epoch 54/75\n",
      "\u001b[1m1553/1553\u001b[0m \u001b[32m━━━━━━━━━━━━━━━━━━━━\u001b[0m\u001b[37m\u001b[0m \u001b[1m2s\u001b[0m 998us/step - accuracy: 0.9988 - loss: 0.0038 - val_accuracy: 0.9955 - val_loss: 0.0228\n",
      "Epoch 55/75\n",
      "\u001b[1m1553/1553\u001b[0m \u001b[32m━━━━━━━━━━━━━━━━━━━━\u001b[0m\u001b[37m\u001b[0m \u001b[1m2s\u001b[0m 984us/step - accuracy: 0.9986 - loss: 0.0055 - val_accuracy: 0.9980 - val_loss: 0.0092\n",
      "Epoch 56/75\n",
      "\u001b[1m1553/1553\u001b[0m \u001b[32m━━━━━━━━━━━━━━━━━━━━\u001b[0m\u001b[37m\u001b[0m \u001b[1m1s\u001b[0m 917us/step - accuracy: 0.9987 - loss: 0.0044 - val_accuracy: 0.9987 - val_loss: 0.0075\n",
      "Epoch 57/75\n",
      "\u001b[1m1553/1553\u001b[0m \u001b[32m━━━━━━━━━━━━━━━━━━━━\u001b[0m\u001b[37m\u001b[0m \u001b[1m1s\u001b[0m 867us/step - accuracy: 0.9991 - loss: 0.0027 - val_accuracy: 0.9965 - val_loss: 0.0152\n",
      "Epoch 58/75\n",
      "\u001b[1m1553/1553\u001b[0m \u001b[32m━━━━━━━━━━━━━━━━━━━━\u001b[0m\u001b[37m\u001b[0m \u001b[1m1s\u001b[0m 875us/step - accuracy: 0.9989 - loss: 0.0042 - val_accuracy: 0.9979 - val_loss: 0.0083\n",
      "Epoch 59/75\n",
      "\u001b[1m1553/1553\u001b[0m \u001b[32m━━━━━━━━━━━━━━━━━━━━\u001b[0m\u001b[37m\u001b[0m \u001b[1m1s\u001b[0m 914us/step - accuracy: 0.9979 - loss: 0.0049 - val_accuracy: 0.9976 - val_loss: 0.0120\n",
      "Epoch 60/75\n",
      "\u001b[1m1553/1553\u001b[0m \u001b[32m━━━━━━━━━━━━━━━━━━━━\u001b[0m\u001b[37m\u001b[0m \u001b[1m1s\u001b[0m 936us/step - accuracy: 0.9985 - loss: 0.0044 - val_accuracy: 0.9987 - val_loss: 0.0076\n",
      "Epoch 61/75\n",
      "\u001b[1m1553/1553\u001b[0m \u001b[32m━━━━━━━━━━━━━━━━━━━━\u001b[0m\u001b[37m\u001b[0m \u001b[1m2s\u001b[0m 956us/step - accuracy: 0.9991 - loss: 0.0038 - val_accuracy: 0.9992 - val_loss: 0.0045\n",
      "Epoch 62/75\n",
      "\u001b[1m1553/1553\u001b[0m \u001b[32m━━━━━━━━━━━━━━━━━━━━\u001b[0m\u001b[37m\u001b[0m \u001b[1m1s\u001b[0m 875us/step - accuracy: 0.9991 - loss: 0.0032 - val_accuracy: 0.9968 - val_loss: 0.0129\n",
      "Epoch 63/75\n",
      "\u001b[1m1553/1553\u001b[0m \u001b[32m━━━━━━━━━━━━━━━━━━━━\u001b[0m\u001b[37m\u001b[0m \u001b[1m1s\u001b[0m 872us/step - accuracy: 0.9993 - loss: 0.0026 - val_accuracy: 0.9984 - val_loss: 0.0079\n",
      "Epoch 64/75\n",
      "\u001b[1m1553/1553\u001b[0m \u001b[32m━━━━━━━━━━━━━━━━━━━━\u001b[0m\u001b[37m\u001b[0m \u001b[1m1s\u001b[0m 921us/step - accuracy: 0.9981 - loss: 0.0062 - val_accuracy: 0.9973 - val_loss: 0.0131\n",
      "Epoch 65/75\n",
      "\u001b[1m1553/1553\u001b[0m \u001b[32m━━━━━━━━━━━━━━━━━━━━\u001b[0m\u001b[37m\u001b[0m \u001b[1m1s\u001b[0m 884us/step - accuracy: 0.9992 - loss: 0.0024 - val_accuracy: 0.9974 - val_loss: 0.0132\n",
      "Epoch 66/75\n",
      "\u001b[1m1553/1553\u001b[0m \u001b[32m━━━━━━━━━━━━━━━━━━━━\u001b[0m\u001b[37m\u001b[0m \u001b[1m1s\u001b[0m 863us/step - accuracy: 0.9990 - loss: 0.0039 - val_accuracy: 0.9984 - val_loss: 0.0101\n",
      "Epoch 67/75\n",
      "\u001b[1m1553/1553\u001b[0m \u001b[32m━━━━━━━━━━━━━━━━━━━━\u001b[0m\u001b[37m\u001b[0m \u001b[1m1s\u001b[0m 872us/step - accuracy: 0.9992 - loss: 0.0042 - val_accuracy: 0.9982 - val_loss: 0.0158\n",
      "Epoch 68/75\n",
      "\u001b[1m1553/1553\u001b[0m \u001b[32m━━━━━━━━━━━━━━━━━━━━\u001b[0m\u001b[37m\u001b[0m \u001b[1m1s\u001b[0m 874us/step - accuracy: 0.9992 - loss: 0.0028 - val_accuracy: 0.9978 - val_loss: 0.0095\n",
      "Epoch 69/75\n",
      "\u001b[1m1553/1553\u001b[0m \u001b[32m━━━━━━━━━━━━━━━━━━━━\u001b[0m\u001b[37m\u001b[0m \u001b[1m1s\u001b[0m 906us/step - accuracy: 0.9988 - loss: 0.0043 - val_accuracy: 0.9978 - val_loss: 0.0101\n",
      "Epoch 70/75\n",
      "\u001b[1m1553/1553\u001b[0m \u001b[32m━━━━━━━━━━━━━━━━━━━━\u001b[0m\u001b[37m\u001b[0m \u001b[1m1s\u001b[0m 880us/step - accuracy: 0.9989 - loss: 0.0035 - val_accuracy: 0.9983 - val_loss: 0.0089\n",
      "Epoch 71/75\n",
      "\u001b[1m1553/1553\u001b[0m \u001b[32m━━━━━━━━━━━━━━━━━━━━\u001b[0m\u001b[37m\u001b[0m \u001b[1m1s\u001b[0m 929us/step - accuracy: 0.9983 - loss: 0.0056 - val_accuracy: 0.9991 - val_loss: 0.0106\n",
      "Epoch 72/75\n",
      "\u001b[1m1553/1553\u001b[0m \u001b[32m━━━━━━━━━━━━━━━━━━━━\u001b[0m\u001b[37m\u001b[0m \u001b[1m2s\u001b[0m 979us/step - accuracy: 0.9993 - loss: 0.0019 - val_accuracy: 0.9987 - val_loss: 0.0087\n",
      "Epoch 73/75\n",
      "\u001b[1m1553/1553\u001b[0m \u001b[32m━━━━━━━━━━━━━━━━━━━━\u001b[0m\u001b[37m\u001b[0m \u001b[1m1s\u001b[0m 880us/step - accuracy: 0.9990 - loss: 0.0036 - val_accuracy: 0.9980 - val_loss: 0.0134\n",
      "Epoch 74/75\n",
      "\u001b[1m1553/1553\u001b[0m \u001b[32m━━━━━━━━━━━━━━━━━━━━\u001b[0m\u001b[37m\u001b[0m \u001b[1m1s\u001b[0m 909us/step - accuracy: 0.9992 - loss: 0.0025 - val_accuracy: 0.9985 - val_loss: 0.0116\n",
      "Epoch 75/75\n",
      "\u001b[1m1553/1553\u001b[0m \u001b[32m━━━━━━━━━━━━━━━━━━━━\u001b[0m\u001b[37m\u001b[0m \u001b[1m1s\u001b[0m 870us/step - accuracy: 0.9995 - loss: 0.0016 - val_accuracy: 0.9963 - val_loss: 0.0195\n"
     ]
    }
   ],
   "source": [
    "history=model.fit(x,y,epochs=75,batch_size=23, validation_split=.20, verbose=1)"
   ]
  },
  {
   "cell_type": "code",
   "execution_count": 93,
   "id": "9b50603e-5356-4c83-a8e9-01716ded132f",
   "metadata": {},
   "outputs": [
    {
     "name": "stdout",
     "output_type": "stream",
     "text": [
      "\u001b[1m736/736\u001b[0m \u001b[32m━━━━━━━━━━━━━━━━━━━━\u001b[0m\u001b[37m\u001b[0m \u001b[1m1s\u001b[0m 601us/step\n"
     ]
    }
   ],
   "source": [
    "dosya[\"is_canceled\"]=model.predict(test)"
   ]
  },
  {
   "cell_type": "code",
   "execution_count": 94,
   "id": "c7bfbfe2-836e-444a-982e-78f8e76b5f9e",
   "metadata": {},
   "outputs": [],
   "source": [
    "dosya.to_csv(\"tahmin2.csv\",index=False)"
   ]
  },
  {
   "cell_type": "code",
   "execution_count": 95,
   "id": "4ee88450-e0f8-4b50-a4c2-299f836c02ee",
   "metadata": {},
   "outputs": [
    {
     "data": {
      "text/plain": [
       "<matplotlib.legend.Legend at 0x244fd9d0f80>"
      ]
     },
     "execution_count": 95,
     "metadata": {},
     "output_type": "execute_result"
    },
    {
     "data": {
      "image/png": "[encoded data removed]",
      "text/plain": [
       "<Figure size 640x480 with 1 Axes>"
      ]
     },
     "metadata": {},
     "output_type": "display_data"
    }
   ],
   "source": [
    "plt.plot(history.history[\"accuracy\"],label=\"Accuracy\")    \n",
    "plt.plot(history.history[\"val_accuracy\"],label=\"Val_Accuracy\")\n",
    "plt.legend()"
   ]
  },
  {
   "cell_type": "markdown",
   "id": "6f2c26a7-3293-4a77-8a26-718ebb94302b",
   "metadata": {},
   "source": [
    "Bu projemizde Müsterilerin otellerdeki rezarvasyonlarını iptal etme olasılıklarını tahmin eden bir model gelistirdik. Modelimizi hem ML hem de DL kullanarak eğittik."
   ]
  }
 ],
 "metadata": {
  "kernelspec": {
   "display_name": "Python [conda env:base] *",
   "language": "python",
   "name": "conda-base-py"
  },
  "language_info": {
   "codemirror_mode": {
    "name": "ipython",
    "version": 3
   },
   "file_extension": ".py",
   "mimetype": "text/x-python",
   "name": "python",
   "nbconvert_exporter": "python",
   "pygments_lexer": "ipython3",
   "version": "3.13.5"
  }
 },
 "nbformat": 4,
 "nbformat_minor": 5
}
