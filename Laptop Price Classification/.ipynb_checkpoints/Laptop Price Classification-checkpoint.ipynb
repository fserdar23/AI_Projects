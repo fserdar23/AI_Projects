{
 "cells": [
  {
   "cell_type": "markdown",
   "id": "264340a7-b8b9-4446-9a66-8c9aef82975c",
   "metadata": {},
   "source": [
    "# Laptop Price Classification"
   ]
  },
  {
   "cell_type": "markdown",
   "id": "e6c4068d-b2fd-4edc-8519-962c96d3fb8b",
   "metadata": {},
   "source": [
    "<img src=\"https://www.nvidia.com/content/dam/en-zz/Solutions/ces-2023/40-series-laptops/geforce-rtx-40-series-laptop-og.jpg\">"
   ]
  },
  {
   "cell_type": "markdown",
   "id": "34009eaa-1135-4f86-807f-ebf07a172c24",
   "metadata": {},
   "source": [
    "1. Aşama:\n",
    "\n",
    "Çalışma verisi olarak “data.xlsx” kullanılacaktır. Veri setini Eğitim ve test olarak ayırarak “Fiyat” Kategorisi sütununa göre sınıflandırılması\n",
    "ve test edilmesi yapılacaktır. Ödevin ikinci aşaması için eğittiğiniz modellerden en yüksek doğruluk oranı bulunan modelin  kaydedilmesi gerekmektedir.\n",
    "\n",
    "2. Aşama:\n",
    "\n",
    "Kaydedilen  modeli  “test.xlsx” verisi üzerinde test etmelisiniz.\n",
    "Test edilme işlemi yapılmadan önce eğitim verisine uygulanan veri ön işleme\n",
    "adımlarının test verisine de uygulanması gerekmektedir.\n",
    "• Bu adımları gerçekleştiren bir FONKSİYON yazılarak“test.xlsx”\n",
    "verisinin yolu yüklendiğinde veri ön işleme adımlarının gerçekleştirilmesi önerilir.\n",
    "\n",
    "Notlar:\n",
    "Model eğitiminde sadece data.xlsx dosyası kullanılmalıdır. \n",
    "Modelin pickle dosyası olarak kayıt edilmesi önerilir.\n",
    "test.xlsx dosyası sadece model kayıt edildikten sonra okunmalı ve kayıt edilen modelde test edilmelidir.\n",
    "\n",
    "Daha yüksek bir doğruluk oranı için ipucu:\n",
    "train_test_split yaptıktan sonra en yüksek doğruluk oranını veren model bulunduğunda model kayıt edilmeden önce; train_test_split yapmadan ön işlemeden geçirdiğiniz data.xlsx dosyasının tamamını tekrar fit etmeniz ve o modeli kayıt etmeniz önerilir. Çünkü train_test_split yaptığınızda ayırdığınız test verisi model eğitiminde kullanılamayacaktır ve boşa gidecektir. Dosyayı yalnızca x(Bağımlı değişkenler) ve y(Fiyat sütunu) olarak ayırarak fit etmeniz önerilir. \n",
    "\n",
    "\n",
    "EKSTRA NOT:\n",
    "Modeli kayıt etme ve test.xlsx dosyasını test etmede çok zorlananlar;\n",
    "Yalnızca 1. aşamayı uygulayarak ödevi teslim edebilirler. O çözümler de kabul edilecektir. Fakat asıl istenen çözüm 2 aşamanın da yapılmasıdır. \n"
   ]
  },
  {
   "cell_type": "markdown",
   "id": "f6ba0954-d9de-47cc-8531-d38410270bfa",
   "metadata": {},
   "source": [
    "<a href=\"https://docs.google.com/spreadsheets/d/1j1rOOMOJJDr_pliz26rAWHvElzHY4Dbh/edit?usp=drive_link&ouid=100635506920782714901&rtpof=true&sd=true\">Dataya Buradan Erişebilirsniz</a>"
   ]
  },
  {
   "cell_type": "code",
   "execution_count": 1,
   "id": "dd84c565-393d-4609-809b-c8bc8acd5ff1",
   "metadata": {},
   "outputs": [],
   "source": [
    "import pandas as pd\n",
    "import matplotlib.pyplot as plt\n",
    "import seaborn as sns\n",
    "\n",
    "pd.set_option(\"display.max_columns\",100)\n",
    "\n",
    "import warnings\n",
    "warnings.filterwarnings(\"ignore\")"
   ]
  },
  {
   "cell_type": "markdown",
   "id": "4d690731-f2d0-498d-b1a8-37f45c5eab02",
   "metadata": {},
   "source": [
    "### EDA"
   ]
  },
  {
   "cell_type": "code",
   "execution_count": 2,
   "id": "6d9b10fe-b514-4957-a1cc-3d7c14ba4351",
   "metadata": {},
   "outputs": [],
   "source": [
    "df=pd.read_excel(\"data.xlsx\")"
   ]
  },
  {
   "cell_type": "code",
   "execution_count": 3,
   "id": "71aa9b39-0e98-4e5e-a533-05f05c8006bd",
   "metadata": {},
   "outputs": [
    {
     "data": {
      "text/html": [
       "<div>\n",
       "<style scoped>\n",
       "    .dataframe tbody tr th:only-of-type {\n",
       "        vertical-align: middle;\n",
       "    }\n",
       "\n",
       "    .dataframe tbody tr th {\n",
       "        vertical-align: top;\n",
       "    }\n",
       "\n",
       "    .dataframe thead th {\n",
       "        text-align: right;\n",
       "    }\n",
       "</style>\n",
       "<table border=\"1\" class=\"dataframe\">\n",
       "  <thead>\n",
       "    <tr style=\"text-align: right;\">\n",
       "      <th></th>\n",
       "      <th>Bellek Hızı</th>\n",
       "      <th>Cihaz Ağırlığı</th>\n",
       "      <th>Ekran Boyutu</th>\n",
       "      <th>Ekran Kartı Bellek Tipi</th>\n",
       "      <th>Ekran Kartı Hafızası</th>\n",
       "      <th>Ekran Kartı Tipi</th>\n",
       "      <th>Ekran Panel Tipi</th>\n",
       "      <th>İşlemci Nesli</th>\n",
       "      <th>İşlemci</th>\n",
       "      <th>İşletim Sistemi</th>\n",
       "      <th>Kart Okuyucu</th>\n",
       "      <th>Aydınlatma</th>\n",
       "      <th>Maksimum İşlemci Hızı</th>\n",
       "      <th>Max Ekran Çözünürlüğü</th>\n",
       "      <th>Parmak İzi Okuyucu</th>\n",
       "      <th>Ram (Sistem Belleği)</th>\n",
       "      <th>SSD Kapasitesi</th>\n",
       "      <th>Ürün Modeli</th>\n",
       "      <th>Fiyat</th>\n",
       "    </tr>\n",
       "  </thead>\n",
       "  <tbody>\n",
       "    <tr>\n",
       "      <th>0</th>\n",
       "      <td>1066 MHz</td>\n",
       "      <td>NaN</td>\n",
       "      <td>10 inç</td>\n",
       "      <td>NaN</td>\n",
       "      <td>1 GB</td>\n",
       "      <td>NaN</td>\n",
       "      <td>IPS</td>\n",
       "      <td>1.Nesil</td>\n",
       "      <td>1000M</td>\n",
       "      <td>Android</td>\n",
       "      <td>NaN</td>\n",
       "      <td>0</td>\n",
       "      <td>1,05 GHz</td>\n",
       "      <td>NaN</td>\n",
       "      <td>NaN</td>\n",
       "      <td>NaN</td>\n",
       "      <td>1 TB</td>\n",
       "      <td>Notebook</td>\n",
       "      <td>Çok Yüksek</td>\n",
       "    </tr>\n",
       "    <tr>\n",
       "      <th>1</th>\n",
       "      <td>1066 MHz</td>\n",
       "      <td>NaN</td>\n",
       "      <td>10 inç</td>\n",
       "      <td>NaN</td>\n",
       "      <td>1 GB</td>\n",
       "      <td>NaN</td>\n",
       "      <td>IPS</td>\n",
       "      <td>1.Nesil</td>\n",
       "      <td>1000M</td>\n",
       "      <td>Android</td>\n",
       "      <td>NaN</td>\n",
       "      <td>0</td>\n",
       "      <td>1,05 GHz</td>\n",
       "      <td>NaN</td>\n",
       "      <td>NaN</td>\n",
       "      <td>NaN</td>\n",
       "      <td>1 TB</td>\n",
       "      <td>Notebook</td>\n",
       "      <td>Çok Yüksek</td>\n",
       "    </tr>\n",
       "    <tr>\n",
       "      <th>2</th>\n",
       "      <td>1066 MHz</td>\n",
       "      <td>NaN</td>\n",
       "      <td>10 inç</td>\n",
       "      <td>NaN</td>\n",
       "      <td>1 GB</td>\n",
       "      <td>NaN</td>\n",
       "      <td>IPS</td>\n",
       "      <td>1.Nesil</td>\n",
       "      <td>1000M</td>\n",
       "      <td>Android</td>\n",
       "      <td>NaN</td>\n",
       "      <td>0</td>\n",
       "      <td>1,05 GHz</td>\n",
       "      <td>NaN</td>\n",
       "      <td>NaN</td>\n",
       "      <td>NaN</td>\n",
       "      <td>1 TB</td>\n",
       "      <td>Notebook</td>\n",
       "      <td>Orta</td>\n",
       "    </tr>\n",
       "    <tr>\n",
       "      <th>3</th>\n",
       "      <td>3200 MHz</td>\n",
       "      <td>1 - 2 kg</td>\n",
       "      <td>15,6 inç</td>\n",
       "      <td>GDDR4</td>\n",
       "      <td>2 GB</td>\n",
       "      <td>Harici Ekran Kartı</td>\n",
       "      <td>LED</td>\n",
       "      <td>10. Nesil</td>\n",
       "      <td>1035G1</td>\n",
       "      <td>Windows 10 Home</td>\n",
       "      <td>Var</td>\n",
       "      <td>0</td>\n",
       "      <td>3,6 GHz</td>\n",
       "      <td>1920 x 1080</td>\n",
       "      <td>Yok</td>\n",
       "      <td>8 GB</td>\n",
       "      <td>512 GB</td>\n",
       "      <td>Notebook</td>\n",
       "      <td>Düşük</td>\n",
       "    </tr>\n",
       "    <tr>\n",
       "      <th>4</th>\n",
       "      <td>3200 MHz</td>\n",
       "      <td>1 - 2 kg</td>\n",
       "      <td>15,6 inç</td>\n",
       "      <td>GDDR5</td>\n",
       "      <td>2 GB</td>\n",
       "      <td>Harici Ekran Kartı</td>\n",
       "      <td>LED</td>\n",
       "      <td>10. Nesil</td>\n",
       "      <td>1035G1</td>\n",
       "      <td>Windows 10 Home</td>\n",
       "      <td>Yok</td>\n",
       "      <td>0</td>\n",
       "      <td>3,6 GHz</td>\n",
       "      <td>1920 x 1080</td>\n",
       "      <td>Yok</td>\n",
       "      <td>12 GB</td>\n",
       "      <td>1 TB</td>\n",
       "      <td>Notebook</td>\n",
       "      <td>Düşük</td>\n",
       "    </tr>\n",
       "  </tbody>\n",
       "</table>\n",
       "</div>"
      ],
      "text/plain": [
       "  Bellek Hızı Cihaz Ağırlığı Ekran Boyutu Ekran Kartı Bellek Tipi  \\\n",
       "0    1066 MHz            NaN       10 inç                     NaN   \n",
       "1    1066 MHz            NaN       10 inç                     NaN   \n",
       "2    1066 MHz            NaN       10 inç                     NaN   \n",
       "3    3200 MHz       1 - 2 kg     15,6 inç                   GDDR4   \n",
       "4    3200 MHz       1 - 2 kg     15,6 inç                   GDDR5   \n",
       "\n",
       "  Ekran Kartı Hafızası    Ekran Kartı Tipi Ekran Panel Tipi İşlemci Nesli  \\\n",
       "0                 1 GB                 NaN              IPS       1.Nesil   \n",
       "1                 1 GB                 NaN              IPS       1.Nesil   \n",
       "2                 1 GB                 NaN              IPS       1.Nesil   \n",
       "3                 2 GB  Harici Ekran Kartı              LED     10. Nesil   \n",
       "4                 2 GB  Harici Ekran Kartı              LED     10. Nesil   \n",
       "\n",
       "  İşlemci  İşletim Sistemi Kart Okuyucu  Aydınlatma Maksimum İşlemci Hızı  \\\n",
       "0   1000M          Android          NaN           0              1,05 GHz   \n",
       "1   1000M          Android          NaN           0              1,05 GHz   \n",
       "2   1000M          Android          NaN           0              1,05 GHz   \n",
       "3  1035G1  Windows 10 Home          Var           0               3,6 GHz   \n",
       "4  1035G1  Windows 10 Home          Yok           0               3,6 GHz   \n",
       "\n",
       "  Max Ekran Çözünürlüğü Parmak İzi Okuyucu Ram (Sistem Belleği)  \\\n",
       "0                   NaN                NaN                  NaN   \n",
       "1                   NaN                NaN                  NaN   \n",
       "2                   NaN                NaN                  NaN   \n",
       "3           1920 x 1080                Yok                 8 GB   \n",
       "4           1920 x 1080                Yok                12 GB   \n",
       "\n",
       "  SSD Kapasitesi Ürün Modeli       Fiyat  \n",
       "0           1 TB    Notebook  Çok Yüksek  \n",
       "1           1 TB    Notebook  Çok Yüksek  \n",
       "2           1 TB    Notebook        Orta  \n",
       "3         512 GB    Notebook       Düşük  \n",
       "4           1 TB    Notebook       Düşük  "
      ]
     },
     "execution_count": 3,
     "metadata": {},
     "output_type": "execute_result"
    }
   ],
   "source": [
    "df.head()"
   ]
  },
  {
   "cell_type": "code",
   "execution_count": 4,
   "id": "bf6dd24e-fa13-4fa2-8d51-78fa357ffbb4",
   "metadata": {},
   "outputs": [
    {
     "data": {
      "text/plain": [
       "(994, 19)"
      ]
     },
     "execution_count": 4,
     "metadata": {},
     "output_type": "execute_result"
    }
   ],
   "source": [
    "df.shape"
   ]
  },
  {
   "cell_type": "code",
   "execution_count": 5,
   "id": "e21def39-7372-4835-a9f0-ff3c6ad181f1",
   "metadata": {},
   "outputs": [
    {
     "name": "stdout",
     "output_type": "stream",
     "text": [
      "<class 'pandas.core.frame.DataFrame'>\n",
      "RangeIndex: 994 entries, 0 to 993\n",
      "Data columns (total 19 columns):\n",
      " #   Column                   Non-Null Count  Dtype \n",
      "---  ------                   --------------  ----- \n",
      " 0   Bellek Hızı              888 non-null    object\n",
      " 1   Cihaz Ağırlığı           985 non-null    object\n",
      " 2   Ekran Boyutu             994 non-null    object\n",
      " 3   Ekran Kartı Bellek Tipi  884 non-null    object\n",
      " 4   Ekran Kartı Hafızası     946 non-null    object\n",
      " 5   Ekran Kartı Tipi         955 non-null    object\n",
      " 6   Ekran Panel Tipi         994 non-null    object\n",
      " 7   İşlemci Nesli            946 non-null    object\n",
      " 8   İşlemci                  979 non-null    object\n",
      " 9   İşletim Sistemi          994 non-null    object\n",
      " 10  Kart Okuyucu             864 non-null    object\n",
      " 11  Aydınlatma               994 non-null    int64 \n",
      " 12  Maksimum İşlemci Hızı    950 non-null    object\n",
      " 13  Max Ekran Çözünürlüğü    988 non-null    object\n",
      " 14  Parmak İzi Okuyucu       886 non-null    object\n",
      " 15  Ram (Sistem Belleği)     987 non-null    object\n",
      " 16  SSD Kapasitesi           991 non-null    object\n",
      " 17  Ürün Modeli              994 non-null    object\n",
      " 18  Fiyat                    994 non-null    object\n",
      "dtypes: int64(1), object(18)\n",
      "memory usage: 147.7+ KB\n"
     ]
    }
   ],
   "source": [
    "df.info()"
   ]
  },
  {
   "cell_type": "code",
   "execution_count": 6,
   "id": "a9a27cad-76c3-4f27-ad81-b1cfc37fe449",
   "metadata": {},
   "outputs": [
    {
     "data": {
      "text/plain": [
       "Bellek Hızı                106\n",
       "Cihaz Ağırlığı               9\n",
       "Ekran Boyutu                 0\n",
       "Ekran Kartı Bellek Tipi    110\n",
       "Ekran Kartı Hafızası        48\n",
       "Ekran Kartı Tipi            39\n",
       "Ekran Panel Tipi             0\n",
       "İşlemci Nesli               48\n",
       "İşlemci                     15\n",
       "İşletim Sistemi              0\n",
       "Kart Okuyucu               130\n",
       "Aydınlatma                   0\n",
       "Maksimum İşlemci Hızı       44\n",
       "Max Ekran Çözünürlüğü        6\n",
       "Parmak İzi Okuyucu         108\n",
       "Ram (Sistem Belleği)         7\n",
       "SSD Kapasitesi               3\n",
       "Ürün Modeli                  0\n",
       "Fiyat                        0\n",
       "dtype: int64"
      ]
     },
     "execution_count": 6,
     "metadata": {},
     "output_type": "execute_result"
    }
   ],
   "source": [
    "df.isnull().sum()"
   ]
  },
  {
   "cell_type": "code",
   "execution_count": 7,
   "id": "49ad7aab-e49c-420e-b249-46c4d9b17e72",
   "metadata": {},
   "outputs": [
    {
     "data": {
      "text/plain": [
       "Bellek Hızı\n",
       "3200 MHz    655\n",
       "4800 MHz    100\n",
       "2666 MHz     71\n",
       "2400 MHz     17\n",
       "2933 MHz     14\n",
       "5200 MHz      6\n",
       "4266 MHz      6\n",
       "4267 MHz      4\n",
       "1066 MHz      3\n",
       "3000 MHz      3\n",
       "3733 MHz      2\n",
       "5500 MHz      2\n",
       "2133 MHz      2\n",
       "6400 MHz      1\n",
       "1600 MHz      1\n",
       "1866 MHz      1\n",
       "Name: count, dtype: int64"
      ]
     },
     "execution_count": 7,
     "metadata": {},
     "output_type": "execute_result"
    }
   ],
   "source": [
    "df[\"Bellek Hızı\"].value_counts()"
   ]
  },
  {
   "cell_type": "code",
   "execution_count": 8,
   "id": "e5174730-bf49-4ba0-b14b-a702fc0ae2b6",
   "metadata": {},
   "outputs": [
    {
     "data": {
      "text/plain": [
       "Cihaz Ağırlığı\n",
       "1 - 2 kg        586\n",
       "2 - 4 kg        303\n",
       "2 kg ve Altı     95\n",
       "4 kg ve Üstü      1\n",
       "Name: count, dtype: int64"
      ]
     },
     "execution_count": 8,
     "metadata": {},
     "output_type": "execute_result"
    }
   ],
   "source": [
    "df[\"Cihaz Ağırlığı\"].value_counts()"
   ]
  },
  {
   "cell_type": "code",
   "execution_count": 9,
   "id": "effcd2ad-1bfc-4297-8cca-486bf9153279",
   "metadata": {},
   "outputs": [
    {
     "data": {
      "text/plain": [
       "Ekran Kartı Bellek Tipi\n",
       "Onboard    529\n",
       "GDDR6      289\n",
       "GDDR5       45\n",
       "GDDR4       12\n",
       "DDR5         7\n",
       "DDR3         1\n",
       "GDDR6X       1\n",
       "Name: count, dtype: int64"
      ]
     },
     "execution_count": 9,
     "metadata": {},
     "output_type": "execute_result"
    }
   ],
   "source": [
    "df[\"Ekran Kartı Bellek Tipi\"].value_counts()"
   ]
  },
  {
   "cell_type": "code",
   "execution_count": 10,
   "id": "d040cc70-b3f2-4a4a-8d5f-bf1913e1991f",
   "metadata": {},
   "outputs": [
    {
     "data": {
      "text/plain": [
       "Ekran Kartı Hafızası\n",
       "Paylaşımlı    597\n",
       "4 GB          142\n",
       "2 GB           82\n",
       "6 GB           72\n",
       "8 GB           37\n",
       "16 GB          10\n",
       "1 GB            3\n",
       "12 GB           3\n",
       "Name: count, dtype: int64"
      ]
     },
     "execution_count": 10,
     "metadata": {},
     "output_type": "execute_result"
    }
   ],
   "source": [
    "df[\"Ekran Kartı Hafızası\"].value_counts()"
   ]
  },
  {
   "cell_type": "code",
   "execution_count": 11,
   "id": "615d6e2f-5bd2-4f6d-8453-f3eecd5eb2f9",
   "metadata": {},
   "outputs": [
    {
     "data": {
      "text/plain": [
       "Ekran Kartı Tipi\n",
       "Dahili Ekran Kartı                  596\n",
       "Harici Ekran Kartı                  183\n",
       "Yüksek Seviye Harici Ekran Kartı    176\n",
       "Name: count, dtype: int64"
      ]
     },
     "execution_count": 11,
     "metadata": {},
     "output_type": "execute_result"
    }
   ],
   "source": [
    "df[\"Ekran Kartı Tipi\"].value_counts()"
   ]
  },
  {
   "cell_type": "code",
   "execution_count": 12,
   "id": "e54c9015-4381-45ca-a5de-33f8eb390567",
   "metadata": {
    "scrolled": true
   },
   "outputs": [
    {
     "data": {
      "text/plain": [
       "İşlemci Nesli\n",
       "11.Nesil          341\n",
       "12.Nesil          246\n",
       "5.Nesil            90\n",
       "Ryzen              79\n",
       "13.Nesil           53\n",
       "10. Nesil          34\n",
       "10.Nesil           25\n",
       "4.Nesil            15\n",
       "7.Nesil            13\n",
       "6.Nesil            11\n",
       "Apple M2 Pro        8\n",
       "Apple M2            5\n",
       "M2                  4\n",
       "3.Nesil             3\n",
       "9.Nesil             3\n",
       "Apple M2 Max        3\n",
       "İntel N Serisi      3\n",
       "1.Nesil             3\n",
       "8.Nesil             2\n",
       "M2 Max              2\n",
       "M2 Pro              2\n",
       "Yok                 1\n",
       "Name: count, dtype: int64"
      ]
     },
     "execution_count": 12,
     "metadata": {},
     "output_type": "execute_result"
    }
   ],
   "source": [
    "df[\"İşlemci Nesli\"].value_counts()"
   ]
  },
  {
   "cell_type": "code",
   "execution_count": 13,
   "id": "d9db5834-d359-4fa1-9f51-fa267fbc756e",
   "metadata": {},
   "outputs": [
    {
     "data": {
      "text/plain": [
       "İşlemci\n",
       "1135G7          144\n",
       "1255U            79\n",
       "1235U            71\n",
       "1165G7           68\n",
       "1115G4           47\n",
       "               ... \n",
       "AMD R7-5700U      1\n",
       "6800HS            1\n",
       "N4150             1\n",
       "7Y57              1\n",
       "7320U             1\n",
       "Name: count, Length: 87, dtype: int64"
      ]
     },
     "execution_count": 13,
     "metadata": {},
     "output_type": "execute_result"
    }
   ],
   "source": [
    "df[\"İşlemci\"].value_counts()"
   ]
  },
  {
   "cell_type": "code",
   "execution_count": 14,
   "id": "8aecc049-58dd-4971-8058-ce9dc019e6a8",
   "metadata": {},
   "outputs": [
    {
     "data": {
      "text/plain": [
       "Kart Okuyucu\n",
       "Var    471\n",
       "Yok    393\n",
       "Name: count, dtype: int64"
      ]
     },
     "execution_count": 14,
     "metadata": {},
     "output_type": "execute_result"
    }
   ],
   "source": [
    "df[\"Kart Okuyucu\"].value_counts()"
   ]
  },
  {
   "cell_type": "code",
   "execution_count": 15,
   "id": "e6de9ceb-e68b-4841-be43-3053eb36dbd1",
   "metadata": {
    "scrolled": true
   },
   "outputs": [
    {
     "data": {
      "text/plain": [
       "Maksimum İşlemci Hızı\n",
       "4,7 GHz     226\n",
       "4,2 GHz     175\n",
       "4,5 GHz     108\n",
       "4,4 GHz     104\n",
       "4,1 GHz      53\n",
       "4,3 GHz      47\n",
       "5 GHz        37\n",
       "4,0 GHz      22\n",
       "4,6 GHz      20\n",
       "4 GHz        18\n",
       "2,6 GHz      16\n",
       "3,4 GHz      14\n",
       "2,8 GHz      14\n",
       "3,5 GHz      11\n",
       "4,9 GHz       9\n",
       "3,6 GHz       8\n",
       "3,9 GHz       7\n",
       "5,6 GHz       7\n",
       "5,4 GHz       6\n",
       "2,4 GHz       5\n",
       "3,1 GHz       5\n",
       "3,8 GHz       4\n",
       "3,7 GHz       4\n",
       "1,05 GHz      4\n",
       "4,8 GHz       4\n",
       "2,5 GHz       3\n",
       "1,1 GHz       3\n",
       "5,2 GHz       3\n",
       "5,5 Ghz       2\n",
       "2,3 GHz       2\n",
       "2,1 GHz       2\n",
       "2 GHz         2\n",
       "1,2 GHz       1\n",
       "3,2 GHz       1\n",
       "3 GHz         1\n",
       "2,2 GHz       1\n",
       "1,8 GHz       1\n",
       "Name: count, dtype: int64"
      ]
     },
     "execution_count": 15,
     "metadata": {},
     "output_type": "execute_result"
    }
   ],
   "source": [
    "df[\"Maksimum İşlemci Hızı\"].value_counts()"
   ]
  },
  {
   "cell_type": "code",
   "execution_count": 16,
   "id": "ab17ab08-0968-4119-ae7d-a42a5320d5ce",
   "metadata": {},
   "outputs": [
    {
     "data": {
      "text/plain": [
       "Max Ekran Çözünürlüğü\n",
       "1920 x 1080    808\n",
       "1366 x 768      55\n",
       "2560 x 1600     42\n",
       "1920 x 1200     24\n",
       "1920 x 1280      9\n",
       "3456 x 2234      9\n",
       "3840 x 2160      6\n",
       "2560 x 1440      6\n",
       "2880 x 1800      4\n",
       "3024 x 1964      4\n",
       "2520 x 1680      3\n",
       "3072 x 1920      3\n",
       "1921 x 1080      3\n",
       "1926 x 1080      2\n",
       "1933 x 1080      2\n",
       "3840 x 2400      2\n",
       "1924 x 1080      2\n",
       "2880 x 1864      2\n",
       "1922 x 1080      1\n",
       "2880 x 1620      1\n",
       "Name: count, dtype: int64"
      ]
     },
     "execution_count": 16,
     "metadata": {},
     "output_type": "execute_result"
    }
   ],
   "source": [
    "df[\"Max Ekran Çözünürlüğü\"].value_counts()"
   ]
  },
  {
   "cell_type": "code",
   "execution_count": 17,
   "id": "907aab50-2768-45f6-8ffa-a4f08dfd6dfe",
   "metadata": {},
   "outputs": [
    {
     "data": {
      "text/plain": [
       "Parmak İzi Okuyucu\n",
       "Yok    692\n",
       "Var    194\n",
       "Name: count, dtype: int64"
      ]
     },
     "execution_count": 17,
     "metadata": {},
     "output_type": "execute_result"
    }
   ],
   "source": [
    "df[\"Parmak İzi Okuyucu\"].value_counts()"
   ]
  },
  {
   "cell_type": "code",
   "execution_count": 18,
   "id": "8330a704-0ddc-4761-be4b-1aff58f5b7b5",
   "metadata": {},
   "outputs": [
    {
     "data": {
      "text/plain": [
       "Ram (Sistem Belleği)\n",
       "16 GB     415\n",
       "8 GB      280\n",
       "32 GB     150\n",
       "4 GB       47\n",
       "64 GB      29\n",
       "12 GB      26\n",
       "24 GB      21\n",
       "20 GB       7\n",
       "40 GB       7\n",
       "36 GB       3\n",
       "8 GB        1\n",
       "128 GB      1\n",
       "Name: count, dtype: int64"
      ]
     },
     "execution_count": 18,
     "metadata": {},
     "output_type": "execute_result"
    }
   ],
   "source": [
    "df[\"Ram (Sistem Belleği)\"].value_counts()"
   ]
  },
  {
   "cell_type": "code",
   "execution_count": 19,
   "id": "06191c40-c837-4175-b559-93536707acda",
   "metadata": {},
   "outputs": [
    {
     "data": {
      "text/plain": [
       "SSD Kapasitesi\n",
       "512 GB    434\n",
       "1 TB      252\n",
       "256 GB    187\n",
       "2 TB       40\n",
       "500 GB     39\n",
       "0 GB       16\n",
       "128 GB     12\n",
       "120 GB      6\n",
       "4 TB        2\n",
       "250 GB      1\n",
       " 0 GB       1\n",
       "64 GB       1\n",
       "Name: count, dtype: int64"
      ]
     },
     "execution_count": 19,
     "metadata": {},
     "output_type": "execute_result"
    }
   ],
   "source": [
    "df[\"SSD Kapasitesi\"].value_counts()"
   ]
  },
  {
   "cell_type": "code",
   "execution_count": 20,
   "id": "81c4b95b-c4fd-473c-b43a-a53d0b990521",
   "metadata": {},
   "outputs": [
    {
     "data": {
      "text/plain": [
       "Fiyat\n",
       "Düşük         463\n",
       "Orta          226\n",
       "Yüksek        110\n",
       "Çok Düşük     102\n",
       "Çok Yüksek     93\n",
       "Name: count, dtype: int64"
      ]
     },
     "execution_count": 20,
     "metadata": {},
     "output_type": "execute_result"
    }
   ],
   "source": [
    "df[\"Fiyat\"].value_counts()"
   ]
  },
  {
   "cell_type": "markdown",
   "id": "d0f391a8-dc27-42c0-a533-82c988887c66",
   "metadata": {},
   "source": [
    "### Feature Engineering"
   ]
  },
  {
   "cell_type": "code",
   "execution_count": 21,
   "id": "ef61c127-3994-4db1-93bc-30ffd264e2b9",
   "metadata": {},
   "outputs": [],
   "source": [
    "def bos_doldurma(df):\n",
    "    df[\"Bellek Hızı\"]=df[\"Bellek Hızı\"].fillna(\"3200 MHz\")\n",
    "    df[\"Cihaz Ağırlığı\"]=df[\"Cihaz Ağırlığı\"].fillna(\"1 - 2 kg\")\n",
    "    df[\"Ekran Kartı Bellek Tipi\"]=df[\"Ekran Kartı Bellek Tipi\"].fillna(\"Onboard\")\n",
    "    df[\"Ekran Kartı Hafızası\"]=df[\"Ekran Kartı Hafızası\"].fillna(\"Paylaşımlı\")\n",
    "    df[\"Ekran Kartı Tipi\"]=df[\"Ekran Kartı Tipi\"].fillna(\"Dahili Ekran Kartı\")\n",
    "    df[\"İşlemci Nesli\"]=df[\"İşlemci Nesli\"].fillna(\"11.Nesil\")\n",
    "    df[\"İşlemci\"]=df[\"İşlemci\"].fillna(\"1135G7\")\n",
    "    df[\"Kart Okuyucu\"]=df[\"Kart Okuyucu\"].fillna(\"Var\")\n",
    "    df[\"Maksimum İşlemci Hızı\"]=df[\"Maksimum İşlemci Hızı\"].fillna(\"4,7 GHz\")\n",
    "    df[\"Max Ekran Çözünürlüğü\"]=df[\"Max Ekran Çözünürlüğü\"].fillna(\"1920 x 1080\")\n",
    "    df[\"Parmak İzi Okuyucu\"]=df[\"Parmak İzi Okuyucu\"].fillna(\"Yok\")\n",
    "    df[\"Ram (Sistem Belleği)\"]=df[\"Ram (Sistem Belleği)\"].fillna(\"16 GB\")\n",
    "    df[\"SSD Kapasitesi\"]=df[\"SSD Kapasitesi\"].fillna(\"512 GB\")"
   ]
  },
  {
   "cell_type": "code",
   "execution_count": 22,
   "id": "5e2886bb-4bb2-4608-940a-d1213fc1c60e",
   "metadata": {},
   "outputs": [],
   "source": [
    "def calculate_total_pixels(resolution):\n",
    "    # Eğer çözünürlük None veya NaN ise, 0 döndür\n",
    "    if pd.isna(resolution):\n",
    "        return 0\n",
    "    # \" x \" ile ayır ve sayılara dönüştür\n",
    "    width, height = map(int, resolution.split(\" x \"))\n",
    "    return width * height"
   ]
  },
  {
   "cell_type": "code",
   "execution_count": 23,
   "id": "9509b822-40c0-4fc7-8afe-b5d06d564d51",
   "metadata": {},
   "outputs": [],
   "source": [
    "def on_isleme(df):\n",
    "    from sklearn.preprocessing import LabelEncoder\n",
    "    le=LabelEncoder()\n",
    "    \n",
    "    df[\"Bellek Hızı\"]= df[\"Bellek Hızı\"].str.extract(\"(\\d+)\").astype(int)\n",
    "    \n",
    "    df[\"Cihaz Ağırlığı\"] = df[\"Cihaz Ağırlığı\"].str.replace(\"1 - 2 kg\", \"1.5\", regex=False)\n",
    "    df[\"Cihaz Ağırlığı\"] = df[\"Cihaz Ağırlığı\"].str.replace(\"2 kg ve Altı\", \"1.5\", regex=False)\n",
    "    df[\"Cihaz Ağırlığı\"] = df[\"Cihaz Ağırlığı\"].str.replace(\"2 - 4 kg\", \"2.5\", regex=False)\n",
    "    df[\"Cihaz Ağırlığı\"] = df[\"Cihaz Ağırlığı\"].str.replace(\"4 kg ve Üstü\", \"2.5\", regex=False)\n",
    "    df[\"Cihaz Ağırlığı\"] = df[\"Cihaz Ağırlığı\"].astype(float)\n",
    "\n",
    "    df[\"Ekran Boyutu\"]= df[\"Ekran Boyutu\"].str.extract(\"(\\d+)\").astype(int)\n",
    "\n",
    "    df[\"Ekran Kartı Bellek Tipi\"]= le.fit_transform(df[\"Ekran Kartı Bellek Tipi\"])\n",
    "\n",
    "    df[\"Ekran Kartı Hafızası\"]= df[\"Ekran Kartı Hafızası\"].str.replace(\"Paylaşımlı\", \"0\", regex=False)\n",
    "    df[\"Ekran Kartı Hafızası\"]= df[\"Ekran Kartı Hafızası\"].str.extract(\"(\\d+)\").astype(float)\n",
    "\n",
    "    df[\"Ekran Kartı Tipi\"]= le.fit_transform(df[\"Ekran Kartı Tipi\"])\n",
    "\n",
    "    df[\"Ekran Panel Tipi\"]= le.fit_transform(df[\"Ekran Panel Tipi\"])\n",
    "\n",
    "    df[\"İşlemci Nesli\"]= le.fit_transform(df[\"İşlemci Nesli\"])\n",
    "\n",
    "    df[\"İşlemci\"]= le.fit_transform(df[\"İşlemci\"])\n",
    "    \n",
    "    df[\"İşletim Sistemi\"]= le.fit_transform(df[\"İşletim Sistemi\"])\n",
    "    \n",
    "    df[\"Kart Okuyucu\"]= le.fit_transform(df[\"Kart Okuyucu\"])\n",
    "\n",
    "    df[\"Maksimum İşlemci Hızı\"]= df[\"Maksimum İşlemci Hızı\"].str.extract(\"(\\d+)\").astype(float)\n",
    "\n",
    "    df[\"Max Ekran Çözünürlüğü\"] = df[\"Max Ekran Çözünürlüğü\"].apply(calculate_total_pixels)\n",
    "\n",
    "    df[\"Parmak İzi Okuyucu\"]= le.fit_transform(df[\"Parmak İzi Okuyucu\"])\n",
    "\n",
    "    df[\"Ram (Sistem Belleği)\"]= df[\"Ram (Sistem Belleği)\"].str.extract(\"(\\d+)\").astype(int)\n",
    "    \n",
    "    df[\"SSD Kapasitesi\"]= df[\"SSD Kapasitesi\"].str.extract(\"(\\d+)\").astype(int)\n",
    "\n",
    "    df[\"Ürün Modeli\"]= le.fit_transform(df[\"Ürün Modeli\"])"
   ]
  },
  {
   "cell_type": "code",
   "execution_count": 24,
   "id": "469e08f2-bb27-4c21-8f27-8995cef1430b",
   "metadata": {},
   "outputs": [],
   "source": [
    "d={\"Çok Düşük\":0,\"Düşük\":1,\"Orta\":2,\"Yüksek\":3,\"Çok Yüksek\":4}\n",
    "\n",
    "df[\"Fiyat\"]=df[\"Fiyat\"].map(d)"
   ]
  },
  {
   "cell_type": "code",
   "execution_count": 25,
   "id": "8c1563b5-7711-4620-90ec-be6d2c2703dc",
   "metadata": {},
   "outputs": [],
   "source": [
    "bos_doldurma(df)"
   ]
  },
  {
   "cell_type": "code",
   "execution_count": 26,
   "id": "d0ed22e0-1065-4c09-82f6-33d4303b0dd1",
   "metadata": {},
   "outputs": [],
   "source": [
    "on_isleme(df)"
   ]
  },
  {
   "cell_type": "code",
   "execution_count": 27,
   "id": "8d75cc74-2d55-4875-a7c7-87c44975d61a",
   "metadata": {},
   "outputs": [
    {
     "data": {
      "text/html": [
       "<div>\n",
       "<style scoped>\n",
       "    .dataframe tbody tr th:only-of-type {\n",
       "        vertical-align: middle;\n",
       "    }\n",
       "\n",
       "    .dataframe tbody tr th {\n",
       "        vertical-align: top;\n",
       "    }\n",
       "\n",
       "    .dataframe thead th {\n",
       "        text-align: right;\n",
       "    }\n",
       "</style>\n",
       "<table border=\"1\" class=\"dataframe\">\n",
       "  <thead>\n",
       "    <tr style=\"text-align: right;\">\n",
       "      <th></th>\n",
       "      <th>Bellek Hızı</th>\n",
       "      <th>Cihaz Ağırlığı</th>\n",
       "      <th>Ekran Boyutu</th>\n",
       "      <th>Ekran Kartı Bellek Tipi</th>\n",
       "      <th>Ekran Kartı Hafızası</th>\n",
       "      <th>Ekran Kartı Tipi</th>\n",
       "      <th>Ekran Panel Tipi</th>\n",
       "      <th>İşlemci Nesli</th>\n",
       "      <th>İşlemci</th>\n",
       "      <th>İşletim Sistemi</th>\n",
       "      <th>Kart Okuyucu</th>\n",
       "      <th>Aydınlatma</th>\n",
       "      <th>Maksimum İşlemci Hızı</th>\n",
       "      <th>Max Ekran Çözünürlüğü</th>\n",
       "      <th>Parmak İzi Okuyucu</th>\n",
       "      <th>Ram (Sistem Belleği)</th>\n",
       "      <th>SSD Kapasitesi</th>\n",
       "      <th>Ürün Modeli</th>\n",
       "      <th>Fiyat</th>\n",
       "    </tr>\n",
       "  </thead>\n",
       "  <tbody>\n",
       "    <tr>\n",
       "      <th>0</th>\n",
       "      <td>1066</td>\n",
       "      <td>1.5</td>\n",
       "      <td>10</td>\n",
       "      <td>6</td>\n",
       "      <td>1.0</td>\n",
       "      <td>0</td>\n",
       "      <td>0</td>\n",
       "      <td>0</td>\n",
       "      <td>1</td>\n",
       "      <td>0</td>\n",
       "      <td>0</td>\n",
       "      <td>0</td>\n",
       "      <td>1.0</td>\n",
       "      <td>2073600</td>\n",
       "      <td>1</td>\n",
       "      <td>16</td>\n",
       "      <td>1</td>\n",
       "      <td>0</td>\n",
       "      <td>4</td>\n",
       "    </tr>\n",
       "    <tr>\n",
       "      <th>1</th>\n",
       "      <td>1066</td>\n",
       "      <td>1.5</td>\n",
       "      <td>10</td>\n",
       "      <td>6</td>\n",
       "      <td>1.0</td>\n",
       "      <td>0</td>\n",
       "      <td>0</td>\n",
       "      <td>0</td>\n",
       "      <td>1</td>\n",
       "      <td>0</td>\n",
       "      <td>0</td>\n",
       "      <td>0</td>\n",
       "      <td>1.0</td>\n",
       "      <td>2073600</td>\n",
       "      <td>1</td>\n",
       "      <td>16</td>\n",
       "      <td>1</td>\n",
       "      <td>0</td>\n",
       "      <td>4</td>\n",
       "    </tr>\n",
       "    <tr>\n",
       "      <th>2</th>\n",
       "      <td>1066</td>\n",
       "      <td>1.5</td>\n",
       "      <td>10</td>\n",
       "      <td>6</td>\n",
       "      <td>1.0</td>\n",
       "      <td>0</td>\n",
       "      <td>0</td>\n",
       "      <td>0</td>\n",
       "      <td>1</td>\n",
       "      <td>0</td>\n",
       "      <td>0</td>\n",
       "      <td>0</td>\n",
       "      <td>1.0</td>\n",
       "      <td>2073600</td>\n",
       "      <td>1</td>\n",
       "      <td>16</td>\n",
       "      <td>1</td>\n",
       "      <td>0</td>\n",
       "      <td>2</td>\n",
       "    </tr>\n",
       "  </tbody>\n",
       "</table>\n",
       "</div>"
      ],
      "text/plain": [
       "   Bellek Hızı  Cihaz Ağırlığı  Ekran Boyutu  Ekran Kartı Bellek Tipi  \\\n",
       "0         1066             1.5            10                        6   \n",
       "1         1066             1.5            10                        6   \n",
       "2         1066             1.5            10                        6   \n",
       "\n",
       "   Ekran Kartı Hafızası  Ekran Kartı Tipi  Ekran Panel Tipi  İşlemci Nesli  \\\n",
       "0                   1.0                 0                 0              0   \n",
       "1                   1.0                 0                 0              0   \n",
       "2                   1.0                 0                 0              0   \n",
       "\n",
       "   İşlemci  İşletim Sistemi  Kart Okuyucu  Aydınlatma  Maksimum İşlemci Hızı  \\\n",
       "0        1                0             0           0                    1.0   \n",
       "1        1                0             0           0                    1.0   \n",
       "2        1                0             0           0                    1.0   \n",
       "\n",
       "   Max Ekran Çözünürlüğü  Parmak İzi Okuyucu  Ram (Sistem Belleği)  \\\n",
       "0                2073600                   1                    16   \n",
       "1                2073600                   1                    16   \n",
       "2                2073600                   1                    16   \n",
       "\n",
       "   SSD Kapasitesi  Ürün Modeli  Fiyat  \n",
       "0               1            0      4  \n",
       "1               1            0      4  \n",
       "2               1            0      2  "
      ]
     },
     "execution_count": 27,
     "metadata": {},
     "output_type": "execute_result"
    }
   ],
   "source": [
    "df.head(3)"
   ]
  },
  {
   "cell_type": "code",
   "execution_count": 28,
   "id": "b44b4b2d-b2db-40f2-95b3-7b5b77dbf5e4",
   "metadata": {},
   "outputs": [],
   "source": [
    "x=df.drop(\"Fiyat\",axis=1)\n",
    "y=df[\"Fiyat\"]"
   ]
  },
  {
   "cell_type": "code",
   "execution_count": 29,
   "id": "a7e43e8b-b5ce-4cf5-b50a-75a9055da95f",
   "metadata": {},
   "outputs": [
    {
     "data": {
      "text/html": [
       "<div>\n",
       "<style scoped>\n",
       "    .dataframe tbody tr th:only-of-type {\n",
       "        vertical-align: middle;\n",
       "    }\n",
       "\n",
       "    .dataframe tbody tr th {\n",
       "        vertical-align: top;\n",
       "    }\n",
       "\n",
       "    .dataframe thead th {\n",
       "        text-align: right;\n",
       "    }\n",
       "</style>\n",
       "<table border=\"1\" class=\"dataframe\">\n",
       "  <thead>\n",
       "    <tr style=\"text-align: right;\">\n",
       "      <th></th>\n",
       "      <th>Bellek Hızı</th>\n",
       "      <th>Cihaz Ağırlığı</th>\n",
       "      <th>Ekran Boyutu</th>\n",
       "      <th>Ekran Kartı Bellek Tipi</th>\n",
       "      <th>Ekran Kartı Hafızası</th>\n",
       "      <th>Ekran Kartı Tipi</th>\n",
       "      <th>Ekran Panel Tipi</th>\n",
       "      <th>İşlemci Nesli</th>\n",
       "      <th>İşlemci</th>\n",
       "      <th>İşletim Sistemi</th>\n",
       "      <th>Kart Okuyucu</th>\n",
       "      <th>Aydınlatma</th>\n",
       "      <th>Maksimum İşlemci Hızı</th>\n",
       "      <th>Max Ekran Çözünürlüğü</th>\n",
       "      <th>Parmak İzi Okuyucu</th>\n",
       "      <th>Ram (Sistem Belleği)</th>\n",
       "      <th>SSD Kapasitesi</th>\n",
       "      <th>Ürün Modeli</th>\n",
       "    </tr>\n",
       "  </thead>\n",
       "  <tbody>\n",
       "    <tr>\n",
       "      <th>0</th>\n",
       "      <td>1066</td>\n",
       "      <td>1.5</td>\n",
       "      <td>10</td>\n",
       "      <td>6</td>\n",
       "      <td>1.0</td>\n",
       "      <td>0</td>\n",
       "      <td>0</td>\n",
       "      <td>0</td>\n",
       "      <td>1</td>\n",
       "      <td>0</td>\n",
       "      <td>0</td>\n",
       "      <td>0</td>\n",
       "      <td>1.0</td>\n",
       "      <td>2073600</td>\n",
       "      <td>1</td>\n",
       "      <td>16</td>\n",
       "      <td>1</td>\n",
       "      <td>0</td>\n",
       "    </tr>\n",
       "    <tr>\n",
       "      <th>1</th>\n",
       "      <td>1066</td>\n",
       "      <td>1.5</td>\n",
       "      <td>10</td>\n",
       "      <td>6</td>\n",
       "      <td>1.0</td>\n",
       "      <td>0</td>\n",
       "      <td>0</td>\n",
       "      <td>0</td>\n",
       "      <td>1</td>\n",
       "      <td>0</td>\n",
       "      <td>0</td>\n",
       "      <td>0</td>\n",
       "      <td>1.0</td>\n",
       "      <td>2073600</td>\n",
       "      <td>1</td>\n",
       "      <td>16</td>\n",
       "      <td>1</td>\n",
       "      <td>0</td>\n",
       "    </tr>\n",
       "    <tr>\n",
       "      <th>2</th>\n",
       "      <td>1066</td>\n",
       "      <td>1.5</td>\n",
       "      <td>10</td>\n",
       "      <td>6</td>\n",
       "      <td>1.0</td>\n",
       "      <td>0</td>\n",
       "      <td>0</td>\n",
       "      <td>0</td>\n",
       "      <td>1</td>\n",
       "      <td>0</td>\n",
       "      <td>0</td>\n",
       "      <td>0</td>\n",
       "      <td>1.0</td>\n",
       "      <td>2073600</td>\n",
       "      <td>1</td>\n",
       "      <td>16</td>\n",
       "      <td>1</td>\n",
       "      <td>0</td>\n",
       "    </tr>\n",
       "    <tr>\n",
       "      <th>3</th>\n",
       "      <td>3200</td>\n",
       "      <td>1.5</td>\n",
       "      <td>15</td>\n",
       "      <td>2</td>\n",
       "      <td>2.0</td>\n",
       "      <td>1</td>\n",
       "      <td>1</td>\n",
       "      <td>1</td>\n",
       "      <td>7</td>\n",
       "      <td>3</td>\n",
       "      <td>0</td>\n",
       "      <td>0</td>\n",
       "      <td>3.0</td>\n",
       "      <td>2073600</td>\n",
       "      <td>1</td>\n",
       "      <td>8</td>\n",
       "      <td>512</td>\n",
       "      <td>0</td>\n",
       "    </tr>\n",
       "    <tr>\n",
       "      <th>4</th>\n",
       "      <td>3200</td>\n",
       "      <td>1.5</td>\n",
       "      <td>15</td>\n",
       "      <td>3</td>\n",
       "      <td>2.0</td>\n",
       "      <td>1</td>\n",
       "      <td>1</td>\n",
       "      <td>1</td>\n",
       "      <td>7</td>\n",
       "      <td>3</td>\n",
       "      <td>1</td>\n",
       "      <td>0</td>\n",
       "      <td>3.0</td>\n",
       "      <td>2073600</td>\n",
       "      <td>1</td>\n",
       "      <td>12</td>\n",
       "      <td>1</td>\n",
       "      <td>0</td>\n",
       "    </tr>\n",
       "    <tr>\n",
       "      <th>...</th>\n",
       "      <td>...</td>\n",
       "      <td>...</td>\n",
       "      <td>...</td>\n",
       "      <td>...</td>\n",
       "      <td>...</td>\n",
       "      <td>...</td>\n",
       "      <td>...</td>\n",
       "      <td>...</td>\n",
       "      <td>...</td>\n",
       "      <td>...</td>\n",
       "      <td>...</td>\n",
       "      <td>...</td>\n",
       "      <td>...</td>\n",
       "      <td>...</td>\n",
       "      <td>...</td>\n",
       "      <td>...</td>\n",
       "      <td>...</td>\n",
       "      <td>...</td>\n",
       "    </tr>\n",
       "    <tr>\n",
       "      <th>989</th>\n",
       "      <td>3200</td>\n",
       "      <td>1.5</td>\n",
       "      <td>15</td>\n",
       "      <td>6</td>\n",
       "      <td>0.0</td>\n",
       "      <td>0</td>\n",
       "      <td>8</td>\n",
       "      <td>3</td>\n",
       "      <td>81</td>\n",
       "      <td>7</td>\n",
       "      <td>1</td>\n",
       "      <td>0</td>\n",
       "      <td>2.0</td>\n",
       "      <td>1049088</td>\n",
       "      <td>1</td>\n",
       "      <td>16</td>\n",
       "      <td>1</td>\n",
       "      <td>0</td>\n",
       "    </tr>\n",
       "    <tr>\n",
       "      <th>990</th>\n",
       "      <td>3200</td>\n",
       "      <td>1.5</td>\n",
       "      <td>15</td>\n",
       "      <td>6</td>\n",
       "      <td>0.0</td>\n",
       "      <td>0</td>\n",
       "      <td>8</td>\n",
       "      <td>3</td>\n",
       "      <td>81</td>\n",
       "      <td>7</td>\n",
       "      <td>1</td>\n",
       "      <td>0</td>\n",
       "      <td>2.0</td>\n",
       "      <td>1049088</td>\n",
       "      <td>1</td>\n",
       "      <td>16</td>\n",
       "      <td>256</td>\n",
       "      <td>0</td>\n",
       "    </tr>\n",
       "    <tr>\n",
       "      <th>991</th>\n",
       "      <td>3200</td>\n",
       "      <td>1.5</td>\n",
       "      <td>15</td>\n",
       "      <td>6</td>\n",
       "      <td>0.0</td>\n",
       "      <td>0</td>\n",
       "      <td>8</td>\n",
       "      <td>3</td>\n",
       "      <td>81</td>\n",
       "      <td>7</td>\n",
       "      <td>1</td>\n",
       "      <td>0</td>\n",
       "      <td>2.0</td>\n",
       "      <td>1049088</td>\n",
       "      <td>1</td>\n",
       "      <td>16</td>\n",
       "      <td>256</td>\n",
       "      <td>0</td>\n",
       "    </tr>\n",
       "    <tr>\n",
       "      <th>992</th>\n",
       "      <td>3200</td>\n",
       "      <td>1.5</td>\n",
       "      <td>15</td>\n",
       "      <td>6</td>\n",
       "      <td>0.0</td>\n",
       "      <td>0</td>\n",
       "      <td>8</td>\n",
       "      <td>3</td>\n",
       "      <td>81</td>\n",
       "      <td>7</td>\n",
       "      <td>1</td>\n",
       "      <td>0</td>\n",
       "      <td>2.0</td>\n",
       "      <td>1049088</td>\n",
       "      <td>1</td>\n",
       "      <td>16</td>\n",
       "      <td>1</td>\n",
       "      <td>0</td>\n",
       "    </tr>\n",
       "    <tr>\n",
       "      <th>993</th>\n",
       "      <td>3200</td>\n",
       "      <td>1.5</td>\n",
       "      <td>15</td>\n",
       "      <td>6</td>\n",
       "      <td>0.0</td>\n",
       "      <td>0</td>\n",
       "      <td>8</td>\n",
       "      <td>3</td>\n",
       "      <td>81</td>\n",
       "      <td>7</td>\n",
       "      <td>1</td>\n",
       "      <td>0</td>\n",
       "      <td>2.0</td>\n",
       "      <td>1049088</td>\n",
       "      <td>1</td>\n",
       "      <td>16</td>\n",
       "      <td>256</td>\n",
       "      <td>0</td>\n",
       "    </tr>\n",
       "  </tbody>\n",
       "</table>\n",
       "<p>994 rows × 18 columns</p>\n",
       "</div>"
      ],
      "text/plain": [
       "     Bellek Hızı  Cihaz Ağırlığı  Ekran Boyutu  Ekran Kartı Bellek Tipi  \\\n",
       "0           1066             1.5            10                        6   \n",
       "1           1066             1.5            10                        6   \n",
       "2           1066             1.5            10                        6   \n",
       "3           3200             1.5            15                        2   \n",
       "4           3200             1.5            15                        3   \n",
       "..           ...             ...           ...                      ...   \n",
       "989         3200             1.5            15                        6   \n",
       "990         3200             1.5            15                        6   \n",
       "991         3200             1.5            15                        6   \n",
       "992         3200             1.5            15                        6   \n",
       "993         3200             1.5            15                        6   \n",
       "\n",
       "     Ekran Kartı Hafızası  Ekran Kartı Tipi  Ekran Panel Tipi  İşlemci Nesli  \\\n",
       "0                     1.0                 0                 0              0   \n",
       "1                     1.0                 0                 0              0   \n",
       "2                     1.0                 0                 0              0   \n",
       "3                     2.0                 1                 1              1   \n",
       "4                     2.0                 1                 1              1   \n",
       "..                    ...               ...               ...            ...   \n",
       "989                   0.0                 0                 8              3   \n",
       "990                   0.0                 0                 8              3   \n",
       "991                   0.0                 0                 8              3   \n",
       "992                   0.0                 0                 8              3   \n",
       "993                   0.0                 0                 8              3   \n",
       "\n",
       "     İşlemci  İşletim Sistemi  Kart Okuyucu  Aydınlatma  \\\n",
       "0          1                0             0           0   \n",
       "1          1                0             0           0   \n",
       "2          1                0             0           0   \n",
       "3          7                3             0           0   \n",
       "4          7                3             1           0   \n",
       "..       ...              ...           ...         ...   \n",
       "989       81                7             1           0   \n",
       "990       81                7             1           0   \n",
       "991       81                7             1           0   \n",
       "992       81                7             1           0   \n",
       "993       81                7             1           0   \n",
       "\n",
       "     Maksimum İşlemci Hızı  Max Ekran Çözünürlüğü  Parmak İzi Okuyucu  \\\n",
       "0                      1.0                2073600                   1   \n",
       "1                      1.0                2073600                   1   \n",
       "2                      1.0                2073600                   1   \n",
       "3                      3.0                2073600                   1   \n",
       "4                      3.0                2073600                   1   \n",
       "..                     ...                    ...                 ...   \n",
       "989                    2.0                1049088                   1   \n",
       "990                    2.0                1049088                   1   \n",
       "991                    2.0                1049088                   1   \n",
       "992                    2.0                1049088                   1   \n",
       "993                    2.0                1049088                   1   \n",
       "\n",
       "     Ram (Sistem Belleği)  SSD Kapasitesi  Ürün Modeli  \n",
       "0                      16               1            0  \n",
       "1                      16               1            0  \n",
       "2                      16               1            0  \n",
       "3                       8             512            0  \n",
       "4                      12               1            0  \n",
       "..                    ...             ...          ...  \n",
       "989                    16               1            0  \n",
       "990                    16             256            0  \n",
       "991                    16             256            0  \n",
       "992                    16               1            0  \n",
       "993                    16             256            0  \n",
       "\n",
       "[994 rows x 18 columns]"
      ]
     },
     "execution_count": 29,
     "metadata": {},
     "output_type": "execute_result"
    }
   ],
   "source": [
    "x"
   ]
  },
  {
   "cell_type": "markdown",
   "id": "8e3c9dfd-ec4e-422c-9757-8d939e5faffa",
   "metadata": {},
   "source": [
    "### Modelling"
   ]
  },
  {
   "cell_type": "code",
   "execution_count": 30,
   "id": "895cdfb4-a8c1-4e44-85bc-4a6e6907fb36",
   "metadata": {},
   "outputs": [],
   "source": [
    "import pandas as pd\n",
    "import numpy as np\n",
    "from sklearn.linear_model import LogisticRegression\n",
    "from sklearn.svm import SVC\n",
    "from sklearn.neighbors import KNeighborsClassifier\n",
    "from sklearn.tree import DecisionTreeClassifier\n",
    "from sklearn.ensemble import RandomForestClassifier, GradientBoostingClassifier\n",
    "from xgboost import XGBClassifier\n",
    "from sklearn.neural_network import MLPClassifier\n",
    "from sklearn.model_selection import train_test_split\n",
    "from sklearn.metrics import accuracy_score, precision_score, recall_score, f1_score\n",
    "\n",
    "def algo_test_classification(X, y):\n",
    "    # Tüm sınıflandırma modellerini tanımlıyorum\n",
    "    lr = LogisticRegression(max_iter=1000)\n",
    "    svc = SVC()\n",
    "    knn = KNeighborsClassifier()\n",
    "    dt = DecisionTreeClassifier()\n",
    "    rf = RandomForestClassifier()\n",
    "    gb = GradientBoostingClassifier()\n",
    "    xgb = XGBClassifier(use_label_encoder=False, eval_metric='logloss')\n",
    "    mlp = MLPClassifier(max_iter=1000)\n",
    "\n",
    "    algos = [lr, svc, knn, dt, rf, gb, xgb, mlp]\n",
    "    algo_names = ['Logistic Regression', 'SVC', 'KNN', 'Decision Tree', 'Random Forest', 'Gradient Boosting', 'XGBoost', 'MLP']\n",
    "\n",
    "    X_train, X_test, y_train, y_test = train_test_split(X, y, test_size=0.2, random_state=42)\n",
    "\n",
    "    accuracy = []\n",
    "    precision = []\n",
    "    recall = []\n",
    "    f1 = []\n",
    "\n",
    "    # Sonuç tablosunu oluşturuyorum\n",
    "    result = pd.DataFrame(columns=['Accuracy', 'Precision', 'Recall', 'F1'], index=algo_names)\n",
    "\n",
    "    for algo in algos:\n",
    "        algo.fit(X_train, y_train)\n",
    "        y_pred = algo.predict(X_test)\n",
    "        accuracy.append(accuracy_score(y_test, y_pred))\n",
    "        \n",
    "        # average parametresini buraya ekliyorum\n",
    "        precision.append(precision_score(y_test, y_pred, average='macro'))  # veya 'weighted'\n",
    "        recall.append(recall_score(y_test, y_pred, average='macro'))  # veya 'weighted'\n",
    "        f1.append(f1_score(y_test, y_pred, average='macro'))  # veya 'weighted'\n",
    "\n",
    "    # Sonuçları result tablosuna ekliyorum\n",
    "    # Sonuçları result tablosuna ekliyorum\n",
    "    result['Accuracy'] = accuracy\n",
    "    result['Precision'] = precision\n",
    "    result['Recall'] = recall\n",
    "    result['F1'] = f1\n",
    "        \n",
    "    return result.sort_values('Accuracy', ascending=False)"
   ]
  },
  {
   "cell_type": "code",
   "execution_count": 31,
   "id": "af77690b-3db8-42d7-8bc8-83528bf6cd33",
   "metadata": {},
   "outputs": [
    {
     "data": {
      "text/html": [
       "<div>\n",
       "<style scoped>\n",
       "    .dataframe tbody tr th:only-of-type {\n",
       "        vertical-align: middle;\n",
       "    }\n",
       "\n",
       "    .dataframe tbody tr th {\n",
       "        vertical-align: top;\n",
       "    }\n",
       "\n",
       "    .dataframe thead th {\n",
       "        text-align: right;\n",
       "    }\n",
       "</style>\n",
       "<table border=\"1\" class=\"dataframe\">\n",
       "  <thead>\n",
       "    <tr style=\"text-align: right;\">\n",
       "      <th></th>\n",
       "      <th>Accuracy</th>\n",
       "      <th>Precision</th>\n",
       "      <th>Recall</th>\n",
       "      <th>F1</th>\n",
       "    </tr>\n",
       "  </thead>\n",
       "  <tbody>\n",
       "    <tr>\n",
       "      <th>XGBoost</th>\n",
       "      <td>0.834171</td>\n",
       "      <td>0.847108</td>\n",
       "      <td>0.819404</td>\n",
       "      <td>0.830605</td>\n",
       "    </tr>\n",
       "    <tr>\n",
       "      <th>Gradient Boosting</th>\n",
       "      <td>0.819095</td>\n",
       "      <td>0.822167</td>\n",
       "      <td>0.803801</td>\n",
       "      <td>0.807643</td>\n",
       "    </tr>\n",
       "    <tr>\n",
       "      <th>Random Forest</th>\n",
       "      <td>0.809045</td>\n",
       "      <td>0.832216</td>\n",
       "      <td>0.790204</td>\n",
       "      <td>0.801873</td>\n",
       "    </tr>\n",
       "    <tr>\n",
       "      <th>Decision Tree</th>\n",
       "      <td>0.773869</td>\n",
       "      <td>0.762371</td>\n",
       "      <td>0.785818</td>\n",
       "      <td>0.760885</td>\n",
       "    </tr>\n",
       "    <tr>\n",
       "      <th>KNN</th>\n",
       "      <td>0.638191</td>\n",
       "      <td>0.647944</td>\n",
       "      <td>0.600450</td>\n",
       "      <td>0.597229</td>\n",
       "    </tr>\n",
       "    <tr>\n",
       "      <th>SVC</th>\n",
       "      <td>0.532663</td>\n",
       "      <td>0.400000</td>\n",
       "      <td>0.428788</td>\n",
       "      <td>0.390641</td>\n",
       "    </tr>\n",
       "    <tr>\n",
       "      <th>Logistic Regression</th>\n",
       "      <td>0.482412</td>\n",
       "      <td>0.331172</td>\n",
       "      <td>0.318788</td>\n",
       "      <td>0.279111</td>\n",
       "    </tr>\n",
       "    <tr>\n",
       "      <th>MLP</th>\n",
       "      <td>0.442211</td>\n",
       "      <td>0.088442</td>\n",
       "      <td>0.200000</td>\n",
       "      <td>0.122648</td>\n",
       "    </tr>\n",
       "  </tbody>\n",
       "</table>\n",
       "</div>"
      ],
      "text/plain": [
       "                     Accuracy  Precision    Recall        F1\n",
       "XGBoost              0.834171   0.847108  0.819404  0.830605\n",
       "Gradient Boosting    0.819095   0.822167  0.803801  0.807643\n",
       "Random Forest        0.809045   0.832216  0.790204  0.801873\n",
       "Decision Tree        0.773869   0.762371  0.785818  0.760885\n",
       "KNN                  0.638191   0.647944  0.600450  0.597229\n",
       "SVC                  0.532663   0.400000  0.428788  0.390641\n",
       "Logistic Regression  0.482412   0.331172  0.318788  0.279111\n",
       "MLP                  0.442211   0.088442  0.200000  0.122648"
      ]
     },
     "execution_count": 31,
     "metadata": {},
     "output_type": "execute_result"
    }
   ],
   "source": [
    "algo_test_classification(x,y)"
   ]
  },
  {
   "cell_type": "code",
   "execution_count": 47,
   "id": "c5d66ab3-4fbc-48f5-bdf3-53bca3302f6a",
   "metadata": {},
   "outputs": [],
   "source": [
    "from xgboost import XGBClassifier\n",
    "from sklearn.metrics import accuracy_score, precision_score, recall_score, f1_score\n",
    "from sklearn.metrics import  confusion_matrix, classification_report\n",
    "\n",
    "xgb = XGBClassifier(use_label_encoder=False, eval_metric='logloss')"
   ]
  },
  {
   "cell_type": "code",
   "execution_count": 33,
   "id": "c493ea75-0767-44f5-82c6-454b544bada9",
   "metadata": {},
   "outputs": [],
   "source": [
    "mod=xgb.fit(x,y)"
   ]
  },
  {
   "cell_type": "code",
   "execution_count": 50,
   "id": "19f4aa75-618f-4e4d-bdde-7d2cb6a85331",
   "metadata": {},
   "outputs": [],
   "source": [
    "# Modelimizi Kaydediyoruz"
   ]
  },
  {
   "cell_type": "code",
   "execution_count": 34,
   "id": "c37b7dce-7c84-4b1d-8f44-7e9aa1e0eb97",
   "metadata": {},
   "outputs": [],
   "source": [
    "import pickle"
   ]
  },
  {
   "cell_type": "code",
   "execution_count": 35,
   "id": "9aadf111-8104-40b7-b493-b1a2734e2b86",
   "metadata": {},
   "outputs": [],
   "source": [
    "with open('laptop.pkl', 'wb') as file:\n",
    "    pickle.dump(xgb, file)"
   ]
  },
  {
   "cell_type": "code",
   "execution_count": 51,
   "id": "5d4a9d7e-9d01-45a8-b24e-ae7621cb9763",
   "metadata": {},
   "outputs": [],
   "source": [
    "# Kaydettiğimiz modeli okuduk"
   ]
  },
  {
   "cell_type": "code",
   "execution_count": 36,
   "id": "4148c385-f725-45df-9753-733a5640894b",
   "metadata": {},
   "outputs": [],
   "source": [
    "model=pickle.load(open(\"laptop.pkl\",\"rb\"))"
   ]
  },
  {
   "cell_type": "code",
   "execution_count": 52,
   "id": "057490c5-e009-41b0-a016-7a5304040358",
   "metadata": {},
   "outputs": [],
   "source": [
    "# Test verisini yükleyip tahmin ettirdik"
   ]
  },
  {
   "cell_type": "code",
   "execution_count": 37,
   "id": "297cc82b-0d3e-45d5-bdcd-6130f65a48f3",
   "metadata": {},
   "outputs": [],
   "source": [
    "test=pd.read_excel(\"test.xlsx\")"
   ]
  },
  {
   "cell_type": "code",
   "execution_count": 38,
   "id": "8c1999ac-4084-4eef-acf7-3324a5634703",
   "metadata": {
    "scrolled": true
   },
   "outputs": [
    {
     "data": {
      "text/plain": [
       "Bellek Hızı                0\n",
       "Cihaz Ağırlığı             0\n",
       "Ekran Boyutu               0\n",
       "Ekran Kartı Bellek Tipi    0\n",
       "Ekran Kartı Hafızası       0\n",
       "Ekran Kartı Tipi           0\n",
       "Ekran Panel Tipi           0\n",
       "İşlemci Nesli              0\n",
       "İşlemci                    0\n",
       "İşletim Sistemi            0\n",
       "Kart Okuyucu               0\n",
       "Aydınlatma                 0\n",
       "Maksimum İşlemci Hızı      0\n",
       "Max Ekran Çözünürlüğü      0\n",
       "Parmak İzi Okuyucu         0\n",
       "Ram (Sistem Belleği)       0\n",
       "SSD Kapasitesi             0\n",
       "Ürün Modeli                0\n",
       "Fiyat                      0\n",
       "dtype: int64"
      ]
     },
     "execution_count": 38,
     "metadata": {},
     "output_type": "execute_result"
    }
   ],
   "source": [
    "test.isnull().sum()"
   ]
  },
  {
   "cell_type": "code",
   "execution_count": 39,
   "id": "3f95bd78-a526-4bdc-ac31-8eb7d29f5984",
   "metadata": {},
   "outputs": [],
   "source": [
    "on_isleme(test)"
   ]
  },
  {
   "cell_type": "code",
   "execution_count": 40,
   "id": "2c1c0cac-4cde-4c0d-8368-4e1d7caa9afe",
   "metadata": {},
   "outputs": [],
   "source": [
    "test[\"Fiyat\"]=test[\"Fiyat\"].map(d)"
   ]
  },
  {
   "cell_type": "code",
   "execution_count": 41,
   "id": "d481a7e0-c437-4c14-8e23-328cedcb60eb",
   "metadata": {},
   "outputs": [],
   "source": [
    "test_y=test[\"Fiyat\"]"
   ]
  },
  {
   "cell_type": "code",
   "execution_count": 42,
   "id": "7ff41aeb-06cc-4d1a-b95b-ac1560fe5936",
   "metadata": {},
   "outputs": [],
   "source": [
    "test=test.drop(\"Fiyat\",axis=1)"
   ]
  },
  {
   "cell_type": "code",
   "execution_count": 43,
   "id": "f875d06d-ea2a-48b2-a95f-8779e5dbb1a9",
   "metadata": {},
   "outputs": [],
   "source": [
    "tahmin=model.predict(test)"
   ]
  },
  {
   "cell_type": "code",
   "execution_count": 45,
   "id": "6db0e089-891f-4da4-9beb-0bcf42901119",
   "metadata": {},
   "outputs": [
    {
     "data": {
      "text/plain": [
       "0.6746987951807228"
      ]
     },
     "execution_count": 45,
     "metadata": {},
     "output_type": "execute_result"
    }
   ],
   "source": [
    "accuracy_score(tahmin,test_y)"
   ]
  },
  {
   "cell_type": "code",
   "execution_count": 48,
   "id": "49e3e676-fd6b-4265-84a2-4774dd748704",
   "metadata": {},
   "outputs": [
    {
     "data": {
      "text/plain": [
       "<Axes: >"
      ]
     },
     "execution_count": 48,
     "metadata": {},
     "output_type": "execute_result"
    },
    {
     "data": {
      "image/png": "[encoded data removed]",
      "text/plain": [
       "<Figure size 640x480 with 2 Axes>"
      ]
     },
     "metadata": {},
     "output_type": "display_data"
    }
   ],
   "source": [
    "sns.heatmap(confusion_matrix(tahmin,test_y),annot=True)"
   ]
  },
  {
   "cell_type": "code",
   "execution_count": 49,
   "id": "6b4859df-fd26-45c0-8a05-57af0a8b952e",
   "metadata": {},
   "outputs": [
    {
     "name": "stdout",
     "output_type": "stream",
     "text": [
      "              precision    recall  f1-score   support\n",
      "\n",
      "           0       0.83      0.58      0.68        33\n",
      "           1       0.77      0.77      0.77       115\n",
      "           2       0.55      0.54      0.55        59\n",
      "           3       0.50      0.52      0.51        27\n",
      "           4       0.58      0.93      0.72        15\n",
      "\n",
      "    accuracy                           0.67       249\n",
      "   macro avg       0.65      0.67      0.64       249\n",
      "weighted avg       0.68      0.67      0.67       249\n",
      "\n"
     ]
    }
   ],
   "source": [
    "print(classification_report(tahmin,test_y))"
   ]
  },
  {
   "cell_type": "markdown",
   "id": "7d4f04f8-d742-4f1f-9f44-509fef4ad8e3",
   "metadata": {},
   "source": [
    "Bu projemizde Laptop fiyatlarını sınıflandıran bir model olusturup bunu test.xlsx verimizle test ettik."
   ]
  }
 ],
 "metadata": {
  "kernelspec": {
   "display_name": "Python 3 (ipykernel)",
   "language": "python",
   "name": "python3"
  },
  "language_info": {
   "codemirror_mode": {
    "name": "ipython",
    "version": 3
   },
   "file_extension": ".py",
   "mimetype": "text/x-python",
   "name": "python",
   "nbconvert_exporter": "python",
   "pygments_lexer": "ipython3",
   "version": "3.12.3"
  }
 },
 "nbformat": 4,
 "nbformat_minor": 5
}
