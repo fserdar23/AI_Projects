{
 "cells": [
  {
   "cell_type": "markdown",
   "id": "9efc7b69-2797-41ca-99eb-9e3d852af6b3",
   "metadata": {},
   "source": [
    "# Sıtma Verilerinde CNN ile Görüntü Sınıflandırması"
   ]
  },
  {
   "cell_type": "markdown",
   "id": "7365768d-b1bd-4650-b2b1-5dd4dd11c5b3",
   "metadata": {},
   "source": [
    "Sıtma içeren veya içermeyen Görüntü Hücrelerini tespit edip konuşlandırarak insanları kurtarın!\n",
    "\n"
   ]
  },
  {
   "cell_type": "markdown",
   "id": "22bd86c4-81be-496b-bb24-8d2d4db2558a",
   "metadata": {},
   "source": [
    "<a href=\"https://www.kaggle.com/datasets/iarunava/cell-images-for-detecting-malaria\">Dataya Buradan erişebilirsiniz</a>"
   ]
  },
  {
   "cell_type": "markdown",
   "id": "c7472c9f-ee83-4d7b-bc80-101caea12160",
   "metadata": {},
   "source": [
    "### Eski Usül Çözüm"
   ]
  },
  {
   "cell_type": "code",
   "execution_count": 41,
   "id": "616b2e64-0e68-4440-8ef3-72c0930746ac",
   "metadata": {},
   "outputs": [],
   "source": [
    "import os\n",
    "import numpy as np\n",
    "from PIL import Image\n",
    "import pandas as pd\n",
    "import cv2\n",
    "\n",
    "import tensorflow as tf\n",
    "\n",
    "import matplotlib.pyplot as plt\n",
    "\n",
    "from sklearn.model_selection import train_test_split\n",
    "\n",
    "from keras.models import Sequential\n",
    "from keras.layers import Conv2D,Dense,Flatten, Input, MaxPooling2D, Dropout, BatchNormalization, Reshape"
   ]
  },
  {
   "cell_type": "code",
   "execution_count": 42,
   "id": "a1502a1d-963f-4fa6-aa5d-71d32091c3de",
   "metadata": {},
   "outputs": [],
   "source": [
    "img_path=\"cell_images/\"\n",
    "labels=['Parasitized', 'Uninfected']"
   ]
  },
  {
   "cell_type": "code",
   "execution_count": 43,
   "id": "55e35d5e-ce86-4940-bcdf-c17d16a590af",
   "metadata": {},
   "outputs": [],
   "source": [
    "#Dosyadan Resim okuma\n",
    "img_list=[]\n",
    "label_list=[]\n",
    "for label in labels:\n",
    "    for img_file in os.listdir(img_path+label):          #Klasörün içindeki alt klasörleri söyler\n",
    "        img_list.append(img_path+label+'/'+img_file)     # apppend dizinin sonuna eklme yapıyor\n",
    "        label_list.append(label)\n",
    "        "
   ]
  },
  {
   "cell_type": "code",
   "execution_count": 44,
   "id": "f760a19c-1278-420f-bd16-fca1d6ab4a00",
   "metadata": {},
   "outputs": [],
   "source": [
    "df=pd.DataFrame({\"img\":img_list,\"label\":label_list})"
   ]
  },
  {
   "cell_type": "code",
   "execution_count": 45,
   "id": "1f68ae35-6d27-4a65-a6f7-7b7fcd9c16a5",
   "metadata": {},
   "outputs": [
    {
     "data": {
      "text/html": [
       "<div>\n",
       "<style scoped>\n",
       "    .dataframe tbody tr th:only-of-type {\n",
       "        vertical-align: middle;\n",
       "    }\n",
       "\n",
       "    .dataframe tbody tr th {\n",
       "        vertical-align: top;\n",
       "    }\n",
       "\n",
       "    .dataframe thead th {\n",
       "        text-align: right;\n",
       "    }\n",
       "</style>\n",
       "<table border=\"1\" class=\"dataframe\">\n",
       "  <thead>\n",
       "    <tr style=\"text-align: right;\">\n",
       "      <th></th>\n",
       "      <th>img</th>\n",
       "      <th>label</th>\n",
       "    </tr>\n",
       "  </thead>\n",
       "  <tbody>\n",
       "    <tr>\n",
       "      <th>0</th>\n",
       "      <td>cell_images/Parasitized/C100P61ThinF_IMG_20150...</td>\n",
       "      <td>Parasitized</td>\n",
       "    </tr>\n",
       "    <tr>\n",
       "      <th>1</th>\n",
       "      <td>cell_images/Parasitized/C100P61ThinF_IMG_20150...</td>\n",
       "      <td>Parasitized</td>\n",
       "    </tr>\n",
       "    <tr>\n",
       "      <th>2</th>\n",
       "      <td>cell_images/Parasitized/C100P61ThinF_IMG_20150...</td>\n",
       "      <td>Parasitized</td>\n",
       "    </tr>\n",
       "    <tr>\n",
       "      <th>3</th>\n",
       "      <td>cell_images/Parasitized/C100P61ThinF_IMG_20150...</td>\n",
       "      <td>Parasitized</td>\n",
       "    </tr>\n",
       "    <tr>\n",
       "      <th>4</th>\n",
       "      <td>cell_images/Parasitized/C100P61ThinF_IMG_20150...</td>\n",
       "      <td>Parasitized</td>\n",
       "    </tr>\n",
       "  </tbody>\n",
       "</table>\n",
       "</div>"
      ],
      "text/plain": [
       "                                                 img        label\n",
       "0  cell_images/Parasitized/C100P61ThinF_IMG_20150...  Parasitized\n",
       "1  cell_images/Parasitized/C100P61ThinF_IMG_20150...  Parasitized\n",
       "2  cell_images/Parasitized/C100P61ThinF_IMG_20150...  Parasitized\n",
       "3  cell_images/Parasitized/C100P61ThinF_IMG_20150...  Parasitized\n",
       "4  cell_images/Parasitized/C100P61ThinF_IMG_20150...  Parasitized"
      ]
     },
     "execution_count": 45,
     "metadata": {},
     "output_type": "execute_result"
    }
   ],
   "source": [
    "df.head()"
   ]
  },
  {
   "cell_type": "code",
   "execution_count": 46,
   "id": "0495dfbe-3e62-4e3f-96c4-d14a20dba42c",
   "metadata": {},
   "outputs": [],
   "source": [
    "d={\"Parasitized\":1,\"Uninfected\":0}"
   ]
  },
  {
   "cell_type": "code",
   "execution_count": 47,
   "id": "b34a2670-a761-4767-8bf7-259c2b8baa20",
   "metadata": {},
   "outputs": [],
   "source": [
    "df[\"encode_label\"]=df[\"label\"].map(d)"
   ]
  },
  {
   "cell_type": "code",
   "execution_count": 48,
   "id": "58e1618c-a371-4e43-99c1-9a049a6d7eac",
   "metadata": {},
   "outputs": [
    {
     "data": {
      "text/html": [
       "<div>\n",
       "<style scoped>\n",
       "    .dataframe tbody tr th:only-of-type {\n",
       "        vertical-align: middle;\n",
       "    }\n",
       "\n",
       "    .dataframe tbody tr th {\n",
       "        vertical-align: top;\n",
       "    }\n",
       "\n",
       "    .dataframe thead th {\n",
       "        text-align: right;\n",
       "    }\n",
       "</style>\n",
       "<table border=\"1\" class=\"dataframe\">\n",
       "  <thead>\n",
       "    <tr style=\"text-align: right;\">\n",
       "      <th></th>\n",
       "      <th>img</th>\n",
       "      <th>label</th>\n",
       "      <th>encode_label</th>\n",
       "    </tr>\n",
       "  </thead>\n",
       "  <tbody>\n",
       "    <tr>\n",
       "      <th>27553</th>\n",
       "      <td>cell_images/Uninfected/C99P60ThinF_IMG_2015091...</td>\n",
       "      <td>Uninfected</td>\n",
       "      <td>0</td>\n",
       "    </tr>\n",
       "    <tr>\n",
       "      <th>27554</th>\n",
       "      <td>cell_images/Uninfected/C99P60ThinF_IMG_2015091...</td>\n",
       "      <td>Uninfected</td>\n",
       "      <td>0</td>\n",
       "    </tr>\n",
       "    <tr>\n",
       "      <th>27555</th>\n",
       "      <td>cell_images/Uninfected/C99P60ThinF_IMG_2015091...</td>\n",
       "      <td>Uninfected</td>\n",
       "      <td>0</td>\n",
       "    </tr>\n",
       "    <tr>\n",
       "      <th>27556</th>\n",
       "      <td>cell_images/Uninfected/C99P60ThinF_IMG_2015091...</td>\n",
       "      <td>Uninfected</td>\n",
       "      <td>0</td>\n",
       "    </tr>\n",
       "    <tr>\n",
       "      <th>27557</th>\n",
       "      <td>cell_images/Uninfected/C99P60ThinF_IMG_2015091...</td>\n",
       "      <td>Uninfected</td>\n",
       "      <td>0</td>\n",
       "    </tr>\n",
       "  </tbody>\n",
       "</table>\n",
       "</div>"
      ],
      "text/plain": [
       "                                                     img       label  \\\n",
       "27553  cell_images/Uninfected/C99P60ThinF_IMG_2015091...  Uninfected   \n",
       "27554  cell_images/Uninfected/C99P60ThinF_IMG_2015091...  Uninfected   \n",
       "27555  cell_images/Uninfected/C99P60ThinF_IMG_2015091...  Uninfected   \n",
       "27556  cell_images/Uninfected/C99P60ThinF_IMG_2015091...  Uninfected   \n",
       "27557  cell_images/Uninfected/C99P60ThinF_IMG_2015091...  Uninfected   \n",
       "\n",
       "       encode_label  \n",
       "27553             0  \n",
       "27554             0  \n",
       "27555             0  \n",
       "27556             0  \n",
       "27557             0  "
      ]
     },
     "execution_count": 48,
     "metadata": {},
     "output_type": "execute_result"
    }
   ],
   "source": [
    "df.tail()"
   ]
  },
  {
   "cell_type": "code",
   "execution_count": 49,
   "id": "fd490af8-e818-4fdd-877f-ca6e18de509d",
   "metadata": {},
   "outputs": [],
   "source": [
    "x=[]\n",
    "for img in df[\"img\"]:\n",
    "    img=cv2.imread(img)\n",
    "    img=cv2.resize(img,(28,28))  #Boyutunu 28*28 px yaptık\n",
    "    img=img/255.0  #Normalize Ettik\n",
    "    x.append(img)"
   ]
  },
  {
   "cell_type": "code",
   "execution_count": 50,
   "id": "237a2a8d-2180-4f71-95ff-d977898a357a",
   "metadata": {},
   "outputs": [],
   "source": [
    "x=np.array(x)"
   ]
  },
  {
   "cell_type": "code",
   "execution_count": 51,
   "id": "8d64e7dd-79f3-4fe7-b4c4-9054dc688c46",
   "metadata": {},
   "outputs": [],
   "source": [
    "y=df[\"encode_label\"]"
   ]
  },
  {
   "cell_type": "code",
   "execution_count": 52,
   "id": "57f4402d-826e-4377-8f35-a3db43e79bfc",
   "metadata": {},
   "outputs": [],
   "source": [
    "x_train, x_test, y_train, y_test = train_test_split(x, y, test_size=0.2, random_state=42)"
   ]
  },
  {
   "cell_type": "code",
   "execution_count": 53,
   "id": "57325498-b153-4f47-aed6-fefeb166ac63",
   "metadata": {},
   "outputs": [],
   "source": [
    "model1=Sequential()\n",
    "model1.add(Input(shape=(28,28,3)))\n",
    "model1.add(Conv2D(32,kernel_size=(3,3),activation='relu'))\n",
    "model1.add(MaxPooling2D(pool_size=(2,2)))\n",
    "model1.add(Conv2D(64,kernel_size=(3,3),activation='relu'))\n",
    "model1.add(MaxPooling2D(pool_size=(2,2)))\n",
    "model1.add(Flatten())\n",
    "model1.add(Dense(128))\n",
    "model1.add(Dense(2, activation='softmax')) # 10 fakli cevap classification 0-9 a kadar olan rakamlar\n",
    "model1.compile(optimizer='adam',loss='sparse_categorical_crossentropy',metrics=['accuracy'])"
   ]
  },
  {
   "cell_type": "code",
   "execution_count": null,
   "id": "ee34e3ee-7251-488d-a769-14895f713430",
   "metadata": {},
   "outputs": [],
   "source": []
  },
  {
   "cell_type": "code",
   "execution_count": 54,
   "id": "6fef3b82-422f-4fa4-a064-b601ff5a2d66",
   "metadata": {},
   "outputs": [
    {
     "data": {
      "text/plain": [
       "<matplotlib.image.AxesImage at 0x26df703d220>"
      ]
     },
     "execution_count": 54,
     "metadata": {},
     "output_type": "execute_result"
    },
    {
     "data": {
      "image/png": "[encoded data removed]",
      "text/plain": [
       "<Figure size 640x480 with 1 Axes>"
      ]
     },
     "metadata": {},
     "output_type": "display_data"
    }
   ],
   "source": [
    "plt.imshow(x_train[985])"
   ]
  },
  {
   "cell_type": "code",
   "execution_count": null,
   "id": "2aaca7a2-84ea-4231-8519-bc06b60525b8",
   "metadata": {},
   "outputs": [],
   "source": []
  },
  {
   "cell_type": "code",
   "execution_count": 55,
   "id": "8a416014-7113-425e-a1e4-0e2d1fee9719",
   "metadata": {},
   "outputs": [
    {
     "name": "stdout",
     "output_type": "stream",
     "text": [
      "Epoch 1/15\n",
      "\u001b[1m689/689\u001b[0m \u001b[32m━━━━━━━━━━━━━━━━━━━━\u001b[0m\u001b[37m\u001b[0m \u001b[1m3s\u001b[0m 4ms/step - accuracy: 0.6478 - loss: 0.6165 - val_accuracy: 0.8893 - val_loss: 0.2588\n",
      "Epoch 2/15\n",
      "\u001b[1m689/689\u001b[0m \u001b[32m━━━━━━━━━━━━━━━━━━━━\u001b[0m\u001b[37m\u001b[0m \u001b[1m3s\u001b[0m 4ms/step - accuracy: 0.9288 - loss: 0.2061 - val_accuracy: 0.9410 - val_loss: 0.1664\n",
      "Epoch 3/15\n",
      "\u001b[1m689/689\u001b[0m \u001b[32m━━━━━━━━━━━━━━━━━━━━\u001b[0m\u001b[37m\u001b[0m \u001b[1m3s\u001b[0m 4ms/step - accuracy: 0.9457 - loss: 0.1618 - val_accuracy: 0.9403 - val_loss: 0.1691\n",
      "Epoch 4/15\n",
      "\u001b[1m689/689\u001b[0m \u001b[32m━━━━━━━━━━━━━━━━━━━━\u001b[0m\u001b[37m\u001b[0m \u001b[1m3s\u001b[0m 4ms/step - accuracy: 0.9456 - loss: 0.1560 - val_accuracy: 0.9416 - val_loss: 0.1680\n",
      "Epoch 5/15\n",
      "\u001b[1m689/689\u001b[0m \u001b[32m━━━━━━━━━━━━━━━━━━━━\u001b[0m\u001b[37m\u001b[0m \u001b[1m3s\u001b[0m 4ms/step - accuracy: 0.9522 - loss: 0.1411 - val_accuracy: 0.9478 - val_loss: 0.1629\n",
      "Epoch 6/15\n",
      "\u001b[1m689/689\u001b[0m \u001b[32m━━━━━━━━━━━━━━━━━━━━\u001b[0m\u001b[37m\u001b[0m \u001b[1m3s\u001b[0m 4ms/step - accuracy: 0.9550 - loss: 0.1327 - val_accuracy: 0.9474 - val_loss: 0.1582\n",
      "Epoch 7/15\n",
      "\u001b[1m689/689\u001b[0m \u001b[32m━━━━━━━━━━━━━━━━━━━━\u001b[0m\u001b[37m\u001b[0m \u001b[1m3s\u001b[0m 4ms/step - accuracy: 0.9575 - loss: 0.1241 - val_accuracy: 0.9438 - val_loss: 0.1722\n",
      "Epoch 8/15\n",
      "\u001b[1m689/689\u001b[0m \u001b[32m━━━━━━━━━━━━━━━━━━━━\u001b[0m\u001b[37m\u001b[0m \u001b[1m3s\u001b[0m 4ms/step - accuracy: 0.9534 - loss: 0.1297 - val_accuracy: 0.9421 - val_loss: 0.1777\n",
      "Epoch 9/15\n",
      "\u001b[1m689/689\u001b[0m \u001b[32m━━━━━━━━━━━━━━━━━━━━\u001b[0m\u001b[37m\u001b[0m \u001b[1m3s\u001b[0m 4ms/step - accuracy: 0.9586 - loss: 0.1209 - val_accuracy: 0.9425 - val_loss: 0.1824\n",
      "Epoch 10/15\n",
      "\u001b[1m689/689\u001b[0m \u001b[32m━━━━━━━━━━━━━━━━━━━━\u001b[0m\u001b[37m\u001b[0m \u001b[1m3s\u001b[0m 4ms/step - accuracy: 0.9610 - loss: 0.1097 - val_accuracy: 0.9470 - val_loss: 0.1668\n",
      "Epoch 11/15\n",
      "\u001b[1m689/689\u001b[0m \u001b[32m━━━━━━━━━━━━━━━━━━━━\u001b[0m\u001b[37m\u001b[0m \u001b[1m3s\u001b[0m 4ms/step - accuracy: 0.9652 - loss: 0.1020 - val_accuracy: 0.9430 - val_loss: 0.1836\n",
      "Epoch 12/15\n",
      "\u001b[1m689/689\u001b[0m \u001b[32m━━━━━━━━━━━━━━━━━━━━\u001b[0m\u001b[37m\u001b[0m \u001b[1m3s\u001b[0m 4ms/step - accuracy: 0.9639 - loss: 0.1023 - val_accuracy: 0.9458 - val_loss: 0.1849\n",
      "Epoch 13/15\n",
      "\u001b[1m689/689\u001b[0m \u001b[32m━━━━━━━━━━━━━━━━━━━━\u001b[0m\u001b[37m\u001b[0m \u001b[1m3s\u001b[0m 4ms/step - accuracy: 0.9678 - loss: 0.0930 - val_accuracy: 0.9438 - val_loss: 0.1928\n",
      "Epoch 14/15\n",
      "\u001b[1m689/689\u001b[0m \u001b[32m━━━━━━━━━━━━━━━━━━━━\u001b[0m\u001b[37m\u001b[0m \u001b[1m3s\u001b[0m 4ms/step - accuracy: 0.9698 - loss: 0.0910 - val_accuracy: 0.9448 - val_loss: 0.1972\n",
      "Epoch 15/15\n",
      "\u001b[1m689/689\u001b[0m \u001b[32m━━━━━━━━━━━━━━━━━━━━\u001b[0m\u001b[37m\u001b[0m \u001b[1m3s\u001b[0m 4ms/step - accuracy: 0.9722 - loss: 0.0808 - val_accuracy: 0.9438 - val_loss: 0.2013\n"
     ]
    }
   ],
   "source": [
    "history=model1.fit(x_train,y_train,validation_data=(x_test,y_test),epochs=15,verbose=1)"
   ]
  },
  {
   "cell_type": "code",
   "execution_count": 56,
   "id": "f2d06db6-c1ee-48bd-a739-ea4c98decd45",
   "metadata": {},
   "outputs": [
    {
     "name": "stderr",
     "output_type": "stream",
     "text": [
      "WARNING:absl:You are saving your model as an HDF5 file via `model.save()` or `keras.saving.save_model(model)`. This file format is considered legacy. We recommend using instead the native Keras format, e.g. `model.save('my_model.keras')` or `keras.saving.save_model(model, 'my_model.keras')`. \n"
     ]
    }
   ],
   "source": [
    "model1.save(\"sitma_kontrol.h5\")"
   ]
  },
  {
   "cell_type": "markdown",
   "id": "b477ee7d-4907-4039-adfa-3ef2ec85cc23",
   "metadata": {},
   "source": [
    "### Yeni nesil Çözüm (Keras ile)"
   ]
  },
  {
   "cell_type": "code",
   "execution_count": 13,
   "id": "72dfaa32-42d2-4660-b829-7cf18c6411d8",
   "metadata": {},
   "outputs": [],
   "source": [
    "from keras.models import Sequential\n",
    "from keras.layers import Conv2D,Dense,Flatten, Input, MaxPooling2D, Dropout, BatchNormalization, Reshape\n",
    "from tensorflow.keras.applications import VGG16, ResNet50\n",
    "from tensorflow.keras.preprocessing.image import ImageDataGenerator # Tek satırda resimlerin tamamını okumaya yarıyor"
   ]
  },
  {
   "cell_type": "code",
   "execution_count": 15,
   "id": "b6fde7a0-df43-4d99-9135-dfbef369fadf",
   "metadata": {},
   "outputs": [
    {
     "name": "stdout",
     "output_type": "stream",
     "text": [
      "Found 22048 images belonging to 2 classes.\n",
      "Found 5510 images belonging to 2 classes.\n",
      "Epoch 1/10\n",
      "\u001b[1m689/689\u001b[0m \u001b[32m━━━━━━━━━━━━━━━━━━━━\u001b[0m\u001b[37m\u001b[0m \u001b[1m124s\u001b[0m 179ms/step - accuracy: 0.8730 - loss: 0.3095 - val_accuracy: 0.9091 - val_loss: 0.2260\n",
      "Epoch 2/10\n",
      "\u001b[1m689/689\u001b[0m \u001b[32m━━━━━━━━━━━━━━━━━━━━\u001b[0m\u001b[37m\u001b[0m \u001b[1m166s\u001b[0m 241ms/step - accuracy: 0.9280 - loss: 0.1844 - val_accuracy: 0.9254 - val_loss: 0.1919\n",
      "Epoch 3/10\n",
      "\u001b[1m689/689\u001b[0m \u001b[32m━━━━━━━━━━━━━━━━━━━━\u001b[0m\u001b[37m\u001b[0m \u001b[1m118s\u001b[0m 171ms/step - accuracy: 0.9391 - loss: 0.1638 - val_accuracy: 0.9181 - val_loss: 0.2067\n",
      "Epoch 4/10\n",
      "\u001b[1m689/689\u001b[0m \u001b[32m━━━━━━━━━━━━━━━━━━━━\u001b[0m\u001b[37m\u001b[0m \u001b[1m120s\u001b[0m 174ms/step - accuracy: 0.9460 - loss: 0.1492 - val_accuracy: 0.9083 - val_loss: 0.2221\n",
      "Epoch 5/10\n",
      "\u001b[1m689/689\u001b[0m \u001b[32m━━━━━━━━━━━━━━━━━━━━\u001b[0m\u001b[37m\u001b[0m \u001b[1m122s\u001b[0m 177ms/step - accuracy: 0.9405 - loss: 0.1568 - val_accuracy: 0.9276 - val_loss: 0.1889\n",
      "Epoch 6/10\n",
      "\u001b[1m689/689\u001b[0m \u001b[32m━━━━━━━━━━━━━━━━━━━━\u001b[0m\u001b[37m\u001b[0m \u001b[1m122s\u001b[0m 177ms/step - accuracy: 0.9476 - loss: 0.1418 - val_accuracy: 0.9102 - val_loss: 0.2304\n",
      "Epoch 7/10\n",
      "\u001b[1m689/689\u001b[0m \u001b[32m━━━━━━━━━━━━━━━━━━━━\u001b[0m\u001b[37m\u001b[0m \u001b[1m123s\u001b[0m 179ms/step - accuracy: 0.9484 - loss: 0.1364 - val_accuracy: 0.9211 - val_loss: 0.2102\n",
      "Epoch 8/10\n",
      "\u001b[1m689/689\u001b[0m \u001b[32m━━━━━━━━━━━━━━━━━━━━\u001b[0m\u001b[37m\u001b[0m \u001b[1m122s\u001b[0m 177ms/step - accuracy: 0.9509 - loss: 0.1319 - val_accuracy: 0.9143 - val_loss: 0.2283\n",
      "Epoch 9/10\n",
      "\u001b[1m689/689\u001b[0m \u001b[32m━━━━━━━━━━━━━━━━━━━━\u001b[0m\u001b[37m\u001b[0m \u001b[1m127s\u001b[0m 183ms/step - accuracy: 0.9526 - loss: 0.1247 - val_accuracy: 0.9267 - val_loss: 0.1832\n",
      "Epoch 10/10\n",
      "\u001b[1m689/689\u001b[0m \u001b[32m━━━━━━━━━━━━━━━━━━━━\u001b[0m\u001b[37m\u001b[0m \u001b[1m129s\u001b[0m 187ms/step - accuracy: 0.9542 - loss: 0.1210 - val_accuracy: 0.9093 - val_loss: 0.2600\n"
     ]
    },
    {
     "data": {
      "text/plain": [
       "<keras.src.callbacks.history.History at 0x186e5792000>"
      ]
     },
     "execution_count": 15,
     "metadata": {},
     "output_type": "execute_result"
    }
   ],
   "source": [
    "data_dir=\"cell_images\"\n",
    "img_width,img_height=64,64\n",
    "\n",
    "train_datagen=ImageDataGenerator( rescale=1/255, validation_split=.20)\n",
    "\n",
    "train_datagenerator=train_datagen.flow_from_directory(directory=data_dir,target_size=(img_width,img_height),\n",
    "                                class_mode=\"binary\", subset=\"training\")\n",
    "\n",
    "test_datagen=ImageDataGenerator( rescale=1/255)\n",
    "test_datagenerator=train_datagen.flow_from_directory(directory=data_dir,target_size=(img_width,img_height),\n",
    "                                class_mode=\"binary\", subset=\"validation\")\n",
    "\n",
    "base_model=VGG16(weights=\"imagenet\", input_shape=(img_width,img_height,3),include_top=False)\n",
    "model=Sequential()\n",
    "\n",
    "model.add(base_model)\n",
    "for layer in base_model.layers:\n",
    "    layer.trainable=False\n",
    "\n",
    "model.add(Flatten())\n",
    "model.add(Dense(1024,activation=\"relu\")) # Dense nöronları birbirine bağlar\n",
    "model.add(Dense(1,activation=\"sigmoid\"))\n",
    "\n",
    "model.compile(optimizer='adam',loss='binary_crossentropy',metrics=['accuracy'])\n",
    "\n",
    "model.fit(train_datagenerator,epochs=10,validation_data=test_datagenerator)"
   ]
  },
  {
   "cell_type": "code",
   "execution_count": null,
   "id": "7ad961a2-5423-4b33-b989-a6432862df89",
   "metadata": {},
   "outputs": [],
   "source": []
  }
 ],
 "metadata": {
  "kernelspec": {
   "display_name": "Python 3 (ipykernel)",
   "language": "python",
   "name": "python3"
  },
  "language_info": {
   "codemirror_mode": {
    "name": "ipython",
    "version": 3
   },
   "file_extension": ".py",
   "mimetype": "text/x-python",
   "name": "python",
   "nbconvert_exporter": "python",
   "pygments_lexer": "ipython3",
   "version": "3.12.4"
  }
 },
 "nbformat": 4,
 "nbformat_minor": 5
}
