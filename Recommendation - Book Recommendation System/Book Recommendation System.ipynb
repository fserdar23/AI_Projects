{
 "cells": [
  {
   "cell_type": "markdown",
   "id": "5a09fd7d-0295-4fd3-91e4-abbbeb3c4dc4",
   "metadata": {},
   "source": [
    "# Book Recommendation System"
   ]
  },
  {
   "cell_type": "markdown",
   "id": "b50dc566-7e3f-47d5-8165-f63a86d0adc6",
   "metadata": {},
   "source": [
    "<img src=\"https://storage.evrimagaci.org/old/content_media/2a10f8a32f8598e61a47f659606911aa.jpg\">"
   ]
  },
  {
   "cell_type": "markdown",
   "id": "61a28646-059d-4ff8-ad83-634349edcb85",
   "metadata": {},
   "source": [
    "<a href=\"https://thecleverprogrammer.com/2023/10/30/book-recommendation-system-with-python/\">Dataya Buradan Erişebilirsiniz</a>"
   ]
  },
  {
   "cell_type": "code",
   "execution_count": 1,
   "id": "07c350a7-e13b-4e57-9074-a6b4f95f7a9b",
   "metadata": {},
   "outputs": [],
   "source": [
    "import pandas as pd\n",
    "import numpy as np"
   ]
  },
  {
   "cell_type": "code",
   "execution_count": 2,
   "id": "c0402d44-d6ba-4030-a208-80d325c8c0d2",
   "metadata": {},
   "outputs": [],
   "source": [
    "df=pd.read_csv(\"books_data.csv\")"
   ]
  },
  {
   "cell_type": "markdown",
   "id": "175b43dc-15d7-41bb-a794-0064e5aaa1a2",
   "metadata": {},
   "source": [
    "### EDA"
   ]
  },
  {
   "cell_type": "code",
   "execution_count": 3,
   "id": "ae834e20-d61e-4a3c-96bd-d915d21d5bd3",
   "metadata": {},
   "outputs": [
    {
     "data": {
      "text/html": [
       "<div>\n",
       "<style scoped>\n",
       "    .dataframe tbody tr th:only-of-type {\n",
       "        vertical-align: middle;\n",
       "    }\n",
       "\n",
       "    .dataframe tbody tr th {\n",
       "        vertical-align: top;\n",
       "    }\n",
       "\n",
       "    .dataframe thead th {\n",
       "        text-align: right;\n",
       "    }\n",
       "</style>\n",
       "<table border=\"1\" class=\"dataframe\">\n",
       "  <thead>\n",
       "    <tr style=\"text-align: right;\">\n",
       "      <th></th>\n",
       "      <th>bookID</th>\n",
       "      <th>title</th>\n",
       "      <th>authors</th>\n",
       "      <th>average_rating</th>\n",
       "    </tr>\n",
       "  </thead>\n",
       "  <tbody>\n",
       "    <tr>\n",
       "      <th>0</th>\n",
       "      <td>1</td>\n",
       "      <td>Harry Potter and the Half-Blood Prince (Harry ...</td>\n",
       "      <td>J.K. Rowling/Mary GrandPré</td>\n",
       "      <td>4.57</td>\n",
       "    </tr>\n",
       "    <tr>\n",
       "      <th>1</th>\n",
       "      <td>2</td>\n",
       "      <td>Harry Potter and the Order of the Phoenix (Har...</td>\n",
       "      <td>J.K. Rowling/Mary GrandPré</td>\n",
       "      <td>4.49</td>\n",
       "    </tr>\n",
       "    <tr>\n",
       "      <th>2</th>\n",
       "      <td>4</td>\n",
       "      <td>Harry Potter and the Chamber of Secrets (Harry...</td>\n",
       "      <td>J.K. Rowling</td>\n",
       "      <td>4.42</td>\n",
       "    </tr>\n",
       "    <tr>\n",
       "      <th>3</th>\n",
       "      <td>5</td>\n",
       "      <td>Harry Potter and the Prisoner of Azkaban (Harr...</td>\n",
       "      <td>J.K. Rowling/Mary GrandPré</td>\n",
       "      <td>4.56</td>\n",
       "    </tr>\n",
       "    <tr>\n",
       "      <th>4</th>\n",
       "      <td>8</td>\n",
       "      <td>Harry Potter Boxed Set  Books 1-5 (Harry Potte...</td>\n",
       "      <td>J.K. Rowling/Mary GrandPré</td>\n",
       "      <td>4.78</td>\n",
       "    </tr>\n",
       "    <tr>\n",
       "      <th>...</th>\n",
       "      <td>...</td>\n",
       "      <td>...</td>\n",
       "      <td>...</td>\n",
       "      <td>...</td>\n",
       "    </tr>\n",
       "    <tr>\n",
       "      <th>11122</th>\n",
       "      <td>45631</td>\n",
       "      <td>Expelled from Eden: A William T. Vollmann Reader</td>\n",
       "      <td>William T. Vollmann/Larry McCaffery/Michael He...</td>\n",
       "      <td>4.06</td>\n",
       "    </tr>\n",
       "    <tr>\n",
       "      <th>11123</th>\n",
       "      <td>45633</td>\n",
       "      <td>You Bright and Risen Angels</td>\n",
       "      <td>William T. Vollmann</td>\n",
       "      <td>4.08</td>\n",
       "    </tr>\n",
       "    <tr>\n",
       "      <th>11124</th>\n",
       "      <td>45634</td>\n",
       "      <td>The Ice-Shirt (Seven Dreams #1)</td>\n",
       "      <td>William T. Vollmann</td>\n",
       "      <td>3.96</td>\n",
       "    </tr>\n",
       "    <tr>\n",
       "      <th>11125</th>\n",
       "      <td>45639</td>\n",
       "      <td>Poor People</td>\n",
       "      <td>William T. Vollmann</td>\n",
       "      <td>3.72</td>\n",
       "    </tr>\n",
       "    <tr>\n",
       "      <th>11126</th>\n",
       "      <td>45641</td>\n",
       "      <td>Las aventuras de Tom Sawyer</td>\n",
       "      <td>Mark Twain</td>\n",
       "      <td>3.91</td>\n",
       "    </tr>\n",
       "  </tbody>\n",
       "</table>\n",
       "<p>11127 rows × 4 columns</p>\n",
       "</div>"
      ],
      "text/plain": [
       "       bookID                                              title  \\\n",
       "0           1  Harry Potter and the Half-Blood Prince (Harry ...   \n",
       "1           2  Harry Potter and the Order of the Phoenix (Har...   \n",
       "2           4  Harry Potter and the Chamber of Secrets (Harry...   \n",
       "3           5  Harry Potter and the Prisoner of Azkaban (Harr...   \n",
       "4           8  Harry Potter Boxed Set  Books 1-5 (Harry Potte...   \n",
       "...       ...                                                ...   \n",
       "11122   45631   Expelled from Eden: A William T. Vollmann Reader   \n",
       "11123   45633                        You Bright and Risen Angels   \n",
       "11124   45634                    The Ice-Shirt (Seven Dreams #1)   \n",
       "11125   45639                                        Poor People   \n",
       "11126   45641                        Las aventuras de Tom Sawyer   \n",
       "\n",
       "                                                 authors average_rating  \n",
       "0                             J.K. Rowling/Mary GrandPré           4.57  \n",
       "1                             J.K. Rowling/Mary GrandPré           4.49  \n",
       "2                                           J.K. Rowling           4.42  \n",
       "3                             J.K. Rowling/Mary GrandPré           4.56  \n",
       "4                             J.K. Rowling/Mary GrandPré           4.78  \n",
       "...                                                  ...            ...  \n",
       "11122  William T. Vollmann/Larry McCaffery/Michael He...           4.06  \n",
       "11123                                William T. Vollmann           4.08  \n",
       "11124                                William T. Vollmann           3.96  \n",
       "11125                                William T. Vollmann           3.72  \n",
       "11126                                         Mark Twain           3.91  \n",
       "\n",
       "[11127 rows x 4 columns]"
      ]
     },
     "execution_count": 3,
     "metadata": {},
     "output_type": "execute_result"
    }
   ],
   "source": [
    "df"
   ]
  },
  {
   "cell_type": "code",
   "execution_count": 4,
   "id": "0c646f2b-cc0b-4bde-82b6-bd4ff120a832",
   "metadata": {},
   "outputs": [
    {
     "data": {
      "text/plain": [
       "average_rating\n",
       "4.00                  219\n",
       "3.96                  195\n",
       "4.02                  178\n",
       "3.94                  176\n",
       "4.07                  172\n",
       "                     ... \n",
       "2.99                    1\n",
       "3.03                    1\n",
       "3.10                    1\n",
       " Jr./Sam B. Warner      1\n",
       "2.33                    1\n",
       "Name: count, Length: 213, dtype: int64"
      ]
     },
     "execution_count": 4,
     "metadata": {},
     "output_type": "execute_result"
    }
   ],
   "source": [
    "df[\"average_rating\"].value_counts()"
   ]
  },
  {
   "cell_type": "code",
   "execution_count": 5,
   "id": "ff9c9324-55f6-4cb9-8afd-c027d9d23ee7",
   "metadata": {},
   "outputs": [
    {
     "data": {
      "text/plain": [
       "(11127, 4)"
      ]
     },
     "execution_count": 5,
     "metadata": {},
     "output_type": "execute_result"
    }
   ],
   "source": [
    "df.shape"
   ]
  },
  {
   "cell_type": "code",
   "execution_count": 6,
   "id": "3c417e61-1be3-4127-876b-2b58e2fdbfff",
   "metadata": {},
   "outputs": [
    {
     "name": "stdout",
     "output_type": "stream",
     "text": [
      "<class 'pandas.core.frame.DataFrame'>\n",
      "RangeIndex: 11127 entries, 0 to 11126\n",
      "Data columns (total 4 columns):\n",
      " #   Column          Non-Null Count  Dtype \n",
      "---  ------          --------------  ----- \n",
      " 0   bookID          11127 non-null  int64 \n",
      " 1   title           11127 non-null  object\n",
      " 2   authors         11127 non-null  object\n",
      " 3   average_rating  11127 non-null  object\n",
      "dtypes: int64(1), object(3)\n",
      "memory usage: 347.8+ KB\n"
     ]
    }
   ],
   "source": [
    "df.info()"
   ]
  },
  {
   "cell_type": "code",
   "execution_count": 7,
   "id": "54f92897-a90d-4d41-bae1-9454460b1209",
   "metadata": {},
   "outputs": [
    {
     "data": {
      "text/plain": [
       "title\n",
       "The Brothers Karamazov                                  9\n",
       "The Iliad                                               9\n",
       "'Salem's Lot                                            8\n",
       "The Odyssey                                             8\n",
       "Gulliver's Travels                                      8\n",
       "                                                       ..\n",
       "The Noonday Demon: An Atlas of Depression               1\n",
       "The Noonday Demon: An Anatomy of Depression             1\n",
       "My Secret: A PostSecret Book                            1\n",
       "The Secret Lives of Men and Women: A PostSecret Book    1\n",
       "Las aventuras de Tom Sawyer                             1\n",
       "Name: count, Length: 10352, dtype: int64"
      ]
     },
     "execution_count": 7,
     "metadata": {},
     "output_type": "execute_result"
    }
   ],
   "source": [
    "df.title.value_counts()"
   ]
  },
  {
   "cell_type": "code",
   "execution_count": 8,
   "id": "88d47371-5190-440c-9555-622d3df1f134",
   "metadata": {},
   "outputs": [
    {
     "data": {
      "text/plain": [
       "11127"
      ]
     },
     "execution_count": 8,
     "metadata": {},
     "output_type": "execute_result"
    }
   ],
   "source": [
    "df.bookID.nunique()"
   ]
  },
  {
   "cell_type": "code",
   "execution_count": 9,
   "id": "c27a5b3e-c2eb-447e-9ee3-1aa8867bfa6c",
   "metadata": {},
   "outputs": [
    {
     "name": "stdout",
     "output_type": "stream",
     "text": [
      "['4.57' '4.49' '4.42' '4.56' '4.78' '3.74' '4.73' '4.38' '4.22' '4.21'\n",
      " '3.44' '3.87' '4.07' '3.90' '3.83' '3.86' '3.91' '3.93' '4.59' '4.50'\n",
      " '4.36' '4.53' '3.84' '3.72' '4.00' '3.88' '4.33' '3.45' '3.76' '3.60'\n",
      " '4.06' '4.17' '3.55' '3.98' '4.13' '3.95' '4.24' '4.34' '3.92' '4.23'\n",
      " '3.75' '3.94' '3.77' '4.46' '3.68' '3.99' '3.25' '3.89' '3.82' '3.78'\n",
      " '4.01' '4.35' '4.28' '3.34' '3.67' '3.48' '3.50' '3.62' '4.27' '3.39'\n",
      " '4.12' '4.08' '4.05' '3.85' '2.99' '4.19' '3.71' '4.20' '3.65' '3.40'\n",
      " '4.11' '3.42' '4.02' '3.69' '4.10' '3.66' '4.61' '4.04' '3.97' '4.14'\n",
      " '3.57' '3.43' '3.22' '3.64' '3.96' '3.80' '3.81' '3.79' '3.23' '4.15'\n",
      " '4.39' '4.03' '3.73' '3.51' '3.63' '3.09' '3.59' '4.29' '0.00' '4.25'\n",
      " '4.26' '3.61' '4.16' '4.55' '4.52' '3.41' '4.70' '4.18' '3.58' '4.51'\n",
      " '3.15' '3.31' '4.09' '3.49' '3.56' '4.47' '4.44' '3.70' '4.32' '4.40'\n",
      " '4.31' '4.43' '2.80' '3.46' '2.83' '4.62' '2.67' '4.45' '4.30' '5.00'\n",
      " '3.10' '3.08' '3.27' '3.33' '3.00' '4.67' '4.63' '3.52' '3.36' '3.54'\n",
      " '3.17' '4.37' '3.29' '4.64' '3.38' '3.37' '3.16' '3.53' '2.88' '2.98'\n",
      " '3.35' '3.30' '3.24' '4.41' '4.48' '4.54' '4.60' '3.32' '3.13' '2.00'\n",
      " '3.20' '4.58' '2.82' '3.28' '2.62' '2.92' '3.47' '3.02' '1.00'\n",
      " ' Jr./Sam B. Warner' '3.14' '3.12' '3.18' '2.86' '3.26' '3.19' '3.03'\n",
      " '3.07' '3.11' '4.91' '2.55' '2.81' '4.75'\n",
      " ' one of the founding members of this Tolkien website)/Verlyn Flieger/Turgon (=David E. Smith)'\n",
      " '3.21' '4.71' '4.80' '2.72' '2.79' '2.96' '2.75' ' Rawles' '4.86' '4.65'\n",
      " '2.50' '4.82' '4.76' '4.72' '4.69' '1.67' '3.06' '2.94' '2.89' '3.04'\n",
      " '2.40' '2.61' ' Son & Ferguson' '2.77' '2.63' '4.88' '4.83' '2.93' '2.33']\n"
     ]
    }
   ],
   "source": [
    "print(df['average_rating'].unique())"
   ]
  },
  {
   "cell_type": "markdown",
   "id": "895241ba-bbd4-486c-bd03-5d0d7fb26968",
   "metadata": {},
   "source": [
    "### Feature Engineering"
   ]
  },
  {
   "cell_type": "code",
   "execution_count": 10,
   "id": "d937e363-eb7b-4391-9c16-28620df1d711",
   "metadata": {},
   "outputs": [],
   "source": [
    "kalkacak = [\n",
    "    \" Jr./Sam B. Warner\",\n",
    "    \" one of the founding members of this Tolkien website)/Verlyn Flieger/Turgon (=David E. Smith)\",\n",
    "    \" Rawles\",\n",
    "    \" Son & Ferguson\"\n",
    "]\n",
    "\n",
    "df = df[~df[\"average_rating\"].isin(kalkacak)]"
   ]
  },
  {
   "cell_type": "code",
   "execution_count": 11,
   "id": "94d1a459-39b9-49bc-961a-a34acdc45578",
   "metadata": {},
   "outputs": [
    {
     "name": "stderr",
     "output_type": "stream",
     "text": [
      "C:\\Users\\erkan\\AppData\\Local\\Temp\\ipykernel_32624\\1092818609.py:1: SettingWithCopyWarning: \n",
      "A value is trying to be set on a copy of a slice from a DataFrame.\n",
      "Try using .loc[row_indexer,col_indexer] = value instead\n",
      "\n",
      "See the caveats in the documentation: https://pandas.pydata.org/pandas-docs/stable/user_guide/indexing.html#returning-a-view-versus-a-copy\n",
      "  df[\"average_rating\"]=df[\"average_rating\"].astype(float)\n"
     ]
    }
   ],
   "source": [
    "df[\"average_rating\"]=df[\"average_rating\"].astype(float)"
   ]
  },
  {
   "cell_type": "code",
   "execution_count": 12,
   "id": "73a6b1d5-0b08-40c7-9009-25bcf6ed812c",
   "metadata": {},
   "outputs": [],
   "source": [
    "author_rows = []\n",
    "\n",
    "for index, row in df.iterrows():\n",
    "    authors = row['authors'].split('/')  # Yazarları ayır\n",
    "    for author in authors:\n",
    "        author_rows.append({'bookID': row['bookID'], 'title': row['title'], 'author': author.strip(), 'average_rating': row['average_rating']})"
   ]
  },
  {
   "cell_type": "code",
   "execution_count": 13,
   "id": "b43420aa-68bd-4f4a-a093-145029083acf",
   "metadata": {},
   "outputs": [],
   "source": [
    "ydf=pd.DataFrame(author_rows)"
   ]
  },
  {
   "cell_type": "code",
   "execution_count": 14,
   "id": "8c1252f2-99ad-43f3-a2f6-31e15d6e7e99",
   "metadata": {},
   "outputs": [
    {
     "data": {
      "text/html": [
       "<div>\n",
       "<style scoped>\n",
       "    .dataframe tbody tr th:only-of-type {\n",
       "        vertical-align: middle;\n",
       "    }\n",
       "\n",
       "    .dataframe tbody tr th {\n",
       "        vertical-align: top;\n",
       "    }\n",
       "\n",
       "    .dataframe thead th {\n",
       "        text-align: right;\n",
       "    }\n",
       "</style>\n",
       "<table border=\"1\" class=\"dataframe\">\n",
       "  <thead>\n",
       "    <tr style=\"text-align: right;\">\n",
       "      <th></th>\n",
       "      <th>bookID</th>\n",
       "      <th>title</th>\n",
       "      <th>author</th>\n",
       "      <th>average_rating</th>\n",
       "    </tr>\n",
       "  </thead>\n",
       "  <tbody>\n",
       "    <tr>\n",
       "      <th>0</th>\n",
       "      <td>1</td>\n",
       "      <td>Harry Potter and the Half-Blood Prince (Harry ...</td>\n",
       "      <td>J.K. Rowling</td>\n",
       "      <td>4.57</td>\n",
       "    </tr>\n",
       "    <tr>\n",
       "      <th>1</th>\n",
       "      <td>1</td>\n",
       "      <td>Harry Potter and the Half-Blood Prince (Harry ...</td>\n",
       "      <td>Mary GrandPré</td>\n",
       "      <td>4.57</td>\n",
       "    </tr>\n",
       "    <tr>\n",
       "      <th>2</th>\n",
       "      <td>2</td>\n",
       "      <td>Harry Potter and the Order of the Phoenix (Har...</td>\n",
       "      <td>J.K. Rowling</td>\n",
       "      <td>4.49</td>\n",
       "    </tr>\n",
       "    <tr>\n",
       "      <th>3</th>\n",
       "      <td>2</td>\n",
       "      <td>Harry Potter and the Order of the Phoenix (Har...</td>\n",
       "      <td>Mary GrandPré</td>\n",
       "      <td>4.49</td>\n",
       "    </tr>\n",
       "    <tr>\n",
       "      <th>4</th>\n",
       "      <td>4</td>\n",
       "      <td>Harry Potter and the Chamber of Secrets (Harry...</td>\n",
       "      <td>J.K. Rowling</td>\n",
       "      <td>4.42</td>\n",
       "    </tr>\n",
       "    <tr>\n",
       "      <th>...</th>\n",
       "      <td>...</td>\n",
       "      <td>...</td>\n",
       "      <td>...</td>\n",
       "      <td>...</td>\n",
       "    </tr>\n",
       "    <tr>\n",
       "      <th>19232</th>\n",
       "      <td>45631</td>\n",
       "      <td>Expelled from Eden: A William T. Vollmann Reader</td>\n",
       "      <td>Michael Hemmingson</td>\n",
       "      <td>4.06</td>\n",
       "    </tr>\n",
       "    <tr>\n",
       "      <th>19233</th>\n",
       "      <td>45633</td>\n",
       "      <td>You Bright and Risen Angels</td>\n",
       "      <td>William T. Vollmann</td>\n",
       "      <td>4.08</td>\n",
       "    </tr>\n",
       "    <tr>\n",
       "      <th>19234</th>\n",
       "      <td>45634</td>\n",
       "      <td>The Ice-Shirt (Seven Dreams #1)</td>\n",
       "      <td>William T. Vollmann</td>\n",
       "      <td>3.96</td>\n",
       "    </tr>\n",
       "    <tr>\n",
       "      <th>19235</th>\n",
       "      <td>45639</td>\n",
       "      <td>Poor People</td>\n",
       "      <td>William T. Vollmann</td>\n",
       "      <td>3.72</td>\n",
       "    </tr>\n",
       "    <tr>\n",
       "      <th>19236</th>\n",
       "      <td>45641</td>\n",
       "      <td>Las aventuras de Tom Sawyer</td>\n",
       "      <td>Mark Twain</td>\n",
       "      <td>3.91</td>\n",
       "    </tr>\n",
       "  </tbody>\n",
       "</table>\n",
       "<p>19237 rows × 4 columns</p>\n",
       "</div>"
      ],
      "text/plain": [
       "       bookID                                              title  \\\n",
       "0           1  Harry Potter and the Half-Blood Prince (Harry ...   \n",
       "1           1  Harry Potter and the Half-Blood Prince (Harry ...   \n",
       "2           2  Harry Potter and the Order of the Phoenix (Har...   \n",
       "3           2  Harry Potter and the Order of the Phoenix (Har...   \n",
       "4           4  Harry Potter and the Chamber of Secrets (Harry...   \n",
       "...       ...                                                ...   \n",
       "19232   45631   Expelled from Eden: A William T. Vollmann Reader   \n",
       "19233   45633                        You Bright and Risen Angels   \n",
       "19234   45634                    The Ice-Shirt (Seven Dreams #1)   \n",
       "19235   45639                                        Poor People   \n",
       "19236   45641                        Las aventuras de Tom Sawyer   \n",
       "\n",
       "                    author  average_rating  \n",
       "0             J.K. Rowling            4.57  \n",
       "1            Mary GrandPré            4.57  \n",
       "2             J.K. Rowling            4.49  \n",
       "3            Mary GrandPré            4.49  \n",
       "4             J.K. Rowling            4.42  \n",
       "...                    ...             ...  \n",
       "19232   Michael Hemmingson            4.06  \n",
       "19233  William T. Vollmann            4.08  \n",
       "19234  William T. Vollmann            3.96  \n",
       "19235  William T. Vollmann            3.72  \n",
       "19236           Mark Twain            3.91  \n",
       "\n",
       "[19237 rows x 4 columns]"
      ]
     },
     "execution_count": 14,
     "metadata": {},
     "output_type": "execute_result"
    }
   ],
   "source": [
    "ydf"
   ]
  },
  {
   "cell_type": "code",
   "execution_count": 15,
   "id": "2567ed8b-a7c4-45f8-bd33-10a2e2d77abf",
   "metadata": {},
   "outputs": [
    {
     "data": {
      "text/plain": [
       "9231"
      ]
     },
     "execution_count": 15,
     "metadata": {},
     "output_type": "execute_result"
    }
   ],
   "source": [
    "ydf[\"author\"].nunique()"
   ]
  },
  {
   "cell_type": "code",
   "execution_count": null,
   "id": "0756947f-104f-4ef7-a0ba-3bf7a46289f5",
   "metadata": {},
   "outputs": [],
   "source": []
  },
  {
   "cell_type": "code",
   "execution_count": 17,
   "id": "221c0de8-5055-4f0d-b274-0a5b128e952a",
   "metadata": {},
   "outputs": [],
   "source": [
    "# tf idf ile"
   ]
  },
  {
   "cell_type": "code",
   "execution_count": 29,
   "id": "7d2501b8-22ff-434d-a2d9-a1b1dc683b3d",
   "metadata": {},
   "outputs": [],
   "source": [
    "sss=ydf"
   ]
  },
  {
   "cell_type": "code",
   "execution_count": 18,
   "id": "0311e8c6-ebc4-4032-ac43-92ca883aec13",
   "metadata": {},
   "outputs": [
    {
     "name": "stdout",
     "output_type": "stream",
     "text": [
      "[[1. 0. 1. ... 0. 0. 0.]\n",
      " [0. 1. 0. ... 0. 0. 0.]\n",
      " [1. 0. 1. ... 0. 0. 0.]\n",
      " ...\n",
      " [0. 0. 0. ... 1. 1. 0.]\n",
      " [0. 0. 0. ... 1. 1. 0.]\n",
      " [0. 0. 0. ... 0. 0. 1.]]\n"
     ]
    }
   ],
   "source": [
    "from sklearn.feature_extraction.text import TfidfVectorizer\n",
    "from sklearn.metrics.pairwise import cosine_similarity\n",
    "import pandas as pd\n",
    "\n",
    "\n",
    "# Yazar ve ortalama puanları birleştirerek yeni bir sütun oluştur\n",
    "sss['combined'] = sss['author']+ \" \" + sss['title']+\" \"+sss[\"average_rating\"].astype(str)\n",
    "\n",
    "# TF-IDF Vektörizeri ile öznitelik matrisini oluştur\n",
    "tfidf = TfidfVectorizer()\n",
    "tfidf_matrix = tfidf.fit_transform(sss['combined'])\n",
    "\n",
    "# Kosinüs benzerliği matrisini hesapla\n",
    "cosine_sim = cosine_similarity(tfidf_matrix, tfidf_matrix)"
   ]
  },
  {
   "cell_type": "code",
   "execution_count": 34,
   "id": "00d1614a-8609-4aab-95a0-b5f9cab96d52",
   "metadata": {},
   "outputs": [],
   "source": [
    "def recommend_books(title, cosine_sim=cosine_sim):\n",
    "    # Verilen başlığa karşılık gelen indeks\n",
    "    if title not in sss['title'].values:\n",
    "        return \"Kitap bulunamadı.\"\n",
    "\n",
    "    idx = sss.index[sss['title'] == title].tolist()[0]\n",
    "    \n",
    "    # Benzerlik puanlarını al\n",
    "    sim_scores = list(enumerate(cosine_sim[idx]))\n",
    "    sim_scores = sorted(sim_scores, key=lambda x: x[1], reverse=True)\n",
    "    \n",
    "    # En benzer 5 kitabı al\n",
    "    sim_scores = sim_scores[1:6]  # En benzer 5 kitabı al\n",
    "    \n",
    "    # Eğer sim_scores'da yeterli kitap yoksa\n",
    "    if len(sim_scores) == 0:\n",
    "        return \"Yeterli benzer kitap bulunamadı.\"\n",
    "\n",
    "    book_indices = [i[0] for i in sim_scores]\n",
    "    \n",
    "    # Kitapların bilgilerini al\n",
    "    recommendations = sss.iloc[book_indices].copy()\n",
    "    recommendations['similarity'] = [sim_scores[i][1] for i in range(len(sim_scores))]\n",
    "    \n",
    "    # Sonuçları döndür\n",
    "    return recommendations[['title', 'average_rating', 'similarity']]"
   ]
  },
  {
   "cell_type": "code",
   "execution_count": 35,
   "id": "f2ddb5dd-d5eb-44ee-8171-0336fdfd9840",
   "metadata": {},
   "outputs": [
    {
     "name": "stdout",
     "output_type": "stream",
     "text": [
      "                                                   title  average_rating  \\\n",
      "11163  The Adventures of Tom Sawyer (Adventures of To...            3.91   \n",
      "11165  The Adventures of Tom Sawyer (Adventures of To...            3.91   \n",
      "1563   Huck Finn & Tom Sawyer among the Indians & Oth...            3.85   \n",
      "1567          Huck Finn and Tom Sawyer Among the Indians            3.57   \n",
      "1590                     The Autobiography of Mark Twain            4.05   \n",
      "\n",
      "       similarity  \n",
      "11163    0.531243  \n",
      "11165    0.531243  \n",
      "1563     0.450082  \n",
      "1567     0.414579  \n",
      "1590     0.412331  \n"
     ]
    }
   ],
   "source": [
    "print(recommend_books('Las aventuras de Tom Sawyer'))"
   ]
  },
  {
   "cell_type": "code",
   "execution_count": 37,
   "id": "7910f12a-c1d7-4a07-a51c-d465671f6314",
   "metadata": {},
   "outputs": [],
   "source": [
    "import pickle"
   ]
  },
  {
   "cell_type": "code",
   "execution_count": 40,
   "id": "896f1445-0b76-45a9-9d4e-461d905f9dec",
   "metadata": {},
   "outputs": [],
   "source": [
    "# Klasör oluşturma\n",
    "import os\n",
    "os.makedirs(\"my_model\", exist_ok=True)\n",
    "\n",
    "# Modeli ve veriyi kaydet\n",
    "with open(\"my_model/tfidf_vectorizer.pkl\", \"wb\") as f:\n",
    "    pickle.dump(tfidf, f)\n",
    "\n",
    "sss.to_csv(\"my_model/books_data.csv\", index=False)  # Veriyi CSV olarak kaydet"
   ]
  },
  {
   "cell_type": "markdown",
   "id": "1a48a2cd-786a-4511-8265-6bbc619e28de",
   "metadata": {},
   "source": [
    "Kitap adı yazarı ve ortalama puanını tf/idf vectorizer kullanar bir tavsiye modeli olusturduk ve bunu streamlit uygulaması yapmak için pickle dosyasına kaydettik"
   ]
  },
  {
   "cell_type": "code",
   "execution_count": null,
   "id": "5ed7a2d5-1b10-49a2-9f4d-b6a302196c75",
   "metadata": {},
   "outputs": [],
   "source": []
  }
 ],
 "metadata": {
  "kernelspec": {
   "display_name": "Python (fatsergpu)",
   "language": "python",
   "name": "fatsergpu"
  },
  "language_info": {
   "codemirror_mode": {
    "name": "ipython",
    "version": 3
   },
   "file_extension": ".py",
   "mimetype": "text/x-python",
   "name": "python",
   "nbconvert_exporter": "python",
   "pygments_lexer": "ipython3",
   "version": "3.12.3"
  }
 },
 "nbformat": 4,
 "nbformat_minor": 5
}
