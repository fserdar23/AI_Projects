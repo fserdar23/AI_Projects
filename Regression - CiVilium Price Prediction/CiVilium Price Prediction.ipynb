{
 "cells": [
  {
   "cell_type": "markdown",
   "id": "4cc771c9-b3d2-4e6f-a69c-8bd0143e5f4f",
   "metadata": {},
   "source": [
    "# CiVilium Price Prediction"
   ]
  },
  {
   "cell_type": "markdown",
   "id": "725d69fd-26e8-4510-9b83-aab91e651173",
   "metadata": {},
   "source": [
    "TechX tarihindeki en uzun zamandır, mistik bir kripto para birimi olan CiVilium (CiV), Akademik Liderler arasında dolaşıyordu. Fiyatı çılgınca dalgalansa da, fiyat değişiminde altta yatan bir kalıp keşfetmeyi umuyoruz.\n",
    "\n",
    "Görevimiz, Civilium'un gelecekteki fiyat eğilimlerini tahmin eden bir makine öğrenme modeli geliştirmek ve böylece CiVilium'un piyasasını manipüle etme gücüne sahip olmaktır. Tekel kazanan kişi XAcademy'yi yönetecektir."
   ]
  },
  {
   "cell_type": "markdown",
   "id": "22463226-f4d6-493b-82b1-98930f9b4fc5",
   "metadata": {},
   "source": [
    "<img src=\"https://www.kaggle.com/competitions/30300/images/header\">"
   ]
  },
  {
   "cell_type": "markdown",
   "id": "8b4858a2-4623-4e27-abba-c604a11d6fd9",
   "metadata": {},
   "source": [
    "Unix_Timestamp - Zaman penceresinin başlangıç ​​saati (60 saniyelik pencere), Unix zamanında<br>\n",
    "Volume_CiVilium - Bu pencerede Birim (Uts) cinsinden işlem gören CiVilium hacmi<br>\n",
    "Weighted_Price - Hacim Ağırlıklı Ortalama Fiyat, Zibabwe Doları (ZWD) cinsinden"
   ]
  },
  {
   "cell_type": "markdown",
   "id": "e266834b-a8af-4c61-b1c3-6843a8d2f81c",
   "metadata": {},
   "source": [
    "<a href=\"https://www.kaggle.com/competitions/CiVilium/data\">Dataya Buradan Erişebilirsiniz</a>"
   ]
  },
  {
   "cell_type": "code",
   "execution_count": 1,
   "id": "b650ec67-d754-49a7-bf4b-e56f85ce0dc2",
   "metadata": {},
   "outputs": [],
   "source": [
    "import pandas as pd\n",
    "import numpy as np\n",
    "\n",
    "import matplotlib.pyplot as plt\n",
    "import seaborn as sns"
   ]
  },
  {
   "cell_type": "code",
   "execution_count": 2,
   "id": "2261b801-35a1-4725-8fb8-8ac0a2f70034",
   "metadata": {},
   "outputs": [],
   "source": [
    "df=pd.read_csv(\"train_final.csv\")"
   ]
  },
  {
   "cell_type": "code",
   "execution_count": 3,
   "id": "f70eca09-597c-4207-8b1c-3ac117cea155",
   "metadata": {},
   "outputs": [
    {
     "data": {
      "text/html": [
       "<div>\n",
       "<style scoped>\n",
       "    .dataframe tbody tr th:only-of-type {\n",
       "        vertical-align: middle;\n",
       "    }\n",
       "\n",
       "    .dataframe tbody tr th {\n",
       "        vertical-align: top;\n",
       "    }\n",
       "\n",
       "    .dataframe thead th {\n",
       "        text-align: right;\n",
       "    }\n",
       "</style>\n",
       "<table border=\"1\" class=\"dataframe\">\n",
       "  <thead>\n",
       "    <tr style=\"text-align: right;\">\n",
       "      <th></th>\n",
       "      <th>Unix_Timestamp</th>\n",
       "      <th>Volume_CiVilium</th>\n",
       "      <th>Weighted_Price</th>\n",
       "    </tr>\n",
       "  </thead>\n",
       "  <tbody>\n",
       "    <tr>\n",
       "      <th>0</th>\n",
       "      <td>1325317920</td>\n",
       "      <td>0.455581</td>\n",
       "      <td>1.021950</td>\n",
       "    </tr>\n",
       "    <tr>\n",
       "      <th>1</th>\n",
       "      <td>1325346600</td>\n",
       "      <td>48.000000</td>\n",
       "      <td>1.021950</td>\n",
       "    </tr>\n",
       "    <tr>\n",
       "      <th>2</th>\n",
       "      <td>1325350740</td>\n",
       "      <td>37.862297</td>\n",
       "      <td>1.022632</td>\n",
       "    </tr>\n",
       "    <tr>\n",
       "      <th>3</th>\n",
       "      <td>1325350800</td>\n",
       "      <td>9.000000</td>\n",
       "      <td>1.022900</td>\n",
       "    </tr>\n",
       "    <tr>\n",
       "      <th>4</th>\n",
       "      <td>1325391360</td>\n",
       "      <td>1.502000</td>\n",
       "      <td>1.022900</td>\n",
       "    </tr>\n",
       "  </tbody>\n",
       "</table>\n",
       "</div>"
      ],
      "text/plain": [
       "   Unix_Timestamp  Volume_CiVilium  Weighted_Price\n",
       "0      1325317920         0.455581        1.021950\n",
       "1      1325346600        48.000000        1.021950\n",
       "2      1325350740        37.862297        1.022632\n",
       "3      1325350800         9.000000        1.022900\n",
       "4      1325391360         1.502000        1.022900"
      ]
     },
     "execution_count": 3,
     "metadata": {},
     "output_type": "execute_result"
    }
   ],
   "source": [
    "df.head()"
   ]
  },
  {
   "cell_type": "code",
   "execution_count": 4,
   "id": "eb9b734d-33f2-4b03-9f47-3f80562a62d3",
   "metadata": {},
   "outputs": [
    {
     "data": {
      "text/plain": [
       "(734002, 3)"
      ]
     },
     "execution_count": 4,
     "metadata": {},
     "output_type": "execute_result"
    }
   ],
   "source": [
    "df.shape"
   ]
  },
  {
   "cell_type": "code",
   "execution_count": 5,
   "id": "a9dd0bfc-03a3-4cde-95f2-9d87542db9e9",
   "metadata": {},
   "outputs": [
    {
     "name": "stdout",
     "output_type": "stream",
     "text": [
      "<class 'pandas.core.frame.DataFrame'>\n",
      "RangeIndex: 734002 entries, 0 to 734001\n",
      "Data columns (total 3 columns):\n",
      " #   Column           Non-Null Count   Dtype  \n",
      "---  ------           --------------   -----  \n",
      " 0   Unix_Timestamp   734002 non-null  int64  \n",
      " 1   Volume_CiVilium  734002 non-null  float64\n",
      " 2   Weighted_Price   734002 non-null  float64\n",
      "dtypes: float64(2), int64(1)\n",
      "memory usage: 16.8 MB\n"
     ]
    }
   ],
   "source": [
    "df.info()"
   ]
  },
  {
   "cell_type": "code",
   "execution_count": 6,
   "id": "8a23fc4d-9a03-4900-b3a5-9996a07864b3",
   "metadata": {},
   "outputs": [
    {
     "data": {
      "text/plain": [
       "Unix_Timestamp     0\n",
       "Volume_CiVilium    0\n",
       "Weighted_Price     0\n",
       "dtype: int64"
      ]
     },
     "execution_count": 6,
     "metadata": {},
     "output_type": "execute_result"
    }
   ],
   "source": [
    "df.isnull().sum()"
   ]
  },
  {
   "cell_type": "code",
   "execution_count": 7,
   "id": "195a3d92-799b-440e-8a52-102afbdad003",
   "metadata": {},
   "outputs": [],
   "source": [
    "dosya=pd.DataFrame()"
   ]
  },
  {
   "cell_type": "code",
   "execution_count": 8,
   "id": "1fd230f1-7086-4dce-b0c0-8301781cc479",
   "metadata": {},
   "outputs": [],
   "source": [
    "dosya[\"Unix_Timestamp\"]=df[\"Unix_Timestamp\"]"
   ]
  },
  {
   "cell_type": "code",
   "execution_count": 9,
   "id": "773ac49b-e7e3-43f1-acea-a74a82b35768",
   "metadata": {},
   "outputs": [],
   "source": [
    "df[\"Unix_Timestamp\"]=pd.to_datetime(df[\"Unix_Timestamp\"], unit='s')"
   ]
  },
  {
   "cell_type": "code",
   "execution_count": 10,
   "id": "ec8da78d-d129-4465-bf1d-c9f8aa52d53a",
   "metadata": {},
   "outputs": [],
   "source": [
    "df[\"date\"]=df[\"Unix_Timestamp\"].dt.date"
   ]
  },
  {
   "cell_type": "code",
   "execution_count": 11,
   "id": "45abe555-4dda-41cd-a595-b08bfb7743db",
   "metadata": {},
   "outputs": [],
   "source": [
    "df[\"time\"]=df[\"Unix_Timestamp\"].dt.time"
   ]
  },
  {
   "cell_type": "code",
   "execution_count": 12,
   "id": "884a2fbc-c780-4e22-9f65-4bb212daa047",
   "metadata": {},
   "outputs": [],
   "source": [
    "df=df.drop(\"Unix_Timestamp\",axis=1)"
   ]
  },
  {
   "cell_type": "code",
   "execution_count": 13,
   "id": "d332f4d0-eb53-4955-9e99-15b8d694332b",
   "metadata": {},
   "outputs": [
    {
     "data": {
      "text/html": [
       "<div>\n",
       "<style scoped>\n",
       "    .dataframe tbody tr th:only-of-type {\n",
       "        vertical-align: middle;\n",
       "    }\n",
       "\n",
       "    .dataframe tbody tr th {\n",
       "        vertical-align: top;\n",
       "    }\n",
       "\n",
       "    .dataframe thead th {\n",
       "        text-align: right;\n",
       "    }\n",
       "</style>\n",
       "<table border=\"1\" class=\"dataframe\">\n",
       "  <thead>\n",
       "    <tr style=\"text-align: right;\">\n",
       "      <th></th>\n",
       "      <th>Volume_CiVilium</th>\n",
       "      <th>Weighted_Price</th>\n",
       "      <th>date</th>\n",
       "      <th>time</th>\n",
       "    </tr>\n",
       "  </thead>\n",
       "  <tbody>\n",
       "    <tr>\n",
       "      <th>0</th>\n",
       "      <td>0.455581</td>\n",
       "      <td>1.021950</td>\n",
       "      <td>2011-12-31</td>\n",
       "      <td>07:52:00</td>\n",
       "    </tr>\n",
       "    <tr>\n",
       "      <th>1</th>\n",
       "      <td>48.000000</td>\n",
       "      <td>1.021950</td>\n",
       "      <td>2011-12-31</td>\n",
       "      <td>15:50:00</td>\n",
       "    </tr>\n",
       "    <tr>\n",
       "      <th>2</th>\n",
       "      <td>37.862297</td>\n",
       "      <td>1.022632</td>\n",
       "      <td>2011-12-31</td>\n",
       "      <td>16:59:00</td>\n",
       "    </tr>\n",
       "    <tr>\n",
       "      <th>3</th>\n",
       "      <td>9.000000</td>\n",
       "      <td>1.022900</td>\n",
       "      <td>2011-12-31</td>\n",
       "      <td>17:00:00</td>\n",
       "    </tr>\n",
       "    <tr>\n",
       "      <th>4</th>\n",
       "      <td>1.502000</td>\n",
       "      <td>1.022900</td>\n",
       "      <td>2012-01-01</td>\n",
       "      <td>04:16:00</td>\n",
       "    </tr>\n",
       "  </tbody>\n",
       "</table>\n",
       "</div>"
      ],
      "text/plain": [
       "   Volume_CiVilium  Weighted_Price        date      time\n",
       "0         0.455581        1.021950  2011-12-31  07:52:00\n",
       "1        48.000000        1.021950  2011-12-31  15:50:00\n",
       "2        37.862297        1.022632  2011-12-31  16:59:00\n",
       "3         9.000000        1.022900  2011-12-31  17:00:00\n",
       "4         1.502000        1.022900  2012-01-01  04:16:00"
      ]
     },
     "execution_count": 13,
     "metadata": {},
     "output_type": "execute_result"
    }
   ],
   "source": [
    "df.head()"
   ]
  },
  {
   "cell_type": "code",
   "execution_count": 14,
   "id": "e777aafc-4ef8-4ef1-b96e-44b8121a2289",
   "metadata": {},
   "outputs": [
    {
     "data": {
      "text/plain": [
       "date\n",
       "2013-12-07    1439\n",
       "2014-02-25    1438\n",
       "2013-12-09    1437\n",
       "2013-11-14    1436\n",
       "2013-12-08    1434\n",
       "              ... \n",
       "2012-01-08       2\n",
       "2012-02-11       2\n",
       "2012-01-07       1\n",
       "2012-01-02       1\n",
       "2012-01-28       1\n",
       "Name: count, Length: 1087, dtype: int64"
      ]
     },
     "execution_count": 14,
     "metadata": {},
     "output_type": "execute_result"
    }
   ],
   "source": [
    "df[\"date\"].value_counts()"
   ]
  },
  {
   "cell_type": "code",
   "execution_count": 62,
   "id": "831bc815-ad75-4901-b12f-897064788e38",
   "metadata": {},
   "outputs": [
    {
     "data": {
      "image/png": "[encoded data removed]",
      "text/plain": [
       "<Figure size 700x700 with 2 Axes>"
      ]
     },
     "metadata": {},
     "output_type": "display_data"
    }
   ],
   "source": [
    "plt.figure(figsize=(7,7))\n",
    "sns.heatmap(df.corr(numeric_only=True),annot=True, cmap=\"crest\");"
   ]
  },
  {
   "cell_type": "code",
   "execution_count": 16,
   "id": "fe2f72a4-57bf-4361-9c43-610f599cbaf4",
   "metadata": {},
   "outputs": [
    {
     "data": {
      "text/plain": [
       "<Axes: >"
      ]
     },
     "execution_count": 16,
     "metadata": {},
     "output_type": "execute_result"
    },
    {
     "data": {
      "image/png": "[encoded data removed]",
      "text/plain": [
       "<Figure size 640x480 with 1 Axes>"
      ]
     },
     "metadata": {},
     "output_type": "display_data"
    }
   ],
   "source": [
    "df.Weighted_Price.plot()"
   ]
  },
  {
   "cell_type": "code",
   "execution_count": 47,
   "id": "c500630d-9ce1-44c3-8cbe-bb6de2167f2c",
   "metadata": {},
   "outputs": [],
   "source": [
    "from statsmodels.tsa.seasonal import seasonal_decompose"
   ]
  },
  {
   "cell_type": "code",
   "execution_count": 48,
   "id": "ae1c747c-3f39-45a8-b5ea-938d9fd124cd",
   "metadata": {},
   "outputs": [
    {
     "data": {
      "image/png": "[encoded data removed]",
      "text/plain": [
       "<Figure size 1500x1000 with 4 Axes>"
      ]
     },
     "metadata": {},
     "output_type": "display_data"
    }
   ],
   "source": [
    "result=seasonal_decompose(df[\"Weighted_Price\"],model=\"multiplicative\",period=30)\n",
    "fig=result.plot()\n",
    "fig.set_size_inches(15,10)"
   ]
  },
  {
   "cell_type": "code",
   "execution_count": 17,
   "id": "7b0e344f-8d7f-4461-ab11-228a5d424203",
   "metadata": {},
   "outputs": [],
   "source": [
    "df=pd.read_csv(\"train_final.csv\")"
   ]
  },
  {
   "cell_type": "code",
   "execution_count": 18,
   "id": "e6ddf368-4a61-45cf-854a-c5a37198f37c",
   "metadata": {},
   "outputs": [],
   "source": [
    "x=df.drop(\"Weighted_Price\",axis=1)\n",
    "y=df[\"Weighted_Price\"]"
   ]
  },
  {
   "cell_type": "code",
   "execution_count": 19,
   "id": "1d46f9f4-77c6-4fe8-91a2-269fdd36a40e",
   "metadata": {},
   "outputs": [],
   "source": [
    "from sklearn.tree import DecisionTreeRegressor\n",
    "from sklearn.ensemble import GradientBoostingRegressor\n",
    "from xgboost import XGBRegressor"
   ]
  },
  {
   "cell_type": "code",
   "execution_count": 20,
   "id": "0da5521b-edb9-4d4e-8471-be8597ee2681",
   "metadata": {},
   "outputs": [],
   "source": [
    "from sklearn.model_selection import train_test_split\n",
    "from sklearn.metrics import mean_squared_error,r2_score,mean_absolute_error"
   ]
  },
  {
   "cell_type": "code",
   "execution_count": 21,
   "id": "3dcc337b-1e7f-4e75-a1ce-9c7d12fc5f61",
   "metadata": {},
   "outputs": [],
   "source": [
    "x_train,x_test,y_train,y_test=train_test_split(x,y,test_size=.20,random_state=42)"
   ]
  },
  {
   "cell_type": "code",
   "execution_count": 22,
   "id": "478a9a33-99d6-4b10-9ba5-31342527562c",
   "metadata": {},
   "outputs": [],
   "source": [
    "xgb=XGBRegressor()"
   ]
  },
  {
   "cell_type": "code",
   "execution_count": 24,
   "id": "0846afae-2492-44c5-9281-23beac2a2f8e",
   "metadata": {},
   "outputs": [],
   "source": [
    "mod1=xgb.fit(x_train,y_train)"
   ]
  },
  {
   "cell_type": "code",
   "execution_count": 25,
   "id": "375261fe-88bb-42c8-a2c9-6c3ebc7fff5d",
   "metadata": {},
   "outputs": [],
   "source": [
    "thmn1=xgb.predict(x_test)"
   ]
  },
  {
   "cell_type": "code",
   "execution_count": 27,
   "id": "b2e07fdd-8b4e-42d8-bb47-e9b8eacd3707",
   "metadata": {},
   "outputs": [
    {
     "data": {
      "text/plain": [
       "0.9954157834701824"
      ]
     },
     "execution_count": 27,
     "metadata": {},
     "output_type": "execute_result"
    }
   ],
   "source": [
    "r2_score(y_test,thmn1)"
   ]
  },
  {
   "cell_type": "code",
   "execution_count": 30,
   "id": "b9783af1-afca-4e2f-8c6f-131495f90425",
   "metadata": {},
   "outputs": [
    {
     "data": {
      "text/plain": [
       "0.08895180521893203"
      ]
     },
     "execution_count": 30,
     "metadata": {},
     "output_type": "execute_result"
    }
   ],
   "source": [
    "mean_squared_error(y_test,thmn1)**.5"
   ]
  },
  {
   "cell_type": "code",
   "execution_count": 69,
   "id": "e03a5bc5-7dcf-426d-b032-e26ad2b15bfc",
   "metadata": {},
   "outputs": [],
   "source": [
    "import pickle"
   ]
  },
  {
   "cell_type": "code",
   "execution_count": 70,
   "id": "3bb14efd-fe3d-4487-ade0-dcfc86b6085e",
   "metadata": {},
   "outputs": [],
   "source": [
    "pickle.dump(mod1,open(\"CiVilium.pkl\",\"wb\")) # Eğittiğimiz modeli kaydediyoruz"
   ]
  },
  {
   "cell_type": "code",
   "execution_count": 31,
   "id": "760a0336-cf0a-4e87-93dd-3f84b1deae34",
   "metadata": {},
   "outputs": [],
   "source": [
    "GBR=GradientBoostingRegressor()"
   ]
  },
  {
   "cell_type": "code",
   "execution_count": 32,
   "id": "dd924366-c308-4542-a353-a93a77811863",
   "metadata": {},
   "outputs": [],
   "source": [
    "mod2=GBR.fit(x_train,y_train)"
   ]
  },
  {
   "cell_type": "code",
   "execution_count": 33,
   "id": "6883dc94-c197-4a82-9b6f-924fa1c633f5",
   "metadata": {},
   "outputs": [],
   "source": [
    "thmn2=GBR.predict(x_test)"
   ]
  },
  {
   "cell_type": "code",
   "execution_count": 34,
   "id": "264f2b46-a595-47d5-a4ac-d3a6ebe4674c",
   "metadata": {},
   "outputs": [
    {
     "data": {
      "text/plain": [
       "0.9944731260215368"
      ]
     },
     "execution_count": 34,
     "metadata": {},
     "output_type": "execute_result"
    }
   ],
   "source": [
    "r2_score(y_test,thmn2)"
   ]
  },
  {
   "cell_type": "code",
   "execution_count": 35,
   "id": "a62a1a96-3ed6-469b-bf0c-6ef39ad643c0",
   "metadata": {},
   "outputs": [
    {
     "data": {
      "text/plain": [
       "0.09767017949981513"
      ]
     },
     "execution_count": 35,
     "metadata": {},
     "output_type": "execute_result"
    }
   ],
   "source": [
    "mean_squared_error(y_test,thmn2)**.5"
   ]
  },
  {
   "cell_type": "code",
   "execution_count": 36,
   "id": "d89478bc-9a1b-4898-9d6b-c5e3e4c2801c",
   "metadata": {},
   "outputs": [],
   "source": [
    "dt=DecisionTreeRegressor()"
   ]
  },
  {
   "cell_type": "code",
   "execution_count": 37,
   "id": "452662f0-7dc2-4f19-bf43-25054fd37a1f",
   "metadata": {},
   "outputs": [],
   "source": [
    "mod3=dt.fit(x_train,y_train)"
   ]
  },
  {
   "cell_type": "code",
   "execution_count": 38,
   "id": "ed7f747d-75cd-4f17-a9da-53894f70b7ce",
   "metadata": {},
   "outputs": [],
   "source": [
    "thmn3=dt.predict(x_test)"
   ]
  },
  {
   "cell_type": "code",
   "execution_count": 39,
   "id": "bb4facbe-3380-4245-b0e4-b24b0829f1a5",
   "metadata": {},
   "outputs": [
    {
     "data": {
      "text/plain": [
       "0.9999619391075918"
      ]
     },
     "execution_count": 39,
     "metadata": {},
     "output_type": "execute_result"
    }
   ],
   "source": [
    "r2_score(y_test,thmn3)"
   ]
  },
  {
   "cell_type": "code",
   "execution_count": 40,
   "id": "28b6c996-6121-4f3c-89cb-901002b6cb37",
   "metadata": {},
   "outputs": [
    {
     "data": {
      "text/plain": [
       "0.008105161788258158"
      ]
     },
     "execution_count": 40,
     "metadata": {},
     "output_type": "execute_result"
    }
   ],
   "source": [
    "mean_squared_error(y_test,thmn3)**.5"
   ]
  },
  {
   "cell_type": "code",
   "execution_count": 41,
   "id": "9f95ba28-c9a1-4396-8ef1-dbe2d0e7e581",
   "metadata": {},
   "outputs": [],
   "source": [
    "residuals=y_test-thmn1"
   ]
  },
  {
   "cell_type": "code",
   "execution_count": 42,
   "id": "53ce58ae-5071-4fea-a7e3-89290638ada0",
   "metadata": {},
   "outputs": [
    {
     "data": {
      "text/plain": [
       "<Axes: xlabel='Weighted_Price', ylabel='Count'>"
      ]
     },
     "execution_count": 42,
     "metadata": {},
     "output_type": "execute_result"
    },
    {
     "data": {
      "image/png": "[encoded data removed]",
      "text/plain": [
       "<Figure size 640x480 with 1 Axes>"
      ]
     },
     "metadata": {},
     "output_type": "display_data"
    }
   ],
   "source": [
    "sns.histplot(residuals,kde=True,bins=100)"
   ]
  },
  {
   "cell_type": "code",
   "execution_count": 43,
   "id": "b20f4a3c-301a-4b5d-abae-758993634832",
   "metadata": {},
   "outputs": [
    {
     "data": {
      "text/plain": [
       "<Axes: xlabel='Weighted_Price', ylabel='Density'>"
      ]
     },
     "execution_count": 43,
     "metadata": {},
     "output_type": "execute_result"
    },
    {
     "data": {
      "image/png": "[encoded data removed]",
      "text/plain": [
       "<Figure size 640x480 with 1 Axes>"
      ]
     },
     "metadata": {},
     "output_type": "display_data"
    }
   ],
   "source": [
    "sns.kdeplot(residuals, fill=True)"
   ]
  },
  {
   "cell_type": "code",
   "execution_count": 63,
   "id": "78253f71-00b3-4ca6-b9dd-69663c9515f0",
   "metadata": {},
   "outputs": [],
   "source": [
    "test=pd.read_csv(\"test_final.csv\")"
   ]
  },
  {
   "cell_type": "code",
   "execution_count": 65,
   "id": "04e0cf3b-0557-4863-96f6-1aba6b44ba93",
   "metadata": {},
   "outputs": [],
   "source": [
    "test[\"Weighted_Price\"]=xgb.predict(test)"
   ]
  },
  {
   "cell_type": "code",
   "execution_count": 67,
   "id": "3cf2d56d-f326-47bb-a12d-443229930976",
   "metadata": {},
   "outputs": [],
   "source": [
    "test=test.drop(\"Volume_CiVilium\",axis=1)"
   ]
  },
  {
   "cell_type": "code",
   "execution_count": 68,
   "id": "f7f47118-0b2d-45f2-b199-53a132f3ca8f",
   "metadata": {},
   "outputs": [],
   "source": [
    "test.to_csv(\"tahmin.csv\",index=False)"
   ]
  },
  {
   "cell_type": "markdown",
   "id": "e3e5e402-6ad1-454c-a06d-ccf42f617b47",
   "metadata": {},
   "source": [
    "### Deep Learning"
   ]
  },
  {
   "cell_type": "code",
   "execution_count": 50,
   "id": "4d5b7efd-ee73-4eee-984e-8bf1842ab2a8",
   "metadata": {},
   "outputs": [],
   "source": [
    "import tensorflow as tf\n",
    "from tensorflow.keras.models import Sequential\n",
    "from tensorflow.keras.layers import Dense\n",
    "\n",
    "from sklearn.preprocessing import normalize, scale"
   ]
  },
  {
   "cell_type": "code",
   "execution_count": 51,
   "id": "a18eb375-945a-4faa-b152-251e6ddcf98a",
   "metadata": {},
   "outputs": [
    {
     "name": "stderr",
     "output_type": "stream",
     "text": [
      "C:\\Users\\erkan\\anaconda3\\Lib\\site-packages\\sklearn\\preprocessing\\_data.py:261: UserWarning: Numerical issues were encountered when centering the data and might not be solved. Dataset may contain too large values. You may need to prescale your features.\n",
      "  warnings.warn(\n"
     ]
    }
   ],
   "source": [
    "x=scale(x)"
   ]
  },
  {
   "cell_type": "code",
   "execution_count": 52,
   "id": "59ee927d-c379-4e80-a987-963def434dd7",
   "metadata": {},
   "outputs": [],
   "source": [
    "x_train,x_test,y_train,y_test=train_test_split(x,y,test_size=.20 ,random_state=42)"
   ]
  },
  {
   "cell_type": "code",
   "execution_count": 53,
   "id": "86110e8e-2b1b-41cf-85e5-94ed24c7f445",
   "metadata": {},
   "outputs": [],
   "source": [
    "model=Sequential()\n",
    "model.add(Dense(120,activation=\"relu\")) \n",
    "model.add(Dense(64,activation=\"relu\"))\n",
    "model.add(Dense(30,activation=\"relu\"))\n",
    "model.add(Dense(20,activation=\"relu\"))\n",
    "model.add(Dense(4,activation=\"relu\"))\n",
    "model.add(Dense(1)) \n",
    "model.compile(loss=\"mse\", optimizer=\"adam\")   "
   ]
  },
  {
   "cell_type": "code",
   "execution_count": 54,
   "id": "9c3733de-6e4f-47bd-88df-11b691ad03e1",
   "metadata": {},
   "outputs": [
    {
     "name": "stdout",
     "output_type": "stream",
     "text": [
      "Epoch 1/500\n",
      "\u001b[1m4588/4588\u001b[0m \u001b[32m━━━━━━━━━━━━━━━━━━━━\u001b[0m\u001b[37m\u001b[0m \u001b[1m12s\u001b[0m 2ms/step - loss: 0.7215 - val_loss: 0.0391\n",
      "Epoch 2/500\n",
      "\u001b[1m4588/4588\u001b[0m \u001b[32m━━━━━━━━━━━━━━━━━━━━\u001b[0m\u001b[37m\u001b[0m \u001b[1m8s\u001b[0m 2ms/step - loss: 0.0367 - val_loss: 0.0334\n",
      "Epoch 3/500\n",
      "\u001b[1m4588/4588\u001b[0m \u001b[32m━━━━━━━━━━━━━━━━━━━━\u001b[0m\u001b[37m\u001b[0m \u001b[1m8s\u001b[0m 2ms/step - loss: 0.0326 - val_loss: 0.0297\n",
      "Epoch 4/500\n",
      "\u001b[1m4588/4588\u001b[0m \u001b[32m━━━━━━━━━━━━━━━━━━━━\u001b[0m\u001b[37m\u001b[0m \u001b[1m8s\u001b[0m 2ms/step - loss: 0.0294 - val_loss: 0.0262\n",
      "Epoch 5/500\n",
      "\u001b[1m4588/4588\u001b[0m \u001b[32m━━━━━━━━━━━━━━━━━━━━\u001b[0m\u001b[37m\u001b[0m \u001b[1m8s\u001b[0m 2ms/step - loss: 0.0271 - val_loss: 0.0188\n",
      "Epoch 6/500\n",
      "\u001b[1m4588/4588\u001b[0m \u001b[32m━━━━━━━━━━━━━━━━━━━━\u001b[0m\u001b[37m\u001b[0m \u001b[1m8s\u001b[0m 2ms/step - loss: 0.0222 - val_loss: 0.0200\n",
      "Epoch 7/500\n",
      "\u001b[1m4588/4588\u001b[0m \u001b[32m━━━━━━━━━━━━━━━━━━━━\u001b[0m\u001b[37m\u001b[0m \u001b[1m7s\u001b[0m 2ms/step - loss: 0.0200 - val_loss: 0.0168\n",
      "Epoch 8/500\n",
      "\u001b[1m4588/4588\u001b[0m \u001b[32m━━━━━━━━━━━━━━━━━━━━\u001b[0m\u001b[37m\u001b[0m \u001b[1m7s\u001b[0m 2ms/step - loss: 0.0182 - val_loss: 0.0171\n",
      "Epoch 9/500\n",
      "\u001b[1m4588/4588\u001b[0m \u001b[32m━━━━━━━━━━━━━━━━━━━━\u001b[0m\u001b[37m\u001b[0m \u001b[1m7s\u001b[0m 2ms/step - loss: 0.0172 - val_loss: 0.0167\n",
      "Epoch 10/500\n",
      "\u001b[1m4588/4588\u001b[0m \u001b[32m━━━━━━━━━━━━━━━━━━━━\u001b[0m\u001b[37m\u001b[0m \u001b[1m7s\u001b[0m 2ms/step - loss: 0.0169 - val_loss: 0.0144\n",
      "Epoch 11/500\n",
      "\u001b[1m4588/4588\u001b[0m \u001b[32m━━━━━━━━━━━━━━━━━━━━\u001b[0m\u001b[37m\u001b[0m \u001b[1m7s\u001b[0m 2ms/step - loss: 0.0164 - val_loss: 0.0151\n",
      "Epoch 12/500\n",
      "\u001b[1m4588/4588\u001b[0m \u001b[32m━━━━━━━━━━━━━━━━━━━━\u001b[0m\u001b[37m\u001b[0m \u001b[1m7s\u001b[0m 2ms/step - loss: 0.0152 - val_loss: 0.0128\n",
      "Epoch 13/500\n",
      "\u001b[1m4588/4588\u001b[0m \u001b[32m━━━━━━━━━━━━━━━━━━━━\u001b[0m\u001b[37m\u001b[0m \u001b[1m8s\u001b[0m 2ms/step - loss: 0.0147 - val_loss: 0.0124\n",
      "Epoch 14/500\n",
      "\u001b[1m4588/4588\u001b[0m \u001b[32m━━━━━━━━━━━━━━━━━━━━\u001b[0m\u001b[37m\u001b[0m \u001b[1m8s\u001b[0m 2ms/step - loss: 0.0147 - val_loss: 0.0125\n",
      "Epoch 15/500\n",
      "\u001b[1m4588/4588\u001b[0m \u001b[32m━━━━━━━━━━━━━━━━━━━━\u001b[0m\u001b[37m\u001b[0m \u001b[1m8s\u001b[0m 2ms/step - loss: 0.0137 - val_loss: 0.0118\n",
      "Epoch 16/500\n",
      "\u001b[1m4588/4588\u001b[0m \u001b[32m━━━━━━━━━━━━━━━━━━━━\u001b[0m\u001b[37m\u001b[0m \u001b[1m8s\u001b[0m 2ms/step - loss: 0.0136 - val_loss: 0.0120\n",
      "Epoch 17/500\n",
      "\u001b[1m4588/4588\u001b[0m \u001b[32m━━━━━━━━━━━━━━━━━━━━\u001b[0m\u001b[37m\u001b[0m \u001b[1m8s\u001b[0m 2ms/step - loss: 0.0129 - val_loss: 0.0106\n",
      "Epoch 18/500\n",
      "\u001b[1m4588/4588\u001b[0m \u001b[32m━━━━━━━━━━━━━━━━━━━━\u001b[0m\u001b[37m\u001b[0m \u001b[1m8s\u001b[0m 2ms/step - loss: 0.0123 - val_loss: 0.0111\n",
      "Epoch 19/500\n",
      "\u001b[1m4588/4588\u001b[0m \u001b[32m━━━━━━━━━━━━━━━━━━━━\u001b[0m\u001b[37m\u001b[0m \u001b[1m7s\u001b[0m 2ms/step - loss: 0.0116 - val_loss: 0.0106\n",
      "Epoch 20/500\n",
      "\u001b[1m4588/4588\u001b[0m \u001b[32m━━━━━━━━━━━━━━━━━━━━\u001b[0m\u001b[37m\u001b[0m \u001b[1m8s\u001b[0m 2ms/step - loss: 0.0114 - val_loss: 0.0104\n",
      "Epoch 21/500\n",
      "\u001b[1m4588/4588\u001b[0m \u001b[32m━━━━━━━━━━━━━━━━━━━━\u001b[0m\u001b[37m\u001b[0m \u001b[1m8s\u001b[0m 2ms/step - loss: 0.0113 - val_loss: 0.0104\n",
      "Epoch 22/500\n",
      "\u001b[1m4588/4588\u001b[0m \u001b[32m━━━━━━━━━━━━━━━━━━━━\u001b[0m\u001b[37m\u001b[0m \u001b[1m8s\u001b[0m 2ms/step - loss: 0.0107 - val_loss: 0.0086\n",
      "Epoch 23/500\n",
      "\u001b[1m4588/4588\u001b[0m \u001b[32m━━━━━━━━━━━━━━━━━━━━\u001b[0m\u001b[37m\u001b[0m \u001b[1m8s\u001b[0m 2ms/step - loss: 0.0102 - val_loss: 0.0114\n",
      "Epoch 24/500\n",
      "\u001b[1m4588/4588\u001b[0m \u001b[32m━━━━━━━━━━━━━━━━━━━━\u001b[0m\u001b[37m\u001b[0m \u001b[1m8s\u001b[0m 2ms/step - loss: 0.0101 - val_loss: 0.0086\n",
      "Epoch 25/500\n",
      "\u001b[1m4588/4588\u001b[0m \u001b[32m━━━━━━━━━━━━━━━━━━━━\u001b[0m\u001b[37m\u001b[0m \u001b[1m8s\u001b[0m 2ms/step - loss: 0.0097 - val_loss: 0.0086\n",
      "Epoch 26/500\n",
      "\u001b[1m4588/4588\u001b[0m \u001b[32m━━━━━━━━━━━━━━━━━━━━\u001b[0m\u001b[37m\u001b[0m \u001b[1m9s\u001b[0m 2ms/step - loss: 0.0092 - val_loss: 0.0079\n",
      "Epoch 27/500\n",
      "\u001b[1m4588/4588\u001b[0m \u001b[32m━━━━━━━━━━━━━━━━━━━━\u001b[0m\u001b[37m\u001b[0m \u001b[1m8s\u001b[0m 2ms/step - loss: 0.0093 - val_loss: 0.0083\n",
      "Epoch 28/500\n",
      "\u001b[1m4588/4588\u001b[0m \u001b[32m━━━━━━━━━━━━━━━━━━━━\u001b[0m\u001b[37m\u001b[0m \u001b[1m8s\u001b[0m 2ms/step - loss: 0.0088 - val_loss: 0.0079\n",
      "Epoch 29/500\n",
      "\u001b[1m4588/4588\u001b[0m \u001b[32m━━━━━━━━━━━━━━━━━━━━\u001b[0m\u001b[37m\u001b[0m \u001b[1m8s\u001b[0m 2ms/step - loss: 0.0088 - val_loss: 0.0080\n",
      "Epoch 30/500\n",
      "\u001b[1m4588/4588\u001b[0m \u001b[32m━━━━━━━━━━━━━━━━━━━━\u001b[0m\u001b[37m\u001b[0m \u001b[1m9s\u001b[0m 2ms/step - loss: 0.0087 - val_loss: 0.0079\n",
      "Epoch 31/500\n",
      "\u001b[1m4588/4588\u001b[0m \u001b[32m━━━━━━━━━━━━━━━━━━━━\u001b[0m\u001b[37m\u001b[0m \u001b[1m9s\u001b[0m 2ms/step - loss: 0.0083 - val_loss: 0.0088\n",
      "Epoch 32/500\n",
      "\u001b[1m4588/4588\u001b[0m \u001b[32m━━━━━━━━━━━━━━━━━━━━\u001b[0m\u001b[37m\u001b[0m \u001b[1m9s\u001b[0m 2ms/step - loss: 0.0087 - val_loss: 0.0078\n",
      "Epoch 33/500\n",
      "\u001b[1m4588/4588\u001b[0m \u001b[32m━━━━━━━━━━━━━━━━━━━━\u001b[0m\u001b[37m\u001b[0m \u001b[1m9s\u001b[0m 2ms/step - loss: 0.0085 - val_loss: 0.0073\n",
      "Epoch 34/500\n",
      "\u001b[1m4588/4588\u001b[0m \u001b[32m━━━━━━━━━━━━━━━━━━━━\u001b[0m\u001b[37m\u001b[0m \u001b[1m8s\u001b[0m 2ms/step - loss: 0.0085 - val_loss: 0.0076\n",
      "Epoch 35/500\n",
      "\u001b[1m4588/4588\u001b[0m \u001b[32m━━━━━━━━━━━━━━━━━━━━\u001b[0m\u001b[37m\u001b[0m \u001b[1m9s\u001b[0m 2ms/step - loss: 0.0081 - val_loss: 0.0081\n",
      "Epoch 36/500\n",
      "\u001b[1m4588/4588\u001b[0m \u001b[32m━━━━━━━━━━━━━━━━━━━━\u001b[0m\u001b[37m\u001b[0m \u001b[1m8s\u001b[0m 2ms/step - loss: 0.0078 - val_loss: 0.0069\n",
      "Epoch 37/500\n",
      "\u001b[1m4588/4588\u001b[0m \u001b[32m━━━━━━━━━━━━━━━━━━━━\u001b[0m\u001b[37m\u001b[0m \u001b[1m9s\u001b[0m 2ms/step - loss: 0.0081 - val_loss: 0.0083\n",
      "Epoch 38/500\n",
      "\u001b[1m4588/4588\u001b[0m \u001b[32m━━━━━━━━━━━━━━━━━━━━\u001b[0m\u001b[37m\u001b[0m \u001b[1m8s\u001b[0m 2ms/step - loss: 0.0083 - val_loss: 0.0075\n",
      "Epoch 39/500\n",
      "\u001b[1m4588/4588\u001b[0m \u001b[32m━━━━━━━━━━━━━━━━━━━━\u001b[0m\u001b[37m\u001b[0m \u001b[1m9s\u001b[0m 2ms/step - loss: 0.0079 - val_loss: 0.0085\n",
      "Epoch 40/500\n",
      "\u001b[1m4588/4588\u001b[0m \u001b[32m━━━━━━━━━━━━━━━━━━━━\u001b[0m\u001b[37m\u001b[0m \u001b[1m8s\u001b[0m 2ms/step - loss: 0.0076 - val_loss: 0.0080\n",
      "Epoch 41/500\n",
      "\u001b[1m4588/4588\u001b[0m \u001b[32m━━━━━━━━━━━━━━━━━━━━\u001b[0m\u001b[37m\u001b[0m \u001b[1m9s\u001b[0m 2ms/step - loss: 0.0078 - val_loss: 0.0090\n",
      "Epoch 42/500\n",
      "\u001b[1m4588/4588\u001b[0m \u001b[32m━━━━━━━━━━━━━━━━━━━━\u001b[0m\u001b[37m\u001b[0m \u001b[1m8s\u001b[0m 2ms/step - loss: 0.0075 - val_loss: 0.0063\n",
      "Epoch 43/500\n",
      "\u001b[1m4588/4588\u001b[0m \u001b[32m━━━━━━━━━━━━━━━━━━━━\u001b[0m\u001b[37m\u001b[0m \u001b[1m8s\u001b[0m 2ms/step - loss: 0.0073 - val_loss: 0.0079\n",
      "Epoch 44/500\n",
      "\u001b[1m4588/4588\u001b[0m \u001b[32m━━━━━━━━━━━━━━━━━━━━\u001b[0m\u001b[37m\u001b[0m \u001b[1m8s\u001b[0m 2ms/step - loss: 0.0074 - val_loss: 0.0065\n",
      "Epoch 45/500\n",
      "\u001b[1m4588/4588\u001b[0m \u001b[32m━━━━━━━━━━━━━━━━━━━━\u001b[0m\u001b[37m\u001b[0m \u001b[1m8s\u001b[0m 2ms/step - loss: 0.0072 - val_loss: 0.0075\n",
      "Epoch 46/500\n",
      "\u001b[1m4588/4588\u001b[0m \u001b[32m━━━━━━━━━━━━━━━━━━━━\u001b[0m\u001b[37m\u001b[0m \u001b[1m8s\u001b[0m 2ms/step - loss: 0.0072 - val_loss: 0.0083\n",
      "Epoch 47/500\n",
      "\u001b[1m4588/4588\u001b[0m \u001b[32m━━━━━━━━━━━━━━━━━━━━\u001b[0m\u001b[37m\u001b[0m \u001b[1m8s\u001b[0m 2ms/step - loss: 0.0070 - val_loss: 0.0067\n",
      "Epoch 48/500\n",
      "\u001b[1m4588/4588\u001b[0m \u001b[32m━━━━━━━━━━━━━━━━━━━━\u001b[0m\u001b[37m\u001b[0m \u001b[1m8s\u001b[0m 2ms/step - loss: 0.0070 - val_loss: 0.0059\n",
      "Epoch 49/500\n",
      "\u001b[1m4588/4588\u001b[0m \u001b[32m━━━━━━━━━━━━━━━━━━━━\u001b[0m\u001b[37m\u001b[0m \u001b[1m8s\u001b[0m 2ms/step - loss: 0.0068 - val_loss: 0.0072\n",
      "Epoch 50/500\n",
      "\u001b[1m4588/4588\u001b[0m \u001b[32m━━━━━━━━━━━━━━━━━━━━\u001b[0m\u001b[37m\u001b[0m \u001b[1m8s\u001b[0m 2ms/step - loss: 0.0068 - val_loss: 0.0055\n",
      "Epoch 51/500\n",
      "\u001b[1m4588/4588\u001b[0m \u001b[32m━━━━━━━━━━━━━━━━━━━━\u001b[0m\u001b[37m\u001b[0m \u001b[1m8s\u001b[0m 2ms/step - loss: 0.0071 - val_loss: 0.0070\n",
      "Epoch 52/500\n",
      "\u001b[1m4588/4588\u001b[0m \u001b[32m━━━━━━━━━━━━━━━━━━━━\u001b[0m\u001b[37m\u001b[0m \u001b[1m8s\u001b[0m 2ms/step - loss: 0.0069 - val_loss: 0.0064\n",
      "Epoch 53/500\n",
      "\u001b[1m4588/4588\u001b[0m \u001b[32m━━━━━━━━━━━━━━━━━━━━\u001b[0m\u001b[37m\u001b[0m \u001b[1m8s\u001b[0m 2ms/step - loss: 0.0065 - val_loss: 0.0056\n",
      "Epoch 54/500\n",
      "\u001b[1m4588/4588\u001b[0m \u001b[32m━━━━━━━━━━━━━━━━━━━━\u001b[0m\u001b[37m\u001b[0m \u001b[1m8s\u001b[0m 2ms/step - loss: 0.0066 - val_loss: 0.0066\n",
      "Epoch 55/500\n",
      "\u001b[1m4588/4588\u001b[0m \u001b[32m━━━━━━━━━━━━━━━━━━━━\u001b[0m\u001b[37m\u001b[0m \u001b[1m8s\u001b[0m 2ms/step - loss: 0.0071 - val_loss: 0.0054\n",
      "Epoch 56/500\n",
      "\u001b[1m4588/4588\u001b[0m \u001b[32m━━━━━━━━━━━━━━━━━━━━\u001b[0m\u001b[37m\u001b[0m \u001b[1m8s\u001b[0m 2ms/step - loss: 0.0064 - val_loss: 0.0058\n",
      "Epoch 57/500\n",
      "\u001b[1m4588/4588\u001b[0m \u001b[32m━━━━━━━━━━━━━━━━━━━━\u001b[0m\u001b[37m\u001b[0m \u001b[1m9s\u001b[0m 2ms/step - loss: 0.0066 - val_loss: 0.0056\n",
      "Epoch 58/500\n",
      "\u001b[1m4588/4588\u001b[0m \u001b[32m━━━━━━━━━━━━━━━━━━━━\u001b[0m\u001b[37m\u001b[0m \u001b[1m8s\u001b[0m 2ms/step - loss: 0.0066 - val_loss: 0.0080\n",
      "Epoch 59/500\n",
      "\u001b[1m4588/4588\u001b[0m \u001b[32m━━━━━━━━━━━━━━━━━━━━\u001b[0m\u001b[37m\u001b[0m \u001b[1m8s\u001b[0m 2ms/step - loss: 0.0065 - val_loss: 0.0060\n",
      "Epoch 60/500\n",
      "\u001b[1m4588/4588\u001b[0m \u001b[32m━━━━━━━━━━━━━━━━━━━━\u001b[0m\u001b[37m\u001b[0m \u001b[1m8s\u001b[0m 2ms/step - loss: 0.0061 - val_loss: 0.0058\n",
      "Epoch 61/500\n",
      "\u001b[1m4588/4588\u001b[0m \u001b[32m━━━━━━━━━━━━━━━━━━━━\u001b[0m\u001b[37m\u001b[0m \u001b[1m8s\u001b[0m 2ms/step - loss: 0.0065 - val_loss: 0.0055\n",
      "Epoch 62/500\n",
      "\u001b[1m4588/4588\u001b[0m \u001b[32m━━━━━━━━━━━━━━━━━━━━\u001b[0m\u001b[37m\u001b[0m \u001b[1m8s\u001b[0m 2ms/step - loss: 0.0061 - val_loss: 0.0053\n",
      "Epoch 63/500\n",
      "\u001b[1m4588/4588\u001b[0m \u001b[32m━━━━━━━━━━━━━━━━━━━━\u001b[0m\u001b[37m\u001b[0m \u001b[1m8s\u001b[0m 2ms/step - loss: 0.0065 - val_loss: 0.0055\n",
      "Epoch 64/500\n",
      "\u001b[1m4588/4588\u001b[0m \u001b[32m━━━━━━━━━━━━━━━━━━━━\u001b[0m\u001b[37m\u001b[0m \u001b[1m8s\u001b[0m 2ms/step - loss: 0.0064 - val_loss: 0.0066\n",
      "Epoch 65/500\n",
      "\u001b[1m4588/4588\u001b[0m \u001b[32m━━━━━━━━━━━━━━━━━━━━\u001b[0m\u001b[37m\u001b[0m \u001b[1m8s\u001b[0m 2ms/step - loss: 0.0061 - val_loss: 0.0054\n",
      "Epoch 66/500\n",
      "\u001b[1m4588/4588\u001b[0m \u001b[32m━━━━━━━━━━━━━━━━━━━━\u001b[0m\u001b[37m\u001b[0m \u001b[1m8s\u001b[0m 2ms/step - loss: 0.0062 - val_loss: 0.0073\n",
      "Epoch 67/500\n",
      "\u001b[1m4588/4588\u001b[0m \u001b[32m━━━━━━━━━━━━━━━━━━━━\u001b[0m\u001b[37m\u001b[0m \u001b[1m8s\u001b[0m 2ms/step - loss: 0.0063 - val_loss: 0.0064\n",
      "Epoch 68/500\n",
      "\u001b[1m4588/4588\u001b[0m \u001b[32m━━━━━━━━━━━━━━━━━━━━\u001b[0m\u001b[37m\u001b[0m \u001b[1m8s\u001b[0m 2ms/step - loss: 0.0063 - val_loss: 0.0059\n",
      "Epoch 69/500\n",
      "\u001b[1m4588/4588\u001b[0m \u001b[32m━━━━━━━━━━━━━━━━━━━━\u001b[0m\u001b[37m\u001b[0m \u001b[1m8s\u001b[0m 2ms/step - loss: 0.0062 - val_loss: 0.0060\n",
      "Epoch 70/500\n",
      "\u001b[1m4588/4588\u001b[0m \u001b[32m━━━━━━━━━━━━━━━━━━━━\u001b[0m\u001b[37m\u001b[0m \u001b[1m8s\u001b[0m 2ms/step - loss: 0.0059 - val_loss: 0.0053\n",
      "Epoch 71/500\n",
      "\u001b[1m4588/4588\u001b[0m \u001b[32m━━━━━━━━━━━━━━━━━━━━\u001b[0m\u001b[37m\u001b[0m \u001b[1m8s\u001b[0m 2ms/step - loss: 0.0058 - val_loss: 0.0062\n",
      "Epoch 72/500\n",
      "\u001b[1m4588/4588\u001b[0m \u001b[32m━━━━━━━━━━━━━━━━━━━━\u001b[0m\u001b[37m\u001b[0m \u001b[1m8s\u001b[0m 2ms/step - loss: 0.0059 - val_loss: 0.0056\n",
      "Epoch 73/500\n",
      "\u001b[1m4588/4588\u001b[0m \u001b[32m━━━━━━━━━━━━━━━━━━━━\u001b[0m\u001b[37m\u001b[0m \u001b[1m8s\u001b[0m 2ms/step - loss: 0.0058 - val_loss: 0.0053\n",
      "Epoch 74/500\n",
      "\u001b[1m4588/4588\u001b[0m \u001b[32m━━━━━━━━━━━━━━━━━━━━\u001b[0m\u001b[37m\u001b[0m \u001b[1m8s\u001b[0m 2ms/step - loss: 0.0059 - val_loss: 0.0051\n",
      "Epoch 75/500\n",
      "\u001b[1m4588/4588\u001b[0m \u001b[32m━━━━━━━━━━━━━━━━━━━━\u001b[0m\u001b[37m\u001b[0m \u001b[1m8s\u001b[0m 2ms/step - loss: 0.0056 - val_loss: 0.0044\n",
      "Epoch 76/500\n",
      "\u001b[1m4588/4588\u001b[0m \u001b[32m━━━━━━━━━━━━━━━━━━━━\u001b[0m\u001b[37m\u001b[0m \u001b[1m8s\u001b[0m 2ms/step - loss: 0.0058 - val_loss: 0.0056\n",
      "Epoch 77/500\n",
      "\u001b[1m4588/4588\u001b[0m \u001b[32m━━━━━━━━━━━━━━━━━━━━\u001b[0m\u001b[37m\u001b[0m \u001b[1m8s\u001b[0m 2ms/step - loss: 0.0059 - val_loss: 0.0063\n",
      "Epoch 78/500\n",
      "\u001b[1m4588/4588\u001b[0m \u001b[32m━━━━━━━━━━━━━━━━━━━━\u001b[0m\u001b[37m\u001b[0m \u001b[1m8s\u001b[0m 2ms/step - loss: 0.0060 - val_loss: 0.0053\n",
      "Epoch 79/500\n",
      "\u001b[1m4588/4588\u001b[0m \u001b[32m━━━━━━━━━━━━━━━━━━━━\u001b[0m\u001b[37m\u001b[0m \u001b[1m8s\u001b[0m 2ms/step - loss: 0.0060 - val_loss: 0.0062\n",
      "Epoch 80/500\n",
      "\u001b[1m4588/4588\u001b[0m \u001b[32m━━━━━━━━━━━━━━━━━━━━\u001b[0m\u001b[37m\u001b[0m \u001b[1m8s\u001b[0m 2ms/step - loss: 0.0059 - val_loss: 0.0049\n",
      "Epoch 81/500\n",
      "\u001b[1m4588/4588\u001b[0m \u001b[32m━━━━━━━━━━━━━━━━━━━━\u001b[0m\u001b[37m\u001b[0m \u001b[1m8s\u001b[0m 2ms/step - loss: 0.0056 - val_loss: 0.0057\n",
      "Epoch 82/500\n",
      "\u001b[1m4588/4588\u001b[0m \u001b[32m━━━━━━━━━━━━━━━━━━━━\u001b[0m\u001b[37m\u001b[0m \u001b[1m8s\u001b[0m 2ms/step - loss: 0.0057 - val_loss: 0.0066\n",
      "Epoch 83/500\n",
      "\u001b[1m4588/4588\u001b[0m \u001b[32m━━━━━━━━━━━━━━━━━━━━\u001b[0m\u001b[37m\u001b[0m \u001b[1m8s\u001b[0m 2ms/step - loss: 0.0054 - val_loss: 0.0053\n",
      "Epoch 84/500\n",
      "\u001b[1m4588/4588\u001b[0m \u001b[32m━━━━━━━━━━━━━━━━━━━━\u001b[0m\u001b[37m\u001b[0m \u001b[1m8s\u001b[0m 2ms/step - loss: 0.0054 - val_loss: 0.0052\n",
      "Epoch 85/500\n",
      "\u001b[1m4588/4588\u001b[0m \u001b[32m━━━━━━━━━━━━━━━━━━━━\u001b[0m\u001b[37m\u001b[0m \u001b[1m8s\u001b[0m 2ms/step - loss: 0.0055 - val_loss: 0.0051\n",
      "Epoch 86/500\n",
      "\u001b[1m4588/4588\u001b[0m \u001b[32m━━━━━━━━━━━━━━━━━━━━\u001b[0m\u001b[37m\u001b[0m \u001b[1m8s\u001b[0m 2ms/step - loss: 0.0056 - val_loss: 0.0055\n",
      "Epoch 87/500\n",
      "\u001b[1m4588/4588\u001b[0m \u001b[32m━━━━━━━━━━━━━━━━━━━━\u001b[0m\u001b[37m\u001b[0m \u001b[1m7s\u001b[0m 2ms/step - loss: 0.0059 - val_loss: 0.0046\n",
      "Epoch 88/500\n",
      "\u001b[1m4588/4588\u001b[0m \u001b[32m━━━━━━━━━━━━━━━━━━━━\u001b[0m\u001b[37m\u001b[0m \u001b[1m8s\u001b[0m 2ms/step - loss: 0.0055 - val_loss: 0.0053\n",
      "Epoch 89/500\n",
      "\u001b[1m4588/4588\u001b[0m \u001b[32m━━━━━━━━━━━━━━━━━━━━\u001b[0m\u001b[37m\u001b[0m \u001b[1m8s\u001b[0m 2ms/step - loss: 0.0056 - val_loss: 0.0048\n",
      "Epoch 90/500\n",
      "\u001b[1m4588/4588\u001b[0m \u001b[32m━━━━━━━━━━━━━━━━━━━━\u001b[0m\u001b[37m\u001b[0m \u001b[1m8s\u001b[0m 2ms/step - loss: 0.0055 - val_loss: 0.0084\n",
      "Epoch 91/500\n",
      "\u001b[1m4588/4588\u001b[0m \u001b[32m━━━━━━━━━━━━━━━━━━━━\u001b[0m\u001b[37m\u001b[0m \u001b[1m8s\u001b[0m 2ms/step - loss: 0.0057 - val_loss: 0.0046\n",
      "Epoch 92/500\n",
      "\u001b[1m4588/4588\u001b[0m \u001b[32m━━━━━━━━━━━━━━━━━━━━\u001b[0m\u001b[37m\u001b[0m \u001b[1m8s\u001b[0m 2ms/step - loss: 0.0056 - val_loss: 0.0048\n",
      "Epoch 93/500\n",
      "\u001b[1m4588/4588\u001b[0m \u001b[32m━━━━━━━━━━━━━━━━━━━━\u001b[0m\u001b[37m\u001b[0m \u001b[1m8s\u001b[0m 2ms/step - loss: 0.0053 - val_loss: 0.0053\n",
      "Epoch 94/500\n",
      "\u001b[1m4588/4588\u001b[0m \u001b[32m━━━━━━━━━━━━━━━━━━━━\u001b[0m\u001b[37m\u001b[0m \u001b[1m8s\u001b[0m 2ms/step - loss: 0.0054 - val_loss: 0.0050\n",
      "Epoch 95/500\n",
      "\u001b[1m4588/4588\u001b[0m \u001b[32m━━━━━━━━━━━━━━━━━━━━\u001b[0m\u001b[37m\u001b[0m \u001b[1m8s\u001b[0m 2ms/step - loss: 0.0056 - val_loss: 0.0055\n",
      "Epoch 96/500\n",
      "\u001b[1m4588/4588\u001b[0m \u001b[32m━━━━━━━━━━━━━━━━━━━━\u001b[0m\u001b[37m\u001b[0m \u001b[1m8s\u001b[0m 2ms/step - loss: 0.0056 - val_loss: 0.0055\n",
      "Epoch 97/500\n",
      "\u001b[1m4588/4588\u001b[0m \u001b[32m━━━━━━━━━━━━━━━━━━━━\u001b[0m\u001b[37m\u001b[0m \u001b[1m8s\u001b[0m 2ms/step - loss: 0.0057 - val_loss: 0.0053\n",
      "Epoch 98/500\n",
      "\u001b[1m4588/4588\u001b[0m \u001b[32m━━━━━━━━━━━━━━━━━━━━\u001b[0m\u001b[37m\u001b[0m \u001b[1m8s\u001b[0m 2ms/step - loss: 0.0056 - val_loss: 0.0049\n",
      "Epoch 99/500\n",
      "\u001b[1m4588/4588\u001b[0m \u001b[32m━━━━━━━━━━━━━━━━━━━━\u001b[0m\u001b[37m\u001b[0m \u001b[1m8s\u001b[0m 2ms/step - loss: 0.0055 - val_loss: 0.0052\n",
      "Epoch 100/500\n",
      "\u001b[1m4588/4588\u001b[0m \u001b[32m━━━━━━━━━━━━━━━━━━━━\u001b[0m\u001b[37m\u001b[0m \u001b[1m9s\u001b[0m 2ms/step - loss: 0.0055 - val_loss: 0.0048\n",
      "Epoch 101/500\n",
      "\u001b[1m4588/4588\u001b[0m \u001b[32m━━━━━━━━━━━━━━━━━━━━\u001b[0m\u001b[37m\u001b[0m \u001b[1m8s\u001b[0m 2ms/step - loss: 0.0054 - val_loss: 0.0105\n",
      "Epoch 102/500\n",
      "\u001b[1m4588/4588\u001b[0m \u001b[32m━━━━━━━━━━━━━━━━━━━━\u001b[0m\u001b[37m\u001b[0m \u001b[1m8s\u001b[0m 2ms/step - loss: 0.0057 - val_loss: 0.0044\n",
      "Epoch 103/500\n",
      "\u001b[1m4588/4588\u001b[0m \u001b[32m━━━━━━━━━━━━━━━━━━━━\u001b[0m\u001b[37m\u001b[0m \u001b[1m8s\u001b[0m 2ms/step - loss: 0.0053 - val_loss: 0.0056\n",
      "Epoch 104/500\n",
      "\u001b[1m4588/4588\u001b[0m \u001b[32m━━━━━━━━━━━━━━━━━━━━\u001b[0m\u001b[37m\u001b[0m \u001b[1m9s\u001b[0m 2ms/step - loss: 0.0053 - val_loss: 0.0062\n",
      "Epoch 105/500\n",
      "\u001b[1m4588/4588\u001b[0m \u001b[32m━━━━━━━━━━━━━━━━━━━━\u001b[0m\u001b[37m\u001b[0m \u001b[1m9s\u001b[0m 2ms/step - loss: 0.0053 - val_loss: 0.0051\n",
      "Epoch 106/500\n",
      "\u001b[1m4588/4588\u001b[0m \u001b[32m━━━━━━━━━━━━━━━━━━━━\u001b[0m\u001b[37m\u001b[0m \u001b[1m8s\u001b[0m 2ms/step - loss: 0.0053 - val_loss: 0.0073\n",
      "Epoch 107/500\n",
      "\u001b[1m4588/4588\u001b[0m \u001b[32m━━━━━━━━━━━━━━━━━━━━\u001b[0m\u001b[37m\u001b[0m \u001b[1m8s\u001b[0m 2ms/step - loss: 0.0055 - val_loss: 0.0047\n",
      "Epoch 108/500\n",
      "\u001b[1m4588/4588\u001b[0m \u001b[32m━━━━━━━━━━━━━━━━━━━━\u001b[0m\u001b[37m\u001b[0m \u001b[1m8s\u001b[0m 2ms/step - loss: 0.0051 - val_loss: 0.0044\n",
      "Epoch 109/500\n",
      "\u001b[1m4588/4588\u001b[0m \u001b[32m━━━━━━━━━━━━━━━━━━━━\u001b[0m\u001b[37m\u001b[0m \u001b[1m8s\u001b[0m 2ms/step - loss: 0.0052 - val_loss: 0.0059\n",
      "Epoch 110/500\n",
      "\u001b[1m4588/4588\u001b[0m \u001b[32m━━━━━━━━━━━━━━━━━━━━\u001b[0m\u001b[37m\u001b[0m \u001b[1m8s\u001b[0m 2ms/step - loss: 0.0051 - val_loss: 0.0049\n",
      "Epoch 111/500\n",
      "\u001b[1m4588/4588\u001b[0m \u001b[32m━━━━━━━━━━━━━━━━━━━━\u001b[0m\u001b[37m\u001b[0m \u001b[1m8s\u001b[0m 2ms/step - loss: 0.0051 - val_loss: 0.0042\n",
      "Epoch 112/500\n",
      "\u001b[1m4588/4588\u001b[0m \u001b[32m━━━━━━━━━━━━━━━━━━━━\u001b[0m\u001b[37m\u001b[0m \u001b[1m8s\u001b[0m 2ms/step - loss: 0.0053 - val_loss: 0.0047\n",
      "Epoch 113/500\n",
      "\u001b[1m4588/4588\u001b[0m \u001b[32m━━━━━━━━━━━━━━━━━━━━\u001b[0m\u001b[37m\u001b[0m \u001b[1m8s\u001b[0m 2ms/step - loss: 0.0051 - val_loss: 0.0050\n",
      "Epoch 114/500\n",
      "\u001b[1m4588/4588\u001b[0m \u001b[32m━━━━━━━━━━━━━━━━━━━━\u001b[0m\u001b[37m\u001b[0m \u001b[1m8s\u001b[0m 2ms/step - loss: 0.0054 - val_loss: 0.0056\n",
      "Epoch 115/500\n",
      "\u001b[1m4588/4588\u001b[0m \u001b[32m━━━━━━━━━━━━━━━━━━━━\u001b[0m\u001b[37m\u001b[0m \u001b[1m8s\u001b[0m 2ms/step - loss: 0.0050 - val_loss: 0.0044\n",
      "Epoch 116/500\n",
      "\u001b[1m4588/4588\u001b[0m \u001b[32m━━━━━━━━━━━━━━━━━━━━\u001b[0m\u001b[37m\u001b[0m \u001b[1m8s\u001b[0m 2ms/step - loss: 0.0050 - val_loss: 0.0047\n",
      "Epoch 117/500\n",
      "\u001b[1m4588/4588\u001b[0m \u001b[32m━━━━━━━━━━━━━━━━━━━━\u001b[0m\u001b[37m\u001b[0m \u001b[1m8s\u001b[0m 2ms/step - loss: 0.0050 - val_loss: 0.0058\n",
      "Epoch 118/500\n",
      "\u001b[1m4588/4588\u001b[0m \u001b[32m━━━━━━━━━━━━━━━━━━━━\u001b[0m\u001b[37m\u001b[0m \u001b[1m8s\u001b[0m 2ms/step - loss: 0.0052 - val_loss: 0.0057\n",
      "Epoch 119/500\n",
      "\u001b[1m4588/4588\u001b[0m \u001b[32m━━━━━━━━━━━━━━━━━━━━\u001b[0m\u001b[37m\u001b[0m \u001b[1m8s\u001b[0m 2ms/step - loss: 0.0052 - val_loss: 0.0048\n",
      "Epoch 120/500\n",
      "\u001b[1m4588/4588\u001b[0m \u001b[32m━━━━━━━━━━━━━━━━━━━━\u001b[0m\u001b[37m\u001b[0m \u001b[1m8s\u001b[0m 2ms/step - loss: 0.0050 - val_loss: 0.0043\n",
      "Epoch 121/500\n",
      "\u001b[1m4588/4588\u001b[0m \u001b[32m━━━━━━━━━━━━━━━━━━━━\u001b[0m\u001b[37m\u001b[0m \u001b[1m8s\u001b[0m 2ms/step - loss: 0.0049 - val_loss: 0.0053\n",
      "Epoch 122/500\n",
      "\u001b[1m4588/4588\u001b[0m \u001b[32m━━━━━━━━━━━━━━━━━━━━\u001b[0m\u001b[37m\u001b[0m \u001b[1m8s\u001b[0m 2ms/step - loss: 0.0050 - val_loss: 0.0054\n",
      "Epoch 123/500\n",
      "\u001b[1m4588/4588\u001b[0m \u001b[32m━━━━━━━━━━━━━━━━━━━━\u001b[0m\u001b[37m\u001b[0m \u001b[1m8s\u001b[0m 2ms/step - loss: 0.0051 - val_loss: 0.0038\n",
      "Epoch 124/500\n",
      "\u001b[1m4588/4588\u001b[0m \u001b[32m━━━━━━━━━━━━━━━━━━━━\u001b[0m\u001b[37m\u001b[0m \u001b[1m8s\u001b[0m 2ms/step - loss: 0.0050 - val_loss: 0.0052\n",
      "Epoch 125/500\n",
      "\u001b[1m4588/4588\u001b[0m \u001b[32m━━━━━━━━━━━━━━━━━━━━\u001b[0m\u001b[37m\u001b[0m \u001b[1m8s\u001b[0m 2ms/step - loss: 0.0053 - val_loss: 0.0054\n",
      "Epoch 126/500\n",
      "\u001b[1m4588/4588\u001b[0m \u001b[32m━━━━━━━━━━━━━━━━━━━━\u001b[0m\u001b[37m\u001b[0m \u001b[1m8s\u001b[0m 2ms/step - loss: 0.0058 - val_loss: 0.0047\n",
      "Epoch 127/500\n",
      "\u001b[1m4588/4588\u001b[0m \u001b[32m━━━━━━━━━━━━━━━━━━━━\u001b[0m\u001b[37m\u001b[0m \u001b[1m8s\u001b[0m 2ms/step - loss: 0.0051 - val_loss: 0.0042\n",
      "Epoch 128/500\n",
      "\u001b[1m4588/4588\u001b[0m \u001b[32m━━━━━━━━━━━━━━━━━━━━\u001b[0m\u001b[37m\u001b[0m \u001b[1m7s\u001b[0m 2ms/step - loss: 0.0048 - val_loss: 0.0049\n",
      "Epoch 129/500\n",
      "\u001b[1m4588/4588\u001b[0m \u001b[32m━━━━━━━━━━━━━━━━━━━━\u001b[0m\u001b[37m\u001b[0m \u001b[1m8s\u001b[0m 2ms/step - loss: 0.0052 - val_loss: 0.0047\n",
      "Epoch 130/500\n",
      "\u001b[1m4588/4588\u001b[0m \u001b[32m━━━━━━━━━━━━━━━━━━━━\u001b[0m\u001b[37m\u001b[0m \u001b[1m8s\u001b[0m 2ms/step - loss: 0.0047 - val_loss: 0.0068\n",
      "Epoch 131/500\n",
      "\u001b[1m4588/4588\u001b[0m \u001b[32m━━━━━━━━━━━━━━━━━━━━\u001b[0m\u001b[37m\u001b[0m \u001b[1m8s\u001b[0m 2ms/step - loss: 0.0050 - val_loss: 0.0039\n",
      "Epoch 132/500\n",
      "\u001b[1m4588/4588\u001b[0m \u001b[32m━━━━━━━━━━━━━━━━━━━━\u001b[0m\u001b[37m\u001b[0m \u001b[1m8s\u001b[0m 2ms/step - loss: 0.0047 - val_loss: 0.0048\n",
      "Epoch 133/500\n",
      "\u001b[1m4588/4588\u001b[0m \u001b[32m━━━━━━━━━━━━━━━━━━━━\u001b[0m\u001b[37m\u001b[0m \u001b[1m8s\u001b[0m 2ms/step - loss: 0.0048 - val_loss: 0.0052\n",
      "Epoch 134/500\n",
      "\u001b[1m4588/4588\u001b[0m \u001b[32m━━━━━━━━━━━━━━━━━━━━\u001b[0m\u001b[37m\u001b[0m \u001b[1m8s\u001b[0m 2ms/step - loss: 0.0048 - val_loss: 0.0053\n",
      "Epoch 135/500\n",
      "\u001b[1m4588/4588\u001b[0m \u001b[32m━━━━━━━━━━━━━━━━━━━━\u001b[0m\u001b[37m\u001b[0m \u001b[1m8s\u001b[0m 2ms/step - loss: 0.0050 - val_loss: 0.0053\n",
      "Epoch 136/500\n",
      "\u001b[1m4588/4588\u001b[0m \u001b[32m━━━━━━━━━━━━━━━━━━━━\u001b[0m\u001b[37m\u001b[0m \u001b[1m8s\u001b[0m 2ms/step - loss: 0.0050 - val_loss: 0.0048\n",
      "Epoch 137/500\n",
      "\u001b[1m4588/4588\u001b[0m \u001b[32m━━━━━━━━━━━━━━━━━━━━\u001b[0m\u001b[37m\u001b[0m \u001b[1m8s\u001b[0m 2ms/step - loss: 0.0049 - val_loss: 0.0048\n",
      "Epoch 138/500\n",
      "\u001b[1m4588/4588\u001b[0m \u001b[32m━━━━━━━━━━━━━━━━━━━━\u001b[0m\u001b[37m\u001b[0m \u001b[1m8s\u001b[0m 2ms/step - loss: 0.0049 - val_loss: 0.0063\n",
      "Epoch 139/500\n",
      "\u001b[1m4588/4588\u001b[0m \u001b[32m━━━━━━━━━━━━━━━━━━━━\u001b[0m\u001b[37m\u001b[0m \u001b[1m8s\u001b[0m 2ms/step - loss: 0.0049 - val_loss: 0.0046\n",
      "Epoch 140/500\n",
      "\u001b[1m4588/4588\u001b[0m \u001b[32m━━━━━━━━━━━━━━━━━━━━\u001b[0m\u001b[37m\u001b[0m \u001b[1m8s\u001b[0m 2ms/step - loss: 0.0051 - val_loss: 0.0050\n",
      "Epoch 141/500\n",
      "\u001b[1m4588/4588\u001b[0m \u001b[32m━━━━━━━━━━━━━━━━━━━━\u001b[0m\u001b[37m\u001b[0m \u001b[1m9s\u001b[0m 2ms/step - loss: 0.0049 - val_loss: 0.0040\n",
      "Epoch 142/500\n",
      "\u001b[1m4588/4588\u001b[0m \u001b[32m━━━━━━━━━━━━━━━━━━━━\u001b[0m\u001b[37m\u001b[0m \u001b[1m8s\u001b[0m 2ms/step - loss: 0.0044 - val_loss: 0.0048\n",
      "Epoch 143/500\n",
      "\u001b[1m4588/4588\u001b[0m \u001b[32m━━━━━━━━━━━━━━━━━━━━\u001b[0m\u001b[37m\u001b[0m \u001b[1m8s\u001b[0m 2ms/step - loss: 0.0049 - val_loss: 0.0051\n",
      "Epoch 144/500\n",
      "\u001b[1m4588/4588\u001b[0m \u001b[32m━━━━━━━━━━━━━━━━━━━━\u001b[0m\u001b[37m\u001b[0m \u001b[1m8s\u001b[0m 2ms/step - loss: 0.0047 - val_loss: 0.0043\n",
      "Epoch 145/500\n",
      "\u001b[1m4588/4588\u001b[0m \u001b[32m━━━━━━━━━━━━━━━━━━━━\u001b[0m\u001b[37m\u001b[0m \u001b[1m8s\u001b[0m 2ms/step - loss: 0.0048 - val_loss: 0.0039\n",
      "Epoch 146/500\n",
      "\u001b[1m4588/4588\u001b[0m \u001b[32m━━━━━━━━━━━━━━━━━━━━\u001b[0m\u001b[37m\u001b[0m \u001b[1m8s\u001b[0m 2ms/step - loss: 0.0048 - val_loss: 0.0050\n",
      "Epoch 147/500\n",
      "\u001b[1m4588/4588\u001b[0m \u001b[32m━━━━━━━━━━━━━━━━━━━━\u001b[0m\u001b[37m\u001b[0m \u001b[1m8s\u001b[0m 2ms/step - loss: 0.0050 - val_loss: 0.0049\n",
      "Epoch 148/500\n",
      "\u001b[1m4588/4588\u001b[0m \u001b[32m━━━━━━━━━━━━━━━━━━━━\u001b[0m\u001b[37m\u001b[0m \u001b[1m8s\u001b[0m 2ms/step - loss: 0.0047 - val_loss: 0.0051\n",
      "Epoch 149/500\n",
      "\u001b[1m4588/4588\u001b[0m \u001b[32m━━━━━━━━━━━━━━━━━━━━\u001b[0m\u001b[37m\u001b[0m \u001b[1m8s\u001b[0m 2ms/step - loss: 0.0049 - val_loss: 0.0042\n",
      "Epoch 150/500\n",
      "\u001b[1m4588/4588\u001b[0m \u001b[32m━━━━━━━━━━━━━━━━━━━━\u001b[0m\u001b[37m\u001b[0m \u001b[1m8s\u001b[0m 2ms/step - loss: 0.0049 - val_loss: 0.0042\n",
      "Epoch 151/500\n",
      "\u001b[1m4588/4588\u001b[0m \u001b[32m━━━━━━━━━━━━━━━━━━━━\u001b[0m\u001b[37m\u001b[0m \u001b[1m8s\u001b[0m 2ms/step - loss: 0.0050 - val_loss: 0.0057\n",
      "Epoch 152/500\n",
      "\u001b[1m4588/4588\u001b[0m \u001b[32m━━━━━━━━━━━━━━━━━━━━\u001b[0m\u001b[37m\u001b[0m \u001b[1m8s\u001b[0m 2ms/step - loss: 0.0063 - val_loss: 0.0054\n",
      "Epoch 153/500\n",
      "\u001b[1m4588/4588\u001b[0m \u001b[32m━━━━━━━━━━━━━━━━━━━━\u001b[0m\u001b[37m\u001b[0m \u001b[1m8s\u001b[0m 2ms/step - loss: 0.0067 - val_loss: 0.0061\n",
      "Epoch 154/500\n",
      "\u001b[1m4588/4588\u001b[0m \u001b[32m━━━━━━━━━━━━━━━━━━━━\u001b[0m\u001b[37m\u001b[0m \u001b[1m8s\u001b[0m 2ms/step - loss: 0.0062 - val_loss: 0.0063\n",
      "Epoch 155/500\n",
      "\u001b[1m4588/4588\u001b[0m \u001b[32m━━━━━━━━━━━━━━━━━━━━\u001b[0m\u001b[37m\u001b[0m \u001b[1m8s\u001b[0m 2ms/step - loss: 0.0062 - val_loss: 0.0052\n",
      "Epoch 156/500\n",
      "\u001b[1m4588/4588\u001b[0m \u001b[32m━━━━━━━━━━━━━━━━━━━━\u001b[0m\u001b[37m\u001b[0m \u001b[1m10s\u001b[0m 2ms/step - loss: 0.0060 - val_loss: 0.0063\n",
      "Epoch 157/500\n",
      "\u001b[1m4588/4588\u001b[0m \u001b[32m━━━━━━━━━━━━━━━━━━━━\u001b[0m\u001b[37m\u001b[0m \u001b[1m8s\u001b[0m 2ms/step - loss: 0.0061 - val_loss: 0.0055\n",
      "Epoch 158/500\n",
      "\u001b[1m4588/4588\u001b[0m \u001b[32m━━━━━━━━━━━━━━━━━━━━\u001b[0m\u001b[37m\u001b[0m \u001b[1m8s\u001b[0m 2ms/step - loss: 0.0060 - val_loss: 0.0064\n",
      "Epoch 159/500\n",
      "\u001b[1m4588/4588\u001b[0m \u001b[32m━━━━━━━━━━━━━━━━━━━━\u001b[0m\u001b[37m\u001b[0m \u001b[1m8s\u001b[0m 2ms/step - loss: 0.0061 - val_loss: 0.0056\n",
      "Epoch 160/500\n",
      "\u001b[1m4588/4588\u001b[0m \u001b[32m━━━━━━━━━━━━━━━━━━━━\u001b[0m\u001b[37m\u001b[0m \u001b[1m8s\u001b[0m 2ms/step - loss: 0.0060 - val_loss: 0.0052\n",
      "Epoch 161/500\n",
      "\u001b[1m4588/4588\u001b[0m \u001b[32m━━━━━━━━━━━━━━━━━━━━\u001b[0m\u001b[37m\u001b[0m \u001b[1m8s\u001b[0m 2ms/step - loss: 0.0062 - val_loss: 0.0054\n",
      "Epoch 162/500\n",
      "\u001b[1m4588/4588\u001b[0m \u001b[32m━━━━━━━━━━━━━━━━━━━━\u001b[0m\u001b[37m\u001b[0m \u001b[1m8s\u001b[0m 2ms/step - loss: 0.0062 - val_loss: 0.0058\n",
      "Epoch 163/500\n",
      "\u001b[1m4588/4588\u001b[0m \u001b[32m━━━━━━━━━━━━━━━━━━━━\u001b[0m\u001b[37m\u001b[0m \u001b[1m8s\u001b[0m 2ms/step - loss: 0.0060 - val_loss: 0.0060\n",
      "Epoch 164/500\n",
      "\u001b[1m4588/4588\u001b[0m \u001b[32m━━━━━━━━━━━━━━━━━━━━\u001b[0m\u001b[37m\u001b[0m \u001b[1m8s\u001b[0m 2ms/step - loss: 0.0065 - val_loss: 0.0073\n",
      "Epoch 165/500\n",
      "\u001b[1m4588/4588\u001b[0m \u001b[32m━━━━━━━━━━━━━━━━━━━━\u001b[0m\u001b[37m\u001b[0m \u001b[1m8s\u001b[0m 2ms/step - loss: 0.0061 - val_loss: 0.0054\n",
      "Epoch 166/500\n",
      "\u001b[1m4588/4588\u001b[0m \u001b[32m━━━━━━━━━━━━━━━━━━━━\u001b[0m\u001b[37m\u001b[0m \u001b[1m8s\u001b[0m 2ms/step - loss: 0.0062 - val_loss: 0.0069\n",
      "Epoch 167/500\n",
      "\u001b[1m4588/4588\u001b[0m \u001b[32m━━━━━━━━━━━━━━━━━━━━\u001b[0m\u001b[37m\u001b[0m \u001b[1m8s\u001b[0m 2ms/step - loss: 0.0063 - val_loss: 0.0052\n",
      "Epoch 168/500\n",
      "\u001b[1m4588/4588\u001b[0m \u001b[32m━━━━━━━━━━━━━━━━━━━━\u001b[0m\u001b[37m\u001b[0m \u001b[1m8s\u001b[0m 2ms/step - loss: 0.0060 - val_loss: 0.0055\n",
      "Epoch 169/500\n",
      "\u001b[1m4588/4588\u001b[0m \u001b[32m━━━━━━━━━━━━━━━━━━━━\u001b[0m\u001b[37m\u001b[0m \u001b[1m8s\u001b[0m 2ms/step - loss: 0.0062 - val_loss: 0.0117\n",
      "Epoch 170/500\n",
      "\u001b[1m4588/4588\u001b[0m \u001b[32m━━━━━━━━━━━━━━━━━━━━\u001b[0m\u001b[37m\u001b[0m \u001b[1m8s\u001b[0m 2ms/step - loss: 0.0063 - val_loss: 0.0056\n",
      "Epoch 171/500\n",
      "\u001b[1m4588/4588\u001b[0m \u001b[32m━━━━━━━━━━━━━━━━━━━━\u001b[0m\u001b[37m\u001b[0m \u001b[1m8s\u001b[0m 2ms/step - loss: 0.0060 - val_loss: 0.0061\n",
      "Epoch 172/500\n",
      "\u001b[1m4588/4588\u001b[0m \u001b[32m━━━━━━━━━━━━━━━━━━━━\u001b[0m\u001b[37m\u001b[0m \u001b[1m8s\u001b[0m 2ms/step - loss: 0.0058 - val_loss: 0.0054\n",
      "Epoch 173/500\n",
      "\u001b[1m4588/4588\u001b[0m \u001b[32m━━━━━━━━━━━━━━━━━━━━\u001b[0m\u001b[37m\u001b[0m \u001b[1m8s\u001b[0m 2ms/step - loss: 0.0059 - val_loss: 0.0055\n",
      "Epoch 174/500\n",
      "\u001b[1m4588/4588\u001b[0m \u001b[32m━━━━━━━━━━━━━━━━━━━━\u001b[0m\u001b[37m\u001b[0m \u001b[1m8s\u001b[0m 2ms/step - loss: 0.0059 - val_loss: 0.0053\n",
      "Epoch 175/500\n",
      "\u001b[1m4588/4588\u001b[0m \u001b[32m━━━━━━━━━━━━━━━━━━━━\u001b[0m\u001b[37m\u001b[0m \u001b[1m8s\u001b[0m 2ms/step - loss: 0.0060 - val_loss: 0.0065\n",
      "Epoch 176/500\n",
      "\u001b[1m4588/4588\u001b[0m \u001b[32m━━━━━━━━━━━━━━━━━━━━\u001b[0m\u001b[37m\u001b[0m \u001b[1m8s\u001b[0m 2ms/step - loss: 0.0059 - val_loss: 0.0059\n",
      "Epoch 177/500\n",
      "\u001b[1m4588/4588\u001b[0m \u001b[32m━━━━━━━━━━━━━━━━━━━━\u001b[0m\u001b[37m\u001b[0m \u001b[1m8s\u001b[0m 2ms/step - loss: 0.0059 - val_loss: 0.0052\n",
      "Epoch 178/500\n",
      "\u001b[1m4588/4588\u001b[0m \u001b[32m━━━━━━━━━━━━━━━━━━━━\u001b[0m\u001b[37m\u001b[0m \u001b[1m8s\u001b[0m 2ms/step - loss: 0.0057 - val_loss: 0.0063\n",
      "Epoch 179/500\n",
      "\u001b[1m4588/4588\u001b[0m \u001b[32m━━━━━━━━━━━━━━━━━━━━\u001b[0m\u001b[37m\u001b[0m \u001b[1m8s\u001b[0m 2ms/step - loss: 0.0057 - val_loss: 0.0054\n",
      "Epoch 180/500\n",
      "\u001b[1m4588/4588\u001b[0m \u001b[32m━━━━━━━━━━━━━━━━━━━━\u001b[0m\u001b[37m\u001b[0m \u001b[1m8s\u001b[0m 2ms/step - loss: 0.0059 - val_loss: 0.0059\n",
      "Epoch 181/500\n",
      "\u001b[1m4588/4588\u001b[0m \u001b[32m━━━━━━━━━━━━━━━━━━━━\u001b[0m\u001b[37m\u001b[0m \u001b[1m8s\u001b[0m 2ms/step - loss: 0.0062 - val_loss: 0.0051\n",
      "Epoch 182/500\n",
      "\u001b[1m4588/4588\u001b[0m \u001b[32m━━━━━━━━━━━━━━━━━━━━\u001b[0m\u001b[37m\u001b[0m \u001b[1m8s\u001b[0m 2ms/step - loss: 0.0057 - val_loss: 0.0062\n",
      "Epoch 183/500\n",
      "\u001b[1m4588/4588\u001b[0m \u001b[32m━━━━━━━━━━━━━━━━━━━━\u001b[0m\u001b[37m\u001b[0m \u001b[1m8s\u001b[0m 2ms/step - loss: 0.0058 - val_loss: 0.0059\n",
      "Epoch 184/500\n",
      "\u001b[1m4588/4588\u001b[0m \u001b[32m━━━━━━━━━━━━━━━━━━━━\u001b[0m\u001b[37m\u001b[0m \u001b[1m8s\u001b[0m 2ms/step - loss: 0.0057 - val_loss: 0.0049\n",
      "Epoch 185/500\n",
      "\u001b[1m4588/4588\u001b[0m \u001b[32m━━━━━━━━━━━━━━━━━━━━\u001b[0m\u001b[37m\u001b[0m \u001b[1m8s\u001b[0m 2ms/step - loss: 0.0056 - val_loss: 0.0066\n",
      "Epoch 186/500\n",
      "\u001b[1m4588/4588\u001b[0m \u001b[32m━━━━━━━━━━━━━━━━━━━━\u001b[0m\u001b[37m\u001b[0m \u001b[1m8s\u001b[0m 2ms/step - loss: 0.0061 - val_loss: 0.0066\n",
      "Epoch 187/500\n",
      "\u001b[1m4588/4588\u001b[0m \u001b[32m━━━━━━━━━━━━━━━━━━━━\u001b[0m\u001b[37m\u001b[0m \u001b[1m8s\u001b[0m 2ms/step - loss: 0.0058 - val_loss: 0.0049\n",
      "Epoch 188/500\n",
      "\u001b[1m4588/4588\u001b[0m \u001b[32m━━━━━━━━━━━━━━━━━━━━\u001b[0m\u001b[37m\u001b[0m \u001b[1m8s\u001b[0m 2ms/step - loss: 0.0058 - val_loss: 0.0049\n",
      "Epoch 189/500\n",
      "\u001b[1m4588/4588\u001b[0m \u001b[32m━━━━━━━━━━━━━━━━━━━━\u001b[0m\u001b[37m\u001b[0m \u001b[1m8s\u001b[0m 2ms/step - loss: 0.0058 - val_loss: 0.0064\n",
      "Epoch 190/500\n",
      "\u001b[1m4588/4588\u001b[0m \u001b[32m━━━━━━━━━━━━━━━━━━━━\u001b[0m\u001b[37m\u001b[0m \u001b[1m8s\u001b[0m 2ms/step - loss: 0.0059 - val_loss: 0.0053\n",
      "Epoch 191/500\n",
      "\u001b[1m4588/4588\u001b[0m \u001b[32m━━━━━━━━━━━━━━━━━━━━\u001b[0m\u001b[37m\u001b[0m \u001b[1m8s\u001b[0m 2ms/step - loss: 0.0057 - val_loss: 0.0049\n",
      "Epoch 192/500\n",
      "\u001b[1m4588/4588\u001b[0m \u001b[32m━━━━━━━━━━━━━━━━━━━━\u001b[0m\u001b[37m\u001b[0m \u001b[1m9s\u001b[0m 2ms/step - loss: 0.0056 - val_loss: 0.0049\n",
      "Epoch 193/500\n",
      "\u001b[1m4588/4588\u001b[0m \u001b[32m━━━━━━━━━━━━━━━━━━━━\u001b[0m\u001b[37m\u001b[0m \u001b[1m8s\u001b[0m 2ms/step - loss: 0.0061 - val_loss: 0.0048\n",
      "Epoch 194/500\n",
      "\u001b[1m4588/4588\u001b[0m \u001b[32m━━━━━━━━━━━━━━━━━━━━\u001b[0m\u001b[37m\u001b[0m \u001b[1m9s\u001b[0m 2ms/step - loss: 0.0056 - val_loss: 0.0048\n",
      "Epoch 195/500\n",
      "\u001b[1m4588/4588\u001b[0m \u001b[32m━━━━━━━━━━━━━━━━━━━━\u001b[0m\u001b[37m\u001b[0m \u001b[1m8s\u001b[0m 2ms/step - loss: 0.0056 - val_loss: 0.0058\n",
      "Epoch 196/500\n",
      "\u001b[1m4588/4588\u001b[0m \u001b[32m━━━━━━━━━━━━━━━━━━━━\u001b[0m\u001b[37m\u001b[0m \u001b[1m9s\u001b[0m 2ms/step - loss: 0.0055 - val_loss: 0.0059\n",
      "Epoch 197/500\n",
      "\u001b[1m4588/4588\u001b[0m \u001b[32m━━━━━━━━━━━━━━━━━━━━\u001b[0m\u001b[37m\u001b[0m \u001b[1m9s\u001b[0m 2ms/step - loss: 0.0056 - val_loss: 0.0047\n",
      "Epoch 198/500\n",
      "\u001b[1m4588/4588\u001b[0m \u001b[32m━━━━━━━━━━━━━━━━━━━━\u001b[0m\u001b[37m\u001b[0m \u001b[1m9s\u001b[0m 2ms/step - loss: 0.0056 - val_loss: 0.0049\n",
      "Epoch 199/500\n",
      "\u001b[1m4588/4588\u001b[0m \u001b[32m━━━━━━━━━━━━━━━━━━━━\u001b[0m\u001b[37m\u001b[0m \u001b[1m8s\u001b[0m 2ms/step - loss: 0.0055 - val_loss: 0.0079\n",
      "Epoch 200/500\n",
      "\u001b[1m4588/4588\u001b[0m \u001b[32m━━━━━━━━━━━━━━━━━━━━\u001b[0m\u001b[37m\u001b[0m \u001b[1m9s\u001b[0m 2ms/step - loss: 0.0057 - val_loss: 0.0062\n",
      "Epoch 201/500\n",
      "\u001b[1m4588/4588\u001b[0m \u001b[32m━━━━━━━━━━━━━━━━━━━━\u001b[0m\u001b[37m\u001b[0m \u001b[1m9s\u001b[0m 2ms/step - loss: 0.0056 - val_loss: 0.0055\n",
      "Epoch 202/500\n",
      "\u001b[1m4588/4588\u001b[0m \u001b[32m━━━━━━━━━━━━━━━━━━━━\u001b[0m\u001b[37m\u001b[0m \u001b[1m9s\u001b[0m 2ms/step - loss: 0.0061 - val_loss: 0.0052\n",
      "Epoch 203/500\n",
      "\u001b[1m4588/4588\u001b[0m \u001b[32m━━━━━━━━━━━━━━━━━━━━\u001b[0m\u001b[37m\u001b[0m \u001b[1m8s\u001b[0m 2ms/step - loss: 0.0057 - val_loss: 0.0059\n",
      "Epoch 204/500\n",
      "\u001b[1m4588/4588\u001b[0m \u001b[32m━━━━━━━━━━━━━━━━━━━━\u001b[0m\u001b[37m\u001b[0m \u001b[1m8s\u001b[0m 2ms/step - loss: 0.0056 - val_loss: 0.0052\n",
      "Epoch 205/500\n",
      "\u001b[1m4588/4588\u001b[0m \u001b[32m━━━━━━━━━━━━━━━━━━━━\u001b[0m\u001b[37m\u001b[0m \u001b[1m9s\u001b[0m 2ms/step - loss: 0.0060 - val_loss: 0.0054\n",
      "Epoch 206/500\n",
      "\u001b[1m4588/4588\u001b[0m \u001b[32m━━━━━━━━━━━━━━━━━━━━\u001b[0m\u001b[37m\u001b[0m \u001b[1m8s\u001b[0m 2ms/step - loss: 0.0055 - val_loss: 0.0048\n",
      "Epoch 207/500\n",
      "\u001b[1m4588/4588\u001b[0m \u001b[32m━━━━━━━━━━━━━━━━━━━━\u001b[0m\u001b[37m\u001b[0m \u001b[1m8s\u001b[0m 2ms/step - loss: 0.0055 - val_loss: 0.0048\n",
      "Epoch 208/500\n",
      "\u001b[1m4588/4588\u001b[0m \u001b[32m━━━━━━━━━━━━━━━━━━━━\u001b[0m\u001b[37m\u001b[0m \u001b[1m8s\u001b[0m 2ms/step - loss: 0.0057 - val_loss: 0.0052\n",
      "Epoch 209/500\n",
      "\u001b[1m4588/4588\u001b[0m \u001b[32m━━━━━━━━━━━━━━━━━━━━\u001b[0m\u001b[37m\u001b[0m \u001b[1m8s\u001b[0m 2ms/step - loss: 0.0055 - val_loss: 0.0046\n",
      "Epoch 210/500\n",
      "\u001b[1m4588/4588\u001b[0m \u001b[32m━━━━━━━━━━━━━━━━━━━━\u001b[0m\u001b[37m\u001b[0m \u001b[1m8s\u001b[0m 2ms/step - loss: 0.0056 - val_loss: 0.0082\n",
      "Epoch 211/500\n",
      "\u001b[1m4588/4588\u001b[0m \u001b[32m━━━━━━━━━━━━━━━━━━━━\u001b[0m\u001b[37m\u001b[0m \u001b[1m8s\u001b[0m 2ms/step - loss: 0.0058 - val_loss: 0.0055\n",
      "Epoch 212/500\n",
      "\u001b[1m4588/4588\u001b[0m \u001b[32m━━━━━━━━━━━━━━━━━━━━\u001b[0m\u001b[37m\u001b[0m \u001b[1m8s\u001b[0m 2ms/step - loss: 0.0056 - val_loss: 0.0054\n",
      "Epoch 213/500\n",
      "\u001b[1m4588/4588\u001b[0m \u001b[32m━━━━━━━━━━━━━━━━━━━━\u001b[0m\u001b[37m\u001b[0m \u001b[1m8s\u001b[0m 2ms/step - loss: 0.0054 - val_loss: 0.0050\n",
      "Epoch 214/500\n",
      "\u001b[1m4588/4588\u001b[0m \u001b[32m━━━━━━━━━━━━━━━━━━━━\u001b[0m\u001b[37m\u001b[0m \u001b[1m8s\u001b[0m 2ms/step - loss: 0.0055 - val_loss: 0.0049\n",
      "Epoch 215/500\n",
      "\u001b[1m4588/4588\u001b[0m \u001b[32m━━━━━━━━━━━━━━━━━━━━\u001b[0m\u001b[37m\u001b[0m \u001b[1m8s\u001b[0m 2ms/step - loss: 0.0057 - val_loss: 0.0065\n",
      "Epoch 216/500\n",
      "\u001b[1m4588/4588\u001b[0m \u001b[32m━━━━━━━━━━━━━━━━━━━━\u001b[0m\u001b[37m\u001b[0m \u001b[1m8s\u001b[0m 2ms/step - loss: 0.0057 - val_loss: 0.0058\n",
      "Epoch 217/500\n",
      "\u001b[1m4588/4588\u001b[0m \u001b[32m━━━━━━━━━━━━━━━━━━━━\u001b[0m\u001b[37m\u001b[0m \u001b[1m8s\u001b[0m 2ms/step - loss: 0.0056 - val_loss: 0.0054\n",
      "Epoch 218/500\n",
      "\u001b[1m4588/4588\u001b[0m \u001b[32m━━━━━━━━━━━━━━━━━━━━\u001b[0m\u001b[37m\u001b[0m \u001b[1m8s\u001b[0m 2ms/step - loss: 0.0057 - val_loss: 0.0048\n",
      "Epoch 219/500\n",
      "\u001b[1m4588/4588\u001b[0m \u001b[32m━━━━━━━━━━━━━━━━━━━━\u001b[0m\u001b[37m\u001b[0m \u001b[1m9s\u001b[0m 2ms/step - loss: 0.0055 - val_loss: 0.0055\n",
      "Epoch 220/500\n",
      "\u001b[1m4588/4588\u001b[0m \u001b[32m━━━━━━━━━━━━━━━━━━━━\u001b[0m\u001b[37m\u001b[0m \u001b[1m8s\u001b[0m 2ms/step - loss: 0.0057 - val_loss: 0.0048\n",
      "Epoch 221/500\n",
      "\u001b[1m4588/4588\u001b[0m \u001b[32m━━━━━━━━━━━━━━━━━━━━\u001b[0m\u001b[37m\u001b[0m \u001b[1m8s\u001b[0m 2ms/step - loss: 0.0056 - val_loss: 0.0047\n",
      "Epoch 222/500\n",
      "\u001b[1m4588/4588\u001b[0m \u001b[32m━━━━━━━━━━━━━━━━━━━━\u001b[0m\u001b[37m\u001b[0m \u001b[1m8s\u001b[0m 2ms/step - loss: 0.0055 - val_loss: 0.0059\n",
      "Epoch 223/500\n",
      "\u001b[1m4588/4588\u001b[0m \u001b[32m━━━━━━━━━━━━━━━━━━━━\u001b[0m\u001b[37m\u001b[0m \u001b[1m8s\u001b[0m 2ms/step - loss: 0.0056 - val_loss: 0.0053\n",
      "Epoch 224/500\n",
      "\u001b[1m4588/4588\u001b[0m \u001b[32m━━━━━━━━━━━━━━━━━━━━\u001b[0m\u001b[37m\u001b[0m \u001b[1m8s\u001b[0m 2ms/step - loss: 0.0056 - val_loss: 0.0046\n",
      "Epoch 225/500\n",
      "\u001b[1m4588/4588\u001b[0m \u001b[32m━━━━━━━━━━━━━━━━━━━━\u001b[0m\u001b[37m\u001b[0m \u001b[1m9s\u001b[0m 2ms/step - loss: 0.0055 - val_loss: 0.0053\n",
      "Epoch 226/500\n",
      "\u001b[1m4588/4588\u001b[0m \u001b[32m━━━━━━━━━━━━━━━━━━━━\u001b[0m\u001b[37m\u001b[0m \u001b[1m8s\u001b[0m 2ms/step - loss: 0.0056 - val_loss: 0.0052\n",
      "Epoch 227/500\n",
      "\u001b[1m4588/4588\u001b[0m \u001b[32m━━━━━━━━━━━━━━━━━━━━\u001b[0m\u001b[37m\u001b[0m \u001b[1m8s\u001b[0m 2ms/step - loss: 0.0055 - val_loss: 0.0054\n",
      "Epoch 228/500\n",
      "\u001b[1m4588/4588\u001b[0m \u001b[32m━━━━━━━━━━━━━━━━━━━━\u001b[0m\u001b[37m\u001b[0m \u001b[1m8s\u001b[0m 2ms/step - loss: 0.0057 - val_loss: 0.0049\n",
      "Epoch 229/500\n",
      "\u001b[1m4588/4588\u001b[0m \u001b[32m━━━━━━━━━━━━━━━━━━━━\u001b[0m\u001b[37m\u001b[0m \u001b[1m8s\u001b[0m 2ms/step - loss: 0.0054 - val_loss: 0.0050\n",
      "Epoch 230/500\n",
      "\u001b[1m4588/4588\u001b[0m \u001b[32m━━━━━━━━━━━━━━━━━━━━\u001b[0m\u001b[37m\u001b[0m \u001b[1m8s\u001b[0m 2ms/step - loss: 0.0055 - val_loss: 0.0049\n",
      "Epoch 231/500\n",
      "\u001b[1m4588/4588\u001b[0m \u001b[32m━━━━━━━━━━━━━━━━━━━━\u001b[0m\u001b[37m\u001b[0m \u001b[1m9s\u001b[0m 2ms/step - loss: 0.0056 - val_loss: 0.0056\n",
      "Epoch 232/500\n",
      "\u001b[1m4588/4588\u001b[0m \u001b[32m━━━━━━━━━━━━━━━━━━━━\u001b[0m\u001b[37m\u001b[0m \u001b[1m8s\u001b[0m 2ms/step - loss: 0.0056 - val_loss: 0.0053\n",
      "Epoch 233/500\n",
      "\u001b[1m4588/4588\u001b[0m \u001b[32m━━━━━━━━━━━━━━━━━━━━\u001b[0m\u001b[37m\u001b[0m \u001b[1m8s\u001b[0m 2ms/step - loss: 0.0056 - val_loss: 0.0051\n",
      "Epoch 234/500\n",
      "\u001b[1m4588/4588\u001b[0m \u001b[32m━━━━━━━━━━━━━━━━━━━━\u001b[0m\u001b[37m\u001b[0m \u001b[1m8s\u001b[0m 2ms/step - loss: 0.0056 - val_loss: 0.0049\n",
      "Epoch 235/500\n",
      "\u001b[1m4588/4588\u001b[0m \u001b[32m━━━━━━━━━━━━━━━━━━━━\u001b[0m\u001b[37m\u001b[0m \u001b[1m8s\u001b[0m 2ms/step - loss: 0.0056 - val_loss: 0.0049\n",
      "Epoch 236/500\n",
      "\u001b[1m4588/4588\u001b[0m \u001b[32m━━━━━━━━━━━━━━━━━━━━\u001b[0m\u001b[37m\u001b[0m \u001b[1m8s\u001b[0m 2ms/step - loss: 0.0054 - val_loss: 0.0057\n",
      "Epoch 237/500\n",
      "\u001b[1m4588/4588\u001b[0m \u001b[32m━━━━━━━━━━━━━━━━━━━━\u001b[0m\u001b[37m\u001b[0m \u001b[1m9s\u001b[0m 2ms/step - loss: 0.0057 - val_loss: 0.0050\n",
      "Epoch 238/500\n",
      "\u001b[1m4588/4588\u001b[0m \u001b[32m━━━━━━━━━━━━━━━━━━━━\u001b[0m\u001b[37m\u001b[0m \u001b[1m9s\u001b[0m 2ms/step - loss: 0.0056 - val_loss: 0.0051\n",
      "Epoch 239/500\n",
      "\u001b[1m4588/4588\u001b[0m \u001b[32m━━━━━━━━━━━━━━━━━━━━\u001b[0m\u001b[37m\u001b[0m \u001b[1m8s\u001b[0m 2ms/step - loss: 0.0054 - val_loss: 0.0046\n",
      "Epoch 240/500\n",
      "\u001b[1m4588/4588\u001b[0m \u001b[32m━━━━━━━━━━━━━━━━━━━━\u001b[0m\u001b[37m\u001b[0m \u001b[1m9s\u001b[0m 2ms/step - loss: 0.0056 - val_loss: 0.0055\n",
      "Epoch 241/500\n",
      "\u001b[1m4588/4588\u001b[0m \u001b[32m━━━━━━━━━━━━━━━━━━━━\u001b[0m\u001b[37m\u001b[0m \u001b[1m8s\u001b[0m 2ms/step - loss: 0.0057 - val_loss: 0.0051\n",
      "Epoch 242/500\n",
      "\u001b[1m4588/4588\u001b[0m \u001b[32m━━━━━━━━━━━━━━━━━━━━\u001b[0m\u001b[37m\u001b[0m \u001b[1m9s\u001b[0m 2ms/step - loss: 0.0055 - val_loss: 0.0049\n",
      "Epoch 243/500\n",
      "\u001b[1m4588/4588\u001b[0m \u001b[32m━━━━━━━━━━━━━━━━━━━━\u001b[0m\u001b[37m\u001b[0m \u001b[1m8s\u001b[0m 2ms/step - loss: 0.0053 - val_loss: 0.0048\n",
      "Epoch 244/500\n",
      "\u001b[1m4588/4588\u001b[0m \u001b[32m━━━━━━━━━━━━━━━━━━━━\u001b[0m\u001b[37m\u001b[0m \u001b[1m9s\u001b[0m 2ms/step - loss: 0.0055 - val_loss: 0.0048\n",
      "Epoch 245/500\n",
      "\u001b[1m4588/4588\u001b[0m \u001b[32m━━━━━━━━━━━━━━━━━━━━\u001b[0m\u001b[37m\u001b[0m \u001b[1m9s\u001b[0m 2ms/step - loss: 0.0053 - val_loss: 0.0052\n",
      "Epoch 246/500\n",
      "\u001b[1m4588/4588\u001b[0m \u001b[32m━━━━━━━━━━━━━━━━━━━━\u001b[0m\u001b[37m\u001b[0m \u001b[1m9s\u001b[0m 2ms/step - loss: 0.0054 - val_loss: 0.0049\n",
      "Epoch 247/500\n",
      "\u001b[1m4588/4588\u001b[0m \u001b[32m━━━━━━━━━━━━━━━━━━━━\u001b[0m\u001b[37m\u001b[0m \u001b[1m9s\u001b[0m 2ms/step - loss: 0.0054 - val_loss: 0.0048\n",
      "Epoch 248/500\n",
      "\u001b[1m4588/4588\u001b[0m \u001b[32m━━━━━━━━━━━━━━━━━━━━\u001b[0m\u001b[37m\u001b[0m \u001b[1m9s\u001b[0m 2ms/step - loss: 0.0055 - val_loss: 0.0048\n",
      "Epoch 249/500\n",
      "\u001b[1m4588/4588\u001b[0m \u001b[32m━━━━━━━━━━━━━━━━━━━━\u001b[0m\u001b[37m\u001b[0m \u001b[1m9s\u001b[0m 2ms/step - loss: 0.0054 - val_loss: 0.0054\n",
      "Epoch 250/500\n",
      "\u001b[1m4588/4588\u001b[0m \u001b[32m━━━━━━━━━━━━━━━━━━━━\u001b[0m\u001b[37m\u001b[0m \u001b[1m9s\u001b[0m 2ms/step - loss: 0.0056 - val_loss: 0.0061\n",
      "Epoch 251/500\n",
      "\u001b[1m4588/4588\u001b[0m \u001b[32m━━━━━━━━━━━━━━━━━━━━\u001b[0m\u001b[37m\u001b[0m \u001b[1m9s\u001b[0m 2ms/step - loss: 0.0054 - val_loss: 0.0051\n",
      "Epoch 252/500\n",
      "\u001b[1m4588/4588\u001b[0m \u001b[32m━━━━━━━━━━━━━━━━━━━━\u001b[0m\u001b[37m\u001b[0m \u001b[1m9s\u001b[0m 2ms/step - loss: 0.0057 - val_loss: 0.0051\n",
      "Epoch 253/500\n",
      "\u001b[1m4588/4588\u001b[0m \u001b[32m━━━━━━━━━━━━━━━━━━━━\u001b[0m\u001b[37m\u001b[0m \u001b[1m9s\u001b[0m 2ms/step - loss: 0.0054 - val_loss: 0.0048\n",
      "Epoch 254/500\n",
      "\u001b[1m4588/4588\u001b[0m \u001b[32m━━━━━━━━━━━━━━━━━━━━\u001b[0m\u001b[37m\u001b[0m \u001b[1m9s\u001b[0m 2ms/step - loss: 0.0053 - val_loss: 0.0047\n",
      "Epoch 255/500\n",
      "\u001b[1m4588/4588\u001b[0m \u001b[32m━━━━━━━━━━━━━━━━━━━━\u001b[0m\u001b[37m\u001b[0m \u001b[1m9s\u001b[0m 2ms/step - loss: 0.0055 - val_loss: 0.0052\n",
      "Epoch 256/500\n",
      "\u001b[1m4588/4588\u001b[0m \u001b[32m━━━━━━━━━━━━━━━━━━━━\u001b[0m\u001b[37m\u001b[0m \u001b[1m9s\u001b[0m 2ms/step - loss: 0.0052 - val_loss: 0.0049\n",
      "Epoch 257/500\n",
      "\u001b[1m4588/4588\u001b[0m \u001b[32m━━━━━━━━━━━━━━━━━━━━\u001b[0m\u001b[37m\u001b[0m \u001b[1m9s\u001b[0m 2ms/step - loss: 0.0053 - val_loss: 0.0050\n",
      "Epoch 258/500\n",
      "\u001b[1m4588/4588\u001b[0m \u001b[32m━━━━━━━━━━━━━━━━━━━━\u001b[0m\u001b[37m\u001b[0m \u001b[1m9s\u001b[0m 2ms/step - loss: 0.0055 - val_loss: 0.0049\n",
      "Epoch 259/500\n",
      "\u001b[1m4588/4588\u001b[0m \u001b[32m━━━━━━━━━━━━━━━━━━━━\u001b[0m\u001b[37m\u001b[0m \u001b[1m8s\u001b[0m 2ms/step - loss: 0.0054 - val_loss: 0.0051\n",
      "Epoch 260/500\n",
      "\u001b[1m4588/4588\u001b[0m \u001b[32m━━━━━━━━━━━━━━━━━━━━\u001b[0m\u001b[37m\u001b[0m \u001b[1m9s\u001b[0m 2ms/step - loss: 0.0055 - val_loss: 0.0051\n",
      "Epoch 261/500\n",
      "\u001b[1m4588/4588\u001b[0m \u001b[32m━━━━━━━━━━━━━━━━━━━━\u001b[0m\u001b[37m\u001b[0m \u001b[1m9s\u001b[0m 2ms/step - loss: 0.0054 - val_loss: 0.0063\n",
      "Epoch 262/500\n",
      "\u001b[1m4588/4588\u001b[0m \u001b[32m━━━━━━━━━━━━━━━━━━━━\u001b[0m\u001b[37m\u001b[0m \u001b[1m9s\u001b[0m 2ms/step - loss: 0.0056 - val_loss: 0.0047\n",
      "Epoch 263/500\n",
      "\u001b[1m4588/4588\u001b[0m \u001b[32m━━━━━━━━━━━━━━━━━━━━\u001b[0m\u001b[37m\u001b[0m \u001b[1m9s\u001b[0m 2ms/step - loss: 0.0053 - val_loss: 0.0054\n",
      "Epoch 264/500\n",
      "\u001b[1m4588/4588\u001b[0m \u001b[32m━━━━━━━━━━━━━━━━━━━━\u001b[0m\u001b[37m\u001b[0m \u001b[1m9s\u001b[0m 2ms/step - loss: 0.0054 - val_loss: 0.0051\n",
      "Epoch 265/500\n",
      "\u001b[1m4588/4588\u001b[0m \u001b[32m━━━━━━━━━━━━━━━━━━━━\u001b[0m\u001b[37m\u001b[0m \u001b[1m9s\u001b[0m 2ms/step - loss: 0.0057 - val_loss: 0.0047\n",
      "Epoch 266/500\n",
      "\u001b[1m4588/4588\u001b[0m \u001b[32m━━━━━━━━━━━━━━━━━━━━\u001b[0m\u001b[37m\u001b[0m \u001b[1m9s\u001b[0m 2ms/step - loss: 0.0054 - val_loss: 0.0050\n",
      "Epoch 267/500\n",
      "\u001b[1m4588/4588\u001b[0m \u001b[32m━━━━━━━━━━━━━━━━━━━━\u001b[0m\u001b[37m\u001b[0m \u001b[1m9s\u001b[0m 2ms/step - loss: 0.0052 - val_loss: 0.0059\n",
      "Epoch 268/500\n",
      "\u001b[1m4588/4588\u001b[0m \u001b[32m━━━━━━━━━━━━━━━━━━━━\u001b[0m\u001b[37m\u001b[0m \u001b[1m9s\u001b[0m 2ms/step - loss: 0.0053 - val_loss: 0.0052\n",
      "Epoch 269/500\n",
      "\u001b[1m4588/4588\u001b[0m \u001b[32m━━━━━━━━━━━━━━━━━━━━\u001b[0m\u001b[37m\u001b[0m \u001b[1m9s\u001b[0m 2ms/step - loss: 0.0053 - val_loss: 0.0048\n",
      "Epoch 270/500\n",
      "\u001b[1m4588/4588\u001b[0m \u001b[32m━━━━━━━━━━━━━━━━━━━━\u001b[0m\u001b[37m\u001b[0m \u001b[1m9s\u001b[0m 2ms/step - loss: 0.0052 - val_loss: 0.0046\n",
      "Epoch 271/500\n",
      "\u001b[1m4588/4588\u001b[0m \u001b[32m━━━━━━━━━━━━━━━━━━━━\u001b[0m\u001b[37m\u001b[0m \u001b[1m9s\u001b[0m 2ms/step - loss: 0.0056 - val_loss: 0.0046\n",
      "Epoch 272/500\n",
      "\u001b[1m4588/4588\u001b[0m \u001b[32m━━━━━━━━━━━━━━━━━━━━\u001b[0m\u001b[37m\u001b[0m \u001b[1m8s\u001b[0m 2ms/step - loss: 0.0052 - val_loss: 0.0055\n",
      "Epoch 273/500\n",
      "\u001b[1m4588/4588\u001b[0m \u001b[32m━━━━━━━━━━━━━━━━━━━━\u001b[0m\u001b[37m\u001b[0m \u001b[1m8s\u001b[0m 2ms/step - loss: 0.0053 - val_loss: 0.0056\n",
      "Epoch 274/500\n",
      "\u001b[1m4588/4588\u001b[0m \u001b[32m━━━━━━━━━━━━━━━━━━━━\u001b[0m\u001b[37m\u001b[0m \u001b[1m8s\u001b[0m 2ms/step - loss: 0.0052 - val_loss: 0.0047\n",
      "Epoch 275/500\n",
      "\u001b[1m4588/4588\u001b[0m \u001b[32m━━━━━━━━━━━━━━━━━━━━\u001b[0m\u001b[37m\u001b[0m \u001b[1m9s\u001b[0m 2ms/step - loss: 0.0052 - val_loss: 0.0055\n",
      "Epoch 276/500\n",
      "\u001b[1m4588/4588\u001b[0m \u001b[32m━━━━━━━━━━━━━━━━━━━━\u001b[0m\u001b[37m\u001b[0m \u001b[1m8s\u001b[0m 2ms/step - loss: 0.0053 - val_loss: 0.0049\n",
      "Epoch 277/500\n",
      "\u001b[1m4588/4588\u001b[0m \u001b[32m━━━━━━━━━━━━━━━━━━━━\u001b[0m\u001b[37m\u001b[0m \u001b[1m9s\u001b[0m 2ms/step - loss: 0.0054 - val_loss: 0.0045\n",
      "Epoch 278/500\n",
      "\u001b[1m4588/4588\u001b[0m \u001b[32m━━━━━━━━━━━━━━━━━━━━\u001b[0m\u001b[37m\u001b[0m \u001b[1m8s\u001b[0m 2ms/step - loss: 0.0052 - val_loss: 0.0046\n",
      "Epoch 279/500\n",
      "\u001b[1m4588/4588\u001b[0m \u001b[32m━━━━━━━━━━━━━━━━━━━━\u001b[0m\u001b[37m\u001b[0m \u001b[1m9s\u001b[0m 2ms/step - loss: 0.0054 - val_loss: 0.0046\n",
      "Epoch 280/500\n",
      "\u001b[1m4588/4588\u001b[0m \u001b[32m━━━━━━━━━━━━━━━━━━━━\u001b[0m\u001b[37m\u001b[0m \u001b[1m8s\u001b[0m 2ms/step - loss: 0.0053 - val_loss: 0.0054\n",
      "Epoch 281/500\n",
      "\u001b[1m4588/4588\u001b[0m \u001b[32m━━━━━━━━━━━━━━━━━━━━\u001b[0m\u001b[37m\u001b[0m \u001b[1m9s\u001b[0m 2ms/step - loss: 0.0053 - val_loss: 0.0045\n",
      "Epoch 282/500\n",
      "\u001b[1m4588/4588\u001b[0m \u001b[32m━━━━━━━━━━━━━━━━━━━━\u001b[0m\u001b[37m\u001b[0m \u001b[1m8s\u001b[0m 2ms/step - loss: 0.0052 - val_loss: 0.0053\n",
      "Epoch 283/500\n",
      "\u001b[1m4588/4588\u001b[0m \u001b[32m━━━━━━━━━━━━━━━━━━━━\u001b[0m\u001b[37m\u001b[0m \u001b[1m9s\u001b[0m 2ms/step - loss: 0.0054 - val_loss: 0.0048\n",
      "Epoch 284/500\n",
      "\u001b[1m4588/4588\u001b[0m \u001b[32m━━━━━━━━━━━━━━━━━━━━\u001b[0m\u001b[37m\u001b[0m \u001b[1m8s\u001b[0m 2ms/step - loss: 0.0051 - val_loss: 0.0053\n",
      "Epoch 285/500\n",
      "\u001b[1m4588/4588\u001b[0m \u001b[32m━━━━━━━━━━━━━━━━━━━━\u001b[0m\u001b[37m\u001b[0m \u001b[1m8s\u001b[0m 2ms/step - loss: 0.0057 - val_loss: 0.0052\n",
      "Epoch 286/500\n",
      "\u001b[1m4588/4588\u001b[0m \u001b[32m━━━━━━━━━━━━━━━━━━━━\u001b[0m\u001b[37m\u001b[0m \u001b[1m8s\u001b[0m 2ms/step - loss: 0.0051 - val_loss: 0.0047\n",
      "Epoch 287/500\n",
      "\u001b[1m4588/4588\u001b[0m \u001b[32m━━━━━━━━━━━━━━━━━━━━\u001b[0m\u001b[37m\u001b[0m \u001b[1m8s\u001b[0m 2ms/step - loss: 0.0052 - val_loss: 0.0046\n",
      "Epoch 288/500\n",
      "\u001b[1m4588/4588\u001b[0m \u001b[32m━━━━━━━━━━━━━━━━━━━━\u001b[0m\u001b[37m\u001b[0m \u001b[1m9s\u001b[0m 2ms/step - loss: 0.0057 - val_loss: 0.0060\n",
      "Epoch 289/500\n",
      "\u001b[1m4588/4588\u001b[0m \u001b[32m━━━━━━━━━━━━━━━━━━━━\u001b[0m\u001b[37m\u001b[0m \u001b[1m8s\u001b[0m 2ms/step - loss: 0.0053 - val_loss: 0.0059\n",
      "Epoch 290/500\n",
      "\u001b[1m4588/4588\u001b[0m \u001b[32m━━━━━━━━━━━━━━━━━━━━\u001b[0m\u001b[37m\u001b[0m \u001b[1m9s\u001b[0m 2ms/step - loss: 0.0053 - val_loss: 0.0046\n",
      "Epoch 291/500\n",
      "\u001b[1m4588/4588\u001b[0m \u001b[32m━━━━━━━━━━━━━━━━━━━━\u001b[0m\u001b[37m\u001b[0m \u001b[1m8s\u001b[0m 2ms/step - loss: 0.0051 - val_loss: 0.0046\n",
      "Epoch 292/500\n",
      "\u001b[1m4588/4588\u001b[0m \u001b[32m━━━━━━━━━━━━━━━━━━━━\u001b[0m\u001b[37m\u001b[0m \u001b[1m9s\u001b[0m 2ms/step - loss: 0.0058 - val_loss: 0.0056\n",
      "Epoch 293/500\n",
      "\u001b[1m4588/4588\u001b[0m \u001b[32m━━━━━━━━━━━━━━━━━━━━\u001b[0m\u001b[37m\u001b[0m \u001b[1m8s\u001b[0m 2ms/step - loss: 0.0052 - val_loss: 0.0048\n",
      "Epoch 294/500\n",
      "\u001b[1m4588/4588\u001b[0m \u001b[32m━━━━━━━━━━━━━━━━━━━━\u001b[0m\u001b[37m\u001b[0m \u001b[1m8s\u001b[0m 2ms/step - loss: 0.0053 - val_loss: 0.0049\n",
      "Epoch 295/500\n",
      "\u001b[1m4588/4588\u001b[0m \u001b[32m━━━━━━━━━━━━━━━━━━━━\u001b[0m\u001b[37m\u001b[0m \u001b[1m8s\u001b[0m 2ms/step - loss: 0.0051 - val_loss: 0.0050\n",
      "Epoch 296/500\n",
      "\u001b[1m4588/4588\u001b[0m \u001b[32m━━━━━━━━━━━━━━━━━━━━\u001b[0m\u001b[37m\u001b[0m \u001b[1m9s\u001b[0m 2ms/step - loss: 0.0051 - val_loss: 0.0045\n",
      "Epoch 297/500\n",
      "\u001b[1m4588/4588\u001b[0m \u001b[32m━━━━━━━━━━━━━━━━━━━━\u001b[0m\u001b[37m\u001b[0m \u001b[1m8s\u001b[0m 2ms/step - loss: 0.0052 - val_loss: 0.0055\n",
      "Epoch 298/500\n",
      "\u001b[1m4588/4588\u001b[0m \u001b[32m━━━━━━━━━━━━━━━━━━━━\u001b[0m\u001b[37m\u001b[0m \u001b[1m9s\u001b[0m 2ms/step - loss: 0.0051 - val_loss: 0.0047\n",
      "Epoch 299/500\n",
      "\u001b[1m4588/4588\u001b[0m \u001b[32m━━━━━━━━━━━━━━━━━━━━\u001b[0m\u001b[37m\u001b[0m \u001b[1m8s\u001b[0m 2ms/step - loss: 0.0052 - val_loss: 0.0051\n",
      "Epoch 300/500\n",
      "\u001b[1m4588/4588\u001b[0m \u001b[32m━━━━━━━━━━━━━━━━━━━━\u001b[0m\u001b[37m\u001b[0m \u001b[1m9s\u001b[0m 2ms/step - loss: 0.0052 - val_loss: 0.0057\n",
      "Epoch 301/500\n",
      "\u001b[1m4588/4588\u001b[0m \u001b[32m━━━━━━━━━━━━━━━━━━━━\u001b[0m\u001b[37m\u001b[0m \u001b[1m8s\u001b[0m 2ms/step - loss: 0.0053 - val_loss: 0.0052\n",
      "Epoch 302/500\n",
      "\u001b[1m4588/4588\u001b[0m \u001b[32m━━━━━━━━━━━━━━━━━━━━\u001b[0m\u001b[37m\u001b[0m \u001b[1m8s\u001b[0m 2ms/step - loss: 0.0053 - val_loss: 0.0047\n",
      "Epoch 303/500\n",
      "\u001b[1m4588/4588\u001b[0m \u001b[32m━━━━━━━━━━━━━━━━━━━━\u001b[0m\u001b[37m\u001b[0m \u001b[1m9s\u001b[0m 2ms/step - loss: 0.0052 - val_loss: 0.0046\n",
      "Epoch 304/500\n",
      "\u001b[1m4588/4588\u001b[0m \u001b[32m━━━━━━━━━━━━━━━━━━━━\u001b[0m\u001b[37m\u001b[0m \u001b[1m8s\u001b[0m 2ms/step - loss: 0.0052 - val_loss: 0.0049\n",
      "Epoch 305/500\n",
      "\u001b[1m4588/4588\u001b[0m \u001b[32m━━━━━━━━━━━━━━━━━━━━\u001b[0m\u001b[37m\u001b[0m \u001b[1m9s\u001b[0m 2ms/step - loss: 0.0053 - val_loss: 0.0047\n",
      "Epoch 306/500\n",
      "\u001b[1m4588/4588\u001b[0m \u001b[32m━━━━━━━━━━━━━━━━━━━━\u001b[0m\u001b[37m\u001b[0m \u001b[1m8s\u001b[0m 2ms/step - loss: 0.0051 - val_loss: 0.0044\n",
      "Epoch 307/500\n",
      "\u001b[1m4588/4588\u001b[0m \u001b[32m━━━━━━━━━━━━━━━━━━━━\u001b[0m\u001b[37m\u001b[0m \u001b[1m9s\u001b[0m 2ms/step - loss: 0.0050 - val_loss: 0.0047\n",
      "Epoch 308/500\n",
      "\u001b[1m4588/4588\u001b[0m \u001b[32m━━━━━━━━━━━━━━━━━━━━\u001b[0m\u001b[37m\u001b[0m \u001b[1m8s\u001b[0m 2ms/step - loss: 0.0052 - val_loss: 0.0044\n",
      "Epoch 309/500\n",
      "\u001b[1m4588/4588\u001b[0m \u001b[32m━━━━━━━━━━━━━━━━━━━━\u001b[0m\u001b[37m\u001b[0m \u001b[1m9s\u001b[0m 2ms/step - loss: 0.0053 - val_loss: 0.0044\n",
      "Epoch 310/500\n",
      "\u001b[1m4588/4588\u001b[0m \u001b[32m━━━━━━━━━━━━━━━━━━━━\u001b[0m\u001b[37m\u001b[0m \u001b[1m8s\u001b[0m 2ms/step - loss: 0.0052 - val_loss: 0.0051\n",
      "Epoch 311/500\n",
      "\u001b[1m4588/4588\u001b[0m \u001b[32m━━━━━━━━━━━━━━━━━━━━\u001b[0m\u001b[37m\u001b[0m \u001b[1m9s\u001b[0m 2ms/step - loss: 0.0053 - val_loss: 0.0047\n",
      "Epoch 312/500\n",
      "\u001b[1m4588/4588\u001b[0m \u001b[32m━━━━━━━━━━━━━━━━━━━━\u001b[0m\u001b[37m\u001b[0m \u001b[1m9s\u001b[0m 2ms/step - loss: 0.0051 - val_loss: 0.0042\n",
      "Epoch 313/500\n",
      "\u001b[1m4588/4588\u001b[0m \u001b[32m━━━━━━━━━━━━━━━━━━━━\u001b[0m\u001b[37m\u001b[0m \u001b[1m9s\u001b[0m 2ms/step - loss: 0.0052 - val_loss: 0.0048\n",
      "Epoch 314/500\n",
      "\u001b[1m4588/4588\u001b[0m \u001b[32m━━━━━━━━━━━━━━━━━━━━\u001b[0m\u001b[37m\u001b[0m \u001b[1m8s\u001b[0m 2ms/step - loss: 0.0050 - val_loss: 0.0048\n",
      "Epoch 315/500\n",
      "\u001b[1m4588/4588\u001b[0m \u001b[32m━━━━━━━━━━━━━━━━━━━━\u001b[0m\u001b[37m\u001b[0m \u001b[1m9s\u001b[0m 2ms/step - loss: 0.0053 - val_loss: 0.0048\n",
      "Epoch 316/500\n",
      "\u001b[1m4588/4588\u001b[0m \u001b[32m━━━━━━━━━━━━━━━━━━━━\u001b[0m\u001b[37m\u001b[0m \u001b[1m9s\u001b[0m 2ms/step - loss: 0.0049 - val_loss: 0.0051\n",
      "Epoch 317/500\n",
      "\u001b[1m4588/4588\u001b[0m \u001b[32m━━━━━━━━━━━━━━━━━━━━\u001b[0m\u001b[37m\u001b[0m \u001b[1m8s\u001b[0m 2ms/step - loss: 0.0051 - val_loss: 0.0047\n",
      "Epoch 318/500\n",
      "\u001b[1m4588/4588\u001b[0m \u001b[32m━━━━━━━━━━━━━━━━━━━━\u001b[0m\u001b[37m\u001b[0m \u001b[1m9s\u001b[0m 2ms/step - loss: 0.0051 - val_loss: 0.0050\n",
      "Epoch 319/500\n",
      "\u001b[1m4588/4588\u001b[0m \u001b[32m━━━━━━━━━━━━━━━━━━━━\u001b[0m\u001b[37m\u001b[0m \u001b[1m8s\u001b[0m 2ms/step - loss: 0.0053 - val_loss: 0.0045\n",
      "Epoch 320/500\n",
      "\u001b[1m4588/4588\u001b[0m \u001b[32m━━━━━━━━━━━━━━━━━━━━\u001b[0m\u001b[37m\u001b[0m \u001b[1m9s\u001b[0m 2ms/step - loss: 0.0055 - val_loss: 0.0051\n",
      "Epoch 321/500\n",
      "\u001b[1m4588/4588\u001b[0m \u001b[32m━━━━━━━━━━━━━━━━━━━━\u001b[0m\u001b[37m\u001b[0m \u001b[1m8s\u001b[0m 2ms/step - loss: 0.0052 - val_loss: 0.0054\n",
      "Epoch 322/500\n",
      "\u001b[1m4588/4588\u001b[0m \u001b[32m━━━━━━━━━━━━━━━━━━━━\u001b[0m\u001b[37m\u001b[0m \u001b[1m9s\u001b[0m 2ms/step - loss: 0.0051 - val_loss: 0.0046\n",
      "Epoch 323/500\n",
      "\u001b[1m4588/4588\u001b[0m \u001b[32m━━━━━━━━━━━━━━━━━━━━\u001b[0m\u001b[37m\u001b[0m \u001b[1m8s\u001b[0m 2ms/step - loss: 0.0050 - val_loss: 0.0050\n",
      "Epoch 324/500\n",
      "\u001b[1m4588/4588\u001b[0m \u001b[32m━━━━━━━━━━━━━━━━━━━━\u001b[0m\u001b[37m\u001b[0m \u001b[1m8s\u001b[0m 2ms/step - loss: 0.0053 - val_loss: 0.0057\n",
      "Epoch 325/500\n",
      "\u001b[1m4588/4588\u001b[0m \u001b[32m━━━━━━━━━━━━━━━━━━━━\u001b[0m\u001b[37m\u001b[0m \u001b[1m8s\u001b[0m 2ms/step - loss: 0.0052 - val_loss: 0.0050\n",
      "Epoch 326/500\n",
      "\u001b[1m4588/4588\u001b[0m \u001b[32m━━━━━━━━━━━━━━━━━━━━\u001b[0m\u001b[37m\u001b[0m \u001b[1m9s\u001b[0m 2ms/step - loss: 0.0050 - val_loss: 0.0050\n",
      "Epoch 327/500\n",
      "\u001b[1m4588/4588\u001b[0m \u001b[32m━━━━━━━━━━━━━━━━━━━━\u001b[0m\u001b[37m\u001b[0m \u001b[1m9s\u001b[0m 2ms/step - loss: 0.0053 - val_loss: 0.0047\n",
      "Epoch 328/500\n",
      "\u001b[1m4588/4588\u001b[0m \u001b[32m━━━━━━━━━━━━━━━━━━━━\u001b[0m\u001b[37m\u001b[0m \u001b[1m9s\u001b[0m 2ms/step - loss: 0.0051 - val_loss: 0.0046\n",
      "Epoch 329/500\n",
      "\u001b[1m4588/4588\u001b[0m \u001b[32m━━━━━━━━━━━━━━━━━━━━\u001b[0m\u001b[37m\u001b[0m \u001b[1m9s\u001b[0m 2ms/step - loss: 0.0051 - val_loss: 0.0048\n",
      "Epoch 330/500\n",
      "\u001b[1m4588/4588\u001b[0m \u001b[32m━━━━━━━━━━━━━━━━━━━━\u001b[0m\u001b[37m\u001b[0m \u001b[1m9s\u001b[0m 2ms/step - loss: 0.0054 - val_loss: 0.0050\n",
      "Epoch 331/500\n",
      "\u001b[1m4588/4588\u001b[0m \u001b[32m━━━━━━━━━━━━━━━━━━━━\u001b[0m\u001b[37m\u001b[0m \u001b[1m9s\u001b[0m 2ms/step - loss: 0.0049 - val_loss: 0.0054\n",
      "Epoch 332/500\n",
      "\u001b[1m4588/4588\u001b[0m \u001b[32m━━━━━━━━━━━━━━━━━━━━\u001b[0m\u001b[37m\u001b[0m \u001b[1m9s\u001b[0m 2ms/step - loss: 0.0052 - val_loss: 0.0043\n",
      "Epoch 333/500\n",
      "\u001b[1m4588/4588\u001b[0m \u001b[32m━━━━━━━━━━━━━━━━━━━━\u001b[0m\u001b[37m\u001b[0m \u001b[1m9s\u001b[0m 2ms/step - loss: 0.0051 - val_loss: 0.0047\n",
      "Epoch 334/500\n",
      "\u001b[1m4588/4588\u001b[0m \u001b[32m━━━━━━━━━━━━━━━━━━━━\u001b[0m\u001b[37m\u001b[0m \u001b[1m9s\u001b[0m 2ms/step - loss: 0.0051 - val_loss: 0.0045\n",
      "Epoch 335/500\n",
      "\u001b[1m4588/4588\u001b[0m \u001b[32m━━━━━━━━━━━━━━━━━━━━\u001b[0m\u001b[37m\u001b[0m \u001b[1m9s\u001b[0m 2ms/step - loss: 0.0049 - val_loss: 0.0048\n",
      "Epoch 336/500\n",
      "\u001b[1m4588/4588\u001b[0m \u001b[32m━━━━━━━━━━━━━━━━━━━━\u001b[0m\u001b[37m\u001b[0m \u001b[1m8s\u001b[0m 2ms/step - loss: 0.0051 - val_loss: 0.0043\n",
      "Epoch 337/500\n",
      "\u001b[1m4588/4588\u001b[0m \u001b[32m━━━━━━━━━━━━━━━━━━━━\u001b[0m\u001b[37m\u001b[0m \u001b[1m9s\u001b[0m 2ms/step - loss: 0.0049 - val_loss: 0.0046\n",
      "Epoch 338/500\n",
      "\u001b[1m4588/4588\u001b[0m \u001b[32m━━━━━━━━━━━━━━━━━━━━\u001b[0m\u001b[37m\u001b[0m \u001b[1m8s\u001b[0m 2ms/step - loss: 0.0049 - val_loss: 0.0046\n",
      "Epoch 339/500\n",
      "\u001b[1m4588/4588\u001b[0m \u001b[32m━━━━━━━━━━━━━━━━━━━━\u001b[0m\u001b[37m\u001b[0m \u001b[1m8s\u001b[0m 2ms/step - loss: 0.0051 - val_loss: 0.0049\n",
      "Epoch 340/500\n",
      "\u001b[1m4588/4588\u001b[0m \u001b[32m━━━━━━━━━━━━━━━━━━━━\u001b[0m\u001b[37m\u001b[0m \u001b[1m8s\u001b[0m 2ms/step - loss: 0.0052 - val_loss: 0.0076\n",
      "Epoch 341/500\n",
      "\u001b[1m4588/4588\u001b[0m \u001b[32m━━━━━━━━━━━━━━━━━━━━\u001b[0m\u001b[37m\u001b[0m \u001b[1m8s\u001b[0m 2ms/step - loss: 0.0052 - val_loss: 0.0048\n",
      "Epoch 342/500\n",
      "\u001b[1m4588/4588\u001b[0m \u001b[32m━━━━━━━━━━━━━━━━━━━━\u001b[0m\u001b[37m\u001b[0m \u001b[1m8s\u001b[0m 2ms/step - loss: 0.0049 - val_loss: 0.0045\n",
      "Epoch 343/500\n",
      "\u001b[1m4588/4588\u001b[0m \u001b[32m━━━━━━━━━━━━━━━━━━━━\u001b[0m\u001b[37m\u001b[0m \u001b[1m8s\u001b[0m 2ms/step - loss: 0.0051 - val_loss: 0.0047\n",
      "Epoch 344/500\n",
      "\u001b[1m4588/4588\u001b[0m \u001b[32m━━━━━━━━━━━━━━━━━━━━\u001b[0m\u001b[37m\u001b[0m \u001b[1m8s\u001b[0m 2ms/step - loss: 0.0050 - val_loss: 0.0046\n",
      "Epoch 345/500\n",
      "\u001b[1m4588/4588\u001b[0m \u001b[32m━━━━━━━━━━━━━━━━━━━━\u001b[0m\u001b[37m\u001b[0m \u001b[1m8s\u001b[0m 2ms/step - loss: 0.0049 - val_loss: 0.0043\n",
      "Epoch 346/500\n",
      "\u001b[1m4588/4588\u001b[0m \u001b[32m━━━━━━━━━━━━━━━━━━━━\u001b[0m\u001b[37m\u001b[0m \u001b[1m8s\u001b[0m 2ms/step - loss: 0.0052 - val_loss: 0.0051\n",
      "Epoch 347/500\n",
      "\u001b[1m4588/4588\u001b[0m \u001b[32m━━━━━━━━━━━━━━━━━━━━\u001b[0m\u001b[37m\u001b[0m \u001b[1m8s\u001b[0m 2ms/step - loss: 0.0049 - val_loss: 0.0048\n",
      "Epoch 348/500\n",
      "\u001b[1m4588/4588\u001b[0m \u001b[32m━━━━━━━━━━━━━━━━━━━━\u001b[0m\u001b[37m\u001b[0m \u001b[1m8s\u001b[0m 2ms/step - loss: 0.0049 - val_loss: 0.0056\n",
      "Epoch 349/500\n",
      "\u001b[1m4588/4588\u001b[0m \u001b[32m━━━━━━━━━━━━━━━━━━━━\u001b[0m\u001b[37m\u001b[0m \u001b[1m9s\u001b[0m 2ms/step - loss: 0.0054 - val_loss: 0.0049\n",
      "Epoch 350/500\n",
      "\u001b[1m4588/4588\u001b[0m \u001b[32m━━━━━━━━━━━━━━━━━━━━\u001b[0m\u001b[37m\u001b[0m \u001b[1m8s\u001b[0m 2ms/step - loss: 0.0050 - val_loss: 0.0049\n",
      "Epoch 351/500\n",
      "\u001b[1m4588/4588\u001b[0m \u001b[32m━━━━━━━━━━━━━━━━━━━━\u001b[0m\u001b[37m\u001b[0m \u001b[1m8s\u001b[0m 2ms/step - loss: 0.0050 - val_loss: 0.0059\n",
      "Epoch 352/500\n",
      "\u001b[1m4588/4588\u001b[0m \u001b[32m━━━━━━━━━━━━━━━━━━━━\u001b[0m\u001b[37m\u001b[0m \u001b[1m8s\u001b[0m 2ms/step - loss: 0.0051 - val_loss: 0.0043\n",
      "Epoch 353/500\n",
      "\u001b[1m4588/4588\u001b[0m \u001b[32m━━━━━━━━━━━━━━━━━━━━\u001b[0m\u001b[37m\u001b[0m \u001b[1m9s\u001b[0m 2ms/step - loss: 0.0049 - val_loss: 0.0055\n",
      "Epoch 354/500\n",
      "\u001b[1m4588/4588\u001b[0m \u001b[32m━━━━━━━━━━━━━━━━━━━━\u001b[0m\u001b[37m\u001b[0m \u001b[1m8s\u001b[0m 2ms/step - loss: 0.0050 - val_loss: 0.0052\n",
      "Epoch 355/500\n",
      "\u001b[1m4588/4588\u001b[0m \u001b[32m━━━━━━━━━━━━━━━━━━━━\u001b[0m\u001b[37m\u001b[0m \u001b[1m8s\u001b[0m 2ms/step - loss: 0.0050 - val_loss: 0.0051\n",
      "Epoch 356/500\n",
      "\u001b[1m4588/4588\u001b[0m \u001b[32m━━━━━━━━━━━━━━━━━━━━\u001b[0m\u001b[37m\u001b[0m \u001b[1m8s\u001b[0m 2ms/step - loss: 0.0051 - val_loss: 0.0049\n",
      "Epoch 357/500\n",
      "\u001b[1m4588/4588\u001b[0m \u001b[32m━━━━━━━━━━━━━━━━━━━━\u001b[0m\u001b[37m\u001b[0m \u001b[1m9s\u001b[0m 2ms/step - loss: 0.0051 - val_loss: 0.0047\n",
      "Epoch 358/500\n",
      "\u001b[1m4588/4588\u001b[0m \u001b[32m━━━━━━━━━━━━━━━━━━━━\u001b[0m\u001b[37m\u001b[0m \u001b[1m8s\u001b[0m 2ms/step - loss: 0.0051 - val_loss: 0.0050\n",
      "Epoch 359/500\n",
      "\u001b[1m4588/4588\u001b[0m \u001b[32m━━━━━━━━━━━━━━━━━━━━\u001b[0m\u001b[37m\u001b[0m \u001b[1m9s\u001b[0m 2ms/step - loss: 0.0051 - val_loss: 0.0045\n",
      "Epoch 360/500\n",
      "\u001b[1m4588/4588\u001b[0m \u001b[32m━━━━━━━━━━━━━━━━━━━━\u001b[0m\u001b[37m\u001b[0m \u001b[1m8s\u001b[0m 2ms/step - loss: 0.0051 - val_loss: 0.0043\n",
      "Epoch 361/500\n",
      "\u001b[1m4588/4588\u001b[0m \u001b[32m━━━━━━━━━━━━━━━━━━━━\u001b[0m\u001b[37m\u001b[0m \u001b[1m9s\u001b[0m 2ms/step - loss: 0.0050 - val_loss: 0.0046\n",
      "Epoch 362/500\n",
      "\u001b[1m4588/4588\u001b[0m \u001b[32m━━━━━━━━━━━━━━━━━━━━\u001b[0m\u001b[37m\u001b[0m \u001b[1m9s\u001b[0m 2ms/step - loss: 0.0049 - val_loss: 0.0046\n",
      "Epoch 363/500\n",
      "\u001b[1m4588/4588\u001b[0m \u001b[32m━━━━━━━━━━━━━━━━━━━━\u001b[0m\u001b[37m\u001b[0m \u001b[1m8s\u001b[0m 2ms/step - loss: 0.0050 - val_loss: 0.0046\n",
      "Epoch 364/500\n",
      "\u001b[1m4588/4588\u001b[0m \u001b[32m━━━━━━━━━━━━━━━━━━━━\u001b[0m\u001b[37m\u001b[0m \u001b[1m9s\u001b[0m 2ms/step - loss: 0.0050 - val_loss: 0.0051\n",
      "Epoch 365/500\n",
      "\u001b[1m4588/4588\u001b[0m \u001b[32m━━━━━━━━━━━━━━━━━━━━\u001b[0m\u001b[37m\u001b[0m \u001b[1m8s\u001b[0m 2ms/step - loss: 0.0049 - val_loss: 0.0043\n",
      "Epoch 366/500\n",
      "\u001b[1m4588/4588\u001b[0m \u001b[32m━━━━━━━━━━━━━━━━━━━━\u001b[0m\u001b[37m\u001b[0m \u001b[1m9s\u001b[0m 2ms/step - loss: 0.0049 - val_loss: 0.0043\n",
      "Epoch 367/500\n",
      "\u001b[1m4588/4588\u001b[0m \u001b[32m━━━━━━━━━━━━━━━━━━━━\u001b[0m\u001b[37m\u001b[0m \u001b[1m8s\u001b[0m 2ms/step - loss: 0.0048 - val_loss: 0.0048\n",
      "Epoch 368/500\n",
      "\u001b[1m4588/4588\u001b[0m \u001b[32m━━━━━━━━━━━━━━━━━━━━\u001b[0m\u001b[37m\u001b[0m \u001b[1m8s\u001b[0m 2ms/step - loss: 0.0049 - val_loss: 0.0047\n",
      "Epoch 369/500\n",
      "\u001b[1m4588/4588\u001b[0m \u001b[32m━━━━━━━━━━━━━━━━━━━━\u001b[0m\u001b[37m\u001b[0m \u001b[1m8s\u001b[0m 2ms/step - loss: 0.0051 - val_loss: 0.0047\n",
      "Epoch 370/500\n",
      "\u001b[1m4588/4588\u001b[0m \u001b[32m━━━━━━━━━━━━━━━━━━━━\u001b[0m\u001b[37m\u001b[0m \u001b[1m8s\u001b[0m 2ms/step - loss: 0.0051 - val_loss: 0.0045\n",
      "Epoch 371/500\n",
      "\u001b[1m4588/4588\u001b[0m \u001b[32m━━━━━━━━━━━━━━━━━━━━\u001b[0m\u001b[37m\u001b[0m \u001b[1m9s\u001b[0m 2ms/step - loss: 0.0049 - val_loss: 0.0048\n",
      "Epoch 372/500\n",
      "\u001b[1m4588/4588\u001b[0m \u001b[32m━━━━━━━━━━━━━━━━━━━━\u001b[0m\u001b[37m\u001b[0m \u001b[1m9s\u001b[0m 2ms/step - loss: 0.0050 - val_loss: 0.0048\n",
      "Epoch 373/500\n",
      "\u001b[1m4588/4588\u001b[0m \u001b[32m━━━━━━━━━━━━━━━━━━━━\u001b[0m\u001b[37m\u001b[0m \u001b[1m8s\u001b[0m 2ms/step - loss: 0.0049 - val_loss: 0.0044\n",
      "Epoch 374/500\n",
      "\u001b[1m4588/4588\u001b[0m \u001b[32m━━━━━━━━━━━━━━━━━━━━\u001b[0m\u001b[37m\u001b[0m \u001b[1m8s\u001b[0m 2ms/step - loss: 0.0048 - val_loss: 0.0046\n",
      "Epoch 375/500\n",
      "\u001b[1m4588/4588\u001b[0m \u001b[32m━━━━━━━━━━━━━━━━━━━━\u001b[0m\u001b[37m\u001b[0m \u001b[1m8s\u001b[0m 2ms/step - loss: 0.0049 - val_loss: 0.0047\n",
      "Epoch 376/500\n",
      "\u001b[1m4588/4588\u001b[0m \u001b[32m━━━━━━━━━━━━━━━━━━━━\u001b[0m\u001b[37m\u001b[0m \u001b[1m8s\u001b[0m 2ms/step - loss: 0.0049 - val_loss: 0.0047\n",
      "Epoch 377/500\n",
      "\u001b[1m4588/4588\u001b[0m \u001b[32m━━━━━━━━━━━━━━━━━━━━\u001b[0m\u001b[37m\u001b[0m \u001b[1m7s\u001b[0m 2ms/step - loss: 0.0049 - val_loss: 0.0044\n",
      "Epoch 378/500\n",
      "\u001b[1m4588/4588\u001b[0m \u001b[32m━━━━━━━━━━━━━━━━━━━━\u001b[0m\u001b[37m\u001b[0m \u001b[1m7s\u001b[0m 2ms/step - loss: 0.0049 - val_loss: 0.0044\n",
      "Epoch 379/500\n",
      "\u001b[1m4588/4588\u001b[0m \u001b[32m━━━━━━━━━━━━━━━━━━━━\u001b[0m\u001b[37m\u001b[0m \u001b[1m8s\u001b[0m 2ms/step - loss: 0.0050 - val_loss: 0.0044\n",
      "Epoch 380/500\n",
      "\u001b[1m4588/4588\u001b[0m \u001b[32m━━━━━━━━━━━━━━━━━━━━\u001b[0m\u001b[37m\u001b[0m \u001b[1m7s\u001b[0m 2ms/step - loss: 0.0049 - val_loss: 0.0043\n",
      "Epoch 381/500\n",
      "\u001b[1m4588/4588\u001b[0m \u001b[32m━━━━━━━━━━━━━━━━━━━━\u001b[0m\u001b[37m\u001b[0m \u001b[1m7s\u001b[0m 2ms/step - loss: 0.0048 - val_loss: 0.0044\n",
      "Epoch 382/500\n",
      "\u001b[1m4588/4588\u001b[0m \u001b[32m━━━━━━━━━━━━━━━━━━━━\u001b[0m\u001b[37m\u001b[0m \u001b[1m8s\u001b[0m 2ms/step - loss: 0.0048 - val_loss: 0.0050\n",
      "Epoch 383/500\n",
      "\u001b[1m4588/4588\u001b[0m \u001b[32m━━━━━━━━━━━━━━━━━━━━\u001b[0m\u001b[37m\u001b[0m \u001b[1m7s\u001b[0m 2ms/step - loss: 0.0052 - val_loss: 0.0046\n",
      "Epoch 384/500\n",
      "\u001b[1m4588/4588\u001b[0m \u001b[32m━━━━━━━━━━━━━━━━━━━━\u001b[0m\u001b[37m\u001b[0m \u001b[1m10s\u001b[0m 2ms/step - loss: 0.0050 - val_loss: 0.0083\n",
      "Epoch 385/500\n",
      "\u001b[1m4588/4588\u001b[0m \u001b[32m━━━━━━━━━━━━━━━━━━━━\u001b[0m\u001b[37m\u001b[0m \u001b[1m7s\u001b[0m 2ms/step - loss: 0.0050 - val_loss: 0.0046\n",
      "Epoch 386/500\n",
      "\u001b[1m4588/4588\u001b[0m \u001b[32m━━━━━━━━━━━━━━━━━━━━\u001b[0m\u001b[37m\u001b[0m \u001b[1m7s\u001b[0m 2ms/step - loss: 0.0052 - val_loss: 0.0046\n",
      "Epoch 387/500\n",
      "\u001b[1m4588/4588\u001b[0m \u001b[32m━━━━━━━━━━━━━━━━━━━━\u001b[0m\u001b[37m\u001b[0m \u001b[1m7s\u001b[0m 2ms/step - loss: 0.0048 - val_loss: 0.0044\n",
      "Epoch 388/500\n",
      "\u001b[1m4588/4588\u001b[0m \u001b[32m━━━━━━━━━━━━━━━━━━━━\u001b[0m\u001b[37m\u001b[0m \u001b[1m8s\u001b[0m 2ms/step - loss: 0.0049 - val_loss: 0.0047\n",
      "Epoch 389/500\n",
      "\u001b[1m4588/4588\u001b[0m \u001b[32m━━━━━━━━━━━━━━━━━━━━\u001b[0m\u001b[37m\u001b[0m \u001b[1m7s\u001b[0m 2ms/step - loss: 0.0049 - val_loss: 0.0044\n",
      "Epoch 390/500\n",
      "\u001b[1m4588/4588\u001b[0m \u001b[32m━━━━━━━━━━━━━━━━━━━━\u001b[0m\u001b[37m\u001b[0m \u001b[1m7s\u001b[0m 2ms/step - loss: 0.0048 - val_loss: 0.0042\n",
      "Epoch 391/500\n",
      "\u001b[1m4588/4588\u001b[0m \u001b[32m━━━━━━━━━━━━━━━━━━━━\u001b[0m\u001b[37m\u001b[0m \u001b[1m7s\u001b[0m 2ms/step - loss: 0.0049 - val_loss: 0.0042\n",
      "Epoch 392/500\n",
      "\u001b[1m4588/4588\u001b[0m \u001b[32m━━━━━━━━━━━━━━━━━━━━\u001b[0m\u001b[37m\u001b[0m \u001b[1m8s\u001b[0m 2ms/step - loss: 0.0048 - val_loss: 0.0047\n",
      "Epoch 393/500\n",
      "\u001b[1m4588/4588\u001b[0m \u001b[32m━━━━━━━━━━━━━━━━━━━━\u001b[0m\u001b[37m\u001b[0m \u001b[1m8s\u001b[0m 2ms/step - loss: 0.0049 - val_loss: 0.0048\n",
      "Epoch 394/500\n",
      "\u001b[1m4588/4588\u001b[0m \u001b[32m━━━━━━━━━━━━━━━━━━━━\u001b[0m\u001b[37m\u001b[0m \u001b[1m7s\u001b[0m 2ms/step - loss: 0.0049 - val_loss: 0.0049\n",
      "Epoch 395/500\n",
      "\u001b[1m4588/4588\u001b[0m \u001b[32m━━━━━━━━━━━━━━━━━━━━\u001b[0m\u001b[37m\u001b[0m \u001b[1m7s\u001b[0m 2ms/step - loss: 0.0049 - val_loss: 0.0046\n",
      "Epoch 396/500\n",
      "\u001b[1m4588/4588\u001b[0m \u001b[32m━━━━━━━━━━━━━━━━━━━━\u001b[0m\u001b[37m\u001b[0m \u001b[1m8s\u001b[0m 2ms/step - loss: 0.0049 - val_loss: 0.0045\n",
      "Epoch 397/500\n",
      "\u001b[1m4588/4588\u001b[0m \u001b[32m━━━━━━━━━━━━━━━━━━━━\u001b[0m\u001b[37m\u001b[0m \u001b[1m8s\u001b[0m 2ms/step - loss: 0.0048 - val_loss: 0.0048\n",
      "Epoch 398/500\n",
      "\u001b[1m4588/4588\u001b[0m \u001b[32m━━━━━━━━━━━━━━━━━━━━\u001b[0m\u001b[37m\u001b[0m \u001b[1m8s\u001b[0m 2ms/step - loss: 0.0049 - val_loss: 0.0046\n",
      "Epoch 399/500\n",
      "\u001b[1m4588/4588\u001b[0m \u001b[32m━━━━━━━━━━━━━━━━━━━━\u001b[0m\u001b[37m\u001b[0m \u001b[1m8s\u001b[0m 2ms/step - loss: 0.0048 - val_loss: 0.0044\n",
      "Epoch 400/500\n",
      "\u001b[1m4588/4588\u001b[0m \u001b[32m━━━━━━━━━━━━━━━━━━━━\u001b[0m\u001b[37m\u001b[0m \u001b[1m8s\u001b[0m 2ms/step - loss: 0.0049 - val_loss: 0.0044\n",
      "Epoch 401/500\n",
      "\u001b[1m4588/4588\u001b[0m \u001b[32m━━━━━━━━━━━━━━━━━━━━\u001b[0m\u001b[37m\u001b[0m \u001b[1m8s\u001b[0m 2ms/step - loss: 0.0049 - val_loss: 0.0044\n",
      "Epoch 402/500\n",
      "\u001b[1m4588/4588\u001b[0m \u001b[32m━━━━━━━━━━━━━━━━━━━━\u001b[0m\u001b[37m\u001b[0m \u001b[1m8s\u001b[0m 2ms/step - loss: 0.0049 - val_loss: 0.0044\n",
      "Epoch 403/500\n",
      "\u001b[1m4588/4588\u001b[0m \u001b[32m━━━━━━━━━━━━━━━━━━━━\u001b[0m\u001b[37m\u001b[0m \u001b[1m8s\u001b[0m 2ms/step - loss: 0.0054 - val_loss: 0.0043\n",
      "Epoch 404/500\n",
      "\u001b[1m4588/4588\u001b[0m \u001b[32m━━━━━━━━━━━━━━━━━━━━\u001b[0m\u001b[37m\u001b[0m \u001b[1m8s\u001b[0m 2ms/step - loss: 0.0048 - val_loss: 0.0042\n",
      "Epoch 405/500\n",
      "\u001b[1m4588/4588\u001b[0m \u001b[32m━━━━━━━━━━━━━━━━━━━━\u001b[0m\u001b[37m\u001b[0m \u001b[1m8s\u001b[0m 2ms/step - loss: 0.0048 - val_loss: 0.0046\n",
      "Epoch 406/500\n",
      "\u001b[1m4588/4588\u001b[0m \u001b[32m━━━━━━━━━━━━━━━━━━━━\u001b[0m\u001b[37m\u001b[0m \u001b[1m8s\u001b[0m 2ms/step - loss: 0.0049 - val_loss: 0.0042\n",
      "Epoch 407/500\n",
      "\u001b[1m4588/4588\u001b[0m \u001b[32m━━━━━━━━━━━━━━━━━━━━\u001b[0m\u001b[37m\u001b[0m \u001b[1m8s\u001b[0m 2ms/step - loss: 0.0048 - val_loss: 0.0048\n",
      "Epoch 408/500\n",
      "\u001b[1m4588/4588\u001b[0m \u001b[32m━━━━━━━━━━━━━━━━━━━━\u001b[0m\u001b[37m\u001b[0m \u001b[1m8s\u001b[0m 2ms/step - loss: 0.0049 - val_loss: 0.0050\n",
      "Epoch 409/500\n",
      "\u001b[1m4588/4588\u001b[0m \u001b[32m━━━━━━━━━━━━━━━━━━━━\u001b[0m\u001b[37m\u001b[0m \u001b[1m8s\u001b[0m 2ms/step - loss: 0.0049 - val_loss: 0.0042\n",
      "Epoch 410/500\n",
      "\u001b[1m4588/4588\u001b[0m \u001b[32m━━━━━━━━━━━━━━━━━━━━\u001b[0m\u001b[37m\u001b[0m \u001b[1m8s\u001b[0m 2ms/step - loss: 0.0048 - val_loss: 0.0045\n",
      "Epoch 411/500\n",
      "\u001b[1m4588/4588\u001b[0m \u001b[32m━━━━━━━━━━━━━━━━━━━━\u001b[0m\u001b[37m\u001b[0m \u001b[1m8s\u001b[0m 2ms/step - loss: 0.0048 - val_loss: 0.0045\n",
      "Epoch 412/500\n",
      "\u001b[1m4588/4588\u001b[0m \u001b[32m━━━━━━━━━━━━━━━━━━━━\u001b[0m\u001b[37m\u001b[0m \u001b[1m8s\u001b[0m 2ms/step - loss: 0.0049 - val_loss: 0.0053\n",
      "Epoch 413/500\n",
      "\u001b[1m4588/4588\u001b[0m \u001b[32m━━━━━━━━━━━━━━━━━━━━\u001b[0m\u001b[37m\u001b[0m \u001b[1m8s\u001b[0m 2ms/step - loss: 0.0048 - val_loss: 0.0043\n",
      "Epoch 414/500\n",
      "\u001b[1m4588/4588\u001b[0m \u001b[32m━━━━━━━━━━━━━━━━━━━━\u001b[0m\u001b[37m\u001b[0m \u001b[1m8s\u001b[0m 2ms/step - loss: 0.0050 - val_loss: 0.0051\n",
      "Epoch 415/500\n",
      "\u001b[1m4588/4588\u001b[0m \u001b[32m━━━━━━━━━━━━━━━━━━━━\u001b[0m\u001b[37m\u001b[0m \u001b[1m8s\u001b[0m 2ms/step - loss: 0.0050 - val_loss: 0.0048\n",
      "Epoch 416/500\n",
      "\u001b[1m4588/4588\u001b[0m \u001b[32m━━━━━━━━━━━━━━━━━━━━\u001b[0m\u001b[37m\u001b[0m \u001b[1m8s\u001b[0m 2ms/step - loss: 0.0050 - val_loss: 0.0044\n",
      "Epoch 417/500\n",
      "\u001b[1m4588/4588\u001b[0m \u001b[32m━━━━━━━━━━━━━━━━━━━━\u001b[0m\u001b[37m\u001b[0m \u001b[1m8s\u001b[0m 2ms/step - loss: 0.0048 - val_loss: 0.0043\n",
      "Epoch 418/500\n",
      "\u001b[1m4588/4588\u001b[0m \u001b[32m━━━━━━━━━━━━━━━━━━━━\u001b[0m\u001b[37m\u001b[0m \u001b[1m8s\u001b[0m 2ms/step - loss: 0.0047 - val_loss: 0.0045\n",
      "Epoch 419/500\n",
      "\u001b[1m4588/4588\u001b[0m \u001b[32m━━━━━━━━━━━━━━━━━━━━\u001b[0m\u001b[37m\u001b[0m \u001b[1m8s\u001b[0m 2ms/step - loss: 0.0049 - val_loss: 0.0047\n",
      "Epoch 420/500\n",
      "\u001b[1m4588/4588\u001b[0m \u001b[32m━━━━━━━━━━━━━━━━━━━━\u001b[0m\u001b[37m\u001b[0m \u001b[1m8s\u001b[0m 2ms/step - loss: 0.0048 - val_loss: 0.0043\n",
      "Epoch 421/500\n",
      "\u001b[1m4588/4588\u001b[0m \u001b[32m━━━━━━━━━━━━━━━━━━━━\u001b[0m\u001b[37m\u001b[0m \u001b[1m8s\u001b[0m 2ms/step - loss: 0.0050 - val_loss: 0.0048\n",
      "Epoch 422/500\n",
      "\u001b[1m4588/4588\u001b[0m \u001b[32m━━━━━━━━━━━━━━━━━━━━\u001b[0m\u001b[37m\u001b[0m \u001b[1m8s\u001b[0m 2ms/step - loss: 0.0049 - val_loss: 0.0047\n",
      "Epoch 423/500\n",
      "\u001b[1m4588/4588\u001b[0m \u001b[32m━━━━━━━━━━━━━━━━━━━━\u001b[0m\u001b[37m\u001b[0m \u001b[1m7s\u001b[0m 2ms/step - loss: 0.0048 - val_loss: 0.0043\n",
      "Epoch 424/500\n",
      "\u001b[1m4588/4588\u001b[0m \u001b[32m━━━━━━━━━━━━━━━━━━━━\u001b[0m\u001b[37m\u001b[0m \u001b[1m7s\u001b[0m 2ms/step - loss: 0.0049 - val_loss: 0.0048\n",
      "Epoch 425/500\n",
      "\u001b[1m4588/4588\u001b[0m \u001b[32m━━━━━━━━━━━━━━━━━━━━\u001b[0m\u001b[37m\u001b[0m \u001b[1m7s\u001b[0m 2ms/step - loss: 0.0049 - val_loss: 0.0045\n",
      "Epoch 426/500\n",
      "\u001b[1m4588/4588\u001b[0m \u001b[32m━━━━━━━━━━━━━━━━━━━━\u001b[0m\u001b[37m\u001b[0m \u001b[1m8s\u001b[0m 2ms/step - loss: 0.0048 - val_loss: 0.0043\n",
      "Epoch 427/500\n",
      "\u001b[1m4588/4588\u001b[0m \u001b[32m━━━━━━━━━━━━━━━━━━━━\u001b[0m\u001b[37m\u001b[0m \u001b[1m7s\u001b[0m 2ms/step - loss: 0.0047 - val_loss: 0.0040\n",
      "Epoch 428/500\n",
      "\u001b[1m4588/4588\u001b[0m \u001b[32m━━━━━━━━━━━━━━━━━━━━\u001b[0m\u001b[37m\u001b[0m \u001b[1m8s\u001b[0m 2ms/step - loss: 0.0049 - val_loss: 0.0059\n",
      "Epoch 429/500\n",
      "\u001b[1m4588/4588\u001b[0m \u001b[32m━━━━━━━━━━━━━━━━━━━━\u001b[0m\u001b[37m\u001b[0m \u001b[1m8s\u001b[0m 2ms/step - loss: 0.0048 - val_loss: 0.0042\n",
      "Epoch 430/500\n",
      "\u001b[1m4588/4588\u001b[0m \u001b[32m━━━━━━━━━━━━━━━━━━━━\u001b[0m\u001b[37m\u001b[0m \u001b[1m10s\u001b[0m 2ms/step - loss: 0.0048 - val_loss: 0.0042\n",
      "Epoch 431/500\n",
      "\u001b[1m4588/4588\u001b[0m \u001b[32m━━━━━━━━━━━━━━━━━━━━\u001b[0m\u001b[37m\u001b[0m \u001b[1m7s\u001b[0m 2ms/step - loss: 0.0047 - val_loss: 0.0041\n",
      "Epoch 432/500\n",
      "\u001b[1m4588/4588\u001b[0m \u001b[32m━━━━━━━━━━━━━━━━━━━━\u001b[0m\u001b[37m\u001b[0m \u001b[1m8s\u001b[0m 2ms/step - loss: 0.0048 - val_loss: 0.0042\n",
      "Epoch 433/500\n",
      "\u001b[1m4588/4588\u001b[0m \u001b[32m━━━━━━━━━━━━━━━━━━━━\u001b[0m\u001b[37m\u001b[0m \u001b[1m7s\u001b[0m 2ms/step - loss: 0.0048 - val_loss: 0.0045\n",
      "Epoch 434/500\n",
      "\u001b[1m4588/4588\u001b[0m \u001b[32m━━━━━━━━━━━━━━━━━━━━\u001b[0m\u001b[37m\u001b[0m \u001b[1m7s\u001b[0m 2ms/step - loss: 0.0053 - val_loss: 0.0044\n",
      "Epoch 435/500\n",
      "\u001b[1m4588/4588\u001b[0m \u001b[32m━━━━━━━━━━━━━━━━━━━━\u001b[0m\u001b[37m\u001b[0m \u001b[1m7s\u001b[0m 2ms/step - loss: 0.0047 - val_loss: 0.0042\n",
      "Epoch 436/500\n",
      "\u001b[1m4588/4588\u001b[0m \u001b[32m━━━━━━━━━━━━━━━━━━━━\u001b[0m\u001b[37m\u001b[0m \u001b[1m7s\u001b[0m 2ms/step - loss: 0.0048 - val_loss: 0.0047\n",
      "Epoch 437/500\n",
      "\u001b[1m4588/4588\u001b[0m \u001b[32m━━━━━━━━━━━━━━━━━━━━\u001b[0m\u001b[37m\u001b[0m \u001b[1m7s\u001b[0m 2ms/step - loss: 0.0048 - val_loss: 0.0042\n",
      "Epoch 438/500\n",
      "\u001b[1m4588/4588\u001b[0m \u001b[32m━━━━━━━━━━━━━━━━━━━━\u001b[0m\u001b[37m\u001b[0m \u001b[1m7s\u001b[0m 2ms/step - loss: 0.0049 - val_loss: 0.0042\n",
      "Epoch 439/500\n",
      "\u001b[1m4588/4588\u001b[0m \u001b[32m━━━━━━━━━━━━━━━━━━━━\u001b[0m\u001b[37m\u001b[0m \u001b[1m11s\u001b[0m 2ms/step - loss: 0.0049 - val_loss: 0.0049\n",
      "Epoch 440/500\n",
      "\u001b[1m4588/4588\u001b[0m \u001b[32m━━━━━━━━━━━━━━━━━━━━\u001b[0m\u001b[37m\u001b[0m \u001b[1m7s\u001b[0m 2ms/step - loss: 0.0049 - val_loss: 0.0042\n",
      "Epoch 441/500\n",
      "\u001b[1m4588/4588\u001b[0m \u001b[32m━━━━━━━━━━━━━━━━━━━━\u001b[0m\u001b[37m\u001b[0m \u001b[1m7s\u001b[0m 2ms/step - loss: 0.0049 - val_loss: 0.0043\n",
      "Epoch 442/500\n",
      "\u001b[1m4588/4588\u001b[0m \u001b[32m━━━━━━━━━━━━━━━━━━━━\u001b[0m\u001b[37m\u001b[0m \u001b[1m7s\u001b[0m 2ms/step - loss: 0.0048 - val_loss: 0.0045\n",
      "Epoch 443/500\n",
      "\u001b[1m4588/4588\u001b[0m \u001b[32m━━━━━━━━━━━━━━━━━━━━\u001b[0m\u001b[37m\u001b[0m \u001b[1m7s\u001b[0m 2ms/step - loss: 0.0046 - val_loss: 0.0060\n",
      "Epoch 444/500\n",
      "\u001b[1m4588/4588\u001b[0m \u001b[32m━━━━━━━━━━━━━━━━━━━━\u001b[0m\u001b[37m\u001b[0m \u001b[1m7s\u001b[0m 2ms/step - loss: 0.0049 - val_loss: 0.0051\n",
      "Epoch 445/500\n",
      "\u001b[1m4588/4588\u001b[0m \u001b[32m━━━━━━━━━━━━━━━━━━━━\u001b[0m\u001b[37m\u001b[0m \u001b[1m8s\u001b[0m 2ms/step - loss: 0.0047 - val_loss: 0.0040\n",
      "Epoch 446/500\n",
      "\u001b[1m4588/4588\u001b[0m \u001b[32m━━━━━━━━━━━━━━━━━━━━\u001b[0m\u001b[37m\u001b[0m \u001b[1m8s\u001b[0m 2ms/step - loss: 0.0048 - val_loss: 0.0052\n",
      "Epoch 447/500\n",
      "\u001b[1m4588/4588\u001b[0m \u001b[32m━━━━━━━━━━━━━━━━━━━━\u001b[0m\u001b[37m\u001b[0m \u001b[1m8s\u001b[0m 2ms/step - loss: 0.0050 - val_loss: 0.0042\n",
      "Epoch 448/500\n",
      "\u001b[1m4588/4588\u001b[0m \u001b[32m━━━━━━━━━━━━━━━━━━━━\u001b[0m\u001b[37m\u001b[0m \u001b[1m8s\u001b[0m 2ms/step - loss: 0.0048 - val_loss: 0.0042\n",
      "Epoch 449/500\n",
      "\u001b[1m4588/4588\u001b[0m \u001b[32m━━━━━━━━━━━━━━━━━━━━\u001b[0m\u001b[37m\u001b[0m \u001b[1m8s\u001b[0m 2ms/step - loss: 0.0046 - val_loss: 0.0044\n",
      "Epoch 450/500\n",
      "\u001b[1m4588/4588\u001b[0m \u001b[32m━━━━━━━━━━━━━━━━━━━━\u001b[0m\u001b[37m\u001b[0m \u001b[1m7s\u001b[0m 2ms/step - loss: 0.0048 - val_loss: 0.0046\n",
      "Epoch 451/500\n",
      "\u001b[1m4588/4588\u001b[0m \u001b[32m━━━━━━━━━━━━━━━━━━━━\u001b[0m\u001b[37m\u001b[0m \u001b[1m8s\u001b[0m 2ms/step - loss: 0.0047 - val_loss: 0.0041\n",
      "Epoch 452/500\n",
      "\u001b[1m4588/4588\u001b[0m \u001b[32m━━━━━━━━━━━━━━━━━━━━\u001b[0m\u001b[37m\u001b[0m \u001b[1m7s\u001b[0m 2ms/step - loss: 0.0048 - val_loss: 0.0045\n",
      "Epoch 453/500\n",
      "\u001b[1m4588/4588\u001b[0m \u001b[32m━━━━━━━━━━━━━━━━━━━━\u001b[0m\u001b[37m\u001b[0m \u001b[1m8s\u001b[0m 2ms/step - loss: 0.0049 - val_loss: 0.0054\n",
      "Epoch 454/500\n",
      "\u001b[1m4588/4588\u001b[0m \u001b[32m━━━━━━━━━━━━━━━━━━━━\u001b[0m\u001b[37m\u001b[0m \u001b[1m8s\u001b[0m 2ms/step - loss: 0.0047 - val_loss: 0.0052\n",
      "Epoch 455/500\n",
      "\u001b[1m4588/4588\u001b[0m \u001b[32m━━━━━━━━━━━━━━━━━━━━\u001b[0m\u001b[37m\u001b[0m \u001b[1m7s\u001b[0m 2ms/step - loss: 0.0050 - val_loss: 0.0054\n",
      "Epoch 456/500\n",
      "\u001b[1m4588/4588\u001b[0m \u001b[32m━━━━━━━━━━━━━━━━━━━━\u001b[0m\u001b[37m\u001b[0m \u001b[1m7s\u001b[0m 2ms/step - loss: 0.0047 - val_loss: 0.0045\n",
      "Epoch 457/500\n",
      "\u001b[1m4588/4588\u001b[0m \u001b[32m━━━━━━━━━━━━━━━━━━━━\u001b[0m\u001b[37m\u001b[0m \u001b[1m7s\u001b[0m 1ms/step - loss: 0.0048 - val_loss: 0.0040\n",
      "Epoch 458/500\n",
      "\u001b[1m4588/4588\u001b[0m \u001b[32m━━━━━━━━━━━━━━━━━━━━\u001b[0m\u001b[37m\u001b[0m \u001b[1m7s\u001b[0m 2ms/step - loss: 0.0047 - val_loss: 0.0042\n",
      "Epoch 459/500\n",
      "\u001b[1m4588/4588\u001b[0m \u001b[32m━━━━━━━━━━━━━━━━━━━━\u001b[0m\u001b[37m\u001b[0m \u001b[1m7s\u001b[0m 2ms/step - loss: 0.0046 - val_loss: 0.0045\n",
      "Epoch 460/500\n",
      "\u001b[1m4588/4588\u001b[0m \u001b[32m━━━━━━━━━━━━━━━━━━━━\u001b[0m\u001b[37m\u001b[0m \u001b[1m8s\u001b[0m 2ms/step - loss: 0.0048 - val_loss: 0.0049\n",
      "Epoch 461/500\n",
      "\u001b[1m4588/4588\u001b[0m \u001b[32m━━━━━━━━━━━━━━━━━━━━\u001b[0m\u001b[37m\u001b[0m \u001b[1m7s\u001b[0m 2ms/step - loss: 0.0048 - val_loss: 0.0050\n",
      "Epoch 462/500\n",
      "\u001b[1m4588/4588\u001b[0m \u001b[32m━━━━━━━━━━━━━━━━━━━━\u001b[0m\u001b[37m\u001b[0m \u001b[1m7s\u001b[0m 2ms/step - loss: 0.0047 - val_loss: 0.0048\n",
      "Epoch 463/500\n",
      "\u001b[1m4588/4588\u001b[0m \u001b[32m━━━━━━━━━━━━━━━━━━━━\u001b[0m\u001b[37m\u001b[0m \u001b[1m7s\u001b[0m 2ms/step - loss: 0.0051 - val_loss: 0.0046\n",
      "Epoch 464/500\n",
      "\u001b[1m4588/4588\u001b[0m \u001b[32m━━━━━━━━━━━━━━━━━━━━\u001b[0m\u001b[37m\u001b[0m \u001b[1m7s\u001b[0m 2ms/step - loss: 0.0047 - val_loss: 0.0043\n",
      "Epoch 465/500\n",
      "\u001b[1m4588/4588\u001b[0m \u001b[32m━━━━━━━━━━━━━━━━━━━━\u001b[0m\u001b[37m\u001b[0m \u001b[1m7s\u001b[0m 2ms/step - loss: 0.0049 - val_loss: 0.0046\n",
      "Epoch 466/500\n",
      "\u001b[1m4588/4588\u001b[0m \u001b[32m━━━━━━━━━━━━━━━━━━━━\u001b[0m\u001b[37m\u001b[0m \u001b[1m7s\u001b[0m 1ms/step - loss: 0.0047 - val_loss: 0.0047\n",
      "Epoch 467/500\n",
      "\u001b[1m4588/4588\u001b[0m \u001b[32m━━━━━━━━━━━━━━━━━━━━\u001b[0m\u001b[37m\u001b[0m \u001b[1m7s\u001b[0m 2ms/step - loss: 0.0049 - val_loss: 0.0044\n",
      "Epoch 468/500\n",
      "\u001b[1m4588/4588\u001b[0m \u001b[32m━━━━━━━━━━━━━━━━━━━━\u001b[0m\u001b[37m\u001b[0m \u001b[1m7s\u001b[0m 1ms/step - loss: 0.0048 - val_loss: 0.0044\n",
      "Epoch 469/500\n",
      "\u001b[1m4588/4588\u001b[0m \u001b[32m━━━━━━━━━━━━━━━━━━━━\u001b[0m\u001b[37m\u001b[0m \u001b[1m7s\u001b[0m 2ms/step - loss: 0.0048 - val_loss: 0.0042\n",
      "Epoch 470/500\n",
      "\u001b[1m4588/4588\u001b[0m \u001b[32m━━━━━━━━━━━━━━━━━━━━\u001b[0m\u001b[37m\u001b[0m \u001b[1m7s\u001b[0m 2ms/step - loss: 0.0047 - val_loss: 0.0046\n",
      "Epoch 471/500\n",
      "\u001b[1m4588/4588\u001b[0m \u001b[32m━━━━━━━━━━━━━━━━━━━━\u001b[0m\u001b[37m\u001b[0m \u001b[1m7s\u001b[0m 1ms/step - loss: 0.0048 - val_loss: 0.0048\n",
      "Epoch 472/500\n",
      "\u001b[1m4588/4588\u001b[0m \u001b[32m━━━━━━━━━━━━━━━━━━━━\u001b[0m\u001b[37m\u001b[0m \u001b[1m7s\u001b[0m 2ms/step - loss: 0.0047 - val_loss: 0.0045\n",
      "Epoch 473/500\n",
      "\u001b[1m4588/4588\u001b[0m \u001b[32m━━━━━━━━━━━━━━━━━━━━\u001b[0m\u001b[37m\u001b[0m \u001b[1m7s\u001b[0m 1ms/step - loss: 0.0047 - val_loss: 0.0043\n",
      "Epoch 474/500\n",
      "\u001b[1m4588/4588\u001b[0m \u001b[32m━━━━━━━━━━━━━━━━━━━━\u001b[0m\u001b[37m\u001b[0m \u001b[1m7s\u001b[0m 2ms/step - loss: 0.0048 - val_loss: 0.0055\n",
      "Epoch 475/500\n",
      "\u001b[1m4588/4588\u001b[0m \u001b[32m━━━━━━━━━━━━━━━━━━━━\u001b[0m\u001b[37m\u001b[0m \u001b[1m7s\u001b[0m 2ms/step - loss: 0.0048 - val_loss: 0.0046\n",
      "Epoch 476/500\n",
      "\u001b[1m4588/4588\u001b[0m \u001b[32m━━━━━━━━━━━━━━━━━━━━\u001b[0m\u001b[37m\u001b[0m \u001b[1m7s\u001b[0m 2ms/step - loss: 0.0047 - val_loss: 0.0041\n",
      "Epoch 477/500\n",
      "\u001b[1m4588/4588\u001b[0m \u001b[32m━━━━━━━━━━━━━━━━━━━━\u001b[0m\u001b[37m\u001b[0m \u001b[1m7s\u001b[0m 2ms/step - loss: 0.0047 - val_loss: 0.0042\n",
      "Epoch 478/500\n",
      "\u001b[1m4588/4588\u001b[0m \u001b[32m━━━━━━━━━━━━━━━━━━━━\u001b[0m\u001b[37m\u001b[0m \u001b[1m7s\u001b[0m 2ms/step - loss: 0.0048 - val_loss: 0.0044\n",
      "Epoch 479/500\n",
      "\u001b[1m4588/4588\u001b[0m \u001b[32m━━━━━━━━━━━━━━━━━━━━\u001b[0m\u001b[37m\u001b[0m \u001b[1m7s\u001b[0m 2ms/step - loss: 0.0047 - val_loss: 0.0045\n",
      "Epoch 480/500\n",
      "\u001b[1m4588/4588\u001b[0m \u001b[32m━━━━━━━━━━━━━━━━━━━━\u001b[0m\u001b[37m\u001b[0m \u001b[1m7s\u001b[0m 2ms/step - loss: 0.0050 - val_loss: 0.0044\n",
      "Epoch 481/500\n",
      "\u001b[1m4588/4588\u001b[0m \u001b[32m━━━━━━━━━━━━━━━━━━━━\u001b[0m\u001b[37m\u001b[0m \u001b[1m7s\u001b[0m 2ms/step - loss: 0.0048 - val_loss: 0.0065\n",
      "Epoch 482/500\n",
      "\u001b[1m4588/4588\u001b[0m \u001b[32m━━━━━━━━━━━━━━━━━━━━\u001b[0m\u001b[37m\u001b[0m \u001b[1m7s\u001b[0m 2ms/step - loss: 0.0047 - val_loss: 0.0044\n",
      "Epoch 483/500\n",
      "\u001b[1m4588/4588\u001b[0m \u001b[32m━━━━━━━━━━━━━━━━━━━━\u001b[0m\u001b[37m\u001b[0m \u001b[1m7s\u001b[0m 2ms/step - loss: 0.0046 - val_loss: 0.0044\n",
      "Epoch 484/500\n",
      "\u001b[1m4588/4588\u001b[0m \u001b[32m━━━━━━━━━━━━━━━━━━━━\u001b[0m\u001b[37m\u001b[0m \u001b[1m7s\u001b[0m 2ms/step - loss: 0.0047 - val_loss: 0.0042\n",
      "Epoch 485/500\n",
      "\u001b[1m4588/4588\u001b[0m \u001b[32m━━━━━━━━━━━━━━━━━━━━\u001b[0m\u001b[37m\u001b[0m \u001b[1m8s\u001b[0m 2ms/step - loss: 0.0047 - val_loss: 0.0046\n",
      "Epoch 486/500\n",
      "\u001b[1m4588/4588\u001b[0m \u001b[32m━━━━━━━━━━━━━━━━━━━━\u001b[0m\u001b[37m\u001b[0m \u001b[1m7s\u001b[0m 2ms/step - loss: 0.0047 - val_loss: 0.0041\n",
      "Epoch 487/500\n",
      "\u001b[1m4588/4588\u001b[0m \u001b[32m━━━━━━━━━━━━━━━━━━━━\u001b[0m\u001b[37m\u001b[0m \u001b[1m7s\u001b[0m 2ms/step - loss: 0.0046 - val_loss: 0.0044\n",
      "Epoch 488/500\n",
      "\u001b[1m4588/4588\u001b[0m \u001b[32m━━━━━━━━━━━━━━━━━━━━\u001b[0m\u001b[37m\u001b[0m \u001b[1m7s\u001b[0m 2ms/step - loss: 0.0047 - val_loss: 0.0041\n",
      "Epoch 489/500\n",
      "\u001b[1m4588/4588\u001b[0m \u001b[32m━━━━━━━━━━━━━━━━━━━━\u001b[0m\u001b[37m\u001b[0m \u001b[1m8s\u001b[0m 2ms/step - loss: 0.0048 - val_loss: 0.0041\n",
      "Epoch 490/500\n",
      "\u001b[1m4588/4588\u001b[0m \u001b[32m━━━━━━━━━━━━━━━━━━━━\u001b[0m\u001b[37m\u001b[0m \u001b[1m7s\u001b[0m 2ms/step - loss: 0.0047 - val_loss: 0.0041\n",
      "Epoch 491/500\n",
      "\u001b[1m4588/4588\u001b[0m \u001b[32m━━━━━━━━━━━━━━━━━━━━\u001b[0m\u001b[37m\u001b[0m \u001b[1m8s\u001b[0m 2ms/step - loss: 0.0046 - val_loss: 0.0041\n",
      "Epoch 492/500\n",
      "\u001b[1m4588/4588\u001b[0m \u001b[32m━━━━━━━━━━━━━━━━━━━━\u001b[0m\u001b[37m\u001b[0m \u001b[1m7s\u001b[0m 2ms/step - loss: 0.0046 - val_loss: 0.0054\n",
      "Epoch 493/500\n",
      "\u001b[1m4588/4588\u001b[0m \u001b[32m━━━━━━━━━━━━━━━━━━━━\u001b[0m\u001b[37m\u001b[0m \u001b[1m7s\u001b[0m 2ms/step - loss: 0.0046 - val_loss: 0.0045\n",
      "Epoch 494/500\n",
      "\u001b[1m4588/4588\u001b[0m \u001b[32m━━━━━━━━━━━━━━━━━━━━\u001b[0m\u001b[37m\u001b[0m \u001b[1m7s\u001b[0m 2ms/step - loss: 0.0047 - val_loss: 0.0059\n",
      "Epoch 495/500\n",
      "\u001b[1m4588/4588\u001b[0m \u001b[32m━━━━━━━━━━━━━━━━━━━━\u001b[0m\u001b[37m\u001b[0m \u001b[1m7s\u001b[0m 2ms/step - loss: 0.0049 - val_loss: 0.0046\n",
      "Epoch 496/500\n",
      "\u001b[1m4588/4588\u001b[0m \u001b[32m━━━━━━━━━━━━━━━━━━━━\u001b[0m\u001b[37m\u001b[0m \u001b[1m7s\u001b[0m 2ms/step - loss: 0.0047 - val_loss: 0.0046\n",
      "Epoch 497/500\n",
      "\u001b[1m4588/4588\u001b[0m \u001b[32m━━━━━━━━━━━━━━━━━━━━\u001b[0m\u001b[37m\u001b[0m \u001b[1m7s\u001b[0m 2ms/step - loss: 0.0047 - val_loss: 0.0042\n",
      "Epoch 498/500\n",
      "\u001b[1m4588/4588\u001b[0m \u001b[32m━━━━━━━━━━━━━━━━━━━━\u001b[0m\u001b[37m\u001b[0m \u001b[1m8s\u001b[0m 2ms/step - loss: 0.0051 - val_loss: 0.0046\n",
      "Epoch 499/500\n",
      "\u001b[1m4588/4588\u001b[0m \u001b[32m━━━━━━━━━━━━━━━━━━━━\u001b[0m\u001b[37m\u001b[0m \u001b[1m7s\u001b[0m 2ms/step - loss: 0.0049 - val_loss: 0.0044\n",
      "Epoch 500/500\n",
      "\u001b[1m4588/4588\u001b[0m \u001b[32m━━━━━━━━━━━━━━━━━━━━\u001b[0m\u001b[37m\u001b[0m \u001b[1m7s\u001b[0m 2ms/step - loss: 0.0048 - val_loss: 0.0046\n"
     ]
    }
   ],
   "source": [
    "history=model.fit(x_train,y_train ,validation_data=(x_test,y_test), batch_size=128, epochs=500)"
   ]
  },
  {
   "cell_type": "code",
   "execution_count": 55,
   "id": "4bc2d116-756a-4c7d-b9d1-e44fa56d0b6e",
   "metadata": {},
   "outputs": [
    {
     "name": "stdout",
     "output_type": "stream",
     "text": [
      "\u001b[1m4588/4588\u001b[0m \u001b[32m━━━━━━━━━━━━━━━━━━━━\u001b[0m\u001b[37m\u001b[0m \u001b[1m5s\u001b[0m 1ms/step\n"
     ]
    }
   ],
   "source": [
    "tahmin=model.predict(x_test)"
   ]
  },
  {
   "cell_type": "code",
   "execution_count": 56,
   "id": "6d12bb8c-3b3b-48b0-a782-de13711acd86",
   "metadata": {},
   "outputs": [
    {
     "data": {
      "text/plain": [
       "0.9973459488937578"
      ]
     },
     "execution_count": 56,
     "metadata": {},
     "output_type": "execute_result"
    }
   ],
   "source": [
    "r2_score(tahmin,y_test)"
   ]
  },
  {
   "cell_type": "code",
   "execution_count": 57,
   "id": "4a5d79a4-3b19-48cc-8307-3edcb783230d",
   "metadata": {},
   "outputs": [
    {
     "data": {
      "text/plain": [
       "0.06755538651200815"
      ]
     },
     "execution_count": 57,
     "metadata": {},
     "output_type": "execute_result"
    }
   ],
   "source": [
    "mean_squared_error(tahmin,y_test)**.5"
   ]
  },
  {
   "cell_type": "code",
   "execution_count": 58,
   "id": "22ebe19f-90d0-40a9-94f2-60e486243775",
   "metadata": {},
   "outputs": [],
   "source": [
    "loss_f=pd.DataFrame(history.history)"
   ]
  },
  {
   "cell_type": "code",
   "execution_count": 59,
   "id": "aac6551e-bb9f-4432-8c53-27d05c45b756",
   "metadata": {},
   "outputs": [
    {
     "data": {
      "text/plain": [
       "<Axes: >"
      ]
     },
     "execution_count": 59,
     "metadata": {},
     "output_type": "execute_result"
    },
    {
     "data": {
      "image/png": "[encoded data removed]",
      "text/plain": [
       "<Figure size 640x480 with 1 Axes>"
      ]
     },
     "metadata": {},
     "output_type": "display_data"
    }
   ],
   "source": [
    "loss_f.plot()"
   ]
  },
  {
   "cell_type": "markdown",
   "id": "a4fbf904-f3bc-4cde-9d70-0085c943efd1",
   "metadata": {},
   "source": [
    "Pu projede CiVilium un zamana baglı fiyat degisikliklerini analiz edip gelecekteki fiyatlarını tahmin eden bir model olusturduk."
   ]
  }
 ],
 "metadata": {
  "kernelspec": {
   "display_name": "Python 3 (ipykernel)",
   "language": "python",
   "name": "python3"
  },
  "language_info": {
   "codemirror_mode": {
    "name": "ipython",
    "version": 3
   },
   "file_extension": ".py",
   "mimetype": "text/x-python",
   "name": "python",
   "nbconvert_exporter": "python",
   "pygments_lexer": "ipython3",
   "version": "3.12.3"
  }
 },
 "nbformat": 4,
 "nbformat_minor": 5
}
