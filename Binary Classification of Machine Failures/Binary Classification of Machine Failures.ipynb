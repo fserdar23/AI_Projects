{
 "cells": [
  {
   "cell_type": "markdown",
   "id": "550bb882-8ff2-499d-bc40-a8cba0d352a3",
   "metadata": {},
   "source": [
    "# Binary Classification of Machine Failures"
   ]
  },
  {
   "cell_type": "markdown",
   "id": "be83df1e-ecb7-4ebf-a760-5cf69178cefb",
   "metadata": {},
   "source": [
    "Bu projemizde makine arızalarını tahmin eden bir model geliştirecegiz."
   ]
  },
  {
   "cell_type": "markdown",
   "id": "b5422fcc-0869-48ba-bf3a-a9a6134b115b",
   "metadata": {},
   "source": [
    "<img src=\"https://www.valvolineglobal.com/4ad8d7/globalassets/vcom/article%20tile%20blocks/european%20images%20collection/hard%20working%20conditions.png\">"
   ]
  },
  {
   "cell_type": "markdown",
   "id": "eccf801c-b9d7-4c22-92ec-bd500dc21e2a",
   "metadata": {},
   "source": [
    "<a href=\"https://www.kaggle.com/competitions/playground-series-s3e17/data\">Dataya Buradan Erişebilirsiniz</a>"
   ]
  },
  {
   "cell_type": "code",
   "execution_count": 1,
   "id": "9f3b1697-77c8-4e90-9e55-f6ad9a901cae",
   "metadata": {},
   "outputs": [],
   "source": [
    "import pandas as pd\n",
    "import matplotlib.pyplot as plt\n",
    "import seaborn as sns\n",
    "\n",
    "pd.set_option(\"display.max_columns\",100)\n",
    "\n",
    "import warnings\n",
    "warnings.filterwarnings(\"ignore\")"
   ]
  },
  {
   "cell_type": "code",
   "execution_count": 2,
   "id": "69d54b8f-fe58-4fc3-a95e-2717177c209e",
   "metadata": {},
   "outputs": [],
   "source": [
    "df=pd.read_csv(\"train.csv\")"
   ]
  },
  {
   "cell_type": "code",
   "execution_count": 3,
   "id": "e9350f5e-bfd4-4b55-88df-d56005a4836e",
   "metadata": {},
   "outputs": [
    {
     "data": {
      "text/html": [
       "<div>\n",
       "<style scoped>\n",
       "    .dataframe tbody tr th:only-of-type {\n",
       "        vertical-align: middle;\n",
       "    }\n",
       "\n",
       "    .dataframe tbody tr th {\n",
       "        vertical-align: top;\n",
       "    }\n",
       "\n",
       "    .dataframe thead th {\n",
       "        text-align: right;\n",
       "    }\n",
       "</style>\n",
       "<table border=\"1\" class=\"dataframe\">\n",
       "  <thead>\n",
       "    <tr style=\"text-align: right;\">\n",
       "      <th></th>\n",
       "      <th>id</th>\n",
       "      <th>Product ID</th>\n",
       "      <th>Type</th>\n",
       "      <th>Air temperature [K]</th>\n",
       "      <th>Process temperature [K]</th>\n",
       "      <th>Rotational speed [rpm]</th>\n",
       "      <th>Torque [Nm]</th>\n",
       "      <th>Tool wear [min]</th>\n",
       "      <th>Machine failure</th>\n",
       "      <th>TWF</th>\n",
       "      <th>HDF</th>\n",
       "      <th>PWF</th>\n",
       "      <th>OSF</th>\n",
       "      <th>RNF</th>\n",
       "    </tr>\n",
       "  </thead>\n",
       "  <tbody>\n",
       "    <tr>\n",
       "      <th>0</th>\n",
       "      <td>0</td>\n",
       "      <td>L50096</td>\n",
       "      <td>L</td>\n",
       "      <td>300.6</td>\n",
       "      <td>309.6</td>\n",
       "      <td>1596</td>\n",
       "      <td>36.1</td>\n",
       "      <td>140</td>\n",
       "      <td>0</td>\n",
       "      <td>0</td>\n",
       "      <td>0</td>\n",
       "      <td>0</td>\n",
       "      <td>0</td>\n",
       "      <td>0</td>\n",
       "    </tr>\n",
       "    <tr>\n",
       "      <th>1</th>\n",
       "      <td>1</td>\n",
       "      <td>M20343</td>\n",
       "      <td>M</td>\n",
       "      <td>302.6</td>\n",
       "      <td>312.1</td>\n",
       "      <td>1759</td>\n",
       "      <td>29.1</td>\n",
       "      <td>200</td>\n",
       "      <td>0</td>\n",
       "      <td>0</td>\n",
       "      <td>0</td>\n",
       "      <td>0</td>\n",
       "      <td>0</td>\n",
       "      <td>0</td>\n",
       "    </tr>\n",
       "    <tr>\n",
       "      <th>2</th>\n",
       "      <td>2</td>\n",
       "      <td>L49454</td>\n",
       "      <td>L</td>\n",
       "      <td>299.3</td>\n",
       "      <td>308.5</td>\n",
       "      <td>1805</td>\n",
       "      <td>26.5</td>\n",
       "      <td>25</td>\n",
       "      <td>0</td>\n",
       "      <td>0</td>\n",
       "      <td>0</td>\n",
       "      <td>0</td>\n",
       "      <td>0</td>\n",
       "      <td>0</td>\n",
       "    </tr>\n",
       "    <tr>\n",
       "      <th>3</th>\n",
       "      <td>3</td>\n",
       "      <td>L53355</td>\n",
       "      <td>L</td>\n",
       "      <td>301.0</td>\n",
       "      <td>310.9</td>\n",
       "      <td>1524</td>\n",
       "      <td>44.3</td>\n",
       "      <td>197</td>\n",
       "      <td>0</td>\n",
       "      <td>0</td>\n",
       "      <td>0</td>\n",
       "      <td>0</td>\n",
       "      <td>0</td>\n",
       "      <td>0</td>\n",
       "    </tr>\n",
       "    <tr>\n",
       "      <th>4</th>\n",
       "      <td>4</td>\n",
       "      <td>M24050</td>\n",
       "      <td>M</td>\n",
       "      <td>298.0</td>\n",
       "      <td>309.0</td>\n",
       "      <td>1641</td>\n",
       "      <td>35.4</td>\n",
       "      <td>34</td>\n",
       "      <td>0</td>\n",
       "      <td>0</td>\n",
       "      <td>0</td>\n",
       "      <td>0</td>\n",
       "      <td>0</td>\n",
       "      <td>0</td>\n",
       "    </tr>\n",
       "  </tbody>\n",
       "</table>\n",
       "</div>"
      ],
      "text/plain": [
       "   id Product ID Type  Air temperature [K]  Process temperature [K]  \\\n",
       "0   0     L50096    L                300.6                    309.6   \n",
       "1   1     M20343    M                302.6                    312.1   \n",
       "2   2     L49454    L                299.3                    308.5   \n",
       "3   3     L53355    L                301.0                    310.9   \n",
       "4   4     M24050    M                298.0                    309.0   \n",
       "\n",
       "   Rotational speed [rpm]  Torque [Nm]  Tool wear [min]  Machine failure  TWF  \\\n",
       "0                    1596         36.1              140                0    0   \n",
       "1                    1759         29.1              200                0    0   \n",
       "2                    1805         26.5               25                0    0   \n",
       "3                    1524         44.3              197                0    0   \n",
       "4                    1641         35.4               34                0    0   \n",
       "\n",
       "   HDF  PWF  OSF  RNF  \n",
       "0    0    0    0    0  \n",
       "1    0    0    0    0  \n",
       "2    0    0    0    0  \n",
       "3    0    0    0    0  \n",
       "4    0    0    0    0  "
      ]
     },
     "execution_count": 3,
     "metadata": {},
     "output_type": "execute_result"
    }
   ],
   "source": [
    "df.head()"
   ]
  },
  {
   "cell_type": "code",
   "execution_count": 4,
   "id": "2bba3cd5-a6bd-4a14-bb10-8f45b87b9386",
   "metadata": {},
   "outputs": [
    {
     "data": {
      "text/plain": [
       "(136429, 14)"
      ]
     },
     "execution_count": 4,
     "metadata": {},
     "output_type": "execute_result"
    }
   ],
   "source": [
    "df.shape"
   ]
  },
  {
   "cell_type": "code",
   "execution_count": 5,
   "id": "23b26c82-8226-436d-a201-3b35d4c5b496",
   "metadata": {},
   "outputs": [
    {
     "name": "stdout",
     "output_type": "stream",
     "text": [
      "<class 'pandas.core.frame.DataFrame'>\n",
      "RangeIndex: 136429 entries, 0 to 136428\n",
      "Data columns (total 14 columns):\n",
      " #   Column                   Non-Null Count   Dtype  \n",
      "---  ------                   --------------   -----  \n",
      " 0   id                       136429 non-null  int64  \n",
      " 1   Product ID               136429 non-null  object \n",
      " 2   Type                     136429 non-null  object \n",
      " 3   Air temperature [K]      136429 non-null  float64\n",
      " 4   Process temperature [K]  136429 non-null  float64\n",
      " 5   Rotational speed [rpm]   136429 non-null  int64  \n",
      " 6   Torque [Nm]              136429 non-null  float64\n",
      " 7   Tool wear [min]          136429 non-null  int64  \n",
      " 8   Machine failure          136429 non-null  int64  \n",
      " 9   TWF                      136429 non-null  int64  \n",
      " 10  HDF                      136429 non-null  int64  \n",
      " 11  PWF                      136429 non-null  int64  \n",
      " 12  OSF                      136429 non-null  int64  \n",
      " 13  RNF                      136429 non-null  int64  \n",
      "dtypes: float64(3), int64(9), object(2)\n",
      "memory usage: 14.6+ MB\n"
     ]
    }
   ],
   "source": [
    "df.info()"
   ]
  },
  {
   "cell_type": "code",
   "execution_count": 6,
   "id": "7b712ce7-9ee8-4084-a3aa-99aa59b56eaf",
   "metadata": {},
   "outputs": [
    {
     "data": {
      "text/plain": [
       "Type\n",
       "L    95354\n",
       "M    32152\n",
       "H     8923\n",
       "Name: count, dtype: int64"
      ]
     },
     "execution_count": 6,
     "metadata": {},
     "output_type": "execute_result"
    }
   ],
   "source": [
    "df[\"Type\"].value_counts()"
   ]
  },
  {
   "cell_type": "code",
   "execution_count": 7,
   "id": "d28d517f-77d1-4bab-be2d-63fb0ff9bc90",
   "metadata": {},
   "outputs": [],
   "source": [
    "d={\"L\":3,\"M\":2,\"H\":1}"
   ]
  },
  {
   "cell_type": "code",
   "execution_count": 8,
   "id": "5dbe79d8-dba4-48e3-9f16-1502c4f22b6f",
   "metadata": {},
   "outputs": [],
   "source": [
    "df[\"Type\"]=df[\"Type\"].map(d)"
   ]
  },
  {
   "cell_type": "code",
   "execution_count": 9,
   "id": "cdaf0b0e-42ec-4786-8594-ca0d20274bae",
   "metadata": {},
   "outputs": [
    {
     "data": {
      "image/png": "[encoded data removed]",
      "text/plain": [
       "<Figure size 1000x700 with 2 Axes>"
      ]
     },
     "metadata": {},
     "output_type": "display_data"
    }
   ],
   "source": [
    "plt.figure(figsize=(10,7))\n",
    "sns.heatmap(df.corr(numeric_only=True),annot=True, cmap=\"crest\");"
   ]
  },
  {
   "cell_type": "code",
   "execution_count": 10,
   "id": "c7368268-eca4-47e5-94fb-bc85643e386a",
   "metadata": {},
   "outputs": [
    {
     "data": {
      "text/html": [
       "<div>\n",
       "<style scoped>\n",
       "    .dataframe tbody tr th:only-of-type {\n",
       "        vertical-align: middle;\n",
       "    }\n",
       "\n",
       "    .dataframe tbody tr th {\n",
       "        vertical-align: top;\n",
       "    }\n",
       "\n",
       "    .dataframe thead th {\n",
       "        text-align: right;\n",
       "    }\n",
       "</style>\n",
       "<table border=\"1\" class=\"dataframe\">\n",
       "  <thead>\n",
       "    <tr style=\"text-align: right;\">\n",
       "      <th></th>\n",
       "      <th>id</th>\n",
       "      <th>Type</th>\n",
       "      <th>Air temperature [K]</th>\n",
       "      <th>Process temperature [K]</th>\n",
       "      <th>Rotational speed [rpm]</th>\n",
       "      <th>Torque [Nm]</th>\n",
       "      <th>Tool wear [min]</th>\n",
       "      <th>Machine failure</th>\n",
       "      <th>TWF</th>\n",
       "      <th>HDF</th>\n",
       "      <th>PWF</th>\n",
       "      <th>OSF</th>\n",
       "      <th>RNF</th>\n",
       "    </tr>\n",
       "  </thead>\n",
       "  <tbody>\n",
       "    <tr>\n",
       "      <th>count</th>\n",
       "      <td>136429.000000</td>\n",
       "      <td>136429.000000</td>\n",
       "      <td>136429.000000</td>\n",
       "      <td>136429.000000</td>\n",
       "      <td>136429.000000</td>\n",
       "      <td>136429.000000</td>\n",
       "      <td>136429.000000</td>\n",
       "      <td>136429.000000</td>\n",
       "      <td>136429.000000</td>\n",
       "      <td>136429.000000</td>\n",
       "      <td>136429.000000</td>\n",
       "      <td>136429.000000</td>\n",
       "      <td>136429.000000</td>\n",
       "    </tr>\n",
       "    <tr>\n",
       "      <th>mean</th>\n",
       "      <td>68214.000000</td>\n",
       "      <td>2.633524</td>\n",
       "      <td>299.862776</td>\n",
       "      <td>309.941070</td>\n",
       "      <td>1520.331110</td>\n",
       "      <td>40.348643</td>\n",
       "      <td>104.408901</td>\n",
       "      <td>0.015744</td>\n",
       "      <td>0.001554</td>\n",
       "      <td>0.005160</td>\n",
       "      <td>0.002397</td>\n",
       "      <td>0.003958</td>\n",
       "      <td>0.002258</td>\n",
       "    </tr>\n",
       "    <tr>\n",
       "      <th>std</th>\n",
       "      <td>39383.804275</td>\n",
       "      <td>0.602480</td>\n",
       "      <td>1.862247</td>\n",
       "      <td>1.385173</td>\n",
       "      <td>138.736632</td>\n",
       "      <td>8.502229</td>\n",
       "      <td>63.965040</td>\n",
       "      <td>0.124486</td>\n",
       "      <td>0.039389</td>\n",
       "      <td>0.071649</td>\n",
       "      <td>0.048899</td>\n",
       "      <td>0.062789</td>\n",
       "      <td>0.047461</td>\n",
       "    </tr>\n",
       "    <tr>\n",
       "      <th>min</th>\n",
       "      <td>0.000000</td>\n",
       "      <td>1.000000</td>\n",
       "      <td>295.300000</td>\n",
       "      <td>305.800000</td>\n",
       "      <td>1181.000000</td>\n",
       "      <td>3.800000</td>\n",
       "      <td>0.000000</td>\n",
       "      <td>0.000000</td>\n",
       "      <td>0.000000</td>\n",
       "      <td>0.000000</td>\n",
       "      <td>0.000000</td>\n",
       "      <td>0.000000</td>\n",
       "      <td>0.000000</td>\n",
       "    </tr>\n",
       "    <tr>\n",
       "      <th>25%</th>\n",
       "      <td>34107.000000</td>\n",
       "      <td>2.000000</td>\n",
       "      <td>298.300000</td>\n",
       "      <td>308.700000</td>\n",
       "      <td>1432.000000</td>\n",
       "      <td>34.600000</td>\n",
       "      <td>48.000000</td>\n",
       "      <td>0.000000</td>\n",
       "      <td>0.000000</td>\n",
       "      <td>0.000000</td>\n",
       "      <td>0.000000</td>\n",
       "      <td>0.000000</td>\n",
       "      <td>0.000000</td>\n",
       "    </tr>\n",
       "    <tr>\n",
       "      <th>50%</th>\n",
       "      <td>68214.000000</td>\n",
       "      <td>3.000000</td>\n",
       "      <td>300.000000</td>\n",
       "      <td>310.000000</td>\n",
       "      <td>1493.000000</td>\n",
       "      <td>40.400000</td>\n",
       "      <td>106.000000</td>\n",
       "      <td>0.000000</td>\n",
       "      <td>0.000000</td>\n",
       "      <td>0.000000</td>\n",
       "      <td>0.000000</td>\n",
       "      <td>0.000000</td>\n",
       "      <td>0.000000</td>\n",
       "    </tr>\n",
       "    <tr>\n",
       "      <th>75%</th>\n",
       "      <td>102321.000000</td>\n",
       "      <td>3.000000</td>\n",
       "      <td>301.200000</td>\n",
       "      <td>310.900000</td>\n",
       "      <td>1580.000000</td>\n",
       "      <td>46.100000</td>\n",
       "      <td>159.000000</td>\n",
       "      <td>0.000000</td>\n",
       "      <td>0.000000</td>\n",
       "      <td>0.000000</td>\n",
       "      <td>0.000000</td>\n",
       "      <td>0.000000</td>\n",
       "      <td>0.000000</td>\n",
       "    </tr>\n",
       "    <tr>\n",
       "      <th>max</th>\n",
       "      <td>136428.000000</td>\n",
       "      <td>3.000000</td>\n",
       "      <td>304.400000</td>\n",
       "      <td>313.800000</td>\n",
       "      <td>2886.000000</td>\n",
       "      <td>76.600000</td>\n",
       "      <td>253.000000</td>\n",
       "      <td>1.000000</td>\n",
       "      <td>1.000000</td>\n",
       "      <td>1.000000</td>\n",
       "      <td>1.000000</td>\n",
       "      <td>1.000000</td>\n",
       "      <td>1.000000</td>\n",
       "    </tr>\n",
       "  </tbody>\n",
       "</table>\n",
       "</div>"
      ],
      "text/plain": [
       "                  id           Type  Air temperature [K]  \\\n",
       "count  136429.000000  136429.000000        136429.000000   \n",
       "mean    68214.000000       2.633524           299.862776   \n",
       "std     39383.804275       0.602480             1.862247   \n",
       "min         0.000000       1.000000           295.300000   \n",
       "25%     34107.000000       2.000000           298.300000   \n",
       "50%     68214.000000       3.000000           300.000000   \n",
       "75%    102321.000000       3.000000           301.200000   \n",
       "max    136428.000000       3.000000           304.400000   \n",
       "\n",
       "       Process temperature [K]  Rotational speed [rpm]    Torque [Nm]  \\\n",
       "count            136429.000000           136429.000000  136429.000000   \n",
       "mean                309.941070             1520.331110      40.348643   \n",
       "std                   1.385173              138.736632       8.502229   \n",
       "min                 305.800000             1181.000000       3.800000   \n",
       "25%                 308.700000             1432.000000      34.600000   \n",
       "50%                 310.000000             1493.000000      40.400000   \n",
       "75%                 310.900000             1580.000000      46.100000   \n",
       "max                 313.800000             2886.000000      76.600000   \n",
       "\n",
       "       Tool wear [min]  Machine failure            TWF            HDF  \\\n",
       "count    136429.000000    136429.000000  136429.000000  136429.000000   \n",
       "mean        104.408901         0.015744       0.001554       0.005160   \n",
       "std          63.965040         0.124486       0.039389       0.071649   \n",
       "min           0.000000         0.000000       0.000000       0.000000   \n",
       "25%          48.000000         0.000000       0.000000       0.000000   \n",
       "50%         106.000000         0.000000       0.000000       0.000000   \n",
       "75%         159.000000         0.000000       0.000000       0.000000   \n",
       "max         253.000000         1.000000       1.000000       1.000000   \n",
       "\n",
       "                 PWF            OSF            RNF  \n",
       "count  136429.000000  136429.000000  136429.000000  \n",
       "mean        0.002397       0.003958       0.002258  \n",
       "std         0.048899       0.062789       0.047461  \n",
       "min         0.000000       0.000000       0.000000  \n",
       "25%         0.000000       0.000000       0.000000  \n",
       "50%         0.000000       0.000000       0.000000  \n",
       "75%         0.000000       0.000000       0.000000  \n",
       "max         1.000000       1.000000       1.000000  "
      ]
     },
     "execution_count": 10,
     "metadata": {},
     "output_type": "execute_result"
    }
   ],
   "source": [
    "df.describe()"
   ]
  },
  {
   "cell_type": "code",
   "execution_count": 11,
   "id": "3b61b5ef-051e-4312-8016-6cb18534b6b1",
   "metadata": {},
   "outputs": [
    {
     "data": {
      "text/plain": [
       "<Axes: xlabel='Machine failure', ylabel='count'>"
      ]
     },
     "execution_count": 11,
     "metadata": {},
     "output_type": "execute_result"
    },
    {
     "data": {
      "image/png": "[encoded data removed]",
      "text/plain": [
       "<Figure size 640x480 with 1 Axes>"
      ]
     },
     "metadata": {},
     "output_type": "display_data"
    }
   ],
   "source": [
    "sns.countplot(x=df[\"Machine failure\"])"
   ]
  },
  {
   "cell_type": "code",
   "execution_count": 12,
   "id": "4488686a-6f87-4451-b573-74f992561813",
   "metadata": {},
   "outputs": [
    {
     "data": {
      "text/plain": [
       "(134281, 14)"
      ]
     },
     "execution_count": 12,
     "metadata": {},
     "output_type": "execute_result"
    }
   ],
   "source": [
    "df[df[\"Machine failure\"]==0].shape"
   ]
  },
  {
   "cell_type": "code",
   "execution_count": 13,
   "id": "4dd21842-aa3d-4bdc-b36a-f8212c0fde4f",
   "metadata": {},
   "outputs": [
    {
     "data": {
      "text/plain": [
       "(2148, 14)"
      ]
     },
     "execution_count": 13,
     "metadata": {},
     "output_type": "execute_result"
    }
   ],
   "source": [
    "df[df[\"Machine failure\"]==1].shape"
   ]
  },
  {
   "cell_type": "code",
   "execution_count": 14,
   "id": "87c037a7-8535-46cb-bbc5-ef694ec0b306",
   "metadata": {},
   "outputs": [],
   "source": [
    "ek=pd.DataFrame()"
   ]
  },
  {
   "cell_type": "markdown",
   "id": "babeb1b1-5e14-4f86-b37c-4c23e248fd03",
   "metadata": {},
   "source": [
    "Verimiz Imbalance oldugu icin biraz daha dengeli hale getirdik"
   ]
  },
  {
   "cell_type": "code",
   "execution_count": 15,
   "id": "1fdb4823-151a-4e5c-aaa1-68964264dce4",
   "metadata": {},
   "outputs": [],
   "source": [
    "ek=df[df[\"Machine failure\"]==1].sample(130000,replace=True)"
   ]
  },
  {
   "cell_type": "code",
   "execution_count": 16,
   "id": "b31af533-650d-4ff4-b637-50e5f3443baa",
   "metadata": {},
   "outputs": [],
   "source": [
    "df=pd.concat([df, ek], ignore_index=True)"
   ]
  },
  {
   "cell_type": "code",
   "execution_count": 17,
   "id": "3fac1d73-de00-44b9-a467-d487565a245a",
   "metadata": {},
   "outputs": [
    {
     "data": {
      "text/html": [
       "<div>\n",
       "<style scoped>\n",
       "    .dataframe tbody tr th:only-of-type {\n",
       "        vertical-align: middle;\n",
       "    }\n",
       "\n",
       "    .dataframe tbody tr th {\n",
       "        vertical-align: top;\n",
       "    }\n",
       "\n",
       "    .dataframe thead th {\n",
       "        text-align: right;\n",
       "    }\n",
       "</style>\n",
       "<table border=\"1\" class=\"dataframe\">\n",
       "  <thead>\n",
       "    <tr style=\"text-align: right;\">\n",
       "      <th></th>\n",
       "      <th>id</th>\n",
       "      <th>Product ID</th>\n",
       "      <th>Type</th>\n",
       "      <th>Air temperature [K]</th>\n",
       "      <th>Process temperature [K]</th>\n",
       "      <th>Rotational speed [rpm]</th>\n",
       "      <th>Torque [Nm]</th>\n",
       "      <th>Tool wear [min]</th>\n",
       "      <th>Machine failure</th>\n",
       "      <th>TWF</th>\n",
       "      <th>HDF</th>\n",
       "      <th>PWF</th>\n",
       "      <th>OSF</th>\n",
       "      <th>RNF</th>\n",
       "    </tr>\n",
       "  </thead>\n",
       "  <tbody>\n",
       "    <tr>\n",
       "      <th>0</th>\n",
       "      <td>0</td>\n",
       "      <td>L50096</td>\n",
       "      <td>3</td>\n",
       "      <td>300.6</td>\n",
       "      <td>309.6</td>\n",
       "      <td>1596</td>\n",
       "      <td>36.1</td>\n",
       "      <td>140</td>\n",
       "      <td>0</td>\n",
       "      <td>0</td>\n",
       "      <td>0</td>\n",
       "      <td>0</td>\n",
       "      <td>0</td>\n",
       "      <td>0</td>\n",
       "    </tr>\n",
       "    <tr>\n",
       "      <th>1</th>\n",
       "      <td>1</td>\n",
       "      <td>M20343</td>\n",
       "      <td>2</td>\n",
       "      <td>302.6</td>\n",
       "      <td>312.1</td>\n",
       "      <td>1759</td>\n",
       "      <td>29.1</td>\n",
       "      <td>200</td>\n",
       "      <td>0</td>\n",
       "      <td>0</td>\n",
       "      <td>0</td>\n",
       "      <td>0</td>\n",
       "      <td>0</td>\n",
       "      <td>0</td>\n",
       "    </tr>\n",
       "    <tr>\n",
       "      <th>2</th>\n",
       "      <td>2</td>\n",
       "      <td>L49454</td>\n",
       "      <td>3</td>\n",
       "      <td>299.3</td>\n",
       "      <td>308.5</td>\n",
       "      <td>1805</td>\n",
       "      <td>26.5</td>\n",
       "      <td>25</td>\n",
       "      <td>0</td>\n",
       "      <td>0</td>\n",
       "      <td>0</td>\n",
       "      <td>0</td>\n",
       "      <td>0</td>\n",
       "      <td>0</td>\n",
       "    </tr>\n",
       "    <tr>\n",
       "      <th>3</th>\n",
       "      <td>3</td>\n",
       "      <td>L53355</td>\n",
       "      <td>3</td>\n",
       "      <td>301.0</td>\n",
       "      <td>310.9</td>\n",
       "      <td>1524</td>\n",
       "      <td>44.3</td>\n",
       "      <td>197</td>\n",
       "      <td>0</td>\n",
       "      <td>0</td>\n",
       "      <td>0</td>\n",
       "      <td>0</td>\n",
       "      <td>0</td>\n",
       "      <td>0</td>\n",
       "    </tr>\n",
       "    <tr>\n",
       "      <th>4</th>\n",
       "      <td>4</td>\n",
       "      <td>M24050</td>\n",
       "      <td>2</td>\n",
       "      <td>298.0</td>\n",
       "      <td>309.0</td>\n",
       "      <td>1641</td>\n",
       "      <td>35.4</td>\n",
       "      <td>34</td>\n",
       "      <td>0</td>\n",
       "      <td>0</td>\n",
       "      <td>0</td>\n",
       "      <td>0</td>\n",
       "      <td>0</td>\n",
       "      <td>0</td>\n",
       "    </tr>\n",
       "    <tr>\n",
       "      <th>...</th>\n",
       "      <td>...</td>\n",
       "      <td>...</td>\n",
       "      <td>...</td>\n",
       "      <td>...</td>\n",
       "      <td>...</td>\n",
       "      <td>...</td>\n",
       "      <td>...</td>\n",
       "      <td>...</td>\n",
       "      <td>...</td>\n",
       "      <td>...</td>\n",
       "      <td>...</td>\n",
       "      <td>...</td>\n",
       "      <td>...</td>\n",
       "      <td>...</td>\n",
       "    </tr>\n",
       "    <tr>\n",
       "      <th>266424</th>\n",
       "      <td>68614</td>\n",
       "      <td>L51826</td>\n",
       "      <td>3</td>\n",
       "      <td>303.3</td>\n",
       "      <td>311.5</td>\n",
       "      <td>1353</td>\n",
       "      <td>56.0</td>\n",
       "      <td>190</td>\n",
       "      <td>1</td>\n",
       "      <td>0</td>\n",
       "      <td>1</td>\n",
       "      <td>0</td>\n",
       "      <td>1</td>\n",
       "      <td>0</td>\n",
       "    </tr>\n",
       "    <tr>\n",
       "      <th>266425</th>\n",
       "      <td>55917</td>\n",
       "      <td>M16590</td>\n",
       "      <td>2</td>\n",
       "      <td>298.3</td>\n",
       "      <td>307.7</td>\n",
       "      <td>1310</td>\n",
       "      <td>58.1</td>\n",
       "      <td>119</td>\n",
       "      <td>1</td>\n",
       "      <td>0</td>\n",
       "      <td>0</td>\n",
       "      <td>0</td>\n",
       "      <td>0</td>\n",
       "      <td>0</td>\n",
       "    </tr>\n",
       "    <tr>\n",
       "      <th>266426</th>\n",
       "      <td>118409</td>\n",
       "      <td>L55686</td>\n",
       "      <td>3</td>\n",
       "      <td>298.4</td>\n",
       "      <td>309.6</td>\n",
       "      <td>1710</td>\n",
       "      <td>34.6</td>\n",
       "      <td>163</td>\n",
       "      <td>1</td>\n",
       "      <td>0</td>\n",
       "      <td>0</td>\n",
       "      <td>0</td>\n",
       "      <td>0</td>\n",
       "      <td>0</td>\n",
       "    </tr>\n",
       "    <tr>\n",
       "      <th>266427</th>\n",
       "      <td>93739</td>\n",
       "      <td>L48689</td>\n",
       "      <td>3</td>\n",
       "      <td>298.0</td>\n",
       "      <td>308.5</td>\n",
       "      <td>1376</td>\n",
       "      <td>60.0</td>\n",
       "      <td>212</td>\n",
       "      <td>1</td>\n",
       "      <td>0</td>\n",
       "      <td>0</td>\n",
       "      <td>0</td>\n",
       "      <td>1</td>\n",
       "      <td>0</td>\n",
       "    </tr>\n",
       "    <tr>\n",
       "      <th>266428</th>\n",
       "      <td>123635</td>\n",
       "      <td>L47672</td>\n",
       "      <td>3</td>\n",
       "      <td>297.4</td>\n",
       "      <td>309.3</td>\n",
       "      <td>1312</td>\n",
       "      <td>63.7</td>\n",
       "      <td>111</td>\n",
       "      <td>1</td>\n",
       "      <td>0</td>\n",
       "      <td>0</td>\n",
       "      <td>1</td>\n",
       "      <td>0</td>\n",
       "      <td>0</td>\n",
       "    </tr>\n",
       "  </tbody>\n",
       "</table>\n",
       "<p>266429 rows × 14 columns</p>\n",
       "</div>"
      ],
      "text/plain": [
       "            id Product ID  Type  Air temperature [K]  Process temperature [K]  \\\n",
       "0            0     L50096     3                300.6                    309.6   \n",
       "1            1     M20343     2                302.6                    312.1   \n",
       "2            2     L49454     3                299.3                    308.5   \n",
       "3            3     L53355     3                301.0                    310.9   \n",
       "4            4     M24050     2                298.0                    309.0   \n",
       "...        ...        ...   ...                  ...                      ...   \n",
       "266424   68614     L51826     3                303.3                    311.5   \n",
       "266425   55917     M16590     2                298.3                    307.7   \n",
       "266426  118409     L55686     3                298.4                    309.6   \n",
       "266427   93739     L48689     3                298.0                    308.5   \n",
       "266428  123635     L47672     3                297.4                    309.3   \n",
       "\n",
       "        Rotational speed [rpm]  Torque [Nm]  Tool wear [min]  Machine failure  \\\n",
       "0                         1596         36.1              140                0   \n",
       "1                         1759         29.1              200                0   \n",
       "2                         1805         26.5               25                0   \n",
       "3                         1524         44.3              197                0   \n",
       "4                         1641         35.4               34                0   \n",
       "...                        ...          ...              ...              ...   \n",
       "266424                    1353         56.0              190                1   \n",
       "266425                    1310         58.1              119                1   \n",
       "266426                    1710         34.6              163                1   \n",
       "266427                    1376         60.0              212                1   \n",
       "266428                    1312         63.7              111                1   \n",
       "\n",
       "        TWF  HDF  PWF  OSF  RNF  \n",
       "0         0    0    0    0    0  \n",
       "1         0    0    0    0    0  \n",
       "2         0    0    0    0    0  \n",
       "3         0    0    0    0    0  \n",
       "4         0    0    0    0    0  \n",
       "...     ...  ...  ...  ...  ...  \n",
       "266424    0    1    0    1    0  \n",
       "266425    0    0    0    0    0  \n",
       "266426    0    0    0    0    0  \n",
       "266427    0    0    0    1    0  \n",
       "266428    0    0    1    0    0  \n",
       "\n",
       "[266429 rows x 14 columns]"
      ]
     },
     "execution_count": 17,
     "metadata": {},
     "output_type": "execute_result"
    }
   ],
   "source": [
    "df"
   ]
  },
  {
   "cell_type": "code",
   "execution_count": 18,
   "id": "be14f94f-2502-47c1-be36-e07d27dd9fd9",
   "metadata": {},
   "outputs": [],
   "source": [
    "df.columns=[\"id\",\"Product ID\",\"Type\",\"Air temperature\",\"Process temperature\",\"Rotational speed\",\"Torque\",\"Tool wear\",\n",
    "             \"Machine failure\",\"TWF\",\"HDF\",\"PWF\",\"OSF\",\"RNF\"]"
   ]
  },
  {
   "cell_type": "code",
   "execution_count": 19,
   "id": "09b2121e-dc7d-44b2-a254-211ec5d94f6d",
   "metadata": {},
   "outputs": [],
   "source": [
    "df=df.drop([\"id\",\"Product ID\"],axis=1)"
   ]
  },
  {
   "cell_type": "markdown",
   "id": "c5169ce0-41ac-41d3-9622-6604d9fea84b",
   "metadata": {},
   "source": [
    "### Modelling"
   ]
  },
  {
   "cell_type": "code",
   "execution_count": 24,
   "id": "3112d961-835d-4d68-80b7-f82d9e7d4dda",
   "metadata": {},
   "outputs": [],
   "source": [
    "x=df.drop(\"Machine failure\",axis=1)\n",
    "y=df[\"Machine failure\"]"
   ]
  },
  {
   "cell_type": "code",
   "execution_count": 22,
   "id": "2c059cd2-6efd-4166-b39c-8cf9a9d0f19c",
   "metadata": {},
   "outputs": [],
   "source": [
    "import pandas as pd\n",
    "import numpy as np\n",
    "from sklearn.linear_model import LogisticRegression\n",
    "from sklearn.svm import SVC\n",
    "from sklearn.neighbors import KNeighborsClassifier\n",
    "from sklearn.tree import DecisionTreeClassifier\n",
    "from sklearn.ensemble import RandomForestClassifier, GradientBoostingClassifier\n",
    "from xgboost import XGBClassifier\n",
    "from sklearn.neural_network import MLPClassifier\n",
    "from sklearn.model_selection import train_test_split\n",
    "from sklearn.metrics import accuracy_score, precision_score, recall_score, f1_score\n",
    "\n",
    "def algo_test_classification(X, y):\n",
    "    # Bütün sınıflandırma modellerini tanımlıyorum\n",
    "    lr = LogisticRegression()\n",
    "    svc = SVC()\n",
    "    knn = KNeighborsClassifier()\n",
    "    dt = DecisionTreeClassifier()\n",
    "    rf = RandomForestClassifier()\n",
    "    gb = GradientBoostingClassifier()\n",
    "    xgb = XGBClassifier()\n",
    "    mlp = MLPClassifier()\n",
    "\n",
    "    algos = [lr, svc, knn, dt, rf, gb, xgb, mlp]\n",
    "    algo_names = ['Logistic Regression', 'SVC', 'KNN', 'Decision Tree', 'Random Forest', 'Gradient Boosting', 'XGBoost', 'MLP']\n",
    "\n",
    "    X_train, X_test, y_train, y_test = train_test_split(X, y, test_size=0.2, random_state=42)\n",
    "\n",
    "    accuracy = []\n",
    "    precision = []\n",
    "    recall = []\n",
    "    f1 = []\n",
    "\n",
    "    # Sonuç tablosunu oluşturuyorum\n",
    "    result = pd.DataFrame(columns=['Accuracy', 'Precision', 'Recall', 'F1'], index=algo_names)\n",
    "\n",
    "    for algo in algos:\n",
    "        algo.fit(X_train, y_train)\n",
    "        y_pred = algo.predict(X_test)\n",
    "        accuracy.append(accuracy_score(y_test, y_pred))\n",
    "        precision.append(precision_score(y_test, y_pred))\n",
    "        recall.append(recall_score(y_test, y_pred))\n",
    "        f1.append(f1_score(y_test, y_pred))\n",
    "\n",
    "    # Sonuçları result tablosuna ekliyorum\n",
    "    result['Accuracy'] = accuracy\n",
    "    result['Precision'] = precision\n",
    "    result['Recall'] = recall\n",
    "    result['F1'] = f1\n",
    "\n",
    "    # Sonuçları doğruluk oranına göre sıralayıp döndürüyorum\n",
    "    return result.sort_values('Accuracy', ascending=False)"
   ]
  },
  {
   "cell_type": "code",
   "execution_count": 22,
   "id": "de000633-d0a0-48af-87d3-92d57b17a51c",
   "metadata": {},
   "outputs": [
    {
     "data": {
      "text/html": [
       "<div>\n",
       "<style scoped>\n",
       "    .dataframe tbody tr th:only-of-type {\n",
       "        vertical-align: middle;\n",
       "    }\n",
       "\n",
       "    .dataframe tbody tr th {\n",
       "        vertical-align: top;\n",
       "    }\n",
       "\n",
       "    .dataframe thead th {\n",
       "        text-align: right;\n",
       "    }\n",
       "</style>\n",
       "<table border=\"1\" class=\"dataframe\">\n",
       "  <thead>\n",
       "    <tr style=\"text-align: right;\">\n",
       "      <th></th>\n",
       "      <th>Accuracy</th>\n",
       "      <th>Precision</th>\n",
       "      <th>Recall</th>\n",
       "      <th>F1</th>\n",
       "    </tr>\n",
       "  </thead>\n",
       "  <tbody>\n",
       "    <tr>\n",
       "      <th>Random Forest</th>\n",
       "      <td>0.999437</td>\n",
       "      <td>0.998875</td>\n",
       "      <td>1.000000</td>\n",
       "      <td>0.999437</td>\n",
       "    </tr>\n",
       "    <tr>\n",
       "      <th>Decision Tree</th>\n",
       "      <td>0.997936</td>\n",
       "      <td>0.995888</td>\n",
       "      <td>1.000000</td>\n",
       "      <td>0.997940</td>\n",
       "    </tr>\n",
       "    <tr>\n",
       "      <th>XGBoost</th>\n",
       "      <td>0.990861</td>\n",
       "      <td>0.989665</td>\n",
       "      <td>0.992080</td>\n",
       "      <td>0.990871</td>\n",
       "    </tr>\n",
       "    <tr>\n",
       "      <th>KNN</th>\n",
       "      <td>0.984686</td>\n",
       "      <td>0.970280</td>\n",
       "      <td>1.000000</td>\n",
       "      <td>0.984916</td>\n",
       "    </tr>\n",
       "    <tr>\n",
       "      <th>Gradient Boosting</th>\n",
       "      <td>0.918346</td>\n",
       "      <td>0.954970</td>\n",
       "      <td>0.878078</td>\n",
       "      <td>0.914912</td>\n",
       "    </tr>\n",
       "    <tr>\n",
       "      <th>MLP</th>\n",
       "      <td>0.908118</td>\n",
       "      <td>0.948996</td>\n",
       "      <td>0.862575</td>\n",
       "      <td>0.903724</td>\n",
       "    </tr>\n",
       "    <tr>\n",
       "      <th>Logistic Regression</th>\n",
       "      <td>0.896070</td>\n",
       "      <td>0.981122</td>\n",
       "      <td>0.807658</td>\n",
       "      <td>0.885979</td>\n",
       "    </tr>\n",
       "    <tr>\n",
       "      <th>SVC</th>\n",
       "      <td>0.826033</td>\n",
       "      <td>0.825403</td>\n",
       "      <td>0.826952</td>\n",
       "      <td>0.826177</td>\n",
       "    </tr>\n",
       "  </tbody>\n",
       "</table>\n",
       "</div>"
      ],
      "text/plain": [
       "                     Accuracy  Precision    Recall        F1\n",
       "Random Forest        0.999437   0.998875  1.000000  0.999437\n",
       "Decision Tree        0.997936   0.995888  1.000000  0.997940\n",
       "XGBoost              0.990861   0.989665  0.992080  0.990871\n",
       "KNN                  0.984686   0.970280  1.000000  0.984916\n",
       "Gradient Boosting    0.918346   0.954970  0.878078  0.914912\n",
       "MLP                  0.908118   0.948996  0.862575  0.903724\n",
       "Logistic Regression  0.896070   0.981122  0.807658  0.885979\n",
       "SVC                  0.826033   0.825403  0.826952  0.826177"
      ]
     },
     "execution_count": 22,
     "metadata": {},
     "output_type": "execute_result"
    }
   ],
   "source": [
    "algo_test_classification(x,y)"
   ]
  },
  {
   "cell_type": "code",
   "execution_count": 20,
   "id": "73016e58-013e-4ecc-aff7-bf9818c0a3c0",
   "metadata": {},
   "outputs": [],
   "source": [
    "from sklearn.metrics import accuracy_score, confusion_matrix, classification_report\n",
    "from sklearn.model_selection import train_test_split"
   ]
  },
  {
   "cell_type": "code",
   "execution_count": 25,
   "id": "850df9ca-d12d-4e0e-8219-06d3eb9cdd6d",
   "metadata": {},
   "outputs": [],
   "source": [
    "x_train, x_test, y_train, y_test = train_test_split(x, y, test_size=0.2, random_state=42)"
   ]
  },
  {
   "cell_type": "code",
   "execution_count": 26,
   "id": "f8215ed2-dcae-4c5c-a9e9-0e77911011da",
   "metadata": {},
   "outputs": [],
   "source": [
    "rf = RandomForestClassifier()"
   ]
  },
  {
   "cell_type": "code",
   "execution_count": 27,
   "id": "b5d6fc02-20f0-44bf-b2ed-fa486228fb72",
   "metadata": {},
   "outputs": [],
   "source": [
    "mod=rf.fit(x_train,y_train)"
   ]
  },
  {
   "cell_type": "code",
   "execution_count": 28,
   "id": "70d4e936-28c8-4f35-b118-c5030a1f26d4",
   "metadata": {},
   "outputs": [],
   "source": [
    "thmn=mod.predict(x_test)"
   ]
  },
  {
   "cell_type": "code",
   "execution_count": 29,
   "id": "e497102f-59bc-44f2-b0d9-c9a7b0a766b5",
   "metadata": {},
   "outputs": [
    {
     "data": {
      "text/plain": [
       "0.9994370003377998"
      ]
     },
     "execution_count": 29,
     "metadata": {},
     "output_type": "execute_result"
    }
   ],
   "source": [
    "accuracy_score(y_test,thmn)"
   ]
  },
  {
   "cell_type": "code",
   "execution_count": 31,
   "id": "f6657b59-fca2-4cec-aa04-5146b04aa749",
   "metadata": {},
   "outputs": [],
   "source": [
    "import pickle"
   ]
  },
  {
   "cell_type": "code",
   "execution_count": 32,
   "id": "112f21f4-0eb7-4a03-b66a-37e4c8a13438",
   "metadata": {},
   "outputs": [],
   "source": [
    "with open('machine.pkl', 'wb') as file:\n",
    "    pickle.dump(rf, file)"
   ]
  },
  {
   "cell_type": "code",
   "execution_count": 33,
   "id": "a74dd50a-c21d-4206-b5be-d69305f2966a",
   "metadata": {},
   "outputs": [
    {
     "data": {
      "text/plain": [
       "<Axes: >"
      ]
     },
     "execution_count": 33,
     "metadata": {},
     "output_type": "execute_result"
    },
    {
     "data": {
      "image/png": "[encoded data removed]",
      "text/plain": [
       "<Figure size 640x480 with 2 Axes>"
      ]
     },
     "metadata": {},
     "output_type": "display_data"
    }
   ],
   "source": [
    "sns.heatmap(confusion_matrix(thmn,y_test),annot=True)"
   ]
  },
  {
   "cell_type": "code",
   "execution_count": 34,
   "id": "24d67624-90f1-4592-911e-92111748af61",
   "metadata": {},
   "outputs": [
    {
     "name": "stdout",
     "output_type": "stream",
     "text": [
      "              precision    recall  f1-score   support\n",
      "\n",
      "           0       1.00      1.00      1.00     26620\n",
      "           1       1.00      1.00      1.00     26666\n",
      "\n",
      "    accuracy                           1.00     53286\n",
      "   macro avg       1.00      1.00      1.00     53286\n",
      "weighted avg       1.00      1.00      1.00     53286\n",
      "\n"
     ]
    }
   ],
   "source": [
    "print(classification_report(thmn,y_test))"
   ]
  },
  {
   "cell_type": "markdown",
   "id": "39b61721-b8b0-4625-a311-c0c50fd7fab9",
   "metadata": {},
   "source": [
    "Kaggle daki test dosyamızı yükleyip tahmin ettireceğiz."
   ]
  },
  {
   "cell_type": "code",
   "execution_count": 45,
   "id": "34644c56-352d-4a98-bbc5-5c7aa314e1e9",
   "metadata": {},
   "outputs": [],
   "source": [
    "test=pd.read_csv(\"test.csv\")"
   ]
  },
  {
   "cell_type": "code",
   "execution_count": 46,
   "id": "1c51e5c7-462d-43da-bca3-dd2cad10897c",
   "metadata": {},
   "outputs": [],
   "source": [
    "dosya=pd.DataFrame()"
   ]
  },
  {
   "cell_type": "code",
   "execution_count": 47,
   "id": "1f175c7d-965d-48f5-8083-61fdffacc113",
   "metadata": {},
   "outputs": [],
   "source": [
    "dosya[\"id\"]=test[\"id\"]"
   ]
  },
  {
   "cell_type": "code",
   "execution_count": 48,
   "id": "89f12337-e582-41af-b1e2-f45e3a78e90f",
   "metadata": {},
   "outputs": [],
   "source": [
    "test[\"Type\"]=test[\"Type\"].map(d)"
   ]
  },
  {
   "cell_type": "code",
   "execution_count": 49,
   "id": "ad78d090-954c-46fd-8fd7-8f2aa055e63a",
   "metadata": {},
   "outputs": [],
   "source": [
    "test.columns=[\"id\",\"Product ID\",\"Type\",\"Air temperature\",\"Process temperature\",\"Rotational speed\",\"Torque\",\"Tool wear\",\n",
    "             \"TWF\",\"HDF\",\"PWF\",\"OSF\",\"RNF\"]"
   ]
  },
  {
   "cell_type": "code",
   "execution_count": 50,
   "id": "aa2948c3-cf10-42af-b1e0-e4dc0393a531",
   "metadata": {},
   "outputs": [],
   "source": [
    "test=test.drop([\"id\",\"Product ID\"],axis=1)"
   ]
  },
  {
   "cell_type": "code",
   "execution_count": 51,
   "id": "267fbe77-3945-45f0-a10d-c5a78ea384f1",
   "metadata": {},
   "outputs": [],
   "source": [
    "dosya[\"Machine failure\"]=mod.predict(test)"
   ]
  },
  {
   "cell_type": "code",
   "execution_count": 52,
   "id": "4635131d-586b-4599-b0ea-672c375d544b",
   "metadata": {},
   "outputs": [
    {
     "data": {
      "text/html": [
       "<div>\n",
       "<style scoped>\n",
       "    .dataframe tbody tr th:only-of-type {\n",
       "        vertical-align: middle;\n",
       "    }\n",
       "\n",
       "    .dataframe tbody tr th {\n",
       "        vertical-align: top;\n",
       "    }\n",
       "\n",
       "    .dataframe thead th {\n",
       "        text-align: right;\n",
       "    }\n",
       "</style>\n",
       "<table border=\"1\" class=\"dataframe\">\n",
       "  <thead>\n",
       "    <tr style=\"text-align: right;\">\n",
       "      <th></th>\n",
       "      <th>id</th>\n",
       "      <th>Machine failure</th>\n",
       "    </tr>\n",
       "  </thead>\n",
       "  <tbody>\n",
       "    <tr>\n",
       "      <th>0</th>\n",
       "      <td>136429</td>\n",
       "      <td>0</td>\n",
       "    </tr>\n",
       "    <tr>\n",
       "      <th>1</th>\n",
       "      <td>136430</td>\n",
       "      <td>0</td>\n",
       "    </tr>\n",
       "    <tr>\n",
       "      <th>2</th>\n",
       "      <td>136431</td>\n",
       "      <td>0</td>\n",
       "    </tr>\n",
       "    <tr>\n",
       "      <th>3</th>\n",
       "      <td>136432</td>\n",
       "      <td>0</td>\n",
       "    </tr>\n",
       "    <tr>\n",
       "      <th>4</th>\n",
       "      <td>136433</td>\n",
       "      <td>0</td>\n",
       "    </tr>\n",
       "    <tr>\n",
       "      <th>...</th>\n",
       "      <td>...</td>\n",
       "      <td>...</td>\n",
       "    </tr>\n",
       "    <tr>\n",
       "      <th>90949</th>\n",
       "      <td>227378</td>\n",
       "      <td>0</td>\n",
       "    </tr>\n",
       "    <tr>\n",
       "      <th>90950</th>\n",
       "      <td>227379</td>\n",
       "      <td>0</td>\n",
       "    </tr>\n",
       "    <tr>\n",
       "      <th>90951</th>\n",
       "      <td>227380</td>\n",
       "      <td>0</td>\n",
       "    </tr>\n",
       "    <tr>\n",
       "      <th>90952</th>\n",
       "      <td>227381</td>\n",
       "      <td>0</td>\n",
       "    </tr>\n",
       "    <tr>\n",
       "      <th>90953</th>\n",
       "      <td>227382</td>\n",
       "      <td>0</td>\n",
       "    </tr>\n",
       "  </tbody>\n",
       "</table>\n",
       "<p>90954 rows × 2 columns</p>\n",
       "</div>"
      ],
      "text/plain": [
       "           id  Machine failure\n",
       "0      136429                0\n",
       "1      136430                0\n",
       "2      136431                0\n",
       "3      136432                0\n",
       "4      136433                0\n",
       "...       ...              ...\n",
       "90949  227378                0\n",
       "90950  227379                0\n",
       "90951  227380                0\n",
       "90952  227381                0\n",
       "90953  227382                0\n",
       "\n",
       "[90954 rows x 2 columns]"
      ]
     },
     "execution_count": 52,
     "metadata": {},
     "output_type": "execute_result"
    }
   ],
   "source": [
    "dosya"
   ]
  },
  {
   "cell_type": "code",
   "execution_count": 53,
   "id": "e4d676ad-5456-43b0-8f71-156d41549fdd",
   "metadata": {},
   "outputs": [
    {
     "data": {
      "text/plain": [
       "Machine failure\n",
       "0    89764\n",
       "1     1190\n",
       "Name: count, dtype: int64"
      ]
     },
     "execution_count": 53,
     "metadata": {},
     "output_type": "execute_result"
    }
   ],
   "source": [
    "dosya[\"Machine failure\"].value_counts()"
   ]
  },
  {
   "cell_type": "code",
   "execution_count": 55,
   "id": "e774cb70-6e86-417b-944b-c71fd42d3628",
   "metadata": {},
   "outputs": [],
   "source": [
    "dosya.to_csv(\"tahmin1.csv\",index=False)"
   ]
  },
  {
   "cell_type": "markdown",
   "id": "ea97edee-5013-4c15-ba63-93a74d379d72",
   "metadata": {},
   "source": [
    "### Deep Learning"
   ]
  },
  {
   "cell_type": "code",
   "execution_count": 56,
   "id": "2afbb2bc-0a10-4a80-ad19-185a8a2b02d4",
   "metadata": {},
   "outputs": [],
   "source": [
    "from tensorflow.keras.models import Sequential\n",
    "from tensorflow.keras.layers import Dense\n",
    "from sklearn.preprocessing import normalize, scale"
   ]
  },
  {
   "cell_type": "code",
   "execution_count": 57,
   "id": "ec2e8aa5-6529-4b3c-98a9-28c59f7d3ef6",
   "metadata": {},
   "outputs": [],
   "source": [
    "model=Sequential()\n",
    "model.add(Dense(120,activation=\"relu\"))  # Modele layer ekliyor # Dense bütün nöronlar bütün nöronlara bağlansın demek\n",
    "model.add(Dense(80,activation=\"relu\")) # 120 nöron var \n",
    "model.add(Dense(64,activation=\"relu\"))\n",
    "model.add(Dense(30,activation=\"relu\"))\n",
    "model.add(Dense(20,activation=\"relu\"))\n",
    "model.add(Dense(4,activation=\"relu\"))\n",
    "model.add(Dense(1,activation=\"sigmoid\")) # Binary classification olduğu için sigmoid kullandık ! Regression da yok\n",
    "model.compile(loss=\"binary_crossentropy\", optimizer=\"adam\",metrics=[\"accuracy\"]) # Loss: hata MSE gibi # Optimizer=adam "
   ]
  },
  {
   "cell_type": "code",
   "execution_count": 58,
   "id": "69eaafac-5bdf-4a4b-873a-e685c083d46c",
   "metadata": {},
   "outputs": [],
   "source": [
    "x=scale(x) # hepsini aynı birime getirdik"
   ]
  },
  {
   "cell_type": "code",
   "execution_count": 59,
   "id": "0fb76091-543a-48ee-b5ed-539eb7363ae5",
   "metadata": {
    "scrolled": true
   },
   "outputs": [
    {
     "name": "stdout",
     "output_type": "stream",
     "text": [
      "Epoch 1/75\n",
      "\u001b[1m9268/9268\u001b[0m \u001b[32m━━━━━━━━━━━━━━━━━━━━\u001b[0m\u001b[37m\u001b[0m \u001b[1m9s\u001b[0m 768us/step - accuracy: 0.9252 - loss: 0.2053 - val_accuracy: 0.8586 - val_loss: 0.3105\n",
      "Epoch 2/75\n",
      "\u001b[1m9268/9268\u001b[0m \u001b[32m━━━━━━━━━━━━━━━━━━━━\u001b[0m\u001b[37m\u001b[0m \u001b[1m7s\u001b[0m 774us/step - accuracy: 0.9377 - loss: 0.1541 - val_accuracy: 0.9124 - val_loss: 0.1775\n",
      "Epoch 3/75\n",
      "\u001b[1m9268/9268\u001b[0m \u001b[32m━━━━━━━━━━━━━━━━━━━━\u001b[0m\u001b[37m\u001b[0m \u001b[1m7s\u001b[0m 759us/step - accuracy: 0.9491 - loss: 0.1180 - val_accuracy: 0.9511 - val_loss: 0.1124\n",
      "Epoch 4/75\n",
      "\u001b[1m9268/9268\u001b[0m \u001b[32m━━━━━━━━━━━━━━━━━━━━\u001b[0m\u001b[37m\u001b[0m \u001b[1m7s\u001b[0m 759us/step - accuracy: 0.9618 - loss: 0.0884 - val_accuracy: 0.9776 - val_loss: 0.0730\n",
      "Epoch 5/75\n",
      "\u001b[1m9268/9268\u001b[0m \u001b[32m━━━━━━━━━━━━━━━━━━━━\u001b[0m\u001b[37m\u001b[0m \u001b[1m7s\u001b[0m 747us/step - accuracy: 0.9689 - loss: 0.0748 - val_accuracy: 0.9807 - val_loss: 0.0601\n",
      "Epoch 6/75\n",
      "\u001b[1m9268/9268\u001b[0m \u001b[32m━━━━━━━━━━━━━━━━━━━━\u001b[0m\u001b[37m\u001b[0m \u001b[1m7s\u001b[0m 795us/step - accuracy: 0.9734 - loss: 0.0663 - val_accuracy: 0.9699 - val_loss: 0.0937\n",
      "Epoch 7/75\n",
      "\u001b[1m9268/9268\u001b[0m \u001b[32m━━━━━━━━━━━━━━━━━━━━\u001b[0m\u001b[37m\u001b[0m \u001b[1m7s\u001b[0m 777us/step - accuracy: 0.9770 - loss: 0.0587 - val_accuracy: 0.9675 - val_loss: 0.1059\n",
      "Epoch 8/75\n",
      "\u001b[1m9268/9268\u001b[0m \u001b[32m━━━━━━━━━━━━━━━━━━━━\u001b[0m\u001b[37m\u001b[0m \u001b[1m8s\u001b[0m 816us/step - accuracy: 0.9800 - loss: 0.0522 - val_accuracy: 0.9898 - val_loss: 0.0391\n",
      "Epoch 9/75\n",
      "\u001b[1m9268/9268\u001b[0m \u001b[32m━━━━━━━━━━━━━━━━━━━━\u001b[0m\u001b[37m\u001b[0m \u001b[1m7s\u001b[0m 791us/step - accuracy: 0.9822 - loss: 0.0477 - val_accuracy: 0.9754 - val_loss: 0.0701\n",
      "Epoch 10/75\n",
      "\u001b[1m9268/9268\u001b[0m \u001b[32m━━━━━━━━━━━━━━━━━━━━\u001b[0m\u001b[37m\u001b[0m \u001b[1m7s\u001b[0m 768us/step - accuracy: 0.9832 - loss: 0.0452 - val_accuracy: 0.9842 - val_loss: 0.0525\n",
      "Epoch 11/75\n",
      "\u001b[1m9268/9268\u001b[0m \u001b[32m━━━━━━━━━━━━━━━━━━━━\u001b[0m\u001b[37m\u001b[0m \u001b[1m7s\u001b[0m 769us/step - accuracy: 0.9842 - loss: 0.0435 - val_accuracy: 0.9703 - val_loss: 0.0901\n",
      "Epoch 12/75\n",
      "\u001b[1m9268/9268\u001b[0m \u001b[32m━━━━━━━━━━━━━━━━━━━━\u001b[0m\u001b[37m\u001b[0m \u001b[1m7s\u001b[0m 773us/step - accuracy: 0.9856 - loss: 0.0400 - val_accuracy: 0.9823 - val_loss: 0.0560\n",
      "Epoch 13/75\n",
      "\u001b[1m9268/9268\u001b[0m \u001b[32m━━━━━━━━━━━━━━━━━━━━\u001b[0m\u001b[37m\u001b[0m \u001b[1m7s\u001b[0m 781us/step - accuracy: 0.9867 - loss: 0.0376 - val_accuracy: 0.9716 - val_loss: 0.0918\n",
      "Epoch 14/75\n",
      "\u001b[1m9268/9268\u001b[0m \u001b[32m━━━━━━━━━━━━━━━━━━━━\u001b[0m\u001b[37m\u001b[0m \u001b[1m7s\u001b[0m 769us/step - accuracy: 0.9870 - loss: 0.0371 - val_accuracy: 0.9959 - val_loss: 0.0193\n",
      "Epoch 15/75\n",
      "\u001b[1m9268/9268\u001b[0m \u001b[32m━━━━━━━━━━━━━━━━━━━━\u001b[0m\u001b[37m\u001b[0m \u001b[1m7s\u001b[0m 781us/step - accuracy: 0.9883 - loss: 0.0336 - val_accuracy: 0.9902 - val_loss: 0.0352\n",
      "Epoch 16/75\n",
      "\u001b[1m9268/9268\u001b[0m \u001b[32m━━━━━━━━━━━━━━━━━━━━\u001b[0m\u001b[37m\u001b[0m \u001b[1m7s\u001b[0m 753us/step - accuracy: 0.9887 - loss: 0.0333 - val_accuracy: 0.9922 - val_loss: 0.0269\n",
      "Epoch 17/75\n",
      "\u001b[1m9268/9268\u001b[0m \u001b[32m━━━━━━━━━━━━━━━━━━━━\u001b[0m\u001b[37m\u001b[0m \u001b[1m7s\u001b[0m 772us/step - accuracy: 0.9890 - loss: 0.0318 - val_accuracy: 0.9810 - val_loss: 0.0512\n",
      "Epoch 18/75\n",
      "\u001b[1m9268/9268\u001b[0m \u001b[32m━━━━━━━━━━━━━━━━━━━━\u001b[0m\u001b[37m\u001b[0m \u001b[1m7s\u001b[0m 760us/step - accuracy: 0.9898 - loss: 0.0307 - val_accuracy: 0.9895 - val_loss: 0.0322\n",
      "Epoch 19/75\n",
      "\u001b[1m9268/9268\u001b[0m \u001b[32m━━━━━━━━━━━━━━━━━━━━\u001b[0m\u001b[37m\u001b[0m \u001b[1m7s\u001b[0m 770us/step - accuracy: 0.9897 - loss: 0.0302 - val_accuracy: 0.9934 - val_loss: 0.0261\n",
      "Epoch 20/75\n",
      "\u001b[1m9268/9268\u001b[0m \u001b[32m━━━━━━━━━━━━━━━━━━━━\u001b[0m\u001b[37m\u001b[0m \u001b[1m7s\u001b[0m 755us/step - accuracy: 0.9899 - loss: 0.0298 - val_accuracy: 0.9882 - val_loss: 0.0459\n",
      "Epoch 21/75\n",
      "\u001b[1m9268/9268\u001b[0m \u001b[32m━━━━━━━━━━━━━━━━━━━━\u001b[0m\u001b[37m\u001b[0m \u001b[1m7s\u001b[0m 760us/step - accuracy: 0.9907 - loss: 0.0275 - val_accuracy: 0.9942 - val_loss: 0.0251\n",
      "Epoch 22/75\n",
      "\u001b[1m9268/9268\u001b[0m \u001b[32m━━━━━━━━━━━━━━━━━━━━\u001b[0m\u001b[37m\u001b[0m \u001b[1m7s\u001b[0m 761us/step - accuracy: 0.9910 - loss: 0.0269 - val_accuracy: 0.9915 - val_loss: 0.0308\n",
      "Epoch 23/75\n",
      "\u001b[1m9268/9268\u001b[0m \u001b[32m━━━━━━━━━━━━━━━━━━━━\u001b[0m\u001b[37m\u001b[0m \u001b[1m7s\u001b[0m 754us/step - accuracy: 0.9911 - loss: 0.0263 - val_accuracy: 0.9905 - val_loss: 0.0320\n",
      "Epoch 24/75\n",
      "\u001b[1m9268/9268\u001b[0m \u001b[32m━━━━━━━━━━━━━━━━━━━━\u001b[0m\u001b[37m\u001b[0m \u001b[1m7s\u001b[0m 766us/step - accuracy: 0.9915 - loss: 0.0256 - val_accuracy: 0.9945 - val_loss: 0.0212\n",
      "Epoch 25/75\n",
      "\u001b[1m9268/9268\u001b[0m \u001b[32m━━━━━━━━━━━━━━━━━━━━\u001b[0m\u001b[37m\u001b[0m \u001b[1m7s\u001b[0m 753us/step - accuracy: 0.9920 - loss: 0.0250 - val_accuracy: 0.9878 - val_loss: 0.0408\n",
      "Epoch 26/75\n",
      "\u001b[1m9268/9268\u001b[0m \u001b[32m━━━━━━━━━━━━━━━━━━━━\u001b[0m\u001b[37m\u001b[0m \u001b[1m7s\u001b[0m 769us/step - accuracy: 0.9923 - loss: 0.0247 - val_accuracy: 0.9902 - val_loss: 0.0335\n",
      "Epoch 27/75\n",
      "\u001b[1m9268/9268\u001b[0m \u001b[32m━━━━━━━━━━━━━━━━━━━━\u001b[0m\u001b[37m\u001b[0m \u001b[1m7s\u001b[0m 767us/step - accuracy: 0.9926 - loss: 0.0231 - val_accuracy: 0.9895 - val_loss: 0.0414\n",
      "Epoch 28/75\n",
      "\u001b[1m9268/9268\u001b[0m \u001b[32m━━━━━━━━━━━━━━━━━━━━\u001b[0m\u001b[37m\u001b[0m \u001b[1m7s\u001b[0m 775us/step - accuracy: 0.9923 - loss: 0.0235 - val_accuracy: 0.9938 - val_loss: 0.0255\n",
      "Epoch 29/75\n",
      "\u001b[1m9268/9268\u001b[0m \u001b[32m━━━━━━━━━━━━━━━━━━━━\u001b[0m\u001b[37m\u001b[0m \u001b[1m7s\u001b[0m 749us/step - accuracy: 0.9930 - loss: 0.0220 - val_accuracy: 0.9981 - val_loss: 0.0142\n",
      "Epoch 30/75\n",
      "\u001b[1m9268/9268\u001b[0m \u001b[32m━━━━━━━━━━━━━━━━━━━━\u001b[0m\u001b[37m\u001b[0m \u001b[1m7s\u001b[0m 741us/step - accuracy: 0.9930 - loss: 0.0218 - val_accuracy: 0.9870 - val_loss: 0.0464\n",
      "Epoch 31/75\n",
      "\u001b[1m9268/9268\u001b[0m \u001b[32m━━━━━━━━━━━━━━━━━━━━\u001b[0m\u001b[37m\u001b[0m \u001b[1m7s\u001b[0m 764us/step - accuracy: 0.9930 - loss: 0.0215 - val_accuracy: 0.9854 - val_loss: 0.0430\n",
      "Epoch 32/75\n",
      "\u001b[1m9268/9268\u001b[0m \u001b[32m━━━━━━━━━━━━━━━━━━━━\u001b[0m\u001b[37m\u001b[0m \u001b[1m7s\u001b[0m 751us/step - accuracy: 0.9933 - loss: 0.0208 - val_accuracy: 0.9949 - val_loss: 0.0202\n",
      "Epoch 33/75\n",
      "\u001b[1m9268/9268\u001b[0m \u001b[32m━━━━━━━━━━━━━━━━━━━━\u001b[0m\u001b[37m\u001b[0m \u001b[1m7s\u001b[0m 760us/step - accuracy: 0.9939 - loss: 0.0201 - val_accuracy: 0.9880 - val_loss: 0.0339\n",
      "Epoch 34/75\n",
      "\u001b[1m9268/9268\u001b[0m \u001b[32m━━━━━━━━━━━━━━━━━━━━\u001b[0m\u001b[37m\u001b[0m \u001b[1m7s\u001b[0m 745us/step - accuracy: 0.9934 - loss: 0.0208 - val_accuracy: 0.9947 - val_loss: 0.0185\n",
      "Epoch 35/75\n",
      "\u001b[1m9268/9268\u001b[0m \u001b[32m━━━━━━━━━━━━━━━━━━━━\u001b[0m\u001b[37m\u001b[0m \u001b[1m7s\u001b[0m 760us/step - accuracy: 0.9939 - loss: 0.0192 - val_accuracy: 0.9974 - val_loss: 0.0151\n",
      "Epoch 36/75\n",
      "\u001b[1m9268/9268\u001b[0m \u001b[32m━━━━━━━━━━━━━━━━━━━━\u001b[0m\u001b[37m\u001b[0m \u001b[1m7s\u001b[0m 771us/step - accuracy: 0.9939 - loss: 0.0193 - val_accuracy: 0.9911 - val_loss: 0.0287\n",
      "Epoch 37/75\n",
      "\u001b[1m9268/9268\u001b[0m \u001b[32m━━━━━━━━━━━━━━━━━━━━\u001b[0m\u001b[37m\u001b[0m \u001b[1m8s\u001b[0m 808us/step - accuracy: 0.9939 - loss: 0.0192 - val_accuracy: 0.9930 - val_loss: 0.0207\n",
      "Epoch 38/75\n",
      "\u001b[1m9268/9268\u001b[0m \u001b[32m━━━━━━━━━━━━━━━━━━━━\u001b[0m\u001b[37m\u001b[0m \u001b[1m7s\u001b[0m 785us/step - accuracy: 0.9942 - loss: 0.0180 - val_accuracy: 0.9946 - val_loss: 0.0164\n",
      "Epoch 39/75\n",
      "\u001b[1m9268/9268\u001b[0m \u001b[32m━━━━━━━━━━━━━━━━━━━━\u001b[0m\u001b[37m\u001b[0m \u001b[1m7s\u001b[0m 757us/step - accuracy: 0.9944 - loss: 0.0181 - val_accuracy: 0.9957 - val_loss: 0.0179\n",
      "Epoch 40/75\n",
      "\u001b[1m9268/9268\u001b[0m \u001b[32m━━━━━━━━━━━━━━━━━━━━\u001b[0m\u001b[37m\u001b[0m \u001b[1m7s\u001b[0m 785us/step - accuracy: 0.9949 - loss: 0.0173 - val_accuracy: 0.9961 - val_loss: 0.0210\n",
      "Epoch 41/75\n",
      "\u001b[1m9268/9268\u001b[0m \u001b[32m━━━━━━━━━━━━━━━━━━━━\u001b[0m\u001b[37m\u001b[0m \u001b[1m7s\u001b[0m 760us/step - accuracy: 0.9945 - loss: 0.0177 - val_accuracy: 0.9930 - val_loss: 0.0185\n",
      "Epoch 42/75\n",
      "\u001b[1m9268/9268\u001b[0m \u001b[32m━━━━━━━━━━━━━━━━━━━━\u001b[0m\u001b[37m\u001b[0m \u001b[1m7s\u001b[0m 775us/step - accuracy: 0.9949 - loss: 0.0170 - val_accuracy: 0.9969 - val_loss: 0.0127\n",
      "Epoch 43/75\n",
      "\u001b[1m9268/9268\u001b[0m \u001b[32m━━━━━━━━━━━━━━━━━━━━\u001b[0m\u001b[37m\u001b[0m \u001b[1m7s\u001b[0m 762us/step - accuracy: 0.9947 - loss: 0.0165 - val_accuracy: 0.9977 - val_loss: 0.0095\n",
      "Epoch 44/75\n",
      "\u001b[1m9268/9268\u001b[0m \u001b[32m━━━━━━━━━━━━━━━━━━━━\u001b[0m\u001b[37m\u001b[0m \u001b[1m7s\u001b[0m 773us/step - accuracy: 0.9950 - loss: 0.0169 - val_accuracy: 0.9958 - val_loss: 0.0168\n",
      "Epoch 45/75\n",
      "\u001b[1m9268/9268\u001b[0m \u001b[32m━━━━━━━━━━━━━━━━━━━━\u001b[0m\u001b[37m\u001b[0m \u001b[1m7s\u001b[0m 763us/step - accuracy: 0.9946 - loss: 0.0175 - val_accuracy: 0.9994 - val_loss: 0.0056\n",
      "Epoch 46/75\n",
      "\u001b[1m9268/9268\u001b[0m \u001b[32m━━━━━━━━━━━━━━━━━━━━\u001b[0m\u001b[37m\u001b[0m \u001b[1m7s\u001b[0m 775us/step - accuracy: 0.9951 - loss: 0.0156 - val_accuracy: 0.9964 - val_loss: 0.0136\n",
      "Epoch 47/75\n",
      "\u001b[1m9268/9268\u001b[0m \u001b[32m━━━━━━━━━━━━━━━━━━━━\u001b[0m\u001b[37m\u001b[0m \u001b[1m7s\u001b[0m 766us/step - accuracy: 0.9954 - loss: 0.0152 - val_accuracy: 0.9928 - val_loss: 0.0307\n",
      "Epoch 48/75\n",
      "\u001b[1m9268/9268\u001b[0m \u001b[32m━━━━━━━━━━━━━━━━━━━━\u001b[0m\u001b[37m\u001b[0m \u001b[1m7s\u001b[0m 766us/step - accuracy: 0.9955 - loss: 0.0157 - val_accuracy: 0.9961 - val_loss: 0.0141\n",
      "Epoch 49/75\n",
      "\u001b[1m9268/9268\u001b[0m \u001b[32m━━━━━━━━━━━━━━━━━━━━\u001b[0m\u001b[37m\u001b[0m \u001b[1m7s\u001b[0m 784us/step - accuracy: 0.9954 - loss: 0.0160 - val_accuracy: 0.9992 - val_loss: 0.0051\n",
      "Epoch 50/75\n",
      "\u001b[1m9268/9268\u001b[0m \u001b[32m━━━━━━━━━━━━━━━━━━━━\u001b[0m\u001b[37m\u001b[0m \u001b[1m7s\u001b[0m 763us/step - accuracy: 0.9951 - loss: 0.0158 - val_accuracy: 0.9978 - val_loss: 0.0142\n",
      "Epoch 51/75\n",
      "\u001b[1m9268/9268\u001b[0m \u001b[32m━━━━━━━━━━━━━━━━━━━━\u001b[0m\u001b[37m\u001b[0m \u001b[1m7s\u001b[0m 768us/step - accuracy: 0.9952 - loss: 0.0147 - val_accuracy: 0.9962 - val_loss: 0.0156\n",
      "Epoch 52/75\n",
      "\u001b[1m9268/9268\u001b[0m \u001b[32m━━━━━━━━━━━━━━━━━━━━\u001b[0m\u001b[37m\u001b[0m \u001b[1m7s\u001b[0m 789us/step - accuracy: 0.9956 - loss: 0.0155 - val_accuracy: 0.9971 - val_loss: 0.0124\n",
      "Epoch 53/75\n",
      "\u001b[1m9268/9268\u001b[0m \u001b[32m━━━━━━━━━━━━━━━━━━━━\u001b[0m\u001b[37m\u001b[0m \u001b[1m7s\u001b[0m 804us/step - accuracy: 0.9960 - loss: 0.0143 - val_accuracy: 0.9968 - val_loss: 0.0120\n",
      "Epoch 54/75\n",
      "\u001b[1m9268/9268\u001b[0m \u001b[32m━━━━━━━━━━━━━━━━━━━━\u001b[0m\u001b[37m\u001b[0m \u001b[1m7s\u001b[0m 769us/step - accuracy: 0.9962 - loss: 0.0135 - val_accuracy: 0.9918 - val_loss: 0.0270\n",
      "Epoch 55/75\n",
      "\u001b[1m9268/9268\u001b[0m \u001b[32m━━━━━━━━━━━━━━━━━━━━\u001b[0m\u001b[37m\u001b[0m \u001b[1m7s\u001b[0m 790us/step - accuracy: 0.9951 - loss: 0.0161 - val_accuracy: 0.9983 - val_loss: 0.0094\n",
      "Epoch 56/75\n",
      "\u001b[1m9268/9268\u001b[0m \u001b[32m━━━━━━━━━━━━━━━━━━━━\u001b[0m\u001b[37m\u001b[0m \u001b[1m7s\u001b[0m 778us/step - accuracy: 0.9959 - loss: 0.0144 - val_accuracy: 0.9931 - val_loss: 0.0234\n",
      "Epoch 57/75\n",
      "\u001b[1m9268/9268\u001b[0m \u001b[32m━━━━━━━━━━━━━━━━━━━━\u001b[0m\u001b[37m\u001b[0m \u001b[1m7s\u001b[0m 791us/step - accuracy: 0.9958 - loss: 0.0136 - val_accuracy: 0.9974 - val_loss: 0.0090\n",
      "Epoch 58/75\n",
      "\u001b[1m9268/9268\u001b[0m \u001b[32m━━━━━━━━━━━━━━━━━━━━\u001b[0m\u001b[37m\u001b[0m \u001b[1m7s\u001b[0m 792us/step - accuracy: 0.9961 - loss: 0.0141 - val_accuracy: 0.9874 - val_loss: 0.0344\n",
      "Epoch 59/75\n",
      "\u001b[1m9268/9268\u001b[0m \u001b[32m━━━━━━━━━━━━━━━━━━━━\u001b[0m\u001b[37m\u001b[0m \u001b[1m7s\u001b[0m 784us/step - accuracy: 0.9959 - loss: 0.0144 - val_accuracy: 0.9864 - val_loss: 0.0464\n",
      "Epoch 60/75\n",
      "\u001b[1m9268/9268\u001b[0m \u001b[32m━━━━━━━━━━━━━━━━━━━━\u001b[0m\u001b[37m\u001b[0m \u001b[1m7s\u001b[0m 779us/step - accuracy: 0.9959 - loss: 0.0143 - val_accuracy: 0.9936 - val_loss: 0.0229\n",
      "Epoch 61/75\n",
      "\u001b[1m9268/9268\u001b[0m \u001b[32m━━━━━━━━━━━━━━━━━━━━\u001b[0m\u001b[37m\u001b[0m \u001b[1m7s\u001b[0m 768us/step - accuracy: 0.9959 - loss: 0.0140 - val_accuracy: 0.9955 - val_loss: 0.0185\n",
      "Epoch 62/75\n",
      "\u001b[1m9268/9268\u001b[0m \u001b[32m━━━━━━━━━━━━━━━━━━━━\u001b[0m\u001b[37m\u001b[0m \u001b[1m7s\u001b[0m 784us/step - accuracy: 0.9962 - loss: 0.0131 - val_accuracy: 0.9979 - val_loss: 0.0128\n",
      "Epoch 63/75\n",
      "\u001b[1m9268/9268\u001b[0m \u001b[32m━━━━━━━━━━━━━━━━━━━━\u001b[0m\u001b[37m\u001b[0m \u001b[1m7s\u001b[0m 803us/step - accuracy: 0.9962 - loss: 0.0129 - val_accuracy: 0.9956 - val_loss: 0.0163\n",
      "Epoch 64/75\n",
      "\u001b[1m9268/9268\u001b[0m \u001b[32m━━━━━━━━━━━━━━━━━━━━\u001b[0m\u001b[37m\u001b[0m \u001b[1m7s\u001b[0m 773us/step - accuracy: 0.9962 - loss: 0.0127 - val_accuracy: 0.9990 - val_loss: 0.0074\n",
      "Epoch 65/75\n",
      "\u001b[1m9268/9268\u001b[0m \u001b[32m━━━━━━━━━━━━━━━━━━━━\u001b[0m\u001b[37m\u001b[0m \u001b[1m7s\u001b[0m 756us/step - accuracy: 0.9962 - loss: 0.0124 - val_accuracy: 0.9974 - val_loss: 0.0099\n",
      "Epoch 66/75\n",
      "\u001b[1m9268/9268\u001b[0m \u001b[32m━━━━━━━━━━━━━━━━━━━━\u001b[0m\u001b[37m\u001b[0m \u001b[1m7s\u001b[0m 770us/step - accuracy: 0.9963 - loss: 0.0134 - val_accuracy: 0.9971 - val_loss: 0.0097\n",
      "Epoch 67/75\n",
      "\u001b[1m9268/9268\u001b[0m \u001b[32m━━━━━━━━━━━━━━━━━━━━\u001b[0m\u001b[37m\u001b[0m \u001b[1m7s\u001b[0m 748us/step - accuracy: 0.9963 - loss: 0.0129 - val_accuracy: 0.9990 - val_loss: 0.0091\n",
      "Epoch 68/75\n",
      "\u001b[1m9268/9268\u001b[0m \u001b[32m━━━━━━━━━━━━━━━━━━━━\u001b[0m\u001b[37m\u001b[0m \u001b[1m7s\u001b[0m 761us/step - accuracy: 0.9963 - loss: 0.0124 - val_accuracy: 0.9974 - val_loss: 0.0165\n",
      "Epoch 69/75\n",
      "\u001b[1m9268/9268\u001b[0m \u001b[32m━━━━━━━━━━━━━━━━━━━━\u001b[0m\u001b[37m\u001b[0m \u001b[1m7s\u001b[0m 758us/step - accuracy: 0.9962 - loss: 0.0130 - val_accuracy: 0.9928 - val_loss: 0.0236\n",
      "Epoch 70/75\n",
      "\u001b[1m9268/9268\u001b[0m \u001b[32m━━━━━━━━━━━━━━━━━━━━\u001b[0m\u001b[37m\u001b[0m \u001b[1m7s\u001b[0m 755us/step - accuracy: 0.9964 - loss: 0.0127 - val_accuracy: 0.9964 - val_loss: 0.0153\n",
      "Epoch 71/75\n",
      "\u001b[1m9268/9268\u001b[0m \u001b[32m━━━━━━━━━━━━━━━━━━━━\u001b[0m\u001b[37m\u001b[0m \u001b[1m7s\u001b[0m 776us/step - accuracy: 0.9965 - loss: 0.0125 - val_accuracy: 0.9991 - val_loss: 0.0111\n",
      "Epoch 72/75\n",
      "\u001b[1m9268/9268\u001b[0m \u001b[32m━━━━━━━━━━━━━━━━━━━━\u001b[0m\u001b[37m\u001b[0m \u001b[1m7s\u001b[0m 765us/step - accuracy: 0.9965 - loss: 0.0121 - val_accuracy: 0.9944 - val_loss: 0.0174\n",
      "Epoch 73/75\n",
      "\u001b[1m9268/9268\u001b[0m \u001b[32m━━━━━━━━━━━━━━━━━━━━\u001b[0m\u001b[37m\u001b[0m \u001b[1m7s\u001b[0m 766us/step - accuracy: 0.9967 - loss: 0.0117 - val_accuracy: 0.9989 - val_loss: 0.0035\n",
      "Epoch 74/75\n",
      "\u001b[1m9268/9268\u001b[0m \u001b[32m━━━━━━━━━━━━━━━━━━━━\u001b[0m\u001b[37m\u001b[0m \u001b[1m7s\u001b[0m 773us/step - accuracy: 0.9967 - loss: 0.0114 - val_accuracy: 0.9990 - val_loss: 0.0049\n",
      "Epoch 75/75\n",
      "\u001b[1m9268/9268\u001b[0m \u001b[32m━━━━━━━━━━━━━━━━━━━━\u001b[0m\u001b[37m\u001b[0m \u001b[1m7s\u001b[0m 792us/step - accuracy: 0.9966 - loss: 0.0121 - val_accuracy: 0.9941 - val_loss: 0.0222\n"
     ]
    }
   ],
   "source": [
    "history=model.fit(x,y,epochs=75,batch_size=23, validation_split=.20, verbose=1)"
   ]
  },
  {
   "cell_type": "code",
   "execution_count": 60,
   "id": "df3523e6-e798-4082-a6a5-896a854ec0b2",
   "metadata": {},
   "outputs": [
    {
     "name": "stdout",
     "output_type": "stream",
     "text": [
      "\u001b[1m2843/2843\u001b[0m \u001b[32m━━━━━━━━━━━━━━━━━━━━\u001b[0m\u001b[37m\u001b[0m \u001b[1m1s\u001b[0m 477us/step\n"
     ]
    }
   ],
   "source": [
    "dosya[\"Machine failure\"]=model.predict(test)"
   ]
  },
  {
   "cell_type": "code",
   "execution_count": 61,
   "id": "12e97e31-db2d-489a-8801-13dd3d75d820",
   "metadata": {},
   "outputs": [],
   "source": [
    "dosya.to_csv(\"tahmin2.csv\",index=False)"
   ]
  },
  {
   "cell_type": "code",
   "execution_count": 62,
   "id": "b74da8e7-a9f4-49a2-b484-eb73876344f4",
   "metadata": {},
   "outputs": [
    {
     "data": {
      "text/plain": [
       "<matplotlib.legend.Legend at 0x17c75ae1a30>"
      ]
     },
     "execution_count": 62,
     "metadata": {},
     "output_type": "execute_result"
    },
    {
     "data": {
      "image/png": "[encoded data removed]",
      "text/plain": [
       "<Figure size 640x480 with 1 Axes>"
      ]
     },
     "metadata": {},
     "output_type": "display_data"
    }
   ],
   "source": [
    "plt.plot(history.history[\"accuracy\"],label=\"Accuracy\")    \n",
    "plt.plot(history.history[\"val_accuracy\"],label=\"Val_Accuracy\")\n",
    "plt.legend()"
   ]
  },
  {
   "cell_type": "markdown",
   "id": "291d7c87-82dd-4b40-92c7-6776b1a4eddc",
   "metadata": {},
   "source": [
    "Sonuc olarak hem ML hem de DL olarak modelimizi egittik."
   ]
  }
 ],
 "metadata": {
  "kernelspec": {
   "display_name": "Python 3 (ipykernel)",
   "language": "python",
   "name": "python3"
  },
  "language_info": {
   "codemirror_mode": {
    "name": "ipython",
    "version": 3
   },
   "file_extension": ".py",
   "mimetype": "text/x-python",
   "name": "python",
   "nbconvert_exporter": "python",
   "pygments_lexer": "ipython3",
   "version": "3.12.3"
  }
 },
 "nbformat": 4,
 "nbformat_minor": 5
}
