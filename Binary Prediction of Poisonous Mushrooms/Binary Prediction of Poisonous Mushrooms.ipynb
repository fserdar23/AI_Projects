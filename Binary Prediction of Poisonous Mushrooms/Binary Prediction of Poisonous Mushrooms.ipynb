{
 "cells": [
  {
   "cell_type": "markdown",
   "id": "1323c672-6f9b-4bf9-964d-0bc183ed60d9",
   "metadata": {},
   "source": [
    "# Binary Prediction of Poisonous Mushrooms"
   ]
  },
  {
   "cell_type": "markdown",
   "id": "22378416-c878-4d6a-ae82-9bd3b9ae170d",
   "metadata": {},
   "source": [
    "Bu projemiz de mantarların zehirli olup olmadıklarını anlayan bir model geliştireceğiz."
   ]
  },
  {
   "cell_type": "markdown",
   "id": "8cff8a46-fde2-4015-8a14-88ca59011476",
   "metadata": {},
   "source": [
    "<img src=\"https://i.pinimg.com/originals/91/1b/fb/911bfb23b74a57d56a8931a8b126d0ba.jpg\">"
   ]
  },
  {
   "cell_type": "markdown",
   "id": "e927ab29-ba21-4ef9-b5ed-ba4d6c00493b",
   "metadata": {},
   "source": [
    "\n",
    "Zehirli= p <br>\n",
    "Değil = e"
   ]
  },
  {
   "cell_type": "markdown",
   "id": "751dc95e-af06-4836-b6d8-6dddf8730afe",
   "metadata": {},
   "source": [
    "<a href =\"https://www.kaggle.com/competitions/playground-series-s4e8/data\">Dataya Buradan Ulaşabilirsiniz</a>"
   ]
  },
  {
   "cell_type": "markdown",
   "id": "ebc6f649-4f66-4034-8825-3a3754335ab9",
   "metadata": {},
   "source": [
    "### EDA"
   ]
  },
  {
   "cell_type": "code",
   "execution_count": 2,
   "id": "3f5b0e2a-1985-45d7-ac48-1bad443a8e19",
   "metadata": {},
   "outputs": [],
   "source": [
    "import pandas as pd\n",
    "import matplotlib.pyplot as plt\n",
    "import seaborn as sns\n",
    "\n",
    "pd.set_option(\"display.max_columns\",100)\n",
    "\n",
    "import warnings\n",
    "warnings.filterwarnings(\"ignore\")"
   ]
  },
  {
   "cell_type": "code",
   "execution_count": 3,
   "id": "0b4a0d53-4dd3-4f20-b105-6e0cd37bfece",
   "metadata": {},
   "outputs": [],
   "source": [
    "df=pd.read_csv(\"train.csv\")"
   ]
  },
  {
   "cell_type": "code",
   "execution_count": 4,
   "id": "fd614271-deaa-4b9a-b091-93a0dc8b5a88",
   "metadata": {},
   "outputs": [
    {
     "data": {
      "text/html": [
       "<div>\n",
       "<style scoped>\n",
       "    .dataframe tbody tr th:only-of-type {\n",
       "        vertical-align: middle;\n",
       "    }\n",
       "\n",
       "    .dataframe tbody tr th {\n",
       "        vertical-align: top;\n",
       "    }\n",
       "\n",
       "    .dataframe thead th {\n",
       "        text-align: right;\n",
       "    }\n",
       "</style>\n",
       "<table border=\"1\" class=\"dataframe\">\n",
       "  <thead>\n",
       "    <tr style=\"text-align: right;\">\n",
       "      <th></th>\n",
       "      <th>id</th>\n",
       "      <th>class</th>\n",
       "      <th>cap-diameter</th>\n",
       "      <th>cap-shape</th>\n",
       "      <th>cap-surface</th>\n",
       "      <th>cap-color</th>\n",
       "      <th>does-bruise-or-bleed</th>\n",
       "      <th>gill-attachment</th>\n",
       "      <th>gill-spacing</th>\n",
       "      <th>gill-color</th>\n",
       "      <th>stem-height</th>\n",
       "      <th>stem-width</th>\n",
       "      <th>stem-root</th>\n",
       "      <th>stem-surface</th>\n",
       "      <th>stem-color</th>\n",
       "      <th>veil-type</th>\n",
       "      <th>veil-color</th>\n",
       "      <th>has-ring</th>\n",
       "      <th>ring-type</th>\n",
       "      <th>spore-print-color</th>\n",
       "      <th>habitat</th>\n",
       "      <th>season</th>\n",
       "    </tr>\n",
       "  </thead>\n",
       "  <tbody>\n",
       "    <tr>\n",
       "      <th>0</th>\n",
       "      <td>0</td>\n",
       "      <td>e</td>\n",
       "      <td>8.80</td>\n",
       "      <td>f</td>\n",
       "      <td>s</td>\n",
       "      <td>u</td>\n",
       "      <td>f</td>\n",
       "      <td>a</td>\n",
       "      <td>c</td>\n",
       "      <td>w</td>\n",
       "      <td>4.51</td>\n",
       "      <td>15.39</td>\n",
       "      <td>NaN</td>\n",
       "      <td>NaN</td>\n",
       "      <td>w</td>\n",
       "      <td>NaN</td>\n",
       "      <td>NaN</td>\n",
       "      <td>f</td>\n",
       "      <td>f</td>\n",
       "      <td>NaN</td>\n",
       "      <td>d</td>\n",
       "      <td>a</td>\n",
       "    </tr>\n",
       "    <tr>\n",
       "      <th>1</th>\n",
       "      <td>1</td>\n",
       "      <td>p</td>\n",
       "      <td>4.51</td>\n",
       "      <td>x</td>\n",
       "      <td>h</td>\n",
       "      <td>o</td>\n",
       "      <td>f</td>\n",
       "      <td>a</td>\n",
       "      <td>c</td>\n",
       "      <td>n</td>\n",
       "      <td>4.79</td>\n",
       "      <td>6.48</td>\n",
       "      <td>NaN</td>\n",
       "      <td>y</td>\n",
       "      <td>o</td>\n",
       "      <td>NaN</td>\n",
       "      <td>NaN</td>\n",
       "      <td>t</td>\n",
       "      <td>z</td>\n",
       "      <td>NaN</td>\n",
       "      <td>d</td>\n",
       "      <td>w</td>\n",
       "    </tr>\n",
       "    <tr>\n",
       "      <th>2</th>\n",
       "      <td>2</td>\n",
       "      <td>e</td>\n",
       "      <td>6.94</td>\n",
       "      <td>f</td>\n",
       "      <td>s</td>\n",
       "      <td>b</td>\n",
       "      <td>f</td>\n",
       "      <td>x</td>\n",
       "      <td>c</td>\n",
       "      <td>w</td>\n",
       "      <td>6.85</td>\n",
       "      <td>9.93</td>\n",
       "      <td>NaN</td>\n",
       "      <td>s</td>\n",
       "      <td>n</td>\n",
       "      <td>NaN</td>\n",
       "      <td>NaN</td>\n",
       "      <td>f</td>\n",
       "      <td>f</td>\n",
       "      <td>NaN</td>\n",
       "      <td>l</td>\n",
       "      <td>w</td>\n",
       "    </tr>\n",
       "    <tr>\n",
       "      <th>3</th>\n",
       "      <td>3</td>\n",
       "      <td>e</td>\n",
       "      <td>3.88</td>\n",
       "      <td>f</td>\n",
       "      <td>y</td>\n",
       "      <td>g</td>\n",
       "      <td>f</td>\n",
       "      <td>s</td>\n",
       "      <td>NaN</td>\n",
       "      <td>g</td>\n",
       "      <td>4.16</td>\n",
       "      <td>6.53</td>\n",
       "      <td>NaN</td>\n",
       "      <td>NaN</td>\n",
       "      <td>w</td>\n",
       "      <td>NaN</td>\n",
       "      <td>NaN</td>\n",
       "      <td>f</td>\n",
       "      <td>f</td>\n",
       "      <td>NaN</td>\n",
       "      <td>d</td>\n",
       "      <td>u</td>\n",
       "    </tr>\n",
       "    <tr>\n",
       "      <th>4</th>\n",
       "      <td>4</td>\n",
       "      <td>e</td>\n",
       "      <td>5.85</td>\n",
       "      <td>x</td>\n",
       "      <td>l</td>\n",
       "      <td>w</td>\n",
       "      <td>f</td>\n",
       "      <td>d</td>\n",
       "      <td>NaN</td>\n",
       "      <td>w</td>\n",
       "      <td>3.37</td>\n",
       "      <td>8.36</td>\n",
       "      <td>NaN</td>\n",
       "      <td>NaN</td>\n",
       "      <td>w</td>\n",
       "      <td>NaN</td>\n",
       "      <td>NaN</td>\n",
       "      <td>f</td>\n",
       "      <td>f</td>\n",
       "      <td>NaN</td>\n",
       "      <td>g</td>\n",
       "      <td>a</td>\n",
       "    </tr>\n",
       "  </tbody>\n",
       "</table>\n",
       "</div>"
      ],
      "text/plain": [
       "   id class  cap-diameter cap-shape cap-surface cap-color  \\\n",
       "0   0     e          8.80         f           s         u   \n",
       "1   1     p          4.51         x           h         o   \n",
       "2   2     e          6.94         f           s         b   \n",
       "3   3     e          3.88         f           y         g   \n",
       "4   4     e          5.85         x           l         w   \n",
       "\n",
       "  does-bruise-or-bleed gill-attachment gill-spacing gill-color  stem-height  \\\n",
       "0                    f               a            c          w         4.51   \n",
       "1                    f               a            c          n         4.79   \n",
       "2                    f               x            c          w         6.85   \n",
       "3                    f               s          NaN          g         4.16   \n",
       "4                    f               d          NaN          w         3.37   \n",
       "\n",
       "   stem-width stem-root stem-surface stem-color veil-type veil-color has-ring  \\\n",
       "0       15.39       NaN          NaN          w       NaN        NaN        f   \n",
       "1        6.48       NaN            y          o       NaN        NaN        t   \n",
       "2        9.93       NaN            s          n       NaN        NaN        f   \n",
       "3        6.53       NaN          NaN          w       NaN        NaN        f   \n",
       "4        8.36       NaN          NaN          w       NaN        NaN        f   \n",
       "\n",
       "  ring-type spore-print-color habitat season  \n",
       "0         f               NaN       d      a  \n",
       "1         z               NaN       d      w  \n",
       "2         f               NaN       l      w  \n",
       "3         f               NaN       d      u  \n",
       "4         f               NaN       g      a  "
      ]
     },
     "execution_count": 4,
     "metadata": {},
     "output_type": "execute_result"
    }
   ],
   "source": [
    "df.head()"
   ]
  },
  {
   "cell_type": "code",
   "execution_count": 5,
   "id": "4d3db17d-3a64-43c2-832f-d29cafdce28a",
   "metadata": {},
   "outputs": [
    {
     "data": {
      "text/plain": [
       "(3116945, 22)"
      ]
     },
     "execution_count": 5,
     "metadata": {},
     "output_type": "execute_result"
    }
   ],
   "source": [
    "df.shape"
   ]
  },
  {
   "cell_type": "code",
   "execution_count": 6,
   "id": "afc721c8-dc0a-434a-88f5-38584021b7bc",
   "metadata": {},
   "outputs": [
    {
     "name": "stdout",
     "output_type": "stream",
     "text": [
      "<class 'pandas.core.frame.DataFrame'>\n",
      "RangeIndex: 3116945 entries, 0 to 3116944\n",
      "Data columns (total 22 columns):\n",
      " #   Column                Dtype  \n",
      "---  ------                -----  \n",
      " 0   id                    int64  \n",
      " 1   class                 object \n",
      " 2   cap-diameter          float64\n",
      " 3   cap-shape             object \n",
      " 4   cap-surface           object \n",
      " 5   cap-color             object \n",
      " 6   does-bruise-or-bleed  object \n",
      " 7   gill-attachment       object \n",
      " 8   gill-spacing          object \n",
      " 9   gill-color            object \n",
      " 10  stem-height           float64\n",
      " 11  stem-width            float64\n",
      " 12  stem-root             object \n",
      " 13  stem-surface          object \n",
      " 14  stem-color            object \n",
      " 15  veil-type             object \n",
      " 16  veil-color            object \n",
      " 17  has-ring              object \n",
      " 18  ring-type             object \n",
      " 19  spore-print-color     object \n",
      " 20  habitat               object \n",
      " 21  season                object \n",
      "dtypes: float64(3), int64(1), object(18)\n",
      "memory usage: 523.2+ MB\n"
     ]
    }
   ],
   "source": [
    "df.info()"
   ]
  },
  {
   "cell_type": "code",
   "execution_count": 7,
   "id": "d52f2fcd-b241-4f73-b69e-8cc5a5b93882",
   "metadata": {},
   "outputs": [
    {
     "data": {
      "text/plain": [
       "id                            0\n",
       "class                         0\n",
       "cap-diameter                  4\n",
       "cap-shape                    40\n",
       "cap-surface              671023\n",
       "cap-color                    12\n",
       "does-bruise-or-bleed          8\n",
       "gill-attachment          523936\n",
       "gill-spacing            1258435\n",
       "gill-color                   57\n",
       "stem-height                   0\n",
       "stem-width                    0\n",
       "stem-root               2757023\n",
       "stem-surface            1980861\n",
       "stem-color                   38\n",
       "veil-type               2957493\n",
       "veil-color              2740947\n",
       "has-ring                     24\n",
       "ring-type                128880\n",
       "spore-print-color       2849682\n",
       "habitat                      45\n",
       "season                        0\n",
       "dtype: int64"
      ]
     },
     "execution_count": 7,
     "metadata": {},
     "output_type": "execute_result"
    }
   ],
   "source": [
    "df.isnull().sum()"
   ]
  },
  {
   "cell_type": "code",
   "execution_count": 8,
   "id": "f554a1bb-3cd6-499f-a230-06c61e665c2d",
   "metadata": {},
   "outputs": [
    {
     "data": {
      "text/plain": [
       "class\n",
       "p    1705396\n",
       "e    1411549\n",
       "Name: count, dtype: int64"
      ]
     },
     "execution_count": 8,
     "metadata": {},
     "output_type": "execute_result"
    }
   ],
   "source": [
    "df[\"class\"].value_counts()"
   ]
  },
  {
   "cell_type": "code",
   "execution_count": 9,
   "id": "19f8ec9b-e3cf-4c6c-9bd2-65dd745c11b1",
   "metadata": {},
   "outputs": [
    {
     "data": {
      "text/plain": [
       "<Axes: xlabel='class', ylabel='count'>"
      ]
     },
     "execution_count": 9,
     "metadata": {},
     "output_type": "execute_result"
    },
    {
     "data": {
      "image/png": "[encoded data removed]",
      "text/plain": [
       "<Figure size 640x480 with 1 Axes>"
      ]
     },
     "metadata": {},
     "output_type": "display_data"
    }
   ],
   "source": [
    "sns.countplot(x=df[\"class\"])\n"
   ]
  },
  {
   "cell_type": "markdown",
   "id": "3f4a3971-3545-4ef1-8d22-a9724e9c86ec",
   "metadata": {},
   "source": [
    "### Feature Engineering"
   ]
  },
  {
   "cell_type": "markdown",
   "id": "269b8b67-7af5-4b06-a169-1235be385f62",
   "metadata": {},
   "source": [
    "Fazla boş olan sütunları kaldırıyorum"
   ]
  },
  {
   "cell_type": "code",
   "execution_count": 10,
   "id": "1f40c535-b7ef-4725-bc54-5c46bddab765",
   "metadata": {},
   "outputs": [],
   "source": [
    "df=df.drop([\"spore-print-color\",\"veil-color\",\"veil-type\",\"stem-surface\",\"stem-root\",\"gill-spacing\",\"cap-surface\",\"gill-attachment\",\"ring-type\"],axis=1)"
   ]
  },
  {
   "cell_type": "markdown",
   "id": "b57c95ba-4c87-4063-a9a7-f51157f1305e",
   "metadata": {},
   "source": [
    "Simdi de kalan bos verileri dolduruyorum"
   ]
  },
  {
   "cell_type": "code",
   "execution_count": 11,
   "id": "49312893-abc9-4d86-afed-8f690a07bea2",
   "metadata": {
    "scrolled": true
   },
   "outputs": [
    {
     "data": {
      "text/plain": [
       "id                       0\n",
       "class                    0\n",
       "cap-diameter             4\n",
       "cap-shape               40\n",
       "cap-color               12\n",
       "does-bruise-or-bleed     8\n",
       "gill-color              57\n",
       "stem-height              0\n",
       "stem-width               0\n",
       "stem-color              38\n",
       "has-ring                24\n",
       "habitat                 45\n",
       "season                   0\n",
       "dtype: int64"
      ]
     },
     "execution_count": 11,
     "metadata": {},
     "output_type": "execute_result"
    }
   ],
   "source": [
    "df.isnull().sum()"
   ]
  },
  {
   "cell_type": "code",
   "execution_count": 12,
   "id": "cf32628f-da3a-4477-8684-8b025b936da1",
   "metadata": {},
   "outputs": [
    {
     "data": {
      "text/plain": [
       "cap-diameter\n",
       "1.49     8164\n",
       "3.18     7942\n",
       "3.14     7361\n",
       "1.51     7072\n",
       "4.04     6828\n",
       "         ... \n",
       "58.19       1\n",
       "31.59       1\n",
       "24.93       1\n",
       "58.76       1\n",
       "54.07       1\n",
       "Name: count, Length: 3913, dtype: int64"
      ]
     },
     "execution_count": 12,
     "metadata": {},
     "output_type": "execute_result"
    }
   ],
   "source": [
    "df[\"cap-diameter\"].value_counts()"
   ]
  },
  {
   "cell_type": "code",
   "execution_count": 13,
   "id": "2e212833-7541-4cda-8c38-de9e7bd18a27",
   "metadata": {},
   "outputs": [],
   "source": [
    "df[\"cap-diameter\"]=df[\"cap-diameter\"].fillna(1.49)"
   ]
  },
  {
   "cell_type": "code",
   "execution_count": 14,
   "id": "566f7149-34f4-4d69-9a89-7239062b8c2d",
   "metadata": {
    "scrolled": true
   },
   "outputs": [
    {
     "data": {
      "text/plain": [
       "cap-shape\n",
       "x        1436026\n",
       "f         676238\n",
       "s         365146\n",
       "b         318646\n",
       "o         108835\n",
       "          ...   \n",
       "12.62          1\n",
       "5.15           1\n",
       "19.04          1\n",
       "49.21          1\n",
       "19.06          1\n",
       "Name: count, Length: 74, dtype: int64"
      ]
     },
     "execution_count": 14,
     "metadata": {},
     "output_type": "execute_result"
    }
   ],
   "source": [
    "df[\"cap-shape\"].value_counts()"
   ]
  },
  {
   "cell_type": "code",
   "execution_count": 15,
   "id": "ca52c841-aff2-4aa1-b811-299789bcfdb4",
   "metadata": {},
   "outputs": [],
   "source": [
    "df[\"cap-shape\"]=df[\"cap-shape\"].fillna(\"x\")"
   ]
  },
  {
   "cell_type": "code",
   "execution_count": 16,
   "id": "377ef833-f868-4570-b12b-da33ec4516bf",
   "metadata": {
    "scrolled": true
   },
   "outputs": [
    {
     "data": {
      "text/plain": [
       "does-bruise-or-bleed\n",
       "f           2569743\n",
       "t            547085\n",
       "w                14\n",
       "c                11\n",
       "h                 9\n",
       "a                 7\n",
       "b                 7\n",
       "x                 7\n",
       "y                 7\n",
       "k                 6\n",
       "s                 6\n",
       "e                 4\n",
       "l                 4\n",
       "p                 4\n",
       "d                 4\n",
       "g                 3\n",
       "z                 3\n",
       "o                 3\n",
       "i                 2\n",
       "n                 2\n",
       "r                 1\n",
       "has-ring          1\n",
       "3.43              1\n",
       "4.42              1\n",
       "2.9               1\n",
       "u                 1\n",
       "Name: count, dtype: int64"
      ]
     },
     "execution_count": 16,
     "metadata": {},
     "output_type": "execute_result"
    }
   ],
   "source": [
    "df[\"does-bruise-or-bleed\"].value_counts()"
   ]
  },
  {
   "cell_type": "code",
   "execution_count": 17,
   "id": "579b6035-644f-4e3d-9bdd-2ef3f5114341",
   "metadata": {},
   "outputs": [],
   "source": [
    "df[\"does-bruise-or-bleed\"]=df[\"does-bruise-or-bleed\"].fillna(\"f\")"
   ]
  },
  {
   "cell_type": "code",
   "execution_count": 18,
   "id": "0aeba2b3-2027-4c4a-ae4b-e302e5e60911",
   "metadata": {},
   "outputs": [
    {
     "data": {
      "text/plain": [
       "cap-color\n",
       "n             1359542\n",
       "y              386627\n",
       "w              379442\n",
       "g              210825\n",
       "e              197290\n",
       "               ...   \n",
       "3.95                1\n",
       "6.59                1\n",
       "5.25                1\n",
       "veil-color          1\n",
       "9.02                1\n",
       "Name: count, Length: 78, dtype: int64"
      ]
     },
     "execution_count": 18,
     "metadata": {},
     "output_type": "execute_result"
    }
   ],
   "source": [
    "df[\"cap-color\"].value_counts()"
   ]
  },
  {
   "cell_type": "code",
   "execution_count": 19,
   "id": "ae765f42-8411-46f3-8295-30d039ef273d",
   "metadata": {},
   "outputs": [],
   "source": [
    "df[\"cap-color\"]=df[\"cap-color\"].fillna(\"n\")"
   ]
  },
  {
   "cell_type": "code",
   "execution_count": 20,
   "id": "a51e4ede-b8fa-4fa7-9d6c-53aee56d28fa",
   "metadata": {},
   "outputs": [
    {
     "data": {
      "text/plain": [
       "gill-color\n",
       "w       931538\n",
       "n       543386\n",
       "y       469464\n",
       "p       343626\n",
       "g       212164\n",
       "         ...  \n",
       "9.46         1\n",
       "5.01         1\n",
       "3.4          1\n",
       "17           1\n",
       "8.37         1\n",
       "Name: count, Length: 63, dtype: int64"
      ]
     },
     "execution_count": 20,
     "metadata": {},
     "output_type": "execute_result"
    }
   ],
   "source": [
    "df[\"gill-color\"].value_counts()"
   ]
  },
  {
   "cell_type": "code",
   "execution_count": 21,
   "id": "6f8971eb-842e-443c-8075-0749860eb250",
   "metadata": {},
   "outputs": [],
   "source": [
    "df[\"gill-color\"]=df[\"gill-color\"].fillna(\"w\")"
   ]
  },
  {
   "cell_type": "code",
   "execution_count": 22,
   "id": "257e055b-59e2-49f5-bfbd-8f9f9ee6e8a1",
   "metadata": {
    "scrolled": true
   },
   "outputs": [
    {
     "data": {
      "text/plain": [
       "stem-color\n",
       "w                    1196637\n",
       "n                    1003464\n",
       "y                     373971\n",
       "g                     132019\n",
       "o                     111541\n",
       "e                     103373\n",
       "u                      67017\n",
       "p                      54690\n",
       "k                      33676\n",
       "r                      22329\n",
       "l                       9994\n",
       "b                       7365\n",
       "f                        573\n",
       "s                         51\n",
       "t                         40\n",
       "a                         36\n",
       "x                         20\n",
       "i                         19\n",
       "d                         16\n",
       "h                         12\n",
       "m                         11\n",
       "c                          7\n",
       "z                          6\n",
       "ring-type                  3\n",
       "class                      2\n",
       "spore-print-color          2\n",
       "is n                       1\n",
       "6.31                       1\n",
       "12.92                      1\n",
       "3.98                       1\n",
       "20.07                      1\n",
       "7.7                        1\n",
       "22.6                       1\n",
       "6.09                       1\n",
       "17.45                      1\n",
       "3.56                       1\n",
       "3.37                       1\n",
       "4.62                       1\n",
       "2.54                       1\n",
       "39.51                      1\n",
       "18.06                      1\n",
       "3.53                       1\n",
       "4.49                       1\n",
       "1.41                       1\n",
       "e n                        1\n",
       "8.49                       1\n",
       "2.75                       1\n",
       "7.84                       1\n",
       "4.75                       1\n",
       "26.4                       1\n",
       "is w                       1\n",
       "8.32                       1\n",
       "23.59                      1\n",
       "2.78                       1\n",
       "3.13                       1\n",
       "33.52                      1\n",
       "7.33                       1\n",
       "1.75                       1\n",
       "4.33                       1\n",
       "Name: count, dtype: int64"
      ]
     },
     "execution_count": 22,
     "metadata": {},
     "output_type": "execute_result"
    }
   ],
   "source": [
    "df[\"stem-color\"].value_counts()"
   ]
  },
  {
   "cell_type": "code",
   "execution_count": 23,
   "id": "42522ccb-9933-4c13-bee2-284423bdcd38",
   "metadata": {},
   "outputs": [],
   "source": [
    "df[\"stem-color\"]=df[\"stem-color\"].fillna(\"w\")"
   ]
  },
  {
   "cell_type": "code",
   "execution_count": 24,
   "id": "74dbd462-9f70-44fa-a39d-4fb1db259972",
   "metadata": {
    "scrolled": true
   },
   "outputs": [
    {
     "data": {
      "text/plain": [
       "has-ring\n",
       "f             2368820\n",
       "t              747982\n",
       "r                  16\n",
       "h                  13\n",
       "c                  11\n",
       "l                  11\n",
       "s                  11\n",
       "p                  11\n",
       "g                   8\n",
       "z                   6\n",
       "e                   6\n",
       "x                   5\n",
       "m                   4\n",
       "y                   3\n",
       "d                   3\n",
       "k                   2\n",
       "o                   2\n",
       "n                   2\n",
       "f has-ring          1\n",
       "i                   1\n",
       "10.3                1\n",
       "w                   1\n",
       "a                   1\n",
       "Name: count, dtype: int64"
      ]
     },
     "execution_count": 24,
     "metadata": {},
     "output_type": "execute_result"
    }
   ],
   "source": [
    "df[\"has-ring\"].value_counts()"
   ]
  },
  {
   "cell_type": "code",
   "execution_count": 25,
   "id": "88fd36bc-ff1f-489c-89d7-6da9c10c26d9",
   "metadata": {},
   "outputs": [],
   "source": [
    "df[\"has-ring\"]=df[\"has-ring\"].fillna(\"f\")"
   ]
  },
  {
   "cell_type": "code",
   "execution_count": 26,
   "id": "1bdbec38-f296-48aa-98b7-61c907db0645",
   "metadata": {
    "scrolled": true
   },
   "outputs": [
    {
     "data": {
      "text/plain": [
       "habitat\n",
       "d                       2177573\n",
       "g                        454908\n",
       "l                        171892\n",
       "m                        150969\n",
       "h                        120137\n",
       "w                         18530\n",
       "p                         17180\n",
       "u                          5264\n",
       "e                            55\n",
       "s                            52\n",
       "n                            41\n",
       "t                            40\n",
       "r                            38\n",
       "y                            34\n",
       "a                            34\n",
       "k                            31\n",
       "c                            26\n",
       "b                            18\n",
       "o                            12\n",
       "f                            11\n",
       "i                             7\n",
       "x                             5\n",
       "z                             5\n",
       "habitat                       5\n",
       "class                         3\n",
       "spore-print-color             3\n",
       "ring-type                     2\n",
       "18.35                         1\n",
       "3.68                          1\n",
       "2.44                          1\n",
       "1.66                          1\n",
       "17.38                         1\n",
       "veil-type                     1\n",
       "6.75                          1\n",
       "cap-diameter                  1\n",
       "7.37                          1\n",
       "16.46                         1\n",
       "3.11                          1\n",
       "6.63                          1\n",
       "is w                          1\n",
       "5.62                          1\n",
       "7.31                          1\n",
       "10.07                         1\n",
       "5.56                          1\n",
       "is h                          1\n",
       "4                             1\n",
       "2.94                          1\n",
       "does-bruise-or-bleed          1\n",
       "9.28                          1\n",
       "17.1                          1\n",
       "8.09                          1\n",
       "2.25                          1\n",
       "Name: count, dtype: int64"
      ]
     },
     "execution_count": 26,
     "metadata": {},
     "output_type": "execute_result"
    }
   ],
   "source": [
    "df[\"habitat\"].value_counts()"
   ]
  },
  {
   "cell_type": "code",
   "execution_count": 27,
   "id": "2c12cdf6-6aa5-407b-8ef4-89f675baa1e7",
   "metadata": {},
   "outputs": [],
   "source": [
    "df[\"habitat\"]=df[\"habitat\"].fillna(\"d\")"
   ]
  },
  {
   "cell_type": "code",
   "execution_count": 28,
   "id": "178d4bb6-bafc-4aa9-8b7b-5d6dd29a9c7e",
   "metadata": {},
   "outputs": [],
   "source": [
    "d={\"p\":1, \"e\":0}"
   ]
  },
  {
   "cell_type": "code",
   "execution_count": 29,
   "id": "c4d4acae-54f2-4975-af7e-6f752a0e67b6",
   "metadata": {},
   "outputs": [],
   "source": [
    "df[\"class\"]=df[\"class\"].map(d)"
   ]
  },
  {
   "cell_type": "code",
   "execution_count": 30,
   "id": "1062bcaa-ae39-46ee-844a-479ebdcd1a3d",
   "metadata": {},
   "outputs": [
    {
     "data": {
      "text/html": [
       "<div>\n",
       "<style scoped>\n",
       "    .dataframe tbody tr th:only-of-type {\n",
       "        vertical-align: middle;\n",
       "    }\n",
       "\n",
       "    .dataframe tbody tr th {\n",
       "        vertical-align: top;\n",
       "    }\n",
       "\n",
       "    .dataframe thead th {\n",
       "        text-align: right;\n",
       "    }\n",
       "</style>\n",
       "<table border=\"1\" class=\"dataframe\">\n",
       "  <thead>\n",
       "    <tr style=\"text-align: right;\">\n",
       "      <th></th>\n",
       "      <th>id</th>\n",
       "      <th>class</th>\n",
       "      <th>cap-diameter</th>\n",
       "      <th>cap-shape</th>\n",
       "      <th>cap-color</th>\n",
       "      <th>does-bruise-or-bleed</th>\n",
       "      <th>gill-color</th>\n",
       "      <th>stem-height</th>\n",
       "      <th>stem-width</th>\n",
       "      <th>stem-color</th>\n",
       "      <th>has-ring</th>\n",
       "      <th>habitat</th>\n",
       "      <th>season</th>\n",
       "    </tr>\n",
       "  </thead>\n",
       "  <tbody>\n",
       "    <tr>\n",
       "      <th>0</th>\n",
       "      <td>0</td>\n",
       "      <td>0</td>\n",
       "      <td>8.80</td>\n",
       "      <td>f</td>\n",
       "      <td>u</td>\n",
       "      <td>f</td>\n",
       "      <td>w</td>\n",
       "      <td>4.51</td>\n",
       "      <td>15.39</td>\n",
       "      <td>w</td>\n",
       "      <td>f</td>\n",
       "      <td>d</td>\n",
       "      <td>a</td>\n",
       "    </tr>\n",
       "    <tr>\n",
       "      <th>1</th>\n",
       "      <td>1</td>\n",
       "      <td>1</td>\n",
       "      <td>4.51</td>\n",
       "      <td>x</td>\n",
       "      <td>o</td>\n",
       "      <td>f</td>\n",
       "      <td>n</td>\n",
       "      <td>4.79</td>\n",
       "      <td>6.48</td>\n",
       "      <td>o</td>\n",
       "      <td>t</td>\n",
       "      <td>d</td>\n",
       "      <td>w</td>\n",
       "    </tr>\n",
       "    <tr>\n",
       "      <th>2</th>\n",
       "      <td>2</td>\n",
       "      <td>0</td>\n",
       "      <td>6.94</td>\n",
       "      <td>f</td>\n",
       "      <td>b</td>\n",
       "      <td>f</td>\n",
       "      <td>w</td>\n",
       "      <td>6.85</td>\n",
       "      <td>9.93</td>\n",
       "      <td>n</td>\n",
       "      <td>f</td>\n",
       "      <td>l</td>\n",
       "      <td>w</td>\n",
       "    </tr>\n",
       "    <tr>\n",
       "      <th>3</th>\n",
       "      <td>3</td>\n",
       "      <td>0</td>\n",
       "      <td>3.88</td>\n",
       "      <td>f</td>\n",
       "      <td>g</td>\n",
       "      <td>f</td>\n",
       "      <td>g</td>\n",
       "      <td>4.16</td>\n",
       "      <td>6.53</td>\n",
       "      <td>w</td>\n",
       "      <td>f</td>\n",
       "      <td>d</td>\n",
       "      <td>u</td>\n",
       "    </tr>\n",
       "    <tr>\n",
       "      <th>4</th>\n",
       "      <td>4</td>\n",
       "      <td>0</td>\n",
       "      <td>5.85</td>\n",
       "      <td>x</td>\n",
       "      <td>w</td>\n",
       "      <td>f</td>\n",
       "      <td>w</td>\n",
       "      <td>3.37</td>\n",
       "      <td>8.36</td>\n",
       "      <td>w</td>\n",
       "      <td>f</td>\n",
       "      <td>g</td>\n",
       "      <td>a</td>\n",
       "    </tr>\n",
       "  </tbody>\n",
       "</table>\n",
       "</div>"
      ],
      "text/plain": [
       "   id  class  cap-diameter cap-shape cap-color does-bruise-or-bleed  \\\n",
       "0   0      0          8.80         f         u                    f   \n",
       "1   1      1          4.51         x         o                    f   \n",
       "2   2      0          6.94         f         b                    f   \n",
       "3   3      0          3.88         f         g                    f   \n",
       "4   4      0          5.85         x         w                    f   \n",
       "\n",
       "  gill-color  stem-height  stem-width stem-color has-ring habitat season  \n",
       "0          w         4.51       15.39          w        f       d      a  \n",
       "1          n         4.79        6.48          o        t       d      w  \n",
       "2          w         6.85        9.93          n        f       l      w  \n",
       "3          g         4.16        6.53          w        f       d      u  \n",
       "4          w         3.37        8.36          w        f       g      a  "
      ]
     },
     "execution_count": 30,
     "metadata": {},
     "output_type": "execute_result"
    }
   ],
   "source": [
    "df.head()"
   ]
  },
  {
   "cell_type": "code",
   "execution_count": 31,
   "id": "ca640fc5-8bcb-4b6c-9a47-df49a41d43ff",
   "metadata": {},
   "outputs": [
    {
     "data": {
      "image/png": "[encoded data removed]",
      "text/plain": [
       "<Figure size 1000x700 with 2 Axes>"
      ]
     },
     "metadata": {},
     "output_type": "display_data"
    }
   ],
   "source": [
    "plt.figure(figsize=(10,7))\n",
    "sns.heatmap(df.corr(numeric_only=True),annot=True, cmap=\"crest\");"
   ]
  },
  {
   "cell_type": "code",
   "execution_count": 32,
   "id": "1a75127e-0155-4823-8bad-89981fa9eb54",
   "metadata": {},
   "outputs": [],
   "source": [
    "# Veri cok buyuk oldugu icin biraz kucultuyorum"
   ]
  },
  {
   "cell_type": "code",
   "execution_count": 33,
   "id": "85db90de-690a-4b17-942d-02337fabada8",
   "metadata": {},
   "outputs": [
    {
     "data": {
      "text/plain": [
       "(3116945, 13)"
      ]
     },
     "execution_count": 33,
     "metadata": {},
     "output_type": "execute_result"
    }
   ],
   "source": [
    "df.shape"
   ]
  },
  {
   "cell_type": "code",
   "execution_count": 34,
   "id": "2b6bd6aa-988b-452b-b3ff-fa71f26972e2",
   "metadata": {},
   "outputs": [],
   "source": [
    "df=df.sample(500000)"
   ]
  },
  {
   "cell_type": "code",
   "execution_count": 35,
   "id": "fcfd6a30-9e4b-4bf8-9171-17989f64b9a0",
   "metadata": {},
   "outputs": [],
   "source": [
    "from sklearn.preprocessing import LabelEncoder"
   ]
  },
  {
   "cell_type": "code",
   "execution_count": 36,
   "id": "d07cff04-ce84-47da-8489-1552ea2ddec9",
   "metadata": {},
   "outputs": [],
   "source": [
    "le=LabelEncoder()"
   ]
  },
  {
   "cell_type": "code",
   "execution_count": 37,
   "id": "15248979-50ce-4934-b7f0-654c5bdfce7d",
   "metadata": {},
   "outputs": [],
   "source": [
    "df[\"cap-color\"]= le.fit_transform(df[\"cap-color\"])"
   ]
  },
  {
   "cell_type": "code",
   "execution_count": 38,
   "id": "f26879c0-bca9-45cb-b603-c6f01d37bea7",
   "metadata": {},
   "outputs": [],
   "source": [
    "df[\"cap-shape\"]= le.fit_transform(df[\"cap-shape\"])"
   ]
  },
  {
   "cell_type": "code",
   "execution_count": 39,
   "id": "ca377eb5-58ff-4ccf-bbf4-5537749b74ca",
   "metadata": {},
   "outputs": [],
   "source": [
    "df[\"does-bruise-or-bleed\"]= le.fit_transform(df[\"does-bruise-or-bleed\"])"
   ]
  },
  {
   "cell_type": "code",
   "execution_count": 40,
   "id": "dc9725c2-9083-4aa1-94a2-e89b4f19f56a",
   "metadata": {},
   "outputs": [],
   "source": [
    "df[\"gill-color\"]= le.fit_transform(df[\"gill-color\"])"
   ]
  },
  {
   "cell_type": "code",
   "execution_count": 41,
   "id": "da8a6667-cbd2-4592-8f79-432104a8a247",
   "metadata": {},
   "outputs": [],
   "source": [
    "df[\"stem-color\"]= le.fit_transform(df[\"stem-color\"])"
   ]
  },
  {
   "cell_type": "code",
   "execution_count": 42,
   "id": "a0f76e62-8f54-4dfa-b6f4-741fab7a1b97",
   "metadata": {},
   "outputs": [],
   "source": [
    "df[\"has-ring\"]= le.fit_transform(df[\"has-ring\"])"
   ]
  },
  {
   "cell_type": "code",
   "execution_count": 43,
   "id": "b766634c-b8c9-430c-9954-db9111321a24",
   "metadata": {},
   "outputs": [],
   "source": [
    "df[\"habitat\"]= le.fit_transform(df[\"habitat\"])"
   ]
  },
  {
   "cell_type": "code",
   "execution_count": 44,
   "id": "29be771b-b27f-41a8-b202-df30fd871396",
   "metadata": {},
   "outputs": [],
   "source": [
    "df[\"season\"]= le.fit_transform(df[\"season\"])"
   ]
  },
  {
   "cell_type": "code",
   "execution_count": 61,
   "id": "c0fa92b1-8633-49c8-b989-0e28eee38eee",
   "metadata": {},
   "outputs": [],
   "source": [
    "x=df.drop([\"id\",\"class\"],axis=1)\n",
    "y=df[\"class\"]"
   ]
  },
  {
   "cell_type": "markdown",
   "id": "0835e845-ee23-4059-a7d9-0ba903e6248f",
   "metadata": {},
   "source": [
    "### Modelling"
   ]
  },
  {
   "cell_type": "code",
   "execution_count": 47,
   "id": "381c08b1-43f4-44e6-adf9-5f23b435525d",
   "metadata": {},
   "outputs": [],
   "source": [
    "import pandas as pd\n",
    "import numpy as np\n",
    "from sklearn.linear_model import LogisticRegression\n",
    "from sklearn.svm import SVC\n",
    "from sklearn.neighbors import KNeighborsClassifier\n",
    "from sklearn.tree import DecisionTreeClassifier\n",
    "from sklearn.ensemble import RandomForestClassifier, GradientBoostingClassifier\n",
    "from xgboost import XGBClassifier\n",
    "from sklearn.neural_network import MLPClassifier\n",
    "from sklearn.model_selection import train_test_split\n",
    "from sklearn.metrics import accuracy_score, precision_score, recall_score, f1_score\n",
    "\n",
    "def algo_test_classification(X, y):\n",
    "    # Bütün sınıflandırma modellerini tanımlıyorum\n",
    "    lr = LogisticRegression()\n",
    "    svc = SVC()\n",
    "    knn = KNeighborsClassifier()\n",
    "    dt = DecisionTreeClassifier()\n",
    "    rf = RandomForestClassifier()\n",
    "    gb = GradientBoostingClassifier()\n",
    "    xgb = XGBClassifier()\n",
    "    mlp = MLPClassifier()\n",
    "\n",
    "    algos = [lr, svc, knn, dt, rf, gb, xgb, mlp]\n",
    "    algo_names = ['Logistic Regression', 'SVC', 'KNN', 'Decision Tree', 'Random Forest', 'Gradient Boosting', 'XGBoost', 'MLP']\n",
    "\n",
    "    X_train, X_test, y_train, y_test = train_test_split(X, y, test_size=0.2, random_state=42)\n",
    "\n",
    "    accuracy = []\n",
    "    precision = []\n",
    "    recall = []\n",
    "    f1 = []\n",
    "\n",
    "    # Sonuç tablosunu oluşturuyorum\n",
    "    result = pd.DataFrame(columns=['Accuracy', 'Precision', 'Recall', 'F1'], index=algo_names)\n",
    "\n",
    "    for algo in algos:\n",
    "        algo.fit(X_train, y_train)\n",
    "        y_pred = algo.predict(X_test)\n",
    "        accuracy.append(accuracy_score(y_test, y_pred))\n",
    "        precision.append(precision_score(y_test, y_pred))\n",
    "        recall.append(recall_score(y_test, y_pred))\n",
    "        f1.append(f1_score(y_test, y_pred))\n",
    "\n",
    "    # Sonuçları result tablosuna ekliyorum\n",
    "    result['Accuracy'] = accuracy\n",
    "    result['Precision'] = precision\n",
    "    result['Recall'] = recall\n",
    "    result['F1'] = f1\n",
    "\n",
    "    # Sonuçları doğruluk oranına göre sıralayıp döndürüyorum\n",
    "    return result.sort_values('Accuracy', ascending=False)"
   ]
  },
  {
   "cell_type": "code",
   "execution_count": 39,
   "id": "501c8953-5f7c-4676-98bb-94082b2048be",
   "metadata": {},
   "outputs": [
    {
     "data": {
      "text/html": [
       "<div>\n",
       "<style scoped>\n",
       "    .dataframe tbody tr th:only-of-type {\n",
       "        vertical-align: middle;\n",
       "    }\n",
       "\n",
       "    .dataframe tbody tr th {\n",
       "        vertical-align: top;\n",
       "    }\n",
       "\n",
       "    .dataframe thead th {\n",
       "        text-align: right;\n",
       "    }\n",
       "</style>\n",
       "<table border=\"1\" class=\"dataframe\">\n",
       "  <thead>\n",
       "    <tr style=\"text-align: right;\">\n",
       "      <th></th>\n",
       "      <th>Accuracy</th>\n",
       "      <th>Precision</th>\n",
       "      <th>Recall</th>\n",
       "      <th>F1</th>\n",
       "    </tr>\n",
       "  </thead>\n",
       "  <tbody>\n",
       "    <tr>\n",
       "      <th>Random Forest</th>\n",
       "      <td>0.97835</td>\n",
       "      <td>0.981263</td>\n",
       "      <td>0.979091</td>\n",
       "      <td>0.980176</td>\n",
       "    </tr>\n",
       "    <tr>\n",
       "      <th>XGBoost</th>\n",
       "      <td>0.97430</td>\n",
       "      <td>0.977735</td>\n",
       "      <td>0.975195</td>\n",
       "      <td>0.976463</td>\n",
       "    </tr>\n",
       "    <tr>\n",
       "      <th>Decision Tree</th>\n",
       "      <td>0.96171</td>\n",
       "      <td>0.965378</td>\n",
       "      <td>0.964548</td>\n",
       "      <td>0.964963</td>\n",
       "    </tr>\n",
       "    <tr>\n",
       "      <th>Gradient Boosting</th>\n",
       "      <td>0.86384</td>\n",
       "      <td>0.875627</td>\n",
       "      <td>0.875242</td>\n",
       "      <td>0.875435</td>\n",
       "    </tr>\n",
       "    <tr>\n",
       "      <th>Logistic Regression</th>\n",
       "      <td>0.61767</td>\n",
       "      <td>0.630208</td>\n",
       "      <td>0.727472</td>\n",
       "      <td>0.675356</td>\n",
       "    </tr>\n",
       "    <tr>\n",
       "      <th>MLP</th>\n",
       "      <td>0.54684</td>\n",
       "      <td>0.546774</td>\n",
       "      <td>0.999689</td>\n",
       "      <td>0.706909</td>\n",
       "    </tr>\n",
       "    <tr>\n",
       "      <th>SVC</th>\n",
       "      <td>0.54666</td>\n",
       "      <td>0.546660</td>\n",
       "      <td>1.000000</td>\n",
       "      <td>0.706891</td>\n",
       "    </tr>\n",
       "    <tr>\n",
       "      <th>KNN</th>\n",
       "      <td>0.51457</td>\n",
       "      <td>0.552767</td>\n",
       "      <td>0.586672</td>\n",
       "      <td>0.569215</td>\n",
       "    </tr>\n",
       "  </tbody>\n",
       "</table>\n",
       "</div>"
      ],
      "text/plain": [
       "                     Accuracy  Precision    Recall        F1\n",
       "Random Forest         0.97835   0.981263  0.979091  0.980176\n",
       "XGBoost               0.97430   0.977735  0.975195  0.976463\n",
       "Decision Tree         0.96171   0.965378  0.964548  0.964963\n",
       "Gradient Boosting     0.86384   0.875627  0.875242  0.875435\n",
       "Logistic Regression   0.61767   0.630208  0.727472  0.675356\n",
       "MLP                   0.54684   0.546774  0.999689  0.706909\n",
       "SVC                   0.54666   0.546660  1.000000  0.706891\n",
       "KNN                   0.51457   0.552767  0.586672  0.569215"
      ]
     },
     "execution_count": 39,
     "metadata": {},
     "output_type": "execute_result"
    }
   ],
   "source": [
    "algo_test_classification(x,y)"
   ]
  },
  {
   "cell_type": "code",
   "execution_count": 62,
   "id": "6fe25650-4145-447e-bad4-ba6b4e151866",
   "metadata": {},
   "outputs": [],
   "source": [
    "rf = RandomForestClassifier()"
   ]
  },
  {
   "cell_type": "code",
   "execution_count": 63,
   "id": "dc7f3346-2530-4612-a9f6-199c4c2ea2c2",
   "metadata": {},
   "outputs": [],
   "source": [
    "from sklearn.model_selection import train_test_split\n",
    "from sklearn.ensemble import RandomForestClassifier"
   ]
  },
  {
   "cell_type": "code",
   "execution_count": 64,
   "id": "5d95cfb7-3947-43f7-bbc8-1ed418f6a314",
   "metadata": {},
   "outputs": [],
   "source": [
    "from sklearn.metrics import accuracy_score, confusion_matrix, classification_report"
   ]
  },
  {
   "cell_type": "code",
   "execution_count": 65,
   "id": "52f9d80b-9d30-4c1c-8c53-84fe06718236",
   "metadata": {},
   "outputs": [],
   "source": [
    "x_train, x_test, y_train, y_test = train_test_split(x, y, test_size=0.2, random_state=42)"
   ]
  },
  {
   "cell_type": "code",
   "execution_count": 66,
   "id": "ef5cdd6f-0f6d-4595-bf2f-34339fc015e2",
   "metadata": {},
   "outputs": [],
   "source": [
    "mod=rf.fit(x_train,y_train)"
   ]
  },
  {
   "cell_type": "code",
   "execution_count": 67,
   "id": "cc764e6a-6645-4ec4-b6bf-19e3e17e9ffa",
   "metadata": {},
   "outputs": [],
   "source": [
    "thmn=rf.predict(x_test)"
   ]
  },
  {
   "cell_type": "code",
   "execution_count": 68,
   "id": "7d6fd110-2220-4823-9978-2bbd345b7dab",
   "metadata": {},
   "outputs": [
    {
     "data": {
      "text/plain": [
       "0.97836"
      ]
     },
     "execution_count": 68,
     "metadata": {},
     "output_type": "execute_result"
    }
   ],
   "source": [
    "accuracy_score(y_test, thmn)"
   ]
  },
  {
   "cell_type": "code",
   "execution_count": 69,
   "id": "6e6d278f-ce19-4774-8928-8718e8764a7f",
   "metadata": {},
   "outputs": [
    {
     "data": {
      "text/plain": [
       "array([[44236,  1118],\n",
       "       [ 1046, 53600]], dtype=int64)"
      ]
     },
     "execution_count": 69,
     "metadata": {},
     "output_type": "execute_result"
    }
   ],
   "source": [
    "confusion_matrix(thmn,y_test)"
   ]
  },
  {
   "cell_type": "code",
   "execution_count": 70,
   "id": "de4e2a04-1d6b-4806-8274-b45acbf129f2",
   "metadata": {},
   "outputs": [
    {
     "data": {
      "text/plain": [
       "<Axes: >"
      ]
     },
     "execution_count": 70,
     "metadata": {},
     "output_type": "execute_result"
    },
    {
     "data": {
      "image/png": "[encoded data removed]",
      "text/plain": [
       "<Figure size 640x480 with 2 Axes>"
      ]
     },
     "metadata": {},
     "output_type": "display_data"
    }
   ],
   "source": [
    "sns.heatmap(confusion_matrix(thmn,y_test),annot=True)"
   ]
  },
  {
   "cell_type": "code",
   "execution_count": 71,
   "id": "c3b5beb7-db75-49d4-97b3-8e163dc09830",
   "metadata": {},
   "outputs": [
    {
     "name": "stdout",
     "output_type": "stream",
     "text": [
      "              precision    recall  f1-score   support\n",
      "\n",
      "           0       0.98      0.98      0.98     45354\n",
      "           1       0.98      0.98      0.98     54646\n",
      "\n",
      "    accuracy                           0.98    100000\n",
      "   macro avg       0.98      0.98      0.98    100000\n",
      "weighted avg       0.98      0.98      0.98    100000\n",
      "\n"
     ]
    }
   ],
   "source": [
    "print(classification_report(thmn,y_test))"
   ]
  },
  {
   "cell_type": "code",
   "execution_count": 72,
   "id": "ad54741a-be47-46d5-874c-ab184f6e7bc4",
   "metadata": {},
   "outputs": [],
   "source": [
    "import pickle"
   ]
  },
  {
   "cell_type": "code",
   "execution_count": 73,
   "id": "04fba107-c51a-4b8d-b847-80078b2b094a",
   "metadata": {},
   "outputs": [],
   "source": [
    "pickle.dump(mod,open(\"mantar.pkl\",\"wb\")) "
   ]
  },
  {
   "cell_type": "code",
   "execution_count": 348,
   "id": "b15079af-c285-4099-aacb-a9cdd80b54ef",
   "metadata": {},
   "outputs": [],
   "source": [
    "test=pd.read_csv(\"test.csv\")"
   ]
  },
  {
   "cell_type": "code",
   "execution_count": 349,
   "id": "e6160e7e-1fcb-4093-ba54-dd4ec8402f74",
   "metadata": {},
   "outputs": [],
   "source": [
    "test=test.drop([\"spore-print-color\",\"veil-color\",\"veil-type\",\"stem-surface\",\"stem-root\",\"gill-spacing\",\"cap-surface\",\"gill-attachment\",\"ring-type\"],axis=1)"
   ]
  },
  {
   "cell_type": "code",
   "execution_count": 350,
   "id": "8b3a2ece-ee63-41ec-b417-775d6c0acf00",
   "metadata": {},
   "outputs": [],
   "source": [
    "test[\"cap-diameter\"]=test[\"cap-diameter\"].fillna(1.49)"
   ]
  },
  {
   "cell_type": "code",
   "execution_count": 351,
   "id": "59e7103e-4ea1-4ba3-8787-08171e67de9d",
   "metadata": {},
   "outputs": [],
   "source": [
    "test[\"cap-shape\"]=test[\"cap-shape\"].fillna(\"x\")"
   ]
  },
  {
   "cell_type": "code",
   "execution_count": 352,
   "id": "d2178c35-c274-4bc1-9db0-5ba9ac95a67e",
   "metadata": {},
   "outputs": [],
   "source": [
    "test[\"does-bruise-or-bleed\"]=test[\"does-bruise-or-bleed\"].fillna(\"f\")"
   ]
  },
  {
   "cell_type": "code",
   "execution_count": 353,
   "id": "f5681e2f-231f-4e6e-b606-718c750c1d66",
   "metadata": {},
   "outputs": [],
   "source": [
    "test[\"cap-color\"]=test[\"cap-color\"].fillna(\"n\")"
   ]
  },
  {
   "cell_type": "code",
   "execution_count": 354,
   "id": "163e0139-3956-4c54-bdbe-ceea1795a1e0",
   "metadata": {},
   "outputs": [],
   "source": [
    "test[\"gill-color\"]=test[\"gill-color\"].fillna(\"w\")"
   ]
  },
  {
   "cell_type": "code",
   "execution_count": 355,
   "id": "2afb9be2-f88e-4404-b949-14e44a2db2c7",
   "metadata": {},
   "outputs": [],
   "source": [
    "test[\"stem-color\"]=test[\"stem-color\"].fillna(\"w\")"
   ]
  },
  {
   "cell_type": "code",
   "execution_count": 356,
   "id": "6c11d8e4-ed6b-4b61-b0fd-97adce69ac89",
   "metadata": {},
   "outputs": [],
   "source": [
    "test[\"has-ring\"]=test[\"has-ring\"].fillna(\"f\")"
   ]
  },
  {
   "cell_type": "code",
   "execution_count": 357,
   "id": "6d380ccf-9211-44c9-8268-05a25dc4ccad",
   "metadata": {},
   "outputs": [],
   "source": [
    "test[\"habitat\"]=test[\"habitat\"].fillna(\"d\")"
   ]
  },
  {
   "cell_type": "code",
   "execution_count": 358,
   "id": "891c3918-4c2e-49c4-8035-70f0316a8ebe",
   "metadata": {},
   "outputs": [],
   "source": [
    "test[\"cap-color\"]= le.fit_transform(test[\"cap-color\"])"
   ]
  },
  {
   "cell_type": "code",
   "execution_count": 359,
   "id": "55b58531-b6bc-4c53-8b6b-8de72b124d24",
   "metadata": {},
   "outputs": [],
   "source": [
    "test[\"cap-shape\"]= le.fit_transform(test[\"cap-shape\"])"
   ]
  },
  {
   "cell_type": "code",
   "execution_count": 360,
   "id": "678366de-8a63-4c20-a17d-aec890384272",
   "metadata": {},
   "outputs": [],
   "source": [
    "test[\"does-bruise-or-bleed\"]= le.fit_transform(test[\"does-bruise-or-bleed\"])"
   ]
  },
  {
   "cell_type": "code",
   "execution_count": 361,
   "id": "2d742794-5a9d-460e-b059-d3a877b5937f",
   "metadata": {},
   "outputs": [],
   "source": [
    "test[\"gill-color\"]= le.fit_transform(test[\"gill-color\"])"
   ]
  },
  {
   "cell_type": "code",
   "execution_count": 362,
   "id": "3515e166-4d4d-422b-97fa-f067a621b790",
   "metadata": {},
   "outputs": [],
   "source": [
    "test[\"stem-color\"]= le.fit_transform(test[\"stem-color\"])"
   ]
  },
  {
   "cell_type": "code",
   "execution_count": 363,
   "id": "7a291f45-35de-433e-b40c-7aa594c608d7",
   "metadata": {},
   "outputs": [],
   "source": [
    "test[\"has-ring\"]= le.fit_transform(test[\"has-ring\"])"
   ]
  },
  {
   "cell_type": "code",
   "execution_count": 364,
   "id": "d0d6e35f-1265-4b0a-b3c8-212b31896e18",
   "metadata": {},
   "outputs": [],
   "source": [
    "test[\"habitat\"]= le.fit_transform(test[\"habitat\"])"
   ]
  },
  {
   "cell_type": "code",
   "execution_count": 365,
   "id": "333f5a6a-f74e-42a0-a109-f0acf824944b",
   "metadata": {},
   "outputs": [],
   "source": [
    "test[\"season\"]= le.fit_transform(test[\"season\"])"
   ]
  },
  {
   "cell_type": "code",
   "execution_count": 366,
   "id": "973af452-494c-4c6f-96cc-a369f2ceb41e",
   "metadata": {},
   "outputs": [
    {
     "data": {
      "text/html": [
       "<div>\n",
       "<style scoped>\n",
       "    .dataframe tbody tr th:only-of-type {\n",
       "        vertical-align: middle;\n",
       "    }\n",
       "\n",
       "    .dataframe tbody tr th {\n",
       "        vertical-align: top;\n",
       "    }\n",
       "\n",
       "    .dataframe thead th {\n",
       "        text-align: right;\n",
       "    }\n",
       "</style>\n",
       "<table border=\"1\" class=\"dataframe\">\n",
       "  <thead>\n",
       "    <tr style=\"text-align: right;\">\n",
       "      <th></th>\n",
       "      <th>id</th>\n",
       "      <th>cap-diameter</th>\n",
       "      <th>cap-shape</th>\n",
       "      <th>cap-color</th>\n",
       "      <th>does-bruise-or-bleed</th>\n",
       "      <th>gill-color</th>\n",
       "      <th>stem-height</th>\n",
       "      <th>stem-width</th>\n",
       "      <th>stem-color</th>\n",
       "      <th>has-ring</th>\n",
       "      <th>habitat</th>\n",
       "      <th>season</th>\n",
       "    </tr>\n",
       "  </thead>\n",
       "  <tbody>\n",
       "    <tr>\n",
       "      <th>0</th>\n",
       "      <td>3116945</td>\n",
       "      <td>8.64</td>\n",
       "      <td>59</td>\n",
       "      <td>44</td>\n",
       "      <td>18</td>\n",
       "      <td>52</td>\n",
       "      <td>11.13</td>\n",
       "      <td>17.12</td>\n",
       "      <td>51</td>\n",
       "      <td>17</td>\n",
       "      <td>16</td>\n",
       "      <td>0</td>\n",
       "    </tr>\n",
       "    <tr>\n",
       "      <th>1</th>\n",
       "      <td>3116946</td>\n",
       "      <td>6.90</td>\n",
       "      <td>50</td>\n",
       "      <td>45</td>\n",
       "      <td>5</td>\n",
       "      <td>54</td>\n",
       "      <td>1.27</td>\n",
       "      <td>10.75</td>\n",
       "      <td>38</td>\n",
       "      <td>6</td>\n",
       "      <td>16</td>\n",
       "      <td>0</td>\n",
       "    </tr>\n",
       "    <tr>\n",
       "      <th>2</th>\n",
       "      <td>3116947</td>\n",
       "      <td>2.00</td>\n",
       "      <td>36</td>\n",
       "      <td>44</td>\n",
       "      <td>5</td>\n",
       "      <td>41</td>\n",
       "      <td>6.18</td>\n",
       "      <td>3.14</td>\n",
       "      <td>38</td>\n",
       "      <td>6</td>\n",
       "      <td>16</td>\n",
       "      <td>1</td>\n",
       "    </tr>\n",
       "    <tr>\n",
       "      <th>3</th>\n",
       "      <td>3116948</td>\n",
       "      <td>3.47</td>\n",
       "      <td>59</td>\n",
       "      <td>44</td>\n",
       "      <td>5</td>\n",
       "      <td>41</td>\n",
       "      <td>4.98</td>\n",
       "      <td>8.51</td>\n",
       "      <td>51</td>\n",
       "      <td>17</td>\n",
       "      <td>16</td>\n",
       "      <td>2</td>\n",
       "    </tr>\n",
       "    <tr>\n",
       "      <th>4</th>\n",
       "      <td>3116949</td>\n",
       "      <td>6.17</td>\n",
       "      <td>59</td>\n",
       "      <td>55</td>\n",
       "      <td>5</td>\n",
       "      <td>54</td>\n",
       "      <td>6.73</td>\n",
       "      <td>13.70</td>\n",
       "      <td>53</td>\n",
       "      <td>17</td>\n",
       "      <td>16</td>\n",
       "      <td>2</td>\n",
       "    </tr>\n",
       "    <tr>\n",
       "      <th>...</th>\n",
       "      <td>...</td>\n",
       "      <td>...</td>\n",
       "      <td>...</td>\n",
       "      <td>...</td>\n",
       "      <td>...</td>\n",
       "      <td>...</td>\n",
       "      <td>...</td>\n",
       "      <td>...</td>\n",
       "      <td>...</td>\n",
       "      <td>...</td>\n",
       "      <td>...</td>\n",
       "      <td>...</td>\n",
       "    </tr>\n",
       "    <tr>\n",
       "      <th>2077959</th>\n",
       "      <td>5194904</td>\n",
       "      <td>0.88</td>\n",
       "      <td>59</td>\n",
       "      <td>53</td>\n",
       "      <td>5</td>\n",
       "      <td>52</td>\n",
       "      <td>2.67</td>\n",
       "      <td>1.35</td>\n",
       "      <td>29</td>\n",
       "      <td>6</td>\n",
       "      <td>16</td>\n",
       "      <td>2</td>\n",
       "    </tr>\n",
       "    <tr>\n",
       "      <th>2077960</th>\n",
       "      <td>5194905</td>\n",
       "      <td>3.12</td>\n",
       "      <td>59</td>\n",
       "      <td>53</td>\n",
       "      <td>5</td>\n",
       "      <td>52</td>\n",
       "      <td>2.69</td>\n",
       "      <td>7.38</td>\n",
       "      <td>51</td>\n",
       "      <td>6</td>\n",
       "      <td>19</td>\n",
       "      <td>0</td>\n",
       "    </tr>\n",
       "    <tr>\n",
       "      <th>2077961</th>\n",
       "      <td>5194906</td>\n",
       "      <td>5.73</td>\n",
       "      <td>59</td>\n",
       "      <td>34</td>\n",
       "      <td>5</td>\n",
       "      <td>52</td>\n",
       "      <td>6.16</td>\n",
       "      <td>9.74</td>\n",
       "      <td>53</td>\n",
       "      <td>17</td>\n",
       "      <td>16</td>\n",
       "      <td>0</td>\n",
       "    </tr>\n",
       "    <tr>\n",
       "      <th>2077962</th>\n",
       "      <td>5194907</td>\n",
       "      <td>5.03</td>\n",
       "      <td>36</td>\n",
       "      <td>44</td>\n",
       "      <td>5</td>\n",
       "      <td>31</td>\n",
       "      <td>6.00</td>\n",
       "      <td>3.46</td>\n",
       "      <td>31</td>\n",
       "      <td>6</td>\n",
       "      <td>16</td>\n",
       "      <td>0</td>\n",
       "    </tr>\n",
       "    <tr>\n",
       "      <th>2077963</th>\n",
       "      <td>5194908</td>\n",
       "      <td>15.51</td>\n",
       "      <td>41</td>\n",
       "      <td>53</td>\n",
       "      <td>5</td>\n",
       "      <td>54</td>\n",
       "      <td>2.69</td>\n",
       "      <td>17.71</td>\n",
       "      <td>51</td>\n",
       "      <td>6</td>\n",
       "      <td>16</td>\n",
       "      <td>3</td>\n",
       "    </tr>\n",
       "  </tbody>\n",
       "</table>\n",
       "<p>2077964 rows × 12 columns</p>\n",
       "</div>"
      ],
      "text/plain": [
       "              id  cap-diameter  cap-shape  cap-color  does-bruise-or-bleed  \\\n",
       "0        3116945          8.64         59         44                    18   \n",
       "1        3116946          6.90         50         45                     5   \n",
       "2        3116947          2.00         36         44                     5   \n",
       "3        3116948          3.47         59         44                     5   \n",
       "4        3116949          6.17         59         55                     5   \n",
       "...          ...           ...        ...        ...                   ...   \n",
       "2077959  5194904          0.88         59         53                     5   \n",
       "2077960  5194905          3.12         59         53                     5   \n",
       "2077961  5194906          5.73         59         34                     5   \n",
       "2077962  5194907          5.03         36         44                     5   \n",
       "2077963  5194908         15.51         41         53                     5   \n",
       "\n",
       "         gill-color  stem-height  stem-width  stem-color  has-ring  habitat  \\\n",
       "0                52        11.13       17.12          51        17       16   \n",
       "1                54         1.27       10.75          38         6       16   \n",
       "2                41         6.18        3.14          38         6       16   \n",
       "3                41         4.98        8.51          51        17       16   \n",
       "4                54         6.73       13.70          53        17       16   \n",
       "...             ...          ...         ...         ...       ...      ...   \n",
       "2077959          52         2.67        1.35          29         6       16   \n",
       "2077960          52         2.69        7.38          51         6       19   \n",
       "2077961          52         6.16        9.74          53        17       16   \n",
       "2077962          31         6.00        3.46          31         6       16   \n",
       "2077963          54         2.69       17.71          51         6       16   \n",
       "\n",
       "         season  \n",
       "0             0  \n",
       "1             0  \n",
       "2             1  \n",
       "3             2  \n",
       "4             2  \n",
       "...         ...  \n",
       "2077959       2  \n",
       "2077960       0  \n",
       "2077961       0  \n",
       "2077962       0  \n",
       "2077963       3  \n",
       "\n",
       "[2077964 rows x 12 columns]"
      ]
     },
     "execution_count": 366,
     "metadata": {},
     "output_type": "execute_result"
    }
   ],
   "source": [
    "test"
   ]
  },
  {
   "cell_type": "code",
   "execution_count": 373,
   "id": "8a829370-6ad0-46fc-9642-93fee8ddc279",
   "metadata": {},
   "outputs": [],
   "source": [
    "dosya=pd.DataFrame()"
   ]
  },
  {
   "cell_type": "code",
   "execution_count": 374,
   "id": "c2aa6839-ac63-42f5-b7ed-eb25f4db4276",
   "metadata": {},
   "outputs": [],
   "source": [
    "dosya[\"id\"]=test[\"id\"]"
   ]
  },
  {
   "cell_type": "code",
   "execution_count": 379,
   "id": "8c2d74e0-306c-47e7-8927-38759cddd273",
   "metadata": {},
   "outputs": [
    {
     "data": {
      "text/html": [
       "<div>\n",
       "<style scoped>\n",
       "    .dataframe tbody tr th:only-of-type {\n",
       "        vertical-align: middle;\n",
       "    }\n",
       "\n",
       "    .dataframe tbody tr th {\n",
       "        vertical-align: top;\n",
       "    }\n",
       "\n",
       "    .dataframe thead th {\n",
       "        text-align: right;\n",
       "    }\n",
       "</style>\n",
       "<table border=\"1\" class=\"dataframe\">\n",
       "  <thead>\n",
       "    <tr style=\"text-align: right;\">\n",
       "      <th></th>\n",
       "      <th>id</th>\n",
       "      <th>class</th>\n",
       "    </tr>\n",
       "  </thead>\n",
       "  <tbody>\n",
       "    <tr>\n",
       "      <th>0</th>\n",
       "      <td>3116945</td>\n",
       "      <td>1</td>\n",
       "    </tr>\n",
       "    <tr>\n",
       "      <th>1</th>\n",
       "      <td>3116946</td>\n",
       "      <td>1</td>\n",
       "    </tr>\n",
       "    <tr>\n",
       "      <th>2</th>\n",
       "      <td>3116947</td>\n",
       "      <td>1</td>\n",
       "    </tr>\n",
       "    <tr>\n",
       "      <th>3</th>\n",
       "      <td>3116948</td>\n",
       "      <td>1</td>\n",
       "    </tr>\n",
       "    <tr>\n",
       "      <th>4</th>\n",
       "      <td>3116949</td>\n",
       "      <td>0</td>\n",
       "    </tr>\n",
       "    <tr>\n",
       "      <th>...</th>\n",
       "      <td>...</td>\n",
       "      <td>...</td>\n",
       "    </tr>\n",
       "    <tr>\n",
       "      <th>2077959</th>\n",
       "      <td>5194904</td>\n",
       "      <td>1</td>\n",
       "    </tr>\n",
       "    <tr>\n",
       "      <th>2077960</th>\n",
       "      <td>5194905</td>\n",
       "      <td>1</td>\n",
       "    </tr>\n",
       "    <tr>\n",
       "      <th>2077961</th>\n",
       "      <td>5194906</td>\n",
       "      <td>1</td>\n",
       "    </tr>\n",
       "    <tr>\n",
       "      <th>2077962</th>\n",
       "      <td>5194907</td>\n",
       "      <td>1</td>\n",
       "    </tr>\n",
       "    <tr>\n",
       "      <th>2077963</th>\n",
       "      <td>5194908</td>\n",
       "      <td>1</td>\n",
       "    </tr>\n",
       "  </tbody>\n",
       "</table>\n",
       "<p>2077964 rows × 2 columns</p>\n",
       "</div>"
      ],
      "text/plain": [
       "              id  class\n",
       "0        3116945      1\n",
       "1        3116946      1\n",
       "2        3116947      1\n",
       "3        3116948      1\n",
       "4        3116949      0\n",
       "...          ...    ...\n",
       "2077959  5194904      1\n",
       "2077960  5194905      1\n",
       "2077961  5194906      1\n",
       "2077962  5194907      1\n",
       "2077963  5194908      1\n",
       "\n",
       "[2077964 rows x 2 columns]"
      ]
     },
     "execution_count": 379,
     "metadata": {},
     "output_type": "execute_result"
    }
   ],
   "source": [
    "dosya"
   ]
  },
  {
   "cell_type": "code",
   "execution_count": 376,
   "id": "44ed748b-da30-4f4a-b874-df593263f704",
   "metadata": {},
   "outputs": [],
   "source": [
    "dosya[\"class\"]=rf.predict(test)"
   ]
  },
  {
   "cell_type": "code",
   "execution_count": 380,
   "id": "7e3d0bbc-bb34-463b-a8f3-01bc7448cfed",
   "metadata": {},
   "outputs": [],
   "source": [
    "dt={1:\"p\", 0:\"e\"}"
   ]
  },
  {
   "cell_type": "code",
   "execution_count": 381,
   "id": "b398d977-80ee-4931-9c30-77ef734903f4",
   "metadata": {},
   "outputs": [],
   "source": [
    "dosya[\"class\"]=dosya[\"class\"].map(dt)"
   ]
  },
  {
   "cell_type": "code",
   "execution_count": 383,
   "id": "3bff9780-dd5e-4175-bdaf-8abadf76f02f",
   "metadata": {},
   "outputs": [],
   "source": [
    "dosya.to_csv(\"tahmin.csv\",index=False)"
   ]
  },
  {
   "cell_type": "markdown",
   "id": "959ea7f5-8226-43cb-8707-583c705febc8",
   "metadata": {},
   "source": [
    "#### Derin Ogrenme"
   ]
  },
  {
   "cell_type": "code",
   "execution_count": 63,
   "id": "9a5de5bc-661d-4d7f-8cb5-b24df56546d7",
   "metadata": {},
   "outputs": [],
   "source": [
    "from tensorflow.keras.models import Sequential\n",
    "from tensorflow.keras.layers import Dense"
   ]
  },
  {
   "cell_type": "code",
   "execution_count": 64,
   "id": "8a632679-5c1e-48d5-81d6-6828d4f46239",
   "metadata": {},
   "outputs": [],
   "source": [
    "model=Sequential()\n",
    "model.add(Dense(120,activation=\"relu\"))  # Modele layer ekliyor # Dense bütün nöronlar bütün nöronlara bağlansın demek\n",
    "model.add(Dense(80,activation=\"relu\")) # 120 nöron var \n",
    "model.add(Dense(64,activation=\"relu\"))\n",
    "model.add(Dense(30,activation=\"relu\"))\n",
    "model.add(Dense(20,activation=\"relu\"))\n",
    "model.add(Dense(4,activation=\"relu\"))\n",
    "model.add(Dense(1,activation=\"sigmoid\")) # Binary classification olduğu için sigmoid kullandık ! Regression da yok\n",
    "model.compile(loss=\"binary_crossentropy\", optimizer=\"adam\",metrics=[\"accuracy\"]) # Loss: hata MSE gibi # Optimizer=adam : Gradient Descend -> sonuca \n",
    "                                  "
   ]
  },
  {
   "cell_type": "code",
   "execution_count": 66,
   "id": "3ee1b2fa-12a7-4f57-8a06-0f9278b7dc66",
   "metadata": {},
   "outputs": [],
   "source": [
    "from sklearn.preprocessing import normalize, scale"
   ]
  },
  {
   "cell_type": "code",
   "execution_count": 67,
   "id": "3c97fd68-5fbe-49c7-94af-1b84d2d6dc0d",
   "metadata": {},
   "outputs": [],
   "source": [
    "x=scale(x) # hepsini aynı birime getirdik"
   ]
  },
  {
   "cell_type": "code",
   "execution_count": 69,
   "id": "5f9f7c6e-e2e5-4320-8dfc-3a88a07d0b99",
   "metadata": {
    "scrolled": true
   },
   "outputs": [
    {
     "name": "stdout",
     "output_type": "stream",
     "text": [
      "Epoch 1/75\n",
      "\u001b[1m17392/17392\u001b[0m \u001b[32m━━━━━━━━━━━━━━━━━━━━\u001b[0m\u001b[37m\u001b[0m \u001b[1m15s\u001b[0m 840us/step - accuracy: 0.9815 - loss: 0.0615 - val_accuracy: 0.9771 - val_loss: 0.0802\n",
      "Epoch 2/75\n",
      "\u001b[1m17392/17392\u001b[0m \u001b[32m━━━━━━━━━━━━━━━━━━━━\u001b[0m\u001b[37m\u001b[0m \u001b[1m15s\u001b[0m 838us/step - accuracy: 0.9811 - loss: 0.0623 - val_accuracy: 0.9775 - val_loss: 0.0898\n",
      "Epoch 3/75\n",
      "\u001b[1m17392/17392\u001b[0m \u001b[32m━━━━━━━━━━━━━━━━━━━━\u001b[0m\u001b[37m\u001b[0m \u001b[1m15s\u001b[0m 833us/step - accuracy: 0.9812 - loss: 0.0615 - val_accuracy: 0.9769 - val_loss: 0.0870\n",
      "Epoch 4/75\n",
      "\u001b[1m17392/17392\u001b[0m \u001b[32m━━━━━━━━━━━━━━━━━━━━\u001b[0m\u001b[37m\u001b[0m \u001b[1m14s\u001b[0m 822us/step - accuracy: 0.9814 - loss: 0.0613 - val_accuracy: 0.9776 - val_loss: 0.0796\n",
      "Epoch 5/75\n",
      "\u001b[1m17392/17392\u001b[0m \u001b[32m━━━━━━━━━━━━━━━━━━━━\u001b[0m\u001b[37m\u001b[0m \u001b[1m14s\u001b[0m 822us/step - accuracy: 0.9813 - loss: 0.0610 - val_accuracy: 0.9771 - val_loss: 0.0861\n",
      "Epoch 6/75\n",
      "\u001b[1m17392/17392\u001b[0m \u001b[32m━━━━━━━━━━━━━━━━━━━━\u001b[0m\u001b[37m\u001b[0m \u001b[1m15s\u001b[0m 844us/step - accuracy: 0.9812 - loss: 0.0619 - val_accuracy: 0.9774 - val_loss: 0.1011\n",
      "Epoch 7/75\n",
      "\u001b[1m17392/17392\u001b[0m \u001b[32m━━━━━━━━━━━━━━━━━━━━\u001b[0m\u001b[37m\u001b[0m \u001b[1m15s\u001b[0m 867us/step - accuracy: 0.9812 - loss: 0.0619 - val_accuracy: 0.9771 - val_loss: 0.0902\n",
      "Epoch 8/75\n",
      "\u001b[1m17392/17392\u001b[0m \u001b[32m━━━━━━━━━━━━━━━━━━━━\u001b[0m\u001b[37m\u001b[0m \u001b[1m15s\u001b[0m 835us/step - accuracy: 0.9819 - loss: 0.0603 - val_accuracy: 0.9773 - val_loss: 0.0906\n",
      "Epoch 9/75\n",
      "\u001b[1m17392/17392\u001b[0m \u001b[32m━━━━━━━━━━━━━━━━━━━━\u001b[0m\u001b[37m\u001b[0m \u001b[1m14s\u001b[0m 808us/step - accuracy: 0.9818 - loss: 0.0605 - val_accuracy: 0.9774 - val_loss: 0.0867\n",
      "Epoch 10/75\n",
      "\u001b[1m17392/17392\u001b[0m \u001b[32m━━━━━━━━━━━━━━━━━━━━\u001b[0m\u001b[37m\u001b[0m \u001b[1m14s\u001b[0m 816us/step - accuracy: 0.9816 - loss: 0.0606 - val_accuracy: 0.9766 - val_loss: 0.0921\n",
      "Epoch 11/75\n",
      "\u001b[1m17392/17392\u001b[0m \u001b[32m━━━━━━━━━━━━━━━━━━━━\u001b[0m\u001b[37m\u001b[0m \u001b[1m14s\u001b[0m 819us/step - accuracy: 0.9815 - loss: 0.0631 - val_accuracy: 0.9772 - val_loss: 0.0960\n",
      "Epoch 12/75\n",
      "\u001b[1m17392/17392\u001b[0m \u001b[32m━━━━━━━━━━━━━━━━━━━━\u001b[0m\u001b[37m\u001b[0m \u001b[1m15s\u001b[0m 885us/step - accuracy: 0.9813 - loss: 0.0616 - val_accuracy: 0.9771 - val_loss: 0.0943\n",
      "Epoch 13/75\n",
      "\u001b[1m17392/17392\u001b[0m \u001b[32m━━━━━━━━━━━━━━━━━━━━\u001b[0m\u001b[37m\u001b[0m \u001b[1m14s\u001b[0m 830us/step - accuracy: 0.9821 - loss: 0.0603 - val_accuracy: 0.9774 - val_loss: 0.1060\n",
      "Epoch 14/75\n",
      "\u001b[1m17392/17392\u001b[0m \u001b[32m━━━━━━━━━━━━━━━━━━━━\u001b[0m\u001b[37m\u001b[0m \u001b[1m14s\u001b[0m 827us/step - accuracy: 0.9821 - loss: 0.0599 - val_accuracy: 0.9776 - val_loss: 0.1021\n",
      "Epoch 15/75\n",
      "\u001b[1m17392/17392\u001b[0m \u001b[32m━━━━━━━━━━━━━━━━━━━━\u001b[0m\u001b[37m\u001b[0m \u001b[1m15s\u001b[0m 864us/step - accuracy: 0.9817 - loss: 0.0608 - val_accuracy: 0.9775 - val_loss: 0.1194\n",
      "Epoch 16/75\n",
      "\u001b[1m17392/17392\u001b[0m \u001b[32m━━━━━━━━━━━━━━━━━━━━\u001b[0m\u001b[37m\u001b[0m \u001b[1m16s\u001b[0m 936us/step - accuracy: 0.9817 - loss: 0.0623 - val_accuracy: 0.9771 - val_loss: 0.0986\n",
      "Epoch 17/75\n",
      "\u001b[1m17392/17392\u001b[0m \u001b[32m━━━━━━━━━━━━━━━━━━━━\u001b[0m\u001b[37m\u001b[0m \u001b[1m17s\u001b[0m 963us/step - accuracy: 0.9815 - loss: 0.0608 - val_accuracy: 0.9767 - val_loss: 0.1123\n",
      "Epoch 18/75\n",
      "\u001b[1m17392/17392\u001b[0m \u001b[32m━━━━━━━━━━━━━━━━━━━━\u001b[0m\u001b[37m\u001b[0m \u001b[1m17s\u001b[0m 988us/step - accuracy: 0.9819 - loss: 0.0605 - val_accuracy: 0.9774 - val_loss: 0.1400\n",
      "Epoch 19/75\n",
      "\u001b[1m17392/17392\u001b[0m \u001b[32m━━━━━━━━━━━━━━━━━━━━\u001b[0m\u001b[37m\u001b[0m \u001b[1m15s\u001b[0m 874us/step - accuracy: 0.9818 - loss: 0.0611 - val_accuracy: 0.9772 - val_loss: 0.1404\n",
      "Epoch 20/75\n",
      "\u001b[1m17392/17392\u001b[0m \u001b[32m━━━━━━━━━━━━━━━━━━━━\u001b[0m\u001b[37m\u001b[0m \u001b[1m15s\u001b[0m 878us/step - accuracy: 0.9820 - loss: 0.0617 - val_accuracy: 0.9762 - val_loss: 0.1216\n",
      "Epoch 21/75\n",
      "\u001b[1m17392/17392\u001b[0m \u001b[32m━━━━━━━━━━━━━━━━━━━━\u001b[0m\u001b[37m\u001b[0m \u001b[1m15s\u001b[0m 868us/step - accuracy: 0.9817 - loss: 0.0615 - val_accuracy: 0.9771 - val_loss: 0.1206\n",
      "Epoch 22/75\n",
      "\u001b[1m17392/17392\u001b[0m \u001b[32m━━━━━━━━━━━━━━━━━━━━\u001b[0m\u001b[37m\u001b[0m \u001b[1m15s\u001b[0m 846us/step - accuracy: 0.9820 - loss: 0.0600 - val_accuracy: 0.9768 - val_loss: 0.1439\n",
      "Epoch 23/75\n",
      "\u001b[1m17392/17392\u001b[0m \u001b[32m━━━━━━━━━━━━━━━━━━━━\u001b[0m\u001b[37m\u001b[0m \u001b[1m15s\u001b[0m 847us/step - accuracy: 0.9819 - loss: 0.0598 - val_accuracy: 0.9769 - val_loss: 0.1558\n",
      "Epoch 24/75\n",
      "\u001b[1m17392/17392\u001b[0m \u001b[32m━━━━━━━━━━━━━━━━━━━━\u001b[0m\u001b[37m\u001b[0m \u001b[1m16s\u001b[0m 917us/step - accuracy: 0.9822 - loss: 0.0608 - val_accuracy: 0.9770 - val_loss: 0.1271\n",
      "Epoch 25/75\n",
      "\u001b[1m17392/17392\u001b[0m \u001b[32m━━━━━━━━━━━━━━━━━━━━\u001b[0m\u001b[37m\u001b[0m \u001b[1m15s\u001b[0m 864us/step - accuracy: 0.9819 - loss: 0.0602 - val_accuracy: 0.9759 - val_loss: 0.1275\n",
      "Epoch 26/75\n",
      "\u001b[1m17392/17392\u001b[0m \u001b[32m━━━━━━━━━━━━━━━━━━━━\u001b[0m\u001b[37m\u001b[0m \u001b[1m16s\u001b[0m 941us/step - accuracy: 0.9817 - loss: 0.0607 - val_accuracy: 0.9762 - val_loss: 0.1489\n",
      "Epoch 27/75\n",
      "\u001b[1m17392/17392\u001b[0m \u001b[32m━━━━━━━━━━━━━━━━━━━━\u001b[0m\u001b[37m\u001b[0m \u001b[1m15s\u001b[0m 844us/step - accuracy: 0.9817 - loss: 0.0607 - val_accuracy: 0.9762 - val_loss: 0.1157\n",
      "Epoch 28/75\n",
      "\u001b[1m17392/17392\u001b[0m \u001b[32m━━━━━━━━━━━━━━━━━━━━\u001b[0m\u001b[37m\u001b[0m \u001b[1m14s\u001b[0m 828us/step - accuracy: 0.9816 - loss: 0.0609 - val_accuracy: 0.9766 - val_loss: 0.1535\n",
      "Epoch 29/75\n",
      "\u001b[1m17392/17392\u001b[0m \u001b[32m━━━━━━━━━━━━━━━━━━━━\u001b[0m\u001b[37m\u001b[0m \u001b[1m14s\u001b[0m 817us/step - accuracy: 0.9822 - loss: 0.0601 - val_accuracy: 0.9771 - val_loss: 0.1173\n",
      "Epoch 30/75\n",
      "\u001b[1m17392/17392\u001b[0m \u001b[32m━━━━━━━━━━━━━━━━━━━━\u001b[0m\u001b[37m\u001b[0m \u001b[1m15s\u001b[0m 840us/step - accuracy: 0.9817 - loss: 0.0603 - val_accuracy: 0.9769 - val_loss: 0.1311\n",
      "Epoch 31/75\n",
      "\u001b[1m17392/17392\u001b[0m \u001b[32m━━━━━━━━━━━━━━━━━━━━\u001b[0m\u001b[37m\u001b[0m \u001b[1m15s\u001b[0m 850us/step - accuracy: 0.9822 - loss: 0.0596 - val_accuracy: 0.9768 - val_loss: 0.1331\n",
      "Epoch 32/75\n",
      "\u001b[1m17392/17392\u001b[0m \u001b[32m━━━━━━━━━━━━━━━━━━━━\u001b[0m\u001b[37m\u001b[0m \u001b[1m15s\u001b[0m 861us/step - accuracy: 0.9820 - loss: 0.0605 - val_accuracy: 0.9766 - val_loss: 0.1192\n",
      "Epoch 33/75\n",
      "\u001b[1m17392/17392\u001b[0m \u001b[32m━━━━━━━━━━━━━━━━━━━━\u001b[0m\u001b[37m\u001b[0m \u001b[1m16s\u001b[0m 920us/step - accuracy: 0.9820 - loss: 0.0591 - val_accuracy: 0.9771 - val_loss: 0.1509\n",
      "Epoch 34/75\n",
      "\u001b[1m17392/17392\u001b[0m \u001b[32m━━━━━━━━━━━━━━━━━━━━\u001b[0m\u001b[37m\u001b[0m \u001b[1m16s\u001b[0m 944us/step - accuracy: 0.9824 - loss: 0.0594 - val_accuracy: 0.9775 - val_loss: 0.1290\n",
      "Epoch 35/75\n",
      "\u001b[1m17392/17392\u001b[0m \u001b[32m━━━━━━━━━━━━━━━━━━━━\u001b[0m\u001b[37m\u001b[0m \u001b[1m16s\u001b[0m 924us/step - accuracy: 0.9825 - loss: 0.0585 - val_accuracy: 0.9775 - val_loss: 0.1029\n",
      "Epoch 36/75\n",
      "\u001b[1m17392/17392\u001b[0m \u001b[32m━━━━━━━━━━━━━━━━━━━━\u001b[0m\u001b[37m\u001b[0m \u001b[1m16s\u001b[0m 893us/step - accuracy: 0.9819 - loss: 0.0602 - val_accuracy: 0.9771 - val_loss: 0.1479\n",
      "Epoch 37/75\n",
      "\u001b[1m17392/17392\u001b[0m \u001b[32m━━━━━━━━━━━━━━━━━━━━\u001b[0m\u001b[37m\u001b[0m \u001b[1m17s\u001b[0m 960us/step - accuracy: 0.9815 - loss: 0.0708 - val_accuracy: 0.9776 - val_loss: 0.1575\n",
      "Epoch 38/75\n",
      "\u001b[1m17392/17392\u001b[0m \u001b[32m━━━━━━━━━━━━━━━━━━━━\u001b[0m\u001b[37m\u001b[0m \u001b[1m17s\u001b[0m 966us/step - accuracy: 0.9828 - loss: 0.0579 - val_accuracy: 0.9772 - val_loss: 0.1559\n",
      "Epoch 39/75\n",
      "\u001b[1m17392/17392\u001b[0m \u001b[32m━━━━━━━━━━━━━━━━━━━━\u001b[0m\u001b[37m\u001b[0m \u001b[1m15s\u001b[0m 889us/step - accuracy: 0.9820 - loss: 0.0646 - val_accuracy: 0.9775 - val_loss: 0.1347\n",
      "Epoch 40/75\n",
      "\u001b[1m17392/17392\u001b[0m \u001b[32m━━━━━━━━━━━━━━━━━━━━\u001b[0m\u001b[37m\u001b[0m \u001b[1m15s\u001b[0m 867us/step - accuracy: 0.9825 - loss: 0.0583 - val_accuracy: 0.9765 - val_loss: 0.1297\n",
      "Epoch 41/75\n",
      "\u001b[1m17392/17392\u001b[0m \u001b[32m━━━━━━━━━━━━━━━━━━━━\u001b[0m\u001b[37m\u001b[0m \u001b[1m16s\u001b[0m 901us/step - accuracy: 0.9826 - loss: 0.0599 - val_accuracy: 0.9759 - val_loss: 0.1253\n",
      "Epoch 42/75\n",
      "\u001b[1m17392/17392\u001b[0m \u001b[32m━━━━━━━━━━━━━━━━━━━━\u001b[0m\u001b[37m\u001b[0m \u001b[1m15s\u001b[0m 852us/step - accuracy: 0.9821 - loss: 0.0592 - val_accuracy: 0.9762 - val_loss: 0.1523\n",
      "Epoch 43/75\n",
      "\u001b[1m17392/17392\u001b[0m \u001b[32m━━━━━━━━━━━━━━━━━━━━\u001b[0m\u001b[37m\u001b[0m \u001b[1m15s\u001b[0m 863us/step - accuracy: 0.9820 - loss: 0.0596 - val_accuracy: 0.9770 - val_loss: 0.1768\n",
      "Epoch 44/75\n",
      "\u001b[1m17392/17392\u001b[0m \u001b[32m━━━━━━━━━━━━━━━━━━━━\u001b[0m\u001b[37m\u001b[0m \u001b[1m16s\u001b[0m 897us/step - accuracy: 0.9825 - loss: 0.0590 - val_accuracy: 0.9774 - val_loss: 0.2122\n",
      "Epoch 45/75\n",
      "\u001b[1m17392/17392\u001b[0m \u001b[32m━━━━━━━━━━━━━━━━━━━━\u001b[0m\u001b[37m\u001b[0m \u001b[1m15s\u001b[0m 886us/step - accuracy: 0.9819 - loss: 0.0600 - val_accuracy: 0.9774 - val_loss: 0.1878\n",
      "Epoch 46/75\n",
      "\u001b[1m17392/17392\u001b[0m \u001b[32m━━━━━━━━━━━━━━━━━━━━\u001b[0m\u001b[37m\u001b[0m \u001b[1m15s\u001b[0m 844us/step - accuracy: 0.9819 - loss: 0.0603 - val_accuracy: 0.9763 - val_loss: 0.2317\n",
      "Epoch 47/75\n",
      "\u001b[1m17392/17392\u001b[0m \u001b[32m━━━━━━━━━━━━━━━━━━━━\u001b[0m\u001b[37m\u001b[0m \u001b[1m14s\u001b[0m 810us/step - accuracy: 0.9820 - loss: 0.0601 - val_accuracy: 0.9755 - val_loss: 0.1402\n",
      "Epoch 48/75\n",
      "\u001b[1m17392/17392\u001b[0m \u001b[32m━━━━━━━━━━━━━━━━━━━━\u001b[0m\u001b[37m\u001b[0m \u001b[1m15s\u001b[0m 848us/step - accuracy: 0.9821 - loss: 0.0600 - val_accuracy: 0.9775 - val_loss: 0.1977\n",
      "Epoch 49/75\n",
      "\u001b[1m17392/17392\u001b[0m \u001b[32m━━━━━━━━━━━━━━━━━━━━\u001b[0m\u001b[37m\u001b[0m \u001b[1m15s\u001b[0m 874us/step - accuracy: 0.9824 - loss: 0.0577 - val_accuracy: 0.9762 - val_loss: 0.1293\n",
      "Epoch 50/75\n",
      "\u001b[1m17392/17392\u001b[0m \u001b[32m━━━━━━━━━━━━━━━━━━━━\u001b[0m\u001b[37m\u001b[0m \u001b[1m16s\u001b[0m 901us/step - accuracy: 0.9818 - loss: 0.0578 - val_accuracy: 0.9761 - val_loss: 0.1456\n",
      "Epoch 51/75\n",
      "\u001b[1m17392/17392\u001b[0m \u001b[32m━━━━━━━━━━━━━━━━━━━━\u001b[0m\u001b[37m\u001b[0m \u001b[1m14s\u001b[0m 825us/step - accuracy: 0.9819 - loss: 0.0600 - val_accuracy: 0.9768 - val_loss: 0.1411\n",
      "Epoch 52/75\n",
      "\u001b[1m17392/17392\u001b[0m \u001b[32m━━━━━━━━━━━━━━━━━━━━\u001b[0m\u001b[37m\u001b[0m \u001b[1m14s\u001b[0m 803us/step - accuracy: 0.9818 - loss: 0.0588 - val_accuracy: 0.9771 - val_loss: 0.1356\n",
      "Epoch 53/75\n",
      "\u001b[1m17392/17392\u001b[0m \u001b[32m━━━━━━━━━━━━━━━━━━━━\u001b[0m\u001b[37m\u001b[0m \u001b[1m14s\u001b[0m 802us/step - accuracy: 0.9820 - loss: 0.0590 - val_accuracy: 0.9772 - val_loss: 0.1895\n",
      "Epoch 54/75\n",
      "\u001b[1m17392/17392\u001b[0m \u001b[32m━━━━━━━━━━━━━━━━━━━━\u001b[0m\u001b[37m\u001b[0m \u001b[1m14s\u001b[0m 807us/step - accuracy: 0.9817 - loss: 0.0604 - val_accuracy: 0.9767 - val_loss: 0.2539\n",
      "Epoch 55/75\n",
      "\u001b[1m17392/17392\u001b[0m \u001b[32m━━━━━━━━━━━━━━━━━━━━\u001b[0m\u001b[37m\u001b[0m \u001b[1m14s\u001b[0m 806us/step - accuracy: 0.9816 - loss: 0.0600 - val_accuracy: 0.9761 - val_loss: 0.2882\n",
      "Epoch 56/75\n",
      "\u001b[1m17392/17392\u001b[0m \u001b[32m━━━━━━━━━━━━━━━━━━━━\u001b[0m\u001b[37m\u001b[0m \u001b[1m14s\u001b[0m 809us/step - accuracy: 0.9819 - loss: 0.0598 - val_accuracy: 0.9756 - val_loss: 0.1670\n",
      "Epoch 57/75\n",
      "\u001b[1m17392/17392\u001b[0m \u001b[32m━━━━━━━━━━━━━━━━━━━━\u001b[0m\u001b[37m\u001b[0m \u001b[1m14s\u001b[0m 812us/step - accuracy: 0.9815 - loss: 0.0597 - val_accuracy: 0.9740 - val_loss: 0.2408\n",
      "Epoch 58/75\n",
      "\u001b[1m17392/17392\u001b[0m \u001b[32m━━━━━━━━━━━━━━━━━━━━\u001b[0m\u001b[37m\u001b[0m \u001b[1m14s\u001b[0m 808us/step - accuracy: 0.9819 - loss: 0.0592 - val_accuracy: 0.9769 - val_loss: 0.2949\n",
      "Epoch 59/75\n",
      "\u001b[1m17392/17392\u001b[0m \u001b[32m━━━━━━━━━━━━━━━━━━━━\u001b[0m\u001b[37m\u001b[0m \u001b[1m14s\u001b[0m 811us/step - accuracy: 0.9822 - loss: 0.0575 - val_accuracy: 0.9765 - val_loss: 0.1788\n",
      "Epoch 60/75\n",
      "\u001b[1m17392/17392\u001b[0m \u001b[32m━━━━━━━━━━━━━━━━━━━━\u001b[0m\u001b[37m\u001b[0m \u001b[1m14s\u001b[0m 804us/step - accuracy: 0.9814 - loss: 0.0600 - val_accuracy: 0.9776 - val_loss: 0.2989\n",
      "Epoch 61/75\n",
      "\u001b[1m17392/17392\u001b[0m \u001b[32m━━━━━━━━━━━━━━━━━━━━\u001b[0m\u001b[37m\u001b[0m \u001b[1m14s\u001b[0m 802us/step - accuracy: 0.9821 - loss: 0.0608 - val_accuracy: 0.9769 - val_loss: 0.1665\n",
      "Epoch 62/75\n",
      "\u001b[1m17392/17392\u001b[0m \u001b[32m━━━━━━━━━━━━━━━━━━━━\u001b[0m\u001b[37m\u001b[0m \u001b[1m14s\u001b[0m 804us/step - accuracy: 0.9820 - loss: 0.0608 - val_accuracy: 0.9772 - val_loss: 0.2076\n",
      "Epoch 63/75\n",
      "\u001b[1m17392/17392\u001b[0m \u001b[32m━━━━━━━━━━━━━━━━━━━━\u001b[0m\u001b[37m\u001b[0m \u001b[1m14s\u001b[0m 810us/step - accuracy: 0.9820 - loss: 0.0584 - val_accuracy: 0.9763 - val_loss: 0.1550\n",
      "Epoch 64/75\n",
      "\u001b[1m17392/17392\u001b[0m \u001b[32m━━━━━━━━━━━━━━━━━━━━\u001b[0m\u001b[37m\u001b[0m \u001b[1m14s\u001b[0m 806us/step - accuracy: 0.9818 - loss: 0.0597 - val_accuracy: 0.9764 - val_loss: 0.1426\n",
      "Epoch 65/75\n",
      "\u001b[1m17392/17392\u001b[0m \u001b[32m━━━━━━━━━━━━━━━━━━━━\u001b[0m\u001b[37m\u001b[0m \u001b[1m14s\u001b[0m 806us/step - accuracy: 0.9816 - loss: 0.0615 - val_accuracy: 0.9759 - val_loss: 0.2057\n",
      "Epoch 66/75\n",
      "\u001b[1m17392/17392\u001b[0m \u001b[32m━━━━━━━━━━━━━━━━━━━━\u001b[0m\u001b[37m\u001b[0m \u001b[1m14s\u001b[0m 811us/step - accuracy: 0.9819 - loss: 0.0600 - val_accuracy: 0.9754 - val_loss: 0.1802\n",
      "Epoch 67/75\n",
      "\u001b[1m17392/17392\u001b[0m \u001b[32m━━━━━━━━━━━━━━━━━━━━\u001b[0m\u001b[37m\u001b[0m \u001b[1m14s\u001b[0m 817us/step - accuracy: 0.9818 - loss: 0.0578 - val_accuracy: 0.9769 - val_loss: 0.2235\n",
      "Epoch 68/75\n",
      "\u001b[1m17392/17392\u001b[0m \u001b[32m━━━━━━━━━━━━━━━━━━━━\u001b[0m\u001b[37m\u001b[0m \u001b[1m14s\u001b[0m 819us/step - accuracy: 0.9818 - loss: 0.0599 - val_accuracy: 0.9763 - val_loss: 0.1676\n",
      "Epoch 69/75\n",
      "\u001b[1m17392/17392\u001b[0m \u001b[32m━━━━━━━━━━━━━━━━━━━━\u001b[0m\u001b[37m\u001b[0m \u001b[1m14s\u001b[0m 810us/step - accuracy: 0.9813 - loss: 0.0595 - val_accuracy: 0.9753 - val_loss: 0.1404\n",
      "Epoch 70/75\n",
      "\u001b[1m17392/17392\u001b[0m \u001b[32m━━━━━━━━━━━━━━━━━━━━\u001b[0m\u001b[37m\u001b[0m \u001b[1m14s\u001b[0m 801us/step - accuracy: 0.9815 - loss: 0.0602 - val_accuracy: 0.9760 - val_loss: 0.4661\n",
      "Epoch 71/75\n",
      "\u001b[1m17392/17392\u001b[0m \u001b[32m━━━━━━━━━━━━━━━━━━━━\u001b[0m\u001b[37m\u001b[0m \u001b[1m14s\u001b[0m 816us/step - accuracy: 0.9813 - loss: 0.0599 - val_accuracy: 0.9768 - val_loss: 0.3185\n",
      "Epoch 72/75\n",
      "\u001b[1m17392/17392\u001b[0m \u001b[32m━━━━━━━━━━━━━━━━━━━━\u001b[0m\u001b[37m\u001b[0m \u001b[1m15s\u001b[0m 879us/step - accuracy: 0.9821 - loss: 0.0589 - val_accuracy: 0.9767 - val_loss: 0.6606\n",
      "Epoch 73/75\n",
      "\u001b[1m17392/17392\u001b[0m \u001b[32m━━━━━━━━━━━━━━━━━━━━\u001b[0m\u001b[37m\u001b[0m \u001b[1m14s\u001b[0m 813us/step - accuracy: 0.9814 - loss: 0.0618 - val_accuracy: 0.9765 - val_loss: 0.3148\n",
      "Epoch 74/75\n",
      "\u001b[1m17392/17392\u001b[0m \u001b[32m━━━━━━━━━━━━━━━━━━━━\u001b[0m\u001b[37m\u001b[0m \u001b[1m14s\u001b[0m 822us/step - accuracy: 0.9820 - loss: 0.0596 - val_accuracy: 0.9770 - val_loss: 0.2648\n",
      "Epoch 75/75\n",
      "\u001b[1m17392/17392\u001b[0m \u001b[32m━━━━━━━━━━━━━━━━━━━━\u001b[0m\u001b[37m\u001b[0m \u001b[1m14s\u001b[0m 829us/step - accuracy: 0.9821 - loss: 0.0593 - val_accuracy: 0.9754 - val_loss: 0.2989\n"
     ]
    }
   ],
   "source": [
    "history=model.fit(x,y,epochs=75,batch_size=23, validation_split=.20, verbose=1) # epochs: Nöronlar areasında kaç kere dolaşacağını göstryr\n",
    "                                                                         # batc_size: Veriler  büyük olduğu için veriyi eşit parçalara bölüyor\n",
    "                                                                         # validation_split=.20: Verilerin 80% i eğitim 20% test için ayırıyor \n",
    "                                                                         # verbose : Aşağıda yazılar çıkıyor, bize hangi basamakta olduğumuzu söylüyor"
   ]
  },
  {
   "cell_type": "code",
   "execution_count": 70,
   "id": "c9b9f75d-62c8-4c99-a0db-4e711b3ed80b",
   "metadata": {},
   "outputs": [],
   "source": [
    "import matplotlib.pyplot as plt"
   ]
  },
  {
   "cell_type": "code",
   "execution_count": 71,
   "id": "7a82cb26-e4a6-4d04-86e7-d111c0d56c0e",
   "metadata": {},
   "outputs": [
    {
     "data": {
      "text/plain": [
       "<matplotlib.legend.Legend at 0x1bf12a9f290>"
      ]
     },
     "execution_count": 71,
     "metadata": {},
     "output_type": "execute_result"
    },
    {
     "data": {
      "image/png": "[encoded data removed]",
      "text/plain": [
       "<Figure size 640x480 with 1 Axes>"
      ]
     },
     "metadata": {},
     "output_type": "display_data"
    }
   ],
   "source": [
    "plt.plot(history.history[\"accuracy\"],label=\"Accuracy\")    \n",
    "plt.plot(history.history[\"val_accuracy\"],label=\"Val_Accuracy\")\n",
    "plt.legend()"
   ]
  },
  {
   "cell_type": "markdown",
   "id": "74b76ac1-fd4c-4dcc-a738-8f907bd0d7d3",
   "metadata": {},
   "source": [
    "Sonuc olarak verimizi ayarlayıp modelimizi önce normal bir şekilde eğittik %97.82 Accuracy Score aldık. Sonra da derin öğrenme kullanarak modelimizi eğittik ve %98.28 Accuracy Score aldık."
   ]
  }
 ],
 "metadata": {
  "kernelspec": {
   "display_name": "Python 3 (ipykernel)",
   "language": "python",
   "name": "python3"
  },
  "language_info": {
   "codemirror_mode": {
    "name": "ipython",
    "version": 3
   },
   "file_extension": ".py",
   "mimetype": "text/x-python",
   "name": "python",
   "nbconvert_exporter": "python",
   "pygments_lexer": "ipython3",
   "version": "3.12.3"
  }
 },
 "nbformat": 4,
 "nbformat_minor": 5
}
