{
 "cells": [
  {
   "cell_type": "markdown",
   "id": "fd2fb238-b3f4-4206-a951-7b45d82d4fa7",
   "metadata": {},
   "source": [
    "# Multi-Class Prediction of Obesity Risk"
   ]
  },
  {
   "cell_type": "markdown",
   "id": "a11fff51-5880-46c8-bbba-ac92ae504801",
   "metadata": {},
   "source": [
    "<b>Hedefimiz:</b> Bu yarışmanın amacı, kardiyovasküler hastalıkla ilişkili olan obezite riskini bireylerde tahmin etmek için çeşitli faktörleri kullanmaktır. İyi şanslar!"
   ]
  },
  {
   "cell_type": "markdown",
   "id": "ef2fe85b-e7e5-4f6c-8632-0248c6bdd81e",
   "metadata": {},
   "source": [
    "<img src=\"https://pan-int.org/wp-content/uploads/Blog_ob_physician_image1-BMI.webp\">"
   ]
  },
  {
   "cell_type": "markdown",
   "id": "4daea97d-b01c-4256-a066-9bad215bb7d7",
   "metadata": {},
   "source": [
    "<a href=\"https://www.kaggle.com/competitions/playground-series-s4e2/data\">Dataya Buradan Erişebilirsiniz</a>"
   ]
  },
  {
   "cell_type": "markdown",
   "id": "59e2c354-67b0-41d2-b5e1-2e6b321dad1a",
   "metadata": {},
   "source": [
    "### EDA"
   ]
  },
  {
   "cell_type": "code",
   "execution_count": 1,
   "id": "c2ec5617-f8db-4c33-ad0c-9c9d61ccc95e",
   "metadata": {},
   "outputs": [],
   "source": [
    "import pandas as pd\n",
    "import matplotlib.pyplot as plt\n",
    "import seaborn as sns\n",
    "\n",
    "pd.set_option(\"display.max_columns\",100)\n",
    "\n",
    "import warnings\n",
    "warnings.filterwarnings(\"ignore\")"
   ]
  },
  {
   "cell_type": "code",
   "execution_count": 2,
   "id": "9cb56117-d883-401a-a9c9-4c0cadb0eb02",
   "metadata": {},
   "outputs": [],
   "source": [
    "df=pd.read_csv(\"train.csv\")"
   ]
  },
  {
   "cell_type": "code",
   "execution_count": 3,
   "id": "cdccccf4-29f6-42bf-9ea4-4fde2a1c8b39",
   "metadata": {},
   "outputs": [
    {
     "data": {
      "text/html": [
       "<div>\n",
       "<style scoped>\n",
       "    .dataframe tbody tr th:only-of-type {\n",
       "        vertical-align: middle;\n",
       "    }\n",
       "\n",
       "    .dataframe tbody tr th {\n",
       "        vertical-align: top;\n",
       "    }\n",
       "\n",
       "    .dataframe thead th {\n",
       "        text-align: right;\n",
       "    }\n",
       "</style>\n",
       "<table border=\"1\" class=\"dataframe\">\n",
       "  <thead>\n",
       "    <tr style=\"text-align: right;\">\n",
       "      <th></th>\n",
       "      <th>id</th>\n",
       "      <th>Gender</th>\n",
       "      <th>Age</th>\n",
       "      <th>Height</th>\n",
       "      <th>Weight</th>\n",
       "      <th>family_history_with_overweight</th>\n",
       "      <th>FAVC</th>\n",
       "      <th>FCVC</th>\n",
       "      <th>NCP</th>\n",
       "      <th>CAEC</th>\n",
       "      <th>SMOKE</th>\n",
       "      <th>CH2O</th>\n",
       "      <th>SCC</th>\n",
       "      <th>FAF</th>\n",
       "      <th>TUE</th>\n",
       "      <th>CALC</th>\n",
       "      <th>MTRANS</th>\n",
       "      <th>NObeyesdad</th>\n",
       "    </tr>\n",
       "  </thead>\n",
       "  <tbody>\n",
       "    <tr>\n",
       "      <th>0</th>\n",
       "      <td>0</td>\n",
       "      <td>Male</td>\n",
       "      <td>24.443011</td>\n",
       "      <td>1.699998</td>\n",
       "      <td>81.669950</td>\n",
       "      <td>yes</td>\n",
       "      <td>yes</td>\n",
       "      <td>2.000000</td>\n",
       "      <td>2.983297</td>\n",
       "      <td>Sometimes</td>\n",
       "      <td>no</td>\n",
       "      <td>2.763573</td>\n",
       "      <td>no</td>\n",
       "      <td>0.000000</td>\n",
       "      <td>0.976473</td>\n",
       "      <td>Sometimes</td>\n",
       "      <td>Public_Transportation</td>\n",
       "      <td>Overweight_Level_II</td>\n",
       "    </tr>\n",
       "    <tr>\n",
       "      <th>1</th>\n",
       "      <td>1</td>\n",
       "      <td>Female</td>\n",
       "      <td>18.000000</td>\n",
       "      <td>1.560000</td>\n",
       "      <td>57.000000</td>\n",
       "      <td>yes</td>\n",
       "      <td>yes</td>\n",
       "      <td>2.000000</td>\n",
       "      <td>3.000000</td>\n",
       "      <td>Frequently</td>\n",
       "      <td>no</td>\n",
       "      <td>2.000000</td>\n",
       "      <td>no</td>\n",
       "      <td>1.000000</td>\n",
       "      <td>1.000000</td>\n",
       "      <td>no</td>\n",
       "      <td>Automobile</td>\n",
       "      <td>Normal_Weight</td>\n",
       "    </tr>\n",
       "    <tr>\n",
       "      <th>2</th>\n",
       "      <td>2</td>\n",
       "      <td>Female</td>\n",
       "      <td>18.000000</td>\n",
       "      <td>1.711460</td>\n",
       "      <td>50.165754</td>\n",
       "      <td>yes</td>\n",
       "      <td>yes</td>\n",
       "      <td>1.880534</td>\n",
       "      <td>1.411685</td>\n",
       "      <td>Sometimes</td>\n",
       "      <td>no</td>\n",
       "      <td>1.910378</td>\n",
       "      <td>no</td>\n",
       "      <td>0.866045</td>\n",
       "      <td>1.673584</td>\n",
       "      <td>no</td>\n",
       "      <td>Public_Transportation</td>\n",
       "      <td>Insufficient_Weight</td>\n",
       "    </tr>\n",
       "    <tr>\n",
       "      <th>3</th>\n",
       "      <td>3</td>\n",
       "      <td>Female</td>\n",
       "      <td>20.952737</td>\n",
       "      <td>1.710730</td>\n",
       "      <td>131.274851</td>\n",
       "      <td>yes</td>\n",
       "      <td>yes</td>\n",
       "      <td>3.000000</td>\n",
       "      <td>3.000000</td>\n",
       "      <td>Sometimes</td>\n",
       "      <td>no</td>\n",
       "      <td>1.674061</td>\n",
       "      <td>no</td>\n",
       "      <td>1.467863</td>\n",
       "      <td>0.780199</td>\n",
       "      <td>Sometimes</td>\n",
       "      <td>Public_Transportation</td>\n",
       "      <td>Obesity_Type_III</td>\n",
       "    </tr>\n",
       "    <tr>\n",
       "      <th>4</th>\n",
       "      <td>4</td>\n",
       "      <td>Male</td>\n",
       "      <td>31.641081</td>\n",
       "      <td>1.914186</td>\n",
       "      <td>93.798055</td>\n",
       "      <td>yes</td>\n",
       "      <td>yes</td>\n",
       "      <td>2.679664</td>\n",
       "      <td>1.971472</td>\n",
       "      <td>Sometimes</td>\n",
       "      <td>no</td>\n",
       "      <td>1.979848</td>\n",
       "      <td>no</td>\n",
       "      <td>1.967973</td>\n",
       "      <td>0.931721</td>\n",
       "      <td>Sometimes</td>\n",
       "      <td>Public_Transportation</td>\n",
       "      <td>Overweight_Level_II</td>\n",
       "    </tr>\n",
       "  </tbody>\n",
       "</table>\n",
       "</div>"
      ],
      "text/plain": [
       "   id  Gender        Age    Height      Weight family_history_with_overweight  \\\n",
       "0   0    Male  24.443011  1.699998   81.669950                            yes   \n",
       "1   1  Female  18.000000  1.560000   57.000000                            yes   \n",
       "2   2  Female  18.000000  1.711460   50.165754                            yes   \n",
       "3   3  Female  20.952737  1.710730  131.274851                            yes   \n",
       "4   4    Male  31.641081  1.914186   93.798055                            yes   \n",
       "\n",
       "  FAVC      FCVC       NCP        CAEC SMOKE      CH2O SCC       FAF  \\\n",
       "0  yes  2.000000  2.983297   Sometimes    no  2.763573  no  0.000000   \n",
       "1  yes  2.000000  3.000000  Frequently    no  2.000000  no  1.000000   \n",
       "2  yes  1.880534  1.411685   Sometimes    no  1.910378  no  0.866045   \n",
       "3  yes  3.000000  3.000000   Sometimes    no  1.674061  no  1.467863   \n",
       "4  yes  2.679664  1.971472   Sometimes    no  1.979848  no  1.967973   \n",
       "\n",
       "        TUE       CALC                 MTRANS           NObeyesdad  \n",
       "0  0.976473  Sometimes  Public_Transportation  Overweight_Level_II  \n",
       "1  1.000000         no             Automobile        Normal_Weight  \n",
       "2  1.673584         no  Public_Transportation  Insufficient_Weight  \n",
       "3  0.780199  Sometimes  Public_Transportation     Obesity_Type_III  \n",
       "4  0.931721  Sometimes  Public_Transportation  Overweight_Level_II  "
      ]
     },
     "execution_count": 3,
     "metadata": {},
     "output_type": "execute_result"
    }
   ],
   "source": [
    "df.head()"
   ]
  },
  {
   "cell_type": "code",
   "execution_count": 4,
   "id": "eeddc20c-82e9-4a6e-9ce1-bb04e35a064f",
   "metadata": {},
   "outputs": [
    {
     "data": {
      "text/plain": [
       "(20758, 18)"
      ]
     },
     "execution_count": 4,
     "metadata": {},
     "output_type": "execute_result"
    }
   ],
   "source": [
    "df.shape"
   ]
  },
  {
   "cell_type": "code",
   "execution_count": 5,
   "id": "64baa09c-6283-4cc5-bdca-a77da7cb4e98",
   "metadata": {},
   "outputs": [
    {
     "name": "stdout",
     "output_type": "stream",
     "text": [
      "<class 'pandas.core.frame.DataFrame'>\n",
      "RangeIndex: 20758 entries, 0 to 20757\n",
      "Data columns (total 18 columns):\n",
      " #   Column                          Non-Null Count  Dtype  \n",
      "---  ------                          --------------  -----  \n",
      " 0   id                              20758 non-null  int64  \n",
      " 1   Gender                          20758 non-null  object \n",
      " 2   Age                             20758 non-null  float64\n",
      " 3   Height                          20758 non-null  float64\n",
      " 4   Weight                          20758 non-null  float64\n",
      " 5   family_history_with_overweight  20758 non-null  object \n",
      " 6   FAVC                            20758 non-null  object \n",
      " 7   FCVC                            20758 non-null  float64\n",
      " 8   NCP                             20758 non-null  float64\n",
      " 9   CAEC                            20758 non-null  object \n",
      " 10  SMOKE                           20758 non-null  object \n",
      " 11  CH2O                            20758 non-null  float64\n",
      " 12  SCC                             20758 non-null  object \n",
      " 13  FAF                             20758 non-null  float64\n",
      " 14  TUE                             20758 non-null  float64\n",
      " 15  CALC                            20758 non-null  object \n",
      " 16  MTRANS                          20758 non-null  object \n",
      " 17  NObeyesdad                      20758 non-null  object \n",
      "dtypes: float64(8), int64(1), object(9)\n",
      "memory usage: 2.9+ MB\n"
     ]
    }
   ],
   "source": [
    "df.info()"
   ]
  },
  {
   "cell_type": "code",
   "execution_count": 6,
   "id": "e0c43590-9cab-4725-bef6-b3fa0ab983d0",
   "metadata": {},
   "outputs": [
    {
     "data": {
      "text/plain": [
       "id                                0\n",
       "Gender                            0\n",
       "Age                               0\n",
       "Height                            0\n",
       "Weight                            0\n",
       "family_history_with_overweight    0\n",
       "FAVC                              0\n",
       "FCVC                              0\n",
       "NCP                               0\n",
       "CAEC                              0\n",
       "SMOKE                             0\n",
       "CH2O                              0\n",
       "SCC                               0\n",
       "FAF                               0\n",
       "TUE                               0\n",
       "CALC                              0\n",
       "MTRANS                            0\n",
       "NObeyesdad                        0\n",
       "dtype: int64"
      ]
     },
     "execution_count": 6,
     "metadata": {},
     "output_type": "execute_result"
    }
   ],
   "source": [
    "df.isnull().sum()"
   ]
  },
  {
   "cell_type": "code",
   "execution_count": 7,
   "id": "9412dd56-a536-401a-ae17-1190712740e1",
   "metadata": {},
   "outputs": [
    {
     "data": {
      "text/plain": [
       "family_history_with_overweight\n",
       "yes    17014\n",
       "no      3744\n",
       "Name: count, dtype: int64"
      ]
     },
     "execution_count": 7,
     "metadata": {},
     "output_type": "execute_result"
    }
   ],
   "source": [
    "df[\"family_history_with_overweight\"].value_counts()"
   ]
  },
  {
   "cell_type": "code",
   "execution_count": 8,
   "id": "94dba387-2ad1-4063-9bfd-f66e8dbc42ca",
   "metadata": {},
   "outputs": [
    {
     "data": {
      "text/plain": [
       "FAVC\n",
       "yes    18982\n",
       "no      1776\n",
       "Name: count, dtype: int64"
      ]
     },
     "execution_count": 8,
     "metadata": {},
     "output_type": "execute_result"
    }
   ],
   "source": [
    "df[\"FAVC\"].value_counts()"
   ]
  },
  {
   "cell_type": "code",
   "execution_count": 9,
   "id": "396d6cd8-9182-4700-aaae-90a536304953",
   "metadata": {},
   "outputs": [
    {
     "data": {
      "text/plain": [
       "SMOKE\n",
       "no     20513\n",
       "yes      245\n",
       "Name: count, dtype: int64"
      ]
     },
     "execution_count": 9,
     "metadata": {},
     "output_type": "execute_result"
    }
   ],
   "source": [
    "df[\"SMOKE\"].value_counts()"
   ]
  },
  {
   "cell_type": "code",
   "execution_count": 10,
   "id": "2352dcd7-f6e2-42f5-98f3-cf5570d1db4b",
   "metadata": {},
   "outputs": [
    {
     "data": {
      "text/plain": [
       "SCC\n",
       "no     20071\n",
       "yes      687\n",
       "Name: count, dtype: int64"
      ]
     },
     "execution_count": 10,
     "metadata": {},
     "output_type": "execute_result"
    }
   ],
   "source": [
    "df[\"SCC\"].value_counts()"
   ]
  },
  {
   "cell_type": "code",
   "execution_count": 11,
   "id": "5e2d2301-2072-47e3-8832-b88b326f294a",
   "metadata": {},
   "outputs": [
    {
     "data": {
      "text/plain": [
       "CAEC\n",
       "Sometimes     17529\n",
       "Frequently     2472\n",
       "Always          478\n",
       "no              279\n",
       "Name: count, dtype: int64"
      ]
     },
     "execution_count": 11,
     "metadata": {},
     "output_type": "execute_result"
    }
   ],
   "source": [
    "df[\"CAEC\"].value_counts()"
   ]
  },
  {
   "cell_type": "code",
   "execution_count": 12,
   "id": "bfde2665-448c-4308-98b6-36cce68a73ae",
   "metadata": {},
   "outputs": [
    {
     "data": {
      "text/plain": [
       "CALC\n",
       "Sometimes     15066\n",
       "no             5163\n",
       "Frequently      529\n",
       "Name: count, dtype: int64"
      ]
     },
     "execution_count": 12,
     "metadata": {},
     "output_type": "execute_result"
    }
   ],
   "source": [
    "df[\"CALC\"].value_counts()"
   ]
  },
  {
   "cell_type": "code",
   "execution_count": 13,
   "id": "4ec3e477-0806-45de-9336-a187a53d7791",
   "metadata": {},
   "outputs": [
    {
     "data": {
      "text/plain": [
       "MTRANS\n",
       "Public_Transportation    16687\n",
       "Automobile                3534\n",
       "Walking                    467\n",
       "Motorbike                   38\n",
       "Bike                        32\n",
       "Name: count, dtype: int64"
      ]
     },
     "execution_count": 13,
     "metadata": {},
     "output_type": "execute_result"
    }
   ],
   "source": [
    "df[\"MTRANS\"].value_counts()"
   ]
  },
  {
   "cell_type": "code",
   "execution_count": 14,
   "id": "89bacaed-7a4c-4678-8b47-7e2d107de7fd",
   "metadata": {},
   "outputs": [
    {
     "data": {
      "text/plain": [
       "NObeyesdad\n",
       "Obesity_Type_III       4046\n",
       "Obesity_Type_II        3248\n",
       "Normal_Weight          3082\n",
       "Obesity_Type_I         2910\n",
       "Insufficient_Weight    2523\n",
       "Overweight_Level_II    2522\n",
       "Overweight_Level_I     2427\n",
       "Name: count, dtype: int64"
      ]
     },
     "execution_count": 14,
     "metadata": {},
     "output_type": "execute_result"
    }
   ],
   "source": [
    "df[\"NObeyesdad\"].value_counts()"
   ]
  },
  {
   "cell_type": "code",
   "execution_count": 15,
   "id": "1044287b-7172-4da2-97b5-927f5d103d8e",
   "metadata": {},
   "outputs": [
    {
     "data": {
      "image/png": "[encoded data removed]",
      "text/plain": [
       "<Figure size 640x480 with 1 Axes>"
      ]
     },
     "metadata": {},
     "output_type": "display_data"
    }
   ],
   "source": [
    "sns.countplot(x=df[\"NObeyesdad\"])\n",
    "plt.xticks(rotation=45);"
   ]
  },
  {
   "cell_type": "markdown",
   "id": "aa84571d-a499-460f-9265-86c01572d6ff",
   "metadata": {},
   "source": [
    "### Feature Importance"
   ]
  },
  {
   "cell_type": "code",
   "execution_count": 16,
   "id": "72f04c6e-3445-41df-9070-6671e6809694",
   "metadata": {},
   "outputs": [],
   "source": [
    "d1={\"Male\":1,\"Female\":0}"
   ]
  },
  {
   "cell_type": "code",
   "execution_count": 17,
   "id": "4a3d5421-5416-4fe7-98de-c1163290ff16",
   "metadata": {},
   "outputs": [],
   "source": [
    "df[\"Gender\"]=df[\"Gender\"].map(d1)"
   ]
  },
  {
   "cell_type": "code",
   "execution_count": 18,
   "id": "4d9d5748-7552-4702-a209-0cc8c97d8fa6",
   "metadata": {},
   "outputs": [],
   "source": [
    "d2={\"yes\":1,\"no\":0}"
   ]
  },
  {
   "cell_type": "code",
   "execution_count": 19,
   "id": "12a842dc-4315-43ce-8dc7-c7738d2862eb",
   "metadata": {},
   "outputs": [],
   "source": [
    "df[[\"family_history_with_overweight\", \"FAVC\", \"SMOKE\", \"SCC\"]] = df[[\"family_history_with_overweight\", \"FAVC\", \"SMOKE\", \"SCC\"]].apply(lambda x: x.map(d2))"
   ]
  },
  {
   "cell_type": "code",
   "execution_count": 20,
   "id": "7abd89ba-064e-4195-8f7e-a0fc6f4d1af7",
   "metadata": {},
   "outputs": [],
   "source": [
    "d3={\"no\":0,\"Always\":1,\"Frequently\":2,\"Sometimes\":3}"
   ]
  },
  {
   "cell_type": "code",
   "execution_count": 21,
   "id": "b0eb4530-ae33-485d-a057-a9d4dacef2a8",
   "metadata": {},
   "outputs": [],
   "source": [
    "df[\"CAEC\"]=df[\"CAEC\"].map(d3)"
   ]
  },
  {
   "cell_type": "code",
   "execution_count": 22,
   "id": "a6f2dafe-cddd-41a1-b4fa-b5fb4155e98c",
   "metadata": {},
   "outputs": [],
   "source": [
    "d4={\"no\":0,\"Frequently\":1,\"Sometimes\":2}"
   ]
  },
  {
   "cell_type": "code",
   "execution_count": 23,
   "id": "10771522-e04d-4b04-b9d4-3f3845ad6601",
   "metadata": {},
   "outputs": [],
   "source": [
    "df[\"CALC\"]=df[\"CALC\"].map(d4)"
   ]
  },
  {
   "cell_type": "code",
   "execution_count": 24,
   "id": "9c7ee8a7-8458-4e22-bc2d-d318b473ca4e",
   "metadata": {},
   "outputs": [],
   "source": [
    "d5={\"Public_Transportation\":0,\"Automobile\":1,\"Walking\":2,\"Motorbike\":3,\"Bike\":4}"
   ]
  },
  {
   "cell_type": "code",
   "execution_count": 25,
   "id": "f1a2b094-98dc-4f1c-a13c-9884b07cb012",
   "metadata": {},
   "outputs": [],
   "source": [
    "df[\"MTRANS\"]=df[\"MTRANS\"].map(d5)"
   ]
  },
  {
   "cell_type": "code",
   "execution_count": 26,
   "id": "3e2fbae9-990a-4d35-ba3c-200cf27eba7d",
   "metadata": {},
   "outputs": [],
   "source": [
    "d6={\"Obesity_Type_III\":0,\"Obesity_Type_II\":1,\"Normal_Weight\":2,\"Obesity_Type_I\":3,\"Insufficient_Weight\":4,\"Overweight_Level_I\":5,\"Overweight_Level_II\":6}"
   ]
  },
  {
   "cell_type": "code",
   "execution_count": 27,
   "id": "9eb8da8c-7c65-4e93-bbc8-780f0dad4af0",
   "metadata": {},
   "outputs": [],
   "source": [
    "df[\"NObeyesdad\"]=df[\"NObeyesdad\"].map(d6)"
   ]
  },
  {
   "cell_type": "code",
   "execution_count": 28,
   "id": "69c926fd-387b-49af-ab89-a7b8c9df47a3",
   "metadata": {},
   "outputs": [
    {
     "data": {
      "text/html": [
       "<div>\n",
       "<style scoped>\n",
       "    .dataframe tbody tr th:only-of-type {\n",
       "        vertical-align: middle;\n",
       "    }\n",
       "\n",
       "    .dataframe tbody tr th {\n",
       "        vertical-align: top;\n",
       "    }\n",
       "\n",
       "    .dataframe thead th {\n",
       "        text-align: right;\n",
       "    }\n",
       "</style>\n",
       "<table border=\"1\" class=\"dataframe\">\n",
       "  <thead>\n",
       "    <tr style=\"text-align: right;\">\n",
       "      <th></th>\n",
       "      <th>id</th>\n",
       "      <th>Gender</th>\n",
       "      <th>Age</th>\n",
       "      <th>Height</th>\n",
       "      <th>Weight</th>\n",
       "      <th>family_history_with_overweight</th>\n",
       "      <th>FAVC</th>\n",
       "      <th>FCVC</th>\n",
       "      <th>NCP</th>\n",
       "      <th>CAEC</th>\n",
       "      <th>SMOKE</th>\n",
       "      <th>CH2O</th>\n",
       "      <th>SCC</th>\n",
       "      <th>FAF</th>\n",
       "      <th>TUE</th>\n",
       "      <th>CALC</th>\n",
       "      <th>MTRANS</th>\n",
       "      <th>NObeyesdad</th>\n",
       "    </tr>\n",
       "  </thead>\n",
       "  <tbody>\n",
       "    <tr>\n",
       "      <th>0</th>\n",
       "      <td>0</td>\n",
       "      <td>1</td>\n",
       "      <td>24.443011</td>\n",
       "      <td>1.699998</td>\n",
       "      <td>81.669950</td>\n",
       "      <td>1</td>\n",
       "      <td>1</td>\n",
       "      <td>2.000000</td>\n",
       "      <td>2.983297</td>\n",
       "      <td>3</td>\n",
       "      <td>0</td>\n",
       "      <td>2.763573</td>\n",
       "      <td>0</td>\n",
       "      <td>0.000000</td>\n",
       "      <td>0.976473</td>\n",
       "      <td>2</td>\n",
       "      <td>0</td>\n",
       "      <td>6</td>\n",
       "    </tr>\n",
       "    <tr>\n",
       "      <th>1</th>\n",
       "      <td>1</td>\n",
       "      <td>0</td>\n",
       "      <td>18.000000</td>\n",
       "      <td>1.560000</td>\n",
       "      <td>57.000000</td>\n",
       "      <td>1</td>\n",
       "      <td>1</td>\n",
       "      <td>2.000000</td>\n",
       "      <td>3.000000</td>\n",
       "      <td>2</td>\n",
       "      <td>0</td>\n",
       "      <td>2.000000</td>\n",
       "      <td>0</td>\n",
       "      <td>1.000000</td>\n",
       "      <td>1.000000</td>\n",
       "      <td>0</td>\n",
       "      <td>1</td>\n",
       "      <td>2</td>\n",
       "    </tr>\n",
       "    <tr>\n",
       "      <th>2</th>\n",
       "      <td>2</td>\n",
       "      <td>0</td>\n",
       "      <td>18.000000</td>\n",
       "      <td>1.711460</td>\n",
       "      <td>50.165754</td>\n",
       "      <td>1</td>\n",
       "      <td>1</td>\n",
       "      <td>1.880534</td>\n",
       "      <td>1.411685</td>\n",
       "      <td>3</td>\n",
       "      <td>0</td>\n",
       "      <td>1.910378</td>\n",
       "      <td>0</td>\n",
       "      <td>0.866045</td>\n",
       "      <td>1.673584</td>\n",
       "      <td>0</td>\n",
       "      <td>0</td>\n",
       "      <td>4</td>\n",
       "    </tr>\n",
       "    <tr>\n",
       "      <th>3</th>\n",
       "      <td>3</td>\n",
       "      <td>0</td>\n",
       "      <td>20.952737</td>\n",
       "      <td>1.710730</td>\n",
       "      <td>131.274851</td>\n",
       "      <td>1</td>\n",
       "      <td>1</td>\n",
       "      <td>3.000000</td>\n",
       "      <td>3.000000</td>\n",
       "      <td>3</td>\n",
       "      <td>0</td>\n",
       "      <td>1.674061</td>\n",
       "      <td>0</td>\n",
       "      <td>1.467863</td>\n",
       "      <td>0.780199</td>\n",
       "      <td>2</td>\n",
       "      <td>0</td>\n",
       "      <td>0</td>\n",
       "    </tr>\n",
       "    <tr>\n",
       "      <th>4</th>\n",
       "      <td>4</td>\n",
       "      <td>1</td>\n",
       "      <td>31.641081</td>\n",
       "      <td>1.914186</td>\n",
       "      <td>93.798055</td>\n",
       "      <td>1</td>\n",
       "      <td>1</td>\n",
       "      <td>2.679664</td>\n",
       "      <td>1.971472</td>\n",
       "      <td>3</td>\n",
       "      <td>0</td>\n",
       "      <td>1.979848</td>\n",
       "      <td>0</td>\n",
       "      <td>1.967973</td>\n",
       "      <td>0.931721</td>\n",
       "      <td>2</td>\n",
       "      <td>0</td>\n",
       "      <td>6</td>\n",
       "    </tr>\n",
       "  </tbody>\n",
       "</table>\n",
       "</div>"
      ],
      "text/plain": [
       "   id  Gender        Age    Height      Weight  \\\n",
       "0   0       1  24.443011  1.699998   81.669950   \n",
       "1   1       0  18.000000  1.560000   57.000000   \n",
       "2   2       0  18.000000  1.711460   50.165754   \n",
       "3   3       0  20.952737  1.710730  131.274851   \n",
       "4   4       1  31.641081  1.914186   93.798055   \n",
       "\n",
       "   family_history_with_overweight  FAVC      FCVC       NCP  CAEC  SMOKE  \\\n",
       "0                               1     1  2.000000  2.983297     3      0   \n",
       "1                               1     1  2.000000  3.000000     2      0   \n",
       "2                               1     1  1.880534  1.411685     3      0   \n",
       "3                               1     1  3.000000  3.000000     3      0   \n",
       "4                               1     1  2.679664  1.971472     3      0   \n",
       "\n",
       "       CH2O  SCC       FAF       TUE  CALC  MTRANS  NObeyesdad  \n",
       "0  2.763573    0  0.000000  0.976473     2       0           6  \n",
       "1  2.000000    0  1.000000  1.000000     0       1           2  \n",
       "2  1.910378    0  0.866045  1.673584     0       0           4  \n",
       "3  1.674061    0  1.467863  0.780199     2       0           0  \n",
       "4  1.979848    0  1.967973  0.931721     2       0           6  "
      ]
     },
     "execution_count": 28,
     "metadata": {},
     "output_type": "execute_result"
    }
   ],
   "source": [
    "df.head()"
   ]
  },
  {
   "cell_type": "markdown",
   "id": "6639d34b-d2bd-4f21-ae04-adff9aa2be66",
   "metadata": {},
   "source": [
    "### Modelling"
   ]
  },
  {
   "cell_type": "code",
   "execution_count": 29,
   "id": "e7b1a0e9-4e88-48dd-abce-48aeede57f8f",
   "metadata": {},
   "outputs": [],
   "source": [
    "x=df.drop([\"id\",\"NObeyesdad\"],axis=1)\n",
    "y=df[\"NObeyesdad\"]"
   ]
  },
  {
   "cell_type": "code",
   "execution_count": 30,
   "id": "29489bbe-6671-49bf-b6e6-d7001735ba15",
   "metadata": {},
   "outputs": [],
   "source": [
    "import pandas as pd\n",
    "import numpy as np\n",
    "from sklearn.linear_model import LogisticRegression\n",
    "from sklearn.svm import SVC\n",
    "from sklearn.neighbors import KNeighborsClassifier\n",
    "from sklearn.tree import DecisionTreeClassifier\n",
    "from sklearn.ensemble import RandomForestClassifier, GradientBoostingClassifier\n",
    "from xgboost import XGBClassifier\n",
    "from sklearn.neural_network import MLPClassifier\n",
    "from sklearn.model_selection import train_test_split\n",
    "from sklearn.metrics import accuracy_score, precision_score, recall_score, f1_score\n",
    "\n",
    "def algo_test_classification(X, y):\n",
    "    # Tüm sınıflandırma modellerini tanımlıyorum\n",
    "    lr = LogisticRegression(max_iter=1000)\n",
    "    svc = SVC()\n",
    "    knn = KNeighborsClassifier()\n",
    "    dt = DecisionTreeClassifier()\n",
    "    rf = RandomForestClassifier()\n",
    "    gb = GradientBoostingClassifier()\n",
    "    xgb = XGBClassifier(use_label_encoder=False, eval_metric='logloss')\n",
    "    mlp = MLPClassifier(max_iter=1000)\n",
    "\n",
    "    algos = [lr, svc, knn, dt, rf, gb, xgb, mlp]\n",
    "    algo_names = ['Logistic Regression', 'SVC', 'KNN', 'Decision Tree', 'Random Forest', 'Gradient Boosting', 'XGBoost', 'MLP']\n",
    "\n",
    "    X_train, X_test, y_train, y_test = train_test_split(X, y, test_size=0.2, random_state=42)\n",
    "\n",
    "    accuracy = []\n",
    "    precision = []\n",
    "    recall = []\n",
    "    f1 = []\n",
    "\n",
    "    # Sonuç tablosunu oluşturuyorum\n",
    "    result = pd.DataFrame(columns=['Accuracy', 'Precision', 'Recall', 'F1'], index=algo_names)\n",
    "\n",
    "    for algo in algos:\n",
    "        algo.fit(X_train, y_train)\n",
    "        y_pred = algo.predict(X_test)\n",
    "        accuracy.append(accuracy_score(y_test, y_pred))\n",
    "        \n",
    "        # average parametresini buraya ekliyorum\n",
    "        precision.append(precision_score(y_test, y_pred, average='macro'))  # veya 'weighted'\n",
    "        recall.append(recall_score(y_test, y_pred, average='macro'))  # veya 'weighted'\n",
    "        f1.append(f1_score(y_test, y_pred, average='macro'))  # veya 'weighted'\n",
    "\n",
    "    # Sonuçları result tablosuna ekliyorum\n",
    "    # Sonuçları result tablosuna ekliyorum\n",
    "    result['Accuracy'] = accuracy\n",
    "    result['Precision'] = precision\n",
    "    result['Recall'] = recall\n",
    "    result['F1'] = f1\n",
    "        \n",
    "    return result.sort_values('Accuracy', ascending=False)"
   ]
  },
  {
   "cell_type": "code",
   "execution_count": 31,
   "id": "04b252c8-f5ef-4dc5-baeb-a64b95e58267",
   "metadata": {},
   "outputs": [
    {
     "data": {
      "text/html": [
       "<div>\n",
       "<style scoped>\n",
       "    .dataframe tbody tr th:only-of-type {\n",
       "        vertical-align: middle;\n",
       "    }\n",
       "\n",
       "    .dataframe tbody tr th {\n",
       "        vertical-align: top;\n",
       "    }\n",
       "\n",
       "    .dataframe thead th {\n",
       "        text-align: right;\n",
       "    }\n",
       "</style>\n",
       "<table border=\"1\" class=\"dataframe\">\n",
       "  <thead>\n",
       "    <tr style=\"text-align: right;\">\n",
       "      <th></th>\n",
       "      <th>Accuracy</th>\n",
       "      <th>Precision</th>\n",
       "      <th>Recall</th>\n",
       "      <th>F1</th>\n",
       "    </tr>\n",
       "  </thead>\n",
       "  <tbody>\n",
       "    <tr>\n",
       "      <th>Gradient Boosting</th>\n",
       "      <td>0.905347</td>\n",
       "      <td>0.895401</td>\n",
       "      <td>0.894671</td>\n",
       "      <td>0.895005</td>\n",
       "    </tr>\n",
       "    <tr>\n",
       "      <th>XGBoost</th>\n",
       "      <td>0.901734</td>\n",
       "      <td>0.891768</td>\n",
       "      <td>0.891053</td>\n",
       "      <td>0.891381</td>\n",
       "    </tr>\n",
       "    <tr>\n",
       "      <th>Random Forest</th>\n",
       "      <td>0.896435</td>\n",
       "      <td>0.885687</td>\n",
       "      <td>0.884359</td>\n",
       "      <td>0.884932</td>\n",
       "    </tr>\n",
       "    <tr>\n",
       "      <th>MLP</th>\n",
       "      <td>0.859586</td>\n",
       "      <td>0.844838</td>\n",
       "      <td>0.846322</td>\n",
       "      <td>0.844555</td>\n",
       "    </tr>\n",
       "    <tr>\n",
       "      <th>Decision Tree</th>\n",
       "      <td>0.847062</td>\n",
       "      <td>0.831794</td>\n",
       "      <td>0.831830</td>\n",
       "      <td>0.831710</td>\n",
       "    </tr>\n",
       "    <tr>\n",
       "      <th>Logistic Regression</th>\n",
       "      <td>0.841281</td>\n",
       "      <td>0.823001</td>\n",
       "      <td>0.824901</td>\n",
       "      <td>0.823318</td>\n",
       "    </tr>\n",
       "    <tr>\n",
       "      <th>KNN</th>\n",
       "      <td>0.839836</td>\n",
       "      <td>0.823460</td>\n",
       "      <td>0.824982</td>\n",
       "      <td>0.823941</td>\n",
       "    </tr>\n",
       "    <tr>\n",
       "      <th>SVC</th>\n",
       "      <td>0.715077</td>\n",
       "      <td>0.711131</td>\n",
       "      <td>0.693639</td>\n",
       "      <td>0.690953</td>\n",
       "    </tr>\n",
       "  </tbody>\n",
       "</table>\n",
       "</div>"
      ],
      "text/plain": [
       "                     Accuracy  Precision    Recall        F1\n",
       "Gradient Boosting    0.905347   0.895401  0.894671  0.895005\n",
       "XGBoost              0.901734   0.891768  0.891053  0.891381\n",
       "Random Forest        0.896435   0.885687  0.884359  0.884932\n",
       "MLP                  0.859586   0.844838  0.846322  0.844555\n",
       "Decision Tree        0.847062   0.831794  0.831830  0.831710\n",
       "Logistic Regression  0.841281   0.823001  0.824901  0.823318\n",
       "KNN                  0.839836   0.823460  0.824982  0.823941\n",
       "SVC                  0.715077   0.711131  0.693639  0.690953"
      ]
     },
     "execution_count": 31,
     "metadata": {},
     "output_type": "execute_result"
    }
   ],
   "source": [
    "algo_test_classification(x,y)"
   ]
  },
  {
   "cell_type": "code",
   "execution_count": 32,
   "id": "80c8aef7-5b04-48c8-b4fe-9e822bf11503",
   "metadata": {},
   "outputs": [],
   "source": [
    "from sklearn.metrics import accuracy_score, confusion_matrix, classification_report"
   ]
  },
  {
   "cell_type": "code",
   "execution_count": 33,
   "id": "fcc65e76-703f-40c6-960b-bf39b1cffd40",
   "metadata": {},
   "outputs": [],
   "source": [
    "from sklearn.model_selection import train_test_split"
   ]
  },
  {
   "cell_type": "code",
   "execution_count": 34,
   "id": "369cbbf2-c614-4b9d-9871-db46f6fb140c",
   "metadata": {},
   "outputs": [],
   "source": [
    "x_train, x_test, y_train, y_test = train_test_split(x, y, test_size=0.2, random_state=42)"
   ]
  },
  {
   "cell_type": "code",
   "execution_count": 35,
   "id": "655e2464-a66e-41b1-bb3c-75c64cdb11c4",
   "metadata": {},
   "outputs": [],
   "source": [
    "gb = GradientBoostingClassifier()"
   ]
  },
  {
   "cell_type": "code",
   "execution_count": 36,
   "id": "0a35c72f-3569-4d72-b305-a8a5d082151b",
   "metadata": {},
   "outputs": [],
   "source": [
    "mod=gb.fit(x_train,y_train)"
   ]
  },
  {
   "cell_type": "code",
   "execution_count": 37,
   "id": "910a60cf-c7a9-44a9-8a9d-001d6b30aebd",
   "metadata": {},
   "outputs": [],
   "source": [
    "thmn=gb.predict(x_test)"
   ]
  },
  {
   "cell_type": "code",
   "execution_count": 38,
   "id": "9fb56328-be13-4e92-96aa-672e8b5dc8e2",
   "metadata": {},
   "outputs": [
    {
     "data": {
      "text/plain": [
       "0.9053468208092486"
      ]
     },
     "execution_count": 38,
     "metadata": {},
     "output_type": "execute_result"
    }
   ],
   "source": [
    "accuracy_score(y_test, thmn)"
   ]
  },
  {
   "cell_type": "code",
   "execution_count": 39,
   "id": "9c24aa29-5ced-4a75-958e-331d05bf4f2e",
   "metadata": {},
   "outputs": [
    {
     "data": {
      "text/plain": [
       "<Axes: >"
      ]
     },
     "execution_count": 39,
     "metadata": {},
     "output_type": "execute_result"
    },
    {
     "data": {
      "image/png": "[encoded data removed]",
      "text/plain": [
       "<Figure size 640x480 with 2 Axes>"
      ]
     },
     "metadata": {},
     "output_type": "display_data"
    }
   ],
   "source": [
    "sns.heatmap(confusion_matrix(thmn,y_test),annot=True)"
   ]
  },
  {
   "cell_type": "code",
   "execution_count": 40,
   "id": "1dd90e3f-0993-4a07-bd92-8d9bbf8e580c",
   "metadata": {},
   "outputs": [
    {
     "name": "stdout",
     "output_type": "stream",
     "text": [
      "              precision    recall  f1-score   support\n",
      "\n",
      "           0       1.00      1.00      1.00       804\n",
      "           1       0.97      0.97      0.97       658\n",
      "           2       0.89      0.87      0.88       641\n",
      "           3       0.87      0.88      0.88       540\n",
      "           4       0.94      0.96      0.95       515\n",
      "           5       0.79      0.79      0.79       484\n",
      "           6       0.80      0.80      0.80       510\n",
      "\n",
      "    accuracy                           0.91      4152\n",
      "   macro avg       0.89      0.90      0.90      4152\n",
      "weighted avg       0.91      0.91      0.91      4152\n",
      "\n"
     ]
    }
   ],
   "source": [
    "print(classification_report(thmn,y_test))"
   ]
  },
  {
   "cell_type": "code",
   "execution_count": 41,
   "id": "b7781c36-3d44-4093-8b5b-717ca7eba68d",
   "metadata": {},
   "outputs": [],
   "source": [
    "import pickle"
   ]
  },
  {
   "cell_type": "code",
   "execution_count": 42,
   "id": "783b6579-2f9d-4333-83fc-151afc536302",
   "metadata": {},
   "outputs": [],
   "source": [
    "with open('obesity.pkl', 'wb') as file:\n",
    "    pickle.dump(gb, file)"
   ]
  },
  {
   "cell_type": "markdown",
   "id": "49145000-b801-4797-813a-5acfc2430ee9",
   "metadata": {},
   "source": [
    "Kaggle daki test dosyamızı yükleyip tahmin ettireceğiz."
   ]
  },
  {
   "cell_type": "code",
   "execution_count": 43,
   "id": "d43ad7e1-b2f9-4851-b036-eefef4937743",
   "metadata": {},
   "outputs": [],
   "source": [
    "test=pd.read_csv(\"test.csv\")"
   ]
  },
  {
   "cell_type": "code",
   "execution_count": 44,
   "id": "f840e1be-a6b6-4b53-b499-995b6105c4bd",
   "metadata": {},
   "outputs": [],
   "source": [
    "dosya=pd.DataFrame()"
   ]
  },
  {
   "cell_type": "code",
   "execution_count": 45,
   "id": "eb7edf87-53c7-4d07-bd9a-f747d895368d",
   "metadata": {},
   "outputs": [],
   "source": [
    "dosya[\"id\"]=test[\"id\"]"
   ]
  },
  {
   "cell_type": "code",
   "execution_count": 46,
   "id": "763bce3c-6ed4-4a7c-a546-4a1562d30e33",
   "metadata": {},
   "outputs": [],
   "source": [
    "test=test.drop([\"id\"],axis=1)"
   ]
  },
  {
   "cell_type": "code",
   "execution_count": 47,
   "id": "3f160f30-711d-442b-b41c-929e04a77ae4",
   "metadata": {},
   "outputs": [],
   "source": [
    "test[\"Gender\"]=test[\"Gender\"].map(d1)"
   ]
  },
  {
   "cell_type": "code",
   "execution_count": 48,
   "id": "ff9ce43f-5b4c-4931-a24c-8dbfdd099a8e",
   "metadata": {},
   "outputs": [],
   "source": [
    "test[[\"family_history_with_overweight\", \"FAVC\", \"SMOKE\", \"SCC\"]] = test[[\"family_history_with_overweight\", \"FAVC\", \"SMOKE\", \"SCC\"]].apply(lambda x: x.map(d2))"
   ]
  },
  {
   "cell_type": "code",
   "execution_count": 49,
   "id": "988f5030-65d0-45ec-bf02-5624a993aa93",
   "metadata": {},
   "outputs": [],
   "source": [
    "test[\"CAEC\"]=test[\"CAEC\"].map(d3)"
   ]
  },
  {
   "cell_type": "code",
   "execution_count": 50,
   "id": "0a869b5c-d0f8-43b9-be37-669c46df0ec7",
   "metadata": {},
   "outputs": [],
   "source": [
    "test[\"CALC\"]=test[\"CALC\"].map(d4)"
   ]
  },
  {
   "cell_type": "code",
   "execution_count": 51,
   "id": "d201027f-a6e9-4a69-80b8-b5aa236b8186",
   "metadata": {},
   "outputs": [],
   "source": [
    "test[\"MTRANS\"]=test[\"MTRANS\"].map(d5)"
   ]
  },
  {
   "cell_type": "code",
   "execution_count": 52,
   "id": "721c8fa3-e1c8-4759-b42a-ad1bc8477aad",
   "metadata": {},
   "outputs": [
    {
     "data": {
      "text/plain": [
       "Gender                            0\n",
       "Age                               0\n",
       "Height                            0\n",
       "Weight                            0\n",
       "family_history_with_overweight    0\n",
       "FAVC                              0\n",
       "FCVC                              0\n",
       "NCP                               0\n",
       "CAEC                              0\n",
       "SMOKE                             0\n",
       "CH2O                              0\n",
       "SCC                               0\n",
       "FAF                               0\n",
       "TUE                               0\n",
       "CALC                              2\n",
       "MTRANS                            0\n",
       "dtype: int64"
      ]
     },
     "execution_count": 52,
     "metadata": {},
     "output_type": "execute_result"
    }
   ],
   "source": [
    "test.isnull().sum()"
   ]
  },
  {
   "cell_type": "code",
   "execution_count": 53,
   "id": "5fcbbd2e-b8fb-4ee4-9608-80a72d7e8953",
   "metadata": {},
   "outputs": [],
   "source": [
    "test[\"CALC\"]=test[\"CALC\"].fillna(0)"
   ]
  },
  {
   "cell_type": "code",
   "execution_count": 54,
   "id": "6fb1d593-21ce-4f1c-8ebf-4d30ec306218",
   "metadata": {},
   "outputs": [],
   "source": [
    "dosya[\"NObeyesdad\"]=gb.predict(test)"
   ]
  },
  {
   "cell_type": "code",
   "execution_count": 57,
   "id": "9512574e-1b4a-4e25-8e5d-568ac0ec233a",
   "metadata": {},
   "outputs": [],
   "source": [
    "dt={0:\"Obesity_Type_III\",1:\"Obesity_Type_II\",2:\"Normal_Weight\",3:\"Obesity_Type_I\",4:\"Insufficient_Weight\",5:\"Overweight_Level_I\",6:\"Overweight_Level_II\"}"
   ]
  },
  {
   "cell_type": "code",
   "execution_count": 58,
   "id": "5cb9c13a-50ca-41d1-834e-b2df1dd91411",
   "metadata": {},
   "outputs": [],
   "source": [
    "dosya[\"NObeyesdad\"]=dosya[\"NObeyesdad\"].map(dt)"
   ]
  },
  {
   "cell_type": "code",
   "execution_count": 59,
   "id": "4f16d729-cf7a-44fd-8503-0531983d0700",
   "metadata": {},
   "outputs": [
    {
     "data": {
      "text/html": [
       "<div>\n",
       "<style scoped>\n",
       "    .dataframe tbody tr th:only-of-type {\n",
       "        vertical-align: middle;\n",
       "    }\n",
       "\n",
       "    .dataframe tbody tr th {\n",
       "        vertical-align: top;\n",
       "    }\n",
       "\n",
       "    .dataframe thead th {\n",
       "        text-align: right;\n",
       "    }\n",
       "</style>\n",
       "<table border=\"1\" class=\"dataframe\">\n",
       "  <thead>\n",
       "    <tr style=\"text-align: right;\">\n",
       "      <th></th>\n",
       "      <th>id</th>\n",
       "      <th>NObeyesdad</th>\n",
       "    </tr>\n",
       "  </thead>\n",
       "  <tbody>\n",
       "    <tr>\n",
       "      <th>0</th>\n",
       "      <td>20758</td>\n",
       "      <td>Obesity_Type_II</td>\n",
       "    </tr>\n",
       "    <tr>\n",
       "      <th>1</th>\n",
       "      <td>20759</td>\n",
       "      <td>Overweight_Level_I</td>\n",
       "    </tr>\n",
       "    <tr>\n",
       "      <th>2</th>\n",
       "      <td>20760</td>\n",
       "      <td>Obesity_Type_III</td>\n",
       "    </tr>\n",
       "    <tr>\n",
       "      <th>3</th>\n",
       "      <td>20761</td>\n",
       "      <td>Obesity_Type_I</td>\n",
       "    </tr>\n",
       "    <tr>\n",
       "      <th>4</th>\n",
       "      <td>20762</td>\n",
       "      <td>Obesity_Type_III</td>\n",
       "    </tr>\n",
       "    <tr>\n",
       "      <th>...</th>\n",
       "      <td>...</td>\n",
       "      <td>...</td>\n",
       "    </tr>\n",
       "    <tr>\n",
       "      <th>13835</th>\n",
       "      <td>34593</td>\n",
       "      <td>Overweight_Level_II</td>\n",
       "    </tr>\n",
       "    <tr>\n",
       "      <th>13836</th>\n",
       "      <td>34594</td>\n",
       "      <td>Overweight_Level_I</td>\n",
       "    </tr>\n",
       "    <tr>\n",
       "      <th>13837</th>\n",
       "      <td>34595</td>\n",
       "      <td>Insufficient_Weight</td>\n",
       "    </tr>\n",
       "    <tr>\n",
       "      <th>13838</th>\n",
       "      <td>34596</td>\n",
       "      <td>Normal_Weight</td>\n",
       "    </tr>\n",
       "    <tr>\n",
       "      <th>13839</th>\n",
       "      <td>34597</td>\n",
       "      <td>Obesity_Type_II</td>\n",
       "    </tr>\n",
       "  </tbody>\n",
       "</table>\n",
       "<p>13840 rows × 2 columns</p>\n",
       "</div>"
      ],
      "text/plain": [
       "          id           NObeyesdad\n",
       "0      20758      Obesity_Type_II\n",
       "1      20759   Overweight_Level_I\n",
       "2      20760     Obesity_Type_III\n",
       "3      20761       Obesity_Type_I\n",
       "4      20762     Obesity_Type_III\n",
       "...      ...                  ...\n",
       "13835  34593  Overweight_Level_II\n",
       "13836  34594   Overweight_Level_I\n",
       "13837  34595  Insufficient_Weight\n",
       "13838  34596        Normal_Weight\n",
       "13839  34597      Obesity_Type_II\n",
       "\n",
       "[13840 rows x 2 columns]"
      ]
     },
     "execution_count": 59,
     "metadata": {},
     "output_type": "execute_result"
    }
   ],
   "source": [
    "dosya"
   ]
  },
  {
   "cell_type": "code",
   "execution_count": 60,
   "id": "3422b4a2-abc7-4b33-be03-0e9d141c7e92",
   "metadata": {},
   "outputs": [],
   "source": [
    "dosya.to_csv(\"tahmin1.csv\",index=False)"
   ]
  },
  {
   "cell_type": "markdown",
   "id": "334baa3a-d873-45ed-9e3a-ad7ed9cb8e75",
   "metadata": {},
   "source": [
    "### Deep Learning"
   ]
  },
  {
   "cell_type": "code",
   "execution_count": 64,
   "id": "634bf128-625f-4918-8495-721f543371d3",
   "metadata": {},
   "outputs": [],
   "source": [
    "x=df.drop([\"id\",\"NObeyesdad\"],axis=1)\n",
    "y=df[\"NObeyesdad\"]"
   ]
  },
  {
   "cell_type": "code",
   "execution_count": 65,
   "id": "ddbb534f-1904-466b-8eb6-7967b3ea5e63",
   "metadata": {},
   "outputs": [],
   "source": [
    "from tensorflow.keras.models import Sequential\n",
    "from tensorflow.keras.layers import Dense"
   ]
  },
  {
   "cell_type": "code",
   "execution_count": 66,
   "id": "b0baf88b-d353-4d7e-9bfa-51183a591710",
   "metadata": {},
   "outputs": [],
   "source": [
    "from sklearn.preprocessing import normalize, scale"
   ]
  },
  {
   "cell_type": "code",
   "execution_count": 67,
   "id": "7c86f537-0808-43f2-b8a9-90dc96626f1f",
   "metadata": {},
   "outputs": [],
   "source": [
    "model=Sequential()\n",
    "model.add(Dense(120,activation=\"relu\"))  # Modele layer ekliyor # Dense bütün nöronlar bütün nöronlara bağlansın demek\n",
    "model.add(Dense(80,activation=\"relu\")) # 120 nöron var \n",
    "model.add(Dense(64,activation=\"relu\"))\n",
    "model.add(Dense(30,activation=\"relu\"))\n",
    "model.add(Dense(20,activation=\"relu\"))\n",
    "model.add(Dense(14,activation=\"relu\"))\n",
    "model.add(Dense(7,activation=\"softmax\")) # Binary classification olduğu için sigmoid kullandık ! Regression da yok\n",
    "model.compile(loss=\"sparse_categorical_crossentropy\", optimizer=\"adam\",metrics=[\"accuracy\"]) # Loss: hata MSE gibi # Optimizer=adam "
   ]
  },
  {
   "cell_type": "code",
   "execution_count": 68,
   "id": "1afc546a-62bd-4a8f-90c8-f988dec499f9",
   "metadata": {},
   "outputs": [],
   "source": [
    "x=scale(x) # hepsini aynı birime getirdik"
   ]
  },
  {
   "cell_type": "code",
   "execution_count": 69,
   "id": "535273d7-9656-4270-881c-8e386a2bf6b6",
   "metadata": {},
   "outputs": [
    {
     "name": "stdout",
     "output_type": "stream",
     "text": [
      "Epoch 1/75\n",
      "\u001b[1m722/722\u001b[0m \u001b[32m━━━━━━━━━━━━━━━━━━━━\u001b[0m\u001b[37m\u001b[0m \u001b[1m6s\u001b[0m 2ms/step - accuracy: 0.6015 - loss: 0.9913 - val_accuracy: 0.8449 - val_loss: 0.4427\n",
      "Epoch 2/75\n",
      "\u001b[1m722/722\u001b[0m \u001b[32m━━━━━━━━━━━━━━━━━━━━\u001b[0m\u001b[37m\u001b[0m \u001b[1m1s\u001b[0m 2ms/step - accuracy: 0.8456 - loss: 0.4178 - val_accuracy: 0.8569 - val_loss: 0.4026\n",
      "Epoch 3/75\n",
      "\u001b[1m722/722\u001b[0m \u001b[32m━━━━━━━━━━━━━━━━━━━━\u001b[0m\u001b[37m\u001b[0m \u001b[1m1s\u001b[0m 2ms/step - accuracy: 0.8585 - loss: 0.3951 - val_accuracy: 0.8613 - val_loss: 0.3924\n",
      "Epoch 4/75\n",
      "\u001b[1m722/722\u001b[0m \u001b[32m━━━━━━━━━━━━━━━━━━━━\u001b[0m\u001b[37m\u001b[0m \u001b[1m1s\u001b[0m 1ms/step - accuracy: 0.8644 - loss: 0.3742 - val_accuracy: 0.8673 - val_loss: 0.3845\n",
      "Epoch 5/75\n",
      "\u001b[1m722/722\u001b[0m \u001b[32m━━━━━━━━━━━━━━━━━━━━\u001b[0m\u001b[37m\u001b[0m \u001b[1m1s\u001b[0m 2ms/step - accuracy: 0.8707 - loss: 0.3573 - val_accuracy: 0.8622 - val_loss: 0.3885\n",
      "Epoch 6/75\n",
      "\u001b[1m722/722\u001b[0m \u001b[32m━━━━━━━━━━━━━━━━━━━━\u001b[0m\u001b[37m\u001b[0m \u001b[1m1s\u001b[0m 1ms/step - accuracy: 0.8768 - loss: 0.3387 - val_accuracy: 0.8767 - val_loss: 0.3644\n",
      "Epoch 7/75\n",
      "\u001b[1m722/722\u001b[0m \u001b[32m━━━━━━━━━━━━━━━━━━━━\u001b[0m\u001b[37m\u001b[0m \u001b[1m1s\u001b[0m 2ms/step - accuracy: 0.8775 - loss: 0.3464 - val_accuracy: 0.8724 - val_loss: 0.3705\n",
      "Epoch 8/75\n",
      "\u001b[1m722/722\u001b[0m \u001b[32m━━━━━━━━━━━━━━━━━━━━\u001b[0m\u001b[37m\u001b[0m \u001b[1m1s\u001b[0m 2ms/step - accuracy: 0.8810 - loss: 0.3415 - val_accuracy: 0.8740 - val_loss: 0.3701\n",
      "Epoch 9/75\n",
      "\u001b[1m722/722\u001b[0m \u001b[32m━━━━━━━━━━━━━━━━━━━━\u001b[0m\u001b[37m\u001b[0m \u001b[1m1s\u001b[0m 2ms/step - accuracy: 0.8877 - loss: 0.3162 - val_accuracy: 0.8711 - val_loss: 0.3704\n",
      "Epoch 10/75\n",
      "\u001b[1m722/722\u001b[0m \u001b[32m━━━━━━━━━━━━━━━━━━━━\u001b[0m\u001b[37m\u001b[0m \u001b[1m1s\u001b[0m 2ms/step - accuracy: 0.8905 - loss: 0.3138 - val_accuracy: 0.8745 - val_loss: 0.3663\n",
      "Epoch 11/75\n",
      "\u001b[1m722/722\u001b[0m \u001b[32m━━━━━━━━━━━━━━━━━━━━\u001b[0m\u001b[37m\u001b[0m \u001b[1m1s\u001b[0m 2ms/step - accuracy: 0.8898 - loss: 0.3131 - val_accuracy: 0.8649 - val_loss: 0.3819\n",
      "Epoch 12/75\n",
      "\u001b[1m722/722\u001b[0m \u001b[32m━━━━━━━━━━━━━━━━━━━━\u001b[0m\u001b[37m\u001b[0m \u001b[1m1s\u001b[0m 2ms/step - accuracy: 0.8879 - loss: 0.3171 - val_accuracy: 0.8755 - val_loss: 0.3693\n",
      "Epoch 13/75\n",
      "\u001b[1m722/722\u001b[0m \u001b[32m━━━━━━━━━━━━━━━━━━━━\u001b[0m\u001b[37m\u001b[0m \u001b[1m1s\u001b[0m 2ms/step - accuracy: 0.8971 - loss: 0.2989 - val_accuracy: 0.8719 - val_loss: 0.3774\n",
      "Epoch 14/75\n",
      "\u001b[1m722/722\u001b[0m \u001b[32m━━━━━━━━━━━━━━━━━━━━\u001b[0m\u001b[37m\u001b[0m \u001b[1m1s\u001b[0m 2ms/step - accuracy: 0.8935 - loss: 0.3035 - val_accuracy: 0.8781 - val_loss: 0.3678\n",
      "Epoch 15/75\n",
      "\u001b[1m722/722\u001b[0m \u001b[32m━━━━━━━━━━━━━━━━━━━━\u001b[0m\u001b[37m\u001b[0m \u001b[1m1s\u001b[0m 2ms/step - accuracy: 0.8972 - loss: 0.2903 - val_accuracy: 0.8745 - val_loss: 0.3747\n",
      "Epoch 16/75\n",
      "\u001b[1m722/722\u001b[0m \u001b[32m━━━━━━━━━━━━━━━━━━━━\u001b[0m\u001b[37m\u001b[0m \u001b[1m1s\u001b[0m 2ms/step - accuracy: 0.9004 - loss: 0.2806 - val_accuracy: 0.8651 - val_loss: 0.3960\n",
      "Epoch 17/75\n",
      "\u001b[1m722/722\u001b[0m \u001b[32m━━━━━━━━━━━━━━━━━━━━\u001b[0m\u001b[37m\u001b[0m \u001b[1m1s\u001b[0m 2ms/step - accuracy: 0.9068 - loss: 0.2777 - val_accuracy: 0.8760 - val_loss: 0.3760\n",
      "Epoch 18/75\n",
      "\u001b[1m722/722\u001b[0m \u001b[32m━━━━━━━━━━━━━━━━━━━━\u001b[0m\u001b[37m\u001b[0m \u001b[1m1s\u001b[0m 1ms/step - accuracy: 0.9043 - loss: 0.2723 - val_accuracy: 0.8610 - val_loss: 0.4156\n",
      "Epoch 19/75\n",
      "\u001b[1m722/722\u001b[0m \u001b[32m━━━━━━━━━━━━━━━━━━━━\u001b[0m\u001b[37m\u001b[0m \u001b[1m1s\u001b[0m 2ms/step - accuracy: 0.9081 - loss: 0.2713 - val_accuracy: 0.8618 - val_loss: 0.4131\n",
      "Epoch 20/75\n",
      "\u001b[1m722/722\u001b[0m \u001b[32m━━━━━━━━━━━━━━━━━━━━\u001b[0m\u001b[37m\u001b[0m \u001b[1m1s\u001b[0m 1ms/step - accuracy: 0.9081 - loss: 0.2625 - val_accuracy: 0.8803 - val_loss: 0.3719\n",
      "Epoch 21/75\n",
      "\u001b[1m722/722\u001b[0m \u001b[32m━━━━━━━━━━━━━━━━━━━━\u001b[0m\u001b[37m\u001b[0m \u001b[1m1s\u001b[0m 1ms/step - accuracy: 0.9145 - loss: 0.2522 - val_accuracy: 0.8714 - val_loss: 0.3859\n",
      "Epoch 22/75\n",
      "\u001b[1m722/722\u001b[0m \u001b[32m━━━━━━━━━━━━━━━━━━━━\u001b[0m\u001b[37m\u001b[0m \u001b[1m1s\u001b[0m 2ms/step - accuracy: 0.9101 - loss: 0.2506 - val_accuracy: 0.8736 - val_loss: 0.3849\n",
      "Epoch 23/75\n",
      "\u001b[1m722/722\u001b[0m \u001b[32m━━━━━━━━━━━━━━━━━━━━\u001b[0m\u001b[37m\u001b[0m \u001b[1m1s\u001b[0m 2ms/step - accuracy: 0.9125 - loss: 0.2491 - val_accuracy: 0.8791 - val_loss: 0.3847\n",
      "Epoch 24/75\n",
      "\u001b[1m722/722\u001b[0m \u001b[32m━━━━━━━━━━━━━━━━━━━━\u001b[0m\u001b[37m\u001b[0m \u001b[1m1s\u001b[0m 2ms/step - accuracy: 0.9114 - loss: 0.2429 - val_accuracy: 0.8678 - val_loss: 0.4112\n",
      "Epoch 25/75\n",
      "\u001b[1m722/722\u001b[0m \u001b[32m━━━━━━━━━━━━━━━━━━━━\u001b[0m\u001b[37m\u001b[0m \u001b[1m1s\u001b[0m 2ms/step - accuracy: 0.9166 - loss: 0.2419 - val_accuracy: 0.8752 - val_loss: 0.3896\n",
      "Epoch 26/75\n",
      "\u001b[1m722/722\u001b[0m \u001b[32m━━━━━━━━━━━━━━━━━━━━\u001b[0m\u001b[37m\u001b[0m \u001b[1m1s\u001b[0m 2ms/step - accuracy: 0.9211 - loss: 0.2242 - val_accuracy: 0.8731 - val_loss: 0.4055\n",
      "Epoch 27/75\n",
      "\u001b[1m722/722\u001b[0m \u001b[32m━━━━━━━━━━━━━━━━━━━━\u001b[0m\u001b[37m\u001b[0m \u001b[1m1s\u001b[0m 2ms/step - accuracy: 0.9226 - loss: 0.2240 - val_accuracy: 0.8584 - val_loss: 0.4320\n",
      "Epoch 28/75\n",
      "\u001b[1m722/722\u001b[0m \u001b[32m━━━━━━━━━━━━━━━━━━━━\u001b[0m\u001b[37m\u001b[0m \u001b[1m1s\u001b[0m 2ms/step - accuracy: 0.9213 - loss: 0.2256 - val_accuracy: 0.8719 - val_loss: 0.4220\n",
      "Epoch 29/75\n",
      "\u001b[1m722/722\u001b[0m \u001b[32m━━━━━━━━━━━━━━━━━━━━\u001b[0m\u001b[37m\u001b[0m \u001b[1m1s\u001b[0m 1ms/step - accuracy: 0.9256 - loss: 0.2091 - val_accuracy: 0.8731 - val_loss: 0.4359\n",
      "Epoch 30/75\n",
      "\u001b[1m722/722\u001b[0m \u001b[32m━━━━━━━━━━━━━━━━━━━━\u001b[0m\u001b[37m\u001b[0m \u001b[1m1s\u001b[0m 2ms/step - accuracy: 0.9261 - loss: 0.2139 - val_accuracy: 0.8728 - val_loss: 0.4205\n",
      "Epoch 31/75\n",
      "\u001b[1m722/722\u001b[0m \u001b[32m━━━━━━━━━━━━━━━━━━━━\u001b[0m\u001b[37m\u001b[0m \u001b[1m1s\u001b[0m 2ms/step - accuracy: 0.9264 - loss: 0.2141 - val_accuracy: 0.8769 - val_loss: 0.4087\n",
      "Epoch 32/75\n",
      "\u001b[1m722/722\u001b[0m \u001b[32m━━━━━━━━━━━━━━━━━━━━\u001b[0m\u001b[37m\u001b[0m \u001b[1m1s\u001b[0m 2ms/step - accuracy: 0.9344 - loss: 0.1932 - val_accuracy: 0.8625 - val_loss: 0.4622\n",
      "Epoch 33/75\n",
      "\u001b[1m722/722\u001b[0m \u001b[32m━━━━━━━━━━━━━━━━━━━━\u001b[0m\u001b[37m\u001b[0m \u001b[1m1s\u001b[0m 2ms/step - accuracy: 0.9283 - loss: 0.1981 - val_accuracy: 0.8675 - val_loss: 0.4338\n",
      "Epoch 34/75\n",
      "\u001b[1m722/722\u001b[0m \u001b[32m━━━━━━━━━━━━━━━━━━━━\u001b[0m\u001b[37m\u001b[0m \u001b[1m1s\u001b[0m 2ms/step - accuracy: 0.9334 - loss: 0.1932 - val_accuracy: 0.8671 - val_loss: 0.4316\n",
      "Epoch 35/75\n",
      "\u001b[1m722/722\u001b[0m \u001b[32m━━━━━━━━━━━━━━━━━━━━\u001b[0m\u001b[37m\u001b[0m \u001b[1m1s\u001b[0m 2ms/step - accuracy: 0.9342 - loss: 0.1909 - val_accuracy: 0.8702 - val_loss: 0.4424\n",
      "Epoch 36/75\n",
      "\u001b[1m722/722\u001b[0m \u001b[32m━━━━━━━━━━━━━━━━━━━━\u001b[0m\u001b[37m\u001b[0m \u001b[1m1s\u001b[0m 2ms/step - accuracy: 0.9315 - loss: 0.1946 - val_accuracy: 0.8719 - val_loss: 0.4406\n",
      "Epoch 37/75\n",
      "\u001b[1m722/722\u001b[0m \u001b[32m━━━━━━━━━━━━━━━━━━━━\u001b[0m\u001b[37m\u001b[0m \u001b[1m1s\u001b[0m 2ms/step - accuracy: 0.9394 - loss: 0.1810 - val_accuracy: 0.8755 - val_loss: 0.4563\n",
      "Epoch 38/75\n",
      "\u001b[1m722/722\u001b[0m \u001b[32m━━━━━━━━━━━━━━━━━━━━\u001b[0m\u001b[37m\u001b[0m \u001b[1m1s\u001b[0m 2ms/step - accuracy: 0.9361 - loss: 0.1882 - val_accuracy: 0.8726 - val_loss: 0.4802\n",
      "Epoch 39/75\n",
      "\u001b[1m722/722\u001b[0m \u001b[32m━━━━━━━━━━━━━━━━━━━━\u001b[0m\u001b[37m\u001b[0m \u001b[1m1s\u001b[0m 2ms/step - accuracy: 0.9383 - loss: 0.1773 - val_accuracy: 0.8649 - val_loss: 0.4877\n",
      "Epoch 40/75\n",
      "\u001b[1m722/722\u001b[0m \u001b[32m━━━━━━━━━━━━━━━━━━━━\u001b[0m\u001b[37m\u001b[0m \u001b[1m1s\u001b[0m 2ms/step - accuracy: 0.9434 - loss: 0.1721 - val_accuracy: 0.8673 - val_loss: 0.4770\n",
      "Epoch 41/75\n",
      "\u001b[1m722/722\u001b[0m \u001b[32m━━━━━━━━━━━━━━━━━━━━\u001b[0m\u001b[37m\u001b[0m \u001b[1m1s\u001b[0m 2ms/step - accuracy: 0.9382 - loss: 0.1779 - val_accuracy: 0.8733 - val_loss: 0.4778\n",
      "Epoch 42/75\n",
      "\u001b[1m722/722\u001b[0m \u001b[32m━━━━━━━━━━━━━━━━━━━━\u001b[0m\u001b[37m\u001b[0m \u001b[1m1s\u001b[0m 2ms/step - accuracy: 0.9473 - loss: 0.1554 - val_accuracy: 0.8692 - val_loss: 0.4810\n",
      "Epoch 43/75\n",
      "\u001b[1m722/722\u001b[0m \u001b[32m━━━━━━━━━━━━━━━━━━━━\u001b[0m\u001b[37m\u001b[0m \u001b[1m1s\u001b[0m 2ms/step - accuracy: 0.9459 - loss: 0.1595 - val_accuracy: 0.8772 - val_loss: 0.4697\n",
      "Epoch 44/75\n",
      "\u001b[1m722/722\u001b[0m \u001b[32m━━━━━━━━━━━━━━━━━━━━\u001b[0m\u001b[37m\u001b[0m \u001b[1m1s\u001b[0m 2ms/step - accuracy: 0.9423 - loss: 0.1664 - val_accuracy: 0.8627 - val_loss: 0.5281\n",
      "Epoch 45/75\n",
      "\u001b[1m722/722\u001b[0m \u001b[32m━━━━━━━━━━━━━━━━━━━━\u001b[0m\u001b[37m\u001b[0m \u001b[1m1s\u001b[0m 2ms/step - accuracy: 0.9442 - loss: 0.1632 - val_accuracy: 0.8668 - val_loss: 0.5112\n",
      "Epoch 46/75\n",
      "\u001b[1m722/722\u001b[0m \u001b[32m━━━━━━━━━━━━━━━━━━━━\u001b[0m\u001b[37m\u001b[0m \u001b[1m1s\u001b[0m 2ms/step - accuracy: 0.9463 - loss: 0.1576 - val_accuracy: 0.8565 - val_loss: 0.5574\n",
      "Epoch 47/75\n",
      "\u001b[1m722/722\u001b[0m \u001b[32m━━━━━━━━━━━━━━━━━━━━\u001b[0m\u001b[37m\u001b[0m \u001b[1m1s\u001b[0m 2ms/step - accuracy: 0.9460 - loss: 0.1639 - val_accuracy: 0.8690 - val_loss: 0.5151\n",
      "Epoch 48/75\n",
      "\u001b[1m722/722\u001b[0m \u001b[32m━━━━━━━━━━━━━━━━━━━━\u001b[0m\u001b[37m\u001b[0m \u001b[1m1s\u001b[0m 2ms/step - accuracy: 0.9483 - loss: 0.1461 - val_accuracy: 0.8680 - val_loss: 0.5305\n",
      "Epoch 49/75\n",
      "\u001b[1m722/722\u001b[0m \u001b[32m━━━━━━━━━━━━━━━━━━━━\u001b[0m\u001b[37m\u001b[0m \u001b[1m1s\u001b[0m 2ms/step - accuracy: 0.9482 - loss: 0.1497 - val_accuracy: 0.8661 - val_loss: 0.5543\n",
      "Epoch 50/75\n",
      "\u001b[1m722/722\u001b[0m \u001b[32m━━━━━━━━━━━━━━━━━━━━\u001b[0m\u001b[37m\u001b[0m \u001b[1m1s\u001b[0m 2ms/step - accuracy: 0.9470 - loss: 0.1492 - val_accuracy: 0.8709 - val_loss: 0.5355\n",
      "Epoch 51/75\n",
      "\u001b[1m722/722\u001b[0m \u001b[32m━━━━━━━━━━━━━━━━━━━━\u001b[0m\u001b[37m\u001b[0m \u001b[1m1s\u001b[0m 2ms/step - accuracy: 0.9496 - loss: 0.1416 - val_accuracy: 0.8615 - val_loss: 0.6123\n",
      "Epoch 52/75\n",
      "\u001b[1m722/722\u001b[0m \u001b[32m━━━━━━━━━━━━━━━━━━━━\u001b[0m\u001b[37m\u001b[0m \u001b[1m1s\u001b[0m 2ms/step - accuracy: 0.9521 - loss: 0.1389 - val_accuracy: 0.8646 - val_loss: 0.5535\n",
      "Epoch 53/75\n",
      "\u001b[1m722/722\u001b[0m \u001b[32m━━━━━━━━━━━━━━━━━━━━\u001b[0m\u001b[37m\u001b[0m \u001b[1m1s\u001b[0m 2ms/step - accuracy: 0.9548 - loss: 0.1314 - val_accuracy: 0.8702 - val_loss: 0.5682\n",
      "Epoch 54/75\n",
      "\u001b[1m722/722\u001b[0m \u001b[32m━━━━━━━━━━━━━━━━━━━━\u001b[0m\u001b[37m\u001b[0m \u001b[1m1s\u001b[0m 2ms/step - accuracy: 0.9524 - loss: 0.1373 - val_accuracy: 0.8646 - val_loss: 0.5765\n",
      "Epoch 55/75\n",
      "\u001b[1m722/722\u001b[0m \u001b[32m━━━━━━━━━━━━━━━━━━━━\u001b[0m\u001b[37m\u001b[0m \u001b[1m1s\u001b[0m 2ms/step - accuracy: 0.9523 - loss: 0.1381 - val_accuracy: 0.8622 - val_loss: 0.5777\n",
      "Epoch 56/75\n",
      "\u001b[1m722/722\u001b[0m \u001b[32m━━━━━━━━━━━━━━━━━━━━\u001b[0m\u001b[37m\u001b[0m \u001b[1m1s\u001b[0m 2ms/step - accuracy: 0.9571 - loss: 0.1255 - val_accuracy: 0.8637 - val_loss: 0.5822\n",
      "Epoch 57/75\n",
      "\u001b[1m722/722\u001b[0m \u001b[32m━━━━━━━━━━━━━━━━━━━━\u001b[0m\u001b[37m\u001b[0m \u001b[1m1s\u001b[0m 2ms/step - accuracy: 0.9548 - loss: 0.1284 - val_accuracy: 0.8654 - val_loss: 0.6090\n",
      "Epoch 58/75\n",
      "\u001b[1m722/722\u001b[0m \u001b[32m━━━━━━━━━━━━━━━━━━━━\u001b[0m\u001b[37m\u001b[0m \u001b[1m1s\u001b[0m 2ms/step - accuracy: 0.9559 - loss: 0.1301 - val_accuracy: 0.8610 - val_loss: 0.5935\n",
      "Epoch 59/75\n",
      "\u001b[1m722/722\u001b[0m \u001b[32m━━━━━━━━━━━━━━━━━━━━\u001b[0m\u001b[37m\u001b[0m \u001b[1m1s\u001b[0m 2ms/step - accuracy: 0.9587 - loss: 0.1216 - val_accuracy: 0.8569 - val_loss: 0.5862\n",
      "Epoch 60/75\n",
      "\u001b[1m722/722\u001b[0m \u001b[32m━━━━━━━━━━━━━━━━━━━━\u001b[0m\u001b[37m\u001b[0m \u001b[1m1s\u001b[0m 2ms/step - accuracy: 0.9558 - loss: 0.1232 - val_accuracy: 0.8675 - val_loss: 0.6239\n",
      "Epoch 61/75\n",
      "\u001b[1m722/722\u001b[0m \u001b[32m━━━━━━━━━━━━━━━━━━━━\u001b[0m\u001b[37m\u001b[0m \u001b[1m1s\u001b[0m 2ms/step - accuracy: 0.9603 - loss: 0.1145 - val_accuracy: 0.8644 - val_loss: 0.6502\n",
      "Epoch 62/75\n",
      "\u001b[1m722/722\u001b[0m \u001b[32m━━━━━━━━━━━━━━━━━━━━\u001b[0m\u001b[37m\u001b[0m \u001b[1m1s\u001b[0m 2ms/step - accuracy: 0.9534 - loss: 0.1246 - val_accuracy: 0.8649 - val_loss: 0.6006\n",
      "Epoch 63/75\n",
      "\u001b[1m722/722\u001b[0m \u001b[32m━━━━━━━━━━━━━━━━━━━━\u001b[0m\u001b[37m\u001b[0m \u001b[1m1s\u001b[0m 2ms/step - accuracy: 0.9572 - loss: 0.1216 - val_accuracy: 0.8562 - val_loss: 0.6597\n",
      "Epoch 64/75\n",
      "\u001b[1m722/722\u001b[0m \u001b[32m━━━━━━━━━━━━━━━━━━━━\u001b[0m\u001b[37m\u001b[0m \u001b[1m1s\u001b[0m 2ms/step - accuracy: 0.9604 - loss: 0.1164 - val_accuracy: 0.8586 - val_loss: 0.6641\n",
      "Epoch 65/75\n",
      "\u001b[1m722/722\u001b[0m \u001b[32m━━━━━━━━━━━━━━━━━━━━\u001b[0m\u001b[37m\u001b[0m \u001b[1m1s\u001b[0m 2ms/step - accuracy: 0.9592 - loss: 0.1133 - val_accuracy: 0.8625 - val_loss: 0.6538\n",
      "Epoch 66/75\n",
      "\u001b[1m722/722\u001b[0m \u001b[32m━━━━━━━━━━━━━━━━━━━━\u001b[0m\u001b[37m\u001b[0m \u001b[1m1s\u001b[0m 2ms/step - accuracy: 0.9631 - loss: 0.1047 - val_accuracy: 0.8591 - val_loss: 0.6955\n",
      "Epoch 67/75\n",
      "\u001b[1m722/722\u001b[0m \u001b[32m━━━━━━━━━━━━━━━━━━━━\u001b[0m\u001b[37m\u001b[0m \u001b[1m1s\u001b[0m 2ms/step - accuracy: 0.9566 - loss: 0.1219 - val_accuracy: 0.8586 - val_loss: 0.6677\n",
      "Epoch 68/75\n",
      "\u001b[1m722/722\u001b[0m \u001b[32m━━━━━━━━━━━━━━━━━━━━\u001b[0m\u001b[37m\u001b[0m \u001b[1m1s\u001b[0m 2ms/step - accuracy: 0.9566 - loss: 0.1145 - val_accuracy: 0.8512 - val_loss: 0.7042\n",
      "Epoch 69/75\n",
      "\u001b[1m722/722\u001b[0m \u001b[32m━━━━━━━━━━━━━━━━━━━━\u001b[0m\u001b[37m\u001b[0m \u001b[1m1s\u001b[0m 2ms/step - accuracy: 0.9597 - loss: 0.1154 - val_accuracy: 0.8596 - val_loss: 0.6395\n",
      "Epoch 70/75\n",
      "\u001b[1m722/722\u001b[0m \u001b[32m━━━━━━━━━━━━━━━━━━━━\u001b[0m\u001b[37m\u001b[0m \u001b[1m1s\u001b[0m 2ms/step - accuracy: 0.9661 - loss: 0.0976 - val_accuracy: 0.8630 - val_loss: 0.7206\n",
      "Epoch 71/75\n",
      "\u001b[1m722/722\u001b[0m \u001b[32m━━━━━━━━━━━━━━━━━━━━\u001b[0m\u001b[37m\u001b[0m \u001b[1m1s\u001b[0m 2ms/step - accuracy: 0.9604 - loss: 0.1104 - val_accuracy: 0.8603 - val_loss: 0.6857\n",
      "Epoch 72/75\n",
      "\u001b[1m722/722\u001b[0m \u001b[32m━━━━━━━━━━━━━━━━━━━━\u001b[0m\u001b[37m\u001b[0m \u001b[1m1s\u001b[0m 2ms/step - accuracy: 0.9606 - loss: 0.1119 - val_accuracy: 0.8593 - val_loss: 0.7510\n",
      "Epoch 73/75\n",
      "\u001b[1m722/722\u001b[0m \u001b[32m━━━━━━━━━━━━━━━━━━━━\u001b[0m\u001b[37m\u001b[0m \u001b[1m1s\u001b[0m 2ms/step - accuracy: 0.9607 - loss: 0.1118 - val_accuracy: 0.8658 - val_loss: 0.6715\n",
      "Epoch 74/75\n",
      "\u001b[1m722/722\u001b[0m \u001b[32m━━━━━━━━━━━━━━━━━━━━\u001b[0m\u001b[37m\u001b[0m \u001b[1m1s\u001b[0m 2ms/step - accuracy: 0.9643 - loss: 0.1042 - val_accuracy: 0.8555 - val_loss: 0.6766\n",
      "Epoch 75/75\n",
      "\u001b[1m722/722\u001b[0m \u001b[32m━━━━━━━━━━━━━━━━━━━━\u001b[0m\u001b[37m\u001b[0m \u001b[1m1s\u001b[0m 2ms/step - accuracy: 0.9643 - loss: 0.1024 - val_accuracy: 0.8671 - val_loss: 0.7338\n"
     ]
    }
   ],
   "source": [
    "history=model.fit(x,y,epochs=75,batch_size=23, validation_split=.20, verbose=1)"
   ]
  },
  {
   "cell_type": "code",
   "execution_count": 70,
   "id": "8c61f13f-7799-4d2f-af98-3ec86300e152",
   "metadata": {},
   "outputs": [
    {
     "name": "stdout",
     "output_type": "stream",
     "text": [
      "\u001b[1m433/433\u001b[0m \u001b[32m━━━━━━━━━━━━━━━━━━━━\u001b[0m\u001b[37m\u001b[0m \u001b[1m1s\u001b[0m 1ms/step\n"
     ]
    }
   ],
   "source": [
    "dosya[\"NObeyesdad\"]=model.predict(test)"
   ]
  },
  {
   "cell_type": "code",
   "execution_count": 71,
   "id": "3a7e86cb-8537-4bd0-9d60-dc6179306378",
   "metadata": {},
   "outputs": [],
   "source": [
    "dosya[\"NObeyesdad\"]=dosya[\"NObeyesdad\"].map(dt)"
   ]
  },
  {
   "cell_type": "code",
   "execution_count": 72,
   "id": "6648187d-f571-4097-9300-5683e207e7c6",
   "metadata": {},
   "outputs": [
    {
     "data": {
      "text/html": [
       "<div>\n",
       "<style scoped>\n",
       "    .dataframe tbody tr th:only-of-type {\n",
       "        vertical-align: middle;\n",
       "    }\n",
       "\n",
       "    .dataframe tbody tr th {\n",
       "        vertical-align: top;\n",
       "    }\n",
       "\n",
       "    .dataframe thead th {\n",
       "        text-align: right;\n",
       "    }\n",
       "</style>\n",
       "<table border=\"1\" class=\"dataframe\">\n",
       "  <thead>\n",
       "    <tr style=\"text-align: right;\">\n",
       "      <th></th>\n",
       "      <th>id</th>\n",
       "      <th>NObeyesdad</th>\n",
       "    </tr>\n",
       "  </thead>\n",
       "  <tbody>\n",
       "    <tr>\n",
       "      <th>0</th>\n",
       "      <td>20758</td>\n",
       "      <td>Obesity_Type_III</td>\n",
       "    </tr>\n",
       "    <tr>\n",
       "      <th>1</th>\n",
       "      <td>20759</td>\n",
       "      <td>Obesity_Type_III</td>\n",
       "    </tr>\n",
       "    <tr>\n",
       "      <th>2</th>\n",
       "      <td>20760</td>\n",
       "      <td>Obesity_Type_III</td>\n",
       "    </tr>\n",
       "    <tr>\n",
       "      <th>3</th>\n",
       "      <td>20761</td>\n",
       "      <td>Obesity_Type_III</td>\n",
       "    </tr>\n",
       "    <tr>\n",
       "      <th>4</th>\n",
       "      <td>20762</td>\n",
       "      <td>Obesity_Type_III</td>\n",
       "    </tr>\n",
       "    <tr>\n",
       "      <th>...</th>\n",
       "      <td>...</td>\n",
       "      <td>...</td>\n",
       "    </tr>\n",
       "    <tr>\n",
       "      <th>13835</th>\n",
       "      <td>34593</td>\n",
       "      <td>Obesity_Type_III</td>\n",
       "    </tr>\n",
       "    <tr>\n",
       "      <th>13836</th>\n",
       "      <td>34594</td>\n",
       "      <td>Obesity_Type_III</td>\n",
       "    </tr>\n",
       "    <tr>\n",
       "      <th>13837</th>\n",
       "      <td>34595</td>\n",
       "      <td>Obesity_Type_III</td>\n",
       "    </tr>\n",
       "    <tr>\n",
       "      <th>13838</th>\n",
       "      <td>34596</td>\n",
       "      <td>Obesity_Type_III</td>\n",
       "    </tr>\n",
       "    <tr>\n",
       "      <th>13839</th>\n",
       "      <td>34597</td>\n",
       "      <td>Obesity_Type_III</td>\n",
       "    </tr>\n",
       "  </tbody>\n",
       "</table>\n",
       "<p>13840 rows × 2 columns</p>\n",
       "</div>"
      ],
      "text/plain": [
       "          id        NObeyesdad\n",
       "0      20758  Obesity_Type_III\n",
       "1      20759  Obesity_Type_III\n",
       "2      20760  Obesity_Type_III\n",
       "3      20761  Obesity_Type_III\n",
       "4      20762  Obesity_Type_III\n",
       "...      ...               ...\n",
       "13835  34593  Obesity_Type_III\n",
       "13836  34594  Obesity_Type_III\n",
       "13837  34595  Obesity_Type_III\n",
       "13838  34596  Obesity_Type_III\n",
       "13839  34597  Obesity_Type_III\n",
       "\n",
       "[13840 rows x 2 columns]"
      ]
     },
     "execution_count": 72,
     "metadata": {},
     "output_type": "execute_result"
    }
   ],
   "source": [
    "dosya"
   ]
  },
  {
   "cell_type": "code",
   "execution_count": 73,
   "id": "9dc8e209-eb6c-4a3b-b0d9-4f9ff3959b42",
   "metadata": {},
   "outputs": [],
   "source": [
    "dosya.to_csv(\"tahmin2.csv\",index=False)"
   ]
  },
  {
   "cell_type": "markdown",
   "id": "ce98d931-297a-4215-a425-ac70cf7e1f96",
   "metadata": {},
   "source": [
    "Sonuc olarak modelimizi hem ML hem de DL kullanarak eğittik ve Kaggle da test ettirdik. Ardından da sreamlit uygulaması olusturduk."
   ]
  }
 ],
 "metadata": {
  "kernelspec": {
   "display_name": "Python [conda env:base] *",
   "language": "python",
   "name": "conda-base-py"
  },
  "language_info": {
   "codemirror_mode": {
    "name": "ipython",
    "version": 3
   },
   "file_extension": ".py",
   "mimetype": "text/x-python",
   "name": "python",
   "nbconvert_exporter": "python",
   "pygments_lexer": "ipython3",
   "version": "3.13.5"
  }
 },
 "nbformat": 4,
 "nbformat_minor": 5
}
