{
 "cells": [
  {
   "cell_type": "markdown",
   "id": "9c383340-c57a-45fd-8bcc-b3be11e51d76",
   "metadata": {},
   "source": [
    "# Pistachio Classification"
   ]
  },
  {
   "cell_type": "markdown",
   "id": "d990b084-bde6-4c1f-b28f-67074ce63644",
   "metadata": {},
   "source": [
    "<img src=\"https://www.makbul.com/Content/global/images/products/1/131/ORG-antep-fistigi-kg886.jpg\">"
   ]
  },
  {
   "cell_type": "markdown",
   "id": "47945d11-e363-4d37-8346-29b7ef8041aa",
   "metadata": {},
   "source": [
    "Bu projemizde antep fıstıklarını CNN ve Transfer Learning(ResNet50) kullanrak sınıflandıracağız"
   ]
  },
  {
   "cell_type": "markdown",
   "id": "f7563f94-0bd8-4908-be19-1d410bc1c630",
   "metadata": {},
   "source": [
    "<a href=\"https://www.muratkoklu.com/datasets/\">Dataya Buradan Erişebilirsiniz</a>"
   ]
  },
  {
   "cell_type": "code",
   "execution_count": 1,
   "id": "b4249ea1-864f-4c1b-83f1-2101c886d050",
   "metadata": {},
   "outputs": [],
   "source": [
    "import cv2 \n",
    "import pandas as pd\n",
    "import os\n",
    "\n",
    "import warnings\n",
    "warnings.filterwarnings(\"ignore\")\n",
    "\n",
    "import matplotlib.pyplot as plt\n",
    "import numpy as np\n",
    "\n",
    "from sklearn.model_selection import train_test_split"
   ]
  },
  {
   "cell_type": "code",
   "execution_count": 2,
   "id": "f20b5856-c9e4-47c8-9a6f-e18d65aa7235",
   "metadata": {},
   "outputs": [],
   "source": [
    "img_path=\"Pistachio_Image_Dataset/\"\n",
    "labels=os.listdir(\"Pistachio_Image_Dataset\")"
   ]
  },
  {
   "cell_type": "code",
   "execution_count": 3,
   "id": "7bc69d5b-72cc-439c-8d57-eb85cf0cfcc0",
   "metadata": {},
   "outputs": [
    {
     "data": {
      "text/plain": [
       "['Kirmizi_Pistachio', 'Siirt_Pistachio']"
      ]
     },
     "execution_count": 3,
     "metadata": {},
     "output_type": "execute_result"
    }
   ],
   "source": [
    "labels"
   ]
  },
  {
   "cell_type": "code",
   "execution_count": 4,
   "id": "15e5056b-276a-4b09-980b-6c3e7d6dfbbd",
   "metadata": {},
   "outputs": [],
   "source": [
    "# Dosyadan Resim okuma\n",
    "img_list=[]\n",
    "label_list=[]\n",
    "for label in labels:\n",
    "    for img_file in os.listdir(img_path+label):\n",
    "        img_list.append(img_path+label+\"/\"+img_file)\n",
    "        label_list.append(label)"
   ]
  },
  {
   "cell_type": "code",
   "execution_count": 5,
   "id": "22184e2e-35c9-4705-bae0-c9d5b781ab97",
   "metadata": {},
   "outputs": [],
   "source": [
    "df=pd.DataFrame({\"img\":img_list,\"label\":label_list})"
   ]
  },
  {
   "cell_type": "code",
   "execution_count": 6,
   "id": "11618e09-1542-409e-b8dd-6cb8b4c3a880",
   "metadata": {},
   "outputs": [
    {
     "data": {
      "text/html": [
       "<div>\n",
       "<style scoped>\n",
       "    .dataframe tbody tr th:only-of-type {\n",
       "        vertical-align: middle;\n",
       "    }\n",
       "\n",
       "    .dataframe tbody tr th {\n",
       "        vertical-align: top;\n",
       "    }\n",
       "\n",
       "    .dataframe thead th {\n",
       "        text-align: right;\n",
       "    }\n",
       "</style>\n",
       "<table border=\"1\" class=\"dataframe\">\n",
       "  <thead>\n",
       "    <tr style=\"text-align: right;\">\n",
       "      <th></th>\n",
       "      <th>img</th>\n",
       "      <th>label</th>\n",
       "    </tr>\n",
       "  </thead>\n",
       "  <tbody>\n",
       "    <tr>\n",
       "      <th>1313</th>\n",
       "      <td>Pistachio_Image_Dataset/Siirt_Pistachio/siirt ...</td>\n",
       "      <td>Siirt_Pistachio</td>\n",
       "    </tr>\n",
       "    <tr>\n",
       "      <th>1019</th>\n",
       "      <td>Pistachio_Image_Dataset/Kirmizi_Pistachio/kirm...</td>\n",
       "      <td>Kirmizi_Pistachio</td>\n",
       "    </tr>\n",
       "    <tr>\n",
       "      <th>1185</th>\n",
       "      <td>Pistachio_Image_Dataset/Kirmizi_Pistachio/kirm...</td>\n",
       "      <td>Kirmizi_Pistachio</td>\n",
       "    </tr>\n",
       "    <tr>\n",
       "      <th>686</th>\n",
       "      <td>Pistachio_Image_Dataset/Kirmizi_Pistachio/kirm...</td>\n",
       "      <td>Kirmizi_Pistachio</td>\n",
       "    </tr>\n",
       "    <tr>\n",
       "      <th>1997</th>\n",
       "      <td>Pistachio_Image_Dataset/Siirt_Pistachio/siirt ...</td>\n",
       "      <td>Siirt_Pistachio</td>\n",
       "    </tr>\n",
       "  </tbody>\n",
       "</table>\n",
       "</div>"
      ],
      "text/plain": [
       "                                                    img              label\n",
       "1313  Pistachio_Image_Dataset/Siirt_Pistachio/siirt ...    Siirt_Pistachio\n",
       "1019  Pistachio_Image_Dataset/Kirmizi_Pistachio/kirm...  Kirmizi_Pistachio\n",
       "1185  Pistachio_Image_Dataset/Kirmizi_Pistachio/kirm...  Kirmizi_Pistachio\n",
       "686   Pistachio_Image_Dataset/Kirmizi_Pistachio/kirm...  Kirmizi_Pistachio\n",
       "1997  Pistachio_Image_Dataset/Siirt_Pistachio/siirt ...    Siirt_Pistachio"
      ]
     },
     "execution_count": 6,
     "metadata": {},
     "output_type": "execute_result"
    }
   ],
   "source": [
    "df.sample(5)"
   ]
  },
  {
   "cell_type": "code",
   "execution_count": 7,
   "id": "91cd4723-46e9-4475-97d2-10e19f9031b3",
   "metadata": {},
   "outputs": [],
   "source": [
    "d={\"Kirmizi_Pistachio\":0,\"Siirt_Pistachio\":1}"
   ]
  },
  {
   "cell_type": "code",
   "execution_count": 8,
   "id": "cfed6c89-6cba-4625-bbc8-e96100b1a535",
   "metadata": {},
   "outputs": [],
   "source": [
    "df[\"encode_label\"]=df[\"label\"].map(d)"
   ]
  },
  {
   "cell_type": "code",
   "execution_count": 9,
   "id": "4278d9d1-9960-4c91-a123-d499dae42585",
   "metadata": {},
   "outputs": [
    {
     "data": {
      "text/html": [
       "<div>\n",
       "<style scoped>\n",
       "    .dataframe tbody tr th:only-of-type {\n",
       "        vertical-align: middle;\n",
       "    }\n",
       "\n",
       "    .dataframe tbody tr th {\n",
       "        vertical-align: top;\n",
       "    }\n",
       "\n",
       "    .dataframe thead th {\n",
       "        text-align: right;\n",
       "    }\n",
       "</style>\n",
       "<table border=\"1\" class=\"dataframe\">\n",
       "  <thead>\n",
       "    <tr style=\"text-align: right;\">\n",
       "      <th></th>\n",
       "      <th>img</th>\n",
       "      <th>label</th>\n",
       "      <th>encode_label</th>\n",
       "    </tr>\n",
       "  </thead>\n",
       "  <tbody>\n",
       "    <tr>\n",
       "      <th>434</th>\n",
       "      <td>Pistachio_Image_Dataset/Kirmizi_Pistachio/kirm...</td>\n",
       "      <td>Kirmizi_Pistachio</td>\n",
       "      <td>0</td>\n",
       "    </tr>\n",
       "    <tr>\n",
       "      <th>444</th>\n",
       "      <td>Pistachio_Image_Dataset/Kirmizi_Pistachio/kirm...</td>\n",
       "      <td>Kirmizi_Pistachio</td>\n",
       "      <td>0</td>\n",
       "    </tr>\n",
       "    <tr>\n",
       "      <th>344</th>\n",
       "      <td>Pistachio_Image_Dataset/Kirmizi_Pistachio/kirm...</td>\n",
       "      <td>Kirmizi_Pistachio</td>\n",
       "      <td>0</td>\n",
       "    </tr>\n",
       "    <tr>\n",
       "      <th>913</th>\n",
       "      <td>Pistachio_Image_Dataset/Kirmizi_Pistachio/kirm...</td>\n",
       "      <td>Kirmizi_Pistachio</td>\n",
       "      <td>0</td>\n",
       "    </tr>\n",
       "    <tr>\n",
       "      <th>575</th>\n",
       "      <td>Pistachio_Image_Dataset/Kirmizi_Pistachio/kirm...</td>\n",
       "      <td>Kirmizi_Pistachio</td>\n",
       "      <td>0</td>\n",
       "    </tr>\n",
       "  </tbody>\n",
       "</table>\n",
       "</div>"
      ],
      "text/plain": [
       "                                                   img              label  \\\n",
       "434  Pistachio_Image_Dataset/Kirmizi_Pistachio/kirm...  Kirmizi_Pistachio   \n",
       "444  Pistachio_Image_Dataset/Kirmizi_Pistachio/kirm...  Kirmizi_Pistachio   \n",
       "344  Pistachio_Image_Dataset/Kirmizi_Pistachio/kirm...  Kirmizi_Pistachio   \n",
       "913  Pistachio_Image_Dataset/Kirmizi_Pistachio/kirm...  Kirmizi_Pistachio   \n",
       "575  Pistachio_Image_Dataset/Kirmizi_Pistachio/kirm...  Kirmizi_Pistachio   \n",
       "\n",
       "     encode_label  \n",
       "434             0  \n",
       "444             0  \n",
       "344             0  \n",
       "913             0  \n",
       "575             0  "
      ]
     },
     "execution_count": 9,
     "metadata": {},
     "output_type": "execute_result"
    }
   ],
   "source": [
    "df.sample(5)"
   ]
  },
  {
   "cell_type": "code",
   "execution_count": 10,
   "id": "1a1a7579-a414-47db-9f48-01f9e9b7b5c9",
   "metadata": {},
   "outputs": [],
   "source": [
    "x=[]\n",
    "for img in df[\"img\"]:\n",
    "    img=cv2.imread(img)\n",
    "    img=cv2.resize(img,(96,96))\n",
    "    img=img/255\n",
    "    x.append(img)\n",
    "    "
   ]
  },
  {
   "cell_type": "code",
   "execution_count": 11,
   "id": "2f3e9921-b424-417e-9388-37b2f7bb9e52",
   "metadata": {},
   "outputs": [],
   "source": [
    "x=np.array(x)"
   ]
  },
  {
   "cell_type": "code",
   "execution_count": 12,
   "id": "b092a7ea-e209-4da8-aa88-5385368b4ff3",
   "metadata": {},
   "outputs": [],
   "source": [
    "y=df[\"encode_label\"]"
   ]
  },
  {
   "cell_type": "code",
   "execution_count": 13,
   "id": "70ec5d6f-fba9-4bf3-96d0-74b8f65610ff",
   "metadata": {},
   "outputs": [],
   "source": [
    "x_train,x_test,y_train,y_test=train_test_split(x,y,test_size=.2,random_state=42)"
   ]
  },
  {
   "cell_type": "code",
   "execution_count": 14,
   "id": "1ca1cd9d-e71a-457b-9dfc-7dc7bed64a9d",
   "metadata": {},
   "outputs": [],
   "source": [
    "from keras.models import Sequential\n",
    "from keras.layers import Conv2D, Dense, Flatten, Input, MaxPooling2D, Dropout, BatchNormalization, Reshape"
   ]
  },
  {
   "cell_type": "code",
   "execution_count": 15,
   "id": "972f784f-acdc-413a-b6a0-708237d322fa",
   "metadata": {},
   "outputs": [],
   "source": [
    "model=Sequential()\n",
    "model.add(Input(shape=(96,96,3)))\n",
    "model.add(Conv2D(32,kernel_size=(3,3),activation=\"relu\"))  # Görüntüden özellikleri çıkartır.\n",
    "model.add(MaxPooling2D(pool_size=(2,2)))   # Özellikleri özetler ve boyutu küçültür.\n",
    "model.add(BatchNormalization())\n",
    "model.add(Dropout(0.25))\n",
    "model.add(Conv2D(64,kernel_size=(3,3),activation=\"relu\"))\n",
    "model.add(BatchNormalization())\n",
    "model.add(MaxPooling2D(pool_size=(2,2)))\n",
    "model.add(Dropout(0.25))\n",
    "model.add(Flatten())  # Girdiyi Tek Boyutlu bir diziye dönüştürür\n",
    "model.add(BatchNormalization())\n",
    "model.add(Dense(128))\n",
    "model.add(Dense(2,activation=\"softmax\"))\n",
    "model.compile(optimizer=\"adam\",loss=\"sparse_categorical_crossentropy\",metrics=[\"accuracy\"])"
   ]
  },
  {
   "cell_type": "code",
   "execution_count": null,
   "id": "e4d980df-b3dd-40c1-a875-e4bf836a9182",
   "metadata": {},
   "outputs": [
    {
     "name": "stdout",
     "output_type": "stream",
     "text": [
      "Epoch 1/20\n",
      "\u001b[1m54/54\u001b[0m \u001b[32m━━━━━━━━━━━━━━━━━━━━\u001b[0m\u001b[37m\u001b[0m \u001b[1m7s\u001b[0m 86ms/step - accuracy: 0.7500 - loss: 2.9853 - val_accuracy: 0.5674 - val_loss: 7.2367\n",
      "Epoch 2/20\n",
      "\u001b[1m54/54\u001b[0m \u001b[32m━━━━━━━━━━━━━━━━━━━━\u001b[0m\u001b[37m\u001b[0m \u001b[1m4s\u001b[0m 81ms/step - accuracy: 0.8365 - loss: 1.4527 - val_accuracy: 0.5674 - val_loss: 4.3931\n",
      "Epoch 3/20\n",
      "\u001b[1m54/54\u001b[0m \u001b[32m━━━━━━━━━━━━━━━━━━━━\u001b[0m\u001b[37m\u001b[0m \u001b[1m4s\u001b[0m 81ms/step - accuracy: 0.8495 - loss: 0.5584 - val_accuracy: 0.5674 - val_loss: 2.2331\n",
      "Epoch 4/20\n",
      "\u001b[1m54/54\u001b[0m \u001b[32m━━━━━━━━━━━━━━━━━━━━\u001b[0m\u001b[37m\u001b[0m \u001b[1m4s\u001b[0m 82ms/step - accuracy: 0.8617 - loss: 0.3620 - val_accuracy: 0.5698 - val_loss: 1.3023\n",
      "Epoch 5/20\n",
      "\u001b[1m54/54\u001b[0m \u001b[32m━━━━━━━━━━━━━━━━━━━━\u001b[0m\u001b[37m\u001b[0m \u001b[1m4s\u001b[0m 83ms/step - accuracy: 0.8747 - loss: 0.2988 - val_accuracy: 0.6023 - val_loss: 0.7624\n",
      "Epoch 6/20\n",
      "\u001b[1m54/54\u001b[0m \u001b[32m━━━━━━━━━━━━━━━━━━━━\u001b[0m\u001b[37m\u001b[0m \u001b[1m5s\u001b[0m 83ms/step - accuracy: 0.8873 - loss: 0.2680 - val_accuracy: 0.8512 - val_loss: 0.3622\n",
      "Epoch 7/20\n",
      "\u001b[1m54/54\u001b[0m \u001b[32m━━━━━━━━━━━━━━━━━━━━\u001b[0m\u001b[37m\u001b[0m \u001b[1m5s\u001b[0m 84ms/step - accuracy: 0.8845 - loss: 0.2881 - val_accuracy: 0.8581 - val_loss: 0.3486\n",
      "Epoch 8/20\n",
      "\u001b[1m54/54\u001b[0m \u001b[32m━━━━━━━━━━━━━━━━━━━━\u001b[0m\u001b[37m\u001b[0m \u001b[1m5s\u001b[0m 90ms/step - accuracy: 0.8973 - loss: 0.2525 - val_accuracy: 0.8395 - val_loss: 0.3922\n",
      "Epoch 9/20\n",
      "\u001b[1m54/54\u001b[0m \u001b[32m━━━━━━━━━━━━━━━━━━━━\u001b[0m\u001b[37m\u001b[0m \u001b[1m5s\u001b[0m 92ms/step - accuracy: 0.9048 - loss: 0.2412 - val_accuracy: 0.8535 - val_loss: 0.3420\n",
      "Epoch 10/20\n",
      "\u001b[1m54/54\u001b[0m \u001b[32m━━━━━━━━━━━━━━━━━━━━\u001b[0m\u001b[37m\u001b[0m \u001b[1m5s\u001b[0m 85ms/step - accuracy: 0.8926 - loss: 0.2537 - val_accuracy: 0.8488 - val_loss: 0.3750\n",
      "Epoch 11/20\n",
      "\u001b[1m54/54\u001b[0m \u001b[32m━━━━━━━━━━━━━━━━━━━━\u001b[0m\u001b[37m\u001b[0m \u001b[1m5s\u001b[0m 84ms/step - accuracy: 0.9032 - loss: 0.2304 - val_accuracy: 0.8744 - val_loss: 0.2974\n",
      "Epoch 12/20\n",
      "\u001b[1m54/54\u001b[0m \u001b[32m━━━━━━━━━━━━━━━━━━━━\u001b[0m\u001b[37m\u001b[0m \u001b[1m5s\u001b[0m 83ms/step - accuracy: 0.9137 - loss: 0.2162 - val_accuracy: 0.8651 - val_loss: 0.3115\n",
      "Epoch 13/20\n",
      "\u001b[1m54/54\u001b[0m \u001b[32m━━━━━━━━━━━━━━━━━━━━\u001b[0m\u001b[37m\u001b[0m \u001b[1m5s\u001b[0m 83ms/step - accuracy: 0.9254 - loss: 0.1912 - val_accuracy: 0.8581 - val_loss: 0.3404\n",
      "Epoch 14/20\n",
      "\u001b[1m54/54\u001b[0m \u001b[32m━━━━━━━━━━━━━━━━━━━━\u001b[0m\u001b[37m\u001b[0m \u001b[1m5s\u001b[0m 84ms/step - accuracy: 0.9157 - loss: 0.1951 - val_accuracy: 0.8023 - val_loss: 0.4921\n",
      "Epoch 15/20\n",
      "\u001b[1m54/54\u001b[0m \u001b[32m━━━━━━━━━━━━━━━━━━━━\u001b[0m\u001b[37m\u001b[0m \u001b[1m5s\u001b[0m 91ms/step - accuracy: 0.9078 - loss: 0.2023 - val_accuracy: 0.8721 - val_loss: 0.3116\n",
      "Epoch 16/20\n",
      "\u001b[1m54/54\u001b[0m \u001b[32m━━━━━━━━━━━━━━━━━━━━\u001b[0m\u001b[37m\u001b[0m \u001b[1m5s\u001b[0m 93ms/step - accuracy: 0.9202 - loss: 0.2057 - val_accuracy: 0.7884 - val_loss: 0.5153\n",
      "Epoch 17/20\n",
      "\u001b[1m54/54\u001b[0m \u001b[32m━━━━━━━━━━━━━━━━━━━━\u001b[0m\u001b[37m\u001b[0m \u001b[1m5s\u001b[0m 95ms/step - accuracy: 0.9374 - loss: 0.1721 - val_accuracy: 0.8953 - val_loss: 0.2552\n",
      "Epoch 18/20\n",
      "\u001b[1m54/54\u001b[0m \u001b[32m━━━━━━━━━━━━━━━━━━━━\u001b[0m\u001b[37m\u001b[0m \u001b[1m5s\u001b[0m 89ms/step - accuracy: 0.9316 - loss: 0.1732 - val_accuracy: 0.9047 - val_loss: 0.2463\n",
      "Epoch 19/20\n",
      "\u001b[1m 4/54\u001b[0m \u001b[32m━\u001b[0m\u001b[37m━━━━━━━━━━━━━━━━━━━\u001b[0m \u001b[1m4s\u001b[0m 87ms/step - accuracy: 0.9043 - loss: 0.1501"
     ]
    }
   ],
   "source": [
    "history=model.fit(x_train,y_train,validation_data=(x_test,y_test),epochs=20,verbose=1)"
   ]
  },
  {
   "cell_type": "code",
   "execution_count": 46,
   "id": "1743ed1a-cb3d-4c33-9061-d922f0e6f0c9",
   "metadata": {},
   "outputs": [
    {
     "data": {
      "image/png": "[encoded data removed]",
      "text/plain": [
       "<Figure size 640x480 with 1 Axes>"
      ]
     },
     "metadata": {},
     "output_type": "display_data"
    }
   ],
   "source": [
    "image_path = \"Pistachio_Image_Dataset\\Kirmizi_Pistachio\\kirmizi (10).jpg\"  # Görüntü dosyasının yolu\n",
    "img = cv2.imread(image_path)  # Görüntüyü yükleme\n",
    "img = cv2.cvtColor(img, cv2.COLOR_BGR2RGB)  # OpenCV, görüntüyü BGR formatında yükler; RGB'ye dönüştürelim\n",
    "plt.imshow(img)# Görüntüyü gösterme\n",
    "plt.axis('off')  # Eksenleri gizleme\n",
    "plt.show()"
   ]
  },
  {
   "cell_type": "code",
   "execution_count": 47,
   "id": "004258e7-a710-4d22-93bb-573b281ccaa6",
   "metadata": {},
   "outputs": [],
   "source": [
    "def oz_çık(img):\n",
    "    img=cv2.imread(img)\n",
    "    img=cv2.resize(img,(96,96))\n",
    "    img=img/255\n",
    "    img=np.expand_dims(img,axis=0) # Modelin boyutunu arttırıyor\n",
    "    return img"
   ]
  },
  {
   "cell_type": "code",
   "execution_count": 48,
   "id": "2b4ce736-f980-465b-bf5d-a09f5d16dc21",
   "metadata": {},
   "outputs": [],
   "source": [
    "image=oz_çık(\"Pistachio_Image_Dataset\\Kirmizi_Pistachio\\kirmizi (10).jpg\")"
   ]
  },
  {
   "cell_type": "code",
   "execution_count": 49,
   "id": "129766a7-5a0e-4428-a211-4b0764450041",
   "metadata": {},
   "outputs": [
    {
     "name": "stdout",
     "output_type": "stream",
     "text": [
      "\u001b[1m1/1\u001b[0m \u001b[32m━━━━━━━━━━━━━━━━━━━━\u001b[0m\u001b[37m\u001b[0m \u001b[1m0s\u001b[0m 72ms/step\n"
     ]
    }
   ],
   "source": [
    "prediction=model.predict(image)"
   ]
  },
  {
   "cell_type": "code",
   "execution_count": 52,
   "id": "bbe17003-4d14-4c4a-9e9c-7faf08365ad6",
   "metadata": {},
   "outputs": [],
   "source": [
    "predicted_class=np.argmax(prediction)"
   ]
  },
  {
   "cell_type": "code",
   "execution_count": 53,
   "id": "487b3d40-5732-47c8-a57d-7251970080e9",
   "metadata": {},
   "outputs": [
    {
     "data": {
      "text/plain": [
       "0"
      ]
     },
     "execution_count": 53,
     "metadata": {},
     "output_type": "execute_result"
    }
   ],
   "source": [
    "predicted_class"
   ]
  },
  {
   "cell_type": "code",
   "execution_count": 54,
   "id": "94bfc4ba-31a4-4803-bbc6-770c50b4ee7c",
   "metadata": {},
   "outputs": [],
   "source": [
    "#{\"Kirmizi_Pistachio\":0,\"Siirt_Pistachio\":1}"
   ]
  },
  {
   "cell_type": "code",
   "execution_count": 55,
   "id": "a155d64a-5429-42bb-b1f9-0047341c3491",
   "metadata": {},
   "outputs": [
    {
     "name": "stderr",
     "output_type": "stream",
     "text": [
      "WARNING:absl:You are saving your model as an HDF5 file via `model.save()` or `keras.saving.save_model(model)`. This file format is considered legacy. We recommend using instead the native Keras format, e.g. `model.save('my_model.keras')` or `keras.saving.save_model(model, 'my_model.keras')`. \n"
     ]
    }
   ],
   "source": [
    "model.save(\"fistik.h5\")"
   ]
  },
  {
   "cell_type": "markdown",
   "id": "27c14958-6322-46b6-babe-45b67515d3df",
   "metadata": {},
   "source": [
    "# ResNet50 ile"
   ]
  },
  {
   "cell_type": "code",
   "execution_count": 1,
   "id": "04daca67-6b23-40ad-8721-36d9301d32f4",
   "metadata": {},
   "outputs": [],
   "source": [
    "from keras.models import Sequential\n",
    "from keras.layers import Conv2D,Dense,Flatten, Input, MaxPooling2D, Dropout, BatchNormalization, Reshape\n",
    "from tensorflow.keras.applications import VGG16, ResNet50\n",
    "from tensorflow.keras.preprocessing.image import ImageDataGenerator # Tek satırda resimlerin tamamını okumaya yarıyor"
   ]
  },
  {
   "cell_type": "code",
   "execution_count": 2,
   "id": "5654b15f-cc06-4f47-868d-a1df1f1cb215",
   "metadata": {},
   "outputs": [
    {
     "name": "stdout",
     "output_type": "stream",
     "text": [
      "Found 1719 images belonging to 2 classes.\n",
      "Found 429 images belonging to 2 classes.\n",
      "Epoch 1/10\n"
     ]
    },
    {
     "name": "stderr",
     "output_type": "stream",
     "text": [
      "C:\\Users\\erkan\\anaconda3\\Lib\\site-packages\\keras\\src\\trainers\\data_adapters\\py_dataset_adapter.py:121: UserWarning: Your `PyDataset` class should call `super().__init__(**kwargs)` in its constructor. `**kwargs` can include `workers`, `use_multiprocessing`, `max_queue_size`. Do not pass these arguments to `fit()`, as they will be ignored.\n",
      "  self._warn_if_super_not_called()\n"
     ]
    },
    {
     "name": "stdout",
     "output_type": "stream",
     "text": [
      "\u001b[1m54/54\u001b[0m \u001b[32m━━━━━━━━━━━━━━━━━━━━\u001b[0m\u001b[37m\u001b[0m \u001b[1m83s\u001b[0m 1s/step - accuracy: 0.5908 - loss: 8.6294 - val_accuracy: 0.8182 - val_loss: 0.4362\n",
      "Epoch 2/10\n",
      "\u001b[1m54/54\u001b[0m \u001b[32m━━━━━━━━━━━━━━━━━━━━\u001b[0m\u001b[37m\u001b[0m \u001b[1m71s\u001b[0m 1s/step - accuracy: 0.8130 - loss: 0.4001 - val_accuracy: 0.8368 - val_loss: 0.3718\n",
      "Epoch 3/10\n",
      "\u001b[1m54/54\u001b[0m \u001b[32m━━━━━━━━━━━━━━━━━━━━\u001b[0m\u001b[37m\u001b[0m \u001b[1m68s\u001b[0m 1s/step - accuracy: 0.8651 - loss: 0.3318 - val_accuracy: 0.8695 - val_loss: 0.3185\n",
      "Epoch 4/10\n",
      "\u001b[1m54/54\u001b[0m \u001b[32m━━━━━━━━━━━━━━━━━━━━\u001b[0m\u001b[37m\u001b[0m \u001b[1m67s\u001b[0m 1s/step - accuracy: 0.8739 - loss: 0.3001 - val_accuracy: 0.8601 - val_loss: 0.3227\n",
      "Epoch 5/10\n",
      "\u001b[1m54/54\u001b[0m \u001b[32m━━━━━━━━━━━━━━━━━━━━\u001b[0m\u001b[37m\u001b[0m \u001b[1m69s\u001b[0m 1s/step - accuracy: 0.8852 - loss: 0.2837 - val_accuracy: 0.8648 - val_loss: 0.3255\n",
      "Epoch 6/10\n",
      "\u001b[1m54/54\u001b[0m \u001b[32m━━━━━━━━━━━━━━━━━━━━\u001b[0m\u001b[37m\u001b[0m \u001b[1m69s\u001b[0m 1s/step - accuracy: 0.8937 - loss: 0.2492 - val_accuracy: 0.8159 - val_loss: 0.4264\n",
      "Epoch 7/10\n",
      "\u001b[1m54/54\u001b[0m \u001b[32m━━━━━━━━━━━━━━━━━━━━\u001b[0m\u001b[37m\u001b[0m \u001b[1m70s\u001b[0m 1s/step - accuracy: 0.8840 - loss: 0.2578 - val_accuracy: 0.8695 - val_loss: 0.2977\n",
      "Epoch 8/10\n",
      "\u001b[1m54/54\u001b[0m \u001b[32m━━━━━━━━━━━━━━━━━━━━\u001b[0m\u001b[37m\u001b[0m \u001b[1m70s\u001b[0m 1s/step - accuracy: 0.8993 - loss: 0.2585 - val_accuracy: 0.6876 - val_loss: 0.6898\n",
      "Epoch 9/10\n",
      "\u001b[1m54/54\u001b[0m \u001b[32m━━━━━━━━━━━━━━━━━━━━\u001b[0m\u001b[37m\u001b[0m \u001b[1m71s\u001b[0m 1s/step - accuracy: 0.8418 - loss: 0.3789 - val_accuracy: 0.8834 - val_loss: 0.2746\n",
      "Epoch 10/10\n",
      "\u001b[1m54/54\u001b[0m \u001b[32m━━━━━━━━━━━━━━━━━━━━\u001b[0m\u001b[37m\u001b[0m \u001b[1m70s\u001b[0m 1s/step - accuracy: 0.8990 - loss: 0.2394 - val_accuracy: 0.8928 - val_loss: 0.2417\n"
     ]
    },
    {
     "data": {
      "text/plain": [
       "<keras.src.callbacks.history.History at 0x20f79dfacf0>"
      ]
     },
     "execution_count": 2,
     "metadata": {},
     "output_type": "execute_result"
    }
   ],
   "source": [
    "data_dir=\"Pistachio_Image_Dataset\"\n",
    "img_width,img_height=224,224\n",
    "\n",
    "train_datagen=ImageDataGenerator(rescale=1/255, validation_split=0.20)\n",
    "\n",
    "train_datagenerator=train_datagen.flow_from_directory(directory=data_dir,target_size=(img_width,img_height),\n",
    "                                class_mode=\"binary\", subset=\"training\")\n",
    "\n",
    "test_datagen=ImageDataGenerator( rescale=1/255)\n",
    "test_datagenerator=train_datagen.flow_from_directory(directory=data_dir,target_size=(img_width,img_height),\n",
    "                                class_mode=\"binary\", subset=\"validation\")\n",
    "\n",
    "base_model=ResNet50(weights=\"imagenet\", input_shape=(img_width,img_height,3),include_top=False)\n",
    "model=Sequential()\n",
    "\n",
    "model.add(base_model)\n",
    "for layer in base_model.layers:\n",
    "    layer.trainable=False\n",
    "\n",
    "model.add(Flatten())\n",
    "model.add(Dense(1024,activation=\"relu\")) # Dense nöronları birbirine bağlar\n",
    "model.add(Dense(1,activation=\"sigmoid\"))\n",
    "\n",
    "model.compile(optimizer='adam',loss='binary_crossentropy',metrics=['accuracy'])\n",
    "\n",
    "model.fit(train_datagenerator,epochs=10,validation_data=test_datagenerator)"
   ]
  },
  {
   "cell_type": "code",
   "execution_count": 63,
   "id": "07a49ac8-557c-4e44-b70b-29ed8b5e1ee5",
   "metadata": {},
   "outputs": [
    {
     "name": "stderr",
     "output_type": "stream",
     "text": [
      "WARNING:absl:You are saving your model as an HDF5 file via `model.save()` or `keras.saving.save_model(model)`. This file format is considered legacy. We recommend using instead the native Keras format, e.g. `model.save('my_model.keras')` or `keras.saving.save_model(model, 'my_model.keras')`. \n"
     ]
    }
   ],
   "source": [
    "model.save(\"fistik_2.h5\")"
   ]
  },
  {
   "cell_type": "markdown",
   "id": "88bde07c-fb07-4d2d-9e10-31867a0fa19c",
   "metadata": {},
   "source": [
    "Sonuc olarak İlk modelimizde 94% İkinci modelimizde 88% accuracy elde ettik."
   ]
  },
  {
   "cell_type": "code",
   "execution_count": null,
   "id": "3ca31a48-fcbd-48aa-91ad-0d4fab8e02e3",
   "metadata": {},
   "outputs": [],
   "source": []
  }
 ],
 "metadata": {
  "kernelspec": {
   "display_name": "Python 3 (ipykernel)",
   "language": "python",
   "name": "python3"
  },
  "language_info": {
   "codemirror_mode": {
    "name": "ipython",
    "version": 3
   },
   "file_extension": ".py",
   "mimetype": "text/x-python",
   "name": "python",
   "nbconvert_exporter": "python",
   "pygments_lexer": "ipython3",
   "version": "3.12.3"
  }
 },
 "nbformat": 4,
 "nbformat_minor": 5
}
