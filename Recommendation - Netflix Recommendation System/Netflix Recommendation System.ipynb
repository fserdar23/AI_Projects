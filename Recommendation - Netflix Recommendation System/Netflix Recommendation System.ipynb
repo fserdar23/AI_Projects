{
 "cells": [
  {
   "cell_type": "markdown",
   "id": "868ebecc-2fe1-4a5e-865d-49d362ce605e",
   "metadata": {},
   "source": [
    "# Netflix Recommendation System"
   ]
  },
  {
   "cell_type": "markdown",
   "id": "2d539d43-1f83-4045-a071-2117bf3aae4c",
   "metadata": {},
   "source": [
    "Netflix, kullanıcıların reklamsız film ve TV şovları izlemesine olanak tanıyan abonelik tabanlı bir yayın platformudur. Netflix'in popülerliğinin arkasındaki nedenlerden biri de öneri sistemidir. Öneri sistemi, kullanıcının ilgisine göre film ve TV şovları önerir. Bu projede biz de Netflix öneri sistemi oluşturacagiz."
   ]
  },
  {
   "cell_type": "markdown",
   "id": "0d77fe0d-953f-4f60-9d05-8c79806e06fc",
   "metadata": {},
   "source": [
    "<img src=\"https://artdogistanbul.com/wp-content/uploads/2021/04/493f5bba-81a4-11e9-bf79-066b49664af6_cm_1440w.png\">"
   ]
  },
  {
   "cell_type": "markdown",
   "id": "89bd6918-e50d-46ae-9489-65575e27457a",
   "metadata": {},
   "source": [
    "<a href=\"https://thecleverprogrammer.com/2022/07/05/netflix-recommendation-system-using-python/\">Dataya Buradan Erişebilirsiniz</a>"
   ]
  },
  {
   "cell_type": "code",
   "execution_count": 10,
   "id": "a970d357-54f5-4fcb-888f-8ad1bfa1b828",
   "metadata": {},
   "outputs": [],
   "source": [
    "import pandas as pd\n",
    "\n",
    "pd.set_option(\"display.max_columns\",100) #Satır ve sütunların hepsini göstermeye yarıyor\n",
    "pd.set_option(\"display.max_rows\",190) #isnull gibi degerlerin tamamını görmeye yarıyor"
   ]
  },
  {
   "cell_type": "code",
   "execution_count": 2,
   "id": "8d134ce7-99f2-4f71-a0f0-643831634f9b",
   "metadata": {},
   "outputs": [],
   "source": [
    "df=pd.read_csv(\"netflixData.csv\")"
   ]
  },
  {
   "cell_type": "code",
   "execution_count": 3,
   "id": "cb2cb65d-cf12-4751-aa78-46d4e705d271",
   "metadata": {},
   "outputs": [
    {
     "data": {
      "text/html": [
       "<div>\n",
       "<style scoped>\n",
       "    .dataframe tbody tr th:only-of-type {\n",
       "        vertical-align: middle;\n",
       "    }\n",
       "\n",
       "    .dataframe tbody tr th {\n",
       "        vertical-align: top;\n",
       "    }\n",
       "\n",
       "    .dataframe thead th {\n",
       "        text-align: right;\n",
       "    }\n",
       "</style>\n",
       "<table border=\"1\" class=\"dataframe\">\n",
       "  <thead>\n",
       "    <tr style=\"text-align: right;\">\n",
       "      <th></th>\n",
       "      <th>Show Id</th>\n",
       "      <th>Title</th>\n",
       "      <th>Description</th>\n",
       "      <th>Director</th>\n",
       "      <th>Genres</th>\n",
       "      <th>Cast</th>\n",
       "      <th>Production Country</th>\n",
       "      <th>Release Date</th>\n",
       "      <th>Rating</th>\n",
       "      <th>Duration</th>\n",
       "      <th>Imdb Score</th>\n",
       "      <th>Content Type</th>\n",
       "      <th>Date Added</th>\n",
       "    </tr>\n",
       "  </thead>\n",
       "  <tbody>\n",
       "    <tr>\n",
       "      <th>0</th>\n",
       "      <td>cc1b6ed9-cf9e-4057-8303-34577fb54477</td>\n",
       "      <td>(Un)Well</td>\n",
       "      <td>This docuseries takes a deep dive into the luc...</td>\n",
       "      <td>NaN</td>\n",
       "      <td>Reality TV</td>\n",
       "      <td>NaN</td>\n",
       "      <td>United States</td>\n",
       "      <td>2020.0</td>\n",
       "      <td>TV-MA</td>\n",
       "      <td>1 Season</td>\n",
       "      <td>6.6/10</td>\n",
       "      <td>TV Show</td>\n",
       "      <td>NaN</td>\n",
       "    </tr>\n",
       "    <tr>\n",
       "      <th>1</th>\n",
       "      <td>e2ef4e91-fb25-42ab-b485-be8e3b23dedb</td>\n",
       "      <td>#Alive</td>\n",
       "      <td>As a grisly virus rampages a city, a lone man ...</td>\n",
       "      <td>Cho Il</td>\n",
       "      <td>Horror Movies, International Movies, Thrillers</td>\n",
       "      <td>Yoo Ah-in, Park Shin-hye</td>\n",
       "      <td>South Korea</td>\n",
       "      <td>2020.0</td>\n",
       "      <td>TV-MA</td>\n",
       "      <td>99 min</td>\n",
       "      <td>6.2/10</td>\n",
       "      <td>Movie</td>\n",
       "      <td>September 8, 2020</td>\n",
       "    </tr>\n",
       "    <tr>\n",
       "      <th>2</th>\n",
       "      <td>b01b73b7-81f6-47a7-86d8-acb63080d525</td>\n",
       "      <td>#AnneFrank - Parallel Stories</td>\n",
       "      <td>Through her diary, Anne Frank's story is retol...</td>\n",
       "      <td>Sabina Fedeli, Anna Migotto</td>\n",
       "      <td>Documentaries, International Movies</td>\n",
       "      <td>Helen Mirren, Gengher Gatti</td>\n",
       "      <td>Italy</td>\n",
       "      <td>2019.0</td>\n",
       "      <td>TV-14</td>\n",
       "      <td>95 min</td>\n",
       "      <td>6.4/10</td>\n",
       "      <td>Movie</td>\n",
       "      <td>July 1, 2020</td>\n",
       "    </tr>\n",
       "    <tr>\n",
       "      <th>3</th>\n",
       "      <td>b6611af0-f53c-4a08-9ffa-9716dc57eb9c</td>\n",
       "      <td>#blackAF</td>\n",
       "      <td>Kenya Barris and his family navigate relations...</td>\n",
       "      <td>NaN</td>\n",
       "      <td>TV Comedies</td>\n",
       "      <td>Kenya Barris, Rashida Jones, Iman Benson, Genn...</td>\n",
       "      <td>United States</td>\n",
       "      <td>2020.0</td>\n",
       "      <td>TV-MA</td>\n",
       "      <td>1 Season</td>\n",
       "      <td>6.6/10</td>\n",
       "      <td>TV Show</td>\n",
       "      <td>NaN</td>\n",
       "    </tr>\n",
       "    <tr>\n",
       "      <th>4</th>\n",
       "      <td>7f2d4170-bab8-4d75-adc2-197f7124c070</td>\n",
       "      <td>#cats_the_mewvie</td>\n",
       "      <td>This pawesome documentary explores how our fel...</td>\n",
       "      <td>Michael Margolis</td>\n",
       "      <td>Documentaries, International Movies</td>\n",
       "      <td>NaN</td>\n",
       "      <td>Canada</td>\n",
       "      <td>2020.0</td>\n",
       "      <td>TV-14</td>\n",
       "      <td>90 min</td>\n",
       "      <td>5.1/10</td>\n",
       "      <td>Movie</td>\n",
       "      <td>February 5, 2020</td>\n",
       "    </tr>\n",
       "  </tbody>\n",
       "</table>\n",
       "</div>"
      ],
      "text/plain": [
       "                                Show Id                          Title  \\\n",
       "0  cc1b6ed9-cf9e-4057-8303-34577fb54477                       (Un)Well   \n",
       "1  e2ef4e91-fb25-42ab-b485-be8e3b23dedb                         #Alive   \n",
       "2  b01b73b7-81f6-47a7-86d8-acb63080d525  #AnneFrank - Parallel Stories   \n",
       "3  b6611af0-f53c-4a08-9ffa-9716dc57eb9c                       #blackAF   \n",
       "4  7f2d4170-bab8-4d75-adc2-197f7124c070               #cats_the_mewvie   \n",
       "\n",
       "                                         Description  \\\n",
       "0  This docuseries takes a deep dive into the luc...   \n",
       "1  As a grisly virus rampages a city, a lone man ...   \n",
       "2  Through her diary, Anne Frank's story is retol...   \n",
       "3  Kenya Barris and his family navigate relations...   \n",
       "4  This pawesome documentary explores how our fel...   \n",
       "\n",
       "                      Director  \\\n",
       "0                          NaN   \n",
       "1                       Cho Il   \n",
       "2  Sabina Fedeli, Anna Migotto   \n",
       "3                          NaN   \n",
       "4             Michael Margolis   \n",
       "\n",
       "                                           Genres  \\\n",
       "0                                      Reality TV   \n",
       "1  Horror Movies, International Movies, Thrillers   \n",
       "2             Documentaries, International Movies   \n",
       "3                                     TV Comedies   \n",
       "4             Documentaries, International Movies   \n",
       "\n",
       "                                                Cast Production Country  \\\n",
       "0                                                NaN      United States   \n",
       "1                           Yoo Ah-in, Park Shin-hye        South Korea   \n",
       "2                        Helen Mirren, Gengher Gatti              Italy   \n",
       "3  Kenya Barris, Rashida Jones, Iman Benson, Genn...      United States   \n",
       "4                                                NaN             Canada   \n",
       "\n",
       "   Release Date Rating  Duration Imdb Score Content Type         Date Added  \n",
       "0        2020.0  TV-MA  1 Season     6.6/10      TV Show                NaN  \n",
       "1        2020.0  TV-MA    99 min     6.2/10        Movie  September 8, 2020  \n",
       "2        2019.0  TV-14    95 min     6.4/10        Movie       July 1, 2020  \n",
       "3        2020.0  TV-MA  1 Season     6.6/10      TV Show                NaN  \n",
       "4        2020.0  TV-14    90 min     5.1/10        Movie   February 5, 2020  "
      ]
     },
     "execution_count": 3,
     "metadata": {},
     "output_type": "execute_result"
    }
   ],
   "source": [
    "df.head()"
   ]
  },
  {
   "cell_type": "code",
   "execution_count": 4,
   "id": "35d09a33-6eb5-460c-b439-37174c18453a",
   "metadata": {},
   "outputs": [],
   "source": [
    "df=df[[\"Title\",\"Description\",\"Genres\",\"Imdb Score\"]]"
   ]
  },
  {
   "cell_type": "code",
   "execution_count": 5,
   "id": "c67fad8a-466b-4cdb-b5a4-b450beade123",
   "metadata": {},
   "outputs": [
    {
     "data": {
      "text/plain": [
       "(5967, 4)"
      ]
     },
     "execution_count": 5,
     "metadata": {},
     "output_type": "execute_result"
    }
   ],
   "source": [
    "df.shape"
   ]
  },
  {
   "cell_type": "code",
   "execution_count": 6,
   "id": "2ad78e99-7040-4f74-9c76-302a8bb6f7ab",
   "metadata": {},
   "outputs": [
    {
     "name": "stdout",
     "output_type": "stream",
     "text": [
      "<class 'pandas.core.frame.DataFrame'>\n",
      "RangeIndex: 5967 entries, 0 to 5966\n",
      "Data columns (total 4 columns):\n",
      " #   Column       Non-Null Count  Dtype \n",
      "---  ------       --------------  ----- \n",
      " 0   Title        5967 non-null   object\n",
      " 1   Description  5967 non-null   object\n",
      " 2   Genres       5967 non-null   object\n",
      " 3   Imdb Score   5359 non-null   object\n",
      "dtypes: object(4)\n",
      "memory usage: 186.6+ KB\n"
     ]
    }
   ],
   "source": [
    "df.info()"
   ]
  },
  {
   "cell_type": "code",
   "execution_count": 7,
   "id": "0381af50-e97f-45ab-8d9d-635f967798d2",
   "metadata": {},
   "outputs": [
    {
     "data": {
      "text/plain": [
       "Title            0\n",
       "Description      0\n",
       "Genres           0\n",
       "Imdb Score     608\n",
       "dtype: int64"
      ]
     },
     "execution_count": 7,
     "metadata": {},
     "output_type": "execute_result"
    }
   ],
   "source": [
    "df.isnull().sum()"
   ]
  },
  {
   "cell_type": "code",
   "execution_count": 8,
   "id": "5f816c85-5d64-4563-b368-754b3f0c1a8e",
   "metadata": {},
   "outputs": [],
   "source": [
    "df=df.dropna()"
   ]
  },
  {
   "cell_type": "code",
   "execution_count": 11,
   "id": "93477a9e-3aab-4bb9-98b3-55857a8822e0",
   "metadata": {},
   "outputs": [
    {
     "data": {
      "text/html": [
       "<div>\n",
       "<style scoped>\n",
       "    .dataframe tbody tr th:only-of-type {\n",
       "        vertical-align: middle;\n",
       "    }\n",
       "\n",
       "    .dataframe tbody tr th {\n",
       "        vertical-align: top;\n",
       "    }\n",
       "\n",
       "    .dataframe thead th {\n",
       "        text-align: right;\n",
       "    }\n",
       "</style>\n",
       "<table border=\"1\" class=\"dataframe\">\n",
       "  <thead>\n",
       "    <tr style=\"text-align: right;\">\n",
       "      <th></th>\n",
       "      <th>Title</th>\n",
       "      <th>Description</th>\n",
       "      <th>Genres</th>\n",
       "      <th>Imdb Score</th>\n",
       "    </tr>\n",
       "  </thead>\n",
       "  <tbody>\n",
       "    <tr>\n",
       "      <th>0</th>\n",
       "      <td>(Un)Well</td>\n",
       "      <td>This docuseries takes a deep dive into the luc...</td>\n",
       "      <td>Reality TV</td>\n",
       "      <td>6.6/10</td>\n",
       "    </tr>\n",
       "    <tr>\n",
       "      <th>1</th>\n",
       "      <td>#Alive</td>\n",
       "      <td>As a grisly virus rampages a city, a lone man ...</td>\n",
       "      <td>Horror Movies, International Movies, Thrillers</td>\n",
       "      <td>6.2/10</td>\n",
       "    </tr>\n",
       "    <tr>\n",
       "      <th>2</th>\n",
       "      <td>#AnneFrank - Parallel Stories</td>\n",
       "      <td>Through her diary, Anne Frank's story is retol...</td>\n",
       "      <td>Documentaries, International Movies</td>\n",
       "      <td>6.4/10</td>\n",
       "    </tr>\n",
       "    <tr>\n",
       "      <th>3</th>\n",
       "      <td>#blackAF</td>\n",
       "      <td>Kenya Barris and his family navigate relations...</td>\n",
       "      <td>TV Comedies</td>\n",
       "      <td>6.6/10</td>\n",
       "    </tr>\n",
       "    <tr>\n",
       "      <th>4</th>\n",
       "      <td>#cats_the_mewvie</td>\n",
       "      <td>This pawesome documentary explores how our fel...</td>\n",
       "      <td>Documentaries, International Movies</td>\n",
       "      <td>5.1/10</td>\n",
       "    </tr>\n",
       "    <tr>\n",
       "      <th>...</th>\n",
       "      <td>...</td>\n",
       "      <td>...</td>\n",
       "      <td>...</td>\n",
       "      <td>...</td>\n",
       "    </tr>\n",
       "    <tr>\n",
       "      <th>5960</th>\n",
       "      <td>Zumbo's Just Desserts</td>\n",
       "      <td>Dessert wizard Adriano Zumbo looks for the nex...</td>\n",
       "      <td>International TV Shows, Reality TV</td>\n",
       "      <td>7.1/10</td>\n",
       "    </tr>\n",
       "    <tr>\n",
       "      <th>5961</th>\n",
       "      <td>ZZ TOP: THAT LITTLE OL' BAND FROM TEXAS</td>\n",
       "      <td>This documentary delves into the mystique behi...</td>\n",
       "      <td>Documentaries, Music &amp; Musicals</td>\n",
       "      <td>7.4/10</td>\n",
       "    </tr>\n",
       "    <tr>\n",
       "      <th>5962</th>\n",
       "      <td>الف مبروك</td>\n",
       "      <td>On his wedding day, an arrogant, greedy accoun...</td>\n",
       "      <td>Comedies, Dramas, International Movies</td>\n",
       "      <td>7.4/10</td>\n",
       "    </tr>\n",
       "    <tr>\n",
       "      <th>5965</th>\n",
       "      <td>반드시 잡는다</td>\n",
       "      <td>After people in his town start turning up dead...</td>\n",
       "      <td>Dramas, International Movies, Thrillers</td>\n",
       "      <td>6.5/10</td>\n",
       "    </tr>\n",
       "    <tr>\n",
       "      <th>5966</th>\n",
       "      <td>최강전사 미니특공대 : 영웅의 탄생</td>\n",
       "      <td>Miniforce, a special task force of elite range...</td>\n",
       "      <td>Children &amp; Family Movies</td>\n",
       "      <td>4.7/10</td>\n",
       "    </tr>\n",
       "  </tbody>\n",
       "</table>\n",
       "<p>5359 rows × 4 columns</p>\n",
       "</div>"
      ],
      "text/plain": [
       "                                        Title  \\\n",
       "0                                    (Un)Well   \n",
       "1                                      #Alive   \n",
       "2               #AnneFrank - Parallel Stories   \n",
       "3                                    #blackAF   \n",
       "4                            #cats_the_mewvie   \n",
       "...                                       ...   \n",
       "5960                    Zumbo's Just Desserts   \n",
       "5961  ZZ TOP: THAT LITTLE OL' BAND FROM TEXAS   \n",
       "5962                                الف مبروك   \n",
       "5965                                  반드시 잡는다   \n",
       "5966                      최강전사 미니특공대 : 영웅의 탄생   \n",
       "\n",
       "                                            Description  \\\n",
       "0     This docuseries takes a deep dive into the luc...   \n",
       "1     As a grisly virus rampages a city, a lone man ...   \n",
       "2     Through her diary, Anne Frank's story is retol...   \n",
       "3     Kenya Barris and his family navigate relations...   \n",
       "4     This pawesome documentary explores how our fel...   \n",
       "...                                                 ...   \n",
       "5960  Dessert wizard Adriano Zumbo looks for the nex...   \n",
       "5961  This documentary delves into the mystique behi...   \n",
       "5962  On his wedding day, an arrogant, greedy accoun...   \n",
       "5965  After people in his town start turning up dead...   \n",
       "5966  Miniforce, a special task force of elite range...   \n",
       "\n",
       "                                              Genres Imdb Score  \n",
       "0                                         Reality TV     6.6/10  \n",
       "1     Horror Movies, International Movies, Thrillers     6.2/10  \n",
       "2                Documentaries, International Movies     6.4/10  \n",
       "3                                        TV Comedies     6.6/10  \n",
       "4                Documentaries, International Movies     5.1/10  \n",
       "...                                              ...        ...  \n",
       "5960              International TV Shows, Reality TV     7.1/10  \n",
       "5961                 Documentaries, Music & Musicals     7.4/10  \n",
       "5962          Comedies, Dramas, International Movies     7.4/10  \n",
       "5965         Dramas, International Movies, Thrillers     6.5/10  \n",
       "5966                        Children & Family Movies     4.7/10  \n",
       "\n",
       "[5359 rows x 4 columns]"
      ]
     },
     "execution_count": 11,
     "metadata": {},
     "output_type": "execute_result"
    }
   ],
   "source": [
    "df"
   ]
  },
  {
   "cell_type": "markdown",
   "id": "afec10ab-b672-4c68-8e00-e8d23ca2b2ed",
   "metadata": {},
   "source": [
    "<h4>tf/idf kullanrak tavsiye sistemi olusturma</h4>"
   ]
  },
  {
   "cell_type": "code",
   "execution_count": 12,
   "id": "42e298db-806a-434a-a6e6-60f60dd38f21",
   "metadata": {},
   "outputs": [],
   "source": [
    "import pandas as pd\n",
    "from sklearn.feature_extraction.text import TfidfVectorizer\n",
    "from sklearn.metrics.pairwise import cosine_similarity"
   ]
  },
  {
   "cell_type": "code",
   "execution_count": 14,
   "id": "5e037a43-64ed-451d-b758-768801409935",
   "metadata": {},
   "outputs": [],
   "source": [
    "df['birlesim'] = df['Description'] + \" \" + df['Genres'] # Açıklama ve kategoriyi birleştirme\n",
    "\n",
    "tf = TfidfVectorizer()\n",
    "tfidf_matrix = tf.fit_transform(df['birlesim']) # TF-IDF Vektörizeri ile öznitelik matrisini oluşturma\n",
    "\n",
    "kos = cosine_similarity(tfidf_matrix, tfidf_matrix) # Kosinüs benzerliği hesaplama"
   ]
  },
  {
   "cell_type": "code",
   "execution_count": 21,
   "id": "b53a62b6-b90a-4826-81fb-9bde96764d0e",
   "metadata": {},
   "outputs": [],
   "source": [
    "def recommend(title, cosine_sim=kos):\n",
    "    # Film başlığının indeksini bul\n",
    "    idx = df.index[df['Title'] == title].tolist()[0]\n",
    "\n",
    "    # Benzerlik skorlarını al ve sıralama yap\n",
    "    sim_scores = list(enumerate(cosine_sim[idx]))\n",
    "    sim_scores = sorted(sim_scores, key=lambda x: x[1], reverse=True)\n",
    "\n",
    "    sim_scores = sim_scores[1:6]  # İlk film kendisidir --> En benzer 5 film\n",
    "    movie_indices = [i[0] for i in sim_scores]\n",
    "\n",
    "    return df['Title'].iloc[movie_indices]"
   ]
  },
  {
   "cell_type": "code",
   "execution_count": 25,
   "id": "b28c3265-82cb-483f-98ea-f1f32b33b75d",
   "metadata": {},
   "outputs": [
    {
     "data": {
      "text/plain": [
       "4149                          Selection Day\n",
       "2447                                Justice\n",
       "3903    ReMastered: Massacre at the Stadium\n",
       "2784                            Lost Bullet\n",
       "5494                                Trial 4\n",
       "Name: Title, dtype: object"
      ]
     },
     "execution_count": 25,
     "metadata": {},
     "output_type": "execute_result"
    }
   ],
   "source": [
    "recommend(\"Lucifer\")"
   ]
  },
  {
   "cell_type": "code",
   "execution_count": 27,
   "id": "4ff76b14-8135-4c0a-b01c-a2edaa7a05de",
   "metadata": {},
   "outputs": [],
   "source": [
    "import pickle"
   ]
  },
  {
   "cell_type": "code",
   "execution_count": 32,
   "id": "840c5a08-02c3-4f61-8634-5b363caf6ef5",
   "metadata": {},
   "outputs": [],
   "source": [
    "with open('netflix.pkl', 'wb') as f:\n",
    "    pickle.dump(tf, f)"
   ]
  },
  {
   "cell_type": "code",
   "execution_count": 31,
   "id": "c2300448-3ac6-40bc-af36-b49efb16aae3",
   "metadata": {},
   "outputs": [],
   "source": [
    "df.to_csv(\"netflix_data.csv\", index=False)  # Veriyi CSV olarak kaydet"
   ]
  },
  {
   "cell_type": "markdown",
   "id": "4513455b-ae4d-4217-9cd3-098c46c9d8fd",
   "metadata": {},
   "source": [
    "Sonuc olarak netflixteki filmleri tf idf vectorizer kullanarak öneri sistemi olusturduk ve modelimiz kaydettik"
   ]
  }
 ],
 "metadata": {
  "kernelspec": {
   "display_name": "Python [conda env:base] *",
   "language": "python",
   "name": "conda-base-py"
  },
  "language_info": {
   "codemirror_mode": {
    "name": "ipython",
    "version": 3
   },
   "file_extension": ".py",
   "mimetype": "text/x-python",
   "name": "python",
   "nbconvert_exporter": "python",
   "pygments_lexer": "ipython3",
   "version": "3.13.5"
  }
 },
 "nbformat": 4,
 "nbformat_minor": 5
}
