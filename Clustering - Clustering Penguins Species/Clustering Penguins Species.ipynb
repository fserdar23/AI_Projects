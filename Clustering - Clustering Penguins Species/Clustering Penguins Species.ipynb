{
 "cells": [
  {
   "cell_type": "markdown",
   "id": "4170561b-6e70-4345-8f34-b7206d38dca1",
   "metadata": {},
   "source": [
    "# Clustering Penguins Species"
   ]
  },
  {
   "cell_type": "markdown",
   "id": "e55da178-9c85-482c-ae10-b9499e9f2884",
   "metadata": {},
   "source": [
    "Bu projemizde penguenlerin özelliklerine göre kümeleme yapacağız."
   ]
  },
  {
   "cell_type": "markdown",
   "id": "7783beb6-9260-49f0-87e3-e6db381f435b",
   "metadata": {},
   "source": [
    "<img src=\"https://fizikist.com/uploads/img/1659181884_bilim-insanlari-penguen-dnasini-analiz-ettiler-ve-oldukca-olaganustu-bir-sey-buldularjpeg.jpg\">"
   ]
  },
  {
   "cell_type": "markdown",
   "id": "39c5eb01-b664-4036-9570-fef3c736a289",
   "metadata": {},
   "source": [
    "<a href=\"https://www.kaggle.com/datasets/youssefaboelwafa/clustering-penguins-species/data\">Dataya Buradan Erişebilirsiniz</a>"
   ]
  },
  {
   "cell_type": "code",
   "execution_count": 1,
   "id": "daf2348a-8915-4bc9-95ca-9838ecc993e8",
   "metadata": {},
   "outputs": [],
   "source": [
    "import pandas as pd\n",
    "import warnings\n",
    "warnings.filterwarnings(\"ignore\")"
   ]
  },
  {
   "cell_type": "markdown",
   "id": "3f4d81da-b4a6-493d-99e6-3ef6719713bf",
   "metadata": {},
   "source": [
    "### EDA"
   ]
  },
  {
   "cell_type": "code",
   "execution_count": 2,
   "id": "60d988ee-e354-4657-b63c-3134857ed6c0",
   "metadata": {},
   "outputs": [],
   "source": [
    "df=pd.read_csv(\"penguins.csv\")"
   ]
  },
  {
   "cell_type": "code",
   "execution_count": 3,
   "id": "83d34805-892b-4e52-85c2-9defeb49f941",
   "metadata": {},
   "outputs": [
    {
     "data": {
      "text/html": [
       "<div>\n",
       "<style scoped>\n",
       "    .dataframe tbody tr th:only-of-type {\n",
       "        vertical-align: middle;\n",
       "    }\n",
       "\n",
       "    .dataframe tbody tr th {\n",
       "        vertical-align: top;\n",
       "    }\n",
       "\n",
       "    .dataframe thead th {\n",
       "        text-align: right;\n",
       "    }\n",
       "</style>\n",
       "<table border=\"1\" class=\"dataframe\">\n",
       "  <thead>\n",
       "    <tr style=\"text-align: right;\">\n",
       "      <th></th>\n",
       "      <th>culmen_length_mm</th>\n",
       "      <th>culmen_depth_mm</th>\n",
       "      <th>flipper_length_mm</th>\n",
       "      <th>body_mass_g</th>\n",
       "      <th>sex</th>\n",
       "    </tr>\n",
       "  </thead>\n",
       "  <tbody>\n",
       "    <tr>\n",
       "      <th>0</th>\n",
       "      <td>39.1</td>\n",
       "      <td>18.7</td>\n",
       "      <td>181.0</td>\n",
       "      <td>3750.0</td>\n",
       "      <td>MALE</td>\n",
       "    </tr>\n",
       "    <tr>\n",
       "      <th>1</th>\n",
       "      <td>39.5</td>\n",
       "      <td>17.4</td>\n",
       "      <td>186.0</td>\n",
       "      <td>3800.0</td>\n",
       "      <td>FEMALE</td>\n",
       "    </tr>\n",
       "    <tr>\n",
       "      <th>2</th>\n",
       "      <td>40.3</td>\n",
       "      <td>18.0</td>\n",
       "      <td>195.0</td>\n",
       "      <td>3250.0</td>\n",
       "      <td>FEMALE</td>\n",
       "    </tr>\n",
       "    <tr>\n",
       "      <th>3</th>\n",
       "      <td>NaN</td>\n",
       "      <td>NaN</td>\n",
       "      <td>NaN</td>\n",
       "      <td>NaN</td>\n",
       "      <td>NaN</td>\n",
       "    </tr>\n",
       "    <tr>\n",
       "      <th>4</th>\n",
       "      <td>36.7</td>\n",
       "      <td>19.3</td>\n",
       "      <td>193.0</td>\n",
       "      <td>3450.0</td>\n",
       "      <td>FEMALE</td>\n",
       "    </tr>\n",
       "  </tbody>\n",
       "</table>\n",
       "</div>"
      ],
      "text/plain": [
       "   culmen_length_mm  culmen_depth_mm  flipper_length_mm  body_mass_g     sex\n",
       "0              39.1             18.7              181.0       3750.0    MALE\n",
       "1              39.5             17.4              186.0       3800.0  FEMALE\n",
       "2              40.3             18.0              195.0       3250.0  FEMALE\n",
       "3               NaN              NaN                NaN          NaN     NaN\n",
       "4              36.7             19.3              193.0       3450.0  FEMALE"
      ]
     },
     "execution_count": 3,
     "metadata": {},
     "output_type": "execute_result"
    }
   ],
   "source": [
    "df.head()"
   ]
  },
  {
   "cell_type": "code",
   "execution_count": 4,
   "id": "40a83262-9fd4-4b27-a676-24d7b4457ab7",
   "metadata": {},
   "outputs": [
    {
     "data": {
      "text/plain": [
       "(344, 5)"
      ]
     },
     "execution_count": 4,
     "metadata": {},
     "output_type": "execute_result"
    }
   ],
   "source": [
    "df.shape"
   ]
  },
  {
   "cell_type": "code",
   "execution_count": 5,
   "id": "85f8b799-4e35-45fd-a6a6-f386dccee705",
   "metadata": {},
   "outputs": [
    {
     "data": {
      "text/plain": [
       "culmen_length_mm     2\n",
       "culmen_depth_mm      2\n",
       "flipper_length_mm    2\n",
       "body_mass_g          2\n",
       "sex                  9\n",
       "dtype: int64"
      ]
     },
     "execution_count": 5,
     "metadata": {},
     "output_type": "execute_result"
    }
   ],
   "source": [
    "df.isnull().sum()"
   ]
  },
  {
   "cell_type": "code",
   "execution_count": 6,
   "id": "32a367d1-2f75-4f84-bdaa-d5c9a7e892be",
   "metadata": {},
   "outputs": [
    {
     "name": "stdout",
     "output_type": "stream",
     "text": [
      "<class 'pandas.core.frame.DataFrame'>\n",
      "RangeIndex: 344 entries, 0 to 343\n",
      "Data columns (total 5 columns):\n",
      " #   Column             Non-Null Count  Dtype  \n",
      "---  ------             --------------  -----  \n",
      " 0   culmen_length_mm   342 non-null    float64\n",
      " 1   culmen_depth_mm    342 non-null    float64\n",
      " 2   flipper_length_mm  342 non-null    float64\n",
      " 3   body_mass_g        342 non-null    float64\n",
      " 4   sex                335 non-null    object \n",
      "dtypes: float64(4), object(1)\n",
      "memory usage: 13.6+ KB\n"
     ]
    }
   ],
   "source": [
    "df.info()"
   ]
  },
  {
   "cell_type": "code",
   "execution_count": 7,
   "id": "386f7598-6f72-405e-a498-0675488bea08",
   "metadata": {},
   "outputs": [
    {
     "data": {
      "text/plain": [
       "culmen_length_mm\n",
       "41.1    7\n",
       "45.2    6\n",
       "39.6    5\n",
       "50.5    5\n",
       "50.0    5\n",
       "       ..\n",
       "35.6    1\n",
       "36.8    1\n",
       "43.1    1\n",
       "38.5    1\n",
       "49.9    1\n",
       "Name: count, Length: 164, dtype: int64"
      ]
     },
     "execution_count": 7,
     "metadata": {},
     "output_type": "execute_result"
    }
   ],
   "source": [
    "df[\"culmen_length_mm\"].value_counts()"
   ]
  },
  {
   "cell_type": "code",
   "execution_count": 8,
   "id": "c26a8a36-c143-4d88-aabe-d541a422b41f",
   "metadata": {},
   "outputs": [
    {
     "data": {
      "text/plain": [
       "culmen_depth_mm\n",
       "17.0    12\n",
       "18.6    10\n",
       "17.9    10\n",
       "15.0    10\n",
       "18.5    10\n",
       "        ..\n",
       "13.2     1\n",
       "14.9     1\n",
       "21.5     1\n",
       "20.2     1\n",
       "17.4     1\n",
       "Name: count, Length: 80, dtype: int64"
      ]
     },
     "execution_count": 8,
     "metadata": {},
     "output_type": "execute_result"
    }
   ],
   "source": [
    "df[\"culmen_depth_mm\"].value_counts()"
   ]
  },
  {
   "cell_type": "code",
   "execution_count": 9,
   "id": "dd2d6dfe-18f2-4ec7-b088-e9589d1fdafa",
   "metadata": {
    "scrolled": true
   },
   "outputs": [
    {
     "data": {
      "text/plain": [
       "flipper_length_mm\n",
       " 190.0     21\n",
       " 195.0     17\n",
       " 187.0     16\n",
       " 193.0     15\n",
       " 210.0     14\n",
       " 191.0     13\n",
       " 215.0     12\n",
       " 196.0     10\n",
       " 197.0     10\n",
       " 185.0      9\n",
       " 208.0      8\n",
       " 220.0      8\n",
       " 216.0      8\n",
       " 198.0      7\n",
       " 230.0      7\n",
       " 186.0      7\n",
       " 212.0      7\n",
       " 192.0      7\n",
       " 181.0      7\n",
       " 184.0      7\n",
       " 189.0      7\n",
       " 199.0      6\n",
       " 217.0      6\n",
       " 213.0      6\n",
       " 214.0      6\n",
       " 188.0      6\n",
       " 201.0      6\n",
       " 222.0      6\n",
       " 180.0      5\n",
       " 221.0      5\n",
       " 194.0      5\n",
       " 203.0      5\n",
       " 218.0      5\n",
       " 219.0      5\n",
       " 209.0      5\n",
       " 178.0      4\n",
       " 202.0      4\n",
       " 225.0      4\n",
       " 228.0      4\n",
       " 200.0      4\n",
       " 205.0      3\n",
       " 224.0      3\n",
       " 182.0      3\n",
       " 223.0      2\n",
       " 229.0      2\n",
       " 211.0      2\n",
       " 207.0      2\n",
       " 183.0      2\n",
       " 231.0      1\n",
       "-132.0      1\n",
       " 5000.0     1\n",
       " 206.0      1\n",
       " 176.0      1\n",
       " 174.0      1\n",
       " 179.0      1\n",
       " 172.0      1\n",
       " 226.0      1\n",
       "Name: count, dtype: int64"
      ]
     },
     "execution_count": 9,
     "metadata": {},
     "output_type": "execute_result"
    }
   ],
   "source": [
    "df[\"flipper_length_mm\"].value_counts()"
   ]
  },
  {
   "cell_type": "code",
   "execution_count": 10,
   "id": "e3985f55-1cbe-4318-8903-68dc25f9f76c",
   "metadata": {},
   "outputs": [
    {
     "data": {
      "text/plain": [
       "body_mass_g\n",
       "3800.0    12\n",
       "3700.0    11\n",
       "3900.0    10\n",
       "3950.0    10\n",
       "3550.0     9\n",
       "          ..\n",
       "4475.0     1\n",
       "3975.0     1\n",
       "3575.0     1\n",
       "3850.0     1\n",
       "5750.0     1\n",
       "Name: count, Length: 94, dtype: int64"
      ]
     },
     "execution_count": 10,
     "metadata": {},
     "output_type": "execute_result"
    }
   ],
   "source": [
    "df[\"body_mass_g\"].value_counts()"
   ]
  },
  {
   "cell_type": "code",
   "execution_count": 11,
   "id": "5b64bfac-f7f3-461c-9d81-4ad7d9cce190",
   "metadata": {},
   "outputs": [
    {
     "data": {
      "text/plain": [
       "sex\n",
       "MALE      169\n",
       "FEMALE    165\n",
       ".           1\n",
       "Name: count, dtype: int64"
      ]
     },
     "execution_count": 11,
     "metadata": {},
     "output_type": "execute_result"
    }
   ],
   "source": [
    "df[\"sex\"].value_counts()"
   ]
  },
  {
   "cell_type": "markdown",
   "id": "fb2cab4e-1e23-4a56-83f3-816fc237cf2b",
   "metadata": {},
   "source": [
    "### Feature Engineering"
   ]
  },
  {
   "cell_type": "code",
   "execution_count": 12,
   "id": "974ba429-0457-4442-ad8a-ebc3a43a500e",
   "metadata": {},
   "outputs": [],
   "source": [
    "df=df.dropna(subset=\"culmen_length_mm\")"
   ]
  },
  {
   "cell_type": "code",
   "execution_count": 13,
   "id": "40e54a74-8036-4e3f-852d-fc636086fb05",
   "metadata": {},
   "outputs": [
    {
     "data": {
      "text/plain": [
       "culmen_length_mm     0\n",
       "culmen_depth_mm      0\n",
       "flipper_length_mm    0\n",
       "body_mass_g          0\n",
       "sex                  7\n",
       "dtype: int64"
      ]
     },
     "execution_count": 13,
     "metadata": {},
     "output_type": "execute_result"
    }
   ],
   "source": [
    "df.isnull().sum()"
   ]
  },
  {
   "cell_type": "code",
   "execution_count": 14,
   "id": "d68910dc-60ce-4694-b7cc-eee1046a1d3e",
   "metadata": {},
   "outputs": [],
   "source": [
    "d={\"MALE\":1,\"FEMALE\":0}"
   ]
  },
  {
   "cell_type": "code",
   "execution_count": 15,
   "id": "a73aa8c7-31f9-4514-b6b6-70e1c882405c",
   "metadata": {},
   "outputs": [],
   "source": [
    "df[\"sex\"]=df[\"sex\"].map(d)"
   ]
  },
  {
   "cell_type": "code",
   "execution_count": 16,
   "id": "0b3d1c6f-27e2-44a9-8031-a7e0c2c8fce1",
   "metadata": {},
   "outputs": [],
   "source": [
    "df=df.dropna(subset=\"sex\")"
   ]
  },
  {
   "cell_type": "markdown",
   "id": "e550d76f-dee7-4844-9abf-be088a6c82a6",
   "metadata": {},
   "source": [
    "### Modelling"
   ]
  },
  {
   "cell_type": "code",
   "execution_count": 17,
   "id": "4b48ff44-bc00-482f-8907-a76f261e7330",
   "metadata": {},
   "outputs": [],
   "source": [
    "from sklearn.cluster import KMeans\n",
    "from sklearn.metrics import silhouette_score\n",
    "\n",
    "import matplotlib.pyplot as plt\n",
    "import seaborn as sns"
   ]
  },
  {
   "cell_type": "code",
   "execution_count": 18,
   "id": "90fa74eb-c593-4333-9759-4ace48b72bda",
   "metadata": {},
   "outputs": [
    {
     "name": "stdout",
     "output_type": "stream",
     "text": [
      "0.6229735076740957\n",
      "0.5477927464977835\n",
      "0.5724230977617364\n",
      "0.5503471272878904\n",
      "0.5243812371383447\n",
      "0.5128099939101074\n",
      "0.5150093541200426\n",
      "0.5042280878457085\n"
     ]
    }
   ],
   "source": [
    "#wcss= within cluster sum of squares\n",
    "wcss=[]\n",
    "ss=[]\n",
    "for i in range(2,10):\n",
    "    model=KMeans(i)\n",
    "    model=model.fit(df)\n",
    "    tahmin=model.predict(df)\n",
    "    ss1=silhouette_score(df,tahmin)\n",
    "    ss.append(ss1)\n",
    "    print(ss1)\n",
    "    wcss.append(model.inertia_)"
   ]
  },
  {
   "cell_type": "code",
   "execution_count": 19,
   "id": "815819e7-c3bb-4d14-90fc-8eb6518890ef",
   "metadata": {},
   "outputs": [
    {
     "data": {
      "text/plain": [
       "[<matplotlib.lines.Line2D at 0x1a9fca841d0>]"
      ]
     },
     "execution_count": 19,
     "metadata": {},
     "output_type": "execute_result"
    },
    {
     "data": {
      "image/png": "[encoded data removed]",
      "text/plain": [
       "<Figure size 640x480 with 1 Axes>"
      ]
     },
     "metadata": {},
     "output_type": "display_data"
    }
   ],
   "source": [
    "plt.plot(range(2,10),wcss)"
   ]
  },
  {
   "cell_type": "code",
   "execution_count": 20,
   "id": "d68c02a9-5c4a-410f-b5da-8381031b44a9",
   "metadata": {},
   "outputs": [],
   "source": [
    "from yellowbrick.cluster import KElbowVisualizer"
   ]
  },
  {
   "cell_type": "code",
   "execution_count": 21,
   "id": "f6e9a1a0-8fe8-46ff-87e8-08cea39ef0ad",
   "metadata": {},
   "outputs": [
    {
     "data": {
      "image/png": "[encoded data removed]",
      "text/plain": [
       "<Figure size 800x550 with 2 Axes>"
      ]
     },
     "metadata": {},
     "output_type": "display_data"
    }
   ],
   "source": [
    "km=KMeans()\n",
    "vis=KElbowVisualizer(km,k=(2,10))\n",
    "vis.fit(df)\n",
    "vis.show();"
   ]
  },
  {
   "cell_type": "code",
   "execution_count": 22,
   "id": "3705c178-ff1e-437f-bb9e-155f7dde60d9",
   "metadata": {},
   "outputs": [],
   "source": [
    "from scipy.cluster.hierarchy import dendrogram, linkage"
   ]
  },
  {
   "cell_type": "code",
   "execution_count": 23,
   "id": "34117de4-d350-4167-871d-7ddf30f023c4",
   "metadata": {},
   "outputs": [],
   "source": [
    "model=KMeans(5,random_state=42)"
   ]
  },
  {
   "cell_type": "code",
   "execution_count": 24,
   "id": "9cae501e-8dba-485f-9d42-f3213f604a2b",
   "metadata": {},
   "outputs": [
    {
     "data": {
      "text/html": [
       "<style>#sk-container-id-1 {\n",
       "  /* Definition of color scheme common for light and dark mode */\n",
       "  --sklearn-color-text: black;\n",
       "  --sklearn-color-line: gray;\n",
       "  /* Definition of color scheme for unfitted estimators */\n",
       "  --sklearn-color-unfitted-level-0: #fff5e6;\n",
       "  --sklearn-color-unfitted-level-1: #f6e4d2;\n",
       "  --sklearn-color-unfitted-level-2: #ffe0b3;\n",
       "  --sklearn-color-unfitted-level-3: chocolate;\n",
       "  /* Definition of color scheme for fitted estimators */\n",
       "  --sklearn-color-fitted-level-0: #f0f8ff;\n",
       "  --sklearn-color-fitted-level-1: #d4ebff;\n",
       "  --sklearn-color-fitted-level-2: #b3dbfd;\n",
       "  --sklearn-color-fitted-level-3: cornflowerblue;\n",
       "\n",
       "  /* Specific color for light theme */\n",
       "  --sklearn-color-text-on-default-background: var(--sg-text-color, var(--theme-code-foreground, var(--jp-content-font-color1, black)));\n",
       "  --sklearn-color-background: var(--sg-background-color, var(--theme-background, var(--jp-layout-color0, white)));\n",
       "  --sklearn-color-border-box: var(--sg-text-color, var(--theme-code-foreground, var(--jp-content-font-color1, black)));\n",
       "  --sklearn-color-icon: #696969;\n",
       "\n",
       "  @media (prefers-color-scheme: dark) {\n",
       "    /* Redefinition of color scheme for dark theme */\n",
       "    --sklearn-color-text-on-default-background: var(--sg-text-color, var(--theme-code-foreground, var(--jp-content-font-color1, white)));\n",
       "    --sklearn-color-background: var(--sg-background-color, var(--theme-background, var(--jp-layout-color0, #111)));\n",
       "    --sklearn-color-border-box: var(--sg-text-color, var(--theme-code-foreground, var(--jp-content-font-color1, white)));\n",
       "    --sklearn-color-icon: #878787;\n",
       "  }\n",
       "}\n",
       "\n",
       "#sk-container-id-1 {\n",
       "  color: var(--sklearn-color-text);\n",
       "}\n",
       "\n",
       "#sk-container-id-1 pre {\n",
       "  padding: 0;\n",
       "}\n",
       "\n",
       "#sk-container-id-1 input.sk-hidden--visually {\n",
       "  border: 0;\n",
       "  clip: rect(1px 1px 1px 1px);\n",
       "  clip: rect(1px, 1px, 1px, 1px);\n",
       "  height: 1px;\n",
       "  margin: -1px;\n",
       "  overflow: hidden;\n",
       "  padding: 0;\n",
       "  position: absolute;\n",
       "  width: 1px;\n",
       "}\n",
       "\n",
       "#sk-container-id-1 div.sk-dashed-wrapped {\n",
       "  border: 1px dashed var(--sklearn-color-line);\n",
       "  margin: 0 0.4em 0.5em 0.4em;\n",
       "  box-sizing: border-box;\n",
       "  padding-bottom: 0.4em;\n",
       "  background-color: var(--sklearn-color-background);\n",
       "}\n",
       "\n",
       "#sk-container-id-1 div.sk-container {\n",
       "  /* jupyter's `normalize.less` sets `[hidden] { display: none; }`\n",
       "     but bootstrap.min.css set `[hidden] { display: none !important; }`\n",
       "     so we also need the `!important` here to be able to override the\n",
       "     default hidden behavior on the sphinx rendered scikit-learn.org.\n",
       "     See: https://github.com/scikit-learn/scikit-learn/issues/21755 */\n",
       "  display: inline-block !important;\n",
       "  position: relative;\n",
       "}\n",
       "\n",
       "#sk-container-id-1 div.sk-text-repr-fallback {\n",
       "  display: none;\n",
       "}\n",
       "\n",
       "div.sk-parallel-item,\n",
       "div.sk-serial,\n",
       "div.sk-item {\n",
       "  /* draw centered vertical line to link estimators */\n",
       "  background-image: linear-gradient(var(--sklearn-color-text-on-default-background), var(--sklearn-color-text-on-default-background));\n",
       "  background-size: 2px 100%;\n",
       "  background-repeat: no-repeat;\n",
       "  background-position: center center;\n",
       "}\n",
       "\n",
       "/* Parallel-specific style estimator block */\n",
       "\n",
       "#sk-container-id-1 div.sk-parallel-item::after {\n",
       "  content: \"\";\n",
       "  width: 100%;\n",
       "  border-bottom: 2px solid var(--sklearn-color-text-on-default-background);\n",
       "  flex-grow: 1;\n",
       "}\n",
       "\n",
       "#sk-container-id-1 div.sk-parallel {\n",
       "  display: flex;\n",
       "  align-items: stretch;\n",
       "  justify-content: center;\n",
       "  background-color: var(--sklearn-color-background);\n",
       "  position: relative;\n",
       "}\n",
       "\n",
       "#sk-container-id-1 div.sk-parallel-item {\n",
       "  display: flex;\n",
       "  flex-direction: column;\n",
       "}\n",
       "\n",
       "#sk-container-id-1 div.sk-parallel-item:first-child::after {\n",
       "  align-self: flex-end;\n",
       "  width: 50%;\n",
       "}\n",
       "\n",
       "#sk-container-id-1 div.sk-parallel-item:last-child::after {\n",
       "  align-self: flex-start;\n",
       "  width: 50%;\n",
       "}\n",
       "\n",
       "#sk-container-id-1 div.sk-parallel-item:only-child::after {\n",
       "  width: 0;\n",
       "}\n",
       "\n",
       "/* Serial-specific style estimator block */\n",
       "\n",
       "#sk-container-id-1 div.sk-serial {\n",
       "  display: flex;\n",
       "  flex-direction: column;\n",
       "  align-items: center;\n",
       "  background-color: var(--sklearn-color-background);\n",
       "  padding-right: 1em;\n",
       "  padding-left: 1em;\n",
       "}\n",
       "\n",
       "\n",
       "/* Toggleable style: style used for estimator/Pipeline/ColumnTransformer box that is\n",
       "clickable and can be expanded/collapsed.\n",
       "- Pipeline and ColumnTransformer use this feature and define the default style\n",
       "- Estimators will overwrite some part of the style using the `sk-estimator` class\n",
       "*/\n",
       "\n",
       "/* Pipeline and ColumnTransformer style (default) */\n",
       "\n",
       "#sk-container-id-1 div.sk-toggleable {\n",
       "  /* Default theme specific background. It is overwritten whether we have a\n",
       "  specific estimator or a Pipeline/ColumnTransformer */\n",
       "  background-color: var(--sklearn-color-background);\n",
       "}\n",
       "\n",
       "/* Toggleable label */\n",
       "#sk-container-id-1 label.sk-toggleable__label {\n",
       "  cursor: pointer;\n",
       "  display: block;\n",
       "  width: 100%;\n",
       "  margin-bottom: 0;\n",
       "  padding: 0.5em;\n",
       "  box-sizing: border-box;\n",
       "  text-align: center;\n",
       "}\n",
       "\n",
       "#sk-container-id-1 label.sk-toggleable__label-arrow:before {\n",
       "  /* Arrow on the left of the label */\n",
       "  content: \"▸\";\n",
       "  float: left;\n",
       "  margin-right: 0.25em;\n",
       "  color: var(--sklearn-color-icon);\n",
       "}\n",
       "\n",
       "#sk-container-id-1 label.sk-toggleable__label-arrow:hover:before {\n",
       "  color: var(--sklearn-color-text);\n",
       "}\n",
       "\n",
       "/* Toggleable content - dropdown */\n",
       "\n",
       "#sk-container-id-1 div.sk-toggleable__content {\n",
       "  max-height: 0;\n",
       "  max-width: 0;\n",
       "  overflow: hidden;\n",
       "  text-align: left;\n",
       "  /* unfitted */\n",
       "  background-color: var(--sklearn-color-unfitted-level-0);\n",
       "}\n",
       "\n",
       "#sk-container-id-1 div.sk-toggleable__content.fitted {\n",
       "  /* fitted */\n",
       "  background-color: var(--sklearn-color-fitted-level-0);\n",
       "}\n",
       "\n",
       "#sk-container-id-1 div.sk-toggleable__content pre {\n",
       "  margin: 0.2em;\n",
       "  border-radius: 0.25em;\n",
       "  color: var(--sklearn-color-text);\n",
       "  /* unfitted */\n",
       "  background-color: var(--sklearn-color-unfitted-level-0);\n",
       "}\n",
       "\n",
       "#sk-container-id-1 div.sk-toggleable__content.fitted pre {\n",
       "  /* unfitted */\n",
       "  background-color: var(--sklearn-color-fitted-level-0);\n",
       "}\n",
       "\n",
       "#sk-container-id-1 input.sk-toggleable__control:checked~div.sk-toggleable__content {\n",
       "  /* Expand drop-down */\n",
       "  max-height: 200px;\n",
       "  max-width: 100%;\n",
       "  overflow: auto;\n",
       "}\n",
       "\n",
       "#sk-container-id-1 input.sk-toggleable__control:checked~label.sk-toggleable__label-arrow:before {\n",
       "  content: \"▾\";\n",
       "}\n",
       "\n",
       "/* Pipeline/ColumnTransformer-specific style */\n",
       "\n",
       "#sk-container-id-1 div.sk-label input.sk-toggleable__control:checked~label.sk-toggleable__label {\n",
       "  color: var(--sklearn-color-text);\n",
       "  background-color: var(--sklearn-color-unfitted-level-2);\n",
       "}\n",
       "\n",
       "#sk-container-id-1 div.sk-label.fitted input.sk-toggleable__control:checked~label.sk-toggleable__label {\n",
       "  background-color: var(--sklearn-color-fitted-level-2);\n",
       "}\n",
       "\n",
       "/* Estimator-specific style */\n",
       "\n",
       "/* Colorize estimator box */\n",
       "#sk-container-id-1 div.sk-estimator input.sk-toggleable__control:checked~label.sk-toggleable__label {\n",
       "  /* unfitted */\n",
       "  background-color: var(--sklearn-color-unfitted-level-2);\n",
       "}\n",
       "\n",
       "#sk-container-id-1 div.sk-estimator.fitted input.sk-toggleable__control:checked~label.sk-toggleable__label {\n",
       "  /* fitted */\n",
       "  background-color: var(--sklearn-color-fitted-level-2);\n",
       "}\n",
       "\n",
       "#sk-container-id-1 div.sk-label label.sk-toggleable__label,\n",
       "#sk-container-id-1 div.sk-label label {\n",
       "  /* The background is the default theme color */\n",
       "  color: var(--sklearn-color-text-on-default-background);\n",
       "}\n",
       "\n",
       "/* On hover, darken the color of the background */\n",
       "#sk-container-id-1 div.sk-label:hover label.sk-toggleable__label {\n",
       "  color: var(--sklearn-color-text);\n",
       "  background-color: var(--sklearn-color-unfitted-level-2);\n",
       "}\n",
       "\n",
       "/* Label box, darken color on hover, fitted */\n",
       "#sk-container-id-1 div.sk-label.fitted:hover label.sk-toggleable__label.fitted {\n",
       "  color: var(--sklearn-color-text);\n",
       "  background-color: var(--sklearn-color-fitted-level-2);\n",
       "}\n",
       "\n",
       "/* Estimator label */\n",
       "\n",
       "#sk-container-id-1 div.sk-label label {\n",
       "  font-family: monospace;\n",
       "  font-weight: bold;\n",
       "  display: inline-block;\n",
       "  line-height: 1.2em;\n",
       "}\n",
       "\n",
       "#sk-container-id-1 div.sk-label-container {\n",
       "  text-align: center;\n",
       "}\n",
       "\n",
       "/* Estimator-specific */\n",
       "#sk-container-id-1 div.sk-estimator {\n",
       "  font-family: monospace;\n",
       "  border: 1px dotted var(--sklearn-color-border-box);\n",
       "  border-radius: 0.25em;\n",
       "  box-sizing: border-box;\n",
       "  margin-bottom: 0.5em;\n",
       "  /* unfitted */\n",
       "  background-color: var(--sklearn-color-unfitted-level-0);\n",
       "}\n",
       "\n",
       "#sk-container-id-1 div.sk-estimator.fitted {\n",
       "  /* fitted */\n",
       "  background-color: var(--sklearn-color-fitted-level-0);\n",
       "}\n",
       "\n",
       "/* on hover */\n",
       "#sk-container-id-1 div.sk-estimator:hover {\n",
       "  /* unfitted */\n",
       "  background-color: var(--sklearn-color-unfitted-level-2);\n",
       "}\n",
       "\n",
       "#sk-container-id-1 div.sk-estimator.fitted:hover {\n",
       "  /* fitted */\n",
       "  background-color: var(--sklearn-color-fitted-level-2);\n",
       "}\n",
       "\n",
       "/* Specification for estimator info (e.g. \"i\" and \"?\") */\n",
       "\n",
       "/* Common style for \"i\" and \"?\" */\n",
       "\n",
       ".sk-estimator-doc-link,\n",
       "a:link.sk-estimator-doc-link,\n",
       "a:visited.sk-estimator-doc-link {\n",
       "  float: right;\n",
       "  font-size: smaller;\n",
       "  line-height: 1em;\n",
       "  font-family: monospace;\n",
       "  background-color: var(--sklearn-color-background);\n",
       "  border-radius: 1em;\n",
       "  height: 1em;\n",
       "  width: 1em;\n",
       "  text-decoration: none !important;\n",
       "  margin-left: 1ex;\n",
       "  /* unfitted */\n",
       "  border: var(--sklearn-color-unfitted-level-1) 1pt solid;\n",
       "  color: var(--sklearn-color-unfitted-level-1);\n",
       "}\n",
       "\n",
       ".sk-estimator-doc-link.fitted,\n",
       "a:link.sk-estimator-doc-link.fitted,\n",
       "a:visited.sk-estimator-doc-link.fitted {\n",
       "  /* fitted */\n",
       "  border: var(--sklearn-color-fitted-level-1) 1pt solid;\n",
       "  color: var(--sklearn-color-fitted-level-1);\n",
       "}\n",
       "\n",
       "/* On hover */\n",
       "div.sk-estimator:hover .sk-estimator-doc-link:hover,\n",
       ".sk-estimator-doc-link:hover,\n",
       "div.sk-label-container:hover .sk-estimator-doc-link:hover,\n",
       ".sk-estimator-doc-link:hover {\n",
       "  /* unfitted */\n",
       "  background-color: var(--sklearn-color-unfitted-level-3);\n",
       "  color: var(--sklearn-color-background);\n",
       "  text-decoration: none;\n",
       "}\n",
       "\n",
       "div.sk-estimator.fitted:hover .sk-estimator-doc-link.fitted:hover,\n",
       ".sk-estimator-doc-link.fitted:hover,\n",
       "div.sk-label-container:hover .sk-estimator-doc-link.fitted:hover,\n",
       ".sk-estimator-doc-link.fitted:hover {\n",
       "  /* fitted */\n",
       "  background-color: var(--sklearn-color-fitted-level-3);\n",
       "  color: var(--sklearn-color-background);\n",
       "  text-decoration: none;\n",
       "}\n",
       "\n",
       "/* Span, style for the box shown on hovering the info icon */\n",
       ".sk-estimator-doc-link span {\n",
       "  display: none;\n",
       "  z-index: 9999;\n",
       "  position: relative;\n",
       "  font-weight: normal;\n",
       "  right: .2ex;\n",
       "  padding: .5ex;\n",
       "  margin: .5ex;\n",
       "  width: min-content;\n",
       "  min-width: 20ex;\n",
       "  max-width: 50ex;\n",
       "  color: var(--sklearn-color-text);\n",
       "  box-shadow: 2pt 2pt 4pt #999;\n",
       "  /* unfitted */\n",
       "  background: var(--sklearn-color-unfitted-level-0);\n",
       "  border: .5pt solid var(--sklearn-color-unfitted-level-3);\n",
       "}\n",
       "\n",
       ".sk-estimator-doc-link.fitted span {\n",
       "  /* fitted */\n",
       "  background: var(--sklearn-color-fitted-level-0);\n",
       "  border: var(--sklearn-color-fitted-level-3);\n",
       "}\n",
       "\n",
       ".sk-estimator-doc-link:hover span {\n",
       "  display: block;\n",
       "}\n",
       "\n",
       "/* \"?\"-specific style due to the `<a>` HTML tag */\n",
       "\n",
       "#sk-container-id-1 a.estimator_doc_link {\n",
       "  float: right;\n",
       "  font-size: 1rem;\n",
       "  line-height: 1em;\n",
       "  font-family: monospace;\n",
       "  background-color: var(--sklearn-color-background);\n",
       "  border-radius: 1rem;\n",
       "  height: 1rem;\n",
       "  width: 1rem;\n",
       "  text-decoration: none;\n",
       "  /* unfitted */\n",
       "  color: var(--sklearn-color-unfitted-level-1);\n",
       "  border: var(--sklearn-color-unfitted-level-1) 1pt solid;\n",
       "}\n",
       "\n",
       "#sk-container-id-1 a.estimator_doc_link.fitted {\n",
       "  /* fitted */\n",
       "  border: var(--sklearn-color-fitted-level-1) 1pt solid;\n",
       "  color: var(--sklearn-color-fitted-level-1);\n",
       "}\n",
       "\n",
       "/* On hover */\n",
       "#sk-container-id-1 a.estimator_doc_link:hover {\n",
       "  /* unfitted */\n",
       "  background-color: var(--sklearn-color-unfitted-level-3);\n",
       "  color: var(--sklearn-color-background);\n",
       "  text-decoration: none;\n",
       "}\n",
       "\n",
       "#sk-container-id-1 a.estimator_doc_link.fitted:hover {\n",
       "  /* fitted */\n",
       "  background-color: var(--sklearn-color-fitted-level-3);\n",
       "}\n",
       "</style><div id=\"sk-container-id-1\" class=\"sk-top-container\"><div class=\"sk-text-repr-fallback\"><pre>KMeans(n_clusters=5, random_state=42)</pre><b>In a Jupyter environment, please rerun this cell to show the HTML representation or trust the notebook. <br />On GitHub, the HTML representation is unable to render, please try loading this page with nbviewer.org.</b></div><div class=\"sk-container\" hidden><div class=\"sk-item\"><div class=\"sk-estimator fitted sk-toggleable\"><input class=\"sk-toggleable__control sk-hidden--visually\" id=\"sk-estimator-id-1\" type=\"checkbox\" checked><label for=\"sk-estimator-id-1\" class=\"sk-toggleable__label fitted sk-toggleable__label-arrow fitted\">&nbsp;&nbsp;KMeans<a class=\"sk-estimator-doc-link fitted\" rel=\"noreferrer\" target=\"_blank\" href=\"https://scikit-learn.org/1.4/modules/generated/sklearn.cluster.KMeans.html\">?<span>Documentation for KMeans</span></a><span class=\"sk-estimator-doc-link fitted\">i<span>Fitted</span></span></label><div class=\"sk-toggleable__content fitted\"><pre>KMeans(n_clusters=5, random_state=42)</pre></div> </div></div></div></div>"
      ],
      "text/plain": [
       "KMeans(n_clusters=5, random_state=42)"
      ]
     },
     "execution_count": 24,
     "metadata": {},
     "output_type": "execute_result"
    }
   ],
   "source": [
    "model.fit(df)"
   ]
  },
  {
   "cell_type": "code",
   "execution_count": 25,
   "id": "41ac85aa-b209-41c2-8b93-f362c4c2c687",
   "metadata": {},
   "outputs": [],
   "source": [
    "tahmin=model.predict(df)"
   ]
  },
  {
   "cell_type": "code",
   "execution_count": 26,
   "id": "165e6208-fb5e-4118-a9c4-fca7e3335fb0",
   "metadata": {},
   "outputs": [
    {
     "data": {
      "text/plain": [
       "0.5478313248830189"
      ]
     },
     "execution_count": 26,
     "metadata": {},
     "output_type": "execute_result"
    }
   ],
   "source": [
    "silhouette_score(df,tahmin)"
   ]
  },
  {
   "cell_type": "code",
   "execution_count": 27,
   "id": "e5a34ed3-8647-4866-8a3e-5cc45c20fa01",
   "metadata": {},
   "outputs": [],
   "source": [
    "df[\"Cluster\"]=tahmin"
   ]
  },
  {
   "cell_type": "code",
   "execution_count": 28,
   "id": "a6a0c5e6-a2ef-4f2f-8db1-e2c126ec3990",
   "metadata": {},
   "outputs": [
    {
     "data": {
      "text/plain": [
       "Cluster\n",
       "0    101\n",
       "3    100\n",
       "4     77\n",
       "1     55\n",
       "2      1\n",
       "Name: count, dtype: int64"
      ]
     },
     "execution_count": 28,
     "metadata": {},
     "output_type": "execute_result"
    }
   ],
   "source": [
    "df[\"Cluster\"].value_counts()"
   ]
  },
  {
   "cell_type": "code",
   "execution_count": 29,
   "id": "20a39e6a-b818-43f7-9f3f-6745d80de1bc",
   "metadata": {},
   "outputs": [
    {
     "data": {
      "text/plain": [
       "<matplotlib.colorbar.Colorbar at 0x1a9fe2bcec0>"
      ]
     },
     "execution_count": 29,
     "metadata": {},
     "output_type": "execute_result"
    },
    {
     "data": {
      "image/png": "[encoded data removed]",
      "text/plain": [
       "<Figure size 1000x600 with 2 Axes>"
      ]
     },
     "metadata": {},
     "output_type": "display_data"
    }
   ],
   "source": [
    "plt.figure(figsize=(10,6))\n",
    "plt.scatter(df[\"culmen_length_mm\"],df[\"body_mass_g\"], c=tahmin, cmap='viridis')\n",
    "plt.colorbar()"
   ]
  },
  {
   "cell_type": "code",
   "execution_count": 32,
   "id": "e64142e4-1b24-4076-ae4f-9ea8323ac51c",
   "metadata": {},
   "outputs": [
    {
     "data": {
      "application/vnd.plotly.v1+json": {
       "config": {
        "plotlyServerURL": "https://plot.ly"
       },
       "data": [
        {
         "hovertemplate": "culmen_length_mm: %{x} <br>body_mass_g %{y} <br>culmen_depth_mm: %{z}",
         "marker": {
          "line": {
           "width": 1
          },
          "size": 6
         },
         "mode": "markers",
         "name": "3",
         "type": "scatter3d",
         "x": [
          39.1,
          39.5,
          38.6,
          36.6,
          46,
          35.9,
          38.2,
          38.8,
          35.3,
          40.5,
          37.2,
          40.9,
          39.2,
          38.8,
          40.8,
          42.3,
          40.1,
          42,
          41.4,
          40.6,
          37.6,
          41.1,
          41.6,
          41.1,
          39.7,
          45.8,
          35.5,
          42.8,
          40.9,
          37.2,
          42.1,
          36.7,
          35.1,
          36.3,
          38.3,
          41.1,
          40.8,
          38.1,
          43.2,
          35,
          37.8,
          38.6,
          38.2,
          38.1,
          42.2,
          39.6,
          42.7,
          37.3,
          41.4,
          40.6,
          41.5,
          44.1,
          41.1,
          40.2,
          39.7,
          40.7,
          39.2,
          37.8,
          36,
          41.5,
          50,
          52.7,
          45.2,
          51.3,
          46,
          51.3,
          46.6,
          51.7,
          47,
          52,
          50.5,
          58,
          50.6,
          52,
          49.5,
          46.4,
          54.2,
          51,
          47.5,
          47.6,
          49,
          50.9,
          49,
          49.8,
          51.4,
          50.7,
          49.3,
          50.2,
          51.9,
          55.8,
          49.6,
          50.8,
          50.2,
          45.8,
          42,
          42.7,
          45.3,
          45.5,
          43.8,
          45.3
         ],
         "y": [
          3750,
          3800,
          3800,
          3700,
          4200,
          3800,
          3950,
          3800,
          3800,
          3950,
          3900,
          3900,
          4150,
          3950,
          3900,
          4150,
          4300,
          4050,
          3700,
          3800,
          3750,
          4050,
          3950,
          4100,
          3900,
          4150,
          3700,
          4250,
          3700,
          3900,
          4000,
          3800,
          4200,
          3800,
          3950,
          4300,
          4300,
          3700,
          4100,
          3725,
          4250,
          3750,
          3900,
          3825,
          4275,
          3900,
          4075,
          3775,
          3875,
          4000,
          4300,
          4000,
          3900,
          3975,
          4250,
          3725,
          4250,
          3750,
          3700,
          4000,
          3900,
          3725,
          3950,
          3750,
          4150,
          3700,
          3800,
          3775,
          3700,
          4050,
          4050,
          3700,
          3800,
          4150,
          3800,
          3700,
          4300,
          4100,
          3900,
          3850,
          3950,
          3675,
          4300,
          3675,
          3950,
          4050,
          4050,
          3800,
          3950,
          4000,
          3775,
          4100,
          3775,
          4200,
          4150,
          3950,
          4300,
          4200,
          4300,
          4200
         ],
         "z": [
          18.7,
          17.4,
          21.2,
          17.8,
          21.5,
          19.2,
          18.1,
          17.2,
          18.9,
          18.9,
          18.1,
          18.9,
          21.1,
          20,
          18.4,
          21.2,
          18.9,
          19.5,
          18.6,
          18.8,
          19.1,
          18.2,
          18,
          19.1,
          18.4,
          18.9,
          17.5,
          18.5,
          16.8,
          19.4,
          19.1,
          18.8,
          19.4,
          19.5,
          19.2,
          18.1,
          18.9,
          18.6,
          18.5,
          17.9,
          20,
          17.2,
          20,
          16.5,
          19.5,
          20.7,
          18.3,
          20.5,
          18.5,
          19,
          18.3,
          18,
          17.5,
          20.1,
          17.9,
          17,
          18.6,
          18.1,
          17.1,
          18.5,
          19.5,
          19.8,
          17.8,
          18.2,
          18.9,
          19.9,
          17.8,
          20.3,
          17.3,
          18.1,
          19.6,
          17.8,
          19.4,
          19,
          19,
          17.8,
          20.8,
          18.8,
          16.8,
          18.3,
          19.5,
          17.9,
          19.6,
          17.3,
          19,
          19.7,
          19.9,
          18.8,
          19.5,
          19.8,
          18.2,
          19,
          18.7,
          14.6,
          13.5,
          13.7,
          13.7,
          13.9,
          13.9,
          13.8
         ]
        },
        {
         "hovertemplate": "culmen_length_mm: %{x} <br>body_mass_g %{y} <br>culmen_depth_mm: %{z}",
         "marker": {
          "line": {
           "width": 1
          },
          "size": 6
         },
         "mode": "markers",
         "name": "0",
         "type": "scatter3d",
         "x": [
          40.3,
          36.7,
          39.3,
          38.9,
          41.1,
          38.7,
          34.4,
          37.8,
          37.7,
          40.6,
          40.5,
          37.9,
          39.5,
          39.5,
          36.4,
          42.2,
          37.6,
          36.5,
          36,
          37,
          41.1,
          36,
          39.6,
          35,
          34.5,
          39,
          36.5,
          35.7,
          37.6,
          36.4,
          35.5,
          35.9,
          33.5,
          39.6,
          36.2,
          34.6,
          37.3,
          41.3,
          36.9,
          38.9,
          35.7,
          34,
          36.2,
          33.1,
          37.7,
          37.9,
          39.7,
          38.1,
          39.7,
          38.6,
          35.7,
          41.1,
          36.2,
          37.7,
          40.2,
          35.2,
          38.8,
          39,
          38.5,
          43.1,
          36.8,
          38.1,
          35.6,
          37,
          40.2,
          40.6,
          32.1,
          37.3,
          39,
          36.6,
          36,
          46.5,
          51.3,
          45.4,
          46.1,
          45.9,
          50.3,
          46.4,
          42.4,
          48.5,
          43.2,
          46.7,
          50.5,
          40.9,
          42.5,
          49.7,
          46.9,
          46.2,
          50.9,
          45.5,
          50.1,
          51.5,
          48.1,
          45.7,
          42.5,
          52.2,
          45.2,
          45.6,
          46.8,
          45.7,
          43.5
         ],
         "y": [
          3250,
          3450,
          3650,
          3625,
          3200,
          3450,
          3325,
          3400,
          3600,
          3550,
          3200,
          3150,
          3250,
          3300,
          3325,
          3550,
          3300,
          3150,
          3100,
          3000,
          3425,
          3450,
          3500,
          3450,
          2900,
          3550,
          2850,
          3150,
          3600,
          2850,
          3350,
          3050,
          3600,
          3550,
          3550,
          3200,
          3350,
          3550,
          3500,
          3600,
          3550,
          3400,
          3300,
          2900,
          3075,
          2925,
          3550,
          3175,
          3200,
          2900,
          3350,
          3325,
          3150,
          3500,
          3450,
          3050,
          3275,
          3050,
          3325,
          3500,
          3500,
          3425,
          3175,
          3400,
          3400,
          3475,
          3050,
          3000,
          3650,
          3475,
          3450,
          3500,
          3650,
          3525,
          3250,
          3575,
          3300,
          3450,
          3600,
          3400,
          2900,
          3300,
          3400,
          3200,
          3350,
          3600,
          2700,
          3650,
          3550,
          3500,
          3400,
          3250,
          3325,
          3600,
          3350,
          3450,
          3250,
          3525,
          3650,
          3650,
          3400
         ],
         "z": [
          18,
          19.3,
          20.6,
          17.8,
          17.6,
          19,
          18.4,
          18.3,
          18.7,
          18.6,
          17.9,
          18.6,
          16.7,
          17.8,
          17,
          18.5,
          19.3,
          18,
          18.5,
          16.9,
          19,
          17.9,
          17.7,
          17.9,
          18.1,
          17.5,
          16.6,
          16.9,
          17,
          17.1,
          16.2,
          16.6,
          19,
          17.2,
          16.1,
          17.2,
          17.8,
          20.3,
          18.6,
          18.8,
          18,
          17.1,
          17.3,
          16.1,
          16,
          18.6,
          18.9,
          17,
          17.7,
          17,
          17,
          18.6,
          17.2,
          19.8,
          17,
          15.9,
          17.6,
          17.1,
          17.9,
          19.2,
          18.5,
          17.6,
          17.5,
          16.5,
          17.1,
          17.2,
          15.5,
          16.8,
          18.7,
          18.4,
          17.8,
          17.9,
          19.2,
          18.7,
          18.2,
          17.1,
          20,
          18.6,
          17.3,
          17.5,
          16.6,
          17.9,
          18.4,
          16.6,
          16.7,
          18.6,
          16.6,
          17.5,
          19.1,
          17,
          17.9,
          18.7,
          16.4,
          17.3,
          17.3,
          18.8,
          16.6,
          19.4,
          16.5,
          17,
          18.1
         ]
        },
        {
         "hovertemplate": "culmen_length_mm: %{x} <br>body_mass_g %{y} <br>culmen_depth_mm: %{z}",
         "marker": {
          "line": {
           "width": 1
          },
          "size": 6
         },
         "mode": "markers",
         "name": "4",
         "type": "scatter3d",
         "x": [
          39.2,
          34.6,
          42.5,
          39.8,
          44.1,
          39.6,
          41.3,
          41.8,
          42.9,
          39.6,
          40.3,
          41,
          43.2,
          45.6,
          37.5,
          49.2,
          52.8,
          52,
          53.5,
          50.8,
          46.1,
          48.7,
          46.5,
          45.4,
          43.3,
          40.9,
          45.5,
          46.2,
          45.1,
          46.5,
          46.3,
          42.9,
          46.1,
          48.2,
          42.8,
          45.1,
          42.6,
          44,
          49.6,
          43.6,
          44.9,
          46.6,
          45.1,
          50.1,
          46.5,
          45,
          45.5,
          43.2,
          45.7,
          45.8,
          43.5,
          47.7,
          46.4,
          48.2,
          46.4,
          47.5,
          45.2,
          49.1,
          47.4,
          44.9,
          43.4,
          47.5,
          47.5,
          45.5,
          44.5,
          49.4,
          46.9,
          48.4,
          48.5,
          47.2,
          41.7,
          43.3,
          50.5,
          43.5,
          46.2,
          47.2,
          46.8
         ],
         "y": [
          4675,
          4400,
          4500,
          4650,
          4400,
          4600,
          4400,
          4450,
          4700,
          4450,
          4350,
          4725,
          4775,
          4600,
          4475,
          4400,
          4550,
          4800,
          4500,
          4450,
          4500,
          4450,
          4550,
          4800,
          4400,
          4650,
          4650,
          4800,
          5000,
          4400,
          5050,
          5000,
          5100,
          4600,
          4700,
          5050,
          4950,
          4350,
          4750,
          4900,
          5100,
          4850,
          4400,
          5000,
          4900,
          5050,
          5000,
          4450,
          4400,
          4700,
          4700,
          4750,
          5000,
          5100,
          4700,
          4600,
          4750,
          4625,
          4725,
          4750,
          4600,
          4875,
          4950,
          4750,
          4850,
          4925,
          4875,
          4625,
          4850,
          4975,
          4700,
          4575,
          5000,
          4650,
          4375,
          4925,
          4850
         ],
         "z": [
          19.6,
          21.1,
          20.7,
          19.1,
          19.7,
          18.8,
          21.1,
          19.4,
          17.6,
          18.1,
          18.5,
          20,
          19,
          20.3,
          18.5,
          18.2,
          20,
          20.7,
          19.9,
          18.5,
          13.2,
          14.1,
          13.5,
          14.6,
          13.4,
          13.7,
          13.7,
          14.5,
          14.5,
          14.5,
          15.8,
          13.1,
          15.1,
          14.3,
          14.2,
          14.5,
          13.7,
          13.6,
          15,
          13.9,
          13.3,
          14.2,
          14.4,
          15,
          14.4,
          15.4,
          15,
          14.5,
          13.9,
          14.2,
          14.2,
          15,
          15.6,
          15.6,
          15,
          14.2,
          13.8,
          14.5,
          14.6,
          13.8,
          14.4,
          14,
          15,
          14.5,
          14.7,
          15.8,
          14.6,
          14.4,
          15,
          15.5,
          14.7,
          14,
          15.2,
          15.2,
          14.1,
          13.7,
          14.3
         ]
        },
        {
         "hovertemplate": "culmen_length_mm: %{x} <br>body_mass_g %{y} <br>culmen_depth_mm: %{z}",
         "marker": {
          "line": {
           "width": 1
          },
          "size": 6
         },
         "mode": "markers",
         "name": "2",
         "type": "scatter3d",
         "x": [
          42
         ],
         "y": [
          4250
         ],
         "z": [
          20.2
         ]
        },
        {
         "hovertemplate": "culmen_length_mm: %{x} <br>body_mass_g %{y} <br>culmen_depth_mm: %{z}",
         "marker": {
          "line": {
           "width": 1
          },
          "size": 6
         },
         "mode": "markers",
         "name": "1",
         "type": "scatter3d",
         "x": [
          50,
          50,
          47.6,
          46.7,
          46.8,
          49,
          48.4,
          49.3,
          49.2,
          48.7,
          50.2,
          47.8,
          50,
          47.3,
          59.6,
          49.1,
          48.4,
          44.4,
          48.7,
          49.6,
          50.5,
          50.5,
          45.2,
          48.5,
          50.4,
          46.2,
          54.3,
          49.8,
          49.5,
          50.7,
          46.5,
          48.6,
          51.1,
          45.2,
          52.5,
          50,
          50.8,
          51.3,
          52.1,
          52.2,
          49.5,
          50.8,
          51.1,
          55.9,
          49.1,
          46.8,
          53.4,
          48.1,
          49.8,
          51.5,
          55.1,
          48.8,
          50.4,
          45.2,
          49.9
         ],
         "y": [
          5700,
          5700,
          5400,
          5200,
          5150,
          5550,
          5850,
          5850,
          6300,
          5350,
          5700,
          5650,
          5550,
          5250,
          6050,
          5150,
          5400,
          5250,
          5350,
          5700,
          5550,
          5400,
          5300,
          5300,
          5550,
          5300,
          5650,
          5700,
          5800,
          5550,
          5200,
          5800,
          6000,
          5950,
          5450,
          5350,
          5600,
          5300,
          5550,
          5400,
          5650,
          5200,
          5250,
          5600,
          5500,
          5500,
          5500,
          5500,
          5950,
          5500,
          5850,
          6000,
          5750,
          5200,
          5400
         ],
         "z": [
          16.3,
          15.2,
          14.5,
          15.3,
          15.4,
          16.1,
          14.6,
          15.7,
          15.2,
          15.1,
          14.3,
          15,
          15.3,
          15.3,
          17,
          14.8,
          16.3,
          17.3,
          15.7,
          16,
          15.9,
          15.9,
          15.8,
          14.1,
          15.3,
          14.9,
          15.7,
          16.8,
          16.2,
          15,
          14.8,
          16,
          16.3,
          16.4,
          15.6,
          15.9,
          17.3,
          14.2,
          17,
          17.1,
          16.1,
          15.7,
          16.5,
          17,
          15,
          16.1,
          15.8,
          15.1,
          15.9,
          16.3,
          16,
          16.2,
          15.7,
          14.8,
          16.1
         ]
        }
       ],
       "layout": {
        "autosize": true,
        "font": {
         "color": "black",
         "family": "Gilroy",
         "size": 12
        },
        "height": 800,
        "scene": {
         "aspectmode": "auto",
         "aspectratio": {
          "x": 1,
          "y": 1,
          "z": 1
         },
         "camera": {
          "center": {
           "x": 0,
           "y": 0,
           "z": 0
          },
          "eye": {
           "x": -1.0858296057720713,
           "y": 0.29473513498401327,
           "z": 1.1317553682619341
          },
          "projection": {
           "type": "perspective"
          },
          "up": {
           "x": 0,
           "y": 0,
           "z": 1
          }
         },
         "xaxis": {
          "title": {
           "font": {
            "color": "black"
           },
           "text": "culmen_length_mm"
          },
          "type": "linear"
         },
         "yaxis": {
          "title": {
           "font": {
            "color": "black"
           },
           "text": "body_mass_g"
          },
          "type": "linear"
         },
         "zaxis": {
          "title": {
           "font": {
            "color": "black"
           },
           "text": "culmen_depth_mm"
          },
          "type": "linear"
         }
        },
        "showlegend": true,
        "template": {
         "data": {
          "bar": [
           {
            "error_x": {
             "color": "#2a3f5f"
            },
            "error_y": {
             "color": "#2a3f5f"
            },
            "marker": {
             "line": {
              "color": "#E5ECF6",
              "width": 0.5
             },
             "pattern": {
              "fillmode": "overlay",
              "size": 10,
              "solidity": 0.2
             }
            },
            "type": "bar"
           }
          ],
          "barpolar": [
           {
            "marker": {
             "line": {
              "color": "#E5ECF6",
              "width": 0.5
             },
             "pattern": {
              "fillmode": "overlay",
              "size": 10,
              "solidity": 0.2
             }
            },
            "type": "barpolar"
           }
          ],
          "carpet": [
           {
            "aaxis": {
             "endlinecolor": "#2a3f5f",
             "gridcolor": "white",
             "linecolor": "white",
             "minorgridcolor": "white",
             "startlinecolor": "#2a3f5f"
            },
            "baxis": {
             "endlinecolor": "#2a3f5f",
             "gridcolor": "white",
             "linecolor": "white",
             "minorgridcolor": "white",
             "startlinecolor": "#2a3f5f"
            },
            "type": "carpet"
           }
          ],
          "choropleth": [
           {
            "colorbar": {
             "outlinewidth": 0,
             "ticks": ""
            },
            "type": "choropleth"
           }
          ],
          "contour": [
           {
            "colorbar": {
             "outlinewidth": 0,
             "ticks": ""
            },
            "colorscale": [
             [
              0,
              "#0d0887"
             ],
             [
              0.1111111111111111,
              "#46039f"
             ],
             [
              0.2222222222222222,
              "#7201a8"
             ],
             [
              0.3333333333333333,
              "#9c179e"
             ],
             [
              0.4444444444444444,
              "#bd3786"
             ],
             [
              0.5555555555555556,
              "#d8576b"
             ],
             [
              0.6666666666666666,
              "#ed7953"
             ],
             [
              0.7777777777777778,
              "#fb9f3a"
             ],
             [
              0.8888888888888888,
              "#fdca26"
             ],
             [
              1,
              "#f0f921"
             ]
            ],
            "type": "contour"
           }
          ],
          "contourcarpet": [
           {
            "colorbar": {
             "outlinewidth": 0,
             "ticks": ""
            },
            "type": "contourcarpet"
           }
          ],
          "heatmap": [
           {
            "colorbar": {
             "outlinewidth": 0,
             "ticks": ""
            },
            "colorscale": [
             [
              0,
              "#0d0887"
             ],
             [
              0.1111111111111111,
              "#46039f"
             ],
             [
              0.2222222222222222,
              "#7201a8"
             ],
             [
              0.3333333333333333,
              "#9c179e"
             ],
             [
              0.4444444444444444,
              "#bd3786"
             ],
             [
              0.5555555555555556,
              "#d8576b"
             ],
             [
              0.6666666666666666,
              "#ed7953"
             ],
             [
              0.7777777777777778,
              "#fb9f3a"
             ],
             [
              0.8888888888888888,
              "#fdca26"
             ],
             [
              1,
              "#f0f921"
             ]
            ],
            "type": "heatmap"
           }
          ],
          "heatmapgl": [
           {
            "colorbar": {
             "outlinewidth": 0,
             "ticks": ""
            },
            "colorscale": [
             [
              0,
              "#0d0887"
             ],
             [
              0.1111111111111111,
              "#46039f"
             ],
             [
              0.2222222222222222,
              "#7201a8"
             ],
             [
              0.3333333333333333,
              "#9c179e"
             ],
             [
              0.4444444444444444,
              "#bd3786"
             ],
             [
              0.5555555555555556,
              "#d8576b"
             ],
             [
              0.6666666666666666,
              "#ed7953"
             ],
             [
              0.7777777777777778,
              "#fb9f3a"
             ],
             [
              0.8888888888888888,
              "#fdca26"
             ],
             [
              1,
              "#f0f921"
             ]
            ],
            "type": "heatmapgl"
           }
          ],
          "histogram": [
           {
            "marker": {
             "pattern": {
              "fillmode": "overlay",
              "size": 10,
              "solidity": 0.2
             }
            },
            "type": "histogram"
           }
          ],
          "histogram2d": [
           {
            "colorbar": {
             "outlinewidth": 0,
             "ticks": ""
            },
            "colorscale": [
             [
              0,
              "#0d0887"
             ],
             [
              0.1111111111111111,
              "#46039f"
             ],
             [
              0.2222222222222222,
              "#7201a8"
             ],
             [
              0.3333333333333333,
              "#9c179e"
             ],
             [
              0.4444444444444444,
              "#bd3786"
             ],
             [
              0.5555555555555556,
              "#d8576b"
             ],
             [
              0.6666666666666666,
              "#ed7953"
             ],
             [
              0.7777777777777778,
              "#fb9f3a"
             ],
             [
              0.8888888888888888,
              "#fdca26"
             ],
             [
              1,
              "#f0f921"
             ]
            ],
            "type": "histogram2d"
           }
          ],
          "histogram2dcontour": [
           {
            "colorbar": {
             "outlinewidth": 0,
             "ticks": ""
            },
            "colorscale": [
             [
              0,
              "#0d0887"
             ],
             [
              0.1111111111111111,
              "#46039f"
             ],
             [
              0.2222222222222222,
              "#7201a8"
             ],
             [
              0.3333333333333333,
              "#9c179e"
             ],
             [
              0.4444444444444444,
              "#bd3786"
             ],
             [
              0.5555555555555556,
              "#d8576b"
             ],
             [
              0.6666666666666666,
              "#ed7953"
             ],
             [
              0.7777777777777778,
              "#fb9f3a"
             ],
             [
              0.8888888888888888,
              "#fdca26"
             ],
             [
              1,
              "#f0f921"
             ]
            ],
            "type": "histogram2dcontour"
           }
          ],
          "mesh3d": [
           {
            "colorbar": {
             "outlinewidth": 0,
             "ticks": ""
            },
            "type": "mesh3d"
           }
          ],
          "parcoords": [
           {
            "line": {
             "colorbar": {
              "outlinewidth": 0,
              "ticks": ""
             }
            },
            "type": "parcoords"
           }
          ],
          "pie": [
           {
            "automargin": true,
            "type": "pie"
           }
          ],
          "scatter": [
           {
            "fillpattern": {
             "fillmode": "overlay",
             "size": 10,
             "solidity": 0.2
            },
            "type": "scatter"
           }
          ],
          "scatter3d": [
           {
            "line": {
             "colorbar": {
              "outlinewidth": 0,
              "ticks": ""
             }
            },
            "marker": {
             "colorbar": {
              "outlinewidth": 0,
              "ticks": ""
             }
            },
            "type": "scatter3d"
           }
          ],
          "scattercarpet": [
           {
            "marker": {
             "colorbar": {
              "outlinewidth": 0,
              "ticks": ""
             }
            },
            "type": "scattercarpet"
           }
          ],
          "scattergeo": [
           {
            "marker": {
             "colorbar": {
              "outlinewidth": 0,
              "ticks": ""
             }
            },
            "type": "scattergeo"
           }
          ],
          "scattergl": [
           {
            "marker": {
             "colorbar": {
              "outlinewidth": 0,
              "ticks": ""
             }
            },
            "type": "scattergl"
           }
          ],
          "scattermapbox": [
           {
            "marker": {
             "colorbar": {
              "outlinewidth": 0,
              "ticks": ""
             }
            },
            "type": "scattermapbox"
           }
          ],
          "scatterpolar": [
           {
            "marker": {
             "colorbar": {
              "outlinewidth": 0,
              "ticks": ""
             }
            },
            "type": "scatterpolar"
           }
          ],
          "scatterpolargl": [
           {
            "marker": {
             "colorbar": {
              "outlinewidth": 0,
              "ticks": ""
             }
            },
            "type": "scatterpolargl"
           }
          ],
          "scatterternary": [
           {
            "marker": {
             "colorbar": {
              "outlinewidth": 0,
              "ticks": ""
             }
            },
            "type": "scatterternary"
           }
          ],
          "surface": [
           {
            "colorbar": {
             "outlinewidth": 0,
             "ticks": ""
            },
            "colorscale": [
             [
              0,
              "#0d0887"
             ],
             [
              0.1111111111111111,
              "#46039f"
             ],
             [
              0.2222222222222222,
              "#7201a8"
             ],
             [
              0.3333333333333333,
              "#9c179e"
             ],
             [
              0.4444444444444444,
              "#bd3786"
             ],
             [
              0.5555555555555556,
              "#d8576b"
             ],
             [
              0.6666666666666666,
              "#ed7953"
             ],
             [
              0.7777777777777778,
              "#fb9f3a"
             ],
             [
              0.8888888888888888,
              "#fdca26"
             ],
             [
              1,
              "#f0f921"
             ]
            ],
            "type": "surface"
           }
          ],
          "table": [
           {
            "cells": {
             "fill": {
              "color": "#EBF0F8"
             },
             "line": {
              "color": "white"
             }
            },
            "header": {
             "fill": {
              "color": "#C8D4E3"
             },
             "line": {
              "color": "white"
             }
            },
            "type": "table"
           }
          ]
         },
         "layout": {
          "annotationdefaults": {
           "arrowcolor": "#2a3f5f",
           "arrowhead": 0,
           "arrowwidth": 1
          },
          "autotypenumbers": "strict",
          "coloraxis": {
           "colorbar": {
            "outlinewidth": 0,
            "ticks": ""
           }
          },
          "colorscale": {
           "diverging": [
            [
             0,
             "#8e0152"
            ],
            [
             0.1,
             "#c51b7d"
            ],
            [
             0.2,
             "#de77ae"
            ],
            [
             0.3,
             "#f1b6da"
            ],
            [
             0.4,
             "#fde0ef"
            ],
            [
             0.5,
             "#f7f7f7"
            ],
            [
             0.6,
             "#e6f5d0"
            ],
            [
             0.7,
             "#b8e186"
            ],
            [
             0.8,
             "#7fbc41"
            ],
            [
             0.9,
             "#4d9221"
            ],
            [
             1,
             "#276419"
            ]
           ],
           "sequential": [
            [
             0,
             "#0d0887"
            ],
            [
             0.1111111111111111,
             "#46039f"
            ],
            [
             0.2222222222222222,
             "#7201a8"
            ],
            [
             0.3333333333333333,
             "#9c179e"
            ],
            [
             0.4444444444444444,
             "#bd3786"
            ],
            [
             0.5555555555555556,
             "#d8576b"
            ],
            [
             0.6666666666666666,
             "#ed7953"
            ],
            [
             0.7777777777777778,
             "#fb9f3a"
            ],
            [
             0.8888888888888888,
             "#fdca26"
            ],
            [
             1,
             "#f0f921"
            ]
           ],
           "sequentialminus": [
            [
             0,
             "#0d0887"
            ],
            [
             0.1111111111111111,
             "#46039f"
            ],
            [
             0.2222222222222222,
             "#7201a8"
            ],
            [
             0.3333333333333333,
             "#9c179e"
            ],
            [
             0.4444444444444444,
             "#bd3786"
            ],
            [
             0.5555555555555556,
             "#d8576b"
            ],
            [
             0.6666666666666666,
             "#ed7953"
            ],
            [
             0.7777777777777778,
             "#fb9f3a"
            ],
            [
             0.8888888888888888,
             "#fdca26"
            ],
            [
             1,
             "#f0f921"
            ]
           ]
          },
          "colorway": [
           "#636efa",
           "#EF553B",
           "#00cc96",
           "#ab63fa",
           "#FFA15A",
           "#19d3f3",
           "#FF6692",
           "#B6E880",
           "#FF97FF",
           "#FECB52"
          ],
          "font": {
           "color": "#2a3f5f"
          },
          "geo": {
           "bgcolor": "white",
           "lakecolor": "white",
           "landcolor": "#E5ECF6",
           "showlakes": true,
           "showland": true,
           "subunitcolor": "white"
          },
          "hoverlabel": {
           "align": "left"
          },
          "hovermode": "closest",
          "mapbox": {
           "style": "light"
          },
          "paper_bgcolor": "white",
          "plot_bgcolor": "#E5ECF6",
          "polar": {
           "angularaxis": {
            "gridcolor": "white",
            "linecolor": "white",
            "ticks": ""
           },
           "bgcolor": "#E5ECF6",
           "radialaxis": {
            "gridcolor": "white",
            "linecolor": "white",
            "ticks": ""
           }
          },
          "scene": {
           "xaxis": {
            "backgroundcolor": "#E5ECF6",
            "gridcolor": "white",
            "gridwidth": 2,
            "linecolor": "white",
            "showbackground": true,
            "ticks": "",
            "zerolinecolor": "white"
           },
           "yaxis": {
            "backgroundcolor": "#E5ECF6",
            "gridcolor": "white",
            "gridwidth": 2,
            "linecolor": "white",
            "showbackground": true,
            "ticks": "",
            "zerolinecolor": "white"
           },
           "zaxis": {
            "backgroundcolor": "#E5ECF6",
            "gridcolor": "white",
            "gridwidth": 2,
            "linecolor": "white",
            "showbackground": true,
            "ticks": "",
            "zerolinecolor": "white"
           }
          },
          "shapedefaults": {
           "line": {
            "color": "#2a3f5f"
           }
          },
          "ternary": {
           "aaxis": {
            "gridcolor": "white",
            "linecolor": "white",
            "ticks": ""
           },
           "baxis": {
            "gridcolor": "white",
            "linecolor": "white",
            "ticks": ""
           },
           "bgcolor": "#E5ECF6",
           "caxis": {
            "gridcolor": "white",
            "linecolor": "white",
            "ticks": ""
           }
          },
          "title": {
           "x": 0.05
          },
          "xaxis": {
           "automargin": true,
           "gridcolor": "white",
           "linecolor": "white",
           "ticks": "",
           "title": {
            "standoff": 15
           },
           "zerolinecolor": "white",
           "zerolinewidth": 2
          },
          "yaxis": {
           "automargin": true,
           "gridcolor": "white",
           "linecolor": "white",
           "ticks": "",
           "title": {
            "standoff": 15
           },
           "zerolinecolor": "white",
           "zerolinewidth": 2
          }
         }
        },
        "width": 800
       }
      },
      "image/png": "[encoded data removed]",
      "text/html": [
       "<div>                            <div id=\"5cb2c01f-7c2d-4b71-bd5e-850f939cabba\" class=\"plotly-graph-div\" style=\"height:800px; width:800px;\"></div>            <script type=\"text/javascript\">                require([\"plotly\"], function(Plotly) {                    window.PLOTLYENV=window.PLOTLYENV || {};                                    if (document.getElementById(\"5cb2c01f-7c2d-4b71-bd5e-850f939cabba\")) {                    Plotly.newPlot(                        \"5cb2c01f-7c2d-4b71-bd5e-850f939cabba\",                        [{\"marker\":{\"line\":{\"width\":1},\"size\":6},\"mode\":\"markers\",\"name\":\"3\",\"x\":[39.1,39.5,38.6,36.6,46.0,35.9,38.2,38.8,35.3,40.5,37.2,40.9,39.2,38.8,40.8,42.3,40.1,42.0,41.4,40.6,37.6,41.1,41.6,41.1,39.7,45.8,35.5,42.8,40.9,37.2,42.1,36.7,35.1,36.3,38.3,41.1,40.8,38.1,43.2,35.0,37.8,38.6,38.2,38.1,42.2,39.6,42.7,37.3,41.4,40.6,41.5,44.1,41.1,40.2,39.7,40.7,39.2,37.8,36.0,41.5,50.0,52.7,45.2,51.3,46.0,51.3,46.6,51.7,47.0,52.0,50.5,58.0,50.6,52.0,49.5,46.4,54.2,51.0,47.5,47.6,49.0,50.9,49.0,49.8,51.4,50.7,49.3,50.2,51.9,55.8,49.6,50.8,50.2,45.8,42.0,42.7,45.3,45.5,43.8,45.3],\"y\":[3750.0,3800.0,3800.0,3700.0,4200.0,3800.0,3950.0,3800.0,3800.0,3950.0,3900.0,3900.0,4150.0,3950.0,3900.0,4150.0,4300.0,4050.0,3700.0,3800.0,3750.0,4050.0,3950.0,4100.0,3900.0,4150.0,3700.0,4250.0,3700.0,3900.0,4000.0,3800.0,4200.0,3800.0,3950.0,4300.0,4300.0,3700.0,4100.0,3725.0,4250.0,3750.0,3900.0,3825.0,4275.0,3900.0,4075.0,3775.0,3875.0,4000.0,4300.0,4000.0,3900.0,3975.0,4250.0,3725.0,4250.0,3750.0,3700.0,4000.0,3900.0,3725.0,3950.0,3750.0,4150.0,3700.0,3800.0,3775.0,3700.0,4050.0,4050.0,3700.0,3800.0,4150.0,3800.0,3700.0,4300.0,4100.0,3900.0,3850.0,3950.0,3675.0,4300.0,3675.0,3950.0,4050.0,4050.0,3800.0,3950.0,4000.0,3775.0,4100.0,3775.0,4200.0,4150.0,3950.0,4300.0,4200.0,4300.0,4200.0],\"z\":[18.7,17.4,21.2,17.8,21.5,19.2,18.1,17.2,18.9,18.9,18.1,18.9,21.1,20.0,18.4,21.2,18.9,19.5,18.6,18.8,19.1,18.2,18.0,19.1,18.4,18.9,17.5,18.5,16.8,19.4,19.1,18.8,19.4,19.5,19.2,18.1,18.9,18.6,18.5,17.9,20.0,17.2,20.0,16.5,19.5,20.7,18.3,20.5,18.5,19.0,18.3,18.0,17.5,20.1,17.9,17.0,18.6,18.1,17.1,18.5,19.5,19.8,17.8,18.2,18.9,19.9,17.8,20.3,17.3,18.1,19.6,17.8,19.4,19.0,19.0,17.8,20.8,18.8,16.8,18.3,19.5,17.9,19.6,17.3,19.0,19.7,19.9,18.8,19.5,19.8,18.2,19.0,18.7,14.6,13.5,13.7,13.7,13.9,13.9,13.8],\"type\":\"scatter3d\",\"hovertemplate\":\"culmen_length_mm: %{x} \\u003cbr\\u003ebody_mass_g %{y} \\u003cbr\\u003eculmen_depth_mm: %{z}\"},{\"marker\":{\"line\":{\"width\":1},\"size\":6},\"mode\":\"markers\",\"name\":\"0\",\"x\":[40.3,36.7,39.3,38.9,41.1,38.7,34.4,37.8,37.7,40.6,40.5,37.9,39.5,39.5,36.4,42.2,37.6,36.5,36.0,37.0,41.1,36.0,39.6,35.0,34.5,39.0,36.5,35.7,37.6,36.4,35.5,35.9,33.5,39.6,36.2,34.6,37.3,41.3,36.9,38.9,35.7,34.0,36.2,33.1,37.7,37.9,39.7,38.1,39.7,38.6,35.7,41.1,36.2,37.7,40.2,35.2,38.8,39.0,38.5,43.1,36.8,38.1,35.6,37.0,40.2,40.6,32.1,37.3,39.0,36.6,36.0,46.5,51.3,45.4,46.1,45.9,50.3,46.4,42.4,48.5,43.2,46.7,50.5,40.9,42.5,49.7,46.9,46.2,50.9,45.5,50.1,51.5,48.1,45.7,42.5,52.2,45.2,45.6,46.8,45.7,43.5],\"y\":[3250.0,3450.0,3650.0,3625.0,3200.0,3450.0,3325.0,3400.0,3600.0,3550.0,3200.0,3150.0,3250.0,3300.0,3325.0,3550.0,3300.0,3150.0,3100.0,3000.0,3425.0,3450.0,3500.0,3450.0,2900.0,3550.0,2850.0,3150.0,3600.0,2850.0,3350.0,3050.0,3600.0,3550.0,3550.0,3200.0,3350.0,3550.0,3500.0,3600.0,3550.0,3400.0,3300.0,2900.0,3075.0,2925.0,3550.0,3175.0,3200.0,2900.0,3350.0,3325.0,3150.0,3500.0,3450.0,3050.0,3275.0,3050.0,3325.0,3500.0,3500.0,3425.0,3175.0,3400.0,3400.0,3475.0,3050.0,3000.0,3650.0,3475.0,3450.0,3500.0,3650.0,3525.0,3250.0,3575.0,3300.0,3450.0,3600.0,3400.0,2900.0,3300.0,3400.0,3200.0,3350.0,3600.0,2700.0,3650.0,3550.0,3500.0,3400.0,3250.0,3325.0,3600.0,3350.0,3450.0,3250.0,3525.0,3650.0,3650.0,3400.0],\"z\":[18.0,19.3,20.6,17.8,17.6,19.0,18.4,18.3,18.7,18.6,17.9,18.6,16.7,17.8,17.0,18.5,19.3,18.0,18.5,16.9,19.0,17.9,17.7,17.9,18.1,17.5,16.6,16.9,17.0,17.1,16.2,16.6,19.0,17.2,16.1,17.2,17.8,20.3,18.6,18.8,18.0,17.1,17.3,16.1,16.0,18.6,18.9,17.0,17.7,17.0,17.0,18.6,17.2,19.8,17.0,15.9,17.6,17.1,17.9,19.2,18.5,17.6,17.5,16.5,17.1,17.2,15.5,16.8,18.7,18.4,17.8,17.9,19.2,18.7,18.2,17.1,20.0,18.6,17.3,17.5,16.6,17.9,18.4,16.6,16.7,18.6,16.6,17.5,19.1,17.0,17.9,18.7,16.4,17.3,17.3,18.8,16.6,19.4,16.5,17.0,18.1],\"type\":\"scatter3d\",\"hovertemplate\":\"culmen_length_mm: %{x} \\u003cbr\\u003ebody_mass_g %{y} \\u003cbr\\u003eculmen_depth_mm: %{z}\"},{\"marker\":{\"line\":{\"width\":1},\"size\":6},\"mode\":\"markers\",\"name\":\"4\",\"x\":[39.2,34.6,42.5,39.8,44.1,39.6,41.3,41.8,42.9,39.6,40.3,41.0,43.2,45.6,37.5,49.2,52.8,52.0,53.5,50.8,46.1,48.7,46.5,45.4,43.3,40.9,45.5,46.2,45.1,46.5,46.3,42.9,46.1,48.2,42.8,45.1,42.6,44.0,49.6,43.6,44.9,46.6,45.1,50.1,46.5,45.0,45.5,43.2,45.7,45.8,43.5,47.7,46.4,48.2,46.4,47.5,45.2,49.1,47.4,44.9,43.4,47.5,47.5,45.5,44.5,49.4,46.9,48.4,48.5,47.2,41.7,43.3,50.5,43.5,46.2,47.2,46.8],\"y\":[4675.0,4400.0,4500.0,4650.0,4400.0,4600.0,4400.0,4450.0,4700.0,4450.0,4350.0,4725.0,4775.0,4600.0,4475.0,4400.0,4550.0,4800.0,4500.0,4450.0,4500.0,4450.0,4550.0,4800.0,4400.0,4650.0,4650.0,4800.0,5000.0,4400.0,5050.0,5000.0,5100.0,4600.0,4700.0,5050.0,4950.0,4350.0,4750.0,4900.0,5100.0,4850.0,4400.0,5000.0,4900.0,5050.0,5000.0,4450.0,4400.0,4700.0,4700.0,4750.0,5000.0,5100.0,4700.0,4600.0,4750.0,4625.0,4725.0,4750.0,4600.0,4875.0,4950.0,4750.0,4850.0,4925.0,4875.0,4625.0,4850.0,4975.0,4700.0,4575.0,5000.0,4650.0,4375.0,4925.0,4850.0],\"z\":[19.6,21.1,20.7,19.1,19.7,18.8,21.1,19.4,17.6,18.1,18.5,20.0,19.0,20.3,18.5,18.2,20.0,20.7,19.9,18.5,13.2,14.1,13.5,14.6,13.4,13.7,13.7,14.5,14.5,14.5,15.8,13.1,15.1,14.3,14.2,14.5,13.7,13.6,15.0,13.9,13.3,14.2,14.4,15.0,14.4,15.4,15.0,14.5,13.9,14.2,14.2,15.0,15.6,15.6,15.0,14.2,13.8,14.5,14.6,13.8,14.4,14.0,15.0,14.5,14.7,15.8,14.6,14.4,15.0,15.5,14.7,14.0,15.2,15.2,14.1,13.7,14.3],\"type\":\"scatter3d\",\"hovertemplate\":\"culmen_length_mm: %{x} \\u003cbr\\u003ebody_mass_g %{y} \\u003cbr\\u003eculmen_depth_mm: %{z}\"},{\"marker\":{\"line\":{\"width\":1},\"size\":6},\"mode\":\"markers\",\"name\":\"2\",\"x\":[42.0],\"y\":[4250.0],\"z\":[20.2],\"type\":\"scatter3d\",\"hovertemplate\":\"culmen_length_mm: %{x} \\u003cbr\\u003ebody_mass_g %{y} \\u003cbr\\u003eculmen_depth_mm: %{z}\"},{\"marker\":{\"line\":{\"width\":1},\"size\":6},\"mode\":\"markers\",\"name\":\"1\",\"x\":[50.0,50.0,47.6,46.7,46.8,49.0,48.4,49.3,49.2,48.7,50.2,47.8,50.0,47.3,59.6,49.1,48.4,44.4,48.7,49.6,50.5,50.5,45.2,48.5,50.4,46.2,54.3,49.8,49.5,50.7,46.5,48.6,51.1,45.2,52.5,50.0,50.8,51.3,52.1,52.2,49.5,50.8,51.1,55.9,49.1,46.8,53.4,48.1,49.8,51.5,55.1,48.8,50.4,45.2,49.9],\"y\":[5700.0,5700.0,5400.0,5200.0,5150.0,5550.0,5850.0,5850.0,6300.0,5350.0,5700.0,5650.0,5550.0,5250.0,6050.0,5150.0,5400.0,5250.0,5350.0,5700.0,5550.0,5400.0,5300.0,5300.0,5550.0,5300.0,5650.0,5700.0,5800.0,5550.0,5200.0,5800.0,6000.0,5950.0,5450.0,5350.0,5600.0,5300.0,5550.0,5400.0,5650.0,5200.0,5250.0,5600.0,5500.0,5500.0,5500.0,5500.0,5950.0,5500.0,5850.0,6000.0,5750.0,5200.0,5400.0],\"z\":[16.3,15.2,14.5,15.3,15.4,16.1,14.6,15.7,15.2,15.1,14.3,15.0,15.3,15.3,17.0,14.8,16.3,17.3,15.7,16.0,15.9,15.9,15.8,14.1,15.3,14.9,15.7,16.8,16.2,15.0,14.8,16.0,16.3,16.4,15.6,15.9,17.3,14.2,17.0,17.1,16.1,15.7,16.5,17.0,15.0,16.1,15.8,15.1,15.9,16.3,16.0,16.2,15.7,14.8,16.1],\"type\":\"scatter3d\",\"hovertemplate\":\"culmen_length_mm: %{x} \\u003cbr\\u003ebody_mass_g %{y} \\u003cbr\\u003eculmen_depth_mm: %{z}\"}],                        {\"template\":{\"data\":{\"histogram2dcontour\":[{\"type\":\"histogram2dcontour\",\"colorbar\":{\"outlinewidth\":0,\"ticks\":\"\"},\"colorscale\":[[0.0,\"#0d0887\"],[0.1111111111111111,\"#46039f\"],[0.2222222222222222,\"#7201a8\"],[0.3333333333333333,\"#9c179e\"],[0.4444444444444444,\"#bd3786\"],[0.5555555555555556,\"#d8576b\"],[0.6666666666666666,\"#ed7953\"],[0.7777777777777778,\"#fb9f3a\"],[0.8888888888888888,\"#fdca26\"],[1.0,\"#f0f921\"]]}],\"choropleth\":[{\"type\":\"choropleth\",\"colorbar\":{\"outlinewidth\":0,\"ticks\":\"\"}}],\"histogram2d\":[{\"type\":\"histogram2d\",\"colorbar\":{\"outlinewidth\":0,\"ticks\":\"\"},\"colorscale\":[[0.0,\"#0d0887\"],[0.1111111111111111,\"#46039f\"],[0.2222222222222222,\"#7201a8\"],[0.3333333333333333,\"#9c179e\"],[0.4444444444444444,\"#bd3786\"],[0.5555555555555556,\"#d8576b\"],[0.6666666666666666,\"#ed7953\"],[0.7777777777777778,\"#fb9f3a\"],[0.8888888888888888,\"#fdca26\"],[1.0,\"#f0f921\"]]}],\"heatmap\":[{\"type\":\"heatmap\",\"colorbar\":{\"outlinewidth\":0,\"ticks\":\"\"},\"colorscale\":[[0.0,\"#0d0887\"],[0.1111111111111111,\"#46039f\"],[0.2222222222222222,\"#7201a8\"],[0.3333333333333333,\"#9c179e\"],[0.4444444444444444,\"#bd3786\"],[0.5555555555555556,\"#d8576b\"],[0.6666666666666666,\"#ed7953\"],[0.7777777777777778,\"#fb9f3a\"],[0.8888888888888888,\"#fdca26\"],[1.0,\"#f0f921\"]]}],\"heatmapgl\":[{\"type\":\"heatmapgl\",\"colorbar\":{\"outlinewidth\":0,\"ticks\":\"\"},\"colorscale\":[[0.0,\"#0d0887\"],[0.1111111111111111,\"#46039f\"],[0.2222222222222222,\"#7201a8\"],[0.3333333333333333,\"#9c179e\"],[0.4444444444444444,\"#bd3786\"],[0.5555555555555556,\"#d8576b\"],[0.6666666666666666,\"#ed7953\"],[0.7777777777777778,\"#fb9f3a\"],[0.8888888888888888,\"#fdca26\"],[1.0,\"#f0f921\"]]}],\"contourcarpet\":[{\"type\":\"contourcarpet\",\"colorbar\":{\"outlinewidth\":0,\"ticks\":\"\"}}],\"contour\":[{\"type\":\"contour\",\"colorbar\":{\"outlinewidth\":0,\"ticks\":\"\"},\"colorscale\":[[0.0,\"#0d0887\"],[0.1111111111111111,\"#46039f\"],[0.2222222222222222,\"#7201a8\"],[0.3333333333333333,\"#9c179e\"],[0.4444444444444444,\"#bd3786\"],[0.5555555555555556,\"#d8576b\"],[0.6666666666666666,\"#ed7953\"],[0.7777777777777778,\"#fb9f3a\"],[0.8888888888888888,\"#fdca26\"],[1.0,\"#f0f921\"]]}],\"surface\":[{\"type\":\"surface\",\"colorbar\":{\"outlinewidth\":0,\"ticks\":\"\"},\"colorscale\":[[0.0,\"#0d0887\"],[0.1111111111111111,\"#46039f\"],[0.2222222222222222,\"#7201a8\"],[0.3333333333333333,\"#9c179e\"],[0.4444444444444444,\"#bd3786\"],[0.5555555555555556,\"#d8576b\"],[0.6666666666666666,\"#ed7953\"],[0.7777777777777778,\"#fb9f3a\"],[0.8888888888888888,\"#fdca26\"],[1.0,\"#f0f921\"]]}],\"mesh3d\":[{\"type\":\"mesh3d\",\"colorbar\":{\"outlinewidth\":0,\"ticks\":\"\"}}],\"scatter\":[{\"fillpattern\":{\"fillmode\":\"overlay\",\"size\":10,\"solidity\":0.2},\"type\":\"scatter\"}],\"parcoords\":[{\"type\":\"parcoords\",\"line\":{\"colorbar\":{\"outlinewidth\":0,\"ticks\":\"\"}}}],\"scatterpolargl\":[{\"type\":\"scatterpolargl\",\"marker\":{\"colorbar\":{\"outlinewidth\":0,\"ticks\":\"\"}}}],\"bar\":[{\"error_x\":{\"color\":\"#2a3f5f\"},\"error_y\":{\"color\":\"#2a3f5f\"},\"marker\":{\"line\":{\"color\":\"#E5ECF6\",\"width\":0.5},\"pattern\":{\"fillmode\":\"overlay\",\"size\":10,\"solidity\":0.2}},\"type\":\"bar\"}],\"scattergeo\":[{\"type\":\"scattergeo\",\"marker\":{\"colorbar\":{\"outlinewidth\":0,\"ticks\":\"\"}}}],\"scatterpolar\":[{\"type\":\"scatterpolar\",\"marker\":{\"colorbar\":{\"outlinewidth\":0,\"ticks\":\"\"}}}],\"histogram\":[{\"marker\":{\"pattern\":{\"fillmode\":\"overlay\",\"size\":10,\"solidity\":0.2}},\"type\":\"histogram\"}],\"scattergl\":[{\"type\":\"scattergl\",\"marker\":{\"colorbar\":{\"outlinewidth\":0,\"ticks\":\"\"}}}],\"scatter3d\":[{\"type\":\"scatter3d\",\"line\":{\"colorbar\":{\"outlinewidth\":0,\"ticks\":\"\"}},\"marker\":{\"colorbar\":{\"outlinewidth\":0,\"ticks\":\"\"}}}],\"scattermapbox\":[{\"type\":\"scattermapbox\",\"marker\":{\"colorbar\":{\"outlinewidth\":0,\"ticks\":\"\"}}}],\"scatterternary\":[{\"type\":\"scatterternary\",\"marker\":{\"colorbar\":{\"outlinewidth\":0,\"ticks\":\"\"}}}],\"scattercarpet\":[{\"type\":\"scattercarpet\",\"marker\":{\"colorbar\":{\"outlinewidth\":0,\"ticks\":\"\"}}}],\"carpet\":[{\"aaxis\":{\"endlinecolor\":\"#2a3f5f\",\"gridcolor\":\"white\",\"linecolor\":\"white\",\"minorgridcolor\":\"white\",\"startlinecolor\":\"#2a3f5f\"},\"baxis\":{\"endlinecolor\":\"#2a3f5f\",\"gridcolor\":\"white\",\"linecolor\":\"white\",\"minorgridcolor\":\"white\",\"startlinecolor\":\"#2a3f5f\"},\"type\":\"carpet\"}],\"table\":[{\"cells\":{\"fill\":{\"color\":\"#EBF0F8\"},\"line\":{\"color\":\"white\"}},\"header\":{\"fill\":{\"color\":\"#C8D4E3\"},\"line\":{\"color\":\"white\"}},\"type\":\"table\"}],\"barpolar\":[{\"marker\":{\"line\":{\"color\":\"#E5ECF6\",\"width\":0.5},\"pattern\":{\"fillmode\":\"overlay\",\"size\":10,\"solidity\":0.2}},\"type\":\"barpolar\"}],\"pie\":[{\"automargin\":true,\"type\":\"pie\"}]},\"layout\":{\"autotypenumbers\":\"strict\",\"colorway\":[\"#636efa\",\"#EF553B\",\"#00cc96\",\"#ab63fa\",\"#FFA15A\",\"#19d3f3\",\"#FF6692\",\"#B6E880\",\"#FF97FF\",\"#FECB52\"],\"font\":{\"color\":\"#2a3f5f\"},\"hovermode\":\"closest\",\"hoverlabel\":{\"align\":\"left\"},\"paper_bgcolor\":\"white\",\"plot_bgcolor\":\"#E5ECF6\",\"polar\":{\"bgcolor\":\"#E5ECF6\",\"angularaxis\":{\"gridcolor\":\"white\",\"linecolor\":\"white\",\"ticks\":\"\"},\"radialaxis\":{\"gridcolor\":\"white\",\"linecolor\":\"white\",\"ticks\":\"\"}},\"ternary\":{\"bgcolor\":\"#E5ECF6\",\"aaxis\":{\"gridcolor\":\"white\",\"linecolor\":\"white\",\"ticks\":\"\"},\"baxis\":{\"gridcolor\":\"white\",\"linecolor\":\"white\",\"ticks\":\"\"},\"caxis\":{\"gridcolor\":\"white\",\"linecolor\":\"white\",\"ticks\":\"\"}},\"coloraxis\":{\"colorbar\":{\"outlinewidth\":0,\"ticks\":\"\"}},\"colorscale\":{\"sequential\":[[0.0,\"#0d0887\"],[0.1111111111111111,\"#46039f\"],[0.2222222222222222,\"#7201a8\"],[0.3333333333333333,\"#9c179e\"],[0.4444444444444444,\"#bd3786\"],[0.5555555555555556,\"#d8576b\"],[0.6666666666666666,\"#ed7953\"],[0.7777777777777778,\"#fb9f3a\"],[0.8888888888888888,\"#fdca26\"],[1.0,\"#f0f921\"]],\"sequentialminus\":[[0.0,\"#0d0887\"],[0.1111111111111111,\"#46039f\"],[0.2222222222222222,\"#7201a8\"],[0.3333333333333333,\"#9c179e\"],[0.4444444444444444,\"#bd3786\"],[0.5555555555555556,\"#d8576b\"],[0.6666666666666666,\"#ed7953\"],[0.7777777777777778,\"#fb9f3a\"],[0.8888888888888888,\"#fdca26\"],[1.0,\"#f0f921\"]],\"diverging\":[[0,\"#8e0152\"],[0.1,\"#c51b7d\"],[0.2,\"#de77ae\"],[0.3,\"#f1b6da\"],[0.4,\"#fde0ef\"],[0.5,\"#f7f7f7\"],[0.6,\"#e6f5d0\"],[0.7,\"#b8e186\"],[0.8,\"#7fbc41\"],[0.9,\"#4d9221\"],[1,\"#276419\"]]},\"xaxis\":{\"gridcolor\":\"white\",\"linecolor\":\"white\",\"ticks\":\"\",\"title\":{\"standoff\":15},\"zerolinecolor\":\"white\",\"automargin\":true,\"zerolinewidth\":2},\"yaxis\":{\"gridcolor\":\"white\",\"linecolor\":\"white\",\"ticks\":\"\",\"title\":{\"standoff\":15},\"zerolinecolor\":\"white\",\"automargin\":true,\"zerolinewidth\":2},\"scene\":{\"xaxis\":{\"backgroundcolor\":\"#E5ECF6\",\"gridcolor\":\"white\",\"linecolor\":\"white\",\"showbackground\":true,\"ticks\":\"\",\"zerolinecolor\":\"white\",\"gridwidth\":2},\"yaxis\":{\"backgroundcolor\":\"#E5ECF6\",\"gridcolor\":\"white\",\"linecolor\":\"white\",\"showbackground\":true,\"ticks\":\"\",\"zerolinecolor\":\"white\",\"gridwidth\":2},\"zaxis\":{\"backgroundcolor\":\"#E5ECF6\",\"gridcolor\":\"white\",\"linecolor\":\"white\",\"showbackground\":true,\"ticks\":\"\",\"zerolinecolor\":\"white\",\"gridwidth\":2}},\"shapedefaults\":{\"line\":{\"color\":\"#2a3f5f\"}},\"annotationdefaults\":{\"arrowcolor\":\"#2a3f5f\",\"arrowhead\":0,\"arrowwidth\":1},\"geo\":{\"bgcolor\":\"white\",\"landcolor\":\"#E5ECF6\",\"subunitcolor\":\"white\",\"showland\":true,\"showlakes\":true,\"lakecolor\":\"white\"},\"title\":{\"x\":0.05},\"mapbox\":{\"style\":\"light\"}}},\"scene\":{\"xaxis\":{\"title\":{\"text\":\"culmen_length_mm\",\"font\":{\"color\":\"black\"}}},\"yaxis\":{\"title\":{\"text\":\"body_mass_g\",\"font\":{\"color\":\"black\"}}},\"zaxis\":{\"title\":{\"text\":\"culmen_depth_mm\",\"font\":{\"color\":\"black\"}}}},\"font\":{\"family\":\"Gilroy\",\"color\":\"black\",\"size\":12},\"width\":800,\"height\":800,\"autosize\":true,\"showlegend\":true},                        {\"responsive\": true}                    ).then(function(){\n",
       "                            \n",
       "var gd = document.getElementById('5cb2c01f-7c2d-4b71-bd5e-850f939cabba');\n",
       "var x = new MutationObserver(function (mutations, observer) {{\n",
       "        var display = window.getComputedStyle(gd).display;\n",
       "        if (!display || display === 'none') {{\n",
       "            console.log([gd, 'removed!']);\n",
       "            Plotly.purge(gd);\n",
       "            observer.disconnect();\n",
       "        }}\n",
       "}});\n",
       "\n",
       "// Listen for the removal of the full notebook cells\n",
       "var notebookContainer = gd.closest('#notebook-container');\n",
       "if (notebookContainer) {{\n",
       "    x.observe(notebookContainer, {childList: true});\n",
       "}}\n",
       "\n",
       "// Listen for the clearing of the current output cell\n",
       "var outputEl = gd.closest('.output');\n",
       "if (outputEl) {{\n",
       "    x.observe(outputEl, {childList: true});\n",
       "}}\n",
       "\n",
       "                        })                };                });            </script>        </div>"
      ]
     },
     "metadata": {},
     "output_type": "display_data"
    }
   ],
   "source": [
    "import plotly.graph_objects as go\n",
    "PLOT = go.Figure()\n",
    "for i in list(df[\"Cluster\"].unique()):\n",
    "    \n",
    "\n",
    "    PLOT.add_trace(go.Scatter3d(x = df[df[\"Cluster\"]== i]['culmen_length_mm'],\n",
    "                                y = df[df[\"Cluster\"] == i]['body_mass_g'],\n",
    "                                z = df[df[\"Cluster\"] == i]['culmen_depth_mm'],                        \n",
    "                                mode = 'markers',marker_size = 6, marker_line_width = 1,\n",
    "                                name = str(i)))\n",
    "PLOT.update_traces(hovertemplate='culmen_length_mm: %{x} <br>body_mass_g %{y} <br>culmen_depth_mm: %{z}')\n",
    "\n",
    "    \n",
    "PLOT.update_layout(width = 800, height = 800, autosize = True, showlegend = True,\n",
    "                   scene = dict(xaxis=dict(title = 'culmen_length_mm', titlefont_color = 'black'),\n",
    "                                yaxis=dict(title = 'body_mass_g', titlefont_color = 'black'),\n",
    "                                zaxis=dict(title = 'culmen_depth_mm', titlefont_color = 'black')),\n",
    "                   font = dict(family = \"Gilroy\", color  = 'black', size = 12))\n",
    "# Kaynak:https://thecleverprogrammer.com/2022/10/03/credit-card-clustering-with-machine-learning/"
   ]
  },
  {
   "cell_type": "code",
   "execution_count": 34,
   "id": "7ce07df3-d8ba-4683-96fb-ba3395585d82",
   "metadata": {},
   "outputs": [],
   "source": [
    "data=linkage(df,method=\"complete\")"
   ]
  },
  {
   "cell_type": "code",
   "execution_count": 35,
   "id": "c85a46f2-3da0-4b09-8c2a-ec9749637e92",
   "metadata": {},
   "outputs": [
    {
     "data": {
      "image/png": "[encoded data removed]",
      "text/plain": [
       "<Figure size 2500x600 with 1 Axes>"
      ]
     },
     "metadata": {},
     "output_type": "display_data"
    }
   ],
   "source": [
    "plt.figure(figsize=(25,6))\n",
    "dendrogram(data);"
   ]
  },
  {
   "cell_type": "code",
   "execution_count": 36,
   "id": "f4e760e3-ab51-4680-ab0d-dd5bf2943bf0",
   "metadata": {},
   "outputs": [
    {
     "data": {
      "text/plain": [
       "<Axes: xlabel='Cluster', ylabel='count'>"
      ]
     },
     "execution_count": 36,
     "metadata": {},
     "output_type": "execute_result"
    },
    {
     "data": {
      "image/png": "[encoded data removed]",
      "text/plain": [
       "<Figure size 800x550 with 1 Axes>"
      ]
     },
     "metadata": {},
     "output_type": "display_data"
    }
   ],
   "source": [
    "sns.countplot(x=df[\"Cluster\"])"
   ]
  },
  {
   "cell_type": "markdown",
   "id": "dbbb522f-bee8-431e-bc41-93764a77966c",
   "metadata": {},
   "source": [
    "Sonuc olarak dirsek 5 de kırıldığı için 5 küme olusturduk. <br>\n",
    "0 - 101<br> 3 - 100 <br>4 - 77<br> 1 - 55 <br>2 - 1<br>\n",
    "küme sayılarımız bu sekilde.\n"
   ]
  }
 ],
 "metadata": {
  "kernelspec": {
   "display_name": "Python 3 (ipykernel)",
   "language": "python",
   "name": "python3"
  },
  "language_info": {
   "codemirror_mode": {
    "name": "ipython",
    "version": 3
   },
   "file_extension": ".py",
   "mimetype": "text/x-python",
   "name": "python",
   "nbconvert_exporter": "python",
   "pygments_lexer": "ipython3",
   "version": "3.12.3"
  }
 },
 "nbformat": 4,
 "nbformat_minor": 5
}
