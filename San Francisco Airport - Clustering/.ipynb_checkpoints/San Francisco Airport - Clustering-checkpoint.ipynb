{
 "cells": [
  {
   "cell_type": "markdown",
   "id": "cf6d2209-65a4-4891-a50a-cabc34c39e84",
   "metadata": {},
   "source": [
    "# San Francisco Airport - Clustering"
   ]
  },
  {
   "cell_type": "markdown",
   "id": "d2028226-5a83-46cb-bf8d-f327e77b38a5",
   "metadata": {},
   "source": [
    "<img src=\"https://dronedj.com/wp-content/uploads/sites/2/2018/07/Untitled-19.jpg?quality=82&strip=all&w=1600\">"
   ]
  },
  {
   "cell_type": "markdown",
   "id": "bfc489c2-9702-47e4-a0c5-309795649d65",
   "metadata": {},
   "source": [
    "Bu projede San Francisco havaalanındaki uçuşları özelliklerine göre Clustering (Kümeleme) yapacağız. "
   ]
  },
  {
   "cell_type": "raw",
   "id": "4432fb86-1ef1-48b1-8960-f8c6d3c6e57a",
   "metadata": {},
   "source": [
    "Clustering örenegi:\n",
    "\n",
    "#Elbow Yöntemini görselleştirmek için bu kodu kullanın.\n",
    "\n",
    "#install yellowbrick, Elbow eğrisini görselleştirmek için\n",
    "#!pip install yellowbrick\n",
    "\n",
    "from sklearn import datasets\n",
    "from sklearn.cluster import KMeans\n",
    "from yellowbrick.cluster import KElbowVisualizer\n",
    "\n",
    "# IRIS veri setini yükleyin\n",
    "iris = datasets.load_iris()\n",
    "X = iris.data\n",
    "y = iris.target\n",
    "\n",
    "# Kümeleme modelini ve görselleştiriciyi örneklendirin\n",
    "km = KMeans(random_state=42)\n",
    "visualizer = KElbowVisualizer(km, k=(2,10))\n",
    "\n",
    "visualizer.fit(X) # Verileri görselleştiriciye uydurun\n",
    "visualizer.show() # Şekli sonlandırın ve işleyin"
   ]
  },
  {
   "cell_type": "markdown",
   "id": "111e7f82-1cc1-4d57-ad6d-938a311eb7b2",
   "metadata": {},
   "source": [
    "<a href=\"https://drive.google.com/file/d/1cx1OYvLr-UaXPkAec_to6HLHxmcEiHL4/view?usp=drive_link\">Dataya buradan Erişebilirsiniz</a>"
   ]
  },
  {
   "cell_type": "code",
   "execution_count": 1,
   "id": "b5a6f8a6-ffc3-48b3-a78d-9bc65d58c76b",
   "metadata": {},
   "outputs": [],
   "source": [
    "import pandas as pd\n",
    "import matplotlib.pyplot as plt\n",
    "\n",
    "import warnings\n",
    "warnings.filterwarnings(\"ignore\")\n",
    "\n",
    "from sklearn.cluster import KMeans\n",
    "from sklearn.metrics import silhouette_score\n",
    "from yellowbrick.cluster import KElbowVisualizer\n",
    "\n",
    "from scipy.cluster.hierarchy import dendrogram,linkage\n",
    "\n",
    "from sklearn.preprocessing import LabelEncoder\n",
    "le=LabelEncoder()"
   ]
  },
  {
   "cell_type": "code",
   "execution_count": 2,
   "id": "4cf9a69a-feab-42e5-a423-f616890852d6",
   "metadata": {},
   "outputs": [],
   "source": [
    "df=pd.read_csv(\"air-traffic-passenger-statistics.csv\")"
   ]
  },
  {
   "cell_type": "code",
   "execution_count": 3,
   "id": "17ec2ec1-cb0d-4743-8116-a3d66c8e37f5",
   "metadata": {},
   "outputs": [
    {
     "data": {
      "text/html": [
       "<div>\n",
       "<style scoped>\n",
       "    .dataframe tbody tr th:only-of-type {\n",
       "        vertical-align: middle;\n",
       "    }\n",
       "\n",
       "    .dataframe tbody tr th {\n",
       "        vertical-align: top;\n",
       "    }\n",
       "\n",
       "    .dataframe thead th {\n",
       "        text-align: right;\n",
       "    }\n",
       "</style>\n",
       "<table border=\"1\" class=\"dataframe\">\n",
       "  <thead>\n",
       "    <tr style=\"text-align: right;\">\n",
       "      <th></th>\n",
       "      <th>Activity Period</th>\n",
       "      <th>Operating Airline</th>\n",
       "      <th>Operating Airline IATA Code</th>\n",
       "      <th>Published Airline</th>\n",
       "      <th>Published Airline IATA Code</th>\n",
       "      <th>GEO Summary</th>\n",
       "      <th>GEO Region</th>\n",
       "      <th>Activity Type Code</th>\n",
       "      <th>Price Category Code</th>\n",
       "      <th>Terminal</th>\n",
       "      <th>Boarding Area</th>\n",
       "      <th>Passenger Count</th>\n",
       "    </tr>\n",
       "  </thead>\n",
       "  <tbody>\n",
       "    <tr>\n",
       "      <th>0</th>\n",
       "      <td>200507</td>\n",
       "      <td>ATA Airlines</td>\n",
       "      <td>TZ</td>\n",
       "      <td>ATA Airlines</td>\n",
       "      <td>TZ</td>\n",
       "      <td>Domestic</td>\n",
       "      <td>US</td>\n",
       "      <td>Deplaned</td>\n",
       "      <td>Low Fare</td>\n",
       "      <td>Terminal 1</td>\n",
       "      <td>B</td>\n",
       "      <td>27271</td>\n",
       "    </tr>\n",
       "    <tr>\n",
       "      <th>1</th>\n",
       "      <td>200507</td>\n",
       "      <td>ATA Airlines</td>\n",
       "      <td>TZ</td>\n",
       "      <td>ATA Airlines</td>\n",
       "      <td>TZ</td>\n",
       "      <td>Domestic</td>\n",
       "      <td>US</td>\n",
       "      <td>Enplaned</td>\n",
       "      <td>Low Fare</td>\n",
       "      <td>Terminal 1</td>\n",
       "      <td>B</td>\n",
       "      <td>29131</td>\n",
       "    </tr>\n",
       "    <tr>\n",
       "      <th>2</th>\n",
       "      <td>200507</td>\n",
       "      <td>ATA Airlines</td>\n",
       "      <td>TZ</td>\n",
       "      <td>ATA Airlines</td>\n",
       "      <td>TZ</td>\n",
       "      <td>Domestic</td>\n",
       "      <td>US</td>\n",
       "      <td>Thru / Transit</td>\n",
       "      <td>Low Fare</td>\n",
       "      <td>Terminal 1</td>\n",
       "      <td>B</td>\n",
       "      <td>5415</td>\n",
       "    </tr>\n",
       "    <tr>\n",
       "      <th>3</th>\n",
       "      <td>200507</td>\n",
       "      <td>Air Canada</td>\n",
       "      <td>AC</td>\n",
       "      <td>Air Canada</td>\n",
       "      <td>AC</td>\n",
       "      <td>International</td>\n",
       "      <td>Canada</td>\n",
       "      <td>Deplaned</td>\n",
       "      <td>Other</td>\n",
       "      <td>Terminal 1</td>\n",
       "      <td>B</td>\n",
       "      <td>35156</td>\n",
       "    </tr>\n",
       "    <tr>\n",
       "      <th>4</th>\n",
       "      <td>200507</td>\n",
       "      <td>Air Canada</td>\n",
       "      <td>AC</td>\n",
       "      <td>Air Canada</td>\n",
       "      <td>AC</td>\n",
       "      <td>International</td>\n",
       "      <td>Canada</td>\n",
       "      <td>Enplaned</td>\n",
       "      <td>Other</td>\n",
       "      <td>Terminal 1</td>\n",
       "      <td>B</td>\n",
       "      <td>34090</td>\n",
       "    </tr>\n",
       "  </tbody>\n",
       "</table>\n",
       "</div>"
      ],
      "text/plain": [
       "   Activity Period Operating Airline Operating Airline IATA Code  \\\n",
       "0           200507      ATA Airlines                          TZ   \n",
       "1           200507      ATA Airlines                          TZ   \n",
       "2           200507      ATA Airlines                          TZ   \n",
       "3           200507        Air Canada                          AC   \n",
       "4           200507        Air Canada                          AC   \n",
       "\n",
       "  Published Airline Published Airline IATA Code    GEO Summary GEO Region  \\\n",
       "0      ATA Airlines                          TZ       Domestic         US   \n",
       "1      ATA Airlines                          TZ       Domestic         US   \n",
       "2      ATA Airlines                          TZ       Domestic         US   \n",
       "3        Air Canada                          AC  International     Canada   \n",
       "4        Air Canada                          AC  International     Canada   \n",
       "\n",
       "  Activity Type Code Price Category Code    Terminal Boarding Area  \\\n",
       "0           Deplaned            Low Fare  Terminal 1             B   \n",
       "1           Enplaned            Low Fare  Terminal 1             B   \n",
       "2     Thru / Transit            Low Fare  Terminal 1             B   \n",
       "3           Deplaned               Other  Terminal 1             B   \n",
       "4           Enplaned               Other  Terminal 1             B   \n",
       "\n",
       "   Passenger Count  \n",
       "0            27271  \n",
       "1            29131  \n",
       "2             5415  \n",
       "3            35156  \n",
       "4            34090  "
      ]
     },
     "execution_count": 3,
     "metadata": {},
     "output_type": "execute_result"
    }
   ],
   "source": [
    "df.head()"
   ]
  },
  {
   "cell_type": "markdown",
   "id": "05ce41fc-ace3-4c1a-94f0-8f61624165bf",
   "metadata": {},
   "source": [
    "### EDA"
   ]
  },
  {
   "cell_type": "code",
   "execution_count": 4,
   "id": "bac914e3-3da0-46ee-bfc1-8365760899bd",
   "metadata": {},
   "outputs": [
    {
     "data": {
      "text/plain": [
       "(18885, 12)"
      ]
     },
     "execution_count": 4,
     "metadata": {},
     "output_type": "execute_result"
    }
   ],
   "source": [
    "df.shape"
   ]
  },
  {
   "cell_type": "code",
   "execution_count": 5,
   "id": "cd5c3d4c-ddff-44c9-9589-f86adc530bc8",
   "metadata": {},
   "outputs": [
    {
     "name": "stdout",
     "output_type": "stream",
     "text": [
      "<class 'pandas.core.frame.DataFrame'>\n",
      "RangeIndex: 18885 entries, 0 to 18884\n",
      "Data columns (total 12 columns):\n",
      " #   Column                       Non-Null Count  Dtype \n",
      "---  ------                       --------------  ----- \n",
      " 0   Activity Period              18885 non-null  int64 \n",
      " 1   Operating Airline            18885 non-null  object\n",
      " 2   Operating Airline IATA Code  18822 non-null  object\n",
      " 3   Published Airline            18885 non-null  object\n",
      " 4   Published Airline IATA Code  18822 non-null  object\n",
      " 5   GEO Summary                  18885 non-null  object\n",
      " 6   GEO Region                   18885 non-null  object\n",
      " 7   Activity Type Code           18885 non-null  object\n",
      " 8   Price Category Code          18885 non-null  object\n",
      " 9   Terminal                     18885 non-null  object\n",
      " 10  Boarding Area                18885 non-null  object\n",
      " 11  Passenger Count              18885 non-null  int64 \n",
      "dtypes: int64(2), object(10)\n",
      "memory usage: 1.7+ MB\n"
     ]
    }
   ],
   "source": [
    "df.info()"
   ]
  },
  {
   "cell_type": "code",
   "execution_count": 6,
   "id": "3f2affa2-eae8-4046-bebe-65fe70d3bdbf",
   "metadata": {},
   "outputs": [
    {
     "data": {
      "text/plain": [
       "Activity Period                 0\n",
       "Operating Airline               0\n",
       "Operating Airline IATA Code    63\n",
       "Published Airline               0\n",
       "Published Airline IATA Code    63\n",
       "GEO Summary                     0\n",
       "GEO Region                      0\n",
       "Activity Type Code              0\n",
       "Price Category Code             0\n",
       "Terminal                        0\n",
       "Boarding Area                   0\n",
       "Passenger Count                 0\n",
       "dtype: int64"
      ]
     },
     "execution_count": 6,
     "metadata": {},
     "output_type": "execute_result"
    }
   ],
   "source": [
    "df.isnull().sum()"
   ]
  },
  {
   "cell_type": "code",
   "execution_count": 7,
   "id": "7ef515c8-a736-452d-b806-a7030f0e92ae",
   "metadata": {
    "scrolled": true
   },
   "outputs": [
    {
     "data": {
      "text/plain": [
       "array(['ATA Airlines', 'Air Canada', 'Air China', 'Air France',\n",
       "       'Air New Zealand', 'AirTran Airways', 'Alaska Airlines',\n",
       "       'All Nippon Airways', 'American Airlines',\n",
       "       'American Eagle Airlines', 'Asiana Airlines',\n",
       "       'Atlantic Southeast Airlines', 'BelAir Airlines',\n",
       "       'British Airways', 'Cathay Pacific', 'China Airlines',\n",
       "       'Delta Air Lines', 'EVA Airways', 'Frontier Airlines',\n",
       "       'Hawaiian Airlines', 'Horizon Air', 'Icelandair',\n",
       "       'Independence Air', 'Japan Airlines', 'KLM Royal Dutch Airlines',\n",
       "       'Korean Air Lines', 'Lufthansa German Airlines', 'Mesa Airlines',\n",
       "       'Mexicana Airlines', 'Midwest Airlines', 'Northwest Airlines',\n",
       "       'Philippine Airlines', 'Singapore Airlines', 'SkyWest Airlines',\n",
       "       'Sun Country Airlines', 'TACA', 'US Airways', 'United Airlines',\n",
       "       'United Airlines - Pre 07/01/2013', 'Virgin Atlantic',\n",
       "       'WestJet Airlines', 'Boeing Company', 'Miami Air International',\n",
       "       'Air Canada Jazz', 'Qantas Airways', 'Ameriflight',\n",
       "       'Spirit Airlines', 'Xtra Airways',\n",
       "       'Evergreen International Airlines', 'Aeromexico',\n",
       "       'JetBlue Airways', 'ExpressJet Airlines', 'Southwest Airlines',\n",
       "       'Virgin America', 'Aer Lingus', 'Allegiant Air', 'Jet Airways',\n",
       "       'Emirates', 'Mesaba Airlines', 'World Airways', 'Air Berlin',\n",
       "       'Republic Airlines', 'Servisair', 'Pacific Aviation',\n",
       "       'Swiss International', 'LAN Peru', 'Swissport USA',\n",
       "       'XL Airways France', 'China Eastern', 'SAS Airlines',\n",
       "       'Atlas Air, Inc', 'Compass Airlines', 'Etihad Airways',\n",
       "       'China Southern', 'Turkish Airlines', 'COPA Airlines, Inc.',\n",
       "       'Air India Limited', 'Air Pacific Limited dba Fiji Airways',\n",
       "       'Jazz Aviation', 'WOW Air', 'Volaris Airlines',\n",
       "       'Thomas Cook Airlines', 'Trego Dugan Aviation', 'Finnair',\n",
       "       'ABC Aerolineas S.A. de C.V. dba Interjet',\n",
       "       'Hong Kong Airlines Limited', 'Iberia', 'French Bee',\n",
       "       'Icelandair EHF'], dtype=object)"
      ]
     },
     "execution_count": 7,
     "metadata": {},
     "output_type": "execute_result"
    }
   ],
   "source": [
    "df[\"Operating Airline\"].unique()"
   ]
  },
  {
   "cell_type": "code",
   "execution_count": 8,
   "id": "160fcfd2-91dd-4f28-8858-dd3db1317840",
   "metadata": {},
   "outputs": [
    {
     "data": {
      "text/plain": [
       "Operating Airline\n",
       "United Airlines - Pre 07/01/2013    2154\n",
       "United Airlines                     1653\n",
       "SkyWest Airlines                    1212\n",
       "Alaska Airlines                      891\n",
       "Virgin America                       462\n",
       "                                    ... \n",
       "Xtra Airways                           2\n",
       "Evergreen International Airlines       2\n",
       "Pacific Aviation                       2\n",
       "Icelandair EHF                         2\n",
       "Boeing Company                         1\n",
       "Name: count, Length: 89, dtype: int64"
      ]
     },
     "execution_count": 8,
     "metadata": {},
     "output_type": "execute_result"
    }
   ],
   "source": [
    "df[\"Operating Airline\"].value_counts()"
   ]
  },
  {
   "cell_type": "code",
   "execution_count": 9,
   "id": "03274ce5-e1de-44cc-a2c1-55cad1a97504",
   "metadata": {},
   "outputs": [
    {
     "data": {
      "text/plain": [
       "Operating Airline IATA Code\n",
       "UA    3807\n",
       "OO    1212\n",
       "AS     891\n",
       "VX     462\n",
       "DL     445\n",
       "      ... \n",
       "IB       6\n",
       "WO       3\n",
       "XP       2\n",
       "5Y       2\n",
       "EZ       2\n",
       "Name: count, Length: 82, dtype: int64"
      ]
     },
     "execution_count": 9,
     "metadata": {},
     "output_type": "execute_result"
    }
   ],
   "source": [
    "df[\"Operating Airline IATA Code\"].value_counts()"
   ]
  },
  {
   "cell_type": "code",
   "execution_count": 10,
   "id": "5233ff50-b303-4ac5-aca5-779a20087620",
   "metadata": {},
   "outputs": [
    {
     "data": {
      "text/plain": [
       "Published Airline IATA Code\n",
       "UA     4649\n",
       "AS     1203\n",
       "DL      975\n",
       "AA      588\n",
       "AC      484\n",
       "       ... \n",
       "BBB       6\n",
       "WO        3\n",
       "EZ        2\n",
       "XP        2\n",
       "5Y        2\n",
       "Name: count, Length: 73, dtype: int64"
      ]
     },
     "execution_count": 10,
     "metadata": {},
     "output_type": "execute_result"
    }
   ],
   "source": [
    "df[\"Published Airline IATA Code\"].value_counts()"
   ]
  },
  {
   "cell_type": "code",
   "execution_count": 11,
   "id": "4c02e004-43e3-4ed7-8072-119a397ecd57",
   "metadata": {},
   "outputs": [
    {
     "data": {
      "text/plain": [
       "Published Airline\n",
       "United Airlines - Pre 07/01/2013    2645\n",
       "United Airlines                     2004\n",
       "Alaska Airlines                     1203\n",
       "Delta Air Lines                      975\n",
       "American Airlines                    588\n",
       "                                    ... \n",
       "Trego Dugan Aviation                   2\n",
       "Evergreen International Airlines       2\n",
       "Atlas Air, Inc                         2\n",
       "Icelandair EHF                         2\n",
       "Boeing Company                         1\n",
       "Name: count, Length: 79, dtype: int64"
      ]
     },
     "execution_count": 11,
     "metadata": {},
     "output_type": "execute_result"
    }
   ],
   "source": [
    "df[\"Published Airline\"].value_counts()"
   ]
  },
  {
   "cell_type": "code",
   "execution_count": 12,
   "id": "633031a3-6220-4e4b-8ba7-7b1b9e72af8a",
   "metadata": {},
   "outputs": [
    {
     "data": {
      "text/plain": [
       "GEO Summary\n",
       "International    11904\n",
       "Domestic          6981\n",
       "Name: count, dtype: int64"
      ]
     },
     "execution_count": 12,
     "metadata": {},
     "output_type": "execute_result"
    }
   ],
   "source": [
    "df[\"GEO Summary\"].value_counts()"
   ]
  },
  {
   "cell_type": "code",
   "execution_count": 13,
   "id": "8729b78c-db16-4e5f-8bd0-b7a99e465ef2",
   "metadata": {},
   "outputs": [
    {
     "data": {
      "text/plain": [
       "GEO Region\n",
       "US                     6981\n",
       "Asia                   4073\n",
       "Europe                 2803\n",
       "Canada                 1794\n",
       "Mexico                 1455\n",
       "Australia / Oceania     951\n",
       "Central America         383\n",
       "Middle East             354\n",
       "South America            91\n",
       "Name: count, dtype: int64"
      ]
     },
     "execution_count": 13,
     "metadata": {},
     "output_type": "execute_result"
    }
   ],
   "source": [
    "df[\"GEO Region\"].value_counts()"
   ]
  },
  {
   "cell_type": "code",
   "execution_count": 14,
   "id": "62bf0d97-8fb6-4307-b85e-16c2502ac59a",
   "metadata": {},
   "outputs": [
    {
     "data": {
      "text/plain": [
       "Activity Type Code\n",
       "Enplaned          8930\n",
       "Deplaned          8909\n",
       "Thru / Transit    1046\n",
       "Name: count, dtype: int64"
      ]
     },
     "execution_count": 14,
     "metadata": {},
     "output_type": "execute_result"
    }
   ],
   "source": [
    "df[\"Activity Type Code\"].value_counts()"
   ]
  },
  {
   "cell_type": "code",
   "execution_count": 15,
   "id": "b238afbb-5825-46a3-ba4c-e07904b38231",
   "metadata": {},
   "outputs": [
    {
     "data": {
      "text/plain": [
       "Price Category Code\n",
       "Other       16521\n",
       "Low Fare     2364\n",
       "Name: count, dtype: int64"
      ]
     },
     "execution_count": 15,
     "metadata": {},
     "output_type": "execute_result"
    }
   ],
   "source": [
    "df[\"Price Category Code\"].value_counts()"
   ]
  },
  {
   "cell_type": "code",
   "execution_count": 16,
   "id": "06a36191-62e3-466a-b718-21068b88ef12",
   "metadata": {},
   "outputs": [
    {
     "data": {
      "text/plain": [
       "Terminal\n",
       "International    11963\n",
       "Terminal 1        3610\n",
       "Terminal 3        2699\n",
       "Terminal 2         586\n",
       "Other               27\n",
       "Name: count, dtype: int64"
      ]
     },
     "execution_count": 16,
     "metadata": {},
     "output_type": "execute_result"
    }
   ],
   "source": [
    "df[\"Terminal\"].value_counts()"
   ]
  },
  {
   "cell_type": "code",
   "execution_count": 17,
   "id": "59785812-90db-4579-87fe-79f3b08c3f49",
   "metadata": {},
   "outputs": [
    {
     "data": {
      "text/plain": [
       "Boarding Area\n",
       "A        6679\n",
       "G        5304\n",
       "B        2128\n",
       "F        1682\n",
       "C        1462\n",
       "E        1017\n",
       "D         586\n",
       "Other      27\n",
       "Name: count, dtype: int64"
      ]
     },
     "execution_count": 17,
     "metadata": {},
     "output_type": "execute_result"
    }
   ],
   "source": [
    "df[\"Boarding Area\"].value_counts()"
   ]
  },
  {
   "cell_type": "markdown",
   "id": "864ae6b2-78a1-4ff5-9275-dc3568aaf237",
   "metadata": {},
   "source": [
    "### Data Preparing"
   ]
  },
  {
   "cell_type": "code",
   "execution_count": 18,
   "id": "c1392f1b-188a-403e-b136-76fd80dbf363",
   "metadata": {},
   "outputs": [],
   "source": [
    "df[\"Operating Airline IATA Code\"]=df[\"Operating Airline IATA Code\"].fillna(\"UA\")"
   ]
  },
  {
   "cell_type": "code",
   "execution_count": 19,
   "id": "9f504ca7-0993-4ce8-b4b4-6c7bc0eca4a4",
   "metadata": {},
   "outputs": [],
   "source": [
    "df[\"Published Airline IATA Code\"]=df[\"Published Airline IATA Code\"].fillna(\"UA\")"
   ]
  },
  {
   "cell_type": "code",
   "execution_count": 20,
   "id": "03c496f4-bd09-4fc3-8a83-eebd1e03291a",
   "metadata": {
    "scrolled": true
   },
   "outputs": [],
   "source": [
    "df=df.drop(df[[\"Published Airline\",\"Published Airline IATA Code\"]],axis=1)"
   ]
  },
  {
   "cell_type": "code",
   "execution_count": 21,
   "id": "f9ab9963-3507-4d2b-99be-fd5c56ca6174",
   "metadata": {},
   "outputs": [],
   "source": [
    "d={\"Other\":0,\"Terminal 1\":1,\"Terminal 2\":2,\"Terminal 3\":3,\"International\":4}"
   ]
  },
  {
   "cell_type": "code",
   "execution_count": 22,
   "id": "2a7aaa10-570b-404e-ba24-9234ffb8a82c",
   "metadata": {},
   "outputs": [],
   "source": [
    "df[\"Terminal\"]=df[\"Terminal\"].map(d)"
   ]
  },
  {
   "cell_type": "code",
   "execution_count": null,
   "id": "537fe93e-7cbd-4cf6-8b92-d6b7393826f5",
   "metadata": {},
   "outputs": [],
   "source": []
  },
  {
   "cell_type": "code",
   "execution_count": 23,
   "id": "797cdb1d-058a-4af4-9202-6217d9677700",
   "metadata": {},
   "outputs": [],
   "source": [
    "df[\"Operating Airline\"]=le.fit_transform(df[\"Operating Airline\"])"
   ]
  },
  {
   "cell_type": "code",
   "execution_count": 24,
   "id": "e8c49f21-68e4-4790-9696-c2bfa84ab378",
   "metadata": {},
   "outputs": [],
   "source": [
    "df[\"Operating Airline IATA Code\"] =le.fit_transform(df[\"Operating Airline IATA Code\"])"
   ]
  },
  {
   "cell_type": "code",
   "execution_count": 25,
   "id": "190bc213-8fad-412c-a3c6-fdcd43421a54",
   "metadata": {},
   "outputs": [],
   "source": [
    "df[\"GEO Region\"] =le.fit_transform(df[\"GEO Region\"])"
   ]
  },
  {
   "cell_type": "code",
   "execution_count": 26,
   "id": "bfcdf0a8-0abd-4aae-8dd1-feb303bdf65c",
   "metadata": {},
   "outputs": [],
   "source": [
    "df[\"Activity Type Code\"]=le.fit_transform(df[\"Activity Type Code\"])"
   ]
  },
  {
   "cell_type": "code",
   "execution_count": 27,
   "id": "b01fefbd-019c-476c-94a7-ffa1ce6f770b",
   "metadata": {},
   "outputs": [],
   "source": [
    "df[\"Price Category Code\"]=le.fit_transform(df[\"Price Category Code\"])"
   ]
  },
  {
   "cell_type": "code",
   "execution_count": 28,
   "id": "430d75fa-9d63-4f16-a4c2-7d58a6e97208",
   "metadata": {},
   "outputs": [],
   "source": [
    "df[\"Boarding Area\"]=le.fit_transform(df[\"Boarding Area\"])"
   ]
  },
  {
   "cell_type": "code",
   "execution_count": 29,
   "id": "b48ce31b-f7ae-42e3-bc73-1147f3bc9004",
   "metadata": {},
   "outputs": [],
   "source": [
    "x=pd.get_dummies(df)"
   ]
  },
  {
   "cell_type": "code",
   "execution_count": 30,
   "id": "5787feca-00fb-418c-bfd5-449be7661913",
   "metadata": {
    "scrolled": true
   },
   "outputs": [
    {
     "data": {
      "text/html": [
       "<div>\n",
       "<style scoped>\n",
       "    .dataframe tbody tr th:only-of-type {\n",
       "        vertical-align: middle;\n",
       "    }\n",
       "\n",
       "    .dataframe tbody tr th {\n",
       "        vertical-align: top;\n",
       "    }\n",
       "\n",
       "    .dataframe thead th {\n",
       "        text-align: right;\n",
       "    }\n",
       "</style>\n",
       "<table border=\"1\" class=\"dataframe\">\n",
       "  <thead>\n",
       "    <tr style=\"text-align: right;\">\n",
       "      <th></th>\n",
       "      <th>Activity Period</th>\n",
       "      <th>Operating Airline</th>\n",
       "      <th>Operating Airline IATA Code</th>\n",
       "      <th>GEO Region</th>\n",
       "      <th>Activity Type Code</th>\n",
       "      <th>Price Category Code</th>\n",
       "      <th>Terminal</th>\n",
       "      <th>Boarding Area</th>\n",
       "      <th>Passenger Count</th>\n",
       "      <th>GEO Summary_Domestic</th>\n",
       "      <th>GEO Summary_International</th>\n",
       "    </tr>\n",
       "  </thead>\n",
       "  <tbody>\n",
       "    <tr>\n",
       "      <th>0</th>\n",
       "      <td>200507</td>\n",
       "      <td>1</td>\n",
       "      <td>67</td>\n",
       "      <td>8</td>\n",
       "      <td>0</td>\n",
       "      <td>0</td>\n",
       "      <td>1</td>\n",
       "      <td>1</td>\n",
       "      <td>27271</td>\n",
       "      <td>True</td>\n",
       "      <td>False</td>\n",
       "    </tr>\n",
       "    <tr>\n",
       "      <th>1</th>\n",
       "      <td>200507</td>\n",
       "      <td>1</td>\n",
       "      <td>67</td>\n",
       "      <td>8</td>\n",
       "      <td>1</td>\n",
       "      <td>0</td>\n",
       "      <td>1</td>\n",
       "      <td>1</td>\n",
       "      <td>29131</td>\n",
       "      <td>True</td>\n",
       "      <td>False</td>\n",
       "    </tr>\n",
       "    <tr>\n",
       "      <th>2</th>\n",
       "      <td>200507</td>\n",
       "      <td>1</td>\n",
       "      <td>67</td>\n",
       "      <td>8</td>\n",
       "      <td>2</td>\n",
       "      <td>0</td>\n",
       "      <td>1</td>\n",
       "      <td>1</td>\n",
       "      <td>5415</td>\n",
       "      <td>True</td>\n",
       "      <td>False</td>\n",
       "    </tr>\n",
       "    <tr>\n",
       "      <th>3</th>\n",
       "      <td>200507</td>\n",
       "      <td>5</td>\n",
       "      <td>7</td>\n",
       "      <td>2</td>\n",
       "      <td>0</td>\n",
       "      <td>1</td>\n",
       "      <td>1</td>\n",
       "      <td>1</td>\n",
       "      <td>35156</td>\n",
       "      <td>False</td>\n",
       "      <td>True</td>\n",
       "    </tr>\n",
       "    <tr>\n",
       "      <th>4</th>\n",
       "      <td>200507</td>\n",
       "      <td>5</td>\n",
       "      <td>7</td>\n",
       "      <td>2</td>\n",
       "      <td>1</td>\n",
       "      <td>1</td>\n",
       "      <td>1</td>\n",
       "      <td>1</td>\n",
       "      <td>34090</td>\n",
       "      <td>False</td>\n",
       "      <td>True</td>\n",
       "    </tr>\n",
       "    <tr>\n",
       "      <th>...</th>\n",
       "      <td>...</td>\n",
       "      <td>...</td>\n",
       "      <td>...</td>\n",
       "      <td>...</td>\n",
       "      <td>...</td>\n",
       "      <td>...</td>\n",
       "      <td>...</td>\n",
       "      <td>...</td>\n",
       "      <td>...</td>\n",
       "      <td>...</td>\n",
       "      <td>...</td>\n",
       "    </tr>\n",
       "    <tr>\n",
       "      <th>18880</th>\n",
       "      <td>201806</td>\n",
       "      <td>84</td>\n",
       "      <td>75</td>\n",
       "      <td>4</td>\n",
       "      <td>1</td>\n",
       "      <td>1</td>\n",
       "      <td>4</td>\n",
       "      <td>6</td>\n",
       "      <td>50</td>\n",
       "      <td>False</td>\n",
       "      <td>True</td>\n",
       "    </tr>\n",
       "    <tr>\n",
       "      <th>18881</th>\n",
       "      <td>201806</td>\n",
       "      <td>85</td>\n",
       "      <td>74</td>\n",
       "      <td>2</td>\n",
       "      <td>0</td>\n",
       "      <td>1</td>\n",
       "      <td>4</td>\n",
       "      <td>0</td>\n",
       "      <td>10868</td>\n",
       "      <td>False</td>\n",
       "      <td>True</td>\n",
       "    </tr>\n",
       "    <tr>\n",
       "      <th>18882</th>\n",
       "      <td>201806</td>\n",
       "      <td>85</td>\n",
       "      <td>74</td>\n",
       "      <td>2</td>\n",
       "      <td>1</td>\n",
       "      <td>1</td>\n",
       "      <td>4</td>\n",
       "      <td>0</td>\n",
       "      <td>11664</td>\n",
       "      <td>False</td>\n",
       "      <td>True</td>\n",
       "    </tr>\n",
       "    <tr>\n",
       "      <th>18883</th>\n",
       "      <td>201806</td>\n",
       "      <td>87</td>\n",
       "      <td>61</td>\n",
       "      <td>4</td>\n",
       "      <td>0</td>\n",
       "      <td>1</td>\n",
       "      <td>4</td>\n",
       "      <td>0</td>\n",
       "      <td>804</td>\n",
       "      <td>False</td>\n",
       "      <td>True</td>\n",
       "    </tr>\n",
       "    <tr>\n",
       "      <th>18884</th>\n",
       "      <td>201806</td>\n",
       "      <td>87</td>\n",
       "      <td>61</td>\n",
       "      <td>4</td>\n",
       "      <td>1</td>\n",
       "      <td>1</td>\n",
       "      <td>4</td>\n",
       "      <td>0</td>\n",
       "      <td>1243</td>\n",
       "      <td>False</td>\n",
       "      <td>True</td>\n",
       "    </tr>\n",
       "  </tbody>\n",
       "</table>\n",
       "<p>18885 rows × 11 columns</p>\n",
       "</div>"
      ],
      "text/plain": [
       "       Activity Period  Operating Airline  Operating Airline IATA Code  \\\n",
       "0               200507                  1                           67   \n",
       "1               200507                  1                           67   \n",
       "2               200507                  1                           67   \n",
       "3               200507                  5                            7   \n",
       "4               200507                  5                            7   \n",
       "...                ...                ...                          ...   \n",
       "18880           201806                 84                           75   \n",
       "18881           201806                 85                           74   \n",
       "18882           201806                 85                           74   \n",
       "18883           201806                 87                           61   \n",
       "18884           201806                 87                           61   \n",
       "\n",
       "       GEO Region  Activity Type Code  Price Category Code  Terminal  \\\n",
       "0               8                   0                    0         1   \n",
       "1               8                   1                    0         1   \n",
       "2               8                   2                    0         1   \n",
       "3               2                   0                    1         1   \n",
       "4               2                   1                    1         1   \n",
       "...           ...                 ...                  ...       ...   \n",
       "18880           4                   1                    1         4   \n",
       "18881           2                   0                    1         4   \n",
       "18882           2                   1                    1         4   \n",
       "18883           4                   0                    1         4   \n",
       "18884           4                   1                    1         4   \n",
       "\n",
       "       Boarding Area  Passenger Count  GEO Summary_Domestic  \\\n",
       "0                  1            27271                  True   \n",
       "1                  1            29131                  True   \n",
       "2                  1             5415                  True   \n",
       "3                  1            35156                 False   \n",
       "4                  1            34090                 False   \n",
       "...              ...              ...                   ...   \n",
       "18880              6               50                 False   \n",
       "18881              0            10868                 False   \n",
       "18882              0            11664                 False   \n",
       "18883              0              804                 False   \n",
       "18884              0             1243                 False   \n",
       "\n",
       "       GEO Summary_International  \n",
       "0                          False  \n",
       "1                          False  \n",
       "2                          False  \n",
       "3                           True  \n",
       "4                           True  \n",
       "...                          ...  \n",
       "18880                       True  \n",
       "18881                       True  \n",
       "18882                       True  \n",
       "18883                       True  \n",
       "18884                       True  \n",
       "\n",
       "[18885 rows x 11 columns]"
      ]
     },
     "execution_count": 30,
     "metadata": {},
     "output_type": "execute_result"
    }
   ],
   "source": [
    "x"
   ]
  },
  {
   "cell_type": "markdown",
   "id": "50334fdd-eed7-4b67-8bf3-cc666e0c8b4d",
   "metadata": {},
   "source": [
    "### Modelling"
   ]
  },
  {
   "cell_type": "code",
   "execution_count": 31,
   "id": "806768d2-6f77-4396-ba82-2dbdf858e198",
   "metadata": {},
   "outputs": [
    {
     "name": "stdout",
     "output_type": "stream",
     "text": [
      "0.8594440016641529\n",
      "0.8279438070281736\n",
      "0.7855111759742445\n",
      "0.7835626789390756\n",
      "0.6558727177802105\n",
      "0.660847984095297\n",
      "0.6341689395631585\n",
      "0.6369943423952164\n"
     ]
    }
   ],
   "source": [
    "#wcss= within cluster sum of squares\n",
    "wcss=[]\n",
    "ss=[]\n",
    "for i in range(2,10):\n",
    "    model=KMeans(i)\n",
    "    model=model.fit(x)\n",
    "    tahmin=model.predict(x)\n",
    "    ss1=silhouette_score(x,tahmin)\n",
    "    ss.append(ss1)\n",
    "    print(ss1)\n",
    "    wcss.append(model.inertia_)"
   ]
  },
  {
   "cell_type": "code",
   "execution_count": 32,
   "id": "9599cd19-f8d0-4ad7-9c7b-7ebaaa793618",
   "metadata": {},
   "outputs": [
    {
     "data": {
      "text/plain": [
       "[<matplotlib.lines.Line2D at 0x156ca93f500>]"
      ]
     },
     "execution_count": 32,
     "metadata": {},
     "output_type": "execute_result"
    },
    {
     "data": {
      "image/png": "[encoded data removed]",
      "text/plain": [
       "<Figure size 800x550 with 1 Axes>"
      ]
     },
     "metadata": {},
     "output_type": "display_data"
    }
   ],
   "source": [
    "plt.plot(range(2,10),wcss)"
   ]
  },
  {
   "cell_type": "code",
   "execution_count": 33,
   "id": "ba4d138b-f689-4d83-b8ce-42ea1b4016e5",
   "metadata": {},
   "outputs": [
    {
     "data": {
      "image/png": "[encoded data removed]",
      "text/plain": [
       "<Figure size 800x550 with 2 Axes>"
      ]
     },
     "metadata": {},
     "output_type": "display_data"
    },
    {
     "data": {
      "text/plain": [
       "<Axes: title={'center': 'Distortion Score Elbow for KMeans Clustering'}, xlabel='k', ylabel='distortion score'>"
      ]
     },
     "execution_count": 33,
     "metadata": {},
     "output_type": "execute_result"
    }
   ],
   "source": [
    "km=KMeans(random_state=42)\n",
    "vis=KElbowVisualizer(km,k=(2,10))\n",
    "vis.fit(x)\n",
    "vis.show()"
   ]
  },
  {
   "cell_type": "code",
   "execution_count": null,
   "id": "ea501b7b-2384-46ea-b5c7-fbe2f1629862",
   "metadata": {},
   "outputs": [],
   "source": []
  },
  {
   "cell_type": "code",
   "execution_count": 34,
   "id": "46e1e34a-d8e0-489c-b8b3-83ec35f1932d",
   "metadata": {},
   "outputs": [],
   "source": [
    "model=KMeans(3,random_state=42)"
   ]
  },
  {
   "cell_type": "code",
   "execution_count": 35,
   "id": "6333838c-d68e-4e99-a1cd-2f0a635a5619",
   "metadata": {
    "scrolled": true
   },
   "outputs": [
    {
     "data": {
      "text/html": [
       "<style>#sk-container-id-1 {\n",
       "  /* Definition of color scheme common for light and dark mode */\n",
       "  --sklearn-color-text: black;\n",
       "  --sklearn-color-line: gray;\n",
       "  /* Definition of color scheme for unfitted estimators */\n",
       "  --sklearn-color-unfitted-level-0: #fff5e6;\n",
       "  --sklearn-color-unfitted-level-1: #f6e4d2;\n",
       "  --sklearn-color-unfitted-level-2: #ffe0b3;\n",
       "  --sklearn-color-unfitted-level-3: chocolate;\n",
       "  /* Definition of color scheme for fitted estimators */\n",
       "  --sklearn-color-fitted-level-0: #f0f8ff;\n",
       "  --sklearn-color-fitted-level-1: #d4ebff;\n",
       "  --sklearn-color-fitted-level-2: #b3dbfd;\n",
       "  --sklearn-color-fitted-level-3: cornflowerblue;\n",
       "\n",
       "  /* Specific color for light theme */\n",
       "  --sklearn-color-text-on-default-background: var(--sg-text-color, var(--theme-code-foreground, var(--jp-content-font-color1, black)));\n",
       "  --sklearn-color-background: var(--sg-background-color, var(--theme-background, var(--jp-layout-color0, white)));\n",
       "  --sklearn-color-border-box: var(--sg-text-color, var(--theme-code-foreground, var(--jp-content-font-color1, black)));\n",
       "  --sklearn-color-icon: #696969;\n",
       "\n",
       "  @media (prefers-color-scheme: dark) {\n",
       "    /* Redefinition of color scheme for dark theme */\n",
       "    --sklearn-color-text-on-default-background: var(--sg-text-color, var(--theme-code-foreground, var(--jp-content-font-color1, white)));\n",
       "    --sklearn-color-background: var(--sg-background-color, var(--theme-background, var(--jp-layout-color0, #111)));\n",
       "    --sklearn-color-border-box: var(--sg-text-color, var(--theme-code-foreground, var(--jp-content-font-color1, white)));\n",
       "    --sklearn-color-icon: #878787;\n",
       "  }\n",
       "}\n",
       "\n",
       "#sk-container-id-1 {\n",
       "  color: var(--sklearn-color-text);\n",
       "}\n",
       "\n",
       "#sk-container-id-1 pre {\n",
       "  padding: 0;\n",
       "}\n",
       "\n",
       "#sk-container-id-1 input.sk-hidden--visually {\n",
       "  border: 0;\n",
       "  clip: rect(1px 1px 1px 1px);\n",
       "  clip: rect(1px, 1px, 1px, 1px);\n",
       "  height: 1px;\n",
       "  margin: -1px;\n",
       "  overflow: hidden;\n",
       "  padding: 0;\n",
       "  position: absolute;\n",
       "  width: 1px;\n",
       "}\n",
       "\n",
       "#sk-container-id-1 div.sk-dashed-wrapped {\n",
       "  border: 1px dashed var(--sklearn-color-line);\n",
       "  margin: 0 0.4em 0.5em 0.4em;\n",
       "  box-sizing: border-box;\n",
       "  padding-bottom: 0.4em;\n",
       "  background-color: var(--sklearn-color-background);\n",
       "}\n",
       "\n",
       "#sk-container-id-1 div.sk-container {\n",
       "  /* jupyter's `normalize.less` sets `[hidden] { display: none; }`\n",
       "     but bootstrap.min.css set `[hidden] { display: none !important; }`\n",
       "     so we also need the `!important` here to be able to override the\n",
       "     default hidden behavior on the sphinx rendered scikit-learn.org.\n",
       "     See: https://github.com/scikit-learn/scikit-learn/issues/21755 */\n",
       "  display: inline-block !important;\n",
       "  position: relative;\n",
       "}\n",
       "\n",
       "#sk-container-id-1 div.sk-text-repr-fallback {\n",
       "  display: none;\n",
       "}\n",
       "\n",
       "div.sk-parallel-item,\n",
       "div.sk-serial,\n",
       "div.sk-item {\n",
       "  /* draw centered vertical line to link estimators */\n",
       "  background-image: linear-gradient(var(--sklearn-color-text-on-default-background), var(--sklearn-color-text-on-default-background));\n",
       "  background-size: 2px 100%;\n",
       "  background-repeat: no-repeat;\n",
       "  background-position: center center;\n",
       "}\n",
       "\n",
       "/* Parallel-specific style estimator block */\n",
       "\n",
       "#sk-container-id-1 div.sk-parallel-item::after {\n",
       "  content: \"\";\n",
       "  width: 100%;\n",
       "  border-bottom: 2px solid var(--sklearn-color-text-on-default-background);\n",
       "  flex-grow: 1;\n",
       "}\n",
       "\n",
       "#sk-container-id-1 div.sk-parallel {\n",
       "  display: flex;\n",
       "  align-items: stretch;\n",
       "  justify-content: center;\n",
       "  background-color: var(--sklearn-color-background);\n",
       "  position: relative;\n",
       "}\n",
       "\n",
       "#sk-container-id-1 div.sk-parallel-item {\n",
       "  display: flex;\n",
       "  flex-direction: column;\n",
       "}\n",
       "\n",
       "#sk-container-id-1 div.sk-parallel-item:first-child::after {\n",
       "  align-self: flex-end;\n",
       "  width: 50%;\n",
       "}\n",
       "\n",
       "#sk-container-id-1 div.sk-parallel-item:last-child::after {\n",
       "  align-self: flex-start;\n",
       "  width: 50%;\n",
       "}\n",
       "\n",
       "#sk-container-id-1 div.sk-parallel-item:only-child::after {\n",
       "  width: 0;\n",
       "}\n",
       "\n",
       "/* Serial-specific style estimator block */\n",
       "\n",
       "#sk-container-id-1 div.sk-serial {\n",
       "  display: flex;\n",
       "  flex-direction: column;\n",
       "  align-items: center;\n",
       "  background-color: var(--sklearn-color-background);\n",
       "  padding-right: 1em;\n",
       "  padding-left: 1em;\n",
       "}\n",
       "\n",
       "\n",
       "/* Toggleable style: style used for estimator/Pipeline/ColumnTransformer box that is\n",
       "clickable and can be expanded/collapsed.\n",
       "- Pipeline and ColumnTransformer use this feature and define the default style\n",
       "- Estimators will overwrite some part of the style using the `sk-estimator` class\n",
       "*/\n",
       "\n",
       "/* Pipeline and ColumnTransformer style (default) */\n",
       "\n",
       "#sk-container-id-1 div.sk-toggleable {\n",
       "  /* Default theme specific background. It is overwritten whether we have a\n",
       "  specific estimator or a Pipeline/ColumnTransformer */\n",
       "  background-color: var(--sklearn-color-background);\n",
       "}\n",
       "\n",
       "/* Toggleable label */\n",
       "#sk-container-id-1 label.sk-toggleable__label {\n",
       "  cursor: pointer;\n",
       "  display: block;\n",
       "  width: 100%;\n",
       "  margin-bottom: 0;\n",
       "  padding: 0.5em;\n",
       "  box-sizing: border-box;\n",
       "  text-align: center;\n",
       "}\n",
       "\n",
       "#sk-container-id-1 label.sk-toggleable__label-arrow:before {\n",
       "  /* Arrow on the left of the label */\n",
       "  content: \"▸\";\n",
       "  float: left;\n",
       "  margin-right: 0.25em;\n",
       "  color: var(--sklearn-color-icon);\n",
       "}\n",
       "\n",
       "#sk-container-id-1 label.sk-toggleable__label-arrow:hover:before {\n",
       "  color: var(--sklearn-color-text);\n",
       "}\n",
       "\n",
       "/* Toggleable content - dropdown */\n",
       "\n",
       "#sk-container-id-1 div.sk-toggleable__content {\n",
       "  max-height: 0;\n",
       "  max-width: 0;\n",
       "  overflow: hidden;\n",
       "  text-align: left;\n",
       "  /* unfitted */\n",
       "  background-color: var(--sklearn-color-unfitted-level-0);\n",
       "}\n",
       "\n",
       "#sk-container-id-1 div.sk-toggleable__content.fitted {\n",
       "  /* fitted */\n",
       "  background-color: var(--sklearn-color-fitted-level-0);\n",
       "}\n",
       "\n",
       "#sk-container-id-1 div.sk-toggleable__content pre {\n",
       "  margin: 0.2em;\n",
       "  border-radius: 0.25em;\n",
       "  color: var(--sklearn-color-text);\n",
       "  /* unfitted */\n",
       "  background-color: var(--sklearn-color-unfitted-level-0);\n",
       "}\n",
       "\n",
       "#sk-container-id-1 div.sk-toggleable__content.fitted pre {\n",
       "  /* unfitted */\n",
       "  background-color: var(--sklearn-color-fitted-level-0);\n",
       "}\n",
       "\n",
       "#sk-container-id-1 input.sk-toggleable__control:checked~div.sk-toggleable__content {\n",
       "  /* Expand drop-down */\n",
       "  max-height: 200px;\n",
       "  max-width: 100%;\n",
       "  overflow: auto;\n",
       "}\n",
       "\n",
       "#sk-container-id-1 input.sk-toggleable__control:checked~label.sk-toggleable__label-arrow:before {\n",
       "  content: \"▾\";\n",
       "}\n",
       "\n",
       "/* Pipeline/ColumnTransformer-specific style */\n",
       "\n",
       "#sk-container-id-1 div.sk-label input.sk-toggleable__control:checked~label.sk-toggleable__label {\n",
       "  color: var(--sklearn-color-text);\n",
       "  background-color: var(--sklearn-color-unfitted-level-2);\n",
       "}\n",
       "\n",
       "#sk-container-id-1 div.sk-label.fitted input.sk-toggleable__control:checked~label.sk-toggleable__label {\n",
       "  background-color: var(--sklearn-color-fitted-level-2);\n",
       "}\n",
       "\n",
       "/* Estimator-specific style */\n",
       "\n",
       "/* Colorize estimator box */\n",
       "#sk-container-id-1 div.sk-estimator input.sk-toggleable__control:checked~label.sk-toggleable__label {\n",
       "  /* unfitted */\n",
       "  background-color: var(--sklearn-color-unfitted-level-2);\n",
       "}\n",
       "\n",
       "#sk-container-id-1 div.sk-estimator.fitted input.sk-toggleable__control:checked~label.sk-toggleable__label {\n",
       "  /* fitted */\n",
       "  background-color: var(--sklearn-color-fitted-level-2);\n",
       "}\n",
       "\n",
       "#sk-container-id-1 div.sk-label label.sk-toggleable__label,\n",
       "#sk-container-id-1 div.sk-label label {\n",
       "  /* The background is the default theme color */\n",
       "  color: var(--sklearn-color-text-on-default-background);\n",
       "}\n",
       "\n",
       "/* On hover, darken the color of the background */\n",
       "#sk-container-id-1 div.sk-label:hover label.sk-toggleable__label {\n",
       "  color: var(--sklearn-color-text);\n",
       "  background-color: var(--sklearn-color-unfitted-level-2);\n",
       "}\n",
       "\n",
       "/* Label box, darken color on hover, fitted */\n",
       "#sk-container-id-1 div.sk-label.fitted:hover label.sk-toggleable__label.fitted {\n",
       "  color: var(--sklearn-color-text);\n",
       "  background-color: var(--sklearn-color-fitted-level-2);\n",
       "}\n",
       "\n",
       "/* Estimator label */\n",
       "\n",
       "#sk-container-id-1 div.sk-label label {\n",
       "  font-family: monospace;\n",
       "  font-weight: bold;\n",
       "  display: inline-block;\n",
       "  line-height: 1.2em;\n",
       "}\n",
       "\n",
       "#sk-container-id-1 div.sk-label-container {\n",
       "  text-align: center;\n",
       "}\n",
       "\n",
       "/* Estimator-specific */\n",
       "#sk-container-id-1 div.sk-estimator {\n",
       "  font-family: monospace;\n",
       "  border: 1px dotted var(--sklearn-color-border-box);\n",
       "  border-radius: 0.25em;\n",
       "  box-sizing: border-box;\n",
       "  margin-bottom: 0.5em;\n",
       "  /* unfitted */\n",
       "  background-color: var(--sklearn-color-unfitted-level-0);\n",
       "}\n",
       "\n",
       "#sk-container-id-1 div.sk-estimator.fitted {\n",
       "  /* fitted */\n",
       "  background-color: var(--sklearn-color-fitted-level-0);\n",
       "}\n",
       "\n",
       "/* on hover */\n",
       "#sk-container-id-1 div.sk-estimator:hover {\n",
       "  /* unfitted */\n",
       "  background-color: var(--sklearn-color-unfitted-level-2);\n",
       "}\n",
       "\n",
       "#sk-container-id-1 div.sk-estimator.fitted:hover {\n",
       "  /* fitted */\n",
       "  background-color: var(--sklearn-color-fitted-level-2);\n",
       "}\n",
       "\n",
       "/* Specification for estimator info (e.g. \"i\" and \"?\") */\n",
       "\n",
       "/* Common style for \"i\" and \"?\" */\n",
       "\n",
       ".sk-estimator-doc-link,\n",
       "a:link.sk-estimator-doc-link,\n",
       "a:visited.sk-estimator-doc-link {\n",
       "  float: right;\n",
       "  font-size: smaller;\n",
       "  line-height: 1em;\n",
       "  font-family: monospace;\n",
       "  background-color: var(--sklearn-color-background);\n",
       "  border-radius: 1em;\n",
       "  height: 1em;\n",
       "  width: 1em;\n",
       "  text-decoration: none !important;\n",
       "  margin-left: 1ex;\n",
       "  /* unfitted */\n",
       "  border: var(--sklearn-color-unfitted-level-1) 1pt solid;\n",
       "  color: var(--sklearn-color-unfitted-level-1);\n",
       "}\n",
       "\n",
       ".sk-estimator-doc-link.fitted,\n",
       "a:link.sk-estimator-doc-link.fitted,\n",
       "a:visited.sk-estimator-doc-link.fitted {\n",
       "  /* fitted */\n",
       "  border: var(--sklearn-color-fitted-level-1) 1pt solid;\n",
       "  color: var(--sklearn-color-fitted-level-1);\n",
       "}\n",
       "\n",
       "/* On hover */\n",
       "div.sk-estimator:hover .sk-estimator-doc-link:hover,\n",
       ".sk-estimator-doc-link:hover,\n",
       "div.sk-label-container:hover .sk-estimator-doc-link:hover,\n",
       ".sk-estimator-doc-link:hover {\n",
       "  /* unfitted */\n",
       "  background-color: var(--sklearn-color-unfitted-level-3);\n",
       "  color: var(--sklearn-color-background);\n",
       "  text-decoration: none;\n",
       "}\n",
       "\n",
       "div.sk-estimator.fitted:hover .sk-estimator-doc-link.fitted:hover,\n",
       ".sk-estimator-doc-link.fitted:hover,\n",
       "div.sk-label-container:hover .sk-estimator-doc-link.fitted:hover,\n",
       ".sk-estimator-doc-link.fitted:hover {\n",
       "  /* fitted */\n",
       "  background-color: var(--sklearn-color-fitted-level-3);\n",
       "  color: var(--sklearn-color-background);\n",
       "  text-decoration: none;\n",
       "}\n",
       "\n",
       "/* Span, style for the box shown on hovering the info icon */\n",
       ".sk-estimator-doc-link span {\n",
       "  display: none;\n",
       "  z-index: 9999;\n",
       "  position: relative;\n",
       "  font-weight: normal;\n",
       "  right: .2ex;\n",
       "  padding: .5ex;\n",
       "  margin: .5ex;\n",
       "  width: min-content;\n",
       "  min-width: 20ex;\n",
       "  max-width: 50ex;\n",
       "  color: var(--sklearn-color-text);\n",
       "  box-shadow: 2pt 2pt 4pt #999;\n",
       "  /* unfitted */\n",
       "  background: var(--sklearn-color-unfitted-level-0);\n",
       "  border: .5pt solid var(--sklearn-color-unfitted-level-3);\n",
       "}\n",
       "\n",
       ".sk-estimator-doc-link.fitted span {\n",
       "  /* fitted */\n",
       "  background: var(--sklearn-color-fitted-level-0);\n",
       "  border: var(--sklearn-color-fitted-level-3);\n",
       "}\n",
       "\n",
       ".sk-estimator-doc-link:hover span {\n",
       "  display: block;\n",
       "}\n",
       "\n",
       "/* \"?\"-specific style due to the `<a>` HTML tag */\n",
       "\n",
       "#sk-container-id-1 a.estimator_doc_link {\n",
       "  float: right;\n",
       "  font-size: 1rem;\n",
       "  line-height: 1em;\n",
       "  font-family: monospace;\n",
       "  background-color: var(--sklearn-color-background);\n",
       "  border-radius: 1rem;\n",
       "  height: 1rem;\n",
       "  width: 1rem;\n",
       "  text-decoration: none;\n",
       "  /* unfitted */\n",
       "  color: var(--sklearn-color-unfitted-level-1);\n",
       "  border: var(--sklearn-color-unfitted-level-1) 1pt solid;\n",
       "}\n",
       "\n",
       "#sk-container-id-1 a.estimator_doc_link.fitted {\n",
       "  /* fitted */\n",
       "  border: var(--sklearn-color-fitted-level-1) 1pt solid;\n",
       "  color: var(--sklearn-color-fitted-level-1);\n",
       "}\n",
       "\n",
       "/* On hover */\n",
       "#sk-container-id-1 a.estimator_doc_link:hover {\n",
       "  /* unfitted */\n",
       "  background-color: var(--sklearn-color-unfitted-level-3);\n",
       "  color: var(--sklearn-color-background);\n",
       "  text-decoration: none;\n",
       "}\n",
       "\n",
       "#sk-container-id-1 a.estimator_doc_link.fitted:hover {\n",
       "  /* fitted */\n",
       "  background-color: var(--sklearn-color-fitted-level-3);\n",
       "}\n",
       "</style><div id=\"sk-container-id-1\" class=\"sk-top-container\"><div class=\"sk-text-repr-fallback\"><pre>KMeans(n_clusters=3, random_state=42)</pre><b>In a Jupyter environment, please rerun this cell to show the HTML representation or trust the notebook. <br />On GitHub, the HTML representation is unable to render, please try loading this page with nbviewer.org.</b></div><div class=\"sk-container\" hidden><div class=\"sk-item\"><div class=\"sk-estimator fitted sk-toggleable\"><input class=\"sk-toggleable__control sk-hidden--visually\" id=\"sk-estimator-id-1\" type=\"checkbox\" checked><label for=\"sk-estimator-id-1\" class=\"sk-toggleable__label fitted sk-toggleable__label-arrow fitted\">&nbsp;&nbsp;KMeans<a class=\"sk-estimator-doc-link fitted\" rel=\"noreferrer\" target=\"_blank\" href=\"https://scikit-learn.org/1.4/modules/generated/sklearn.cluster.KMeans.html\">?<span>Documentation for KMeans</span></a><span class=\"sk-estimator-doc-link fitted\">i<span>Fitted</span></span></label><div class=\"sk-toggleable__content fitted\"><pre>KMeans(n_clusters=3, random_state=42)</pre></div> </div></div></div></div>"
      ],
      "text/plain": [
       "KMeans(n_clusters=3, random_state=42)"
      ]
     },
     "execution_count": 35,
     "metadata": {},
     "output_type": "execute_result"
    }
   ],
   "source": [
    "model.fit(x)"
   ]
  },
  {
   "cell_type": "code",
   "execution_count": 36,
   "id": "16cd65a3-09c0-4996-9a9d-93ceeee8c725",
   "metadata": {},
   "outputs": [],
   "source": [
    "tahmin=model.predict(x)"
   ]
  },
  {
   "cell_type": "code",
   "execution_count": 37,
   "id": "e061e998-2764-49f5-bc9b-13270130638d",
   "metadata": {},
   "outputs": [
    {
     "data": {
      "text/plain": [
       "0.8279355260628422"
      ]
     },
     "execution_count": 37,
     "metadata": {},
     "output_type": "execute_result"
    }
   ],
   "source": [
    "silhouette_score(x,tahmin)"
   ]
  },
  {
   "cell_type": "code",
   "execution_count": 38,
   "id": "4d75a0f7-b45d-405e-8ac9-fc614c9292c4",
   "metadata": {},
   "outputs": [],
   "source": [
    "x[\"Cluster\"]=tahmin"
   ]
  },
  {
   "cell_type": "code",
   "execution_count": 39,
   "id": "d286cadc-9734-43de-8905-e6d7e3448952",
   "metadata": {},
   "outputs": [
    {
     "data": {
      "text/html": [
       "<div>\n",
       "<style scoped>\n",
       "    .dataframe tbody tr th:only-of-type {\n",
       "        vertical-align: middle;\n",
       "    }\n",
       "\n",
       "    .dataframe tbody tr th {\n",
       "        vertical-align: top;\n",
       "    }\n",
       "\n",
       "    .dataframe thead th {\n",
       "        text-align: right;\n",
       "    }\n",
       "</style>\n",
       "<table border=\"1\" class=\"dataframe\">\n",
       "  <thead>\n",
       "    <tr style=\"text-align: right;\">\n",
       "      <th></th>\n",
       "      <th>Activity Period</th>\n",
       "      <th>Operating Airline</th>\n",
       "      <th>Operating Airline IATA Code</th>\n",
       "      <th>GEO Region</th>\n",
       "      <th>Activity Type Code</th>\n",
       "      <th>Price Category Code</th>\n",
       "      <th>Terminal</th>\n",
       "      <th>Boarding Area</th>\n",
       "      <th>Passenger Count</th>\n",
       "      <th>GEO Summary_Domestic</th>\n",
       "      <th>GEO Summary_International</th>\n",
       "      <th>Cluster</th>\n",
       "    </tr>\n",
       "  </thead>\n",
       "  <tbody>\n",
       "    <tr>\n",
       "      <th>0</th>\n",
       "      <td>200507</td>\n",
       "      <td>1</td>\n",
       "      <td>67</td>\n",
       "      <td>8</td>\n",
       "      <td>0</td>\n",
       "      <td>0</td>\n",
       "      <td>1</td>\n",
       "      <td>1</td>\n",
       "      <td>27271</td>\n",
       "      <td>True</td>\n",
       "      <td>False</td>\n",
       "      <td>0</td>\n",
       "    </tr>\n",
       "    <tr>\n",
       "      <th>1</th>\n",
       "      <td>200507</td>\n",
       "      <td>1</td>\n",
       "      <td>67</td>\n",
       "      <td>8</td>\n",
       "      <td>1</td>\n",
       "      <td>0</td>\n",
       "      <td>1</td>\n",
       "      <td>1</td>\n",
       "      <td>29131</td>\n",
       "      <td>True</td>\n",
       "      <td>False</td>\n",
       "      <td>0</td>\n",
       "    </tr>\n",
       "    <tr>\n",
       "      <th>2</th>\n",
       "      <td>200507</td>\n",
       "      <td>1</td>\n",
       "      <td>67</td>\n",
       "      <td>8</td>\n",
       "      <td>2</td>\n",
       "      <td>0</td>\n",
       "      <td>1</td>\n",
       "      <td>1</td>\n",
       "      <td>5415</td>\n",
       "      <td>True</td>\n",
       "      <td>False</td>\n",
       "      <td>0</td>\n",
       "    </tr>\n",
       "    <tr>\n",
       "      <th>3</th>\n",
       "      <td>200507</td>\n",
       "      <td>5</td>\n",
       "      <td>7</td>\n",
       "      <td>2</td>\n",
       "      <td>0</td>\n",
       "      <td>1</td>\n",
       "      <td>1</td>\n",
       "      <td>1</td>\n",
       "      <td>35156</td>\n",
       "      <td>False</td>\n",
       "      <td>True</td>\n",
       "      <td>0</td>\n",
       "    </tr>\n",
       "    <tr>\n",
       "      <th>4</th>\n",
       "      <td>200507</td>\n",
       "      <td>5</td>\n",
       "      <td>7</td>\n",
       "      <td>2</td>\n",
       "      <td>1</td>\n",
       "      <td>1</td>\n",
       "      <td>1</td>\n",
       "      <td>1</td>\n",
       "      <td>34090</td>\n",
       "      <td>False</td>\n",
       "      <td>True</td>\n",
       "      <td>0</td>\n",
       "    </tr>\n",
       "  </tbody>\n",
       "</table>\n",
       "</div>"
      ],
      "text/plain": [
       "   Activity Period  Operating Airline  Operating Airline IATA Code  \\\n",
       "0           200507                  1                           67   \n",
       "1           200507                  1                           67   \n",
       "2           200507                  1                           67   \n",
       "3           200507                  5                            7   \n",
       "4           200507                  5                            7   \n",
       "\n",
       "   GEO Region  Activity Type Code  Price Category Code  Terminal  \\\n",
       "0           8                   0                    0         1   \n",
       "1           8                   1                    0         1   \n",
       "2           8                   2                    0         1   \n",
       "3           2                   0                    1         1   \n",
       "4           2                   1                    1         1   \n",
       "\n",
       "   Boarding Area  Passenger Count  GEO Summary_Domestic  \\\n",
       "0              1            27271                  True   \n",
       "1              1            29131                  True   \n",
       "2              1             5415                  True   \n",
       "3              1            35156                 False   \n",
       "4              1            34090                 False   \n",
       "\n",
       "   GEO Summary_International  Cluster  \n",
       "0                      False        0  \n",
       "1                      False        0  \n",
       "2                      False        0  \n",
       "3                       True        0  \n",
       "4                       True        0  "
      ]
     },
     "execution_count": 39,
     "metadata": {},
     "output_type": "execute_result"
    }
   ],
   "source": [
    "x.head()"
   ]
  },
  {
   "cell_type": "code",
   "execution_count": 40,
   "id": "3ceea03f-9ac0-4485-bc30-56ded763026c",
   "metadata": {},
   "outputs": [
    {
     "data": {
      "text/plain": [
       "Cluster\n",
       "0    16464\n",
       "2     1996\n",
       "1      425\n",
       "Name: count, dtype: int64"
      ]
     },
     "execution_count": 40,
     "metadata": {},
     "output_type": "execute_result"
    }
   ],
   "source": [
    "x[\"Cluster\"].value_counts()"
   ]
  },
  {
   "cell_type": "code",
   "execution_count": 41,
   "id": "388b5b01-be0e-4039-bc42-07c9ca37ad20",
   "metadata": {},
   "outputs": [
    {
     "data": {
      "text/plain": [
       "<matplotlib.colorbar.Colorbar at 0x156cc89a090>"
      ]
     },
     "execution_count": 41,
     "metadata": {},
     "output_type": "execute_result"
    },
    {
     "data": {
      "image/png": "[encoded data removed]",
      "text/plain": [
       "<Figure size 1000x600 with 2 Axes>"
      ]
     },
     "metadata": {},
     "output_type": "display_data"
    }
   ],
   "source": [
    "plt.figure(figsize=(10,6))\n",
    "plt.scatter(x[\"Activity Period\"],x[\"Passenger Count\"], c=tahmin)\n",
    "plt.colorbar()"
   ]
  },
  {
   "cell_type": "code",
   "execution_count": null,
   "id": "e316558e-9205-433b-90c4-7de3ac90f3fc",
   "metadata": {},
   "outputs": [],
   "source": []
  },
  {
   "cell_type": "code",
   "execution_count": 42,
   "id": "b6dc5de7-3ed4-4ee9-aad4-f44e58f5d152",
   "metadata": {},
   "outputs": [],
   "source": [
    "data=linkage(x,method=\"complete\")"
   ]
  },
  {
   "cell_type": "code",
   "execution_count": 43,
   "id": "e5cfc000-c563-4685-844a-8b77393ff6fa",
   "metadata": {},
   "outputs": [
    {
     "data": {
      "image/png": "[encoded data removed]",
      "text/plain": [
       "<Figure size 2500x600 with 1 Axes>"
      ]
     },
     "metadata": {},
     "output_type": "display_data"
    }
   ],
   "source": [
    "plt.figure(figsize=(25,6))\n",
    "dendrogram(data);"
   ]
  },
  {
   "cell_type": "markdown",
   "id": "027bc64e-1d14-496d-bdac-79ac1bcd8f09",
   "metadata": {},
   "source": [
    "Sonuc olarak dirsek 3. noktada kirildigi icin 3 grup olusturduk. En cok ucus sayisi 0 nolu kumede, En az ucus sayisi ise 1 nolu kümede oldu "
   ]
  }
 ],
 "metadata": {
  "kernelspec": {
   "display_name": "Python 3 (ipykernel)",
   "language": "python",
   "name": "python3"
  },
  "language_info": {
   "codemirror_mode": {
    "name": "ipython",
    "version": 3
   },
   "file_extension": ".py",
   "mimetype": "text/x-python",
   "name": "python",
   "nbconvert_exporter": "python",
   "pygments_lexer": "ipython3",
   "version": "3.12.3"
  }
 },
 "nbformat": 4,
 "nbformat_minor": 5
}
