{
 "cells": [
  {
   "cell_type": "markdown",
   "id": "af321c93-1a15-46c6-9e06-3deb02a79b15",
   "metadata": {},
   "source": [
    "# Rice Classification"
   ]
  },
  {
   "cell_type": "markdown",
   "id": "d8df7e4d-e1d1-4c01-b7f0-44a4179a2d8a",
   "metadata": {},
   "source": [
    "<img src=\"https://www.alerjidiyetisyeni.com/wp-content/uploads/2021/02/Pirinc-Alerjisi.jpg\">"
   ]
  },
  {
   "cell_type": "markdown",
   "id": "3fbdff73-f658-4dc4-b214-445afa02ca39",
   "metadata": {},
   "source": [
    "Bu projemizde pirinçleri CNN ve Transfer Learning(VGG16) kullanrak sınıflandıracağız"
   ]
  },
  {
   "cell_type": "markdown",
   "id": "59093963-f9c8-4ce7-a8c5-677d2c9d51c1",
   "metadata": {},
   "source": [
    "<a href=\"https://www.kaggle.com/datasets/muratkokludataset/rice-image-dataset\">Dataya Buradan Erişebilirsiniz</a>"
   ]
  },
  {
   "cell_type": "code",
   "execution_count": 3,
   "id": "20dd7711-6342-465d-924c-18cd4c74d05d",
   "metadata": {},
   "outputs": [],
   "source": [
    "import cv2\n",
    "import pandas as pd\n",
    "import os\n",
    "\n",
    "import matplotlib.pyplot as plt\n",
    "import numpy as np\n",
    "\n",
    "from sklearn.model_selection import train_test_split"
   ]
  },
  {
   "cell_type": "code",
   "execution_count": 4,
   "id": "f022e1a7-bb5f-42ea-aea6-37031e544fee",
   "metadata": {},
   "outputs": [],
   "source": [
    "img_path=\"Rice_Image_Dataset/\"\n",
    "labels=os.listdir(\"Rice_Image_Dataset\")"
   ]
  },
  {
   "cell_type": "code",
   "execution_count": 5,
   "id": "651d53fd-52f6-470d-bdcb-0b5caa9e48fa",
   "metadata": {},
   "outputs": [
    {
     "data": {
      "text/plain": [
       "['Arborio', 'Basmati', 'Ipsala', 'Jasmine', 'Karacadag']"
      ]
     },
     "execution_count": 5,
     "metadata": {},
     "output_type": "execute_result"
    }
   ],
   "source": [
    "labels"
   ]
  },
  {
   "cell_type": "code",
   "execution_count": 6,
   "id": "076eeca0-ff60-4d5d-b37f-de068cd45ecd",
   "metadata": {},
   "outputs": [],
   "source": [
    "#Dosyadan Resim okuma\n",
    "img_list=[]\n",
    "label_list=[]\n",
    "for label in labels:\n",
    "    for img_file in os.listdir(img_path+label):       #Klasörün içindeki alt klasörleri söyler\n",
    "        img_list.append(img_path+label+\"/\"+img_file)  #apppend dizinin sonuna eklme yapıyor\n",
    "        label_list.append(label)"
   ]
  },
  {
   "cell_type": "code",
   "execution_count": 7,
   "id": "aca31f00-4162-4960-a50c-0e18d61ad7d6",
   "metadata": {},
   "outputs": [],
   "source": [
    "df=pd.DataFrame({\"img\":img_list,\"label\":label_list})"
   ]
  },
  {
   "cell_type": "code",
   "execution_count": 8,
   "id": "2c08dd62-212a-40f1-a521-e91dbd246e4d",
   "metadata": {},
   "outputs": [
    {
     "data": {
      "text/html": [
       "<div>\n",
       "<style scoped>\n",
       "    .dataframe tbody tr th:only-of-type {\n",
       "        vertical-align: middle;\n",
       "    }\n",
       "\n",
       "    .dataframe tbody tr th {\n",
       "        vertical-align: top;\n",
       "    }\n",
       "\n",
       "    .dataframe thead th {\n",
       "        text-align: right;\n",
       "    }\n",
       "</style>\n",
       "<table border=\"1\" class=\"dataframe\">\n",
       "  <thead>\n",
       "    <tr style=\"text-align: right;\">\n",
       "      <th></th>\n",
       "      <th>img</th>\n",
       "      <th>label</th>\n",
       "    </tr>\n",
       "  </thead>\n",
       "  <tbody>\n",
       "    <tr>\n",
       "      <th>0</th>\n",
       "      <td>Rice_Image_Dataset/Arborio/Arborio (1).jpg</td>\n",
       "      <td>Arborio</td>\n",
       "    </tr>\n",
       "    <tr>\n",
       "      <th>1</th>\n",
       "      <td>Rice_Image_Dataset/Arborio/Arborio (10).jpg</td>\n",
       "      <td>Arborio</td>\n",
       "    </tr>\n",
       "    <tr>\n",
       "      <th>2</th>\n",
       "      <td>Rice_Image_Dataset/Arborio/Arborio (100).jpg</td>\n",
       "      <td>Arborio</td>\n",
       "    </tr>\n",
       "    <tr>\n",
       "      <th>3</th>\n",
       "      <td>Rice_Image_Dataset/Arborio/Arborio (1000).jpg</td>\n",
       "      <td>Arborio</td>\n",
       "    </tr>\n",
       "    <tr>\n",
       "      <th>4</th>\n",
       "      <td>Rice_Image_Dataset/Arborio/Arborio (10000).jpg</td>\n",
       "      <td>Arborio</td>\n",
       "    </tr>\n",
       "  </tbody>\n",
       "</table>\n",
       "</div>"
      ],
      "text/plain": [
       "                                              img    label\n",
       "0      Rice_Image_Dataset/Arborio/Arborio (1).jpg  Arborio\n",
       "1     Rice_Image_Dataset/Arborio/Arborio (10).jpg  Arborio\n",
       "2    Rice_Image_Dataset/Arborio/Arborio (100).jpg  Arborio\n",
       "3   Rice_Image_Dataset/Arborio/Arborio (1000).jpg  Arborio\n",
       "4  Rice_Image_Dataset/Arborio/Arborio (10000).jpg  Arborio"
      ]
     },
     "execution_count": 8,
     "metadata": {},
     "output_type": "execute_result"
    }
   ],
   "source": [
    "df.head()"
   ]
  },
  {
   "cell_type": "code",
   "execution_count": 9,
   "id": "6f5427dd-c728-4c96-ab88-597155273f5f",
   "metadata": {},
   "outputs": [],
   "source": [
    "d={'Arborio':0, 'Basmati':1, 'Ipsala':2, 'Jasmine':3, 'Karacadag':4}"
   ]
  },
  {
   "cell_type": "code",
   "execution_count": 10,
   "id": "33ce914c-2028-404d-9094-e928e5f41ff0",
   "metadata": {},
   "outputs": [],
   "source": [
    "df[\"encode_label\"]=df[\"label\"].map(d)"
   ]
  },
  {
   "cell_type": "code",
   "execution_count": 11,
   "id": "5ff6eff8-0a0f-4bcf-9224-dc4ec4b63f70",
   "metadata": {},
   "outputs": [
    {
     "data": {
      "text/html": [
       "<div>\n",
       "<style scoped>\n",
       "    .dataframe tbody tr th:only-of-type {\n",
       "        vertical-align: middle;\n",
       "    }\n",
       "\n",
       "    .dataframe tbody tr th {\n",
       "        vertical-align: top;\n",
       "    }\n",
       "\n",
       "    .dataframe thead th {\n",
       "        text-align: right;\n",
       "    }\n",
       "</style>\n",
       "<table border=\"1\" class=\"dataframe\">\n",
       "  <thead>\n",
       "    <tr style=\"text-align: right;\">\n",
       "      <th></th>\n",
       "      <th>img</th>\n",
       "      <th>label</th>\n",
       "      <th>encode_label</th>\n",
       "    </tr>\n",
       "  </thead>\n",
       "  <tbody>\n",
       "    <tr>\n",
       "      <th>6679</th>\n",
       "      <td>Rice_Image_Dataset/Arborio/Arborio (2509).jpg</td>\n",
       "      <td>Arborio</td>\n",
       "      <td>0</td>\n",
       "    </tr>\n",
       "    <tr>\n",
       "      <th>22078</th>\n",
       "      <td>Rice_Image_Dataset/Basmati/basmati (2869).jpg</td>\n",
       "      <td>Basmati</td>\n",
       "      <td>1</td>\n",
       "    </tr>\n",
       "    <tr>\n",
       "      <th>30282</th>\n",
       "      <td>Rice_Image_Dataset/Ipsala/Ipsala (10251).jpg</td>\n",
       "      <td>Ipsala</td>\n",
       "      <td>2</td>\n",
       "    </tr>\n",
       "    <tr>\n",
       "      <th>69096</th>\n",
       "      <td>Rice_Image_Dataset/Karacadag/Karacadag (4685).jpg</td>\n",
       "      <td>Karacadag</td>\n",
       "      <td>4</td>\n",
       "    </tr>\n",
       "    <tr>\n",
       "      <th>39803</th>\n",
       "      <td>Rice_Image_Dataset/Ipsala/Ipsala (5320).jpg</td>\n",
       "      <td>Ipsala</td>\n",
       "      <td>2</td>\n",
       "    </tr>\n",
       "  </tbody>\n",
       "</table>\n",
       "</div>"
      ],
      "text/plain": [
       "                                                     img      label  \\\n",
       "6679       Rice_Image_Dataset/Arborio/Arborio (2509).jpg    Arborio   \n",
       "22078      Rice_Image_Dataset/Basmati/basmati (2869).jpg    Basmati   \n",
       "30282       Rice_Image_Dataset/Ipsala/Ipsala (10251).jpg     Ipsala   \n",
       "69096  Rice_Image_Dataset/Karacadag/Karacadag (4685).jpg  Karacadag   \n",
       "39803        Rice_Image_Dataset/Ipsala/Ipsala (5320).jpg     Ipsala   \n",
       "\n",
       "       encode_label  \n",
       "6679              0  \n",
       "22078             1  \n",
       "30282             2  \n",
       "69096             4  \n",
       "39803             2  "
      ]
     },
     "execution_count": 11,
     "metadata": {},
     "output_type": "execute_result"
    }
   ],
   "source": [
    "df.sample(5)"
   ]
  },
  {
   "cell_type": "code",
   "execution_count": 12,
   "id": "f9e38c34-c15f-4cd0-9c3c-32d203dafb91",
   "metadata": {},
   "outputs": [],
   "source": [
    "def process_image(img):\n",
    "        img=cv2.imread(img)\n",
    "        img=cv2.resize(img,(70,70))\n",
    "        img=img/255\n",
    "        x.append(img)\n",
    "        return img"
   ]
  },
  {
   "cell_type": "code",
   "execution_count": 13,
   "id": "9c67dbae-a93a-4fbe-857a-2a9859f1f063",
   "metadata": {},
   "outputs": [],
   "source": [
    "x=[]\n",
    "for img in df[\"img\"]:\n",
    "    process_image(img)    "
   ]
  },
  {
   "cell_type": "code",
   "execution_count": 14,
   "id": "afd2f7aa-0bc7-4d52-9e04-4f4d1cb0d3ef",
   "metadata": {},
   "outputs": [],
   "source": [
    "x = np.array(x)"
   ]
  },
  {
   "cell_type": "code",
   "execution_count": 15,
   "id": "74aaddcf-c87c-490e-b2c1-fcfcbd8b4d3e",
   "metadata": {},
   "outputs": [],
   "source": [
    "y=df[\"encode_label\"]"
   ]
  },
  {
   "cell_type": "code",
   "execution_count": 16,
   "id": "c647de82-9d65-4b30-aac8-53e4023e36e4",
   "metadata": {},
   "outputs": [],
   "source": [
    "x_train,x_test,y_train,y_test=train_test_split(x,y,test_size=.20,random_state=42)"
   ]
  },
  {
   "cell_type": "code",
   "execution_count": 41,
   "id": "20e669ca-f3da-4407-8042-fcbebdb1fe1d",
   "metadata": {},
   "outputs": [],
   "source": [
    "from keras.models import Sequential"
   ]
  },
  {
   "cell_type": "code",
   "execution_count": 42,
   "id": "8e448557-5fbe-433b-908e-60111b32b42d",
   "metadata": {
    "scrolled": true
   },
   "outputs": [],
   "source": [
    "from keras.layers import Conv2D,Dense,Flatten, Input, MaxPooling2D, Dropout, BatchNormalization, Reshape"
   ]
  },
  {
   "cell_type": "code",
   "execution_count": 43,
   "id": "20c0b7ad-2b38-42ef-b6f1-39a1e8f79ae6",
   "metadata": {},
   "outputs": [],
   "source": [
    "model=Sequential()\n",
    "model.add(Input(shape=(70,70,3)))\n",
    "model.add(Conv2D(32,kernel_size=(3,3),activation='relu'))\n",
    "model.add(MaxPooling2D(pool_size=(2,2)))\n",
    "model.add(BatchNormalization())\n",
    "model.add(Dropout(0.25)) # Burada 'rate' parametresini belirtiyoruz\n",
    "model.add(Conv2D(64,kernel_size=(3,3),activation='relu'))\n",
    "model.add(BatchNormalization())\n",
    "model.add(MaxPooling2D(pool_size=(2,2)))\n",
    "model.add(Dropout(0.25))\n",
    "model.add(Flatten())\n",
    "model.add(BatchNormalization())\n",
    "model.add(Dense(128))\n",
    "model.add(Dense(5, activation='softmax')) \n",
    "model.compile(optimizer='adam',loss='sparse_categorical_crossentropy',metrics=['accuracy'])"
   ]
  },
  {
   "cell_type": "code",
   "execution_count": 44,
   "id": "949b6b12-1606-40bc-bb01-4146143d77b2",
   "metadata": {},
   "outputs": [
    {
     "name": "stdout",
     "output_type": "stream",
     "text": [
      "Epoch 1/15\n",
      "\u001b[1m1875/1875\u001b[0m \u001b[32m━━━━━━━━━━━━━━━━━━━━\u001b[0m\u001b[37m\u001b[0m \u001b[1m103s\u001b[0m 53ms/step - accuracy: 0.9086 - loss: 0.6575 - val_accuracy: 0.9869 - val_loss: 0.0905\n",
      "Epoch 2/15\n",
      "\u001b[1m1875/1875\u001b[0m \u001b[32m━━━━━━━━━━━━━━━━━━━━\u001b[0m\u001b[37m\u001b[0m \u001b[1m86s\u001b[0m 46ms/step - accuracy: 0.9699 - loss: 0.1745 - val_accuracy: 0.9875 - val_loss: 0.0615\n",
      "Epoch 3/15\n",
      "\u001b[1m1875/1875\u001b[0m \u001b[32m━━━━━━━━━━━━━━━━━━━━\u001b[0m\u001b[37m\u001b[0m \u001b[1m85s\u001b[0m 45ms/step - accuracy: 0.9749 - loss: 0.1145 - val_accuracy: 0.9869 - val_loss: 0.0437\n",
      "Epoch 4/15\n",
      "\u001b[1m1875/1875\u001b[0m \u001b[32m━━━━━━━━━━━━━━━━━━━━\u001b[0m\u001b[37m\u001b[0m \u001b[1m86s\u001b[0m 46ms/step - accuracy: 0.9777 - loss: 0.0834 - val_accuracy: 0.9859 - val_loss: 0.0569\n",
      "Epoch 5/15\n",
      "\u001b[1m1875/1875\u001b[0m \u001b[32m━━━━━━━━━━━━━━━━━━━━\u001b[0m\u001b[37m\u001b[0m \u001b[1m87s\u001b[0m 47ms/step - accuracy: 0.9806 - loss: 0.0771 - val_accuracy: 0.9715 - val_loss: 0.1093\n",
      "Epoch 6/15\n",
      "\u001b[1m1875/1875\u001b[0m \u001b[32m━━━━━━━━━━━━━━━━━━━━\u001b[0m\u001b[37m\u001b[0m \u001b[1m88s\u001b[0m 47ms/step - accuracy: 0.9796 - loss: 0.0813 - val_accuracy: 0.9609 - val_loss: 0.1405\n",
      "Epoch 7/15\n",
      "\u001b[1m1875/1875\u001b[0m \u001b[32m━━━━━━━━━━━━━━━━━━━━\u001b[0m\u001b[37m\u001b[0m \u001b[1m91s\u001b[0m 49ms/step - accuracy: 0.9825 - loss: 0.0750 - val_accuracy: 0.9867 - val_loss: 0.0855\n",
      "Epoch 8/15\n",
      "\u001b[1m1875/1875\u001b[0m \u001b[32m━━━━━━━━━━━━━━━━━━━━\u001b[0m\u001b[37m\u001b[0m \u001b[1m90s\u001b[0m 48ms/step - accuracy: 0.9839 - loss: 0.0700 - val_accuracy: 0.9843 - val_loss: 0.0861\n",
      "Epoch 9/15\n",
      "\u001b[1m1875/1875\u001b[0m \u001b[32m━━━━━━━━━━━━━━━━━━━━\u001b[0m\u001b[37m\u001b[0m \u001b[1m92s\u001b[0m 49ms/step - accuracy: 0.9841 - loss: 0.0717 - val_accuracy: 0.3557 - val_loss: 35.7785\n",
      "Epoch 10/15\n",
      "\u001b[1m1875/1875\u001b[0m \u001b[32m━━━━━━━━━━━━━━━━━━━━\u001b[0m\u001b[37m\u001b[0m \u001b[1m88s\u001b[0m 47ms/step - accuracy: 0.9841 - loss: 0.0742 - val_accuracy: 0.9846 - val_loss: 0.0895\n",
      "Epoch 11/15\n",
      "\u001b[1m1875/1875\u001b[0m \u001b[32m━━━━━━━━━━━━━━━━━━━━\u001b[0m\u001b[37m\u001b[0m \u001b[1m90s\u001b[0m 48ms/step - accuracy: 0.9859 - loss: 0.0674 - val_accuracy: 0.9864 - val_loss: 0.0805\n",
      "Epoch 12/15\n",
      "\u001b[1m1875/1875\u001b[0m \u001b[32m━━━━━━━━━━━━━━━━━━━━\u001b[0m\u001b[37m\u001b[0m \u001b[1m91s\u001b[0m 49ms/step - accuracy: 0.9868 - loss: 0.0681 - val_accuracy: 0.8755 - val_loss: 0.8047\n",
      "Epoch 13/15\n",
      "\u001b[1m1875/1875\u001b[0m \u001b[32m━━━━━━━━━━━━━━━━━━━━\u001b[0m\u001b[37m\u001b[0m \u001b[1m94s\u001b[0m 50ms/step - accuracy: 0.9865 - loss: 0.0683 - val_accuracy: 0.9496 - val_loss: 0.2715\n",
      "Epoch 14/15\n",
      "\u001b[1m1875/1875\u001b[0m \u001b[32m━━━━━━━━━━━━━━━━━━━━\u001b[0m\u001b[37m\u001b[0m \u001b[1m86s\u001b[0m 46ms/step - accuracy: 0.9884 - loss: 0.0625 - val_accuracy: 0.9406 - val_loss: 0.3591\n",
      "Epoch 15/15\n",
      "\u001b[1m1875/1875\u001b[0m \u001b[32m━━━━━━━━━━━━━━━━━━━━\u001b[0m\u001b[37m\u001b[0m \u001b[1m99s\u001b[0m 53ms/step - accuracy: 0.9872 - loss: 0.0692 - val_accuracy: 0.9857 - val_loss: 0.0971\n"
     ]
    }
   ],
   "source": [
    "history=model.fit(x_train,y_train,validation_data=(x_test,y_test),epochs=15,verbose=1)"
   ]
  },
  {
   "cell_type": "code",
   "execution_count": null,
   "id": "82077ea6-6aa0-49d0-aee5-e2c2dfbc1ff4",
   "metadata": {},
   "outputs": [],
   "source": []
  },
  {
   "cell_type": "code",
   "execution_count": 72,
   "id": "bea3a5f0-5648-4404-b17f-8dc814a3255a",
   "metadata": {},
   "outputs": [
    {
     "data": {
      "image/png": "[encoded data removed]",
      "text/plain": [
       "<Figure size 640x480 with 1 Axes>"
      ]
     },
     "metadata": {},
     "output_type": "display_data"
    }
   ],
   "source": [
    "image_path = \"Rice_Image_Dataset/Ipsala/Ipsala (8664).jpg\"  # Görüntü dosyasının yolu\n",
    "img = cv2.imread(image_path)  # Görüntüyü yükleme\n",
    "img = cv2.cvtColor(img, cv2.COLOR_BGR2RGB)  # OpenCV, görüntüyü BGR formatında yükler; RGB'ye dönüştürelim\n",
    "plt.imshow(img)# Görüntüyü gösterme\n",
    "plt.axis('off')  # Eksenleri gizleme\n",
    "plt.show()"
   ]
  },
  {
   "cell_type": "code",
   "execution_count": 54,
   "id": "6c951e92-b774-472f-9b49-d439caadd4b0",
   "metadata": {},
   "outputs": [],
   "source": [
    "def yb(img):\n",
    "    img=cv2.imread(img)\n",
    "    img=cv2.resize(img,(70,70))\n",
    "    img=img/255\n",
    "    img=np.expand_dims(img,axis=0)  # Modelin boyutunu arttırıyor\n",
    "    return img"
   ]
  },
  {
   "cell_type": "code",
   "execution_count": 69,
   "id": "cc5674de-6343-4779-907b-ccdd83039a97",
   "metadata": {},
   "outputs": [],
   "source": [
    "image=yb(\"Rice_Image_Dataset/Ipsala/Ipsala (8664).jpg\")"
   ]
  },
  {
   "cell_type": "code",
   "execution_count": 57,
   "id": "d78b634b-97b0-4461-851b-932bdd25db11",
   "metadata": {},
   "outputs": [
    {
     "name": "stdout",
     "output_type": "stream",
     "text": [
      "\u001b[1m1/1\u001b[0m \u001b[32m━━━━━━━━━━━━━━━━━━━━\u001b[0m\u001b[37m\u001b[0m \u001b[1m0s\u001b[0m 16ms/step\n"
     ]
    }
   ],
   "source": [
    "prediction=model.predict(image)\n",
    "predicted_class=np.argmax(prediction)"
   ]
  },
  {
   "cell_type": "code",
   "execution_count": 58,
   "id": "173caa65-0861-45ba-baf2-b20e2dbfddd4",
   "metadata": {},
   "outputs": [
    {
     "data": {
      "text/plain": [
       "2"
      ]
     },
     "execution_count": 58,
     "metadata": {},
     "output_type": "execute_result"
    }
   ],
   "source": [
    "predicted_class"
   ]
  },
  {
   "cell_type": "code",
   "execution_count": 71,
   "id": "5dc852f9-ecbb-40bb-9783-d1a531e3e78a",
   "metadata": {},
   "outputs": [],
   "source": [
    "# {'Arborio':0, 'Basmati':1, 'Ipsala':2, 'Jasmine':3, 'Karacadag':4}"
   ]
  },
  {
   "cell_type": "code",
   "execution_count": 18,
   "id": "197e7856-5a79-408c-b9aa-39292125eda4",
   "metadata": {},
   "outputs": [
    {
     "name": "stderr",
     "output_type": "stream",
     "text": [
      "WARNING:absl:You are saving your model as an HDF5 file via `model.save()` or `keras.saving.save_model(model)`. This file format is considered legacy. We recommend using instead the native Keras format, e.g. `model.save('my_model.keras')` or `keras.saving.save_model(model, 'my_model.keras')`. \n"
     ]
    }
   ],
   "source": [
    "model.save(\"rice.h5\")"
   ]
  },
  {
   "cell_type": "markdown",
   "id": "20dc99ae-3f61-48ea-b8d9-00fcf3a76209",
   "metadata": {},
   "source": [
    "### VGG16 ile"
   ]
  },
  {
   "cell_type": "code",
   "execution_count": 1,
   "id": "439b607f-1e14-419f-8ee4-96378452aaaf",
   "metadata": {},
   "outputs": [],
   "source": [
    "from keras.models import Sequential\n",
    "from keras.layers import Conv2D,Dense,Flatten, Input, MaxPooling2D, Dropout, BatchNormalization, Reshape\n",
    "from tensorflow.keras.applications import VGG16, ResNet50\n",
    "from tensorflow.keras.preprocessing.image import ImageDataGenerator # Tek satırda resimlerin tamamını okumaya yarıyor"
   ]
  },
  {
   "cell_type": "code",
   "execution_count": 2,
   "id": "f20ec95f-814a-48d7-addd-c96b8cda07ac",
   "metadata": {},
   "outputs": [
    {
     "name": "stdout",
     "output_type": "stream",
     "text": [
      "Found 60000 images belonging to 5 classes.\n",
      "Found 15000 images belonging to 5 classes.\n",
      "Epoch 1/10\n"
     ]
    },
    {
     "name": "stderr",
     "output_type": "stream",
     "text": [
      "C:\\Users\\erkan\\anaconda3\\Lib\\site-packages\\keras\\src\\trainers\\data_adapters\\py_dataset_adapter.py:121: UserWarning: Your `PyDataset` class should call `super().__init__(**kwargs)` in its constructor. `**kwargs` can include `workers`, `use_multiprocessing`, `max_queue_size`. Do not pass these arguments to `fit()`, as they will be ignored.\n",
      "  self._warn_if_super_not_called()\n"
     ]
    },
    {
     "name": "stdout",
     "output_type": "stream",
     "text": [
      "\u001b[1m1875/1875\u001b[0m \u001b[32m━━━━━━━━━━━━━━━━━━━━\u001b[0m\u001b[37m\u001b[0m \u001b[1m567s\u001b[0m 301ms/step - accuracy: 0.9462 - loss: 0.1485 - val_accuracy: 0.9868 - val_loss: 0.0408\n",
      "Epoch 2/10\n",
      "\u001b[1m1875/1875\u001b[0m \u001b[32m━━━━━━━━━━━━━━━━━━━━\u001b[0m\u001b[37m\u001b[0m \u001b[1m308s\u001b[0m 164ms/step - accuracy: 0.9848 - loss: 0.0430 - val_accuracy: 0.9899 - val_loss: 0.0316\n",
      "Epoch 3/10\n",
      "\u001b[1m1875/1875\u001b[0m \u001b[32m━━━━━━━━━━━━━━━━━━━━\u001b[0m\u001b[37m\u001b[0m \u001b[1m498s\u001b[0m 266ms/step - accuracy: 0.9882 - loss: 0.0355 - val_accuracy: 0.9777 - val_loss: 0.0640\n",
      "Epoch 4/10\n",
      "\u001b[1m1875/1875\u001b[0m \u001b[32m━━━━━━━━━━━━━━━━━━━━\u001b[0m\u001b[37m\u001b[0m \u001b[1m281s\u001b[0m 150ms/step - accuracy: 0.9892 - loss: 0.0335 - val_accuracy: 0.9923 - val_loss: 0.0246\n",
      "Epoch 5/10\n",
      "\u001b[1m1875/1875\u001b[0m \u001b[32m━━━━━━━━━━━━━━━━━━━━\u001b[0m\u001b[37m\u001b[0m \u001b[1m278s\u001b[0m 148ms/step - accuracy: 0.9902 - loss: 0.0293 - val_accuracy: 0.9930 - val_loss: 0.0217\n",
      "Epoch 6/10\n",
      "\u001b[1m1875/1875\u001b[0m \u001b[32m━━━━━━━━━━━━━━━━━━━━\u001b[0m\u001b[37m\u001b[0m \u001b[1m276s\u001b[0m 147ms/step - accuracy: 0.9914 - loss: 0.0252 - val_accuracy: 0.9891 - val_loss: 0.0315\n",
      "Epoch 7/10\n",
      "\u001b[1m1875/1875\u001b[0m \u001b[32m━━━━━━━━━━━━━━━━━━━━\u001b[0m\u001b[37m\u001b[0m \u001b[1m274s\u001b[0m 146ms/step - accuracy: 0.9913 - loss: 0.0257 - val_accuracy: 0.9916 - val_loss: 0.0238\n",
      "Epoch 8/10\n",
      "\u001b[1m1875/1875\u001b[0m \u001b[32m━━━━━━━━━━━━━━━━━━━━\u001b[0m\u001b[37m\u001b[0m \u001b[1m276s\u001b[0m 147ms/step - accuracy: 0.9919 - loss: 0.0238 - val_accuracy: 0.9939 - val_loss: 0.0187\n",
      "Epoch 9/10\n",
      "\u001b[1m1875/1875\u001b[0m \u001b[32m━━━━━━━━━━━━━━━━━━━━\u001b[0m\u001b[37m\u001b[0m \u001b[1m294s\u001b[0m 157ms/step - accuracy: 0.9928 - loss: 0.0213 - val_accuracy: 0.9920 - val_loss: 0.0253\n",
      "Epoch 10/10\n",
      "\u001b[1m1875/1875\u001b[0m \u001b[32m━━━━━━━━━━━━━━━━━━━━\u001b[0m\u001b[37m\u001b[0m \u001b[1m290s\u001b[0m 154ms/step - accuracy: 0.9927 - loss: 0.0236 - val_accuracy: 0.9937 - val_loss: 0.0205\n"
     ]
    },
    {
     "data": {
      "text/plain": [
       "<keras.src.callbacks.history.History at 0x148e1acdf70>"
      ]
     },
     "execution_count": 2,
     "metadata": {},
     "output_type": "execute_result"
    }
   ],
   "source": [
    "data_dir=\"Rice_Image_Dataset\"\n",
    "img_width,img_height=70,70\n",
    "\n",
    "train_datagen=ImageDataGenerator(rescale=1/255, validation_split=0.20)\n",
    "\n",
    "train_datagenerator=train_datagen.flow_from_directory(directory=data_dir,target_size=(img_width,img_height),\n",
    "                                class_mode=\"sparse\", subset=\"training\")\n",
    "\n",
    "test_datagen=ImageDataGenerator( rescale=1/255)\n",
    "test_datagenerator=train_datagen.flow_from_directory(directory=data_dir,target_size=(img_width,img_height),\n",
    "                                class_mode=\"sparse\", subset=\"validation\")\n",
    "\n",
    "base_model=VGG16(weights=\"imagenet\", input_shape=(img_width,img_height,3),include_top=False)\n",
    "model=Sequential()\n",
    "\n",
    "model.add(base_model)\n",
    "for layer in base_model.layers:\n",
    "    layer.trainable=False\n",
    "\n",
    "model.add(Flatten())\n",
    "model.add(Dense(1024,activation=\"relu\")) # Dense nöronları birbirine bağlar\n",
    "model.add(Dense(5,activation=\"softmax\"))\n",
    "\n",
    "model.compile(optimizer='adam',loss='sparse_categorical_crossentropy',metrics=['accuracy'])\n",
    "\n",
    "model.fit(train_datagenerator,epochs=10,validation_data=test_datagenerator)"
   ]
  },
  {
   "cell_type": "code",
   "execution_count": 3,
   "id": "a3fcb3d9-9da4-49d2-ac0d-d374fccfc0e8",
   "metadata": {},
   "outputs": [
    {
     "name": "stderr",
     "output_type": "stream",
     "text": [
      "WARNING:absl:You are saving your model as an HDF5 file via `model.save()` or `keras.saving.save_model(model)`. This file format is considered legacy. We recommend using instead the native Keras format, e.g. `model.save('my_model.keras')` or `keras.saving.save_model(model, 'my_model.keras')`. \n"
     ]
    }
   ],
   "source": [
    "model.save(\"rice_2.h5\")"
   ]
  },
  {
   "cell_type": "markdown",
   "id": "bf5c1ecd-b161-4c2c-8880-183666ca34be",
   "metadata": {},
   "source": [
    "İlk modelimizde 98% İkinci modelimizde 99% accuracy elde ettik."
   ]
  },
  {
   "cell_type": "code",
   "execution_count": null,
   "id": "749e8525-0787-45d5-87ac-99d900a3ae30",
   "metadata": {},
   "outputs": [],
   "source": []
  }
 ],
 "metadata": {
  "kernelspec": {
   "display_name": "Python 3 (ipykernel)",
   "language": "python",
   "name": "python3"
  },
  "language_info": {
   "codemirror_mode": {
    "name": "ipython",
    "version": 3
   },
   "file_extension": ".py",
   "mimetype": "text/x-python",
   "name": "python",
   "nbconvert_exporter": "python",
   "pygments_lexer": "ipython3",
   "version": "3.12.3"
  }
 },
 "nbformat": 4,
 "nbformat_minor": 5
}
