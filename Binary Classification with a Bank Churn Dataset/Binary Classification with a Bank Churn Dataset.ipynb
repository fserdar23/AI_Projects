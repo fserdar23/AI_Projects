{
 "cells": [
  {
   "cell_type": "markdown",
   "id": "2b201923-dabd-44db-837b-458f092a153c",
   "metadata": {},
   "source": [
    "# Binary Classification with a Bank Churn Dataset"
   ]
  },
  {
   "cell_type": "markdown",
   "id": "0c32c1f8-5f54-4fb4-85c9-38cae5729375",
   "metadata": {},
   "source": [
    "Hedefimiz, bir müşterinin hesabına devam edip etmeyeceğini veya hesabını kapatıp kapatmayacağını (örneğin, churns) tahmin etmektir"
   ]
  },
  {
   "cell_type": "markdown",
   "id": "01c45010-8444-432d-bd26-029cd6a474d0",
   "metadata": {},
   "source": [
    "<img src=\"https://img.paratic.com/dosya/2016/09/turkiyede-en-fazla-subeye-sahip-olan-10-banka.jpg\">"
   ]
  },
  {
   "cell_type": "markdown",
   "id": "4a582798-ec09-4ac8-8068-6ea88d301580",
   "metadata": {},
   "source": [
    "<a href=\"https://www.kaggle.com/competitions/playground-series-s4e1/data\">Dataya Buradan Erişebilirsiniz</a>"
   ]
  },
  {
   "cell_type": "code",
   "execution_count": 1,
   "id": "231fa4ae-2cf6-42f4-a510-94faf1b81402",
   "metadata": {},
   "outputs": [],
   "source": [
    "import pandas as pd\n",
    "import matplotlib.pyplot as plt\n",
    "import seaborn as sns\n",
    "\n",
    "pd.set_option(\"display.max_columns\",100)\n",
    "\n",
    "import warnings\n",
    "warnings.filterwarnings(\"ignore\")"
   ]
  },
  {
   "cell_type": "code",
   "execution_count": 2,
   "id": "d284d745-5d9e-46c7-b5df-e51046c611b0",
   "metadata": {},
   "outputs": [],
   "source": [
    "df=pd.read_csv(\"train.csv\")"
   ]
  },
  {
   "cell_type": "code",
   "execution_count": 3,
   "id": "cd382d4e-9c46-432e-acd5-84f86043f89b",
   "metadata": {},
   "outputs": [
    {
     "data": {
      "text/html": [
       "<div>\n",
       "<style scoped>\n",
       "    .dataframe tbody tr th:only-of-type {\n",
       "        vertical-align: middle;\n",
       "    }\n",
       "\n",
       "    .dataframe tbody tr th {\n",
       "        vertical-align: top;\n",
       "    }\n",
       "\n",
       "    .dataframe thead th {\n",
       "        text-align: right;\n",
       "    }\n",
       "</style>\n",
       "<table border=\"1\" class=\"dataframe\">\n",
       "  <thead>\n",
       "    <tr style=\"text-align: right;\">\n",
       "      <th></th>\n",
       "      <th>id</th>\n",
       "      <th>CustomerId</th>\n",
       "      <th>Surname</th>\n",
       "      <th>CreditScore</th>\n",
       "      <th>Geography</th>\n",
       "      <th>Gender</th>\n",
       "      <th>Age</th>\n",
       "      <th>Tenure</th>\n",
       "      <th>Balance</th>\n",
       "      <th>NumOfProducts</th>\n",
       "      <th>HasCrCard</th>\n",
       "      <th>IsActiveMember</th>\n",
       "      <th>EstimatedSalary</th>\n",
       "      <th>Exited</th>\n",
       "    </tr>\n",
       "  </thead>\n",
       "  <tbody>\n",
       "    <tr>\n",
       "      <th>0</th>\n",
       "      <td>0</td>\n",
       "      <td>15674932</td>\n",
       "      <td>Okwudilichukwu</td>\n",
       "      <td>668</td>\n",
       "      <td>France</td>\n",
       "      <td>Male</td>\n",
       "      <td>33.0</td>\n",
       "      <td>3</td>\n",
       "      <td>0.00</td>\n",
       "      <td>2</td>\n",
       "      <td>1.0</td>\n",
       "      <td>0.0</td>\n",
       "      <td>181449.97</td>\n",
       "      <td>0</td>\n",
       "    </tr>\n",
       "    <tr>\n",
       "      <th>1</th>\n",
       "      <td>1</td>\n",
       "      <td>15749177</td>\n",
       "      <td>Okwudiliolisa</td>\n",
       "      <td>627</td>\n",
       "      <td>France</td>\n",
       "      <td>Male</td>\n",
       "      <td>33.0</td>\n",
       "      <td>1</td>\n",
       "      <td>0.00</td>\n",
       "      <td>2</td>\n",
       "      <td>1.0</td>\n",
       "      <td>1.0</td>\n",
       "      <td>49503.50</td>\n",
       "      <td>0</td>\n",
       "    </tr>\n",
       "    <tr>\n",
       "      <th>2</th>\n",
       "      <td>2</td>\n",
       "      <td>15694510</td>\n",
       "      <td>Hsueh</td>\n",
       "      <td>678</td>\n",
       "      <td>France</td>\n",
       "      <td>Male</td>\n",
       "      <td>40.0</td>\n",
       "      <td>10</td>\n",
       "      <td>0.00</td>\n",
       "      <td>2</td>\n",
       "      <td>1.0</td>\n",
       "      <td>0.0</td>\n",
       "      <td>184866.69</td>\n",
       "      <td>0</td>\n",
       "    </tr>\n",
       "    <tr>\n",
       "      <th>3</th>\n",
       "      <td>3</td>\n",
       "      <td>15741417</td>\n",
       "      <td>Kao</td>\n",
       "      <td>581</td>\n",
       "      <td>France</td>\n",
       "      <td>Male</td>\n",
       "      <td>34.0</td>\n",
       "      <td>2</td>\n",
       "      <td>148882.54</td>\n",
       "      <td>1</td>\n",
       "      <td>1.0</td>\n",
       "      <td>1.0</td>\n",
       "      <td>84560.88</td>\n",
       "      <td>0</td>\n",
       "    </tr>\n",
       "    <tr>\n",
       "      <th>4</th>\n",
       "      <td>4</td>\n",
       "      <td>15766172</td>\n",
       "      <td>Chiemenam</td>\n",
       "      <td>716</td>\n",
       "      <td>Spain</td>\n",
       "      <td>Male</td>\n",
       "      <td>33.0</td>\n",
       "      <td>5</td>\n",
       "      <td>0.00</td>\n",
       "      <td>2</td>\n",
       "      <td>1.0</td>\n",
       "      <td>1.0</td>\n",
       "      <td>15068.83</td>\n",
       "      <td>0</td>\n",
       "    </tr>\n",
       "  </tbody>\n",
       "</table>\n",
       "</div>"
      ],
      "text/plain": [
       "   id  CustomerId         Surname  CreditScore Geography Gender   Age  Tenure  \\\n",
       "0   0    15674932  Okwudilichukwu          668    France   Male  33.0       3   \n",
       "1   1    15749177   Okwudiliolisa          627    France   Male  33.0       1   \n",
       "2   2    15694510           Hsueh          678    France   Male  40.0      10   \n",
       "3   3    15741417             Kao          581    France   Male  34.0       2   \n",
       "4   4    15766172       Chiemenam          716     Spain   Male  33.0       5   \n",
       "\n",
       "     Balance  NumOfProducts  HasCrCard  IsActiveMember  EstimatedSalary  \\\n",
       "0       0.00              2        1.0             0.0        181449.97   \n",
       "1       0.00              2        1.0             1.0         49503.50   \n",
       "2       0.00              2        1.0             0.0        184866.69   \n",
       "3  148882.54              1        1.0             1.0         84560.88   \n",
       "4       0.00              2        1.0             1.0         15068.83   \n",
       "\n",
       "   Exited  \n",
       "0       0  \n",
       "1       0  \n",
       "2       0  \n",
       "3       0  \n",
       "4       0  "
      ]
     },
     "execution_count": 3,
     "metadata": {},
     "output_type": "execute_result"
    }
   ],
   "source": [
    "df.head()"
   ]
  },
  {
   "cell_type": "code",
   "execution_count": 4,
   "id": "fdef2c79-7555-430c-aa19-768cc97f2248",
   "metadata": {},
   "outputs": [
    {
     "data": {
      "text/plain": [
       "(165034, 14)"
      ]
     },
     "execution_count": 4,
     "metadata": {},
     "output_type": "execute_result"
    }
   ],
   "source": [
    "df.shape"
   ]
  },
  {
   "cell_type": "code",
   "execution_count": 5,
   "id": "6b5c58fb-f293-4608-9df2-9686db2e5b2c",
   "metadata": {},
   "outputs": [
    {
     "name": "stdout",
     "output_type": "stream",
     "text": [
      "<class 'pandas.core.frame.DataFrame'>\n",
      "RangeIndex: 165034 entries, 0 to 165033\n",
      "Data columns (total 14 columns):\n",
      " #   Column           Non-Null Count   Dtype  \n",
      "---  ------           --------------   -----  \n",
      " 0   id               165034 non-null  int64  \n",
      " 1   CustomerId       165034 non-null  int64  \n",
      " 2   Surname          165034 non-null  object \n",
      " 3   CreditScore      165034 non-null  int64  \n",
      " 4   Geography        165034 non-null  object \n",
      " 5   Gender           165034 non-null  object \n",
      " 6   Age              165034 non-null  float64\n",
      " 7   Tenure           165034 non-null  int64  \n",
      " 8   Balance          165034 non-null  float64\n",
      " 9   NumOfProducts    165034 non-null  int64  \n",
      " 10  HasCrCard        165034 non-null  float64\n",
      " 11  IsActiveMember   165034 non-null  float64\n",
      " 12  EstimatedSalary  165034 non-null  float64\n",
      " 13  Exited           165034 non-null  int64  \n",
      "dtypes: float64(5), int64(6), object(3)\n",
      "memory usage: 17.6+ MB\n"
     ]
    }
   ],
   "source": [
    "df.info()"
   ]
  },
  {
   "cell_type": "code",
   "execution_count": 6,
   "id": "8e772c99-01c4-49c7-8723-c8c8eebaa735",
   "metadata": {},
   "outputs": [
    {
     "data": {
      "text/plain": [
       "id                 0\n",
       "CustomerId         0\n",
       "Surname            0\n",
       "CreditScore        0\n",
       "Geography          0\n",
       "Gender             0\n",
       "Age                0\n",
       "Tenure             0\n",
       "Balance            0\n",
       "NumOfProducts      0\n",
       "HasCrCard          0\n",
       "IsActiveMember     0\n",
       "EstimatedSalary    0\n",
       "Exited             0\n",
       "dtype: int64"
      ]
     },
     "execution_count": 6,
     "metadata": {},
     "output_type": "execute_result"
    }
   ],
   "source": [
    "df.isnull().sum()"
   ]
  },
  {
   "cell_type": "code",
   "execution_count": 7,
   "id": "0fb59379-c158-4ad6-95ab-26ccaf51f82c",
   "metadata": {},
   "outputs": [
    {
     "data": {
      "image/png": "[encoded data removed]",
      "text/plain": [
       "<Figure size 1000x700 with 2 Axes>"
      ]
     },
     "metadata": {},
     "output_type": "display_data"
    }
   ],
   "source": [
    "plt.figure(figsize=(10,7))\n",
    "sns.heatmap(df.corr(numeric_only=True),annot=True, cmap=\"crest\");"
   ]
  },
  {
   "cell_type": "code",
   "execution_count": 8,
   "id": "8a14044b-ad0f-441c-b2d0-1a5a32d498d2",
   "metadata": {},
   "outputs": [
    {
     "data": {
      "text/html": [
       "<div>\n",
       "<style scoped>\n",
       "    .dataframe tbody tr th:only-of-type {\n",
       "        vertical-align: middle;\n",
       "    }\n",
       "\n",
       "    .dataframe tbody tr th {\n",
       "        vertical-align: top;\n",
       "    }\n",
       "\n",
       "    .dataframe thead th {\n",
       "        text-align: right;\n",
       "    }\n",
       "</style>\n",
       "<table border=\"1\" class=\"dataframe\">\n",
       "  <thead>\n",
       "    <tr style=\"text-align: right;\">\n",
       "      <th></th>\n",
       "      <th>id</th>\n",
       "      <th>CustomerId</th>\n",
       "      <th>CreditScore</th>\n",
       "      <th>Age</th>\n",
       "      <th>Tenure</th>\n",
       "      <th>Balance</th>\n",
       "      <th>NumOfProducts</th>\n",
       "      <th>HasCrCard</th>\n",
       "      <th>IsActiveMember</th>\n",
       "      <th>EstimatedSalary</th>\n",
       "      <th>Exited</th>\n",
       "    </tr>\n",
       "  </thead>\n",
       "  <tbody>\n",
       "    <tr>\n",
       "      <th>count</th>\n",
       "      <td>165034.0000</td>\n",
       "      <td>1.650340e+05</td>\n",
       "      <td>165034.000000</td>\n",
       "      <td>165034.000000</td>\n",
       "      <td>165034.000000</td>\n",
       "      <td>165034.000000</td>\n",
       "      <td>165034.000000</td>\n",
       "      <td>165034.000000</td>\n",
       "      <td>165034.000000</td>\n",
       "      <td>165034.000000</td>\n",
       "      <td>165034.000000</td>\n",
       "    </tr>\n",
       "    <tr>\n",
       "      <th>mean</th>\n",
       "      <td>82516.5000</td>\n",
       "      <td>1.569201e+07</td>\n",
       "      <td>656.454373</td>\n",
       "      <td>38.125888</td>\n",
       "      <td>5.020353</td>\n",
       "      <td>55478.086689</td>\n",
       "      <td>1.554455</td>\n",
       "      <td>0.753954</td>\n",
       "      <td>0.497770</td>\n",
       "      <td>112574.822734</td>\n",
       "      <td>0.211599</td>\n",
       "    </tr>\n",
       "    <tr>\n",
       "      <th>std</th>\n",
       "      <td>47641.3565</td>\n",
       "      <td>7.139782e+04</td>\n",
       "      <td>80.103340</td>\n",
       "      <td>8.867205</td>\n",
       "      <td>2.806159</td>\n",
       "      <td>62817.663278</td>\n",
       "      <td>0.547154</td>\n",
       "      <td>0.430707</td>\n",
       "      <td>0.499997</td>\n",
       "      <td>50292.865585</td>\n",
       "      <td>0.408443</td>\n",
       "    </tr>\n",
       "    <tr>\n",
       "      <th>min</th>\n",
       "      <td>0.0000</td>\n",
       "      <td>1.556570e+07</td>\n",
       "      <td>350.000000</td>\n",
       "      <td>18.000000</td>\n",
       "      <td>0.000000</td>\n",
       "      <td>0.000000</td>\n",
       "      <td>1.000000</td>\n",
       "      <td>0.000000</td>\n",
       "      <td>0.000000</td>\n",
       "      <td>11.580000</td>\n",
       "      <td>0.000000</td>\n",
       "    </tr>\n",
       "    <tr>\n",
       "      <th>25%</th>\n",
       "      <td>41258.2500</td>\n",
       "      <td>1.563314e+07</td>\n",
       "      <td>597.000000</td>\n",
       "      <td>32.000000</td>\n",
       "      <td>3.000000</td>\n",
       "      <td>0.000000</td>\n",
       "      <td>1.000000</td>\n",
       "      <td>1.000000</td>\n",
       "      <td>0.000000</td>\n",
       "      <td>74637.570000</td>\n",
       "      <td>0.000000</td>\n",
       "    </tr>\n",
       "    <tr>\n",
       "      <th>50%</th>\n",
       "      <td>82516.5000</td>\n",
       "      <td>1.569017e+07</td>\n",
       "      <td>659.000000</td>\n",
       "      <td>37.000000</td>\n",
       "      <td>5.000000</td>\n",
       "      <td>0.000000</td>\n",
       "      <td>2.000000</td>\n",
       "      <td>1.000000</td>\n",
       "      <td>0.000000</td>\n",
       "      <td>117948.000000</td>\n",
       "      <td>0.000000</td>\n",
       "    </tr>\n",
       "    <tr>\n",
       "      <th>75%</th>\n",
       "      <td>123774.7500</td>\n",
       "      <td>1.575682e+07</td>\n",
       "      <td>710.000000</td>\n",
       "      <td>42.000000</td>\n",
       "      <td>7.000000</td>\n",
       "      <td>119939.517500</td>\n",
       "      <td>2.000000</td>\n",
       "      <td>1.000000</td>\n",
       "      <td>1.000000</td>\n",
       "      <td>155152.467500</td>\n",
       "      <td>0.000000</td>\n",
       "    </tr>\n",
       "    <tr>\n",
       "      <th>max</th>\n",
       "      <td>165033.0000</td>\n",
       "      <td>1.581569e+07</td>\n",
       "      <td>850.000000</td>\n",
       "      <td>92.000000</td>\n",
       "      <td>10.000000</td>\n",
       "      <td>250898.090000</td>\n",
       "      <td>4.000000</td>\n",
       "      <td>1.000000</td>\n",
       "      <td>1.000000</td>\n",
       "      <td>199992.480000</td>\n",
       "      <td>1.000000</td>\n",
       "    </tr>\n",
       "  </tbody>\n",
       "</table>\n",
       "</div>"
      ],
      "text/plain": [
       "                id    CustomerId    CreditScore            Age         Tenure  \\\n",
       "count  165034.0000  1.650340e+05  165034.000000  165034.000000  165034.000000   \n",
       "mean    82516.5000  1.569201e+07     656.454373      38.125888       5.020353   \n",
       "std     47641.3565  7.139782e+04      80.103340       8.867205       2.806159   \n",
       "min         0.0000  1.556570e+07     350.000000      18.000000       0.000000   \n",
       "25%     41258.2500  1.563314e+07     597.000000      32.000000       3.000000   \n",
       "50%     82516.5000  1.569017e+07     659.000000      37.000000       5.000000   \n",
       "75%    123774.7500  1.575682e+07     710.000000      42.000000       7.000000   \n",
       "max    165033.0000  1.581569e+07     850.000000      92.000000      10.000000   \n",
       "\n",
       "             Balance  NumOfProducts      HasCrCard  IsActiveMember  \\\n",
       "count  165034.000000  165034.000000  165034.000000   165034.000000   \n",
       "mean    55478.086689       1.554455       0.753954        0.497770   \n",
       "std     62817.663278       0.547154       0.430707        0.499997   \n",
       "min         0.000000       1.000000       0.000000        0.000000   \n",
       "25%         0.000000       1.000000       1.000000        0.000000   \n",
       "50%         0.000000       2.000000       1.000000        0.000000   \n",
       "75%    119939.517500       2.000000       1.000000        1.000000   \n",
       "max    250898.090000       4.000000       1.000000        1.000000   \n",
       "\n",
       "       EstimatedSalary         Exited  \n",
       "count    165034.000000  165034.000000  \n",
       "mean     112574.822734       0.211599  \n",
       "std       50292.865585       0.408443  \n",
       "min          11.580000       0.000000  \n",
       "25%       74637.570000       0.000000  \n",
       "50%      117948.000000       0.000000  \n",
       "75%      155152.467500       0.000000  \n",
       "max      199992.480000       1.000000  "
      ]
     },
     "execution_count": 8,
     "metadata": {},
     "output_type": "execute_result"
    }
   ],
   "source": [
    "df.describe()"
   ]
  },
  {
   "cell_type": "code",
   "execution_count": 9,
   "id": "9d33876d-5734-4171-9320-20ce3ebe901b",
   "metadata": {},
   "outputs": [
    {
     "data": {
      "text/plain": [
       "<Axes: xlabel='Exited', ylabel='count'>"
      ]
     },
     "execution_count": 9,
     "metadata": {},
     "output_type": "execute_result"
    },
    {
     "data": {
      "image/png": "[encoded data removed]",
      "text/plain": [
       "<Figure size 640x480 with 1 Axes>"
      ]
     },
     "metadata": {},
     "output_type": "display_data"
    }
   ],
   "source": [
    "sns.countplot(x=df[\"Exited\"])"
   ]
  },
  {
   "cell_type": "code",
   "execution_count": 10,
   "id": "c70c97b7-ec9f-4461-b258-99149dd600d9",
   "metadata": {},
   "outputs": [
    {
     "data": {
      "text/plain": [
       "Geography\n",
       "France     94215\n",
       "Spain      36213\n",
       "Germany    34606\n",
       "Name: count, dtype: int64"
      ]
     },
     "execution_count": 10,
     "metadata": {},
     "output_type": "execute_result"
    }
   ],
   "source": [
    "df[\"Geography\"].value_counts()"
   ]
  },
  {
   "cell_type": "code",
   "execution_count": 11,
   "id": "f9a59565-8e06-49c9-af94-37e9141ef7e2",
   "metadata": {},
   "outputs": [],
   "source": [
    "d={\"Male\":1,\"Female\":0}"
   ]
  },
  {
   "cell_type": "code",
   "execution_count": 12,
   "id": "6de8c737-c6ba-46cc-8ef5-b686015578c5",
   "metadata": {},
   "outputs": [],
   "source": [
    "df[\"Gender\"]=df[\"Gender\"].map(d)"
   ]
  },
  {
   "cell_type": "code",
   "execution_count": 13,
   "id": "faf9b4c6-59cf-48cc-a020-de249bd86b1f",
   "metadata": {},
   "outputs": [],
   "source": [
    "d={\"France\":0,\"Spain\":1,\"Germany\":2}"
   ]
  },
  {
   "cell_type": "code",
   "execution_count": 14,
   "id": "31139377-a96a-4485-801d-8013ad8b6d21",
   "metadata": {},
   "outputs": [],
   "source": [
    "df[\"Geography\"]=df[\"Geography\"].map(d)"
   ]
  },
  {
   "cell_type": "markdown",
   "id": "fec43e09-9b72-4ca0-8357-4ee91421d53a",
   "metadata": {},
   "source": [
    "### Modelling"
   ]
  },
  {
   "cell_type": "code",
   "execution_count": 15,
   "id": "5c918c55-a627-4b46-97f4-b0dca7c3af74",
   "metadata": {},
   "outputs": [],
   "source": [
    "x=df.drop([\"id\",\"CustomerId\",\"Surname\",\"Exited\"],axis=1)\n",
    "y=df[\"Exited\"]"
   ]
  },
  {
   "cell_type": "code",
   "execution_count": 16,
   "id": "7008c623-9ab9-4c8a-8295-081dedef6362",
   "metadata": {},
   "outputs": [],
   "source": [
    "import pandas as pd\n",
    "import numpy as np\n",
    "from sklearn.linear_model import LogisticRegression\n",
    "from sklearn.svm import SVC\n",
    "from sklearn.neighbors import KNeighborsClassifier\n",
    "from sklearn.tree import DecisionTreeClassifier\n",
    "from sklearn.ensemble import RandomForestClassifier, GradientBoostingClassifier\n",
    "from xgboost import XGBClassifier\n",
    "from sklearn.neural_network import MLPClassifier\n",
    "from sklearn.model_selection import train_test_split\n",
    "from sklearn.metrics import accuracy_score, precision_score, recall_score, f1_score\n",
    "\n",
    "def algo_test_classification(X, y):\n",
    "    # Bütün sınıflandırma modellerini tanımlıyorum\n",
    "    lr = LogisticRegression()\n",
    "    svc = SVC()\n",
    "    knn = KNeighborsClassifier()\n",
    "    dt = DecisionTreeClassifier()\n",
    "    rf = RandomForestClassifier()\n",
    "    gb = GradientBoostingClassifier()\n",
    "    xgb = XGBClassifier()\n",
    "    mlp = MLPClassifier()\n",
    "\n",
    "    algos = [lr, svc, knn, dt, rf, gb, xgb, mlp]\n",
    "    algo_names = ['Logistic Regression', 'SVC', 'KNN', 'Decision Tree', 'Random Forest', 'Gradient Boosting', 'XGBoost', 'MLP']\n",
    "\n",
    "    X_train, X_test, y_train, y_test = train_test_split(X, y, test_size=0.2, random_state=42)\n",
    "\n",
    "    accuracy = []\n",
    "    precision = []\n",
    "    recall = []\n",
    "    f1 = []\n",
    "\n",
    "    # Sonuç tablosunu oluşturuyorum\n",
    "    result = pd.DataFrame(columns=['Accuracy', 'Precision', 'Recall', 'F1'], index=algo_names)\n",
    "\n",
    "    for algo in algos:\n",
    "        algo.fit(X_train, y_train)\n",
    "        y_pred = algo.predict(X_test)\n",
    "        accuracy.append(accuracy_score(y_test, y_pred))\n",
    "        precision.append(precision_score(y_test, y_pred))\n",
    "        recall.append(recall_score(y_test, y_pred))\n",
    "        f1.append(f1_score(y_test, y_pred))\n",
    "\n",
    "    # Sonuçları result tablosuna ekliyorum\n",
    "    result['Accuracy'] = accuracy\n",
    "    result['Precision'] = precision\n",
    "    result['Recall'] = recall\n",
    "    result['F1'] = f1\n",
    "\n",
    "    # Sonuçları doğruluk oranına göre sıralayıp döndürüyorum\n",
    "    return result.sort_values('Accuracy', ascending=False)"
   ]
  },
  {
   "cell_type": "code",
   "execution_count": 17,
   "id": "f10a47fa-54e6-4a69-94c2-ef7708354eeb",
   "metadata": {},
   "outputs": [
    {
     "data": {
      "text/html": [
       "<div>\n",
       "<style scoped>\n",
       "    .dataframe tbody tr th:only-of-type {\n",
       "        vertical-align: middle;\n",
       "    }\n",
       "\n",
       "    .dataframe tbody tr th {\n",
       "        vertical-align: top;\n",
       "    }\n",
       "\n",
       "    .dataframe thead th {\n",
       "        text-align: right;\n",
       "    }\n",
       "</style>\n",
       "<table border=\"1\" class=\"dataframe\">\n",
       "  <thead>\n",
       "    <tr style=\"text-align: right;\">\n",
       "      <th></th>\n",
       "      <th>Accuracy</th>\n",
       "      <th>Precision</th>\n",
       "      <th>Recall</th>\n",
       "      <th>F1</th>\n",
       "    </tr>\n",
       "  </thead>\n",
       "  <tbody>\n",
       "    <tr>\n",
       "      <th>Gradient Boosting</th>\n",
       "      <td>0.866362</td>\n",
       "      <td>0.751185</td>\n",
       "      <td>0.546945</td>\n",
       "      <td>0.632998</td>\n",
       "    </tr>\n",
       "    <tr>\n",
       "      <th>XGBoost</th>\n",
       "      <td>0.865877</td>\n",
       "      <td>0.737148</td>\n",
       "      <td>0.564917</td>\n",
       "      <td>0.639642</td>\n",
       "    </tr>\n",
       "    <tr>\n",
       "      <th>Random Forest</th>\n",
       "      <td>0.859636</td>\n",
       "      <td>0.719970</td>\n",
       "      <td>0.546370</td>\n",
       "      <td>0.621270</td>\n",
       "    </tr>\n",
       "    <tr>\n",
       "      <th>MLP</th>\n",
       "      <td>0.806374</td>\n",
       "      <td>0.661883</td>\n",
       "      <td>0.165780</td>\n",
       "      <td>0.265149</td>\n",
       "    </tr>\n",
       "    <tr>\n",
       "      <th>Decision Tree</th>\n",
       "      <td>0.796710</td>\n",
       "      <td>0.516950</td>\n",
       "      <td>0.537168</td>\n",
       "      <td>0.526865</td>\n",
       "    </tr>\n",
       "    <tr>\n",
       "      <th>Logistic Regression</th>\n",
       "      <td>0.793195</td>\n",
       "      <td>0.530410</td>\n",
       "      <td>0.161754</td>\n",
       "      <td>0.247907</td>\n",
       "    </tr>\n",
       "    <tr>\n",
       "      <th>SVC</th>\n",
       "      <td>0.789287</td>\n",
       "      <td>0.000000</td>\n",
       "      <td>0.000000</td>\n",
       "      <td>0.000000</td>\n",
       "    </tr>\n",
       "    <tr>\n",
       "      <th>KNN</th>\n",
       "      <td>0.759203</td>\n",
       "      <td>0.308227</td>\n",
       "      <td>0.114738</td>\n",
       "      <td>0.167225</td>\n",
       "    </tr>\n",
       "  </tbody>\n",
       "</table>\n",
       "</div>"
      ],
      "text/plain": [
       "                     Accuracy  Precision    Recall        F1\n",
       "Gradient Boosting    0.866362   0.751185  0.546945  0.632998\n",
       "XGBoost              0.865877   0.737148  0.564917  0.639642\n",
       "Random Forest        0.859636   0.719970  0.546370  0.621270\n",
       "MLP                  0.806374   0.661883  0.165780  0.265149\n",
       "Decision Tree        0.796710   0.516950  0.537168  0.526865\n",
       "Logistic Regression  0.793195   0.530410  0.161754  0.247907\n",
       "SVC                  0.789287   0.000000  0.000000  0.000000\n",
       "KNN                  0.759203   0.308227  0.114738  0.167225"
      ]
     },
     "execution_count": 17,
     "metadata": {},
     "output_type": "execute_result"
    }
   ],
   "source": [
    "algo_test_classification(x,y)"
   ]
  },
  {
   "cell_type": "code",
   "execution_count": 18,
   "id": "513be17f-afa5-4424-93ce-0b258febc001",
   "metadata": {},
   "outputs": [],
   "source": [
    "from sklearn.metrics import accuracy_score, confusion_matrix, classification_report"
   ]
  },
  {
   "cell_type": "code",
   "execution_count": 19,
   "id": "50cb1c9a-aa4c-4842-b041-7e0ddbed472d",
   "metadata": {},
   "outputs": [],
   "source": [
    "x_train, x_test, y_train, y_test = train_test_split(x, y, test_size=0.2, random_state=42)"
   ]
  },
  {
   "cell_type": "code",
   "execution_count": 20,
   "id": "a43cd2cd-8d41-460d-97bc-27346b8d18a1",
   "metadata": {},
   "outputs": [],
   "source": [
    "gb = GradientBoostingClassifier()"
   ]
  },
  {
   "cell_type": "code",
   "execution_count": 21,
   "id": "c1e0c2bd-8760-474a-ac16-faea51965690",
   "metadata": {},
   "outputs": [],
   "source": [
    "mod=gb.fit(x_train,y_train)"
   ]
  },
  {
   "cell_type": "code",
   "execution_count": 22,
   "id": "de8c5494-08b6-4801-a36c-a6681cd7698a",
   "metadata": {},
   "outputs": [],
   "source": [
    "thmn=gb.predict(x_test)"
   ]
  },
  {
   "cell_type": "code",
   "execution_count": 23,
   "id": "f72f408d-297f-48a9-a75f-87d5060c3279",
   "metadata": {},
   "outputs": [
    {
     "data": {
      "text/plain": [
       "0.8663616808555761"
      ]
     },
     "execution_count": 23,
     "metadata": {},
     "output_type": "execute_result"
    }
   ],
   "source": [
    "accuracy_score(y_test, thmn)"
   ]
  },
  {
   "cell_type": "code",
   "execution_count": 24,
   "id": "16b99189-2c0d-47d6-87f4-7ec59d364482",
   "metadata": {},
   "outputs": [
    {
     "data": {
      "text/plain": [
       "<Axes: >"
      ]
     },
     "execution_count": 24,
     "metadata": {},
     "output_type": "execute_result"
    },
    {
     "data": {
      "image/png": "[encoded data removed]",
      "text/plain": [
       "<Figure size 640x480 with 2 Axes>"
      ]
     },
     "metadata": {},
     "output_type": "display_data"
    }
   ],
   "source": [
    "sns.heatmap(confusion_matrix(thmn,y_test),annot=True)"
   ]
  },
  {
   "cell_type": "code",
   "execution_count": 25,
   "id": "b099a778-2776-4779-a580-4dfdd36e47ba",
   "metadata": {},
   "outputs": [
    {
     "name": "stdout",
     "output_type": "stream",
     "text": [
      "              precision    recall  f1-score   support\n",
      "\n",
      "           0       0.95      0.89      0.92     27943\n",
      "           1       0.55      0.75      0.63      5064\n",
      "\n",
      "    accuracy                           0.87     33007\n",
      "   macro avg       0.75      0.82      0.78     33007\n",
      "weighted avg       0.89      0.87      0.87     33007\n",
      "\n"
     ]
    }
   ],
   "source": [
    "print(classification_report(thmn,y_test))"
   ]
  },
  {
   "cell_type": "code",
   "execution_count": 26,
   "id": "002d2f33-2f64-4109-8f98-215c493603b2",
   "metadata": {},
   "outputs": [],
   "source": [
    "import pickle"
   ]
  },
  {
   "cell_type": "code",
   "execution_count": 27,
   "id": "874f80b7-011b-447f-ae7f-ce78348675d8",
   "metadata": {},
   "outputs": [],
   "source": [
    "with open('bank.pkl', 'wb') as file:\n",
    "    pickle.dump(gb, file)"
   ]
  },
  {
   "cell_type": "markdown",
   "id": "c7e1506e-2f40-41dd-85d5-ec0304d94daf",
   "metadata": {},
   "source": [
    "Kaggle daki test dosyamızı yükleyip tahmin ettireceğiz."
   ]
  },
  {
   "cell_type": "code",
   "execution_count": 28,
   "id": "78bdd57f-db46-4b01-95b9-792539b00b53",
   "metadata": {},
   "outputs": [],
   "source": [
    "test=pd.read_csv(\"test.csv\")"
   ]
  },
  {
   "cell_type": "code",
   "execution_count": 29,
   "id": "f0fc98ca-6a76-4e19-b622-bda57d4f005b",
   "metadata": {},
   "outputs": [],
   "source": [
    "dosya=pd.DataFrame()"
   ]
  },
  {
   "cell_type": "code",
   "execution_count": 30,
   "id": "86e38fa1-fe92-4ef2-8366-d3897a95564a",
   "metadata": {},
   "outputs": [],
   "source": [
    "dosya[\"id\"]=test[\"id\"]"
   ]
  },
  {
   "cell_type": "code",
   "execution_count": 31,
   "id": "2f08836a-8ce4-49a1-8aaf-d9b4444aa99a",
   "metadata": {},
   "outputs": [],
   "source": [
    "test=test.drop([\"id\",\"CustomerId\",\"Surname\"],axis=1)"
   ]
  },
  {
   "cell_type": "code",
   "execution_count": 32,
   "id": "18a24908-b245-45f2-be90-53c809cb0145",
   "metadata": {},
   "outputs": [],
   "source": [
    "d={\"Male\":1,\"Female\":0}"
   ]
  },
  {
   "cell_type": "code",
   "execution_count": 33,
   "id": "b8a75535-1588-4a75-ad79-5e1ddb67211a",
   "metadata": {},
   "outputs": [],
   "source": [
    "test[\"Gender\"]=test[\"Gender\"].map(d)"
   ]
  },
  {
   "cell_type": "code",
   "execution_count": 34,
   "id": "4bcdfcf0-15b5-4f70-bd01-c983f3aba401",
   "metadata": {},
   "outputs": [],
   "source": [
    "d={\"France\":0,\"Spain\":1,\"Germany\":2}"
   ]
  },
  {
   "cell_type": "code",
   "execution_count": 35,
   "id": "306bcc43-bb0c-417a-8cc7-08b7cd54b084",
   "metadata": {},
   "outputs": [],
   "source": [
    "test[\"Geography\"]=test[\"Geography\"].map(d)"
   ]
  },
  {
   "cell_type": "code",
   "execution_count": 36,
   "id": "d38bcb4a-358f-4d89-9d0b-e9d01ff6b2e8",
   "metadata": {},
   "outputs": [],
   "source": [
    "dosya[\"Exited\"]=gb.predict(test)"
   ]
  },
  {
   "cell_type": "code",
   "execution_count": 52,
   "id": "d1edbea1-41cd-4bb1-b761-9a22d7fe7f73",
   "metadata": {
    "scrolled": true
   },
   "outputs": [
    {
     "data": {
      "text/html": [
       "<div>\n",
       "<style scoped>\n",
       "    .dataframe tbody tr th:only-of-type {\n",
       "        vertical-align: middle;\n",
       "    }\n",
       "\n",
       "    .dataframe tbody tr th {\n",
       "        vertical-align: top;\n",
       "    }\n",
       "\n",
       "    .dataframe thead th {\n",
       "        text-align: right;\n",
       "    }\n",
       "</style>\n",
       "<table border=\"1\" class=\"dataframe\">\n",
       "  <thead>\n",
       "    <tr style=\"text-align: right;\">\n",
       "      <th></th>\n",
       "      <th>id</th>\n",
       "      <th>Exited</th>\n",
       "    </tr>\n",
       "  </thead>\n",
       "  <tbody>\n",
       "    <tr>\n",
       "      <th>10869</th>\n",
       "      <td>175903</td>\n",
       "      <td>0.0</td>\n",
       "    </tr>\n",
       "    <tr>\n",
       "      <th>33037</th>\n",
       "      <td>198071</td>\n",
       "      <td>0.0</td>\n",
       "    </tr>\n",
       "    <tr>\n",
       "      <th>65575</th>\n",
       "      <td>230609</td>\n",
       "      <td>0.0</td>\n",
       "    </tr>\n",
       "    <tr>\n",
       "      <th>83013</th>\n",
       "      <td>248047</td>\n",
       "      <td>0.0</td>\n",
       "    </tr>\n",
       "    <tr>\n",
       "      <th>17670</th>\n",
       "      <td>182704</td>\n",
       "      <td>0.0</td>\n",
       "    </tr>\n",
       "    <tr>\n",
       "      <th>21880</th>\n",
       "      <td>186914</td>\n",
       "      <td>0.0</td>\n",
       "    </tr>\n",
       "    <tr>\n",
       "      <th>89584</th>\n",
       "      <td>254618</td>\n",
       "      <td>0.0</td>\n",
       "    </tr>\n",
       "    <tr>\n",
       "      <th>97232</th>\n",
       "      <td>262266</td>\n",
       "      <td>0.0</td>\n",
       "    </tr>\n",
       "    <tr>\n",
       "      <th>51381</th>\n",
       "      <td>216415</td>\n",
       "      <td>0.0</td>\n",
       "    </tr>\n",
       "    <tr>\n",
       "      <th>58803</th>\n",
       "      <td>223837</td>\n",
       "      <td>0.0</td>\n",
       "    </tr>\n",
       "    <tr>\n",
       "      <th>92402</th>\n",
       "      <td>257436</td>\n",
       "      <td>0.0</td>\n",
       "    </tr>\n",
       "    <tr>\n",
       "      <th>32717</th>\n",
       "      <td>197751</td>\n",
       "      <td>0.0</td>\n",
       "    </tr>\n",
       "    <tr>\n",
       "      <th>30099</th>\n",
       "      <td>195133</td>\n",
       "      <td>0.0</td>\n",
       "    </tr>\n",
       "    <tr>\n",
       "      <th>55067</th>\n",
       "      <td>220101</td>\n",
       "      <td>0.0</td>\n",
       "    </tr>\n",
       "    <tr>\n",
       "      <th>46623</th>\n",
       "      <td>211657</td>\n",
       "      <td>0.0</td>\n",
       "    </tr>\n",
       "    <tr>\n",
       "      <th>8518</th>\n",
       "      <td>173552</td>\n",
       "      <td>0.0</td>\n",
       "    </tr>\n",
       "    <tr>\n",
       "      <th>21611</th>\n",
       "      <td>186645</td>\n",
       "      <td>0.0</td>\n",
       "    </tr>\n",
       "    <tr>\n",
       "      <th>95123</th>\n",
       "      <td>260157</td>\n",
       "      <td>0.0</td>\n",
       "    </tr>\n",
       "    <tr>\n",
       "      <th>40207</th>\n",
       "      <td>205241</td>\n",
       "      <td>0.0</td>\n",
       "    </tr>\n",
       "    <tr>\n",
       "      <th>37049</th>\n",
       "      <td>202083</td>\n",
       "      <td>0.0</td>\n",
       "    </tr>\n",
       "    <tr>\n",
       "      <th>51216</th>\n",
       "      <td>216250</td>\n",
       "      <td>0.0</td>\n",
       "    </tr>\n",
       "    <tr>\n",
       "      <th>10774</th>\n",
       "      <td>175808</td>\n",
       "      <td>0.0</td>\n",
       "    </tr>\n",
       "    <tr>\n",
       "      <th>82217</th>\n",
       "      <td>247251</td>\n",
       "      <td>0.0</td>\n",
       "    </tr>\n",
       "    <tr>\n",
       "      <th>19494</th>\n",
       "      <td>184528</td>\n",
       "      <td>0.0</td>\n",
       "    </tr>\n",
       "    <tr>\n",
       "      <th>58686</th>\n",
       "      <td>223720</td>\n",
       "      <td>0.0</td>\n",
       "    </tr>\n",
       "    <tr>\n",
       "      <th>1996</th>\n",
       "      <td>167030</td>\n",
       "      <td>0.0</td>\n",
       "    </tr>\n",
       "  </tbody>\n",
       "</table>\n",
       "</div>"
      ],
      "text/plain": [
       "           id  Exited\n",
       "10869  175903     0.0\n",
       "33037  198071     0.0\n",
       "65575  230609     0.0\n",
       "83013  248047     0.0\n",
       "17670  182704     0.0\n",
       "21880  186914     0.0\n",
       "89584  254618     0.0\n",
       "97232  262266     0.0\n",
       "51381  216415     0.0\n",
       "58803  223837     0.0\n",
       "92402  257436     0.0\n",
       "32717  197751     0.0\n",
       "30099  195133     0.0\n",
       "55067  220101     0.0\n",
       "46623  211657     0.0\n",
       "8518   173552     0.0\n",
       "21611  186645     0.0\n",
       "95123  260157     0.0\n",
       "40207  205241     0.0\n",
       "37049  202083     0.0\n",
       "51216  216250     0.0\n",
       "10774  175808     0.0\n",
       "82217  247251     0.0\n",
       "19494  184528     0.0\n",
       "58686  223720     0.0\n",
       "1996   167030     0.0"
      ]
     },
     "execution_count": 52,
     "metadata": {},
     "output_type": "execute_result"
    }
   ],
   "source": [
    "dosya.sample(26)"
   ]
  },
  {
   "cell_type": "code",
   "execution_count": 38,
   "id": "82c07286-aed1-40c1-923e-6d5a528b086c",
   "metadata": {},
   "outputs": [],
   "source": [
    "dosya.to_csv(\"tahmin1.csv\",index=False)"
   ]
  },
  {
   "cell_type": "markdown",
   "id": "a80e1a18-9b16-4135-b3b8-176521c9ae91",
   "metadata": {},
   "source": [
    "### Deep Learning"
   ]
  },
  {
   "cell_type": "code",
   "execution_count": 39,
   "id": "26d6f3f1-4819-4cac-9f9a-d11c5e0ec0ec",
   "metadata": {},
   "outputs": [],
   "source": [
    "from tensorflow.keras.models import Sequential\n",
    "from tensorflow.keras.layers import Dense"
   ]
  },
  {
   "cell_type": "code",
   "execution_count": 40,
   "id": "f0c70420-a395-4b91-a3f3-2e47d90cdfdc",
   "metadata": {},
   "outputs": [],
   "source": [
    "from sklearn.preprocessing import normalize, scale"
   ]
  },
  {
   "cell_type": "code",
   "execution_count": 41,
   "id": "655a146a-8c76-40e1-a0a5-f4ca5921f6c4",
   "metadata": {},
   "outputs": [],
   "source": [
    "model=Sequential()\n",
    "model.add(Dense(120,activation=\"relu\"))  # Modele layer ekliyor # Dense bütün nöronlar bütün nöronlara bağlansın demek\n",
    "model.add(Dense(80,activation=\"relu\")) # 120 nöron var \n",
    "model.add(Dense(64,activation=\"relu\"))\n",
    "model.add(Dense(30,activation=\"relu\"))\n",
    "model.add(Dense(20,activation=\"relu\"))\n",
    "model.add(Dense(4,activation=\"relu\"))\n",
    "model.add(Dense(1,activation=\"sigmoid\")) # Binary classification olduğu için sigmoid kullandık ! Regression da yok\n",
    "model.compile(loss=\"binary_crossentropy\", optimizer=\"adam\",metrics=[\"accuracy\"]) # Loss: hata MSE gibi # Optimizer=adam "
   ]
  },
  {
   "cell_type": "code",
   "execution_count": 42,
   "id": "dd100a56-ebc8-42c5-be99-361db48712f1",
   "metadata": {},
   "outputs": [],
   "source": [
    "x=scale(x) # hepsini aynı birime getirdik"
   ]
  },
  {
   "cell_type": "code",
   "execution_count": 43,
   "id": "e448a2e0-89d7-4701-a9f6-4dd9110b7904",
   "metadata": {
    "scrolled": true
   },
   "outputs": [
    {
     "name": "stdout",
     "output_type": "stream",
     "text": [
      "Epoch 1/75\n",
      "\u001b[1m5741/5741\u001b[0m \u001b[32m━━━━━━━━━━━━━━━━━━━━\u001b[0m\u001b[37m\u001b[0m \u001b[1m11s\u001b[0m 1ms/step - accuracy: 0.8482 - loss: 0.3579 - val_accuracy: 0.8601 - val_loss: 0.3308\n",
      "Epoch 2/75\n",
      "\u001b[1m5741/5741\u001b[0m \u001b[32m━━━━━━━━━━━━━━━━━━━━\u001b[0m\u001b[37m\u001b[0m \u001b[1m7s\u001b[0m 1ms/step - accuracy: 0.8634 - loss: 0.3269 - val_accuracy: 0.8627 - val_loss: 0.3281\n",
      "Epoch 3/75\n",
      "\u001b[1m5741/5741\u001b[0m \u001b[32m━━━━━━━━━━━━━━━━━━━━\u001b[0m\u001b[37m\u001b[0m \u001b[1m7s\u001b[0m 1ms/step - accuracy: 0.8636 - loss: 0.3252 - val_accuracy: 0.8614 - val_loss: 0.3261\n",
      "Epoch 4/75\n",
      "\u001b[1m5741/5741\u001b[0m \u001b[32m━━━━━━━━━━━━━━━━━━━━\u001b[0m\u001b[37m\u001b[0m \u001b[1m8s\u001b[0m 1ms/step - accuracy: 0.8628 - loss: 0.3281 - val_accuracy: 0.8635 - val_loss: 0.3277\n",
      "Epoch 5/75\n",
      "\u001b[1m5741/5741\u001b[0m \u001b[32m━━━━━━━━━━━━━━━━━━━━\u001b[0m\u001b[37m\u001b[0m \u001b[1m7s\u001b[0m 1ms/step - accuracy: 0.8645 - loss: 0.3239 - val_accuracy: 0.8633 - val_loss: 0.3263\n",
      "Epoch 6/75\n",
      "\u001b[1m5741/5741\u001b[0m \u001b[32m━━━━━━━━━━━━━━━━━━━━\u001b[0m\u001b[37m\u001b[0m \u001b[1m7s\u001b[0m 1ms/step - accuracy: 0.8656 - loss: 0.3209 - val_accuracy: 0.8626 - val_loss: 0.3260\n",
      "Epoch 7/75\n",
      "\u001b[1m5741/5741\u001b[0m \u001b[32m━━━━━━━━━━━━━━━━━━━━\u001b[0m\u001b[37m\u001b[0m \u001b[1m7s\u001b[0m 1ms/step - accuracy: 0.8643 - loss: 0.3222 - val_accuracy: 0.8629 - val_loss: 0.3257\n",
      "Epoch 8/75\n",
      "\u001b[1m5741/5741\u001b[0m \u001b[32m━━━━━━━━━━━━━━━━━━━━\u001b[0m\u001b[37m\u001b[0m \u001b[1m7s\u001b[0m 1ms/step - accuracy: 0.8650 - loss: 0.3234 - val_accuracy: 0.8617 - val_loss: 0.3266\n",
      "Epoch 9/75\n",
      "\u001b[1m5741/5741\u001b[0m \u001b[32m━━━━━━━━━━━━━━━━━━━━\u001b[0m\u001b[37m\u001b[0m \u001b[1m7s\u001b[0m 1ms/step - accuracy: 0.8643 - loss: 0.3211 - val_accuracy: 0.8642 - val_loss: 0.3255\n",
      "Epoch 10/75\n",
      "\u001b[1m5741/5741\u001b[0m \u001b[32m━━━━━━━━━━━━━━━━━━━━\u001b[0m\u001b[37m\u001b[0m \u001b[1m7s\u001b[0m 1ms/step - accuracy: 0.8630 - loss: 0.3216 - val_accuracy: 0.8634 - val_loss: 0.3266\n",
      "Epoch 11/75\n",
      "\u001b[1m5741/5741\u001b[0m \u001b[32m━━━━━━━━━━━━━━━━━━━━\u001b[0m\u001b[37m\u001b[0m \u001b[1m7s\u001b[0m 1ms/step - accuracy: 0.8644 - loss: 0.3211 - val_accuracy: 0.8645 - val_loss: 0.3257\n",
      "Epoch 12/75\n",
      "\u001b[1m5741/5741\u001b[0m \u001b[32m━━━━━━━━━━━━━━━━━━━━\u001b[0m\u001b[37m\u001b[0m \u001b[1m7s\u001b[0m 1ms/step - accuracy: 0.8653 - loss: 0.3184 - val_accuracy: 0.8635 - val_loss: 0.3274\n",
      "Epoch 13/75\n",
      "\u001b[1m5741/5741\u001b[0m \u001b[32m━━━━━━━━━━━━━━━━━━━━\u001b[0m\u001b[37m\u001b[0m \u001b[1m7s\u001b[0m 1ms/step - accuracy: 0.8643 - loss: 0.3200 - val_accuracy: 0.8615 - val_loss: 0.3272\n",
      "Epoch 14/75\n",
      "\u001b[1m5741/5741\u001b[0m \u001b[32m━━━━━━━━━━━━━━━━━━━━\u001b[0m\u001b[37m\u001b[0m \u001b[1m7s\u001b[0m 1ms/step - accuracy: 0.8644 - loss: 0.3213 - val_accuracy: 0.8636 - val_loss: 0.3248\n",
      "Epoch 15/75\n",
      "\u001b[1m5741/5741\u001b[0m \u001b[32m━━━━━━━━━━━━━━━━━━━━\u001b[0m\u001b[37m\u001b[0m \u001b[1m7s\u001b[0m 1ms/step - accuracy: 0.8657 - loss: 0.3191 - val_accuracy: 0.8649 - val_loss: 0.3248\n",
      "Epoch 16/75\n",
      "\u001b[1m5741/5741\u001b[0m \u001b[32m━━━━━━━━━━━━━━━━━━━━\u001b[0m\u001b[37m\u001b[0m \u001b[1m7s\u001b[0m 1ms/step - accuracy: 0.8665 - loss: 0.3148 - val_accuracy: 0.8635 - val_loss: 0.3255\n",
      "Epoch 17/75\n",
      "\u001b[1m5741/5741\u001b[0m \u001b[32m━━━━━━━━━━━━━━━━━━━━\u001b[0m\u001b[37m\u001b[0m \u001b[1m7s\u001b[0m 1ms/step - accuracy: 0.8672 - loss: 0.3167 - val_accuracy: 0.8631 - val_loss: 0.3258\n",
      "Epoch 18/75\n",
      "\u001b[1m5741/5741\u001b[0m \u001b[32m━━━━━━━━━━━━━━━━━━━━\u001b[0m\u001b[37m\u001b[0m \u001b[1m7s\u001b[0m 1ms/step - accuracy: 0.8662 - loss: 0.3188 - val_accuracy: 0.8638 - val_loss: 0.3260\n",
      "Epoch 19/75\n",
      "\u001b[1m5741/5741\u001b[0m \u001b[32m━━━━━━━━━━━━━━━━━━━━\u001b[0m\u001b[37m\u001b[0m \u001b[1m7s\u001b[0m 1ms/step - accuracy: 0.8657 - loss: 0.3200 - val_accuracy: 0.8623 - val_loss: 0.3261\n",
      "Epoch 20/75\n",
      "\u001b[1m5741/5741\u001b[0m \u001b[32m━━━━━━━━━━━━━━━━━━━━\u001b[0m\u001b[37m\u001b[0m \u001b[1m7s\u001b[0m 1ms/step - accuracy: 0.8664 - loss: 0.3165 - val_accuracy: 0.8636 - val_loss: 0.3258\n",
      "Epoch 21/75\n",
      "\u001b[1m5741/5741\u001b[0m \u001b[32m━━━━━━━━━━━━━━━━━━━━\u001b[0m\u001b[37m\u001b[0m \u001b[1m7s\u001b[0m 1ms/step - accuracy: 0.8654 - loss: 0.3151 - val_accuracy: 0.8634 - val_loss: 0.3259\n",
      "Epoch 22/75\n",
      "\u001b[1m5741/5741\u001b[0m \u001b[32m━━━━━━━━━━━━━━━━━━━━\u001b[0m\u001b[37m\u001b[0m \u001b[1m7s\u001b[0m 1ms/step - accuracy: 0.8670 - loss: 0.3141 - val_accuracy: 0.8645 - val_loss: 0.3280\n",
      "Epoch 23/75\n",
      "\u001b[1m5741/5741\u001b[0m \u001b[32m━━━━━━━━━━━━━━━━━━━━\u001b[0m\u001b[37m\u001b[0m \u001b[1m7s\u001b[0m 1ms/step - accuracy: 0.8677 - loss: 0.3157 - val_accuracy: 0.8637 - val_loss: 0.3272\n",
      "Epoch 24/75\n",
      "\u001b[1m5741/5741\u001b[0m \u001b[32m━━━━━━━━━━━━━━━━━━━━\u001b[0m\u001b[37m\u001b[0m \u001b[1m7s\u001b[0m 1ms/step - accuracy: 0.8680 - loss: 0.3156 - val_accuracy: 0.8625 - val_loss: 0.3288\n",
      "Epoch 25/75\n",
      "\u001b[1m5741/5741\u001b[0m \u001b[32m━━━━━━━━━━━━━━━━━━━━\u001b[0m\u001b[37m\u001b[0m \u001b[1m7s\u001b[0m 1ms/step - accuracy: 0.8675 - loss: 0.3151 - val_accuracy: 0.8623 - val_loss: 0.3293\n",
      "Epoch 26/75\n",
      "\u001b[1m5741/5741\u001b[0m \u001b[32m━━━━━━━━━━━━━━━━━━━━\u001b[0m\u001b[37m\u001b[0m \u001b[1m8s\u001b[0m 1ms/step - accuracy: 0.8680 - loss: 0.3148 - val_accuracy: 0.8637 - val_loss: 0.3267\n",
      "Epoch 27/75\n",
      "\u001b[1m5741/5741\u001b[0m \u001b[32m━━━━━━━━━━━━━━━━━━━━\u001b[0m\u001b[37m\u001b[0m \u001b[1m8s\u001b[0m 1ms/step - accuracy: 0.8681 - loss: 0.3139 - val_accuracy: 0.8632 - val_loss: 0.3275\n",
      "Epoch 28/75\n",
      "\u001b[1m5741/5741\u001b[0m \u001b[32m━━━━━━━━━━━━━━━━━━━━\u001b[0m\u001b[37m\u001b[0m \u001b[1m7s\u001b[0m 1ms/step - accuracy: 0.8673 - loss: 0.3145 - val_accuracy: 0.8625 - val_loss: 0.3278\n",
      "Epoch 29/75\n",
      "\u001b[1m5741/5741\u001b[0m \u001b[32m━━━━━━━━━━━━━━━━━━━━\u001b[0m\u001b[37m\u001b[0m \u001b[1m7s\u001b[0m 1ms/step - accuracy: 0.8669 - loss: 0.3140 - val_accuracy: 0.8635 - val_loss: 0.3291\n",
      "Epoch 30/75\n",
      "\u001b[1m5741/5741\u001b[0m \u001b[32m━━━━━━━━━━━━━━━━━━━━\u001b[0m\u001b[37m\u001b[0m \u001b[1m7s\u001b[0m 1ms/step - accuracy: 0.8682 - loss: 0.3125 - val_accuracy: 0.8616 - val_loss: 0.3274\n",
      "Epoch 31/75\n",
      "\u001b[1m5741/5741\u001b[0m \u001b[32m━━━━━━━━━━━━━━━━━━━━\u001b[0m\u001b[37m\u001b[0m \u001b[1m8s\u001b[0m 1ms/step - accuracy: 0.8689 - loss: 0.3121 - val_accuracy: 0.8642 - val_loss: 0.3286\n",
      "Epoch 32/75\n",
      "\u001b[1m5741/5741\u001b[0m \u001b[32m━━━━━━━━━━━━━━━━━━━━\u001b[0m\u001b[37m\u001b[0m \u001b[1m7s\u001b[0m 1ms/step - accuracy: 0.8687 - loss: 0.3126 - val_accuracy: 0.8624 - val_loss: 0.3281\n",
      "Epoch 33/75\n",
      "\u001b[1m5741/5741\u001b[0m \u001b[32m━━━━━━━━━━━━━━━━━━━━\u001b[0m\u001b[37m\u001b[0m \u001b[1m7s\u001b[0m 1ms/step - accuracy: 0.8677 - loss: 0.3132 - val_accuracy: 0.8642 - val_loss: 0.3326\n",
      "Epoch 34/75\n",
      "\u001b[1m5741/5741\u001b[0m \u001b[32m━━━━━━━━━━━━━━━━━━━━\u001b[0m\u001b[37m\u001b[0m \u001b[1m7s\u001b[0m 1ms/step - accuracy: 0.8684 - loss: 0.3120 - val_accuracy: 0.8629 - val_loss: 0.3280\n",
      "Epoch 35/75\n",
      "\u001b[1m5741/5741\u001b[0m \u001b[32m━━━━━━━━━━━━━━━━━━━━\u001b[0m\u001b[37m\u001b[0m \u001b[1m7s\u001b[0m 1ms/step - accuracy: 0.8686 - loss: 0.3113 - val_accuracy: 0.8618 - val_loss: 0.3284\n",
      "Epoch 36/75\n",
      "\u001b[1m5741/5741\u001b[0m \u001b[32m━━━━━━━━━━━━━━━━━━━━\u001b[0m\u001b[37m\u001b[0m \u001b[1m7s\u001b[0m 1ms/step - accuracy: 0.8671 - loss: 0.3127 - val_accuracy: 0.8632 - val_loss: 0.3270\n",
      "Epoch 37/75\n",
      "\u001b[1m5741/5741\u001b[0m \u001b[32m━━━━━━━━━━━━━━━━━━━━\u001b[0m\u001b[37m\u001b[0m \u001b[1m7s\u001b[0m 1ms/step - accuracy: 0.8667 - loss: 0.3118 - val_accuracy: 0.8633 - val_loss: 0.3277\n",
      "Epoch 38/75\n",
      "\u001b[1m5741/5741\u001b[0m \u001b[32m━━━━━━━━━━━━━━━━━━━━\u001b[0m\u001b[37m\u001b[0m \u001b[1m7s\u001b[0m 1ms/step - accuracy: 0.8695 - loss: 0.3094 - val_accuracy: 0.8628 - val_loss: 0.3295\n",
      "Epoch 39/75\n",
      "\u001b[1m5741/5741\u001b[0m \u001b[32m━━━━━━━━━━━━━━━━━━━━\u001b[0m\u001b[37m\u001b[0m \u001b[1m7s\u001b[0m 1ms/step - accuracy: 0.8685 - loss: 0.3116 - val_accuracy: 0.8632 - val_loss: 0.3317\n",
      "Epoch 40/75\n",
      "\u001b[1m5741/5741\u001b[0m \u001b[32m━━━━━━━━━━━━━━━━━━━━\u001b[0m\u001b[37m\u001b[0m \u001b[1m7s\u001b[0m 1ms/step - accuracy: 0.8701 - loss: 0.3079 - val_accuracy: 0.8635 - val_loss: 0.3293\n",
      "Epoch 41/75\n",
      "\u001b[1m5741/5741\u001b[0m \u001b[32m━━━━━━━━━━━━━━━━━━━━\u001b[0m\u001b[37m\u001b[0m \u001b[1m8s\u001b[0m 1ms/step - accuracy: 0.8696 - loss: 0.3090 - val_accuracy: 0.8624 - val_loss: 0.3312\n",
      "Epoch 42/75\n",
      "\u001b[1m5741/5741\u001b[0m \u001b[32m━━━━━━━━━━━━━━━━━━━━\u001b[0m\u001b[37m\u001b[0m \u001b[1m7s\u001b[0m 1ms/step - accuracy: 0.8685 - loss: 0.3104 - val_accuracy: 0.8638 - val_loss: 0.3296\n",
      "Epoch 43/75\n",
      "\u001b[1m5741/5741\u001b[0m \u001b[32m━━━━━━━━━━━━━━━━━━━━\u001b[0m\u001b[37m\u001b[0m \u001b[1m7s\u001b[0m 1ms/step - accuracy: 0.8699 - loss: 0.3070 - val_accuracy: 0.8636 - val_loss: 0.3289\n",
      "Epoch 44/75\n",
      "\u001b[1m5741/5741\u001b[0m \u001b[32m━━━━━━━━━━━━━━━━━━━━\u001b[0m\u001b[37m\u001b[0m \u001b[1m7s\u001b[0m 1ms/step - accuracy: 0.8697 - loss: 0.3100 - val_accuracy: 0.8630 - val_loss: 0.3308\n",
      "Epoch 45/75\n",
      "\u001b[1m5741/5741\u001b[0m \u001b[32m━━━━━━━━━━━━━━━━━━━━\u001b[0m\u001b[37m\u001b[0m \u001b[1m7s\u001b[0m 1ms/step - accuracy: 0.8684 - loss: 0.3098 - val_accuracy: 0.8620 - val_loss: 0.3313\n",
      "Epoch 46/75\n",
      "\u001b[1m5741/5741\u001b[0m \u001b[32m━━━━━━━━━━━━━━━━━━━━\u001b[0m\u001b[37m\u001b[0m \u001b[1m7s\u001b[0m 1ms/step - accuracy: 0.8698 - loss: 0.3078 - val_accuracy: 0.8636 - val_loss: 0.3317\n",
      "Epoch 47/75\n",
      "\u001b[1m5741/5741\u001b[0m \u001b[32m━━━━━━━━━━━━━━━━━━━━\u001b[0m\u001b[37m\u001b[0m \u001b[1m7s\u001b[0m 1ms/step - accuracy: 0.8693 - loss: 0.3088 - val_accuracy: 0.8621 - val_loss: 0.3289\n",
      "Epoch 48/75\n",
      "\u001b[1m5741/5741\u001b[0m \u001b[32m━━━━━━━━━━━━━━━━━━━━\u001b[0m\u001b[37m\u001b[0m \u001b[1m8s\u001b[0m 1ms/step - accuracy: 0.8693 - loss: 0.3085 - val_accuracy: 0.8618 - val_loss: 0.3320\n",
      "Epoch 49/75\n",
      "\u001b[1m5741/5741\u001b[0m \u001b[32m━━━━━━━━━━━━━━━━━━━━\u001b[0m\u001b[37m\u001b[0m \u001b[1m7s\u001b[0m 1ms/step - accuracy: 0.8703 - loss: 0.3074 - val_accuracy: 0.8623 - val_loss: 0.3319\n",
      "Epoch 50/75\n",
      "\u001b[1m5741/5741\u001b[0m \u001b[32m━━━━━━━━━━━━━━━━━━━━\u001b[0m\u001b[37m\u001b[0m \u001b[1m8s\u001b[0m 1ms/step - accuracy: 0.8700 - loss: 0.3066 - val_accuracy: 0.8615 - val_loss: 0.3321\n",
      "Epoch 51/75\n",
      "\u001b[1m5741/5741\u001b[0m \u001b[32m━━━━━━━━━━━━━━━━━━━━\u001b[0m\u001b[37m\u001b[0m \u001b[1m8s\u001b[0m 1ms/step - accuracy: 0.8706 - loss: 0.3051 - val_accuracy: 0.8606 - val_loss: 0.3395\n",
      "Epoch 52/75\n",
      "\u001b[1m5741/5741\u001b[0m \u001b[32m━━━━━━━━━━━━━━━━━━━━\u001b[0m\u001b[37m\u001b[0m \u001b[1m8s\u001b[0m 1ms/step - accuracy: 0.8701 - loss: 0.3078 - val_accuracy: 0.8625 - val_loss: 0.3325\n",
      "Epoch 53/75\n",
      "\u001b[1m5741/5741\u001b[0m \u001b[32m━━━━━━━━━━━━━━━━━━━━\u001b[0m\u001b[37m\u001b[0m \u001b[1m8s\u001b[0m 1ms/step - accuracy: 0.8704 - loss: 0.3049 - val_accuracy: 0.8620 - val_loss: 0.3382\n",
      "Epoch 54/75\n",
      "\u001b[1m5741/5741\u001b[0m \u001b[32m━━━━━━━━━━━━━━━━━━━━\u001b[0m\u001b[37m\u001b[0m \u001b[1m8s\u001b[0m 1ms/step - accuracy: 0.8715 - loss: 0.3050 - val_accuracy: 0.8611 - val_loss: 0.3336\n",
      "Epoch 55/75\n",
      "\u001b[1m5741/5741\u001b[0m \u001b[32m━━━━━━━━━━━━━━━━━━━━\u001b[0m\u001b[37m\u001b[0m \u001b[1m8s\u001b[0m 1ms/step - accuracy: 0.8717 - loss: 0.3040 - val_accuracy: 0.8616 - val_loss: 0.3344\n",
      "Epoch 56/75\n",
      "\u001b[1m5741/5741\u001b[0m \u001b[32m━━━━━━━━━━━━━━━━━━━━\u001b[0m\u001b[37m\u001b[0m \u001b[1m7s\u001b[0m 1ms/step - accuracy: 0.8721 - loss: 0.3022 - val_accuracy: 0.8604 - val_loss: 0.3351\n",
      "Epoch 57/75\n",
      "\u001b[1m5741/5741\u001b[0m \u001b[32m━━━━━━━━━━━━━━━━━━━━\u001b[0m\u001b[37m\u001b[0m \u001b[1m8s\u001b[0m 1ms/step - accuracy: 0.8732 - loss: 0.3021 - val_accuracy: 0.8624 - val_loss: 0.3363\n",
      "Epoch 58/75\n",
      "\u001b[1m5741/5741\u001b[0m \u001b[32m━━━━━━━━━━━━━━━━━━━━\u001b[0m\u001b[37m\u001b[0m \u001b[1m8s\u001b[0m 1ms/step - accuracy: 0.8703 - loss: 0.3064 - val_accuracy: 0.8609 - val_loss: 0.3367\n",
      "Epoch 59/75\n",
      "\u001b[1m5741/5741\u001b[0m \u001b[32m━━━━━━━━━━━━━━━━━━━━\u001b[0m\u001b[37m\u001b[0m \u001b[1m7s\u001b[0m 1ms/step - accuracy: 0.8725 - loss: 0.3020 - val_accuracy: 0.8612 - val_loss: 0.3368\n",
      "Epoch 60/75\n",
      "\u001b[1m5741/5741\u001b[0m \u001b[32m━━━━━━━━━━━━━━━━━━━━\u001b[0m\u001b[37m\u001b[0m \u001b[1m8s\u001b[0m 1ms/step - accuracy: 0.8714 - loss: 0.3031 - val_accuracy: 0.8603 - val_loss: 0.3352\n",
      "Epoch 61/75\n",
      "\u001b[1m5741/5741\u001b[0m \u001b[32m━━━━━━━━━━━━━━━━━━━━\u001b[0m\u001b[37m\u001b[0m \u001b[1m8s\u001b[0m 1ms/step - accuracy: 0.8723 - loss: 0.3032 - val_accuracy: 0.8594 - val_loss: 0.3402\n",
      "Epoch 62/75\n",
      "\u001b[1m5741/5741\u001b[0m \u001b[32m━━━━━━━━━━━━━━━━━━━━\u001b[0m\u001b[37m\u001b[0m \u001b[1m7s\u001b[0m 1ms/step - accuracy: 0.8707 - loss: 0.3058 - val_accuracy: 0.8614 - val_loss: 0.3393\n",
      "Epoch 63/75\n",
      "\u001b[1m5741/5741\u001b[0m \u001b[32m━━━━━━━━━━━━━━━━━━━━\u001b[0m\u001b[37m\u001b[0m \u001b[1m7s\u001b[0m 1ms/step - accuracy: 0.8718 - loss: 0.3021 - val_accuracy: 0.8578 - val_loss: 0.3388\n",
      "Epoch 64/75\n",
      "\u001b[1m5741/5741\u001b[0m \u001b[32m━━━━━━━━━━━━━━━━━━━━\u001b[0m\u001b[37m\u001b[0m \u001b[1m7s\u001b[0m 1ms/step - accuracy: 0.8729 - loss: 0.3022 - val_accuracy: 0.8584 - val_loss: 0.3413\n",
      "Epoch 65/75\n",
      "\u001b[1m5741/5741\u001b[0m \u001b[32m━━━━━━━━━━━━━━━━━━━━\u001b[0m\u001b[37m\u001b[0m \u001b[1m7s\u001b[0m 1ms/step - accuracy: 0.8737 - loss: 0.3018 - val_accuracy: 0.8604 - val_loss: 0.3393\n",
      "Epoch 66/75\n",
      "\u001b[1m5741/5741\u001b[0m \u001b[32m━━━━━━━━━━━━━━━━━━━━\u001b[0m\u001b[37m\u001b[0m \u001b[1m8s\u001b[0m 1ms/step - accuracy: 0.8737 - loss: 0.3001 - val_accuracy: 0.8605 - val_loss: 0.3394\n",
      "Epoch 67/75\n",
      "\u001b[1m5741/5741\u001b[0m \u001b[32m━━━━━━━━━━━━━━━━━━━━\u001b[0m\u001b[37m\u001b[0m \u001b[1m9s\u001b[0m 2ms/step - accuracy: 0.8714 - loss: 0.3029 - val_accuracy: 0.8598 - val_loss: 0.3412\n",
      "Epoch 68/75\n",
      "\u001b[1m5741/5741\u001b[0m \u001b[32m━━━━━━━━━━━━━━━━━━━━\u001b[0m\u001b[37m\u001b[0m \u001b[1m8s\u001b[0m 1ms/step - accuracy: 0.8723 - loss: 0.3018 - val_accuracy: 0.8608 - val_loss: 0.3398\n",
      "Epoch 69/75\n",
      "\u001b[1m5741/5741\u001b[0m \u001b[32m━━━━━━━━━━━━━━━━━━━━\u001b[0m\u001b[37m\u001b[0m \u001b[1m8s\u001b[0m 1ms/step - accuracy: 0.8725 - loss: 0.3029 - val_accuracy: 0.8596 - val_loss: 0.3455\n",
      "Epoch 70/75\n",
      "\u001b[1m5741/5741\u001b[0m \u001b[32m━━━━━━━━━━━━━━━━━━━━\u001b[0m\u001b[37m\u001b[0m \u001b[1m7s\u001b[0m 1ms/step - accuracy: 0.8729 - loss: 0.3021 - val_accuracy: 0.8597 - val_loss: 0.3419\n",
      "Epoch 71/75\n",
      "\u001b[1m5741/5741\u001b[0m \u001b[32m━━━━━━━━━━━━━━━━━━━━\u001b[0m\u001b[37m\u001b[0m \u001b[1m8s\u001b[0m 1ms/step - accuracy: 0.8723 - loss: 0.3014 - val_accuracy: 0.8603 - val_loss: 0.3458\n",
      "Epoch 72/75\n",
      "\u001b[1m5741/5741\u001b[0m \u001b[32m━━━━━━━━━━━━━━━━━━━━\u001b[0m\u001b[37m\u001b[0m \u001b[1m7s\u001b[0m 1ms/step - accuracy: 0.8724 - loss: 0.3007 - val_accuracy: 0.8587 - val_loss: 0.3407\n",
      "Epoch 73/75\n",
      "\u001b[1m5741/5741\u001b[0m \u001b[32m━━━━━━━━━━━━━━━━━━━━\u001b[0m\u001b[37m\u001b[0m \u001b[1m7s\u001b[0m 1ms/step - accuracy: 0.8718 - loss: 0.3016 - val_accuracy: 0.8603 - val_loss: 0.3406\n",
      "Epoch 74/75\n",
      "\u001b[1m5741/5741\u001b[0m \u001b[32m━━━━━━━━━━━━━━━━━━━━\u001b[0m\u001b[37m\u001b[0m \u001b[1m8s\u001b[0m 1ms/step - accuracy: 0.8737 - loss: 0.3001 - val_accuracy: 0.8592 - val_loss: 0.3441\n",
      "Epoch 75/75\n",
      "\u001b[1m5741/5741\u001b[0m \u001b[32m━━━━━━━━━━━━━━━━━━━━\u001b[0m\u001b[37m\u001b[0m \u001b[1m7s\u001b[0m 1ms/step - accuracy: 0.8726 - loss: 0.3008 - val_accuracy: 0.8579 - val_loss: 0.3471\n"
     ]
    }
   ],
   "source": [
    "history=model.fit(x,y,epochs=75,batch_size=23, validation_split=.20, verbose=1)"
   ]
  },
  {
   "cell_type": "code",
   "execution_count": 44,
   "id": "7177b763-ee09-49fd-af67-d335d6d739ef",
   "metadata": {},
   "outputs": [
    {
     "name": "stdout",
     "output_type": "stream",
     "text": [
      "\u001b[1m3439/3439\u001b[0m \u001b[32m━━━━━━━━━━━━━━━━━━━━\u001b[0m\u001b[37m\u001b[0m \u001b[1m3s\u001b[0m 762us/step\n"
     ]
    }
   ],
   "source": [
    "dosya[\"Exited\"]=model.predict(test)"
   ]
  },
  {
   "cell_type": "code",
   "execution_count": 45,
   "id": "2c5a63dc-9336-4a29-8ff3-7bc850145988",
   "metadata": {},
   "outputs": [],
   "source": [
    "dosya.to_csv(\"tahmin2.csv\",index=False)"
   ]
  },
  {
   "cell_type": "code",
   "execution_count": 46,
   "id": "411fb39b-3dcd-419b-bbf6-c165dec51ad9",
   "metadata": {},
   "outputs": [
    {
     "data": {
      "text/plain": [
       "<matplotlib.legend.Legend at 0x24032d75340>"
      ]
     },
     "execution_count": 46,
     "metadata": {},
     "output_type": "execute_result"
    },
    {
     "data": {
      "image/png": "[encoded data removed]",
      "text/plain": [
       "<Figure size 640x480 with 1 Axes>"
      ]
     },
     "metadata": {},
     "output_type": "display_data"
    }
   ],
   "source": [
    "plt.plot(history.history[\"accuracy\"],label=\"Accuracy\")    \n",
    "plt.plot(history.history[\"val_accuracy\"],label=\"Val_Accuracy\")\n",
    "plt.legend()"
   ]
  },
  {
   "cell_type": "markdown",
   "id": "15f6c1d5-c9d9-4bd5-a954-7fe515c28b41",
   "metadata": {},
   "source": [
    "Sonuc olarak hem ML hem de DL olarak modelimizi egittik ve Kaggle da test verilerimizi degerlendirdik."
   ]
  }
 ],
 "metadata": {
  "kernelspec": {
   "display_name": "Python 3 (ipykernel)",
   "language": "python",
   "name": "python3"
  },
  "language_info": {
   "codemirror_mode": {
    "name": "ipython",
    "version": 3
   },
   "file_extension": ".py",
   "mimetype": "text/x-python",
   "name": "python",
   "nbconvert_exporter": "python",
   "pygments_lexer": "ipython3",
   "version": "3.12.3"
  }
 },
 "nbformat": 4,
 "nbformat_minor": 5
}
