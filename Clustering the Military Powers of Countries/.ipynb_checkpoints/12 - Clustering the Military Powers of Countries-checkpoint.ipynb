{
 "cells": [
  {
   "cell_type": "markdown",
   "id": "4d182083-336d-4e3b-a209-19a314f87d75",
   "metadata": {},
   "source": [
    "# Military Powers of Countries"
   ]
  },
  {
   "cell_type": "markdown",
   "id": "19dae996-337b-435a-b0a1-417d37bcb3da",
   "metadata": {},
   "source": [
    "Military power indicators of countries"
   ]
  },
  {
   "cell_type": "markdown",
   "id": "d579801f-2804-462f-a921-e01557c69292",
   "metadata": {},
   "source": [
    "<a href=\"https://docs.google.com/spreadsheets/d/1hFtatbGt9SdkJ0oJbr7fc2BIyfd9YQNi/edit?usp=drive_link&ouid=100635506920782714901&rtpof=true&sd=true\">Dataya Buradan Erişebilrisiniz</a>"
   ]
  },
  {
   "cell_type": "code",
   "execution_count": 1,
   "id": "3dfcb27b-4530-486b-a6d9-3f8f31666e3b",
   "metadata": {},
   "outputs": [],
   "source": [
    "import pandas as pd"
   ]
  },
  {
   "cell_type": "code",
   "execution_count": 2,
   "id": "005ae419-4aa8-44f8-b108-bd88bc3b3e31",
   "metadata": {},
   "outputs": [],
   "source": [
    "import warnings\n",
    "warnings.filterwarnings(\"ignore\")"
   ]
  },
  {
   "cell_type": "code",
   "execution_count": 3,
   "id": "4c064be7-12fe-4123-82d1-92a92c001040",
   "metadata": {},
   "outputs": [],
   "source": [
    "df=pd.read_excel(\"World military power.xlsx\",skiprows=1)"
   ]
  },
  {
   "cell_type": "markdown",
   "id": "3508687c-5f05-4c17-b674-500789af78eb",
   "metadata": {},
   "source": [
    "### EDA"
   ]
  },
  {
   "cell_type": "code",
   "execution_count": null,
   "id": "c91d01de-b0f7-4c83-ba6f-05f17bfed6eb",
   "metadata": {},
   "outputs": [],
   "source": []
  },
  {
   "cell_type": "code",
   "execution_count": 4,
   "id": "2a7f1096-2e53-4ab6-b685-c46c7b28c38c",
   "metadata": {},
   "outputs": [
    {
     "data": {
      "text/html": [
       "<div>\n",
       "<style scoped>\n",
       "    .dataframe tbody tr th:only-of-type {\n",
       "        vertical-align: middle;\n",
       "    }\n",
       "\n",
       "    .dataframe tbody tr th {\n",
       "        vertical-align: top;\n",
       "    }\n",
       "\n",
       "    .dataframe thead th {\n",
       "        text-align: right;\n",
       "    }\n",
       "</style>\n",
       "<table border=\"1\" class=\"dataframe\">\n",
       "  <thead>\n",
       "    <tr style=\"text-align: right;\">\n",
       "      <th></th>\n",
       "      <th>Military Strength</th>\n",
       "      <th>Military Strength Power Index</th>\n",
       "      <th>Aircraft Strength</th>\n",
       "      <th>Aircraft Strength value</th>\n",
       "      <th>Fighter/Interceptor Strength</th>\n",
       "      <th>Fighter/Interceptor Strength value</th>\n",
       "      <th>Attack Aircraft Strength</th>\n",
       "      <th>Attack Aircraft Strength value</th>\n",
       "      <th>Transport Aircraft Fleet Strength</th>\n",
       "      <th>Transport Aircraft Fleet Strength value</th>\n",
       "      <th>...</th>\n",
       "      <th>Total Population</th>\n",
       "      <th>Total Population value</th>\n",
       "      <th>Total Square Land Area</th>\n",
       "      <th>Total Square Land Area value</th>\n",
       "      <th>Total Coastline Coverage</th>\n",
       "      <th>Total Coastline Coverage value</th>\n",
       "      <th>Total Waterway Coverage</th>\n",
       "      <th>Total Waterway Coverage value</th>\n",
       "      <th>Total Border Coverage</th>\n",
       "      <th>Total Border Coverage value</th>\n",
       "    </tr>\n",
       "  </thead>\n",
       "  <tbody>\n",
       "    <tr>\n",
       "      <th>0</th>\n",
       "      <td>Afghanistan</td>\n",
       "      <td>1.3444</td>\n",
       "      <td>Afghanistan</td>\n",
       "      <td>260</td>\n",
       "      <td>Afghanistan</td>\n",
       "      <td>0</td>\n",
       "      <td>Afghanistan</td>\n",
       "      <td>25</td>\n",
       "      <td>Afghanistan</td>\n",
       "      <td>30</td>\n",
       "      <td>...</td>\n",
       "      <td>Afghanistan</td>\n",
       "      <td>3,49,40,837</td>\n",
       "      <td>Afghanistan</td>\n",
       "      <td>6,52,230</td>\n",
       "      <td>Afghanistan</td>\n",
       "      <td>0</td>\n",
       "      <td>Afghanistan</td>\n",
       "      <td>1200</td>\n",
       "      <td>Afghanistan</td>\n",
       "      <td>5987.0</td>\n",
       "    </tr>\n",
       "    <tr>\n",
       "      <th>1</th>\n",
       "      <td>Albania</td>\n",
       "      <td>2.3137</td>\n",
       "      <td>Albania</td>\n",
       "      <td>19</td>\n",
       "      <td>Albania</td>\n",
       "      <td>0</td>\n",
       "      <td>Albania</td>\n",
       "      <td>0</td>\n",
       "      <td>Albania</td>\n",
       "      <td>0</td>\n",
       "      <td>...</td>\n",
       "      <td>Albania</td>\n",
       "      <td>30,57,220</td>\n",
       "      <td>Albania</td>\n",
       "      <td>28748</td>\n",
       "      <td>Albania</td>\n",
       "      <td>362</td>\n",
       "      <td>Albania</td>\n",
       "      <td>41</td>\n",
       "      <td>Albania</td>\n",
       "      <td>691.0</td>\n",
       "    </tr>\n",
       "    <tr>\n",
       "      <th>2</th>\n",
       "      <td>Algeria</td>\n",
       "      <td>0.4659</td>\n",
       "      <td>Algeria</td>\n",
       "      <td>551</td>\n",
       "      <td>Algeria</td>\n",
       "      <td>103</td>\n",
       "      <td>Algeria</td>\n",
       "      <td>22</td>\n",
       "      <td>Algeria</td>\n",
       "      <td>59</td>\n",
       "      <td>...</td>\n",
       "      <td>Algeria</td>\n",
       "      <td>4,16,57,488</td>\n",
       "      <td>Algeria</td>\n",
       "      <td>23,81,741</td>\n",
       "      <td>Algeria</td>\n",
       "      <td>998</td>\n",
       "      <td>Algeria</td>\n",
       "      <td>0</td>\n",
       "      <td>Algeria</td>\n",
       "      <td>6734.0</td>\n",
       "    </tr>\n",
       "    <tr>\n",
       "      <th>3</th>\n",
       "      <td>Angola</td>\n",
       "      <td>0.8379</td>\n",
       "      <td>Angola</td>\n",
       "      <td>295</td>\n",
       "      <td>Angola</td>\n",
       "      <td>72</td>\n",
       "      <td>Angola</td>\n",
       "      <td>18</td>\n",
       "      <td>Angola</td>\n",
       "      <td>30</td>\n",
       "      <td>...</td>\n",
       "      <td>Angola</td>\n",
       "      <td>3,03,55,880</td>\n",
       "      <td>Angola</td>\n",
       "      <td>12,46,700</td>\n",
       "      <td>Angola</td>\n",
       "      <td>1600</td>\n",
       "      <td>Angola</td>\n",
       "      <td>1300</td>\n",
       "      <td>Angola</td>\n",
       "      <td>5369.0</td>\n",
       "    </tr>\n",
       "    <tr>\n",
       "      <th>4</th>\n",
       "      <td>Argentina</td>\n",
       "      <td>0.6521</td>\n",
       "      <td>Argentina</td>\n",
       "      <td>227</td>\n",
       "      <td>Argentina</td>\n",
       "      <td>24</td>\n",
       "      <td>Argentina</td>\n",
       "      <td>7</td>\n",
       "      <td>Argentina</td>\n",
       "      <td>9</td>\n",
       "      <td>...</td>\n",
       "      <td>Argentina</td>\n",
       "      <td>4,46,94,198</td>\n",
       "      <td>Argentina</td>\n",
       "      <td>27,80,400</td>\n",
       "      <td>Argentina</td>\n",
       "      <td>4989</td>\n",
       "      <td>Argentina</td>\n",
       "      <td>11000</td>\n",
       "      <td>Argentina</td>\n",
       "      <td>11968.0</td>\n",
       "    </tr>\n",
       "  </tbody>\n",
       "</table>\n",
       "<p>5 rows × 60 columns</p>\n",
       "</div>"
      ],
      "text/plain": [
       "  Military Strength  Military Strength Power Index Aircraft Strength  \\\n",
       "0       Afghanistan                         1.3444       Afghanistan   \n",
       "1           Albania                         2.3137           Albania   \n",
       "2           Algeria                         0.4659           Algeria   \n",
       "3            Angola                         0.8379            Angola   \n",
       "4         Argentina                         0.6521         Argentina   \n",
       "\n",
       "   Aircraft Strength value Fighter/Interceptor Strength  \\\n",
       "0                      260                  Afghanistan   \n",
       "1                       19                      Albania   \n",
       "2                      551                      Algeria   \n",
       "3                      295                       Angola   \n",
       "4                      227                    Argentina   \n",
       "\n",
       "   Fighter/Interceptor Strength value Attack Aircraft Strength  \\\n",
       "0                                   0              Afghanistan   \n",
       "1                                   0                  Albania   \n",
       "2                                 103                  Algeria   \n",
       "3                                  72                   Angola   \n",
       "4                                  24                Argentina   \n",
       "\n",
       "   Attack Aircraft Strength value Transport Aircraft Fleet Strength  \\\n",
       "0                              25                       Afghanistan   \n",
       "1                               0                           Albania   \n",
       "2                              22                           Algeria   \n",
       "3                              18                            Angola   \n",
       "4                               7                         Argentina   \n",
       "\n",
       "   Transport Aircraft Fleet Strength value  ... Total Population  \\\n",
       "0                                       30  ...      Afghanistan   \n",
       "1                                        0  ...          Albania   \n",
       "2                                       59  ...          Algeria   \n",
       "3                                       30  ...           Angola   \n",
       "4                                        9  ...        Argentina   \n",
       "\n",
       "   Total Population value Total Square Land Area  \\\n",
       "0             3,49,40,837            Afghanistan   \n",
       "1               30,57,220                Albania   \n",
       "2             4,16,57,488                Algeria   \n",
       "3             3,03,55,880                 Angola   \n",
       "4             4,46,94,198              Argentina   \n",
       "\n",
       "   Total Square Land Area value Total Coastline Coverage  \\\n",
       "0                      6,52,230              Afghanistan   \n",
       "1                         28748                  Albania   \n",
       "2                     23,81,741                  Algeria   \n",
       "3                     12,46,700                   Angola   \n",
       "4                     27,80,400                Argentina   \n",
       "\n",
       "   Total Coastline Coverage value Total Waterway Coverage  \\\n",
       "0                               0             Afghanistan   \n",
       "1                             362                 Albania   \n",
       "2                             998                 Algeria   \n",
       "3                            1600                  Angola   \n",
       "4                            4989               Argentina   \n",
       "\n",
       "   Total Waterway Coverage value Total Border Coverage  \\\n",
       "0                           1200           Afghanistan   \n",
       "1                             41               Albania   \n",
       "2                              0               Algeria   \n",
       "3                           1300                Angola   \n",
       "4                          11000             Argentina   \n",
       "\n",
       "   Total Border Coverage value  \n",
       "0                       5987.0  \n",
       "1                        691.0  \n",
       "2                       6734.0  \n",
       "3                       5369.0  \n",
       "4                      11968.0  \n",
       "\n",
       "[5 rows x 60 columns]"
      ]
     },
     "execution_count": 4,
     "metadata": {},
     "output_type": "execute_result"
    }
   ],
   "source": [
    "df.head()"
   ]
  },
  {
   "cell_type": "code",
   "execution_count": 5,
   "id": "6da3ed09-e94c-417d-8428-732df1d16204",
   "metadata": {},
   "outputs": [
    {
     "data": {
      "text/plain": [
       "(138, 60)"
      ]
     },
     "execution_count": 5,
     "metadata": {},
     "output_type": "execute_result"
    }
   ],
   "source": [
    "df.shape"
   ]
  },
  {
   "cell_type": "code",
   "execution_count": 6,
   "id": "b9073726-8b44-4fab-b227-2487c1a14093",
   "metadata": {
    "scrolled": true
   },
   "outputs": [
    {
     "name": "stdout",
     "output_type": "stream",
     "text": [
      "<class 'pandas.core.frame.DataFrame'>\n",
      "RangeIndex: 138 entries, 0 to 137\n",
      "Data columns (total 60 columns):\n",
      " #   Column                                   Non-Null Count  Dtype  \n",
      "---  ------                                   --------------  -----  \n",
      " 0   Military Strength                        138 non-null    object \n",
      " 1   Military Strength Power Index            138 non-null    float64\n",
      " 2   Aircraft Strength                        138 non-null    object \n",
      " 3   Aircraft Strength value                  138 non-null    int64  \n",
      " 4   Fighter/Interceptor Strength             138 non-null    object \n",
      " 5   Fighter/Interceptor Strength value       138 non-null    int64  \n",
      " 6   Attack Aircraft Strength                 138 non-null    object \n",
      " 7   Attack Aircraft Strength value           138 non-null    int64  \n",
      " 8   Transport Aircraft Fleet Strength        138 non-null    object \n",
      " 9   Transport Aircraft Fleet Strength value  138 non-null    int64  \n",
      " 10  Trainer Aircraft Fleet                   138 non-null    object \n",
      " 11  Trainer Aircraft Fleet value             138 non-null    int64  \n",
      " 12  Helicopter Fleet Strength                138 non-null    object \n",
      " 13  Helicopter Fleet Strength value          138 non-null    int64  \n",
      " 14  Attack Helicopter Fleet Strength         138 non-null    object \n",
      " 15  Attack Helicopter Fleet Strength value   138 non-null    int64  \n",
      " 16  Tank Strength                            138 non-null    object \n",
      " 17  Tank Strength value                      138 non-null    int64  \n",
      " 18  AFV/APC Strength                         138 non-null    object \n",
      " 19  AFV/APC Strength value                   138 non-null    int64  \n",
      " 20  Self-Propelled Artillery Strength        138 non-null    object \n",
      " 21  Self-Propelled Artillery Strength value  138 non-null    int64  \n",
      " 22  Towed Artillery Strength                 138 non-null    object \n",
      " 23  Towed Artillery Strength value           138 non-null    int64  \n",
      " 24  Rocket Projector Strength                138 non-null    object \n",
      " 25  Rocket Projector Strength value          138 non-null    int64  \n",
      " 26  Navy Fleet Strengths                     124 non-null    object \n",
      " 27  Navy Fleet Strengths value               124 non-null    float64\n",
      " 28  Aircraft Carrier Fleet Strength          115 non-null    object \n",
      " 29  Aircraft Carrier Fleet Strength value    115 non-null    float64\n",
      " 30  Submarine Fleet Strength                 115 non-null    object \n",
      " 31  Submarine Fleet Strength value           115 non-null    float64\n",
      " 32  Destroyer Fleet Strength                 115 non-null    object \n",
      " 33  Destroyer Fleet Strength value           115 non-null    float64\n",
      " 34  Frigate Fleet Strength                   115 non-null    object \n",
      " 35  Frigate Fleet Strength value             115 non-null    float64\n",
      " 36  defense spending budget                  138 non-null    object \n",
      " 37  defense spending budget value            138 non-null    object \n",
      " 38  External Debt                            138 non-null    object \n",
      " 39  External Debt value                      138 non-null    object \n",
      " 40  Airport Totals                           138 non-null    object \n",
      " 41  Airport Totals value                     138 non-null    int64  \n",
      " 42  Oil Production                           138 non-null    object \n",
      " 43  Oil Production value                     138 non-null    object \n",
      " 44  Oil Consumption                          138 non-null    object \n",
      " 45  Oil Consumption value                    138 non-null    object \n",
      " 46  Proven Oil Reserves                      138 non-null    object \n",
      " 47  Proven Oil Reserves value                138 non-null    object \n",
      " 48  Available Manpower                       138 non-null    object \n",
      " 49  Available Manpower value                 138 non-null    object \n",
      " 50  Total Population                         138 non-null    object \n",
      " 51  Total Population value                   138 non-null    object \n",
      " 52  Total Square Land Area                   138 non-null    object \n",
      " 53  Total Square Land Area value             138 non-null    object \n",
      " 54  Total Coastline Coverage                 109 non-null    object \n",
      " 55  Total Coastline Coverage value           109 non-null    object \n",
      " 56  Total Waterway Coverage                  138 non-null    object \n",
      " 57  Total Waterway Coverage value            138 non-null    object \n",
      " 58  Total Border Coverage                    129 non-null    object \n",
      " 59  Total Border Coverage value              129 non-null    float64\n",
      "dtypes: float64(7), int64(13), object(40)\n",
      "memory usage: 64.8+ KB\n"
     ]
    }
   ],
   "source": [
    "df.info()"
   ]
  },
  {
   "cell_type": "markdown",
   "id": "55b27e99-c73c-4c04-a1df-cc96fdb5be63",
   "metadata": {},
   "source": [
    "### Feature Engineering"
   ]
  },
  {
   "cell_type": "code",
   "execution_count": 7,
   "id": "6d067027-48ec-4e82-b150-80213d78951e",
   "metadata": {
    "scrolled": true
   },
   "outputs": [],
   "source": [
    "df=df.drop(0,axis=0)"
   ]
  },
  {
   "cell_type": "code",
   "execution_count": 8,
   "id": "6becb20c-9c53-48ba-9506-0bc3e2f08205",
   "metadata": {
    "scrolled": true
   },
   "outputs": [],
   "source": [
    "# Sayısal değerlere sahip sütunları belirleyin\n",
    "numeric_cols = []\n",
    "for col in df.columns:\n",
    "    try:\n",
    "        df[col] = df[col].astype(float)\n",
    "        numeric_cols.append(col)\n",
    "    except ValueError:\n",
    "        pass\n",
    "\n",
    "# Sayısal sütunları float veri tipine dönüştürün\n",
    "df[numeric_cols] = df[numeric_cols].astype(float)"
   ]
  },
  {
   "cell_type": "code",
   "execution_count": 9,
   "id": "9fad753b-b3e3-4636-8afc-1ae9154ccee3",
   "metadata": {},
   "outputs": [],
   "source": [
    "# Sayısal sütunları seçin\n",
    "numeric_cols = df.select_dtypes(include=['float64', 'int64']).columns\n",
    "\n",
    "# Sayısal sütunlardan oluşan bir alt dataframe oluşturun\n",
    "x = df[numeric_cols]"
   ]
  },
  {
   "cell_type": "code",
   "execution_count": 10,
   "id": "90b611f3-64e9-4fcc-9623-4a68256bcf87",
   "metadata": {},
   "outputs": [
    {
     "data": {
      "text/html": [
       "<div>\n",
       "<style scoped>\n",
       "    .dataframe tbody tr th:only-of-type {\n",
       "        vertical-align: middle;\n",
       "    }\n",
       "\n",
       "    .dataframe tbody tr th {\n",
       "        vertical-align: top;\n",
       "    }\n",
       "\n",
       "    .dataframe thead th {\n",
       "        text-align: right;\n",
       "    }\n",
       "</style>\n",
       "<table border=\"1\" class=\"dataframe\">\n",
       "  <thead>\n",
       "    <tr style=\"text-align: right;\">\n",
       "      <th></th>\n",
       "      <th>Military Strength Power Index</th>\n",
       "      <th>Aircraft Strength value</th>\n",
       "      <th>Fighter/Interceptor Strength value</th>\n",
       "      <th>Attack Aircraft Strength value</th>\n",
       "      <th>Transport Aircraft Fleet Strength value</th>\n",
       "      <th>Trainer Aircraft Fleet value</th>\n",
       "      <th>Helicopter Fleet Strength value</th>\n",
       "      <th>Attack Helicopter Fleet Strength value</th>\n",
       "      <th>Tank Strength value</th>\n",
       "      <th>AFV/APC Strength value</th>\n",
       "      <th>Self-Propelled Artillery Strength value</th>\n",
       "      <th>Towed Artillery Strength value</th>\n",
       "      <th>Rocket Projector Strength value</th>\n",
       "      <th>Navy Fleet Strengths value</th>\n",
       "      <th>Aircraft Carrier Fleet Strength value</th>\n",
       "      <th>Submarine Fleet Strength value</th>\n",
       "      <th>Destroyer Fleet Strength value</th>\n",
       "      <th>Frigate Fleet Strength value</th>\n",
       "      <th>Airport Totals value</th>\n",
       "      <th>Total Border Coverage value</th>\n",
       "    </tr>\n",
       "  </thead>\n",
       "  <tbody>\n",
       "    <tr>\n",
       "      <th>1</th>\n",
       "      <td>2.3137</td>\n",
       "      <td>19.0</td>\n",
       "      <td>0.0</td>\n",
       "      <td>0.0</td>\n",
       "      <td>0.0</td>\n",
       "      <td>0.0</td>\n",
       "      <td>19.0</td>\n",
       "      <td>0.0</td>\n",
       "      <td>0.0</td>\n",
       "      <td>467.0</td>\n",
       "      <td>0.0</td>\n",
       "      <td>0.0</td>\n",
       "      <td>0.0</td>\n",
       "      <td>38.0</td>\n",
       "      <td>0.0</td>\n",
       "      <td>0.0</td>\n",
       "      <td>0.0</td>\n",
       "      <td>0.0</td>\n",
       "      <td>4.0</td>\n",
       "      <td>691.0</td>\n",
       "    </tr>\n",
       "    <tr>\n",
       "      <th>2</th>\n",
       "      <td>0.4659</td>\n",
       "      <td>551.0</td>\n",
       "      <td>103.0</td>\n",
       "      <td>22.0</td>\n",
       "      <td>59.0</td>\n",
       "      <td>87.0</td>\n",
       "      <td>257.0</td>\n",
       "      <td>45.0</td>\n",
       "      <td>880.0</td>\n",
       "      <td>7361.0</td>\n",
       "      <td>320.0</td>\n",
       "      <td>240.0</td>\n",
       "      <td>316.0</td>\n",
       "      <td>201.0</td>\n",
       "      <td>0.0</td>\n",
       "      <td>6.0</td>\n",
       "      <td>0.0</td>\n",
       "      <td>5.0</td>\n",
       "      <td>157.0</td>\n",
       "      <td>6734.0</td>\n",
       "    </tr>\n",
       "    <tr>\n",
       "      <th>3</th>\n",
       "      <td>0.8379</td>\n",
       "      <td>295.0</td>\n",
       "      <td>72.0</td>\n",
       "      <td>18.0</td>\n",
       "      <td>30.0</td>\n",
       "      <td>47.0</td>\n",
       "      <td>126.0</td>\n",
       "      <td>15.0</td>\n",
       "      <td>379.0</td>\n",
       "      <td>595.0</td>\n",
       "      <td>28.0</td>\n",
       "      <td>357.0</td>\n",
       "      <td>115.0</td>\n",
       "      <td>57.0</td>\n",
       "      <td>0.0</td>\n",
       "      <td>0.0</td>\n",
       "      <td>0.0</td>\n",
       "      <td>0.0</td>\n",
       "      <td>176.0</td>\n",
       "      <td>5369.0</td>\n",
       "    </tr>\n",
       "    <tr>\n",
       "      <th>4</th>\n",
       "      <td>0.6521</td>\n",
       "      <td>227.0</td>\n",
       "      <td>24.0</td>\n",
       "      <td>7.0</td>\n",
       "      <td>9.0</td>\n",
       "      <td>64.0</td>\n",
       "      <td>100.0</td>\n",
       "      <td>0.0</td>\n",
       "      <td>370.0</td>\n",
       "      <td>739.0</td>\n",
       "      <td>83.0</td>\n",
       "      <td>172.0</td>\n",
       "      <td>26.0</td>\n",
       "      <td>49.0</td>\n",
       "      <td>0.0</td>\n",
       "      <td>2.0</td>\n",
       "      <td>4.0</td>\n",
       "      <td>0.0</td>\n",
       "      <td>1138.0</td>\n",
       "      <td>11968.0</td>\n",
       "    </tr>\n",
       "    <tr>\n",
       "      <th>5</th>\n",
       "      <td>2.1251</td>\n",
       "      <td>64.0</td>\n",
       "      <td>0.0</td>\n",
       "      <td>9.0</td>\n",
       "      <td>3.0</td>\n",
       "      <td>13.0</td>\n",
       "      <td>37.0</td>\n",
       "      <td>20.0</td>\n",
       "      <td>110.0</td>\n",
       "      <td>748.0</td>\n",
       "      <td>38.0</td>\n",
       "      <td>150.0</td>\n",
       "      <td>68.0</td>\n",
       "      <td>0.0</td>\n",
       "      <td>NaN</td>\n",
       "      <td>NaN</td>\n",
       "      <td>NaN</td>\n",
       "      <td>NaN</td>\n",
       "      <td>11.0</td>\n",
       "      <td>1570.0</td>\n",
       "    </tr>\n",
       "  </tbody>\n",
       "</table>\n",
       "</div>"
      ],
      "text/plain": [
       "   Military Strength Power Index  Aircraft Strength value  \\\n",
       "1                         2.3137                     19.0   \n",
       "2                         0.4659                    551.0   \n",
       "3                         0.8379                    295.0   \n",
       "4                         0.6521                    227.0   \n",
       "5                         2.1251                     64.0   \n",
       "\n",
       "   Fighter/Interceptor Strength value  Attack Aircraft Strength value  \\\n",
       "1                                 0.0                             0.0   \n",
       "2                               103.0                            22.0   \n",
       "3                                72.0                            18.0   \n",
       "4                                24.0                             7.0   \n",
       "5                                 0.0                             9.0   \n",
       "\n",
       "   Transport Aircraft Fleet Strength value  Trainer Aircraft Fleet value  \\\n",
       "1                                      0.0                           0.0   \n",
       "2                                     59.0                          87.0   \n",
       "3                                     30.0                          47.0   \n",
       "4                                      9.0                          64.0   \n",
       "5                                      3.0                          13.0   \n",
       "\n",
       "   Helicopter Fleet Strength value  Attack Helicopter Fleet Strength value  \\\n",
       "1                             19.0                                     0.0   \n",
       "2                            257.0                                    45.0   \n",
       "3                            126.0                                    15.0   \n",
       "4                            100.0                                     0.0   \n",
       "5                             37.0                                    20.0   \n",
       "\n",
       "   Tank Strength value  AFV/APC Strength value  \\\n",
       "1                  0.0                   467.0   \n",
       "2                880.0                  7361.0   \n",
       "3                379.0                   595.0   \n",
       "4                370.0                   739.0   \n",
       "5                110.0                   748.0   \n",
       "\n",
       "   Self-Propelled Artillery Strength value  Towed Artillery Strength value  \\\n",
       "1                                      0.0                             0.0   \n",
       "2                                    320.0                           240.0   \n",
       "3                                     28.0                           357.0   \n",
       "4                                     83.0                           172.0   \n",
       "5                                     38.0                           150.0   \n",
       "\n",
       "   Rocket Projector Strength value  Navy Fleet Strengths value  \\\n",
       "1                              0.0                        38.0   \n",
       "2                            316.0                       201.0   \n",
       "3                            115.0                        57.0   \n",
       "4                             26.0                        49.0   \n",
       "5                             68.0                         0.0   \n",
       "\n",
       "   Aircraft Carrier Fleet Strength value  Submarine Fleet Strength value  \\\n",
       "1                                    0.0                             0.0   \n",
       "2                                    0.0                             6.0   \n",
       "3                                    0.0                             0.0   \n",
       "4                                    0.0                             2.0   \n",
       "5                                    NaN                             NaN   \n",
       "\n",
       "   Destroyer Fleet Strength value  Frigate Fleet Strength value  \\\n",
       "1                             0.0                           0.0   \n",
       "2                             0.0                           5.0   \n",
       "3                             0.0                           0.0   \n",
       "4                             4.0                           0.0   \n",
       "5                             NaN                           NaN   \n",
       "\n",
       "   Airport Totals value  Total Border Coverage value  \n",
       "1                   4.0                        691.0  \n",
       "2                 157.0                       6734.0  \n",
       "3                 176.0                       5369.0  \n",
       "4                1138.0                      11968.0  \n",
       "5                  11.0                       1570.0  "
      ]
     },
     "execution_count": 10,
     "metadata": {},
     "output_type": "execute_result"
    }
   ],
   "source": [
    "x.head()"
   ]
  },
  {
   "cell_type": "code",
   "execution_count": 11,
   "id": "dcfcb5f8-276b-4df0-bd93-749738c9463d",
   "metadata": {},
   "outputs": [
    {
     "data": {
      "text/plain": [
       "Military Strength Power Index               0\n",
       "Aircraft Strength value                     0\n",
       "Fighter/Interceptor Strength value          0\n",
       "Attack Aircraft Strength value              0\n",
       "Transport Aircraft Fleet Strength value     0\n",
       "Trainer Aircraft Fleet value                0\n",
       "Helicopter Fleet Strength value             0\n",
       "Attack Helicopter Fleet Strength value      0\n",
       "Tank Strength value                         0\n",
       "AFV/APC Strength value                      0\n",
       "Self-Propelled Artillery Strength value     0\n",
       "Towed Artillery Strength value              0\n",
       "Rocket Projector Strength value             0\n",
       "Navy Fleet Strengths value                 14\n",
       "Aircraft Carrier Fleet Strength value      23\n",
       "Submarine Fleet Strength value             23\n",
       "Destroyer Fleet Strength value             23\n",
       "Frigate Fleet Strength value               23\n",
       "Airport Totals value                        0\n",
       "Total Border Coverage value                 9\n",
       "dtype: int64"
      ]
     },
     "execution_count": 11,
     "metadata": {},
     "output_type": "execute_result"
    }
   ],
   "source": [
    "x.isnull().sum()"
   ]
  },
  {
   "cell_type": "code",
   "execution_count": 12,
   "id": "81afb676-def9-4727-9d1b-1f53009e80bb",
   "metadata": {},
   "outputs": [],
   "source": [
    "x[\"Navy Fleet Strengths value\"].fillna(x[\"Navy Fleet Strengths value\"].mean(),inplace=True)"
   ]
  },
  {
   "cell_type": "code",
   "execution_count": 13,
   "id": "7c4bc6dd-1dbc-4f10-8f70-53b53fd513ba",
   "metadata": {},
   "outputs": [],
   "source": [
    "x[\"Aircraft Carrier Fleet Strength value\"].fillna(x[\"Aircraft Carrier Fleet Strength value\"].mean(),inplace=True)"
   ]
  },
  {
   "cell_type": "code",
   "execution_count": 14,
   "id": "9ad816d4-ab38-4a75-9c62-9fd93bbdc7cf",
   "metadata": {},
   "outputs": [],
   "source": [
    "x[\"Submarine Fleet Strength value\"].fillna(x[\"Submarine Fleet Strength value\"].mean(),inplace=True)"
   ]
  },
  {
   "cell_type": "code",
   "execution_count": 15,
   "id": "587ab607-d3df-45f7-9e03-0611b1fc6885",
   "metadata": {},
   "outputs": [],
   "source": [
    "x[\"Destroyer Fleet Strength value\"].fillna(x[\"Destroyer Fleet Strength value\"].mean(),inplace=True)"
   ]
  },
  {
   "cell_type": "code",
   "execution_count": 16,
   "id": "6923577a-af4a-44a6-b5ff-0dc097cbad2d",
   "metadata": {},
   "outputs": [],
   "source": [
    "x[\"Frigate Fleet Strength value\"].fillna(x[\"Frigate Fleet Strength value\"].mean(),inplace=True)"
   ]
  },
  {
   "cell_type": "code",
   "execution_count": 17,
   "id": "03bb1124-f247-4d17-b8fe-13741ccbc25a",
   "metadata": {},
   "outputs": [],
   "source": [
    "x[\"Total Border Coverage value\"].fillna(x[\"Total Border Coverage value\"].mean(),inplace=True)"
   ]
  },
  {
   "cell_type": "markdown",
   "id": "243b5031-c682-486a-8b62-19008e84d4cf",
   "metadata": {},
   "source": [
    "### Modelling"
   ]
  },
  {
   "cell_type": "code",
   "execution_count": 18,
   "id": "631818c9-4c15-43d7-a869-38847dbc9c05",
   "metadata": {},
   "outputs": [],
   "source": [
    "from sklearn.cluster import KMeans\n",
    "from sklearn.metrics import silhouette_score"
   ]
  },
  {
   "cell_type": "code",
   "execution_count": 19,
   "id": "d2ebf285-8b86-44f0-9ad5-7144d56b455c",
   "metadata": {},
   "outputs": [],
   "source": [
    "model=KMeans(5,random_state=42)"
   ]
  },
  {
   "cell_type": "code",
   "execution_count": 20,
   "id": "8314cb6c-660d-482f-a880-e0b5de8f5924",
   "metadata": {},
   "outputs": [],
   "source": [
    "model=model.fit(x)"
   ]
  },
  {
   "cell_type": "code",
   "execution_count": 21,
   "id": "b59060ec-00a2-45b3-8bdf-42b38e9b28da",
   "metadata": {},
   "outputs": [],
   "source": [
    "tahmin=model.predict(x)"
   ]
  },
  {
   "cell_type": "code",
   "execution_count": 22,
   "id": "0a0b774f-b192-40b2-9864-1b18f67fb0a3",
   "metadata": {},
   "outputs": [
    {
     "data": {
      "text/plain": [
       "array([2, 0, 3, 3, 2, 3, 2, 2, 3, 3, 2, 2, 2, 3, 2, 3, 3, 2, 2, 2, 3, 3,\n",
       "       3, 3, 3, 1, 3, 2, 2, 2, 3, 2, 2, 2, 0, 2, 2, 3, 2, 0, 2, 2, 2, 2,\n",
       "       2, 2, 2, 2, 0, 2, 3, 2, 2, 0, 0, 2, 3, 2, 3, 2, 2, 3, 3, 2, 2, 2,\n",
       "       3, 2, 3, 2, 3, 3, 3, 2, 3, 2, 2, 3, 3, 3, 2, 2, 3, 2, 3, 3, 0, 2,\n",
       "       2, 2, 0, 2, 3, 3, 3, 2, 2, 2, 3, 2, 1, 0, 2, 2, 3, 2, 2, 2, 3, 0,\n",
       "       3, 2, 3, 3, 2, 2, 2, 0, 3, 3, 3, 3, 2, 0, 3, 2, 0, 0, 2, 4, 2, 3,\n",
       "       3, 3, 2, 3, 2])"
      ]
     },
     "execution_count": 22,
     "metadata": {},
     "output_type": "execute_result"
    }
   ],
   "source": [
    "tahmin"
   ]
  },
  {
   "cell_type": "code",
   "execution_count": 23,
   "id": "02b343f9-f479-4f8c-99f8-cf52759aea2e",
   "metadata": {},
   "outputs": [],
   "source": [
    "x[\"cluster\"]=tahmin"
   ]
  },
  {
   "cell_type": "code",
   "execution_count": null,
   "id": "bf65f654-9e9f-4d85-9a0e-7509e5715741",
   "metadata": {},
   "outputs": [],
   "source": []
  },
  {
   "cell_type": "code",
   "execution_count": 24,
   "id": "cfd856e9-8c2b-4d2d-97e3-c11dc2e80987",
   "metadata": {},
   "outputs": [
    {
     "data": {
      "text/plain": [
       "0.42128406198301055"
      ]
     },
     "execution_count": 24,
     "metadata": {},
     "output_type": "execute_result"
    }
   ],
   "source": [
    "silhouette_score(x,tahmin)"
   ]
  },
  {
   "cell_type": "code",
   "execution_count": null,
   "id": "f821a8fd-9176-42c9-9571-bfd7a8fbf7ba",
   "metadata": {},
   "outputs": [],
   "source": []
  },
  {
   "cell_type": "code",
   "execution_count": 25,
   "id": "dc4f1c4f-cc8d-4985-888b-44bc59b5c114",
   "metadata": {},
   "outputs": [],
   "source": [
    "import matplotlib.pyplot as plt"
   ]
  },
  {
   "cell_type": "code",
   "execution_count": 26,
   "id": "94eae01c-4994-4d83-a756-dac2454a4476",
   "metadata": {},
   "outputs": [
    {
     "data": {
      "text/plain": [
       "<matplotlib.colorbar.Colorbar at 0x1d65b446de0>"
      ]
     },
     "execution_count": 26,
     "metadata": {},
     "output_type": "execute_result"
    },
    {
     "data": {
      "image/png": "[encoded data removed]",
      "text/plain": [
       "<Figure size 500x1000 with 2 Axes>"
      ]
     },
     "metadata": {},
     "output_type": "display_data"
    }
   ],
   "source": [
    "plt.figure(figsize=(5,10))\n",
    "plt.scatter(x[\"cluster\"],x[\"Tank Strength value\"], c=tahmin)\n",
    "plt.colorbar()"
   ]
  },
  {
   "cell_type": "code",
   "execution_count": 27,
   "id": "0ee3e208-5849-4e89-b852-8fc1d2f1a1d2",
   "metadata": {},
   "outputs": [
    {
     "name": "stdout",
     "output_type": "stream",
     "text": [
      "0.8663043665110419\n",
      "0.611320132206531\n",
      "0.4636748561375797\n",
      "0.43818898266913914\n",
      "0.4357019894315677\n",
      "0.4213631808254827\n",
      "0.4536260603699217\n",
      "0.39482109150199085\n"
     ]
    }
   ],
   "source": [
    "#wcss= within cluster sum of squares\n",
    "wcss=[]\n",
    "ss=[]\n",
    "for i in range (2,10):\n",
    "    model=KMeans(i)\n",
    "    model=model.fit(x)\n",
    "    tahmin=model.predict(x)\n",
    "    ss1=silhouette_score(x,tahmin)\n",
    "    ss.append(ss1)\n",
    "    print(ss1)\n",
    "    wcss.append(model.inertia_)"
   ]
  },
  {
   "cell_type": "code",
   "execution_count": 28,
   "id": "185c9733-8220-4178-9563-967d98d13fd4",
   "metadata": {},
   "outputs": [
    {
     "data": {
      "text/plain": [
       "[<matplotlib.lines.Line2D at 0x1d65b4fcbf0>]"
      ]
     },
     "execution_count": 28,
     "metadata": {},
     "output_type": "execute_result"
    },
    {
     "data": {
      "image/png": "[encoded data removed]",
      "text/plain": [
       "<Figure size 640x480 with 1 Axes>"
      ]
     },
     "metadata": {},
     "output_type": "display_data"
    }
   ],
   "source": [
    "plt.plot(range(2,10),wcss)"
   ]
  },
  {
   "cell_type": "code",
   "execution_count": 29,
   "id": "d70a9dc2-6107-4bbf-b1eb-4fa5f571910b",
   "metadata": {},
   "outputs": [],
   "source": [
    "from yellowbrick.cluster import KElbowVisualizer"
   ]
  },
  {
   "cell_type": "code",
   "execution_count": 30,
   "id": "9eb87bd9-25a9-474e-a665-d018f47a5452",
   "metadata": {},
   "outputs": [
    {
     "data": {
      "image/png": "[encoded data removed]",
      "text/plain": [
       "<Figure size 800x550 with 2 Axes>"
      ]
     },
     "metadata": {},
     "output_type": "display_data"
    },
    {
     "data": {
      "text/plain": [
       "<Axes: title={'center': 'Distortion Score Elbow for KMeans Clustering'}, xlabel='k', ylabel='distortion score'>"
      ]
     },
     "execution_count": 30,
     "metadata": {},
     "output_type": "execute_result"
    }
   ],
   "source": [
    "km=KMeans()\n",
    "vis=KElbowVisualizer(km,k=(2,10))\n",
    "vis.fit(x)\n",
    "vis.show()"
   ]
  },
  {
   "cell_type": "code",
   "execution_count": 31,
   "id": "448789d7-bac5-4e1b-bd9c-d0054b3b4f3f",
   "metadata": {},
   "outputs": [],
   "source": [
    "from scipy.cluster.hierarchy import dendrogram, linkage"
   ]
  },
  {
   "cell_type": "code",
   "execution_count": 32,
   "id": "3d3f6e92-ecb5-4443-a4f1-ac79417aacb0",
   "metadata": {},
   "outputs": [],
   "source": [
    "data=linkage(x,method=\"ward\", metric=\"euclidean\")"
   ]
  },
  {
   "cell_type": "code",
   "execution_count": 33,
   "id": "701168e5-f99b-4699-aa0f-6f0bb4c18df3",
   "metadata": {},
   "outputs": [
    {
     "data": {
      "image/png": "[encoded data removed]",
      "text/plain": [
       "<Figure size 2500x600 with 1 Axes>"
      ]
     },
     "metadata": {},
     "output_type": "display_data"
    }
   ],
   "source": [
    "plt.figure(figsize=(25,6))\n",
    "dendrogram(data);"
   ]
  },
  {
   "cell_type": "code",
   "execution_count": null,
   "id": "75879688-3e77-462f-9e4d-94d750636772",
   "metadata": {},
   "outputs": [],
   "source": []
  },
  {
   "cell_type": "code",
   "execution_count": 34,
   "id": "297f1138-6bac-4bd5-be18-7cacb8d0a895",
   "metadata": {},
   "outputs": [],
   "source": [
    "x[\"Country\"]=df[\"Military Strength\"]"
   ]
  },
  {
   "cell_type": "code",
   "execution_count": 35,
   "id": "46d89ee1-0bf8-4603-bf17-37c182de3a36",
   "metadata": {},
   "outputs": [
    {
     "data": {
      "text/html": [
       "<div>\n",
       "<style scoped>\n",
       "    .dataframe tbody tr th:only-of-type {\n",
       "        vertical-align: middle;\n",
       "    }\n",
       "\n",
       "    .dataframe tbody tr th {\n",
       "        vertical-align: top;\n",
       "    }\n",
       "\n",
       "    .dataframe thead th {\n",
       "        text-align: right;\n",
       "    }\n",
       "</style>\n",
       "<table border=\"1\" class=\"dataframe\">\n",
       "  <thead>\n",
       "    <tr style=\"text-align: right;\">\n",
       "      <th></th>\n",
       "      <th>Military Strength Power Index</th>\n",
       "      <th>Aircraft Strength value</th>\n",
       "      <th>Fighter/Interceptor Strength value</th>\n",
       "      <th>Attack Aircraft Strength value</th>\n",
       "      <th>Transport Aircraft Fleet Strength value</th>\n",
       "      <th>Trainer Aircraft Fleet value</th>\n",
       "      <th>Helicopter Fleet Strength value</th>\n",
       "      <th>Attack Helicopter Fleet Strength value</th>\n",
       "      <th>Tank Strength value</th>\n",
       "      <th>AFV/APC Strength value</th>\n",
       "      <th>...</th>\n",
       "      <th>Rocket Projector Strength value</th>\n",
       "      <th>Navy Fleet Strengths value</th>\n",
       "      <th>Aircraft Carrier Fleet Strength value</th>\n",
       "      <th>Submarine Fleet Strength value</th>\n",
       "      <th>Destroyer Fleet Strength value</th>\n",
       "      <th>Frigate Fleet Strength value</th>\n",
       "      <th>Airport Totals value</th>\n",
       "      <th>Total Border Coverage value</th>\n",
       "      <th>cluster</th>\n",
       "      <th>Country</th>\n",
       "    </tr>\n",
       "  </thead>\n",
       "  <tbody>\n",
       "    <tr>\n",
       "      <th>1</th>\n",
       "      <td>2.3137</td>\n",
       "      <td>19.0</td>\n",
       "      <td>0.0</td>\n",
       "      <td>0.0</td>\n",
       "      <td>0.0</td>\n",
       "      <td>0.0</td>\n",
       "      <td>19.0</td>\n",
       "      <td>0.0</td>\n",
       "      <td>0.0</td>\n",
       "      <td>467.0</td>\n",
       "      <td>...</td>\n",
       "      <td>0.0</td>\n",
       "      <td>38.0</td>\n",
       "      <td>0.000000</td>\n",
       "      <td>0.000000</td>\n",
       "      <td>0.000000</td>\n",
       "      <td>0.000000</td>\n",
       "      <td>4.0</td>\n",
       "      <td>691.0</td>\n",
       "      <td>2</td>\n",
       "      <td>Albania</td>\n",
       "    </tr>\n",
       "    <tr>\n",
       "      <th>2</th>\n",
       "      <td>0.4659</td>\n",
       "      <td>551.0</td>\n",
       "      <td>103.0</td>\n",
       "      <td>22.0</td>\n",
       "      <td>59.0</td>\n",
       "      <td>87.0</td>\n",
       "      <td>257.0</td>\n",
       "      <td>45.0</td>\n",
       "      <td>880.0</td>\n",
       "      <td>7361.0</td>\n",
       "      <td>...</td>\n",
       "      <td>316.0</td>\n",
       "      <td>201.0</td>\n",
       "      <td>0.000000</td>\n",
       "      <td>6.000000</td>\n",
       "      <td>0.000000</td>\n",
       "      <td>5.000000</td>\n",
       "      <td>157.0</td>\n",
       "      <td>6734.0</td>\n",
       "      <td>0</td>\n",
       "      <td>Algeria</td>\n",
       "    </tr>\n",
       "    <tr>\n",
       "      <th>3</th>\n",
       "      <td>0.8379</td>\n",
       "      <td>295.0</td>\n",
       "      <td>72.0</td>\n",
       "      <td>18.0</td>\n",
       "      <td>30.0</td>\n",
       "      <td>47.0</td>\n",
       "      <td>126.0</td>\n",
       "      <td>15.0</td>\n",
       "      <td>379.0</td>\n",
       "      <td>595.0</td>\n",
       "      <td>...</td>\n",
       "      <td>115.0</td>\n",
       "      <td>57.0</td>\n",
       "      <td>0.000000</td>\n",
       "      <td>0.000000</td>\n",
       "      <td>0.000000</td>\n",
       "      <td>0.000000</td>\n",
       "      <td>176.0</td>\n",
       "      <td>5369.0</td>\n",
       "      <td>3</td>\n",
       "      <td>Angola</td>\n",
       "    </tr>\n",
       "    <tr>\n",
       "      <th>4</th>\n",
       "      <td>0.6521</td>\n",
       "      <td>227.0</td>\n",
       "      <td>24.0</td>\n",
       "      <td>7.0</td>\n",
       "      <td>9.0</td>\n",
       "      <td>64.0</td>\n",
       "      <td>100.0</td>\n",
       "      <td>0.0</td>\n",
       "      <td>370.0</td>\n",
       "      <td>739.0</td>\n",
       "      <td>...</td>\n",
       "      <td>26.0</td>\n",
       "      <td>49.0</td>\n",
       "      <td>0.000000</td>\n",
       "      <td>2.000000</td>\n",
       "      <td>4.000000</td>\n",
       "      <td>0.000000</td>\n",
       "      <td>1138.0</td>\n",
       "      <td>11968.0</td>\n",
       "      <td>3</td>\n",
       "      <td>Argentina</td>\n",
       "    </tr>\n",
       "    <tr>\n",
       "      <th>5</th>\n",
       "      <td>2.1251</td>\n",
       "      <td>64.0</td>\n",
       "      <td>0.0</td>\n",
       "      <td>9.0</td>\n",
       "      <td>3.0</td>\n",
       "      <td>13.0</td>\n",
       "      <td>37.0</td>\n",
       "      <td>20.0</td>\n",
       "      <td>110.0</td>\n",
       "      <td>748.0</td>\n",
       "      <td>...</td>\n",
       "      <td>68.0</td>\n",
       "      <td>0.0</td>\n",
       "      <td>0.385965</td>\n",
       "      <td>4.842105</td>\n",
       "      <td>2.070175</td>\n",
       "      <td>3.552632</td>\n",
       "      <td>11.0</td>\n",
       "      <td>1570.0</td>\n",
       "      <td>2</td>\n",
       "      <td>Armenia</td>\n",
       "    </tr>\n",
       "    <tr>\n",
       "      <th>...</th>\n",
       "      <td>...</td>\n",
       "      <td>...</td>\n",
       "      <td>...</td>\n",
       "      <td>...</td>\n",
       "      <td>...</td>\n",
       "      <td>...</td>\n",
       "      <td>...</td>\n",
       "      <td>...</td>\n",
       "      <td>...</td>\n",
       "      <td>...</td>\n",
       "      <td>...</td>\n",
       "      <td>...</td>\n",
       "      <td>...</td>\n",
       "      <td>...</td>\n",
       "      <td>...</td>\n",
       "      <td>...</td>\n",
       "      <td>...</td>\n",
       "      <td>...</td>\n",
       "      <td>...</td>\n",
       "      <td>...</td>\n",
       "      <td>...</td>\n",
       "    </tr>\n",
       "    <tr>\n",
       "      <th>133</th>\n",
       "      <td>0.6449</td>\n",
       "      <td>260.0</td>\n",
       "      <td>38.0</td>\n",
       "      <td>0.0</td>\n",
       "      <td>52.0</td>\n",
       "      <td>82.0</td>\n",
       "      <td>86.0</td>\n",
       "      <td>10.0</td>\n",
       "      <td>390.0</td>\n",
       "      <td>600.0</td>\n",
       "      <td>...</td>\n",
       "      <td>36.0</td>\n",
       "      <td>49.0</td>\n",
       "      <td>0.000000</td>\n",
       "      <td>2.000000</td>\n",
       "      <td>0.000000</td>\n",
       "      <td>4.000000</td>\n",
       "      <td>444.0</td>\n",
       "      <td>5267.0</td>\n",
       "      <td>3</td>\n",
       "      <td>Venezuela</td>\n",
       "    </tr>\n",
       "    <tr>\n",
       "      <th>134</th>\n",
       "      <td>0.3559</td>\n",
       "      <td>293.0</td>\n",
       "      <td>77.0</td>\n",
       "      <td>0.0</td>\n",
       "      <td>38.0</td>\n",
       "      <td>36.0</td>\n",
       "      <td>138.0</td>\n",
       "      <td>25.0</td>\n",
       "      <td>2615.0</td>\n",
       "      <td>2530.0</td>\n",
       "      <td>...</td>\n",
       "      <td>85.0</td>\n",
       "      <td>65.0</td>\n",
       "      <td>0.000000</td>\n",
       "      <td>6.000000</td>\n",
       "      <td>0.000000</td>\n",
       "      <td>9.000000</td>\n",
       "      <td>45.0</td>\n",
       "      <td>4616.0</td>\n",
       "      <td>3</td>\n",
       "      <td>Vietnam</td>\n",
       "    </tr>\n",
       "    <tr>\n",
       "      <th>135</th>\n",
       "      <td>1.2412</td>\n",
       "      <td>169.0</td>\n",
       "      <td>77.0</td>\n",
       "      <td>0.0</td>\n",
       "      <td>8.0</td>\n",
       "      <td>21.0</td>\n",
       "      <td>61.0</td>\n",
       "      <td>14.0</td>\n",
       "      <td>620.0</td>\n",
       "      <td>615.0</td>\n",
       "      <td>...</td>\n",
       "      <td>150.0</td>\n",
       "      <td>30.0</td>\n",
       "      <td>0.000000</td>\n",
       "      <td>0.000000</td>\n",
       "      <td>0.000000</td>\n",
       "      <td>0.000000</td>\n",
       "      <td>57.0</td>\n",
       "      <td>1601.0</td>\n",
       "      <td>2</td>\n",
       "      <td>Yemen</td>\n",
       "    </tr>\n",
       "    <tr>\n",
       "      <th>136</th>\n",
       "      <td>1.6464</td>\n",
       "      <td>108.0</td>\n",
       "      <td>18.0</td>\n",
       "      <td>0.0</td>\n",
       "      <td>11.0</td>\n",
       "      <td>52.0</td>\n",
       "      <td>27.0</td>\n",
       "      <td>0.0</td>\n",
       "      <td>75.0</td>\n",
       "      <td>184.0</td>\n",
       "      <td>...</td>\n",
       "      <td>50.0</td>\n",
       "      <td>0.0</td>\n",
       "      <td>0.000000</td>\n",
       "      <td>0.000000</td>\n",
       "      <td>0.000000</td>\n",
       "      <td>0.000000</td>\n",
       "      <td>88.0</td>\n",
       "      <td>6043.0</td>\n",
       "      <td>3</td>\n",
       "      <td>Zambia</td>\n",
       "    </tr>\n",
       "    <tr>\n",
       "      <th>137</th>\n",
       "      <td>1.7577</td>\n",
       "      <td>90.0</td>\n",
       "      <td>10.0</td>\n",
       "      <td>0.0</td>\n",
       "      <td>14.0</td>\n",
       "      <td>38.0</td>\n",
       "      <td>28.0</td>\n",
       "      <td>6.0</td>\n",
       "      <td>42.0</td>\n",
       "      <td>300.0</td>\n",
       "      <td>...</td>\n",
       "      <td>22.0</td>\n",
       "      <td>0.0</td>\n",
       "      <td>0.000000</td>\n",
       "      <td>0.000000</td>\n",
       "      <td>0.000000</td>\n",
       "      <td>0.000000</td>\n",
       "      <td>196.0</td>\n",
       "      <td>3229.0</td>\n",
       "      <td>2</td>\n",
       "      <td>Zimbabwe</td>\n",
       "    </tr>\n",
       "  </tbody>\n",
       "</table>\n",
       "<p>137 rows × 22 columns</p>\n",
       "</div>"
      ],
      "text/plain": [
       "     Military Strength Power Index  Aircraft Strength value  \\\n",
       "1                           2.3137                     19.0   \n",
       "2                           0.4659                    551.0   \n",
       "3                           0.8379                    295.0   \n",
       "4                           0.6521                    227.0   \n",
       "5                           2.1251                     64.0   \n",
       "..                             ...                      ...   \n",
       "133                         0.6449                    260.0   \n",
       "134                         0.3559                    293.0   \n",
       "135                         1.2412                    169.0   \n",
       "136                         1.6464                    108.0   \n",
       "137                         1.7577                     90.0   \n",
       "\n",
       "     Fighter/Interceptor Strength value  Attack Aircraft Strength value  \\\n",
       "1                                   0.0                             0.0   \n",
       "2                                 103.0                            22.0   \n",
       "3                                  72.0                            18.0   \n",
       "4                                  24.0                             7.0   \n",
       "5                                   0.0                             9.0   \n",
       "..                                  ...                             ...   \n",
       "133                                38.0                             0.0   \n",
       "134                                77.0                             0.0   \n",
       "135                                77.0                             0.0   \n",
       "136                                18.0                             0.0   \n",
       "137                                10.0                             0.0   \n",
       "\n",
       "     Transport Aircraft Fleet Strength value  Trainer Aircraft Fleet value  \\\n",
       "1                                        0.0                           0.0   \n",
       "2                                       59.0                          87.0   \n",
       "3                                       30.0                          47.0   \n",
       "4                                        9.0                          64.0   \n",
       "5                                        3.0                          13.0   \n",
       "..                                       ...                           ...   \n",
       "133                                     52.0                          82.0   \n",
       "134                                     38.0                          36.0   \n",
       "135                                      8.0                          21.0   \n",
       "136                                     11.0                          52.0   \n",
       "137                                     14.0                          38.0   \n",
       "\n",
       "     Helicopter Fleet Strength value  Attack Helicopter Fleet Strength value  \\\n",
       "1                               19.0                                     0.0   \n",
       "2                              257.0                                    45.0   \n",
       "3                              126.0                                    15.0   \n",
       "4                              100.0                                     0.0   \n",
       "5                               37.0                                    20.0   \n",
       "..                               ...                                     ...   \n",
       "133                             86.0                                    10.0   \n",
       "134                            138.0                                    25.0   \n",
       "135                             61.0                                    14.0   \n",
       "136                             27.0                                     0.0   \n",
       "137                             28.0                                     6.0   \n",
       "\n",
       "     Tank Strength value  AFV/APC Strength value  ...  \\\n",
       "1                    0.0                   467.0  ...   \n",
       "2                  880.0                  7361.0  ...   \n",
       "3                  379.0                   595.0  ...   \n",
       "4                  370.0                   739.0  ...   \n",
       "5                  110.0                   748.0  ...   \n",
       "..                   ...                     ...  ...   \n",
       "133                390.0                   600.0  ...   \n",
       "134               2615.0                  2530.0  ...   \n",
       "135                620.0                   615.0  ...   \n",
       "136                 75.0                   184.0  ...   \n",
       "137                 42.0                   300.0  ...   \n",
       "\n",
       "     Rocket Projector Strength value  Navy Fleet Strengths value  \\\n",
       "1                                0.0                        38.0   \n",
       "2                              316.0                       201.0   \n",
       "3                              115.0                        57.0   \n",
       "4                               26.0                        49.0   \n",
       "5                               68.0                         0.0   \n",
       "..                               ...                         ...   \n",
       "133                             36.0                        49.0   \n",
       "134                             85.0                        65.0   \n",
       "135                            150.0                        30.0   \n",
       "136                             50.0                         0.0   \n",
       "137                             22.0                         0.0   \n",
       "\n",
       "     Aircraft Carrier Fleet Strength value  Submarine Fleet Strength value  \\\n",
       "1                                 0.000000                        0.000000   \n",
       "2                                 0.000000                        6.000000   \n",
       "3                                 0.000000                        0.000000   \n",
       "4                                 0.000000                        2.000000   \n",
       "5                                 0.385965                        4.842105   \n",
       "..                                     ...                             ...   \n",
       "133                               0.000000                        2.000000   \n",
       "134                               0.000000                        6.000000   \n",
       "135                               0.000000                        0.000000   \n",
       "136                               0.000000                        0.000000   \n",
       "137                               0.000000                        0.000000   \n",
       "\n",
       "     Destroyer Fleet Strength value  Frigate Fleet Strength value  \\\n",
       "1                          0.000000                      0.000000   \n",
       "2                          0.000000                      5.000000   \n",
       "3                          0.000000                      0.000000   \n",
       "4                          4.000000                      0.000000   \n",
       "5                          2.070175                      3.552632   \n",
       "..                              ...                           ...   \n",
       "133                        0.000000                      4.000000   \n",
       "134                        0.000000                      9.000000   \n",
       "135                        0.000000                      0.000000   \n",
       "136                        0.000000                      0.000000   \n",
       "137                        0.000000                      0.000000   \n",
       "\n",
       "     Airport Totals value  Total Border Coverage value  cluster    Country  \n",
       "1                     4.0                        691.0        2    Albania  \n",
       "2                   157.0                       6734.0        0    Algeria  \n",
       "3                   176.0                       5369.0        3     Angola  \n",
       "4                  1138.0                      11968.0        3  Argentina  \n",
       "5                    11.0                       1570.0        2    Armenia  \n",
       "..                    ...                          ...      ...        ...  \n",
       "133                 444.0                       5267.0        3  Venezuela  \n",
       "134                  45.0                       4616.0        3    Vietnam  \n",
       "135                  57.0                       1601.0        2      Yemen  \n",
       "136                  88.0                       6043.0        3     Zambia  \n",
       "137                 196.0                       3229.0        2   Zimbabwe  \n",
       "\n",
       "[137 rows x 22 columns]"
      ]
     },
     "execution_count": 35,
     "metadata": {},
     "output_type": "execute_result"
    }
   ],
   "source": [
    "x"
   ]
  },
  {
   "cell_type": "markdown",
   "id": "952b2248-dad3-4fbe-b709-d443eedb9c75",
   "metadata": {},
   "source": [
    "### Results"
   ]
  },
  {
   "cell_type": "code",
   "execution_count": 36,
   "id": "5e886617-0612-4b54-bdcf-9deeba191eea",
   "metadata": {},
   "outputs": [
    {
     "data": {
      "text/plain": [
       "array([2, 0, 3, 1, 4])"
      ]
     },
     "execution_count": 36,
     "metadata": {},
     "output_type": "execute_result"
    }
   ],
   "source": [
    "x[\"cluster\"].unique()"
   ]
  },
  {
   "cell_type": "code",
   "execution_count": 37,
   "id": "8855912d-89a4-40b4-98e1-8e4d642a4de4",
   "metadata": {},
   "outputs": [],
   "source": [
    "birinci_grup = x[x['cluster'] == 0]['Country']"
   ]
  },
  {
   "cell_type": "code",
   "execution_count": 38,
   "id": "c633fe67-7392-4e60-ba25-e3aab4e69e5a",
   "metadata": {},
   "outputs": [
    {
     "data": {
      "text/plain": [
       "2                   Algeria\n",
       "35                    Egypt\n",
       "40                   France\n",
       "49                    India\n",
       "54                   Israel\n",
       "55                    Italy\n",
       "87              North Korea\n",
       "91                 Pakistan\n",
       "102            Saudi Arabia\n",
       "110             South Korea\n",
       "118                   Syria\n",
       "124                  Turkey\n",
       "127                 Ukraine\n",
       "128    United Arab Emirates\n",
       "Name: Country, dtype: object"
      ]
     },
     "execution_count": 38,
     "metadata": {},
     "output_type": "execute_result"
    }
   ],
   "source": [
    "birinci_grup"
   ]
  },
  {
   "cell_type": "code",
   "execution_count": 39,
   "id": "867c8b60-62b1-46dc-82e4-bc97d6302f7c",
   "metadata": {},
   "outputs": [],
   "source": [
    "ikinci_grup = x[x['cluster'] == 1]['Country']"
   ]
  },
  {
   "cell_type": "code",
   "execution_count": 40,
   "id": "a02682aa-f20e-4198-b149-53ecef258aba",
   "metadata": {},
   "outputs": [
    {
     "data": {
      "text/plain": [
       "26      China\n",
       "101    Russia\n",
       "Name: Country, dtype: object"
      ]
     },
     "execution_count": 40,
     "metadata": {},
     "output_type": "execute_result"
    }
   ],
   "source": [
    "ikinci_grup"
   ]
  },
  {
   "cell_type": "code",
   "execution_count": 41,
   "id": "34644ba4-3f11-44cd-8d96-857f48933f0e",
   "metadata": {},
   "outputs": [],
   "source": [
    "ucuncu_grup = x[x['cluster'] == 2]['Country']"
   ]
  },
  {
   "cell_type": "code",
   "execution_count": 42,
   "id": "d84ab958-bb52-4704-be1a-cb928a49b644",
   "metadata": {},
   "outputs": [
    {
     "data": {
      "text/plain": [
       "1             Albania\n",
       "5             Armenia\n",
       "7             Austria\n",
       "8          Azerbaijan\n",
       "11            Belarus\n",
       "            ...      \n",
       "126            Uganda\n",
       "129    United Kingdom\n",
       "131           Uruguay\n",
       "135             Yemen\n",
       "137          Zimbabwe\n",
       "Name: Country, Length: 69, dtype: object"
      ]
     },
     "execution_count": 42,
     "metadata": {},
     "output_type": "execute_result"
    }
   ],
   "source": [
    "ucuncu_grup"
   ]
  },
  {
   "cell_type": "code",
   "execution_count": 43,
   "id": "2c917ff6-d20c-4f3b-823e-23037e6bf501",
   "metadata": {},
   "outputs": [],
   "source": [
    "dorduncu_grup = x[x['cluster'] == 3]['Country']"
   ]
  },
  {
   "cell_type": "code",
   "execution_count": 44,
   "id": "dcfbdab7-9f08-458b-8a7b-1fe6fc9f7264",
   "metadata": {},
   "outputs": [
    {
     "data": {
      "text/plain": [
       "3                                Angola\n",
       "4                             Argentina\n",
       "6                             Australia\n",
       "9                               Bahrain\n",
       "10                           Bangladesh\n",
       "14                              Bolivia\n",
       "16                             Botswana\n",
       "17                               Brazil\n",
       "21                             Cameroon\n",
       "22                               Canada\n",
       "23             Central African Republic\n",
       "24                                 Chad\n",
       "25                                Chile\n",
       "27                             Colombia\n",
       "31     Democratic Republic of the Congo\n",
       "38                             Ethiopia\n",
       "51                                 Iran\n",
       "57                                Japan\n",
       "59                           Kazakhstan\n",
       "62                           Kyrgyzstan\n",
       "63                                 Laos\n",
       "67                                Libya\n",
       "69                           Madagascar\n",
       "71                                 Mali\n",
       "72                           Mauritania\n",
       "73                               Mexico\n",
       "75                             Mongolia\n",
       "78                           Mozambique\n",
       "79                              Myanmar\n",
       "80                              Namibia\n",
       "83                          New Zealand\n",
       "85                                Niger\n",
       "86                              Nigeria\n",
       "93                             Paraguay\n",
       "94                                 Peru\n",
       "95                          Philippines\n",
       "99                Republic of the Congo\n",
       "105                           Singapore\n",
       "109                        South Africa\n",
       "111                         South Sudan\n",
       "113                           Sri Lanka\n",
       "114                               Sudan\n",
       "119                              Taiwan\n",
       "120                          Tajikistan\n",
       "121                            Tanzania\n",
       "122                            Thailand\n",
       "125                        Turkmenistan\n",
       "132                          Uzbekistan\n",
       "133                           Venezuela\n",
       "134                             Vietnam\n",
       "136                              Zambia\n",
       "Name: Country, dtype: object"
      ]
     },
     "execution_count": 44,
     "metadata": {},
     "output_type": "execute_result"
    }
   ],
   "source": [
    "dorduncu_grup"
   ]
  },
  {
   "cell_type": "code",
   "execution_count": 45,
   "id": "2f66e066-e289-43b4-908f-55e04aec66d6",
   "metadata": {},
   "outputs": [],
   "source": [
    "besinci_grup = x[x['cluster'] == 4]['Country']"
   ]
  },
  {
   "cell_type": "code",
   "execution_count": 46,
   "id": "bffb1247-b60c-4f0d-9b21-6d21992f07ae",
   "metadata": {},
   "outputs": [
    {
     "data": {
      "text/plain": [
       "130    United States\n",
       "Name: Country, dtype: object"
      ]
     },
     "execution_count": 46,
     "metadata": {},
     "output_type": "execute_result"
    }
   ],
   "source": [
    "besinci_grup"
   ]
  },
  {
   "cell_type": "code",
   "execution_count": null,
   "id": "e246f3ee-8392-446c-bc3b-b10be935633f",
   "metadata": {},
   "outputs": [],
   "source": []
  }
 ],
 "metadata": {
  "kernelspec": {
   "display_name": "Python 3 (ipykernel)",
   "language": "python",
   "name": "python3"
  },
  "language_info": {
   "codemirror_mode": {
    "name": "ipython",
    "version": 3
   },
   "file_extension": ".py",
   "mimetype": "text/x-python",
   "name": "python",
   "nbconvert_exporter": "python",
   "pygments_lexer": "ipython3",
   "version": "3.12.4"
  }
 },
 "nbformat": 4,
 "nbformat_minor": 5
}
