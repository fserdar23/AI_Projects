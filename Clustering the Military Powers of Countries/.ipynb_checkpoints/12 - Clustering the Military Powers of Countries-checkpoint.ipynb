{
 "cells": [
  {
   "cell_type": "markdown",
   "id": "4d182083-336d-4e3b-a209-19a314f87d75",
   "metadata": {},
   "source": [
    "# Military Powers of Countries"
   ]
  },
  {
   "cell_type": "code",
   "execution_count": 2,
   "id": "3dfcb27b-4530-486b-a6d9-3f8f31666e3b",
   "metadata": {},
   "outputs": [],
   "source": [
    "import pandas as pd"
   ]
  },
  {
   "cell_type": "code",
   "execution_count": 3,
   "id": "005ae419-4aa8-44f8-b108-bd88bc3b3e31",
   "metadata": {},
   "outputs": [],
   "source": [
    "import warnings\n",
    "warnings.filterwarnings(\"ignore\")"
   ]
  },
  {
   "cell_type": "code",
   "execution_count": 4,
   "id": "4c064be7-12fe-4123-82d1-92a92c001040",
   "metadata": {},
   "outputs": [],
   "source": [
    "df=pd.read_excel(\"World military power.xlsx\")"
   ]
  },
  {
   "cell_type": "markdown",
   "id": "3508687c-5f05-4c17-b674-500789af78eb",
   "metadata": {},
   "source": [
    "### EDA"
   ]
  },
  {
   "cell_type": "code",
   "execution_count": 6,
   "id": "2a7f1096-2e53-4ab6-b685-c46c7b28c38c",
   "metadata": {},
   "outputs": [
    {
     "data": {
      "text/html": [
       "<div>\n",
       "<style scoped>\n",
       "    .dataframe tbody tr th:only-of-type {\n",
       "        vertical-align: middle;\n",
       "    }\n",
       "\n",
       "    .dataframe tbody tr th {\n",
       "        vertical-align: top;\n",
       "    }\n",
       "\n",
       "    .dataframe thead th {\n",
       "        text-align: right;\n",
       "    }\n",
       "</style>\n",
       "<table border=\"1\" class=\"dataframe\">\n",
       "  <thead>\n",
       "    <tr style=\"text-align: right;\">\n",
       "      <th></th>\n",
       "      <th>2020 ranking</th>\n",
       "      <th>Unnamed: 1</th>\n",
       "      <th>Airforce Strength</th>\n",
       "      <th>Unnamed: 3</th>\n",
       "      <th>Unnamed: 4</th>\n",
       "      <th>Unnamed: 5</th>\n",
       "      <th>Unnamed: 6</th>\n",
       "      <th>Unnamed: 7</th>\n",
       "      <th>Unnamed: 8</th>\n",
       "      <th>Unnamed: 9</th>\n",
       "      <th>...</th>\n",
       "      <th>Unnamed: 50</th>\n",
       "      <th>Unnamed: 51</th>\n",
       "      <th>Geography</th>\n",
       "      <th>Unnamed: 53</th>\n",
       "      <th>Unnamed: 54</th>\n",
       "      <th>Unnamed: 55</th>\n",
       "      <th>Unnamed: 56</th>\n",
       "      <th>Unnamed: 57</th>\n",
       "      <th>Unnamed: 58</th>\n",
       "      <th>Unnamed: 59</th>\n",
       "    </tr>\n",
       "  </thead>\n",
       "  <tbody>\n",
       "    <tr>\n",
       "      <th>0</th>\n",
       "      <td>Military Strength</td>\n",
       "      <td>Military Strength Power Index</td>\n",
       "      <td>Aircraft Strength</td>\n",
       "      <td>Aircraft Strength value</td>\n",
       "      <td>Fighter/Interceptor Strength</td>\n",
       "      <td>Fighter/Interceptor Strength value</td>\n",
       "      <td>Attack Aircraft Strength</td>\n",
       "      <td>Attack Aircraft Strength value</td>\n",
       "      <td>Transport Aircraft Fleet Strength</td>\n",
       "      <td>Transport Aircraft Fleet Strength value</td>\n",
       "      <td>...</td>\n",
       "      <td>Total Population</td>\n",
       "      <td>Total Population value</td>\n",
       "      <td>Total Square Land Area</td>\n",
       "      <td>Total Square Land Area value</td>\n",
       "      <td>Total Coastline Coverage</td>\n",
       "      <td>Total Coastline Coverage value</td>\n",
       "      <td>Total Waterway Coverage</td>\n",
       "      <td>Total Waterway Coverage value</td>\n",
       "      <td>Total Border Coverage</td>\n",
       "      <td>Total Border Coverage value</td>\n",
       "    </tr>\n",
       "    <tr>\n",
       "      <th>1</th>\n",
       "      <td>Afghanistan</td>\n",
       "      <td>1.3444</td>\n",
       "      <td>Afghanistan</td>\n",
       "      <td>260</td>\n",
       "      <td>Afghanistan</td>\n",
       "      <td>0</td>\n",
       "      <td>Afghanistan</td>\n",
       "      <td>25</td>\n",
       "      <td>Afghanistan</td>\n",
       "      <td>30</td>\n",
       "      <td>...</td>\n",
       "      <td>Afghanistan</td>\n",
       "      <td>3,49,40,837</td>\n",
       "      <td>Afghanistan</td>\n",
       "      <td>6,52,230</td>\n",
       "      <td>Afghanistan</td>\n",
       "      <td>0</td>\n",
       "      <td>Afghanistan</td>\n",
       "      <td>1200</td>\n",
       "      <td>Afghanistan</td>\n",
       "      <td>5987</td>\n",
       "    </tr>\n",
       "    <tr>\n",
       "      <th>2</th>\n",
       "      <td>Albania</td>\n",
       "      <td>2.3137</td>\n",
       "      <td>Albania</td>\n",
       "      <td>19</td>\n",
       "      <td>Albania</td>\n",
       "      <td>0</td>\n",
       "      <td>Albania</td>\n",
       "      <td>0</td>\n",
       "      <td>Albania</td>\n",
       "      <td>0</td>\n",
       "      <td>...</td>\n",
       "      <td>Albania</td>\n",
       "      <td>30,57,220</td>\n",
       "      <td>Albania</td>\n",
       "      <td>28748</td>\n",
       "      <td>Albania</td>\n",
       "      <td>362</td>\n",
       "      <td>Albania</td>\n",
       "      <td>41</td>\n",
       "      <td>Albania</td>\n",
       "      <td>691</td>\n",
       "    </tr>\n",
       "    <tr>\n",
       "      <th>3</th>\n",
       "      <td>Algeria</td>\n",
       "      <td>0.4659</td>\n",
       "      <td>Algeria</td>\n",
       "      <td>551</td>\n",
       "      <td>Algeria</td>\n",
       "      <td>103</td>\n",
       "      <td>Algeria</td>\n",
       "      <td>22</td>\n",
       "      <td>Algeria</td>\n",
       "      <td>59</td>\n",
       "      <td>...</td>\n",
       "      <td>Algeria</td>\n",
       "      <td>4,16,57,488</td>\n",
       "      <td>Algeria</td>\n",
       "      <td>23,81,741</td>\n",
       "      <td>Algeria</td>\n",
       "      <td>998</td>\n",
       "      <td>Algeria</td>\n",
       "      <td>0</td>\n",
       "      <td>Algeria</td>\n",
       "      <td>6734</td>\n",
       "    </tr>\n",
       "    <tr>\n",
       "      <th>4</th>\n",
       "      <td>Angola</td>\n",
       "      <td>0.8379</td>\n",
       "      <td>Angola</td>\n",
       "      <td>295</td>\n",
       "      <td>Angola</td>\n",
       "      <td>72</td>\n",
       "      <td>Angola</td>\n",
       "      <td>18</td>\n",
       "      <td>Angola</td>\n",
       "      <td>30</td>\n",
       "      <td>...</td>\n",
       "      <td>Angola</td>\n",
       "      <td>3,03,55,880</td>\n",
       "      <td>Angola</td>\n",
       "      <td>12,46,700</td>\n",
       "      <td>Angola</td>\n",
       "      <td>1600</td>\n",
       "      <td>Angola</td>\n",
       "      <td>1300</td>\n",
       "      <td>Angola</td>\n",
       "      <td>5369</td>\n",
       "    </tr>\n",
       "  </tbody>\n",
       "</table>\n",
       "<p>5 rows × 60 columns</p>\n",
       "</div>"
      ],
      "text/plain": [
       "        2020 ranking                     Unnamed: 1  Airforce Strength  \\\n",
       "0  Military Strength  Military Strength Power Index  Aircraft Strength   \n",
       "1        Afghanistan                         1.3444        Afghanistan   \n",
       "2            Albania                         2.3137            Albania   \n",
       "3            Algeria                         0.4659            Algeria   \n",
       "4             Angola                         0.8379             Angola   \n",
       "\n",
       "                Unnamed: 3                    Unnamed: 4  \\\n",
       "0  Aircraft Strength value  Fighter/Interceptor Strength   \n",
       "1                      260                   Afghanistan   \n",
       "2                       19                       Albania   \n",
       "3                      551                       Algeria   \n",
       "4                      295                        Angola   \n",
       "\n",
       "                           Unnamed: 5                Unnamed: 6  \\\n",
       "0  Fighter/Interceptor Strength value  Attack Aircraft Strength   \n",
       "1                                   0               Afghanistan   \n",
       "2                                   0                   Albania   \n",
       "3                                 103                   Algeria   \n",
       "4                                  72                    Angola   \n",
       "\n",
       "                       Unnamed: 7                         Unnamed: 8  \\\n",
       "0  Attack Aircraft Strength value  Transport Aircraft Fleet Strength   \n",
       "1                              25                        Afghanistan   \n",
       "2                               0                            Albania   \n",
       "3                              22                            Algeria   \n",
       "4                              18                             Angola   \n",
       "\n",
       "                                Unnamed: 9  ...       Unnamed: 50  \\\n",
       "0  Transport Aircraft Fleet Strength value  ...  Total Population   \n",
       "1                                       30  ...       Afghanistan   \n",
       "2                                        0  ...           Albania   \n",
       "3                                       59  ...           Algeria   \n",
       "4                                       30  ...            Angola   \n",
       "\n",
       "              Unnamed: 51               Geography  \\\n",
       "0  Total Population value  Total Square Land Area   \n",
       "1             3,49,40,837             Afghanistan   \n",
       "2               30,57,220                 Albania   \n",
       "3             4,16,57,488                 Algeria   \n",
       "4             3,03,55,880                  Angola   \n",
       "\n",
       "                    Unnamed: 53               Unnamed: 54  \\\n",
       "0  Total Square Land Area value  Total Coastline Coverage   \n",
       "1                      6,52,230               Afghanistan   \n",
       "2                         28748                   Albania   \n",
       "3                     23,81,741                   Algeria   \n",
       "4                     12,46,700                    Angola   \n",
       "\n",
       "                      Unnamed: 55              Unnamed: 56  \\\n",
       "0  Total Coastline Coverage value  Total Waterway Coverage   \n",
       "1                               0              Afghanistan   \n",
       "2                             362                  Albania   \n",
       "3                             998                  Algeria   \n",
       "4                            1600                   Angola   \n",
       "\n",
       "                     Unnamed: 57            Unnamed: 58  \\\n",
       "0  Total Waterway Coverage value  Total Border Coverage   \n",
       "1                           1200            Afghanistan   \n",
       "2                             41                Albania   \n",
       "3                              0                Algeria   \n",
       "4                           1300                 Angola   \n",
       "\n",
       "                   Unnamed: 59  \n",
       "0  Total Border Coverage value  \n",
       "1                         5987  \n",
       "2                          691  \n",
       "3                         6734  \n",
       "4                         5369  \n",
       "\n",
       "[5 rows x 60 columns]"
      ]
     },
     "execution_count": 6,
     "metadata": {},
     "output_type": "execute_result"
    }
   ],
   "source": [
    "df.head()"
   ]
  },
  {
   "cell_type": "code",
   "execution_count": 7,
   "id": "6da3ed09-e94c-417d-8428-732df1d16204",
   "metadata": {},
   "outputs": [
    {
     "data": {
      "text/plain": [
       "(139, 60)"
      ]
     },
     "execution_count": 7,
     "metadata": {},
     "output_type": "execute_result"
    }
   ],
   "source": [
    "df.shape"
   ]
  },
  {
   "cell_type": "code",
   "execution_count": 8,
   "id": "b9073726-8b44-4fab-b227-2487c1a14093",
   "metadata": {
    "scrolled": true
   },
   "outputs": [
    {
     "name": "stdout",
     "output_type": "stream",
     "text": [
      "<class 'pandas.core.frame.DataFrame'>\n",
      "RangeIndex: 139 entries, 0 to 138\n",
      "Data columns (total 60 columns):\n",
      " #   Column             Non-Null Count  Dtype \n",
      "---  ------             --------------  ----- \n",
      " 0   2020 ranking       139 non-null    object\n",
      " 1   Unnamed: 1         139 non-null    object\n",
      " 2   Airforce Strength  139 non-null    object\n",
      " 3   Unnamed: 3         139 non-null    object\n",
      " 4   Unnamed: 4         139 non-null    object\n",
      " 5   Unnamed: 5         139 non-null    object\n",
      " 6   Unnamed: 6         139 non-null    object\n",
      " 7   Unnamed: 7         139 non-null    object\n",
      " 8   Unnamed: 8         139 non-null    object\n",
      " 9   Unnamed: 9         139 non-null    object\n",
      " 10  Unnamed: 10        139 non-null    object\n",
      " 11  Unnamed: 11        139 non-null    object\n",
      " 12  Unnamed: 12        139 non-null    object\n",
      " 13  Unnamed: 13        139 non-null    object\n",
      " 14  Unnamed: 14        139 non-null    object\n",
      " 15  Unnamed: 15        139 non-null    object\n",
      " 16  Land Strength      139 non-null    object\n",
      " 17  Unnamed: 17        139 non-null    object\n",
      " 18  Unnamed: 18        139 non-null    object\n",
      " 19  Unnamed: 19        139 non-null    object\n",
      " 20  Unnamed: 20        139 non-null    object\n",
      " 21  Unnamed: 21        139 non-null    object\n",
      " 22  Unnamed: 22        139 non-null    object\n",
      " 23  Unnamed: 23        139 non-null    object\n",
      " 24  Unnamed: 24        139 non-null    object\n",
      " 25  Unnamed: 25        139 non-null    object\n",
      " 26  Navy Strength      125 non-null    object\n",
      " 27  Unnamed: 27        125 non-null    object\n",
      " 28  Unnamed: 28        116 non-null    object\n",
      " 29  Unnamed: 29        116 non-null    object\n",
      " 30  Unnamed: 30        116 non-null    object\n",
      " 31  Unnamed: 31        116 non-null    object\n",
      " 32  Unnamed: 32        116 non-null    object\n",
      " 33  Unnamed: 33        116 non-null    object\n",
      " 34  Unnamed: 34        116 non-null    object\n",
      " 35  Unnamed: 35        116 non-null    object\n",
      " 36  Finances           139 non-null    object\n",
      " 37  Unnamed: 37        139 non-null    object\n",
      " 38  Unnamed: 38        139 non-null    object\n",
      " 39  Unnamed: 39        139 non-null    object\n",
      " 40  Logistics          139 non-null    object\n",
      " 41  Unnamed: 41        139 non-null    object\n",
      " 42  Natural resources  139 non-null    object\n",
      " 43  Unnamed: 43        139 non-null    object\n",
      " 44  Unnamed: 44        139 non-null    object\n",
      " 45  Unnamed: 45        139 non-null    object\n",
      " 46  Unnamed: 46        139 non-null    object\n",
      " 47  Unnamed: 47        139 non-null    object\n",
      " 48  Manpower           139 non-null    object\n",
      " 49  Unnamed: 49        139 non-null    object\n",
      " 50  Unnamed: 50        139 non-null    object\n",
      " 51  Unnamed: 51        139 non-null    object\n",
      " 52  Geography          139 non-null    object\n",
      " 53  Unnamed: 53        139 non-null    object\n",
      " 54  Unnamed: 54        110 non-null    object\n",
      " 55  Unnamed: 55        110 non-null    object\n",
      " 56  Unnamed: 56        139 non-null    object\n",
      " 57  Unnamed: 57        139 non-null    object\n",
      " 58  Unnamed: 58        130 non-null    object\n",
      " 59  Unnamed: 59        130 non-null    object\n",
      "dtypes: object(60)\n",
      "memory usage: 65.3+ KB\n"
     ]
    }
   ],
   "source": [
    "df.info()"
   ]
  },
  {
   "cell_type": "code",
   "execution_count": 9,
   "id": "ff674045-67bd-4b7d-96cb-34c0d408bad0",
   "metadata": {
    "scrolled": true
   },
   "outputs": [
    {
     "name": "stdout",
     "output_type": "stream",
     "text": [
      "<class 'pandas.core.frame.DataFrame'>\n",
      "RangeIndex: 139 entries, 0 to 138\n",
      "Data columns (total 60 columns):\n",
      " #   Column             Non-Null Count  Dtype \n",
      "---  ------             --------------  ----- \n",
      " 0   2020 ranking       139 non-null    object\n",
      " 1   Unnamed: 1         139 non-null    object\n",
      " 2   Airforce Strength  139 non-null    object\n",
      " 3   Unnamed: 3         139 non-null    object\n",
      " 4   Unnamed: 4         139 non-null    object\n",
      " 5   Unnamed: 5         139 non-null    object\n",
      " 6   Unnamed: 6         139 non-null    object\n",
      " 7   Unnamed: 7         139 non-null    object\n",
      " 8   Unnamed: 8         139 non-null    object\n",
      " 9   Unnamed: 9         139 non-null    object\n",
      " 10  Unnamed: 10        139 non-null    object\n",
      " 11  Unnamed: 11        139 non-null    object\n",
      " 12  Unnamed: 12        139 non-null    object\n",
      " 13  Unnamed: 13        139 non-null    object\n",
      " 14  Unnamed: 14        139 non-null    object\n",
      " 15  Unnamed: 15        139 non-null    object\n",
      " 16  Land Strength      139 non-null    object\n",
      " 17  Unnamed: 17        139 non-null    object\n",
      " 18  Unnamed: 18        139 non-null    object\n",
      " 19  Unnamed: 19        139 non-null    object\n",
      " 20  Unnamed: 20        139 non-null    object\n",
      " 21  Unnamed: 21        139 non-null    object\n",
      " 22  Unnamed: 22        139 non-null    object\n",
      " 23  Unnamed: 23        139 non-null    object\n",
      " 24  Unnamed: 24        139 non-null    object\n",
      " 25  Unnamed: 25        139 non-null    object\n",
      " 26  Navy Strength      125 non-null    object\n",
      " 27  Unnamed: 27        125 non-null    object\n",
      " 28  Unnamed: 28        116 non-null    object\n",
      " 29  Unnamed: 29        116 non-null    object\n",
      " 30  Unnamed: 30        116 non-null    object\n",
      " 31  Unnamed: 31        116 non-null    object\n",
      " 32  Unnamed: 32        116 non-null    object\n",
      " 33  Unnamed: 33        116 non-null    object\n",
      " 34  Unnamed: 34        116 non-null    object\n",
      " 35  Unnamed: 35        116 non-null    object\n",
      " 36  Finances           139 non-null    object\n",
      " 37  Unnamed: 37        139 non-null    object\n",
      " 38  Unnamed: 38        139 non-null    object\n",
      " 39  Unnamed: 39        139 non-null    object\n",
      " 40  Logistics          139 non-null    object\n",
      " 41  Unnamed: 41        139 non-null    object\n",
      " 42  Natural resources  139 non-null    object\n",
      " 43  Unnamed: 43        139 non-null    object\n",
      " 44  Unnamed: 44        139 non-null    object\n",
      " 45  Unnamed: 45        139 non-null    object\n",
      " 46  Unnamed: 46        139 non-null    object\n",
      " 47  Unnamed: 47        139 non-null    object\n",
      " 48  Manpower           139 non-null    object\n",
      " 49  Unnamed: 49        139 non-null    object\n",
      " 50  Unnamed: 50        139 non-null    object\n",
      " 51  Unnamed: 51        139 non-null    object\n",
      " 52  Geography          139 non-null    object\n",
      " 53  Unnamed: 53        139 non-null    object\n",
      " 54  Unnamed: 54        110 non-null    object\n",
      " 55  Unnamed: 55        110 non-null    object\n",
      " 56  Unnamed: 56        139 non-null    object\n",
      " 57  Unnamed: 57        139 non-null    object\n",
      " 58  Unnamed: 58        130 non-null    object\n",
      " 59  Unnamed: 59        130 non-null    object\n",
      "dtypes: object(60)\n",
      "memory usage: 65.3+ KB\n"
     ]
    }
   ],
   "source": [
    "df.info()"
   ]
  },
  {
   "cell_type": "markdown",
   "id": "55b27e99-c73c-4c04-a1df-cc96fdb5be63",
   "metadata": {},
   "source": [
    "### Feature Engineering"
   ]
  },
  {
   "cell_type": "code",
   "execution_count": 11,
   "id": "6d067027-48ec-4e82-b150-80213d78951e",
   "metadata": {
    "scrolled": true
   },
   "outputs": [],
   "source": [
    "df=df.drop(0,axis=0)"
   ]
  },
  {
   "cell_type": "code",
   "execution_count": 12,
   "id": "6becb20c-9c53-48ba-9506-0bc3e2f08205",
   "metadata": {
    "scrolled": true
   },
   "outputs": [],
   "source": [
    "# Sayısal değerlere sahip sütunları belirleyin\n",
    "numeric_cols = []\n",
    "for col in df.columns:\n",
    "    try:\n",
    "        df[col] = df[col].astype(float)\n",
    "        numeric_cols.append(col)\n",
    "    except ValueError:\n",
    "        pass\n",
    "\n",
    "# Sayısal sütunları float veri tipine dönüştürün\n",
    "df[numeric_cols] = df[numeric_cols].astype(float)"
   ]
  },
  {
   "cell_type": "code",
   "execution_count": 13,
   "id": "9fad753b-b3e3-4636-8afc-1ae9154ccee3",
   "metadata": {},
   "outputs": [],
   "source": [
    "# Sayısal sütunları seçin\n",
    "numeric_cols = df.select_dtypes(include=['float64', 'int64']).columns\n",
    "\n",
    "# Sayısal sütunlardan oluşan bir alt dataframe oluşturun\n",
    "x = df[numeric_cols]"
   ]
  },
  {
   "cell_type": "code",
   "execution_count": 14,
   "id": "90b611f3-64e9-4fcc-9623-4a68256bcf87",
   "metadata": {},
   "outputs": [
    {
     "data": {
      "text/html": [
       "<div>\n",
       "<style scoped>\n",
       "    .dataframe tbody tr th:only-of-type {\n",
       "        vertical-align: middle;\n",
       "    }\n",
       "\n",
       "    .dataframe tbody tr th {\n",
       "        vertical-align: top;\n",
       "    }\n",
       "\n",
       "    .dataframe thead th {\n",
       "        text-align: right;\n",
       "    }\n",
       "</style>\n",
       "<table border=\"1\" class=\"dataframe\">\n",
       "  <thead>\n",
       "    <tr style=\"text-align: right;\">\n",
       "      <th></th>\n",
       "      <th>Unnamed: 1</th>\n",
       "      <th>Unnamed: 3</th>\n",
       "      <th>Unnamed: 5</th>\n",
       "      <th>Unnamed: 7</th>\n",
       "      <th>Unnamed: 9</th>\n",
       "      <th>Unnamed: 11</th>\n",
       "      <th>Unnamed: 13</th>\n",
       "      <th>Unnamed: 15</th>\n",
       "      <th>Unnamed: 17</th>\n",
       "      <th>Unnamed: 19</th>\n",
       "      <th>Unnamed: 21</th>\n",
       "      <th>Unnamed: 23</th>\n",
       "      <th>Unnamed: 25</th>\n",
       "      <th>Unnamed: 27</th>\n",
       "      <th>Unnamed: 29</th>\n",
       "      <th>Unnamed: 31</th>\n",
       "      <th>Unnamed: 33</th>\n",
       "      <th>Unnamed: 35</th>\n",
       "      <th>Unnamed: 41</th>\n",
       "      <th>Unnamed: 59</th>\n",
       "    </tr>\n",
       "  </thead>\n",
       "  <tbody>\n",
       "    <tr>\n",
       "      <th>1</th>\n",
       "      <td>1.3444</td>\n",
       "      <td>260.0</td>\n",
       "      <td>0.0</td>\n",
       "      <td>25.0</td>\n",
       "      <td>30.0</td>\n",
       "      <td>0.0</td>\n",
       "      <td>187.0</td>\n",
       "      <td>0.0</td>\n",
       "      <td>0.0</td>\n",
       "      <td>1062.0</td>\n",
       "      <td>0.0</td>\n",
       "      <td>176.0</td>\n",
       "      <td>50.0</td>\n",
       "      <td>0.0</td>\n",
       "      <td>0.0</td>\n",
       "      <td>0.0</td>\n",
       "      <td>0.0</td>\n",
       "      <td>0.0</td>\n",
       "      <td>43.0</td>\n",
       "      <td>5987.0</td>\n",
       "    </tr>\n",
       "    <tr>\n",
       "      <th>2</th>\n",
       "      <td>2.3137</td>\n",
       "      <td>19.0</td>\n",
       "      <td>0.0</td>\n",
       "      <td>0.0</td>\n",
       "      <td>0.0</td>\n",
       "      <td>0.0</td>\n",
       "      <td>19.0</td>\n",
       "      <td>0.0</td>\n",
       "      <td>0.0</td>\n",
       "      <td>467.0</td>\n",
       "      <td>0.0</td>\n",
       "      <td>0.0</td>\n",
       "      <td>0.0</td>\n",
       "      <td>38.0</td>\n",
       "      <td>0.0</td>\n",
       "      <td>0.0</td>\n",
       "      <td>0.0</td>\n",
       "      <td>0.0</td>\n",
       "      <td>4.0</td>\n",
       "      <td>691.0</td>\n",
       "    </tr>\n",
       "    <tr>\n",
       "      <th>3</th>\n",
       "      <td>0.4659</td>\n",
       "      <td>551.0</td>\n",
       "      <td>103.0</td>\n",
       "      <td>22.0</td>\n",
       "      <td>59.0</td>\n",
       "      <td>87.0</td>\n",
       "      <td>257.0</td>\n",
       "      <td>45.0</td>\n",
       "      <td>880.0</td>\n",
       "      <td>7361.0</td>\n",
       "      <td>320.0</td>\n",
       "      <td>240.0</td>\n",
       "      <td>316.0</td>\n",
       "      <td>201.0</td>\n",
       "      <td>0.0</td>\n",
       "      <td>6.0</td>\n",
       "      <td>0.0</td>\n",
       "      <td>5.0</td>\n",
       "      <td>157.0</td>\n",
       "      <td>6734.0</td>\n",
       "    </tr>\n",
       "    <tr>\n",
       "      <th>4</th>\n",
       "      <td>0.8379</td>\n",
       "      <td>295.0</td>\n",
       "      <td>72.0</td>\n",
       "      <td>18.0</td>\n",
       "      <td>30.0</td>\n",
       "      <td>47.0</td>\n",
       "      <td>126.0</td>\n",
       "      <td>15.0</td>\n",
       "      <td>379.0</td>\n",
       "      <td>595.0</td>\n",
       "      <td>28.0</td>\n",
       "      <td>357.0</td>\n",
       "      <td>115.0</td>\n",
       "      <td>57.0</td>\n",
       "      <td>0.0</td>\n",
       "      <td>0.0</td>\n",
       "      <td>0.0</td>\n",
       "      <td>0.0</td>\n",
       "      <td>176.0</td>\n",
       "      <td>5369.0</td>\n",
       "    </tr>\n",
       "    <tr>\n",
       "      <th>5</th>\n",
       "      <td>0.6521</td>\n",
       "      <td>227.0</td>\n",
       "      <td>24.0</td>\n",
       "      <td>7.0</td>\n",
       "      <td>9.0</td>\n",
       "      <td>64.0</td>\n",
       "      <td>100.0</td>\n",
       "      <td>0.0</td>\n",
       "      <td>370.0</td>\n",
       "      <td>739.0</td>\n",
       "      <td>83.0</td>\n",
       "      <td>172.0</td>\n",
       "      <td>26.0</td>\n",
       "      <td>49.0</td>\n",
       "      <td>0.0</td>\n",
       "      <td>2.0</td>\n",
       "      <td>4.0</td>\n",
       "      <td>0.0</td>\n",
       "      <td>1138.0</td>\n",
       "      <td>11968.0</td>\n",
       "    </tr>\n",
       "  </tbody>\n",
       "</table>\n",
       "</div>"
      ],
      "text/plain": [
       "   Unnamed: 1  Unnamed: 3  Unnamed: 5  Unnamed: 7  Unnamed: 9  Unnamed: 11  \\\n",
       "1      1.3444       260.0         0.0        25.0        30.0          0.0   \n",
       "2      2.3137        19.0         0.0         0.0         0.0          0.0   \n",
       "3      0.4659       551.0       103.0        22.0        59.0         87.0   \n",
       "4      0.8379       295.0        72.0        18.0        30.0         47.0   \n",
       "5      0.6521       227.0        24.0         7.0         9.0         64.0   \n",
       "\n",
       "   Unnamed: 13  Unnamed: 15  Unnamed: 17  Unnamed: 19  Unnamed: 21  \\\n",
       "1        187.0          0.0          0.0       1062.0          0.0   \n",
       "2         19.0          0.0          0.0        467.0          0.0   \n",
       "3        257.0         45.0        880.0       7361.0        320.0   \n",
       "4        126.0         15.0        379.0        595.0         28.0   \n",
       "5        100.0          0.0        370.0        739.0         83.0   \n",
       "\n",
       "   Unnamed: 23  Unnamed: 25  Unnamed: 27  Unnamed: 29  Unnamed: 31  \\\n",
       "1        176.0         50.0          0.0          0.0          0.0   \n",
       "2          0.0          0.0         38.0          0.0          0.0   \n",
       "3        240.0        316.0        201.0          0.0          6.0   \n",
       "4        357.0        115.0         57.0          0.0          0.0   \n",
       "5        172.0         26.0         49.0          0.0          2.0   \n",
       "\n",
       "   Unnamed: 33  Unnamed: 35  Unnamed: 41  Unnamed: 59  \n",
       "1          0.0          0.0         43.0       5987.0  \n",
       "2          0.0          0.0          4.0        691.0  \n",
       "3          0.0          5.0        157.0       6734.0  \n",
       "4          0.0          0.0        176.0       5369.0  \n",
       "5          4.0          0.0       1138.0      11968.0  "
      ]
     },
     "execution_count": 14,
     "metadata": {},
     "output_type": "execute_result"
    }
   ],
   "source": [
    "x.head()"
   ]
  },
  {
   "cell_type": "code",
   "execution_count": 15,
   "id": "dcfcb5f8-276b-4df0-bd93-749738c9463d",
   "metadata": {},
   "outputs": [
    {
     "data": {
      "text/plain": [
       "Unnamed: 1      0\n",
       "Unnamed: 3      0\n",
       "Unnamed: 5      0\n",
       "Unnamed: 7      0\n",
       "Unnamed: 9      0\n",
       "Unnamed: 11     0\n",
       "Unnamed: 13     0\n",
       "Unnamed: 15     0\n",
       "Unnamed: 17     0\n",
       "Unnamed: 19     0\n",
       "Unnamed: 21     0\n",
       "Unnamed: 23     0\n",
       "Unnamed: 25     0\n",
       "Unnamed: 27    14\n",
       "Unnamed: 29    23\n",
       "Unnamed: 31    23\n",
       "Unnamed: 33    23\n",
       "Unnamed: 35    23\n",
       "Unnamed: 41     0\n",
       "Unnamed: 59     9\n",
       "dtype: int64"
      ]
     },
     "execution_count": 15,
     "metadata": {},
     "output_type": "execute_result"
    }
   ],
   "source": [
    "x.isnull().sum()"
   ]
  },
  {
   "cell_type": "code",
   "execution_count": 16,
   "id": "81afb676-def9-4727-9d1b-1f53009e80bb",
   "metadata": {},
   "outputs": [],
   "source": [
    "x[\"Unnamed: 27\"].fillna(x[\"Unnamed: 27\"].mean(),inplace=True)"
   ]
  },
  {
   "cell_type": "code",
   "execution_count": 17,
   "id": "7c4bc6dd-1dbc-4f10-8f70-53b53fd513ba",
   "metadata": {},
   "outputs": [],
   "source": [
    "x[\"Unnamed: 29\"].fillna(x[\"Unnamed: 29\"].mean(),inplace=True)"
   ]
  },
  {
   "cell_type": "code",
   "execution_count": 18,
   "id": "9ad816d4-ab38-4a75-9c62-9fd93bbdc7cf",
   "metadata": {},
   "outputs": [],
   "source": [
    "x[\"Unnamed: 31\"].fillna(x[\"Unnamed: 31\"].mean(),inplace=True)"
   ]
  },
  {
   "cell_type": "code",
   "execution_count": 19,
   "id": "587ab607-d3df-45f7-9e03-0611b1fc6885",
   "metadata": {},
   "outputs": [],
   "source": [
    "x[\"Unnamed: 33\"].fillna(x[\"Unnamed: 33\"].mean(),inplace=True)"
   ]
  },
  {
   "cell_type": "code",
   "execution_count": 20,
   "id": "6923577a-af4a-44a6-b5ff-0dc097cbad2d",
   "metadata": {},
   "outputs": [],
   "source": [
    "x[\"Unnamed: 35\"].fillna(x[\"Unnamed: 35\"].mean(),inplace=True)"
   ]
  },
  {
   "cell_type": "code",
   "execution_count": 21,
   "id": "03bb1124-f247-4d17-b8fe-13741ccbc25a",
   "metadata": {},
   "outputs": [],
   "source": [
    "x[\"Unnamed: 59\"].fillna(x[\"Unnamed: 59\"].mean(),inplace=True)"
   ]
  },
  {
   "cell_type": "markdown",
   "id": "243b5031-c682-486a-8b62-19008e84d4cf",
   "metadata": {},
   "source": [
    "### Modelling"
   ]
  },
  {
   "cell_type": "code",
   "execution_count": 23,
   "id": "631818c9-4c15-43d7-a869-38847dbc9c05",
   "metadata": {},
   "outputs": [],
   "source": [
    "from sklearn.cluster import KMeans\n",
    "from sklearn.metrics import silhouette_score"
   ]
  },
  {
   "cell_type": "code",
   "execution_count": 24,
   "id": "d2ebf285-8b86-44f0-9ad5-7144d56b455c",
   "metadata": {},
   "outputs": [],
   "source": [
    "model=KMeans(5)"
   ]
  },
  {
   "cell_type": "code",
   "execution_count": 25,
   "id": "8314cb6c-660d-482f-a880-e0b5de8f5924",
   "metadata": {},
   "outputs": [],
   "source": [
    "model=model.fit(x)"
   ]
  },
  {
   "cell_type": "code",
   "execution_count": 26,
   "id": "b59060ec-00a2-45b3-8bdf-42b38e9b28da",
   "metadata": {},
   "outputs": [],
   "source": [
    "tahmin=model.predict(x)"
   ]
  },
  {
   "cell_type": "code",
   "execution_count": 27,
   "id": "0a0b774f-b192-40b2-9864-1b18f67fb0a3",
   "metadata": {},
   "outputs": [
    {
     "data": {
      "text/plain": [
       "array([0, 2, 3, 0, 0, 2, 0, 2, 2, 0, 0, 2, 2, 2, 0, 2, 0, 0, 2, 2, 2, 0,\n",
       "       0, 0, 0, 0, 1, 0, 2, 2, 2, 0, 2, 2, 2, 3, 2, 2, 0, 2, 3, 2, 2, 0,\n",
       "       2, 2, 2, 2, 2, 3, 2, 0, 0, 2, 3, 3, 2, 0, 2, 0, 2, 2, 0, 0, 2, 2,\n",
       "       2, 0, 2, 0, 2, 0, 0, 0, 2, 0, 2, 2, 0, 0, 0, 2, 2, 0, 2, 0, 0, 3,\n",
       "       2, 2, 2, 3, 2, 0, 0, 0, 2, 2, 2, 0, 2, 1, 3, 2, 2, 0, 2, 2, 2, 0,\n",
       "       3, 0, 2, 0, 0, 2, 2, 2, 3, 0, 0, 0, 0, 2, 3, 0, 2, 3, 3, 2, 4, 2,\n",
       "       0, 0, 0, 2, 0, 2])"
      ]
     },
     "execution_count": 27,
     "metadata": {},
     "output_type": "execute_result"
    }
   ],
   "source": [
    "tahmin"
   ]
  },
  {
   "cell_type": "code",
   "execution_count": 28,
   "id": "02b343f9-f479-4f8c-99f8-cf52759aea2e",
   "metadata": {},
   "outputs": [],
   "source": [
    "x[\"cluster\"]=tahmin"
   ]
  },
  {
   "cell_type": "code",
   "execution_count": null,
   "id": "bf65f654-9e9f-4d85-9a0e-7509e5715741",
   "metadata": {},
   "outputs": [],
   "source": []
  },
  {
   "cell_type": "code",
   "execution_count": 29,
   "id": "cfd856e9-8c2b-4d2d-97e3-c11dc2e80987",
   "metadata": {},
   "outputs": [
    {
     "data": {
      "text/plain": [
       "0.42387824664891066"
      ]
     },
     "execution_count": 29,
     "metadata": {},
     "output_type": "execute_result"
    }
   ],
   "source": [
    "silhouette_score(x,tahmin)"
   ]
  },
  {
   "cell_type": "code",
   "execution_count": null,
   "id": "f821a8fd-9176-42c9-9571-bfd7a8fbf7ba",
   "metadata": {},
   "outputs": [],
   "source": []
  },
  {
   "cell_type": "code",
   "execution_count": 30,
   "id": "dc4f1c4f-cc8d-4985-888b-44bc59b5c114",
   "metadata": {},
   "outputs": [],
   "source": [
    "import matplotlib.pyplot as plt"
   ]
  },
  {
   "cell_type": "code",
   "execution_count": 31,
   "id": "94eae01c-4994-4d83-a756-dac2454a4476",
   "metadata": {},
   "outputs": [
    {
     "data": {
      "text/plain": [
       "<matplotlib.colorbar.Colorbar at 0x1d6d3a972f0>"
      ]
     },
     "execution_count": 31,
     "metadata": {},
     "output_type": "execute_result"
    },
    {
     "data": {
      "image/png": "[encoded data removed]",
      "text/plain": [
       "<Figure size 500x1000 with 2 Axes>"
      ]
     },
     "metadata": {},
     "output_type": "display_data"
    }
   ],
   "source": [
    "plt.figure(figsize=(5,10))\n",
    "plt.scatter(x[\"cluster\"],x[\"Unnamed: 5\"], c=tahmin)\n",
    "plt.colorbar()"
   ]
  },
  {
   "cell_type": "code",
   "execution_count": 32,
   "id": "0ee3e208-5849-4e89-b852-8fc1d2f1a1d2",
   "metadata": {},
   "outputs": [
    {
     "name": "stdout",
     "output_type": "stream",
     "text": [
      "0.8665940692747437\n",
      "0.6114537346942764\n",
      "0.4614272314885526\n",
      "0.4673099747070642\n",
      "0.43653023193392393\n",
      "0.41481382582132126\n",
      "0.4396336121484629\n",
      "0.4516004034648149\n"
     ]
    }
   ],
   "source": [
    "#wcss= within cluster sum of squares\n",
    "wcss=[]\n",
    "ss=[]\n",
    "for i in range (2,10):\n",
    "    model=KMeans(i)\n",
    "    model=model.fit(x)\n",
    "    tahmin=model.predict(x)\n",
    "    ss1=silhouette_score(x,tahmin)\n",
    "    ss.append(ss1)\n",
    "    print(ss1)\n",
    "    wcss.append(model.inertia_)"
   ]
  },
  {
   "cell_type": "code",
   "execution_count": 33,
   "id": "185c9733-8220-4178-9563-967d98d13fd4",
   "metadata": {},
   "outputs": [
    {
     "data": {
      "text/plain": [
       "[<matplotlib.lines.Line2D at 0x1d6d3b8ff20>]"
      ]
     },
     "execution_count": 33,
     "metadata": {},
     "output_type": "execute_result"
    },
    {
     "data": {
      "image/png": "[encoded data removed]",
      "text/plain": [
       "<Figure size 640x480 with 1 Axes>"
      ]
     },
     "metadata": {},
     "output_type": "display_data"
    }
   ],
   "source": [
    "plt.plot(range(2,10),wcss)"
   ]
  },
  {
   "cell_type": "code",
   "execution_count": 34,
   "id": "d70a9dc2-6107-4bbf-b1eb-4fa5f571910b",
   "metadata": {},
   "outputs": [],
   "source": [
    "from yellowbrick.cluster import KElbowVisualizer"
   ]
  },
  {
   "cell_type": "code",
   "execution_count": 35,
   "id": "9eb87bd9-25a9-474e-a665-d018f47a5452",
   "metadata": {},
   "outputs": [
    {
     "data": {
      "image/png": "[encoded data removed]",
      "text/plain": [
       "<Figure size 800x550 with 2 Axes>"
      ]
     },
     "metadata": {},
     "output_type": "display_data"
    },
    {
     "data": {
      "text/plain": [
       "<Axes: title={'center': 'Distortion Score Elbow for KMeans Clustering'}, xlabel='k', ylabel='distortion score'>"
      ]
     },
     "execution_count": 35,
     "metadata": {},
     "output_type": "execute_result"
    }
   ],
   "source": [
    "km=KMeans()\n",
    "vis=KElbowVisualizer(km,k=(2,10))\n",
    "vis.fit(x)\n",
    "vis.show()"
   ]
  },
  {
   "cell_type": "code",
   "execution_count": 70,
   "id": "448789d7-bac5-4e1b-bd9c-d0054b3b4f3f",
   "metadata": {},
   "outputs": [],
   "source": [
    "from scipy.cluster.hierarchy import dendrogram, linkage"
   ]
  },
  {
   "cell_type": "code",
   "execution_count": 72,
   "id": "3d3f6e92-ecb5-4443-a4f1-ac79417aacb0",
   "metadata": {},
   "outputs": [],
   "source": [
    "data=linkage(x,method=\"ward\", metric=\"euclidean\")"
   ]
  },
  {
   "cell_type": "code",
   "execution_count": 74,
   "id": "701168e5-f99b-4699-aa0f-6f0bb4c18df3",
   "metadata": {},
   "outputs": [
    {
     "data": {
      "image/png": "[encoded data removed]",
      "text/plain": [
       "<Figure size 2500x600 with 1 Axes>"
      ]
     },
     "metadata": {},
     "output_type": "display_data"
    }
   ],
   "source": [
    "plt.figure(figsize=(25,6))\n",
    "dendrogram(data);"
   ]
  },
  {
   "cell_type": "code",
   "execution_count": null,
   "id": "75879688-3e77-462f-9e4d-94d750636772",
   "metadata": {},
   "outputs": [],
   "source": []
  }
 ],
 "metadata": {
  "kernelspec": {
   "display_name": "Python 3 (ipykernel)",
   "language": "python",
   "name": "python3"
  },
  "language_info": {
   "codemirror_mode": {
    "name": "ipython",
    "version": 3
   },
   "file_extension": ".py",
   "mimetype": "text/x-python",
   "name": "python",
   "nbconvert_exporter": "python",
   "pygments_lexer": "ipython3",
   "version": "3.12.4"
  }
 },
 "nbformat": 4,
 "nbformat_minor": 5
}
