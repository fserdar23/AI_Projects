{
 "cells": [
  {
   "cell_type": "markdown",
   "id": "c4cb0a4d-a296-4764-a233-d634a1279ce9",
   "metadata": {},
   "source": [
    "# German Traffic Sign Recognition"
   ]
  },
  {
   "cell_type": "markdown",
   "id": "2b00b8bd-eb85-4799-b15f-92fcd53304aa",
   "metadata": {},
   "source": [
    "<img src=\"https://st5.depositphotos.com/1029717/62152/i/450/depositphotos_621521180-stock-photo-parking-road-sign-street-sign.jpg\">"
   ]
  },
  {
   "cell_type": "markdown",
   "id": "247522c6-8207-47f5-ac03-de2e6dcc8781",
   "metadata": {},
   "source": [
    "Bu projemizde Almanyadaki trafik işaretlerini tanıyan bir model geliştireceğiz"
   ]
  },
  {
   "cell_type": "markdown",
   "id": "08a25c4a-13f9-43bf-b709-c9355ca92a26",
   "metadata": {},
   "source": [
    "<a href=\"https://www.kaggle.com/datasets/meowmeowmeowmeowmeow/gtsrb-german-traffic-sign?select=Test\">Dataya Buradan Erisebilirsiniz</a>"
   ]
  },
  {
   "cell_type": "code",
   "execution_count": 1,
   "id": "a893de10-d95d-42fd-8770-18332d5308fd",
   "metadata": {},
   "outputs": [],
   "source": [
    "import pandas as pd\n",
    "import numpy as np\n",
    "import matplotlib.pyplot as plt\n",
    "\n",
    "import cv2\n",
    "import os\n",
    "\n",
    "from sklearn.model_selection import train_test_split\n",
    "\n",
    "import warnings\n",
    "warnings.filterwarnings(\"ignore\")\n",
    "\n",
    "from keras.models import Sequential\n",
    "from keras.layers import Conv2D, Dense, Flatten, Input, MaxPooling2D, Dropout, BatchNormalization, Reshape"
   ]
  },
  {
   "cell_type": "code",
   "execution_count": 2,
   "id": "544186b1-3cb9-4a59-9473-3d6ca4ccc056",
   "metadata": {},
   "outputs": [],
   "source": [
    "img_path=\"Train/\"\n",
    "# Train klasörünün içindeki klasör isimlerini alıp label attık\n",
    "labels=[item for item in os.listdir(img_path) if os.path.isdir(os.path.join(img_path,item))]"
   ]
  },
  {
   "cell_type": "code",
   "execution_count": 3,
   "id": "1e1ce81c-9d19-4420-ac27-5aca42a88e18",
   "metadata": {},
   "outputs": [],
   "source": [
    "#Dosyadan Resim okuma\n",
    "img_list=[]\n",
    "label_list=[]\n",
    "for label in labels:\n",
    "    for img_file in os.listdir(img_path+label):          #Klasörün içindeki alt klasörleri söyler\n",
    "        img_list.append(img_path+label+'/'+img_file)     # apppend dizinin sonuna eklme yapıyor\n",
    "        label_list.append(label)\n",
    "\n",
    "df=pd.DataFrame({\"img\": img_list,\"label\": label_list})  # Bunları bir dataframe e attık"
   ]
  },
  {
   "cell_type": "code",
   "execution_count": 4,
   "id": "47fa4724-bfe5-4303-9d18-f644a1527ebd",
   "metadata": {},
   "outputs": [
    {
     "data": {
      "text/html": [
       "<div>\n",
       "<style scoped>\n",
       "    .dataframe tbody tr th:only-of-type {\n",
       "        vertical-align: middle;\n",
       "    }\n",
       "\n",
       "    .dataframe tbody tr th {\n",
       "        vertical-align: top;\n",
       "    }\n",
       "\n",
       "    .dataframe thead th {\n",
       "        text-align: right;\n",
       "    }\n",
       "</style>\n",
       "<table border=\"1\" class=\"dataframe\">\n",
       "  <thead>\n",
       "    <tr style=\"text-align: right;\">\n",
       "      <th></th>\n",
       "      <th>img</th>\n",
       "      <th>label</th>\n",
       "    </tr>\n",
       "  </thead>\n",
       "  <tbody>\n",
       "    <tr>\n",
       "      <th>33891</th>\n",
       "      <td>Train/5/00005_00042_00022.png</td>\n",
       "      <td>5</td>\n",
       "    </tr>\n",
       "    <tr>\n",
       "      <th>32234</th>\n",
       "      <td>Train/41/00041_00003_00015.png</td>\n",
       "      <td>41</td>\n",
       "    </tr>\n",
       "    <tr>\n",
       "      <th>7948</th>\n",
       "      <td>Train/13/00013_00002_00028.png</td>\n",
       "      <td>13</td>\n",
       "    </tr>\n",
       "    <tr>\n",
       "      <th>13595</th>\n",
       "      <td>Train/18/00018_00021_00005.png</td>\n",
       "      <td>18</td>\n",
       "    </tr>\n",
       "    <tr>\n",
       "      <th>34863</th>\n",
       "      <td>Train/6/00006_00013_00004.png</td>\n",
       "      <td>6</td>\n",
       "    </tr>\n",
       "  </tbody>\n",
       "</table>\n",
       "</div>"
      ],
      "text/plain": [
       "                                  img label\n",
       "33891   Train/5/00005_00042_00022.png     5\n",
       "32234  Train/41/00041_00003_00015.png    41\n",
       "7948   Train/13/00013_00002_00028.png    13\n",
       "13595  Train/18/00018_00021_00005.png    18\n",
       "34863   Train/6/00006_00013_00004.png     6"
      ]
     },
     "execution_count": 4,
     "metadata": {},
     "output_type": "execute_result"
    }
   ],
   "source": [
    "df.sample(5)"
   ]
  },
  {
   "cell_type": "code",
   "execution_count": 5,
   "id": "f0bd1e52-1546-499a-88c4-c28e041e0cb0",
   "metadata": {
    "scrolled": true
   },
   "outputs": [
    {
     "data": {
      "text/plain": [
       "label\n",
       "2     2250\n",
       "1     2220\n",
       "13    2160\n",
       "12    2100\n",
       "38    2070\n",
       "10    2010\n",
       "4     1980\n",
       "5     1860\n",
       "25    1500\n",
       "9     1470\n",
       "7     1440\n",
       "3     1410\n",
       "8     1410\n",
       "11    1320\n",
       "18    1200\n",
       "35    1200\n",
       "17    1110\n",
       "14     780\n",
       "31     780\n",
       "33     689\n",
       "15     630\n",
       "26     600\n",
       "28     540\n",
       "23     510\n",
       "30     450\n",
       "16     420\n",
       "6      420\n",
       "34     420\n",
       "36     390\n",
       "22     390\n",
       "20     360\n",
       "40     360\n",
       "21     330\n",
       "39     300\n",
       "29     270\n",
       "24     270\n",
       "41     240\n",
       "42     240\n",
       "32     240\n",
       "27     240\n",
       "37     210\n",
       "19     210\n",
       "0      210\n",
       "Name: count, dtype: int64"
      ]
     },
     "execution_count": 5,
     "metadata": {},
     "output_type": "execute_result"
    }
   ],
   "source": [
    "df.label.value_counts()"
   ]
  },
  {
   "cell_type": "code",
   "execution_count": 6,
   "id": "e7d0c15b-c144-4f22-a5e0-46f6ba71688f",
   "metadata": {},
   "outputs": [
    {
     "data": {
      "text/plain": [
       "(30, 30, 3)"
      ]
     },
     "execution_count": 6,
     "metadata": {},
     "output_type": "execute_result"
    }
   ],
   "source": [
    "image=cv2.imread(str(df[\"img\"][1]))\n",
    "image.shape"
   ]
  },
  {
   "cell_type": "code",
   "execution_count": 7,
   "id": "548af72c-386f-41e7-b298-91a5652c841a",
   "metadata": {},
   "outputs": [
    {
     "data": {
      "text/plain": [
       "<matplotlib.image.AxesImage at 0x2b50aea4620>"
      ]
     },
     "execution_count": 7,
     "metadata": {},
     "output_type": "execute_result"
    },
    {
     "data": {
      "image/png": "[encoded data removed]",
      "text/plain": [
       "<Figure size 640x480 with 1 Axes>"
      ]
     },
     "metadata": {},
     "output_type": "display_data"
    }
   ],
   "source": [
    "plt.imshow(image)"
   ]
  },
  {
   "cell_type": "code",
   "execution_count": 8,
   "id": "8446bd46-d834-4c51-85b5-4f2997588646",
   "metadata": {},
   "outputs": [],
   "source": [
    "x=[]\n",
    "for img in df[\"img\"]:\n",
    "    img=cv2.imread(img)\n",
    "    img=cv2.resize(img,(30,30))  #Boyutunu 32*32 px yaptık\n",
    "    img=img/255.0  #Normalize Ettik\n",
    "    x.append(img)"
   ]
  },
  {
   "cell_type": "code",
   "execution_count": 9,
   "id": "6bfbe6fa-625e-4f2a-9449-634006462078",
   "metadata": {},
   "outputs": [],
   "source": [
    "x=np.array(x)"
   ]
  },
  {
   "cell_type": "code",
   "execution_count": 10,
   "id": "8f4e79f0-a993-42ae-85f7-756102d7b3c3",
   "metadata": {},
   "outputs": [],
   "source": [
    "y=df[\"label\"].astype(int)"
   ]
  },
  {
   "cell_type": "code",
   "execution_count": 11,
   "id": "cf675441-67ff-48c4-bc18-c5f655f1f528",
   "metadata": {},
   "outputs": [],
   "source": [
    "x_train, x_test, y_train, y_test = train_test_split(x, y, test_size=0.2, random_state=42)"
   ]
  },
  {
   "cell_type": "code",
   "execution_count": 12,
   "id": "01380871-b222-4740-ba17-9b265e2310ab",
   "metadata": {},
   "outputs": [],
   "source": [
    "model=Sequential()\n",
    "model.add(Input(shape=(30,30,3)))\n",
    "model.add(Conv2D(32,kernel_size=(3,3),activation='relu'))\n",
    "model.add(MaxPooling2D(pool_size=(2,2)))\n",
    "model.add(BatchNormalization())\n",
    "model.add(Dropout(0.25)) # Burada 'rate' parametresini belirtiyoruz\n",
    "model.add(Conv2D(64,kernel_size=(3,3),activation='relu'))\n",
    "model.add(MaxPooling2D(pool_size=(2,2)))\n",
    "model.add(Flatten())\n",
    "model.add(Dense(128))\n",
    "model.add(Dense(43, activation='softmax')) # 10 fakli cevap classification 0-9 a kadar olan rakamlar\n",
    "model.compile(optimizer='adam',loss='sparse_categorical_crossentropy',metrics=['accuracy'])\n"
   ]
  },
  {
   "cell_type": "code",
   "execution_count": 13,
   "id": "48183bd2-51b9-4226-bf22-f6cd7c187424",
   "metadata": {},
   "outputs": [
    {
     "name": "stdout",
     "output_type": "stream",
     "text": [
      "Epoch 1/15\n",
      "\u001b[1m981/981\u001b[0m \u001b[32m━━━━━━━━━━━━━━━━━━━━\u001b[0m\u001b[37m\u001b[0m \u001b[1m8s\u001b[0m 7ms/step - accuracy: 0.6471 - loss: 1.3503 - val_accuracy: 0.9637 - val_loss: 0.1630\n",
      "Epoch 2/15\n",
      "\u001b[1m981/981\u001b[0m \u001b[32m━━━━━━━━━━━━━━━━━━━━\u001b[0m\u001b[37m\u001b[0m \u001b[1m6s\u001b[0m 6ms/step - accuracy: 0.9636 - loss: 0.1281 - val_accuracy: 0.9760 - val_loss: 0.0893\n",
      "Epoch 3/15\n",
      "\u001b[1m981/981\u001b[0m \u001b[32m━━━━━━━━━━━━━━━━━━━━\u001b[0m\u001b[37m\u001b[0m \u001b[1m6s\u001b[0m 6ms/step - accuracy: 0.9760 - loss: 0.0831 - val_accuracy: 0.9843 - val_loss: 0.0532\n",
      "Epoch 4/15\n",
      "\u001b[1m981/981\u001b[0m \u001b[32m━━━━━━━━━━━━━━━━━━━━\u001b[0m\u001b[37m\u001b[0m \u001b[1m6s\u001b[0m 6ms/step - accuracy: 0.9799 - loss: 0.0707 - val_accuracy: 0.9824 - val_loss: 0.0662\n",
      "Epoch 5/15\n",
      "\u001b[1m981/981\u001b[0m \u001b[32m━━━━━━━━━━━━━━━━━━━━\u001b[0m\u001b[37m\u001b[0m \u001b[1m6s\u001b[0m 6ms/step - accuracy: 0.9825 - loss: 0.0602 - val_accuracy: 0.9898 - val_loss: 0.0418\n",
      "Epoch 6/15\n",
      "\u001b[1m981/981\u001b[0m \u001b[32m━━━━━━━━━━━━━━━━━━━━\u001b[0m\u001b[37m\u001b[0m \u001b[1m6s\u001b[0m 6ms/step - accuracy: 0.9856 - loss: 0.0516 - val_accuracy: 0.9596 - val_loss: 0.1964\n",
      "Epoch 7/15\n",
      "\u001b[1m981/981\u001b[0m \u001b[32m━━━━━━━━━━━━━━━━━━━━\u001b[0m\u001b[37m\u001b[0m \u001b[1m6s\u001b[0m 6ms/step - accuracy: 0.9817 - loss: 0.0651 - val_accuracy: 0.9832 - val_loss: 0.0814\n",
      "Epoch 8/15\n",
      "\u001b[1m981/981\u001b[0m \u001b[32m━━━━━━━━━━━━━━━━━━━━\u001b[0m\u001b[37m\u001b[0m \u001b[1m6s\u001b[0m 6ms/step - accuracy: 0.9885 - loss: 0.0426 - val_accuracy: 0.9917 - val_loss: 0.0494\n",
      "Epoch 9/15\n",
      "\u001b[1m981/981\u001b[0m \u001b[32m━━━━━━━━━━━━━━━━━━━━\u001b[0m\u001b[37m\u001b[0m \u001b[1m6s\u001b[0m 6ms/step - accuracy: 0.9886 - loss: 0.0448 - val_accuracy: 0.9832 - val_loss: 0.0756\n",
      "Epoch 10/15\n",
      "\u001b[1m981/981\u001b[0m \u001b[32m━━━━━━━━━━━━━━━━━━━━\u001b[0m\u001b[37m\u001b[0m \u001b[1m6s\u001b[0m 6ms/step - accuracy: 0.9895 - loss: 0.0389 - val_accuracy: 0.9895 - val_loss: 0.0451\n",
      "Epoch 11/15\n",
      "\u001b[1m981/981\u001b[0m \u001b[32m━━━━━━━━━━━━━━━━━━━━\u001b[0m\u001b[37m\u001b[0m \u001b[1m6s\u001b[0m 6ms/step - accuracy: 0.9892 - loss: 0.0431 - val_accuracy: 0.9912 - val_loss: 0.0429\n",
      "Epoch 12/15\n",
      "\u001b[1m981/981\u001b[0m \u001b[32m━━━━━━━━━━━━━━━━━━━━\u001b[0m\u001b[37m\u001b[0m \u001b[1m6s\u001b[0m 6ms/step - accuracy: 0.9912 - loss: 0.0385 - val_accuracy: 0.9872 - val_loss: 0.0545\n",
      "Epoch 13/15\n",
      "\u001b[1m981/981\u001b[0m \u001b[32m━━━━━━━━━━━━━━━━━━━━\u001b[0m\u001b[37m\u001b[0m \u001b[1m6s\u001b[0m 6ms/step - accuracy: 0.9911 - loss: 0.0330 - val_accuracy: 0.9936 - val_loss: 0.0443\n",
      "Epoch 14/15\n",
      "\u001b[1m981/981\u001b[0m \u001b[32m━━━━━━━━━━━━━━━━━━━━\u001b[0m\u001b[37m\u001b[0m \u001b[1m6s\u001b[0m 6ms/step - accuracy: 0.9925 - loss: 0.0335 - val_accuracy: 0.9881 - val_loss: 0.0739\n",
      "Epoch 15/15\n",
      "\u001b[1m981/981\u001b[0m \u001b[32m━━━━━━━━━━━━━━━━━━━━\u001b[0m\u001b[37m\u001b[0m \u001b[1m6s\u001b[0m 6ms/step - accuracy: 0.9913 - loss: 0.0409 - val_accuracy: 0.9944 - val_loss: 0.0406\n"
     ]
    }
   ],
   "source": [
    "history=model.fit(x_train,y_train,validation_data=(x_test,y_test),epochs=15,verbose=1)"
   ]
  },
  {
   "cell_type": "code",
   "execution_count": 15,
   "id": "c3334a39-b183-4d1f-a7ea-5cd7a1c72001",
   "metadata": {},
   "outputs": [
    {
     "name": "stdout",
     "output_type": "stream",
     "text": [
      "\u001b[1m246/246\u001b[0m \u001b[32m━━━━━━━━━━━━━━━━━━━━\u001b[0m\u001b[37m\u001b[0m \u001b[1m1s\u001b[0m 2ms/step - accuracy: 0.9953 - loss: 0.0422\n"
     ]
    }
   ],
   "source": [
    "loss,accuracy=model.evaluate(x_test,y_test)"
   ]
  },
  {
   "cell_type": "code",
   "execution_count": 14,
   "id": "fa616ddf-4c17-4316-8009-e67ec9a5a928",
   "metadata": {},
   "outputs": [
    {
     "name": "stderr",
     "output_type": "stream",
     "text": [
      "WARNING:absl:You are saving your model as an HDF5 file via `model.save()` or `keras.saving.save_model(model)`. This file format is considered legacy. We recommend using instead the native Keras format, e.g. `model.save('my_model.keras')` or `keras.saving.save_model(model, 'my_model.keras')`. \n"
     ]
    }
   ],
   "source": [
    "model.save(\"traffic_model.h5\")"
   ]
  },
  {
   "cell_type": "code",
   "execution_count": null,
   "id": "89144c60-b822-48db-a5df-6104ee737c2d",
   "metadata": {},
   "outputs": [],
   "source": []
  }
 ],
 "metadata": {
  "kernelspec": {
   "display_name": "Python 3 (ipykernel)",
   "language": "python",
   "name": "python3"
  },
  "language_info": {
   "codemirror_mode": {
    "name": "ipython",
    "version": 3
   },
   "file_extension": ".py",
   "mimetype": "text/x-python",
   "name": "python",
   "nbconvert_exporter": "python",
   "pygments_lexer": "ipython3",
   "version": "3.12.4"
  }
 },
 "nbformat": 4,
 "nbformat_minor": 5
}
